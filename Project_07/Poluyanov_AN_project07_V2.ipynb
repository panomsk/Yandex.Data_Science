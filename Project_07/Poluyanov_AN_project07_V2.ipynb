{
 "cells": [
  {
   "cell_type": "markdown",
   "metadata": {
    "toc": true
   },
   "source": [
    "<h1>Содержание<span class=\"tocSkip\"></span></h1>\n",
    "<div class=\"toc\"><ul class=\"toc-item\"><li><span><a href=\"#Подготовка-данных\" data-toc-modified-id=\"Подготовка-данных-1\"><span class=\"toc-item-num\">1&nbsp;&nbsp;</span>Подготовка данных</a></span><ul class=\"toc-item\"><li><span><a href=\"#Загрузка-и-предварительный-анализ-данных\" data-toc-modified-id=\"Загрузка-и-предварительный-анализ-данных-1.1\"><span class=\"toc-item-num\">1.1&nbsp;&nbsp;</span>Загрузка и предварительный анализ данных</a></span></li><li><span><a href=\"#Подготовка-данных\" data-toc-modified-id=\"Подготовка-данных-1.2\"><span class=\"toc-item-num\">1.2&nbsp;&nbsp;</span>Подготовка данных</a></span></li><li><span><a href=\"#Выводы\" data-toc-modified-id=\"Выводы-1.3\"><span class=\"toc-item-num\">1.3&nbsp;&nbsp;</span>Выводы</a></span></li></ul></li><li><span><a href=\"#Исследование-задачи\" data-toc-modified-id=\"Исследование-задачи-2\"><span class=\"toc-item-num\">2&nbsp;&nbsp;</span>Исследование задачи</a></span><ul class=\"toc-item\"><li><span><a href=\"#Логистическая-регрессия\" data-toc-modified-id=\"Логистическая-регрессия-2.1\"><span class=\"toc-item-num\">2.1&nbsp;&nbsp;</span>Логистическая регрессия</a></span></li><li><span><a href=\"#Дерево-решений\" data-toc-modified-id=\"Дерево-решений-2.2\"><span class=\"toc-item-num\">2.2&nbsp;&nbsp;</span>Дерево решений</a></span></li><li><span><a href=\"#Случайный-лес\" data-toc-modified-id=\"Случайный-лес-2.3\"><span class=\"toc-item-num\">2.3&nbsp;&nbsp;</span>Случайный лес</a></span></li><li><span><a href=\"#Выводы\" data-toc-modified-id=\"Выводы-2.4\"><span class=\"toc-item-num\">2.4&nbsp;&nbsp;</span>Выводы</a></span></li></ul></li><li><span><a href=\"#Борьба-с-дисбалансом\" data-toc-modified-id=\"Борьба-с-дисбалансом-3\"><span class=\"toc-item-num\">3&nbsp;&nbsp;</span>Борьба с дисбалансом</a></span><ul class=\"toc-item\"><li><span><a href=\"#Использование-при-обучении-параметра-(class_weight='balanced')\" data-toc-modified-id=\"Использование-при-обучении-параметра-(class_weight='balanced')-3.1\"><span class=\"toc-item-num\">3.1&nbsp;&nbsp;</span>Использование при обучении параметра (class_weight='balanced')</a></span></li><li><span><a href=\"#Upsampling\" data-toc-modified-id=\"Upsampling-3.2\"><span class=\"toc-item-num\">3.2&nbsp;&nbsp;</span>Upsampling</a></span></li><li><span><a href=\"#Downsampling\" data-toc-modified-id=\"Downsampling-3.3\"><span class=\"toc-item-num\">3.3&nbsp;&nbsp;</span>Downsampling</a></span></li><li><span><a href=\"#Выводы\" data-toc-modified-id=\"Выводы-3.4\"><span class=\"toc-item-num\">3.4&nbsp;&nbsp;</span>Выводы</a></span></li></ul></li><li><span><a href=\"#Тестирование-модели\" data-toc-modified-id=\"Тестирование-модели-4\"><span class=\"toc-item-num\">4&nbsp;&nbsp;</span>Тестирование модели</a></span><ul class=\"toc-item\"><li><span><a href=\"#Выводы\" data-toc-modified-id=\"Выводы-4.1\"><span class=\"toc-item-num\">4.1&nbsp;&nbsp;</span>Выводы</a></span></li></ul></li><li><span><a href=\"#Общий-вывод-по-проекту\" data-toc-modified-id=\"Общий-вывод-по-проекту-5\"><span class=\"toc-item-num\">5&nbsp;&nbsp;</span>Общий вывод по проекту</a></span></li><li><span><a href=\"#Чек-лист-готовности-проекта\" data-toc-modified-id=\"Чек-лист-готовности-проекта-6\"><span class=\"toc-item-num\">6&nbsp;&nbsp;</span>Чек-лист готовности проекта</a></span></li></ul></div>"
   ]
  },
  {
   "cell_type": "markdown",
   "metadata": {},
   "source": [
    "# Отток клиентов"
   ]
  },
  {
   "cell_type": "markdown",
   "metadata": {},
   "source": [
    "Из «Бета-Банка» стали уходить клиенты. Каждый месяц. Немного, но заметно. Банковские маркетологи посчитали: сохранять текущих клиентов дешевле, чем привлекать новых.\n",
    "\n",
    "Нужно спрогнозировать, уйдёт клиент из банка в ближайшее время или нет. Вам предоставлены исторические данные о поведении клиентов и расторжении договоров с банком. \n",
    "\n",
    "Постройте модель с предельно большим значением *F1*-меры. Чтобы сдать проект успешно, нужно довести метрику до 0.59. Проверьте *F1*-меру на тестовой выборке самостоятельно.\n",
    "\n",
    "Дополнительно измеряйте *AUC-ROC*, сравнивайте её значение с *F1*-мерой.\n",
    "\n",
    "Источник данных: [https://www.kaggle.com/barelydedicated/bank-customer-churn-modeling](https://www.kaggle.com/barelydedicated/bank-customer-churn-modeling)"
   ]
  },
  {
   "cell_type": "markdown",
   "metadata": {},
   "source": [
    "**Описание данных**   \n",
    "**Признаки**  \n",
    "•\tRowNumber — индекс строки в данных  \n",
    "•\tCustomerId — уникальный идентификатор клиента  \n",
    "•\tSurname — фамилия  \n",
    "•\tCreditScore — кредитный рейтинг  \n",
    "•\tGeography — страна проживания  \n",
    "•\tGender — пол  \n",
    "•\tAge — возраст  \n",
    "•\tTenure — сколько лет человек является клиентом банка  \n",
    "•\tBalance — баланс на счёте  \n",
    "•\tNumOfProducts — количество продуктов банка, используемых клиентом  \n",
    "•\tHasCrCard — наличие кредитной карты  \n",
    "•\tIsActiveMember — активность клиента  \n",
    "•\tEstimatedSalary — предполагаемая зарплата  \n",
    "**Целевой признак**  \n",
    "•\tExited — факт ухода клиент  "
   ]
  },
  {
   "cell_type": "markdown",
   "metadata": {},
   "source": [
    "## Подготовка данных"
   ]
  },
  {
   "cell_type": "markdown",
   "metadata": {},
   "source": [
    "### Загрузка и предварительный анализ данных"
   ]
  },
  {
   "cell_type": "code",
   "execution_count": 1,
   "metadata": {},
   "outputs": [],
   "source": [
    "#подключение библиотек, используемых в проекте\n",
    "import pandas as pd\n",
    "import numpy as np\n",
    "import matplotlib.pyplot as plt\n",
    "import seaborn as sb\n",
    "from sklearn.ensemble import RandomForestClassifier\n",
    "from sklearn.linear_model import LogisticRegression\n",
    "from sklearn.tree import DecisionTreeClassifier\n",
    "from sklearn.model_selection import train_test_split\n",
    "from sklearn.dummy import DummyClassifier\n",
    "from sklearn.preprocessing import StandardScaler\n",
    "from sklearn.metrics import accuracy_score, f1_score, roc_auc_score\n",
    "from sklearn.utils import shuffle\n",
    "from tqdm import tqdm\n",
    "\n",
    "pd.set_option('display.max_columns', None)\n",
    "pd.set_option('display.max_rows', None)"
   ]
  },
  {
   "cell_type": "code",
   "execution_count": 2,
   "metadata": {},
   "outputs": [],
   "source": [
    "try:\n",
    "    df = pd.read_csv('/datasets/Churn.csv')\n",
    "except:\n",
    "    df = pd.read_csv('datasets\\\\Churn.csv')"
   ]
  },
  {
   "cell_type": "code",
   "execution_count": 3,
   "metadata": {
    "scrolled": false
   },
   "outputs": [
    {
     "name": "stdout",
     "output_type": "stream",
     "text": [
      "<class 'pandas.core.frame.DataFrame'>\n",
      "RangeIndex: 10000 entries, 0 to 9999\n",
      "Data columns (total 14 columns):\n",
      "RowNumber          10000 non-null int64\n",
      "CustomerId         10000 non-null int64\n",
      "Surname            10000 non-null object\n",
      "CreditScore        10000 non-null int64\n",
      "Geography          10000 non-null object\n",
      "Gender             10000 non-null object\n",
      "Age                10000 non-null int64\n",
      "Tenure             9091 non-null float64\n",
      "Balance            10000 non-null float64\n",
      "NumOfProducts      10000 non-null int64\n",
      "HasCrCard          10000 non-null int64\n",
      "IsActiveMember     10000 non-null int64\n",
      "EstimatedSalary    10000 non-null float64\n",
      "Exited             10000 non-null int64\n",
      "dtypes: float64(3), int64(8), object(3)\n",
      "memory usage: 1.1+ MB\n"
     ]
    },
    {
     "data": {
      "text/html": [
       "<div>\n",
       "<style scoped>\n",
       "    .dataframe tbody tr th:only-of-type {\n",
       "        vertical-align: middle;\n",
       "    }\n",
       "\n",
       "    .dataframe tbody tr th {\n",
       "        vertical-align: top;\n",
       "    }\n",
       "\n",
       "    .dataframe thead th {\n",
       "        text-align: right;\n",
       "    }\n",
       "</style>\n",
       "<table border=\"1\" class=\"dataframe\">\n",
       "  <thead>\n",
       "    <tr style=\"text-align: right;\">\n",
       "      <th></th>\n",
       "      <th>RowNumber</th>\n",
       "      <th>CustomerId</th>\n",
       "      <th>Surname</th>\n",
       "      <th>CreditScore</th>\n",
       "      <th>Geography</th>\n",
       "      <th>Gender</th>\n",
       "      <th>Age</th>\n",
       "      <th>Tenure</th>\n",
       "      <th>Balance</th>\n",
       "      <th>NumOfProducts</th>\n",
       "      <th>HasCrCard</th>\n",
       "      <th>IsActiveMember</th>\n",
       "      <th>EstimatedSalary</th>\n",
       "      <th>Exited</th>\n",
       "    </tr>\n",
       "  </thead>\n",
       "  <tbody>\n",
       "    <tr>\n",
       "      <td>0</td>\n",
       "      <td>1</td>\n",
       "      <td>15634602</td>\n",
       "      <td>Hargrave</td>\n",
       "      <td>619</td>\n",
       "      <td>France</td>\n",
       "      <td>Female</td>\n",
       "      <td>42</td>\n",
       "      <td>2.0</td>\n",
       "      <td>0.00</td>\n",
       "      <td>1</td>\n",
       "      <td>1</td>\n",
       "      <td>1</td>\n",
       "      <td>101348.88</td>\n",
       "      <td>1</td>\n",
       "    </tr>\n",
       "    <tr>\n",
       "      <td>1</td>\n",
       "      <td>2</td>\n",
       "      <td>15647311</td>\n",
       "      <td>Hill</td>\n",
       "      <td>608</td>\n",
       "      <td>Spain</td>\n",
       "      <td>Female</td>\n",
       "      <td>41</td>\n",
       "      <td>1.0</td>\n",
       "      <td>83807.86</td>\n",
       "      <td>1</td>\n",
       "      <td>0</td>\n",
       "      <td>1</td>\n",
       "      <td>112542.58</td>\n",
       "      <td>0</td>\n",
       "    </tr>\n",
       "    <tr>\n",
       "      <td>2</td>\n",
       "      <td>3</td>\n",
       "      <td>15619304</td>\n",
       "      <td>Onio</td>\n",
       "      <td>502</td>\n",
       "      <td>France</td>\n",
       "      <td>Female</td>\n",
       "      <td>42</td>\n",
       "      <td>8.0</td>\n",
       "      <td>159660.80</td>\n",
       "      <td>3</td>\n",
       "      <td>1</td>\n",
       "      <td>0</td>\n",
       "      <td>113931.57</td>\n",
       "      <td>1</td>\n",
       "    </tr>\n",
       "    <tr>\n",
       "      <td>3</td>\n",
       "      <td>4</td>\n",
       "      <td>15701354</td>\n",
       "      <td>Boni</td>\n",
       "      <td>699</td>\n",
       "      <td>France</td>\n",
       "      <td>Female</td>\n",
       "      <td>39</td>\n",
       "      <td>1.0</td>\n",
       "      <td>0.00</td>\n",
       "      <td>2</td>\n",
       "      <td>0</td>\n",
       "      <td>0</td>\n",
       "      <td>93826.63</td>\n",
       "      <td>0</td>\n",
       "    </tr>\n",
       "    <tr>\n",
       "      <td>4</td>\n",
       "      <td>5</td>\n",
       "      <td>15737888</td>\n",
       "      <td>Mitchell</td>\n",
       "      <td>850</td>\n",
       "      <td>Spain</td>\n",
       "      <td>Female</td>\n",
       "      <td>43</td>\n",
       "      <td>2.0</td>\n",
       "      <td>125510.82</td>\n",
       "      <td>1</td>\n",
       "      <td>1</td>\n",
       "      <td>1</td>\n",
       "      <td>79084.10</td>\n",
       "      <td>0</td>\n",
       "    </tr>\n",
       "  </tbody>\n",
       "</table>\n",
       "</div>"
      ],
      "text/plain": [
       "   RowNumber  CustomerId   Surname  CreditScore Geography  Gender  Age  \\\n",
       "0          1    15634602  Hargrave          619    France  Female   42   \n",
       "1          2    15647311      Hill          608     Spain  Female   41   \n",
       "2          3    15619304      Onio          502    France  Female   42   \n",
       "3          4    15701354      Boni          699    France  Female   39   \n",
       "4          5    15737888  Mitchell          850     Spain  Female   43   \n",
       "\n",
       "   Tenure    Balance  NumOfProducts  HasCrCard  IsActiveMember  \\\n",
       "0     2.0       0.00              1          1               1   \n",
       "1     1.0   83807.86              1          0               1   \n",
       "2     8.0  159660.80              3          1               0   \n",
       "3     1.0       0.00              2          0               0   \n",
       "4     2.0  125510.82              1          1               1   \n",
       "\n",
       "   EstimatedSalary  Exited  \n",
       "0        101348.88       1  \n",
       "1        112542.58       0  \n",
       "2        113931.57       1  \n",
       "3         93826.63       0  \n",
       "4         79084.10       0  "
      ]
     },
     "metadata": {},
     "output_type": "display_data"
    },
    {
     "name": "stdout",
     "output_type": "stream",
     "text": [
      "Дубликатов в исходных данных:  0\n"
     ]
    }
   ],
   "source": [
    "df.info()\n",
    "display(df.head())\n",
    "print('Дубликатов в исходных данных: ',df.duplicated().sum())"
   ]
  },
  {
   "cell_type": "markdown",
   "metadata": {},
   "source": [
    "Есть пропуски в столбце Tenure, необходимо прямое кодирование категориальных признаков, масштабирование количественных признаков.\n",
    "Для начала посмотрим корреляцию, проанализируем распределение и статистические показатели признаков объектов в зависимости от значения целевого признака. "
   ]
  },
  {
   "cell_type": "markdown",
   "metadata": {},
   "source": [
    "Признаки RowNumber, CustomerId и Surname не будут использоваться для классификации, поэтому их можно удалить."
   ]
  },
  {
   "cell_type": "code",
   "execution_count": 4,
   "metadata": {},
   "outputs": [],
   "source": [
    "df = df.drop(['RowNumber', 'CustomerId', 'Surname'], axis=1)"
   ]
  },
  {
   "cell_type": "code",
   "execution_count": 5,
   "metadata": {
    "scrolled": false
   },
   "outputs": [
    {
     "data": {
      "text/plain": [
       "<matplotlib.axes._subplots.AxesSubplot at 0x7f6e54067350>"
      ]
     },
     "execution_count": 5,
     "metadata": {},
     "output_type": "execute_result"
    },
    {
     "data": {
      "image/png": "[encoded data removed]",
      "text/plain": [
       "<Figure size 864x720 with 2 Axes>"
      ]
     },
     "metadata": {
      "needs_background": "light"
     },
     "output_type": "display_data"
    }
   ],
   "source": [
    "plt.subplots(figsize=(12,10))\n",
    "sb.heatmap(df.corr(), cmap=\"YlGnBu\", annot=True)"
   ]
  },
  {
   "cell_type": "code",
   "execution_count": 6,
   "metadata": {},
   "outputs": [],
   "source": [
    "def hist_show(df, col, target_feature, bins=30):\n",
    "    ax = df[df[target_feature]==1].plot(kind='hist', histtype = 'step', y=col, color = 'red', alpha = 0.5, bins = bins, figsize=(8,6), linewidth = 2, density=True)\n",
    "    df[df[target_feature]==0].plot(kind='hist', histtype = 'step', y=col, color='green', ax=ax, alpha = 0.5, bins = bins, linewidth = 2, density=True)\n",
    "    ax.legend([target_feature+' = 1, '+col,target_feature+' = 0, '+col])"
   ]
  },
  {
   "cell_type": "markdown",
   "metadata": {},
   "source": [
    "Создадим списки с категориальными и количественными признаками"
   ]
  },
  {
   "cell_type": "code",
   "execution_count": 7,
   "metadata": {},
   "outputs": [],
   "source": [
    "numeric_col = ['CreditScore', 'Age', 'Balance', 'EstimatedSalary', 'Tenure', 'NumOfProducts']\n",
    "categorical_col = ['Geography', 'Gender', 'HasCrCard', 'IsActiveMember']\n",
    "target_col = 'Exited'"
   ]
  },
  {
   "cell_type": "code",
   "execution_count": 8,
   "metadata": {
    "scrolled": false
   },
   "outputs": [
    {
     "data": {
      "image/png": "[encoded data removed]",
      "text/plain": [
       "<Figure size 576x432 with 1 Axes>"
      ]
     },
     "metadata": {
      "needs_background": "light"
     },
     "output_type": "display_data"
    },
    {
     "data": {
      "image/png": "[encoded data removed]",
      "text/plain": [
       "<Figure size 576x432 with 1 Axes>"
      ]
     },
     "metadata": {
      "needs_background": "light"
     },
     "output_type": "display_data"
    },
    {
     "data": {
      "image/png": "[encoded data removed]",
      "text/plain": [
       "<Figure size 576x432 with 1 Axes>"
      ]
     },
     "metadata": {
      "needs_background": "light"
     },
     "output_type": "display_data"
    },
    {
     "data": {
      "image/png": "[encoded data removed]",
      "text/plain": [
       "<Figure size 576x432 with 1 Axes>"
      ]
     },
     "metadata": {
      "needs_background": "light"
     },
     "output_type": "display_data"
    },
    {
     "data": {
      "image/png": "[encoded data removed]",
      "text/plain": [
       "<Figure size 576x432 with 1 Axes>"
      ]
     },
     "metadata": {
      "needs_background": "light"
     },
     "output_type": "display_data"
    },
    {
     "data": {
      "image/png": "[encoded data removed]",
      "text/plain": [
       "<Figure size 576x432 with 1 Axes>"
      ]
     },
     "metadata": {
      "needs_background": "light"
     },
     "output_type": "display_data"
    }
   ],
   "source": [
    "for col in numeric_col:\n",
    "    hist_show(df, col, target_col)"
   ]
  },
  {
   "cell_type": "code",
   "execution_count": 9,
   "metadata": {
    "scrolled": false
   },
   "outputs": [
    {
     "data": {
      "image/png": "[encoded data removed]",
      "text/plain": [
       "<Figure size 432x288 with 1 Axes>"
      ]
     },
     "metadata": {
      "needs_background": "light"
     },
     "output_type": "display_data"
    },
    {
     "data": {
      "image/png": "[encoded data removed]",
      "text/plain": [
       "<Figure size 432x288 with 1 Axes>"
      ]
     },
     "metadata": {
      "needs_background": "light"
     },
     "output_type": "display_data"
    },
    {
     "data": {
      "image/png": "[encoded data removed]",
      "text/plain": [
       "<Figure size 432x288 with 1 Axes>"
      ]
     },
     "metadata": {
      "needs_background": "light"
     },
     "output_type": "display_data"
    },
    {
     "data": {
      "image/png": "[encoded data removed]",
      "text/plain": [
       "<Figure size 432x288 with 1 Axes>"
      ]
     },
     "metadata": {
      "needs_background": "light"
     },
     "output_type": "display_data"
    }
   ],
   "source": [
    "for col in categorical_col:\n",
    "    sb.countplot(data=df, x=col, hue=target_col)\n",
    "    plt.show()\n"
   ]
  },
  {
   "cell_type": "markdown",
   "metadata": {},
   "source": [
    "Судя по близкому к равномерному распределению по признаку 'Tenure' для обоих значений целевого признака, есть подозрение, что признак Tenure не поможет нам при обучении модели. Заполним пропуски случайным значением для избежания перекоса данных."
   ]
  },
  {
   "cell_type": "code",
   "execution_count": 10,
   "metadata": {
    "scrolled": true
   },
   "outputs": [
    {
     "name": "stdout",
     "output_type": "stream",
     "text": [
      "<class 'pandas.core.frame.DataFrame'>\n",
      "RangeIndex: 10000 entries, 0 to 9999\n",
      "Data columns (total 11 columns):\n",
      "CreditScore        10000 non-null int64\n",
      "Geography          10000 non-null object\n",
      "Gender             10000 non-null object\n",
      "Age                10000 non-null int64\n",
      "Tenure             10000 non-null float64\n",
      "Balance            10000 non-null float64\n",
      "NumOfProducts      10000 non-null int64\n",
      "HasCrCard          10000 non-null int64\n",
      "IsActiveMember     10000 non-null int64\n",
      "EstimatedSalary    10000 non-null float64\n",
      "Exited             10000 non-null int64\n",
      "dtypes: float64(3), int64(6), object(2)\n",
      "memory usage: 859.5+ KB\n"
     ]
    }
   ],
   "source": [
    "np.random.seed(42)\n",
    "df['Tenure'] = df['Tenure'].fillna(pd.Series(np.random.randint(0, 11, 10000)))\n",
    "df.info()"
   ]
  },
  {
   "cell_type": "code",
   "execution_count": 11,
   "metadata": {},
   "outputs": [
    {
     "name": "stdout",
     "output_type": "stream",
     "text": [
      "Объекты класса 1  2037 объектов, что составляет 20.37 % от общей выборки\n",
      "Объекты класса 0  7963 объектов, что составляет 79.63 % от общей выборки\n"
     ]
    }
   ],
   "source": [
    "objects_count = df.shape[0]\n",
    "objects_count_1 = df[df[target_col]==1].shape[0]\n",
    "objects_count_0 = df[df[target_col]==0].shape[0]\n",
    "print('Объекты класса 1 ', objects_count_1, 'объектов, что составляет', round(100*objects_count_1/objects_count,2), '% от общей выборки')\n",
    "print('Объекты класса 0 ', objects_count_0, 'объектов, что составляет', round(100*objects_count_0/objects_count,2), '% от общей выборки')"
   ]
  },
  {
   "cell_type": "markdown",
   "metadata": {},
   "source": [
    "### Подготовка данных"
   ]
  },
  {
   "cell_type": "markdown",
   "metadata": {},
   "source": [
    "Прямое кодирование категориальных переменных"
   ]
  },
  {
   "cell_type": "code",
   "execution_count": 12,
   "metadata": {
    "scrolled": true
   },
   "outputs": [
    {
     "data": {
      "text/html": [
       "<div>\n",
       "<style scoped>\n",
       "    .dataframe tbody tr th:only-of-type {\n",
       "        vertical-align: middle;\n",
       "    }\n",
       "\n",
       "    .dataframe tbody tr th {\n",
       "        vertical-align: top;\n",
       "    }\n",
       "\n",
       "    .dataframe thead th {\n",
       "        text-align: right;\n",
       "    }\n",
       "</style>\n",
       "<table border=\"1\" class=\"dataframe\">\n",
       "  <thead>\n",
       "    <tr style=\"text-align: right;\">\n",
       "      <th></th>\n",
       "      <th>CreditScore</th>\n",
       "      <th>Age</th>\n",
       "      <th>Tenure</th>\n",
       "      <th>Balance</th>\n",
       "      <th>NumOfProducts</th>\n",
       "      <th>HasCrCard</th>\n",
       "      <th>IsActiveMember</th>\n",
       "      <th>EstimatedSalary</th>\n",
       "      <th>Exited</th>\n",
       "      <th>Geography_Germany</th>\n",
       "      <th>Geography_Spain</th>\n",
       "      <th>Gender_Male</th>\n",
       "    </tr>\n",
       "  </thead>\n",
       "  <tbody>\n",
       "    <tr>\n",
       "      <td>0</td>\n",
       "      <td>619</td>\n",
       "      <td>42</td>\n",
       "      <td>2.0</td>\n",
       "      <td>0.00</td>\n",
       "      <td>1</td>\n",
       "      <td>1</td>\n",
       "      <td>1</td>\n",
       "      <td>101348.88</td>\n",
       "      <td>1</td>\n",
       "      <td>0</td>\n",
       "      <td>0</td>\n",
       "      <td>0</td>\n",
       "    </tr>\n",
       "    <tr>\n",
       "      <td>1</td>\n",
       "      <td>608</td>\n",
       "      <td>41</td>\n",
       "      <td>1.0</td>\n",
       "      <td>83807.86</td>\n",
       "      <td>1</td>\n",
       "      <td>0</td>\n",
       "      <td>1</td>\n",
       "      <td>112542.58</td>\n",
       "      <td>0</td>\n",
       "      <td>0</td>\n",
       "      <td>1</td>\n",
       "      <td>0</td>\n",
       "    </tr>\n",
       "    <tr>\n",
       "      <td>2</td>\n",
       "      <td>502</td>\n",
       "      <td>42</td>\n",
       "      <td>8.0</td>\n",
       "      <td>159660.80</td>\n",
       "      <td>3</td>\n",
       "      <td>1</td>\n",
       "      <td>0</td>\n",
       "      <td>113931.57</td>\n",
       "      <td>1</td>\n",
       "      <td>0</td>\n",
       "      <td>0</td>\n",
       "      <td>0</td>\n",
       "    </tr>\n",
       "    <tr>\n",
       "      <td>3</td>\n",
       "      <td>699</td>\n",
       "      <td>39</td>\n",
       "      <td>1.0</td>\n",
       "      <td>0.00</td>\n",
       "      <td>2</td>\n",
       "      <td>0</td>\n",
       "      <td>0</td>\n",
       "      <td>93826.63</td>\n",
       "      <td>0</td>\n",
       "      <td>0</td>\n",
       "      <td>0</td>\n",
       "      <td>0</td>\n",
       "    </tr>\n",
       "    <tr>\n",
       "      <td>4</td>\n",
       "      <td>850</td>\n",
       "      <td>43</td>\n",
       "      <td>2.0</td>\n",
       "      <td>125510.82</td>\n",
       "      <td>1</td>\n",
       "      <td>1</td>\n",
       "      <td>1</td>\n",
       "      <td>79084.10</td>\n",
       "      <td>0</td>\n",
       "      <td>0</td>\n",
       "      <td>1</td>\n",
       "      <td>0</td>\n",
       "    </tr>\n",
       "  </tbody>\n",
       "</table>\n",
       "</div>"
      ],
      "text/plain": [
       "   CreditScore  Age  Tenure    Balance  NumOfProducts  HasCrCard  \\\n",
       "0          619   42     2.0       0.00              1          1   \n",
       "1          608   41     1.0   83807.86              1          0   \n",
       "2          502   42     8.0  159660.80              3          1   \n",
       "3          699   39     1.0       0.00              2          0   \n",
       "4          850   43     2.0  125510.82              1          1   \n",
       "\n",
       "   IsActiveMember  EstimatedSalary  Exited  Geography_Germany  \\\n",
       "0               1        101348.88       1                  0   \n",
       "1               1        112542.58       0                  0   \n",
       "2               0        113931.57       1                  0   \n",
       "3               0         93826.63       0                  0   \n",
       "4               1         79084.10       0                  0   \n",
       "\n",
       "   Geography_Spain  Gender_Male  \n",
       "0                0            0  \n",
       "1                1            0  \n",
       "2                0            0  \n",
       "3                0            0  \n",
       "4                1            0  "
      ]
     },
     "execution_count": 12,
     "metadata": {},
     "output_type": "execute_result"
    }
   ],
   "source": [
    "df = pd.get_dummies(df, drop_first=True)\n",
    "df.head()"
   ]
  },
  {
   "cell_type": "markdown",
   "metadata": {},
   "source": [
    "Исходные данные необходимо разбить на 3 выборки:    \n",
    "- Обучающую (train)\n",
    "- Валидационную (valid)    \n",
    "- Тестовую (test)    \n",
    "Обучающая выборка используется для обучения модели, валидационная выборка необходима для подбора гиперпараметров модели и позволяет бороться с переобучением. Тестовая выборка используется для проверки качества полученной модели, отобранной на валидационной выборке.    \n",
    "основное требование к тестовой выборки - она не должна никоим образом использоваться на этапе обучения и валидации модели, иначе полученные результаты будут некорректными.    \n",
    "Существуют разные подходы к пропорциям разбиения исходных данных: известный популяризатор машинного обучения, профессор Стэнфордского университета Andrew Ng на своих курсах рекомендует пропорцию 70-15-15, на курсе Яндекс.практикум рекомендуют разбиение 60-20-20.   \n",
    "Воспользуемся в данной работе пропорцией 60-20-20, но добавим возможность задавать требуемое значение по необходимости.    \n",
    "Для обеспечения повторяемости результатов исследования зададим random_state = 12345"
   ]
  },
  {
   "cell_type": "code",
   "execution_count": 13,
   "metadata": {},
   "outputs": [
    {
     "name": "stdout",
     "output_type": "stream",
     "text": [
      "Выполнено разбиение:\n",
      "Размер обучающей выборки = 6000\n",
      "Размер валидационной выборки = 2000\n",
      "Размер тестовой выборки = 2000\n"
     ]
    }
   ],
   "source": [
    "#параметры разбиения выборки\n",
    "test_size=0.2\n",
    "rnd_state=12345\n",
    "\n",
    "features = df.drop('Exited', axis=1)\n",
    "target = df['Exited']\n",
    "features_train, features_valid, target_train, target_valid = train_test_split(\n",
    "    features, target, test_size=2*test_size, random_state=rnd_state)\n",
    "features_valid, features_test, target_valid, target_test = train_test_split(\n",
    "    features_valid, target_valid, test_size=0.5, random_state=rnd_state)\n",
    "print('Выполнено разбиение:') \n",
    "print('Размер обучающей выборки =', len(target_train))\n",
    "print('Размер валидационной выборки =', len(target_valid))\n",
    "print('Размер тестовой выборки =', len(target_test))"
   ]
  },
  {
   "cell_type": "markdown",
   "metadata": {},
   "source": [
    "Проведем масштабирование количественных признаков"
   ]
  },
  {
   "cell_type": "code",
   "execution_count": 14,
   "metadata": {},
   "outputs": [
    {
     "name": "stderr",
     "output_type": "stream",
     "text": [
      "/opt/conda/lib/python3.7/site-packages/pandas/core/indexing.py:494: SettingWithCopyWarning: \n",
      "A value is trying to be set on a copy of a slice from a DataFrame.\n",
      "Try using .loc[row_indexer,col_indexer] = value instead\n",
      "\n",
      "See the caveats in the documentation: http://pandas.pydata.org/pandas-docs/stable/user_guide/indexing.html#returning-a-view-versus-a-copy\n",
      "  self.obj[item] = s\n"
     ]
    }
   ],
   "source": [
    "scaler = StandardScaler()\n",
    "scaler.fit(features_train[numeric_col])\n",
    "features_train.loc[:,numeric_col] = scaler.transform(features_train[numeric_col])\n",
    "features_valid.loc[:,numeric_col] = scaler.transform(features_valid[numeric_col])\n",
    "features_test.loc[:,numeric_col] = scaler.transform(features_test[numeric_col])"
   ]
  },
  {
   "cell_type": "markdown",
   "metadata": {},
   "source": [
    "### Выводы\n",
    "- Данные из файла Churn.csv загружены в dataframe с именем df.      \n",
    "- Набор данных состоит из 14 колонок и 10000 записей (объектов).      \n",
    "- Дубликаты в исходных данных отсутствуют.  \n",
    "- Признаки RowNumber, CustomerId и Surname удалены, т.к. не будут использоваться для классификации. \n",
    "- Объекты по целевому признаку в исходной выборке разделены в соотношении 1 к 4, т.е. наблюдается перекос в исходных данных.  \n",
    "- Проведено прямое кодирование категориальных переменных.   \n",
    "- Исходная выборка разбита на обучающую, валидационную и тестовую выборки в пропорции 60-20-20.\n",
    "- Проведено масштабирование количественных признаков."
   ]
  },
  {
   "cell_type": "markdown",
   "metadata": {},
   "source": [
    "## Исследование задачи"
   ]
  },
  {
   "cell_type": "markdown",
   "metadata": {},
   "source": [
    "В качестве моделей для бинарной классификации используем логистическую регрессию, дерево решений и случайный лес.\n",
    "Заранее можно предположить, что случайный лес должен показать лучшие результаты исходя из того что эта модель более сложная и лучше может уловить зависимости в исходных данных - тут главное не переобучить, поэтому будем настраивать гиперпараметры моделей по валидационной выборке."
   ]
  },
  {
   "cell_type": "markdown",
   "metadata": {},
   "source": [
    "### Логистическая регрессия"
   ]
  },
  {
   "cell_type": "markdown",
   "metadata": {},
   "source": [
    "Предварительно проанализировав работу метода, в качестве настраиваемого гиперпараметра, который может повлиять на accuracy используем solver (метод поиска оптимальных коэффициентов)."
   ]
  },
  {
   "cell_type": "code",
   "execution_count": 15,
   "metadata": {},
   "outputs": [],
   "source": [
    "def logistic_regression(features_train, features_valid, target_train, target_valid, class_weight=None):\n",
    "    best_model_f1 = None\n",
    "    best_f1 = 0\n",
    "    best_model_roc_auc = None\n",
    "    best_roc_auc = 0\n",
    "    for solver in {'newton-cg', 'lbfgs', 'liblinear', 'sag', 'saga'}:\n",
    "        model = LogisticRegression(random_state=rnd_state, solver=solver, max_iter=5000, class_weight=class_weight)\n",
    "        model.fit(features_train, target_train)\n",
    "        predicted_valid = model.predict(features_valid)\n",
    "        \n",
    "        f1 = f1_score(target_valid, predicted_valid)\n",
    "        if f1 > best_f1:\n",
    "            best_model_f1 = model\n",
    "            best_f1 = f1\n",
    "            \n",
    "        roc_auc = roc_auc_score(target_valid, model.predict_proba(features_valid)[:, 1])\n",
    "        if roc_auc > best_roc_auc:\n",
    "            best_model_roc_auc = model\n",
    "            best_roc_auc = roc_auc\n",
    "            \n",
    "    print(\"LogisticRegression\")\n",
    "    print(\"--------------------------------------------\")\n",
    "    print(\"f1_score наилучшей модели на валидационной выборке:\", best_f1.round(3))\n",
    "    print(best_model_f1)\n",
    "    print(\"--------------------------------------------\")\n",
    "    print(\"ROC_AUC наилучшей модели на валидационной выборке:\", best_roc_auc.round(3))\n",
    "    print(best_model_roc_auc)\n",
    "    print(\"--------------------------------------------\")\n",
    "    "
   ]
  },
  {
   "cell_type": "code",
   "execution_count": 16,
   "metadata": {},
   "outputs": [
    {
     "name": "stdout",
     "output_type": "stream",
     "text": [
      "LogisticRegression\n",
      "--------------------------------------------\n",
      "f1_score наилучшей модели на валидационной выборке: 0.334\n",
      "LogisticRegression(C=1.0, class_weight=None, dual=False, fit_intercept=True,\n",
      "                   intercept_scaling=1, l1_ratio=None, max_iter=5000,\n",
      "                   multi_class='warn', n_jobs=None, penalty='l2',\n",
      "                   random_state=12345, solver='saga', tol=0.0001, verbose=0,\n",
      "                   warm_start=False)\n",
      "--------------------------------------------\n",
      "ROC_AUC наилучшей модели на валидационной выборке: 0.759\n",
      "LogisticRegression(C=1.0, class_weight=None, dual=False, fit_intercept=True,\n",
      "                   intercept_scaling=1, l1_ratio=None, max_iter=5000,\n",
      "                   multi_class='warn', n_jobs=None, penalty='l2',\n",
      "                   random_state=12345, solver='lbfgs', tol=0.0001, verbose=0,\n",
      "                   warm_start=False)\n",
      "--------------------------------------------\n"
     ]
    }
   ],
   "source": [
    "logistic_regression(features_train, features_valid, target_train, target_valid)"
   ]
  },
  {
   "cell_type": "markdown",
   "metadata": {},
   "source": [
    "### Дерево решений"
   ]
  },
  {
   "cell_type": "markdown",
   "metadata": {},
   "source": [
    "В качестве гиперпараметров модели будем использовать:    \n",
    "- criterion {gini, entropy} - функция для измерения качества разбиения    \n",
    "- splitter{'best', 'random'} - стратегия разбиения узлов    \n",
    "- max_depth - максимальная глубина дерева\n",
    "- min_samples_split - минимальное количество объектов для разбиения узла"
   ]
  },
  {
   "cell_type": "code",
   "execution_count": 17,
   "metadata": {},
   "outputs": [],
   "source": [
    "def decision_tree_classifier(features_train, features_valid, target_train, target_valid, class_weight=None):\n",
    "    best_model_f1 = None\n",
    "    best_f1 = 0\n",
    "    best_model_roc_auc = None\n",
    "    best_roc_auc = 0\n",
    "                \n",
    "    for criterion in {'gini', 'entropy'}:\n",
    "        for splitter in {'best', 'random'}:\n",
    "            for max_depth in range(2, 20, 1):\n",
    "                for min_samples_split in range(2, 10):\n",
    "                    model = DecisionTreeClassifier(random_state=rnd_state, criterion=criterion, splitter=splitter, max_depth=max_depth, min_samples_split=min_samples_split, class_weight=class_weight)\n",
    "                    model.fit(features_train,target_train)\n",
    "                    \n",
    "                    predicted_valid = model.predict(features_valid)\n",
    "        \n",
    "                    f1 = f1_score(target_valid, predicted_valid)\n",
    "                    if f1 > best_f1:\n",
    "                        best_model_f1 = model\n",
    "                        best_f1 = f1\n",
    "            \n",
    "                    roc_auc = roc_auc_score(target_valid, model.predict_proba(features_valid)[:, 1])\n",
    "                    if roc_auc > best_roc_auc:\n",
    "                        best_model_roc_auc = model\n",
    "                        best_roc_auc = roc_auc\n",
    "            \n",
    "    print(\"DecisionTreeClassifier\")\n",
    "    print(\"--------------------------------------------\")\n",
    "    print(\"f1_score наилучшей модели на валидационной выборке:\", best_f1.round(3))\n",
    "    print(best_model_f1)\n",
    "    print(\"--------------------------------------------\")\n",
    "    print(\"ROC_AUC наилучшей модели на валидационной выборке:\", best_roc_auc.round(3))\n",
    "    print(best_model_roc_auc)\n",
    "    print(\"--------------------------------------------\")"
   ]
  },
  {
   "cell_type": "code",
   "execution_count": 18,
   "metadata": {},
   "outputs": [
    {
     "name": "stdout",
     "output_type": "stream",
     "text": [
      "DecisionTreeClassifier\n",
      "--------------------------------------------\n",
      "f1_score наилучшей модели на валидационной выборке: 0.585\n",
      "DecisionTreeClassifier(class_weight=None, criterion='gini', max_depth=10,\n",
      "                       max_features=None, max_leaf_nodes=None,\n",
      "                       min_impurity_decrease=0.0, min_impurity_split=None,\n",
      "                       min_samples_leaf=1, min_samples_split=6,\n",
      "                       min_weight_fraction_leaf=0.0, presort=False,\n",
      "                       random_state=12345, splitter='random')\n",
      "--------------------------------------------\n",
      "ROC_AUC наилучшей модели на валидационной выборке: 0.834\n",
      "DecisionTreeClassifier(class_weight=None, criterion='gini', max_depth=6,\n",
      "                       max_features=None, max_leaf_nodes=None,\n",
      "                       min_impurity_decrease=0.0, min_impurity_split=None,\n",
      "                       min_samples_leaf=1, min_samples_split=2,\n",
      "                       min_weight_fraction_leaf=0.0, presort=False,\n",
      "                       random_state=12345, splitter='random')\n",
      "--------------------------------------------\n"
     ]
    }
   ],
   "source": [
    "decision_tree_classifier(features_train, features_valid, target_train, target_valid)"
   ]
  },
  {
   "cell_type": "markdown",
   "metadata": {},
   "source": [
    "### Случайный лес"
   ]
  },
  {
   "cell_type": "markdown",
   "metadata": {},
   "source": [
    "В качестве гиперпараметров модели будем использовать:    \n",
    "- criterion {gini, entropy} - функция для измерения качества разбиения    \n",
    "- n_estimators - количество деревьев в лесу    \n",
    "- max_depth - максимальная глубина дерева\n",
    "- min_samples_split - минимальное количество объектов для разбиения узла"
   ]
  },
  {
   "cell_type": "code",
   "execution_count": 19,
   "metadata": {},
   "outputs": [],
   "source": [
    "def random_forest_classifier(features_train, features_valid, target_train, target_valid, class_weight=None):\n",
    "    best_model_f1 = None\n",
    "    best_f1 = 0\n",
    "    best_model_roc_auc = None\n",
    "    best_roc_auc = 0\n",
    "                \n",
    "    #for max_depth in tqdm(range(1, 15, 1)):\n",
    "        #for n_estimators in range(10, 110, 10):\n",
    "            #for criterion in {'gini', 'entropy'}:\n",
    "    for max_depth in tqdm(range(10, 15, 1)):\n",
    "        for n_estimators in range(10, 50, 10):\n",
    "            for criterion in {'gini'}:\n",
    "                for min_samples_split in range(2, 5, 1):\n",
    "                    model = RandomForestClassifier(random_state=rnd_state, criterion=criterion, n_estimators=n_estimators, max_depth=max_depth, min_samples_split=min_samples_split, class_weight=class_weight)\n",
    "                    model.fit(features_train,target_train)\n",
    "                    \n",
    "                    predicted_valid = model.predict(features_valid)\n",
    "        \n",
    "                    f1 = f1_score(target_valid, predicted_valid)\n",
    "                    if f1 > best_f1:\n",
    "                        best_model_f1 = model\n",
    "                        best_f1 = f1\n",
    "            \n",
    "                    roc_auc = roc_auc_score(target_valid, model.predict_proba(features_valid)[:, 1])\n",
    "                    if roc_auc > best_roc_auc:\n",
    "                        best_model_roc_auc = model\n",
    "                        best_roc_auc = roc_auc\n",
    "            \n",
    "    print(\"RandomForestClassifier\")\n",
    "    print(\"--------------------------------------------\")\n",
    "    print(\"f1_score наилучшей модели на валидационной выборке:\", best_f1.round(3))\n",
    "    print(best_model_f1)\n",
    "    print(\"--------------------------------------------\")\n",
    "    print(\"ROC_AUC наилучшей модели на валидационной выборке:\", best_roc_auc.round(3))\n",
    "    print(best_model_roc_auc)\n",
    "    print(\"--------------------------------------------\")"
   ]
  },
  {
   "cell_type": "code",
   "execution_count": 20,
   "metadata": {},
   "outputs": [
    {
     "name": "stderr",
     "output_type": "stream",
     "text": [
      "100%|██████████| 5/5 [00:14<00:00,  2.88s/it]"
     ]
    },
    {
     "name": "stdout",
     "output_type": "stream",
     "text": [
      "RandomForestClassifier\n",
      "--------------------------------------------\n",
      "f1_score наилучшей модели на валидационной выборке: 0.597\n",
      "RandomForestClassifier(bootstrap=True, class_weight=None, criterion='gini',\n",
      "                       max_depth=13, max_features='auto', max_leaf_nodes=None,\n",
      "                       min_impurity_decrease=0.0, min_impurity_split=None,\n",
      "                       min_samples_leaf=1, min_samples_split=2,\n",
      "                       min_weight_fraction_leaf=0.0, n_estimators=10,\n",
      "                       n_jobs=None, oob_score=False, random_state=12345,\n",
      "                       verbose=0, warm_start=False)\n",
      "--------------------------------------------\n",
      "ROC_AUC наилучшей модели на валидационной выборке: 0.852\n",
      "RandomForestClassifier(bootstrap=True, class_weight=None, criterion='gini',\n",
      "                       max_depth=10, max_features='auto', max_leaf_nodes=None,\n",
      "                       min_impurity_decrease=0.0, min_impurity_split=None,\n",
      "                       min_samples_leaf=1, min_samples_split=4,\n",
      "                       min_weight_fraction_leaf=0.0, n_estimators=40,\n",
      "                       n_jobs=None, oob_score=False, random_state=12345,\n",
      "                       verbose=0, warm_start=False)\n",
      "--------------------------------------------\n"
     ]
    },
    {
     "name": "stderr",
     "output_type": "stream",
     "text": [
      "\n"
     ]
    }
   ],
   "source": [
    "random_forest_classifier(features_train, features_valid, target_train, target_valid)"
   ]
  },
  {
   "cell_type": "markdown",
   "metadata": {},
   "source": [
    "f1-score на валидационной выборке достиг нужного значения без борьбы с дисбаллансом классов.  \n",
    "Проверим модель на тестовых данных."
   ]
  },
  {
   "cell_type": "code",
   "execution_count": 21,
   "metadata": {},
   "outputs": [
    {
     "name": "stdout",
     "output_type": "stream",
     "text": [
      "RandomForestClassifier\n",
      "f1_score наилучшей модели на тестовой выборке: 0.54\n",
      "ROC_AUC наилучшей модели на тестовой выборке: 0.84\n"
     ]
    }
   ],
   "source": [
    "model = RandomForestClassifier(bootstrap=True, class_weight=None, criterion='gini',\n",
    "                       max_depth=13, max_features='auto', max_leaf_nodes=None,\n",
    "                       min_impurity_decrease=0.0, min_impurity_split=None,\n",
    "                       min_samples_leaf=1, min_samples_split=2,\n",
    "                       min_weight_fraction_leaf=0.0, n_estimators=10,\n",
    "                       n_jobs=None, oob_score=False, random_state=12345,\n",
    "                       verbose=0, warm_start=False)\n",
    "\n",
    "model.fit(features_train,target_train)\n",
    "predicted_test = model.predict(features_test)\n",
    "        \n",
    "f1 = f1_score(target_test, predicted_test)\n",
    "roc_auc = roc_auc_score(target_test, model.predict_proba(features_test)[:, 1])\n",
    "            \n",
    "print(\"RandomForestClassifier\")\n",
    "print(\"f1_score наилучшей модели на тестовой выборке:\", f1.round(2))\n",
    "print(\"ROC_AUC наилучшей модели на тестовой выборке:\", roc_auc.round(2))"
   ]
  },
  {
   "cell_type": "markdown",
   "metadata": {},
   "source": [
    "Предсказуемо, результаты на тестовых данных хуже чем на валидационных и нужного значения F1_score мы не достигли. Придется все-таки бороться с дисбаллансом классов."
   ]
  },
  {
   "cell_type": "markdown",
   "metadata": {},
   "source": [
    "### Выводы"
   ]
  },
  {
   "cell_type": "markdown",
   "metadata": {},
   "source": [
    "- Исследованы три модели машинного обучения для классификации: логистическая регрессия, дерево решений и случайный лес. Проведена настройка гиперпараметров моделей для подбора параметров с максимальным значением f1_score, auc_score на валидационной выборке.    \n",
    "- Наилучшие результаты f1_score = 0.6, roc_auc_score = 0.84 получены для модели RandomForestClassifier со следующими параметрами:\n",
    "       RandomForestClassifier(bootstrap=True, class_weight=None, criterion='gini',\n",
    "                       max_depth=13, max_features='auto', max_leaf_nodes=None,\n",
    "                       min_impurity_decrease=0.0, min_impurity_split=None,\n",
    "                       min_samples_leaf=1, min_samples_split=2,\n",
    "                       min_weight_fraction_leaf=0.0, n_estimators=10,\n",
    "                       n_jobs=None, oob_score=False, random_state=12345,\n",
    "                       verbose=0, warm_start=False)\n",
    "                       \n",
    "- Предсказуемо, результаты на тестовых данных оказались хуже чем на валидационных и нужного значения F1_score мы не достигли. Будем бороться с дисбаллансом классов.\n",
    " "
   ]
  },
  {
   "cell_type": "markdown",
   "metadata": {},
   "source": [
    "## Борьба с дисбалансом"
   ]
  },
  {
   "cell_type": "markdown",
   "metadata": {},
   "source": [
    "С дисбаллансом можно бороться тремя методами:  \n",
    "- Использование при обучении параметра (class_weight='balanced')\n",
    "- Upsampling\n",
    "- Downsampling  \n",
    "\n",
    "Протестируем все три метода и выберем метод, который лучше работает на наших данных"
   ]
  },
  {
   "cell_type": "markdown",
   "metadata": {},
   "source": [
    "### Использование при обучении параметра (class_weight='balanced')"
   ]
  },
  {
   "cell_type": "code",
   "execution_count": 22,
   "metadata": {},
   "outputs": [
    {
     "name": "stdout",
     "output_type": "stream",
     "text": [
      "LogisticRegression\n",
      "--------------------------------------------\n",
      "f1_score наилучшей модели на валидационной выборке: 0.487\n",
      "LogisticRegression(C=1.0, class_weight='balanced', dual=False,\n",
      "                   fit_intercept=True, intercept_scaling=1, l1_ratio=None,\n",
      "                   max_iter=5000, multi_class='warn', n_jobs=None, penalty='l2',\n",
      "                   random_state=12345, solver='saga', tol=0.0001, verbose=0,\n",
      "                   warm_start=False)\n",
      "--------------------------------------------\n",
      "ROC_AUC наилучшей модели на валидационной выборке: 0.764\n",
      "LogisticRegression(C=1.0, class_weight='balanced', dual=False,\n",
      "                   fit_intercept=True, intercept_scaling=1, l1_ratio=None,\n",
      "                   max_iter=5000, multi_class='warn', n_jobs=None, penalty='l2',\n",
      "                   random_state=12345, solver='liblinear', tol=0.0001,\n",
      "                   verbose=0, warm_start=False)\n",
      "--------------------------------------------\n"
     ]
    }
   ],
   "source": [
    "logistic_regression(features_train, features_valid, target_train, target_valid, class_weight='balanced')"
   ]
  },
  {
   "cell_type": "code",
   "execution_count": 23,
   "metadata": {},
   "outputs": [
    {
     "name": "stdout",
     "output_type": "stream",
     "text": [
      "DecisionTreeClassifier\n",
      "--------------------------------------------\n",
      "f1_score наилучшей модели на валидационной выборке: 0.598\n",
      "DecisionTreeClassifier(class_weight='balanced', criterion='entropy',\n",
      "                       max_depth=5, max_features=None, max_leaf_nodes=None,\n",
      "                       min_impurity_decrease=0.0, min_impurity_split=None,\n",
      "                       min_samples_leaf=1, min_samples_split=2,\n",
      "                       min_weight_fraction_leaf=0.0, presort=False,\n",
      "                       random_state=12345, splitter='best')\n",
      "--------------------------------------------\n",
      "ROC_AUC наилучшей модели на валидационной выборке: 0.837\n",
      "DecisionTreeClassifier(class_weight='balanced', criterion='entropy',\n",
      "                       max_depth=8, max_features=None, max_leaf_nodes=None,\n",
      "                       min_impurity_decrease=0.0, min_impurity_split=None,\n",
      "                       min_samples_leaf=1, min_samples_split=7,\n",
      "                       min_weight_fraction_leaf=0.0, presort=False,\n",
      "                       random_state=12345, splitter='random')\n",
      "--------------------------------------------\n"
     ]
    }
   ],
   "source": [
    "decision_tree_classifier(features_train, features_valid, target_train, target_valid, class_weight='balanced')"
   ]
  },
  {
   "cell_type": "code",
   "execution_count": 24,
   "metadata": {},
   "outputs": [
    {
     "name": "stderr",
     "output_type": "stream",
     "text": [
      "100%|██████████| 5/5 [00:15<00:00,  3.10s/it]"
     ]
    },
    {
     "name": "stdout",
     "output_type": "stream",
     "text": [
      "RandomForestClassifier\n",
      "--------------------------------------------\n",
      "f1_score наилучшей модели на валидационной выборке: 0.622\n",
      "RandomForestClassifier(bootstrap=True, class_weight='balanced',\n",
      "                       criterion='gini', max_depth=10, max_features='auto',\n",
      "                       max_leaf_nodes=None, min_impurity_decrease=0.0,\n",
      "                       min_impurity_split=None, min_samples_leaf=1,\n",
      "                       min_samples_split=4, min_weight_fraction_leaf=0.0,\n",
      "                       n_estimators=40, n_jobs=None, oob_score=False,\n",
      "                       random_state=12345, verbose=0, warm_start=False)\n",
      "--------------------------------------------\n",
      "ROC_AUC наилучшей модели на валидационной выборке: 0.849\n",
      "RandomForestClassifier(bootstrap=True, class_weight='balanced',\n",
      "                       criterion='gini', max_depth=12, max_features='auto',\n",
      "                       max_leaf_nodes=None, min_impurity_decrease=0.0,\n",
      "                       min_impurity_split=None, min_samples_leaf=1,\n",
      "                       min_samples_split=3, min_weight_fraction_leaf=0.0,\n",
      "                       n_estimators=40, n_jobs=None, oob_score=False,\n",
      "                       random_state=12345, verbose=0, warm_start=False)\n",
      "--------------------------------------------\n"
     ]
    },
    {
     "name": "stderr",
     "output_type": "stream",
     "text": [
      "\n"
     ]
    }
   ],
   "source": [
    "random_forest_classifier(features_train, features_valid, target_train, target_valid, class_weight='balanced')"
   ]
  },
  {
   "cell_type": "markdown",
   "metadata": {},
   "source": [
    "Как мы видим - результаты улучшились, проверим еще два метода борьбы с дисбаллансом и выберем лучшую на валидационной выборке модель"
   ]
  },
  {
   "cell_type": "markdown",
   "metadata": {},
   "source": [
    "### Upsampling"
   ]
  },
  {
   "cell_type": "markdown",
   "metadata": {},
   "source": [
    "Определим вспомогательную функцию для формирования выборок"
   ]
  },
  {
   "cell_type": "code",
   "execution_count": 25,
   "metadata": {},
   "outputs": [],
   "source": [
    "def upsample(features, target, repeat):\n",
    "    features_zeros = features[target == 0]\n",
    "    features_ones = features[target == 1]\n",
    "    target_zeros = target[target == 0]\n",
    "    target_ones = target[target == 1]\n",
    "    features_upsampled = pd.concat([features_zeros] + [features_ones] * repeat)\n",
    "    target_upsampled = pd.concat([target_zeros] + [target_ones] * repeat)\n",
    "    \n",
    "    features_upsampled, target_upsampled = shuffle(\n",
    "        features_upsampled, target_upsampled, random_state=rnd_state)\n",
    "    \n",
    "    return features_upsampled, target_upsampled"
   ]
  },
  {
   "cell_type": "markdown",
   "metadata": {},
   "source": [
    "В цикле по параметру repeat вызовем функцию обуччения для каждой из моделей"
   ]
  },
  {
   "cell_type": "code",
   "execution_count": 26,
   "metadata": {
    "scrolled": false
   },
   "outputs": [
    {
     "name": "stdout",
     "output_type": "stream",
     "text": [
      "<<<<<<<<<< REPEAT =  3 >>>>>>>>>>\n",
      "LogisticRegression\n",
      "--------------------------------------------\n",
      "f1_score наилучшей модели на валидационной выборке: 0.498\n",
      "LogisticRegression(C=1.0, class_weight=None, dual=False, fit_intercept=True,\n",
      "                   intercept_scaling=1, l1_ratio=None, max_iter=5000,\n",
      "                   multi_class='warn', n_jobs=None, penalty='l2',\n",
      "                   random_state=12345, solver='saga', tol=0.0001, verbose=0,\n",
      "                   warm_start=False)\n",
      "--------------------------------------------\n",
      "ROC_AUC наилучшей модели на валидационной выборке: 0.763\n",
      "LogisticRegression(C=1.0, class_weight=None, dual=False, fit_intercept=True,\n",
      "                   intercept_scaling=1, l1_ratio=None, max_iter=5000,\n",
      "                   multi_class='warn', n_jobs=None, penalty='l2',\n",
      "                   random_state=12345, solver='lbfgs', tol=0.0001, verbose=0,\n",
      "                   warm_start=False)\n",
      "--------------------------------------------\n",
      "\n",
      "<<<<<<<<<< REPEAT =  4 >>>>>>>>>>\n",
      "LogisticRegression\n",
      "--------------------------------------------\n",
      "f1_score наилучшей модели на валидационной выборке: 0.488\n",
      "LogisticRegression(C=1.0, class_weight=None, dual=False, fit_intercept=True,\n",
      "                   intercept_scaling=1, l1_ratio=None, max_iter=5000,\n",
      "                   multi_class='warn', n_jobs=None, penalty='l2',\n",
      "                   random_state=12345, solver='saga', tol=0.0001, verbose=0,\n",
      "                   warm_start=False)\n",
      "--------------------------------------------\n",
      "ROC_AUC наилучшей модели на валидационной выборке: 0.764\n",
      "LogisticRegression(C=1.0, class_weight=None, dual=False, fit_intercept=True,\n",
      "                   intercept_scaling=1, l1_ratio=None, max_iter=5000,\n",
      "                   multi_class='warn', n_jobs=None, penalty='l2',\n",
      "                   random_state=12345, solver='liblinear', tol=0.0001,\n",
      "                   verbose=0, warm_start=False)\n",
      "--------------------------------------------\n",
      "\n",
      "<<<<<<<<<< REPEAT =  5 >>>>>>>>>>\n",
      "LogisticRegression\n",
      "--------------------------------------------\n",
      "f1_score наилучшей модели на валидационной выборке: 0.485\n",
      "LogisticRegression(C=1.0, class_weight=None, dual=False, fit_intercept=True,\n",
      "                   intercept_scaling=1, l1_ratio=None, max_iter=5000,\n",
      "                   multi_class='warn', n_jobs=None, penalty='l2',\n",
      "                   random_state=12345, solver='saga', tol=0.0001, verbose=0,\n",
      "                   warm_start=False)\n",
      "--------------------------------------------\n",
      "ROC_AUC наилучшей модели на валидационной выборке: 0.764\n",
      "LogisticRegression(C=1.0, class_weight=None, dual=False, fit_intercept=True,\n",
      "                   intercept_scaling=1, l1_ratio=None, max_iter=5000,\n",
      "                   multi_class='warn', n_jobs=None, penalty='l2',\n",
      "                   random_state=12345, solver='liblinear', tol=0.0001,\n",
      "                   verbose=0, warm_start=False)\n",
      "--------------------------------------------\n",
      "\n"
     ]
    }
   ],
   "source": [
    "for repeat in range(3,6):\n",
    "    print('<<<<<<<<<< REPEAT = ', repeat, '>>>>>>>>>>')\n",
    "    features_train_balanced, target_train_balanced = upsample(features_train, target_train, repeat)\n",
    "    logistic_regression(features_train_balanced, features_valid, target_train_balanced, target_valid)\n",
    "    print()"
   ]
  },
  {
   "cell_type": "code",
   "execution_count": 27,
   "metadata": {},
   "outputs": [
    {
     "name": "stdout",
     "output_type": "stream",
     "text": [
      "<<<<<<<<<< REPEAT =  3 >>>>>>>>>>\n",
      "DecisionTreeClassifier\n",
      "--------------------------------------------\n",
      "f1_score наилучшей модели на валидационной выборке: 0.61\n",
      "DecisionTreeClassifier(class_weight=None, criterion='gini', max_depth=7,\n",
      "                       max_features=None, max_leaf_nodes=None,\n",
      "                       min_impurity_decrease=0.0, min_impurity_split=None,\n",
      "                       min_samples_leaf=1, min_samples_split=6,\n",
      "                       min_weight_fraction_leaf=0.0, presort=False,\n",
      "                       random_state=12345, splitter='random')\n",
      "--------------------------------------------\n",
      "ROC_AUC наилучшей модели на валидационной выборке: 0.834\n",
      "DecisionTreeClassifier(class_weight=None, criterion='entropy', max_depth=8,\n",
      "                       max_features=None, max_leaf_nodes=None,\n",
      "                       min_impurity_decrease=0.0, min_impurity_split=None,\n",
      "                       min_samples_leaf=1, min_samples_split=8,\n",
      "                       min_weight_fraction_leaf=0.0, presort=False,\n",
      "                       random_state=12345, splitter='random')\n",
      "--------------------------------------------\n",
      "\n",
      "<<<<<<<<<< REPEAT =  4 >>>>>>>>>>\n",
      "DecisionTreeClassifier\n",
      "--------------------------------------------\n",
      "f1_score наилучшей модели на валидационной выборке: 0.598\n",
      "DecisionTreeClassifier(class_weight=None, criterion='entropy', max_depth=5,\n",
      "                       max_features=None, max_leaf_nodes=None,\n",
      "                       min_impurity_decrease=0.0, min_impurity_split=None,\n",
      "                       min_samples_leaf=1, min_samples_split=2,\n",
      "                       min_weight_fraction_leaf=0.0, presort=False,\n",
      "                       random_state=12345, splitter='best')\n",
      "--------------------------------------------\n",
      "ROC_AUC наилучшей модели на валидационной выборке: 0.832\n",
      "DecisionTreeClassifier(class_weight=None, criterion='gini', max_depth=5,\n",
      "                       max_features=None, max_leaf_nodes=None,\n",
      "                       min_impurity_decrease=0.0, min_impurity_split=None,\n",
      "                       min_samples_leaf=1, min_samples_split=2,\n",
      "                       min_weight_fraction_leaf=0.0, presort=False,\n",
      "                       random_state=12345, splitter='best')\n",
      "--------------------------------------------\n",
      "\n",
      "<<<<<<<<<< REPEAT =  5 >>>>>>>>>>\n",
      "DecisionTreeClassifier\n",
      "--------------------------------------------\n",
      "f1_score наилучшей модели на валидационной выборке: 0.579\n",
      "DecisionTreeClassifier(class_weight=None, criterion='gini', max_depth=5,\n",
      "                       max_features=None, max_leaf_nodes=None,\n",
      "                       min_impurity_decrease=0.0, min_impurity_split=None,\n",
      "                       min_samples_leaf=1, min_samples_split=2,\n",
      "                       min_weight_fraction_leaf=0.0, presort=False,\n",
      "                       random_state=12345, splitter='random')\n",
      "--------------------------------------------\n",
      "ROC_AUC наилучшей модели на валидационной выборке: 0.832\n",
      "DecisionTreeClassifier(class_weight=None, criterion='entropy', max_depth=5,\n",
      "                       max_features=None, max_leaf_nodes=None,\n",
      "                       min_impurity_decrease=0.0, min_impurity_split=None,\n",
      "                       min_samples_leaf=1, min_samples_split=2,\n",
      "                       min_weight_fraction_leaf=0.0, presort=False,\n",
      "                       random_state=12345, splitter='best')\n",
      "--------------------------------------------\n",
      "\n"
     ]
    }
   ],
   "source": [
    "for repeat in range(3,6):\n",
    "    print('<<<<<<<<<< REPEAT = ', repeat, '>>>>>>>>>>')\n",
    "    features_train_balanced, target_train_balanced = upsample(features_train, target_train, repeat)\n",
    "    decision_tree_classifier(features_train_balanced, features_valid, target_train_balanced, target_valid)\n",
    "    print()"
   ]
  },
  {
   "cell_type": "code",
   "execution_count": 28,
   "metadata": {},
   "outputs": [
    {
     "name": "stderr",
     "output_type": "stream",
     "text": [
      "  0%|          | 0/5 [00:00<?, ?it/s]"
     ]
    },
    {
     "name": "stdout",
     "output_type": "stream",
     "text": [
      "<<<<<<<<<< REPEAT =  3 >>>>>>>>>>\n"
     ]
    },
    {
     "name": "stderr",
     "output_type": "stream",
     "text": [
      "100%|██████████| 5/5 [00:19<00:00,  3.91s/it]\n",
      "  0%|          | 0/5 [00:00<?, ?it/s]"
     ]
    },
    {
     "name": "stdout",
     "output_type": "stream",
     "text": [
      "RandomForestClassifier\n",
      "--------------------------------------------\n",
      "f1_score наилучшей модели на валидационной выборке: 0.631\n",
      "RandomForestClassifier(bootstrap=True, class_weight=None, criterion='gini',\n",
      "                       max_depth=11, max_features='auto', max_leaf_nodes=None,\n",
      "                       min_impurity_decrease=0.0, min_impurity_split=None,\n",
      "                       min_samples_leaf=1, min_samples_split=2,\n",
      "                       min_weight_fraction_leaf=0.0, n_estimators=20,\n",
      "                       n_jobs=None, oob_score=False, random_state=12345,\n",
      "                       verbose=0, warm_start=False)\n",
      "--------------------------------------------\n",
      "ROC_AUC наилучшей модели на валидационной выборке: 0.85\n",
      "RandomForestClassifier(bootstrap=True, class_weight=None, criterion='gini',\n",
      "                       max_depth=11, max_features='auto', max_leaf_nodes=None,\n",
      "                       min_impurity_decrease=0.0, min_impurity_split=None,\n",
      "                       min_samples_leaf=1, min_samples_split=2,\n",
      "                       min_weight_fraction_leaf=0.0, n_estimators=30,\n",
      "                       n_jobs=None, oob_score=False, random_state=12345,\n",
      "                       verbose=0, warm_start=False)\n",
      "--------------------------------------------\n",
      "\n",
      "<<<<<<<<<< REPEAT =  4 >>>>>>>>>>\n"
     ]
    },
    {
     "name": "stderr",
     "output_type": "stream",
     "text": [
      "100%|██████████| 5/5 [00:22<00:00,  4.41s/it]\n",
      "  0%|          | 0/5 [00:00<?, ?it/s]"
     ]
    },
    {
     "name": "stdout",
     "output_type": "stream",
     "text": [
      "RandomForestClassifier\n",
      "--------------------------------------------\n",
      "f1_score наилучшей модели на валидационной выборке: 0.625\n",
      "RandomForestClassifier(bootstrap=True, class_weight=None, criterion='gini',\n",
      "                       max_depth=11, max_features='auto', max_leaf_nodes=None,\n",
      "                       min_impurity_decrease=0.0, min_impurity_split=None,\n",
      "                       min_samples_leaf=1, min_samples_split=4,\n",
      "                       min_weight_fraction_leaf=0.0, n_estimators=30,\n",
      "                       n_jobs=None, oob_score=False, random_state=12345,\n",
      "                       verbose=0, warm_start=False)\n",
      "--------------------------------------------\n",
      "ROC_AUC наилучшей модели на валидационной выборке: 0.85\n",
      "RandomForestClassifier(bootstrap=True, class_weight=None, criterion='gini',\n",
      "                       max_depth=11, max_features='auto', max_leaf_nodes=None,\n",
      "                       min_impurity_decrease=0.0, min_impurity_split=None,\n",
      "                       min_samples_leaf=1, min_samples_split=4,\n",
      "                       min_weight_fraction_leaf=0.0, n_estimators=20,\n",
      "                       n_jobs=None, oob_score=False, random_state=12345,\n",
      "                       verbose=0, warm_start=False)\n",
      "--------------------------------------------\n",
      "\n",
      "<<<<<<<<<< REPEAT =  5 >>>>>>>>>>\n"
     ]
    },
    {
     "name": "stderr",
     "output_type": "stream",
     "text": [
      "100%|██████████| 5/5 [00:21<00:00,  4.36s/it]"
     ]
    },
    {
     "name": "stdout",
     "output_type": "stream",
     "text": [
      "RandomForestClassifier\n",
      "--------------------------------------------\n",
      "f1_score наилучшей модели на валидационной выборке: 0.618\n",
      "RandomForestClassifier(bootstrap=True, class_weight=None, criterion='gini',\n",
      "                       max_depth=13, max_features='auto', max_leaf_nodes=None,\n",
      "                       min_impurity_decrease=0.0, min_impurity_split=None,\n",
      "                       min_samples_leaf=1, min_samples_split=4,\n",
      "                       min_weight_fraction_leaf=0.0, n_estimators=40,\n",
      "                       n_jobs=None, oob_score=False, random_state=12345,\n",
      "                       verbose=0, warm_start=False)\n",
      "--------------------------------------------\n",
      "ROC_AUC наилучшей модели на валидационной выборке: 0.848\n",
      "RandomForestClassifier(bootstrap=True, class_weight=None, criterion='gini',\n",
      "                       max_depth=10, max_features='auto', max_leaf_nodes=None,\n",
      "                       min_impurity_decrease=0.0, min_impurity_split=None,\n",
      "                       min_samples_leaf=1, min_samples_split=4,\n",
      "                       min_weight_fraction_leaf=0.0, n_estimators=40,\n",
      "                       n_jobs=None, oob_score=False, random_state=12345,\n",
      "                       verbose=0, warm_start=False)\n",
      "--------------------------------------------\n",
      "\n"
     ]
    },
    {
     "name": "stderr",
     "output_type": "stream",
     "text": [
      "\n"
     ]
    }
   ],
   "source": [
    "for repeat in range(3,6):\n",
    "    print('<<<<<<<<<< REPEAT = ', repeat, '>>>>>>>>>>')\n",
    "    features_train_balanced, target_train_balanced = upsample(features_train, target_train, repeat)\n",
    "    random_forest_classifier(features_train_balanced, features_valid, target_train_balanced, target_valid)\n",
    "    print()"
   ]
  },
  {
   "cell_type": "markdown",
   "metadata": {},
   "source": [
    "### Downsampling"
   ]
  },
  {
   "cell_type": "markdown",
   "metadata": {},
   "source": [
    "Определим вспомогательную функцию для формирования выборок"
   ]
  },
  {
   "cell_type": "code",
   "execution_count": 29,
   "metadata": {},
   "outputs": [],
   "source": [
    "def downsample(features, target, fraction):\n",
    "    features_zeros = features[target == 0]\n",
    "    features_ones = features[target == 1]\n",
    "    target_zeros = target[target == 0]\n",
    "    target_ones = target[target == 1]\n",
    "\n",
    "    features_downsampled = pd.concat(\n",
    "        [features_zeros.sample(frac=fraction, random_state=rnd_state)] + [features_ones])\n",
    "    target_downsampled = pd.concat(\n",
    "        [target_zeros.sample(frac=fraction, random_state=rnd_state)] + [target_ones])\n",
    "    \n",
    "    features_downsampled, target_downsampled = shuffle(\n",
    "        features_downsampled, target_downsampled, random_state=rnd_state)\n",
    "    \n",
    "    return features_downsampled, target_downsampled"
   ]
  },
  {
   "cell_type": "code",
   "execution_count": 30,
   "metadata": {
    "scrolled": true
   },
   "outputs": [
    {
     "name": "stdout",
     "output_type": "stream",
     "text": [
      "<<<<<<<<<< FRACTION =  0.2 >>>>>>>>>>\n",
      "LogisticRegression\n",
      "--------------------------------------------\n",
      "f1_score наилучшей модели на валидационной выборке: 0.48\n",
      "LogisticRegression(C=1.0, class_weight=None, dual=False, fit_intercept=True,\n",
      "                   intercept_scaling=1, l1_ratio=None, max_iter=5000,\n",
      "                   multi_class='warn', n_jobs=None, penalty='l2',\n",
      "                   random_state=12345, solver='liblinear', tol=0.0001,\n",
      "                   verbose=0, warm_start=False)\n",
      "--------------------------------------------\n",
      "ROC_AUC наилучшей модели на валидационной выборке: 0.763\n",
      "LogisticRegression(C=1.0, class_weight=None, dual=False, fit_intercept=True,\n",
      "                   intercept_scaling=1, l1_ratio=None, max_iter=5000,\n",
      "                   multi_class='warn', n_jobs=None, penalty='l2',\n",
      "                   random_state=12345, solver='liblinear', tol=0.0001,\n",
      "                   verbose=0, warm_start=False)\n",
      "--------------------------------------------\n",
      "\n",
      "<<<<<<<<<< FRACTION =  0.25 >>>>>>>>>>\n",
      "LogisticRegression\n",
      "--------------------------------------------\n",
      "f1_score наилучшей модели на валидационной выборке: 0.486\n",
      "LogisticRegression(C=1.0, class_weight=None, dual=False, fit_intercept=True,\n",
      "                   intercept_scaling=1, l1_ratio=None, max_iter=5000,\n",
      "                   multi_class='warn', n_jobs=None, penalty='l2',\n",
      "                   random_state=12345, solver='saga', tol=0.0001, verbose=0,\n",
      "                   warm_start=False)\n",
      "--------------------------------------------\n",
      "ROC_AUC наилучшей модели на валидационной выборке: 0.762\n",
      "LogisticRegression(C=1.0, class_weight=None, dual=False, fit_intercept=True,\n",
      "                   intercept_scaling=1, l1_ratio=None, max_iter=5000,\n",
      "                   multi_class='warn', n_jobs=None, penalty='l2',\n",
      "                   random_state=12345, solver='liblinear', tol=0.0001,\n",
      "                   verbose=0, warm_start=False)\n",
      "--------------------------------------------\n",
      "\n",
      "<<<<<<<<<< FRACTION =  0.3 >>>>>>>>>>\n",
      "LogisticRegression\n",
      "--------------------------------------------\n",
      "f1_score наилучшей модели на валидационной выборке: 0.495\n",
      "LogisticRegression(C=1.0, class_weight=None, dual=False, fit_intercept=True,\n",
      "                   intercept_scaling=1, l1_ratio=None, max_iter=5000,\n",
      "                   multi_class='warn', n_jobs=None, penalty='l2',\n",
      "                   random_state=12345, solver='saga', tol=0.0001, verbose=0,\n",
      "                   warm_start=False)\n",
      "--------------------------------------------\n",
      "ROC_AUC наилучшей модели на валидационной выборке: 0.764\n",
      "LogisticRegression(C=1.0, class_weight=None, dual=False, fit_intercept=True,\n",
      "                   intercept_scaling=1, l1_ratio=None, max_iter=5000,\n",
      "                   multi_class='warn', n_jobs=None, penalty='l2',\n",
      "                   random_state=12345, solver='liblinear', tol=0.0001,\n",
      "                   verbose=0, warm_start=False)\n",
      "--------------------------------------------\n",
      "\n",
      "<<<<<<<<<< FRACTION =  0.35 >>>>>>>>>>\n",
      "LogisticRegression\n",
      "--------------------------------------------\n",
      "f1_score наилучшей модели на валидационной выборке: 0.495\n",
      "LogisticRegression(C=1.0, class_weight=None, dual=False, fit_intercept=True,\n",
      "                   intercept_scaling=1, l1_ratio=None, max_iter=5000,\n",
      "                   multi_class='warn', n_jobs=None, penalty='l2',\n",
      "                   random_state=12345, solver='saga', tol=0.0001, verbose=0,\n",
      "                   warm_start=False)\n",
      "--------------------------------------------\n",
      "ROC_AUC наилучшей модели на валидационной выборке: 0.763\n",
      "LogisticRegression(C=1.0, class_weight=None, dual=False, fit_intercept=True,\n",
      "                   intercept_scaling=1, l1_ratio=None, max_iter=5000,\n",
      "                   multi_class='warn', n_jobs=None, penalty='l2',\n",
      "                   random_state=12345, solver='liblinear', tol=0.0001,\n",
      "                   verbose=0, warm_start=False)\n",
      "--------------------------------------------\n",
      "\n",
      "<<<<<<<<<< FRACTION =  0.39999999999999997 >>>>>>>>>>\n",
      "LogisticRegression\n",
      "--------------------------------------------\n",
      "f1_score наилучшей модели на валидационной выборке: 0.504\n",
      "LogisticRegression(C=1.0, class_weight=None, dual=False, fit_intercept=True,\n",
      "                   intercept_scaling=1, l1_ratio=None, max_iter=5000,\n",
      "                   multi_class='warn', n_jobs=None, penalty='l2',\n",
      "                   random_state=12345, solver='saga', tol=0.0001, verbose=0,\n",
      "                   warm_start=False)\n",
      "--------------------------------------------\n",
      "ROC_AUC наилучшей модели на валидационной выборке: 0.763\n",
      "LogisticRegression(C=1.0, class_weight=None, dual=False, fit_intercept=True,\n",
      "                   intercept_scaling=1, l1_ratio=None, max_iter=5000,\n",
      "                   multi_class='warn', n_jobs=None, penalty='l2',\n",
      "                   random_state=12345, solver='lbfgs', tol=0.0001, verbose=0,\n",
      "                   warm_start=False)\n",
      "--------------------------------------------\n",
      "\n"
     ]
    }
   ],
   "source": [
    "for fraction in np.arange(0.2,0.45,0.05):\n",
    "    print('<<<<<<<<<< FRACTION = ', fraction, '>>>>>>>>>>')\n",
    "    features_train_balanced, target_train_balanced = downsample(features_train, target_train, fraction)\n",
    "    logistic_regression(features_train_balanced, features_valid, target_train_balanced, target_valid)\n",
    "    print()"
   ]
  },
  {
   "cell_type": "code",
   "execution_count": 31,
   "metadata": {
    "scrolled": true
   },
   "outputs": [
    {
     "name": "stdout",
     "output_type": "stream",
     "text": [
      "<<<<<<<<<< FRACTION =  0.2 >>>>>>>>>>\n",
      "DecisionTreeClassifier\n",
      "--------------------------------------------\n",
      "f1_score наилучшей модели на валидационной выборке: 0.58\n",
      "DecisionTreeClassifier(class_weight=None, criterion='entropy', max_depth=6,\n",
      "                       max_features=None, max_leaf_nodes=None,\n",
      "                       min_impurity_decrease=0.0, min_impurity_split=None,\n",
      "                       min_samples_leaf=1, min_samples_split=2,\n",
      "                       min_weight_fraction_leaf=0.0, presort=False,\n",
      "                       random_state=12345, splitter='best')\n",
      "--------------------------------------------\n",
      "ROC_AUC наилучшей модели на валидационной выборке: 0.831\n",
      "DecisionTreeClassifier(class_weight=None, criterion='entropy', max_depth=6,\n",
      "                       max_features=None, max_leaf_nodes=None,\n",
      "                       min_impurity_decrease=0.0, min_impurity_split=None,\n",
      "                       min_samples_leaf=1, min_samples_split=2,\n",
      "                       min_weight_fraction_leaf=0.0, presort=False,\n",
      "                       random_state=12345, splitter='best')\n",
      "--------------------------------------------\n",
      "\n",
      "<<<<<<<<<< FRACTION =  0.25 >>>>>>>>>>\n",
      "DecisionTreeClassifier\n",
      "--------------------------------------------\n",
      "f1_score наилучшей модели на валидационной выборке: 0.597\n",
      "DecisionTreeClassifier(class_weight=None, criterion='entropy', max_depth=3,\n",
      "                       max_features=None, max_leaf_nodes=None,\n",
      "                       min_impurity_decrease=0.0, min_impurity_split=None,\n",
      "                       min_samples_leaf=1, min_samples_split=2,\n",
      "                       min_weight_fraction_leaf=0.0, presort=False,\n",
      "                       random_state=12345, splitter='best')\n",
      "--------------------------------------------\n",
      "ROC_AUC наилучшей модели на валидационной выборке: 0.83\n",
      "DecisionTreeClassifier(class_weight=None, criterion='gini', max_depth=7,\n",
      "                       max_features=None, max_leaf_nodes=None,\n",
      "                       min_impurity_decrease=0.0, min_impurity_split=None,\n",
      "                       min_samples_leaf=1, min_samples_split=7,\n",
      "                       min_weight_fraction_leaf=0.0, presort=False,\n",
      "                       random_state=12345, splitter='random')\n",
      "--------------------------------------------\n",
      "\n",
      "<<<<<<<<<< FRACTION =  0.3 >>>>>>>>>>\n",
      "DecisionTreeClassifier\n",
      "--------------------------------------------\n",
      "f1_score наилучшей модели на валидационной выборке: 0.607\n",
      "DecisionTreeClassifier(class_weight=None, criterion='entropy', max_depth=5,\n",
      "                       max_features=None, max_leaf_nodes=None,\n",
      "                       min_impurity_decrease=0.0, min_impurity_split=None,\n",
      "                       min_samples_leaf=1, min_samples_split=2,\n",
      "                       min_weight_fraction_leaf=0.0, presort=False,\n",
      "                       random_state=12345, splitter='best')\n",
      "--------------------------------------------\n",
      "ROC_AUC наилучшей модели на валидационной выборке: 0.828\n",
      "DecisionTreeClassifier(class_weight=None, criterion='entropy', max_depth=5,\n",
      "                       max_features=None, max_leaf_nodes=None,\n",
      "                       min_impurity_decrease=0.0, min_impurity_split=None,\n",
      "                       min_samples_leaf=1, min_samples_split=2,\n",
      "                       min_weight_fraction_leaf=0.0, presort=False,\n",
      "                       random_state=12345, splitter='best')\n",
      "--------------------------------------------\n",
      "\n",
      "<<<<<<<<<< FRACTION =  0.35 >>>>>>>>>>\n",
      "DecisionTreeClassifier\n",
      "--------------------------------------------\n",
      "f1_score наилучшей модели на валидационной выборке: 0.591\n",
      "DecisionTreeClassifier(class_weight=None, criterion='entropy', max_depth=7,\n",
      "                       max_features=None, max_leaf_nodes=None,\n",
      "                       min_impurity_decrease=0.0, min_impurity_split=None,\n",
      "                       min_samples_leaf=1, min_samples_split=4,\n",
      "                       min_weight_fraction_leaf=0.0, presort=False,\n",
      "                       random_state=12345, splitter='random')\n",
      "--------------------------------------------\n",
      "ROC_AUC наилучшей модели на валидационной выборке: 0.827\n",
      "DecisionTreeClassifier(class_weight=None, criterion='entropy', max_depth=7,\n",
      "                       max_features=None, max_leaf_nodes=None,\n",
      "                       min_impurity_decrease=0.0, min_impurity_split=None,\n",
      "                       min_samples_leaf=1, min_samples_split=4,\n",
      "                       min_weight_fraction_leaf=0.0, presort=False,\n",
      "                       random_state=12345, splitter='random')\n",
      "--------------------------------------------\n",
      "\n",
      "<<<<<<<<<< FRACTION =  0.39999999999999997 >>>>>>>>>>\n",
      "DecisionTreeClassifier\n",
      "--------------------------------------------\n",
      "f1_score наилучшей модели на валидационной выборке: 0.6\n",
      "DecisionTreeClassifier(class_weight=None, criterion='gini', max_depth=7,\n",
      "                       max_features=None, max_leaf_nodes=None,\n",
      "                       min_impurity_decrease=0.0, min_impurity_split=None,\n",
      "                       min_samples_leaf=1, min_samples_split=6,\n",
      "                       min_weight_fraction_leaf=0.0, presort=False,\n",
      "                       random_state=12345, splitter='random')\n",
      "--------------------------------------------\n",
      "ROC_AUC наилучшей модели на валидационной выборке: 0.83\n",
      "DecisionTreeClassifier(class_weight=None, criterion='gini', max_depth=7,\n",
      "                       max_features=None, max_leaf_nodes=None,\n",
      "                       min_impurity_decrease=0.0, min_impurity_split=None,\n",
      "                       min_samples_leaf=1, min_samples_split=6,\n",
      "                       min_weight_fraction_leaf=0.0, presort=False,\n",
      "                       random_state=12345, splitter='random')\n",
      "--------------------------------------------\n",
      "\n"
     ]
    }
   ],
   "source": [
    "for fraction in np.arange(0.2,0.45,0.05):\n",
    "    print('<<<<<<<<<< FRACTION = ', fraction, '>>>>>>>>>>')\n",
    "    features_train_balanced, target_train_balanced = downsample(features_train, target_train, fraction)\n",
    "    decision_tree_classifier(features_train_balanced, features_valid, target_train_balanced, target_valid)\n",
    "    print()"
   ]
  },
  {
   "cell_type": "code",
   "execution_count": 32,
   "metadata": {
    "scrolled": false
   },
   "outputs": [
    {
     "name": "stderr",
     "output_type": "stream",
     "text": [
      "  0%|          | 0/5 [00:00<?, ?it/s]"
     ]
    },
    {
     "name": "stdout",
     "output_type": "stream",
     "text": [
      "<<<<<<<<<< FRACTION =  0.2 >>>>>>>>>>\n"
     ]
    },
    {
     "name": "stderr",
     "output_type": "stream",
     "text": [
      "100%|██████████| 5/5 [00:08<00:00,  1.66s/it]\n",
      "  0%|          | 0/5 [00:00<?, ?it/s]"
     ]
    },
    {
     "name": "stdout",
     "output_type": "stream",
     "text": [
      "RandomForestClassifier\n",
      "--------------------------------------------\n",
      "f1_score наилучшей модели на валидационной выборке: 0.575\n",
      "RandomForestClassifier(bootstrap=True, class_weight=None, criterion='gini',\n",
      "                       max_depth=10, max_features='auto', max_leaf_nodes=None,\n",
      "                       min_impurity_decrease=0.0, min_impurity_split=None,\n",
      "                       min_samples_leaf=1, min_samples_split=4,\n",
      "                       min_weight_fraction_leaf=0.0, n_estimators=30,\n",
      "                       n_jobs=None, oob_score=False, random_state=12345,\n",
      "                       verbose=0, warm_start=False)\n",
      "--------------------------------------------\n",
      "ROC_AUC наилучшей модели на валидационной выборке: 0.843\n",
      "RandomForestClassifier(bootstrap=True, class_weight=None, criterion='gini',\n",
      "                       max_depth=12, max_features='auto', max_leaf_nodes=None,\n",
      "                       min_impurity_decrease=0.0, min_impurity_split=None,\n",
      "                       min_samples_leaf=1, min_samples_split=3,\n",
      "                       min_weight_fraction_leaf=0.0, n_estimators=40,\n",
      "                       n_jobs=None, oob_score=False, random_state=12345,\n",
      "                       verbose=0, warm_start=False)\n",
      "--------------------------------------------\n",
      "\n",
      "<<<<<<<<<< FRACTION =  0.25 >>>>>>>>>>\n"
     ]
    },
    {
     "name": "stderr",
     "output_type": "stream",
     "text": [
      "100%|██████████| 5/5 [00:08<00:00,  1.63s/it]\n",
      "  0%|          | 0/5 [00:00<?, ?it/s]"
     ]
    },
    {
     "name": "stdout",
     "output_type": "stream",
     "text": [
      "RandomForestClassifier\n",
      "--------------------------------------------\n",
      "f1_score наилучшей модели на валидационной выборке: 0.59\n",
      "RandomForestClassifier(bootstrap=True, class_weight=None, criterion='gini',\n",
      "                       max_depth=10, max_features='auto', max_leaf_nodes=None,\n",
      "                       min_impurity_decrease=0.0, min_impurity_split=None,\n",
      "                       min_samples_leaf=1, min_samples_split=3,\n",
      "                       min_weight_fraction_leaf=0.0, n_estimators=30,\n",
      "                       n_jobs=None, oob_score=False, random_state=12345,\n",
      "                       verbose=0, warm_start=False)\n",
      "--------------------------------------------\n",
      "ROC_AUC наилучшей модели на валидационной выборке: 0.847\n",
      "RandomForestClassifier(bootstrap=True, class_weight=None, criterion='gini',\n",
      "                       max_depth=12, max_features='auto', max_leaf_nodes=None,\n",
      "                       min_impurity_decrease=0.0, min_impurity_split=None,\n",
      "                       min_samples_leaf=1, min_samples_split=4,\n",
      "                       min_weight_fraction_leaf=0.0, n_estimators=40,\n",
      "                       n_jobs=None, oob_score=False, random_state=12345,\n",
      "                       verbose=0, warm_start=False)\n",
      "--------------------------------------------\n",
      "\n",
      "<<<<<<<<<< FRACTION =  0.3 >>>>>>>>>>\n"
     ]
    },
    {
     "name": "stderr",
     "output_type": "stream",
     "text": [
      "100%|██████████| 5/5 [00:08<00:00,  1.72s/it]\n",
      "  0%|          | 0/5 [00:00<?, ?it/s]"
     ]
    },
    {
     "name": "stdout",
     "output_type": "stream",
     "text": [
      "RandomForestClassifier\n",
      "--------------------------------------------\n",
      "f1_score наилучшей модели на валидационной выборке: 0.609\n",
      "RandomForestClassifier(bootstrap=True, class_weight=None, criterion='gini',\n",
      "                       max_depth=10, max_features='auto', max_leaf_nodes=None,\n",
      "                       min_impurity_decrease=0.0, min_impurity_split=None,\n",
      "                       min_samples_leaf=1, min_samples_split=2,\n",
      "                       min_weight_fraction_leaf=0.0, n_estimators=40,\n",
      "                       n_jobs=None, oob_score=False, random_state=12345,\n",
      "                       verbose=0, warm_start=False)\n",
      "--------------------------------------------\n",
      "ROC_AUC наилучшей модели на валидационной выборке: 0.847\n",
      "RandomForestClassifier(bootstrap=True, class_weight=None, criterion='gini',\n",
      "                       max_depth=10, max_features='auto', max_leaf_nodes=None,\n",
      "                       min_impurity_decrease=0.0, min_impurity_split=None,\n",
      "                       min_samples_leaf=1, min_samples_split=2,\n",
      "                       min_weight_fraction_leaf=0.0, n_estimators=40,\n",
      "                       n_jobs=None, oob_score=False, random_state=12345,\n",
      "                       verbose=0, warm_start=False)\n",
      "--------------------------------------------\n",
      "\n",
      "<<<<<<<<<< FRACTION =  0.35 >>>>>>>>>>\n"
     ]
    },
    {
     "name": "stderr",
     "output_type": "stream",
     "text": [
      "100%|██████████| 5/5 [00:08<00:00,  1.78s/it]\n",
      "  0%|          | 0/5 [00:00<?, ?it/s]"
     ]
    },
    {
     "name": "stdout",
     "output_type": "stream",
     "text": [
      "RandomForestClassifier\n",
      "--------------------------------------------\n",
      "f1_score наилучшей модели на валидационной выборке: 0.625\n",
      "RandomForestClassifier(bootstrap=True, class_weight=None, criterion='gini',\n",
      "                       max_depth=11, max_features='auto', max_leaf_nodes=None,\n",
      "                       min_impurity_decrease=0.0, min_impurity_split=None,\n",
      "                       min_samples_leaf=1, min_samples_split=4,\n",
      "                       min_weight_fraction_leaf=0.0, n_estimators=30,\n",
      "                       n_jobs=None, oob_score=False, random_state=12345,\n",
      "                       verbose=0, warm_start=False)\n",
      "--------------------------------------------\n",
      "ROC_AUC наилучшей модели на валидационной выборке: 0.847\n",
      "RandomForestClassifier(bootstrap=True, class_weight=None, criterion='gini',\n",
      "                       max_depth=11, max_features='auto', max_leaf_nodes=None,\n",
      "                       min_impurity_decrease=0.0, min_impurity_split=None,\n",
      "                       min_samples_leaf=1, min_samples_split=3,\n",
      "                       min_weight_fraction_leaf=0.0, n_estimators=40,\n",
      "                       n_jobs=None, oob_score=False, random_state=12345,\n",
      "                       verbose=0, warm_start=False)\n",
      "--------------------------------------------\n",
      "\n",
      "<<<<<<<<<< FRACTION =  0.39999999999999997 >>>>>>>>>>\n"
     ]
    },
    {
     "name": "stderr",
     "output_type": "stream",
     "text": [
      "100%|██████████| 5/5 [00:09<00:00,  1.93s/it]"
     ]
    },
    {
     "name": "stdout",
     "output_type": "stream",
     "text": [
      "RandomForestClassifier\n",
      "--------------------------------------------\n",
      "f1_score наилучшей модели на валидационной выборке: 0.634\n",
      "RandomForestClassifier(bootstrap=True, class_weight=None, criterion='gini',\n",
      "                       max_depth=10, max_features='auto', max_leaf_nodes=None,\n",
      "                       min_impurity_decrease=0.0, min_impurity_split=None,\n",
      "                       min_samples_leaf=1, min_samples_split=4,\n",
      "                       min_weight_fraction_leaf=0.0, n_estimators=40,\n",
      "                       n_jobs=None, oob_score=False, random_state=12345,\n",
      "                       verbose=0, warm_start=False)\n",
      "--------------------------------------------\n",
      "ROC_AUC наилучшей модели на валидационной выборке: 0.846\n",
      "RandomForestClassifier(bootstrap=True, class_weight=None, criterion='gini',\n",
      "                       max_depth=10, max_features='auto', max_leaf_nodes=None,\n",
      "                       min_impurity_decrease=0.0, min_impurity_split=None,\n",
      "                       min_samples_leaf=1, min_samples_split=4,\n",
      "                       min_weight_fraction_leaf=0.0, n_estimators=40,\n",
      "                       n_jobs=None, oob_score=False, random_state=12345,\n",
      "                       verbose=0, warm_start=False)\n",
      "--------------------------------------------\n",
      "\n"
     ]
    },
    {
     "name": "stderr",
     "output_type": "stream",
     "text": [
      "\n"
     ]
    }
   ],
   "source": [
    "for fraction in np.arange(0.2,0.45,0.05):\n",
    "    print('<<<<<<<<<< FRACTION = ', fraction, '>>>>>>>>>>')\n",
    "    features_train_balanced, target_train_balanced = downsample(features_train, target_train, fraction)\n",
    "    random_forest_classifier(features_train_balanced, features_valid, target_train_balanced, target_valid)\n",
    "    print()"
   ]
  },
  {
   "cell_type": "markdown",
   "metadata": {},
   "source": [
    "### Выводы"
   ]
  },
  {
   "cell_type": "markdown",
   "metadata": {},
   "source": [
    "Проверены 3 метода борьбы с дисбаллансом классов:  \n",
    "- Использование при обучении параметра (class_weight='balanced')\n",
    "- Upsampling\n",
    "- Downsampling  \n",
    "- Исследованы три модели машинного обучения для классификации: логистическая регрессия, дерево решений и случайный лес. Проведена настройка гиперпараметров моделей для подбора параметров с максимальным значением f1_score, auc_score на валидационной выборке.    \n",
    "\n",
    "Выберем две лучшие модели для проверки на тестовой выборке. Лучшие показатели для f1_score и roc_auc получены для разных гиперпараметров моделей, но поскольку целевой показатель в заданиее f1_score, то при выборе моделей для тестирования будем ориентироваться впервую очередь на него.\n",
    "Модели для тестирования на тестовой выборке:\n",
    "- f1_score = 0.631, upsampling с параметром repeat=3, модель RandomForestClassifier со следующими параметрами:\n",
    "       RandomForestClassifier(bootstrap=True, class_weight=None, criterion='gini',\n",
    "                       max_depth=11, max_features='auto', max_leaf_nodes=None,\n",
    "                       min_impurity_decrease=0.0, min_impurity_split=None,\n",
    "                       min_samples_leaf=1, min_samples_split=2,\n",
    "                       min_weight_fraction_leaf=0.0, n_estimators=20,\n",
    "                       n_jobs=None, oob_score=False, random_state=12345,\n",
    "                       verbose=0, warm_start=False)\n",
    "\n",
    "- f1_score = 0.634, downsampling с параметром fraction=0.4, модель RandomForestClassifier со следующими параметрами:\n",
    "       RandomForestClassifier(bootstrap=True, class_weight=None, criterion='gini',\n",
    "                       max_depth=10, max_features='auto', max_leaf_nodes=None,\n",
    "                       min_impurity_decrease=0.0, min_impurity_split=None,\n",
    "                       min_samples_leaf=1, min_samples_split=4,\n",
    "                       min_weight_fraction_leaf=0.0, n_estimators=40,\n",
    "                       n_jobs=None, oob_score=False, random_state=12345,\n",
    "                       verbose=0, warm_start=False)"
   ]
  },
  {
   "cell_type": "markdown",
   "metadata": {},
   "source": [
    "## Тестирование модели"
   ]
  },
  {
   "cell_type": "markdown",
   "metadata": {},
   "source": [
    "На предыдущем этапе исследования выбраны две модели для проверки на тестовой выборке:\n",
    "- f1_score = 0.631, upsampling с параметром repeat=3, модель RandomForestClassifier со следующими параметрами:\n",
    "       RandomForestClassifier(bootstrap=True, class_weight=None, criterion='gini',\n",
    "                       max_depth=11, max_features='auto', max_leaf_nodes=None,\n",
    "                       min_impurity_decrease=0.0, min_impurity_split=None,\n",
    "                       min_samples_leaf=1, min_samples_split=2,\n",
    "                       min_weight_fraction_leaf=0.0, n_estimators=20,\n",
    "                       n_jobs=None, oob_score=False, random_state=12345,\n",
    "                       verbose=0, warm_start=False)\n",
    "\n",
    "- f1_score = 0.634, downsampling с параметром fraction=0.4, модель RandomForestClassifier со следующими параметрами:\n",
    "       RandomForestClassifier(bootstrap=True, class_weight=None, criterion='gini',\n",
    "                       max_depth=10, max_features='auto', max_leaf_nodes=None,\n",
    "                       min_impurity_decrease=0.0, min_impurity_split=None,\n",
    "                       min_samples_leaf=1, min_samples_split=4,\n",
    "                       min_weight_fraction_leaf=0.0, n_estimators=40,\n",
    "                       n_jobs=None, oob_score=False, random_state=12345,\n",
    "                       verbose=0, warm_start=False)"
   ]
  },
  {
   "cell_type": "code",
   "execution_count": 33,
   "metadata": {},
   "outputs": [
    {
     "name": "stdout",
     "output_type": "stream",
     "text": [
      "RandomForestClassifier\n",
      "f1_score модели на валидационной выборке: 0.631\n",
      "ROC_AUC модели на валидационной выборке: 0.846\n",
      "RandomForestClassifier\n",
      "f1_score модели на тестовой выборке: 0.6\n",
      "ROC_AUC модели на тестовой выборке: 0.854\n"
     ]
    }
   ],
   "source": [
    "model = RandomForestClassifier(bootstrap=True, class_weight=None, criterion='gini',\n",
    "                 max_depth=11, max_features='auto', max_leaf_nodes=None,\n",
    "                 min_impurity_decrease=0.0, min_impurity_split=None,\n",
    "                 min_samples_leaf=1, min_samples_split=2,\n",
    "                 min_weight_fraction_leaf=0.0, n_estimators=20,\n",
    "                 n_jobs=None, oob_score=False, random_state=12345,\n",
    "                 verbose=0, warm_start=False)\n",
    "\n",
    "features_train_balanced, target_train_balanced = upsample(features_train, target_train, 3)\n",
    "\n",
    "model.fit(features_train_balanced,target_train_balanced)\n",
    "\n",
    "predicted_valid = model.predict(features_valid)\n",
    "f1 = f1_score(target_valid, predicted_valid)\n",
    "roc_auc = roc_auc_score(target_valid, model.predict_proba(features_valid)[:, 1])\n",
    "            \n",
    "print(\"RandomForestClassifier\")\n",
    "print(\"f1_score модели на валидационной выборке:\", f1.round(3))\n",
    "print(\"ROC_AUC модели на валидационной выборке:\", roc_auc.round(3))\n",
    "\n",
    "predicted_test = model.predict(features_test)\n",
    "f1 = f1_score(target_test, predicted_test)\n",
    "roc_auc = roc_auc_score(target_test, model.predict_proba(features_test)[:, 1])\n",
    "            \n",
    "print(\"RandomForestClassifier\")\n",
    "print(\"f1_score модели на тестовой выборке:\", f1.round(3))\n",
    "print(\"ROC_AUC модели на тестовой выборке:\", roc_auc.round(3))"
   ]
  },
  {
   "cell_type": "code",
   "execution_count": 45,
   "metadata": {},
   "outputs": [
    {
     "name": "stdout",
     "output_type": "stream",
     "text": [
      "RandomForestClassifier\n",
      "f1_score модели на валидационной выборке: 0.634\n",
      "ROC_AUC модели на валидационной выборке: 0.846\n",
      "RandomForestClassifier\n",
      "f1_score модели на тестовой выборке: 0.603\n",
      "ROC_AUC модели на тестовой выборке: 0.852\n",
      "                   feature_importance\n",
      "CreditScore                  0.092107\n",
      "Age                          0.321542\n",
      "Tenure                       0.053726\n",
      "Balance                      0.118831\n",
      "NumOfProducts                0.168110\n",
      "HasCrCard                    0.014110\n",
      "IsActiveMember               0.057583\n",
      "EstimatedSalary              0.084287\n",
      "Geography_Germany            0.055279\n",
      "Geography_Spain              0.009922\n",
      "Gender_Male                  0.024503\n"
     ]
    },
    {
     "data": {
      "text/plain": [
       "<matplotlib.axes._subplots.AxesSubplot at 0x7f6dc61db150>"
      ]
     },
     "execution_count": 45,
     "metadata": {},
     "output_type": "execute_result"
    },
    {
     "data": {
      "image/png": "[encoded data removed]",
      "text/plain": [
       "<Figure size 864x576 with 1 Axes>"
      ]
     },
     "metadata": {
      "needs_background": "light"
     },
     "output_type": "display_data"
    }
   ],
   "source": [
    "model = RandomForestClassifier(bootstrap=True, class_weight=None, criterion='gini',\n",
    "                 max_depth=10, max_features='auto', max_leaf_nodes=None,\n",
    "                 min_impurity_decrease=0.0, min_impurity_split=None,\n",
    "                 min_samples_leaf=1, min_samples_split=4,\n",
    "                 min_weight_fraction_leaf=0.0, n_estimators=40,\n",
    "                 n_jobs=None, oob_score=False, random_state=12345,\n",
    "                 verbose=0, warm_start=False)\n",
    "\n",
    "features_train_balanced, target_train_balanced = downsample(features_train, target_train, 0.4)\n",
    "\n",
    "model.fit(features_train_balanced,target_train_balanced)\n",
    "\n",
    "predicted_valid = model.predict(features_valid)\n",
    "f1 = f1_score(target_valid, predicted_valid)\n",
    "roc_auc = roc_auc_score(target_valid, model.predict_proba(features_valid)[:, 1])\n",
    "            \n",
    "print(\"RandomForestClassifier\")\n",
    "print(\"f1_score модели на валидационной выборке:\", f1.round(3))\n",
    "print(\"ROC_AUC модели на валидационной выборке:\", roc_auc.round(3))\n",
    "\n",
    "predicted_test = model.predict(features_test)\n",
    "f1 = f1_score(target_test, predicted_test)\n",
    "roc_auc = roc_auc_score(target_test, model.predict_proba(features_test)[:, 1])\n",
    "            \n",
    "print(\"RandomForestClassifier\")\n",
    "print(\"f1_score модели на тестовой выборке:\", f1.round(3))\n",
    "print(\"ROC_AUC модели на тестовой выборке:\", roc_auc.round(3))\n",
    "\n",
    "\n",
    "feature_importances=pd.DataFrame({'feature_importance':model.feature_importances_}, index=features_train_balanced.columns)\n",
    "print(feature_importances)\n",
    "feature_importances.sort_values('feature_importance',ascending=True).plot(kind='barh', figsize=(12,8))"
   ]
  },
  {
   "cell_type": "markdown",
   "metadata": {},
   "source": [
    "### Выводы"
   ]
  },
  {
   "cell_type": "markdown",
   "metadata": {},
   "source": [
    "- Наилучшие результаты на тестовой выборке (f1_score = 0.603, roc_auc_score = 0.852) получены для модели RandomForestClassifier со следующими параметрами:  \n",
    "       RandomForestClassifier(bootstrap=True, class_weight=None, criterion='gini',\n",
    "                       max_depth=10, max_features='auto', max_leaf_nodes=None,\n",
    "                       min_impurity_decrease=0.0, min_impurity_split=None,\n",
    "                       min_samples_leaf=1, min_samples_split=4,\n",
    "                       min_weight_fraction_leaf=0.0, n_estimators=40,\n",
    "                       n_jobs=None, oob_score=False, random_state=12345,\n",
    "                       verbose=0, warm_start=False)"
   ]
  },
  {
   "cell_type": "markdown",
   "metadata": {},
   "source": [
    "## Общий вывод по проекту"
   ]
  },
  {
   "cell_type": "markdown",
   "metadata": {},
   "source": [
    "**При выполнении проекта:**\n",
    "\n",
    "На этапе подготовки данных\n",
    "- Данные из файла Churn.csv загружены в dataframe с именем df.      \n",
    "- Набор данных состоит из 14 колонок и 10000 записей (объектов).      \n",
    "- Дубликаты в исходных данных отсутствуют.  \n",
    "- Признаки RowNumber, CustomerId и Surname удалены, т.к. не будут использоваться для классификации. \n",
    "- Объекты по целевому признаку в исходной выборке разделены в соотношении 1 к 4, т.е. наблюдается перекос в исходных данных.  \n",
    "- Проведено прямое кодирование категориальных переменных.   \n",
    "- Исходная выборка разбита на обучающую, валидационную и тестовую выборки в пропорции 60-20-20.\n",
    "- Проведено масштабирование количественных признаков.\n",
    "\n",
    "На этапе исследования задачи:  \n",
    "- Исследованы три модели машинного обучения для классификации: логистическая регрессия, дерево решений и случайный лес. Проведена настройка гиперпараметров моделей для подбора параметров с максимальным значением f1_score, auc_score на валидационной выборке.    \n",
    "- Наилучшие результаты f1_score = 0.6, roc_auc_score = 0.84 получены для модели RandomForestClassifier со следующими параметрами:\n",
    "       RandomForestClassifier(bootstrap=True, class_weight=None, criterion='gini',\n",
    "                       max_depth=13, max_features='auto', max_leaf_nodes=None,\n",
    "                       min_impurity_decrease=0.0, min_impurity_split=None,\n",
    "                       min_samples_leaf=1, min_samples_split=2,\n",
    "                       min_weight_fraction_leaf=0.0, n_estimators=10,\n",
    "                       n_jobs=None, oob_score=False, random_state=12345,\n",
    "                       verbose=0, warm_start=False)\n",
    "                       \n",
    "- Предсказуемо, результаты на тестовых данных оказались хуже чем на валидационных и нужного значения F1_score мы не достигли. Будем бороться с дисбаллансом классов.\n",
    "\n",
    "На этапе борьбы с дисбаллансом:\n",
    "Проверены 3 метода борьбы с дисбаллансом классов:  \n",
    "- Использование при обучении параметра (class_weight='balanced')\n",
    "- Upsampling\n",
    "- Downsampling  \n",
    "- Исследованы три модели машинного обучения для классификации: логистическая регрессия, дерево решений и случайный лес. Проведена настройка гиперпараметров моделей для подбора параметров с максимальным значением f1_score, auc_score на валидационной выборке.    \n",
    "- Выбраны две лучшие модели для проверки на тестовой выборке. Лучшие показатели для f1_score и roc_auc получены для разных гиперпараметров моделей, но поскольку целевой показатель в заданиее f1_score, то при выборе моделей для тестирования будем ориентироваться впервую очередь на него.\n",
    "\n",
    "На этапе тестирования модели:  \n",
    "- Наилучшие результаты на тестовой выборке (f1_score = 0.603, auc_score = 0.852) получены для модели RandomForestClassifier со следующими параметрами:  \n",
    "       RandomForestClassifier(bootstrap=True, class_weight=None, criterion='gini',\n",
    "                       max_depth=10, max_features='auto', max_leaf_nodes=None,\n",
    "                       min_impurity_decrease=0.0, min_impurity_split=None,\n",
    "                       min_samples_leaf=1, min_samples_split=4,\n",
    "                       min_weight_fraction_leaf=0.0, n_estimators=40,\n",
    "                       n_jobs=None, oob_score=False, random_state=12345,\n",
    "                       verbose=0, warm_start=False)\n",
    "                       \n",
    "Наиболее важными факторами оказались возраст, количество продуктов, баланс, кредитный рейтинг, зарплата. \n",
    "    По гистограммам можно было предположить влияние возраста и количества продуктов, по коэффициенту корреляции можно было выделить возраст и баланс. Но значимость остальных факторов не очевидна на этапе предварительного анализа данных."
   ]
  },
  {
   "cell_type": "markdown",
   "metadata": {},
   "source": [
    "## Чек-лист готовности проекта"
   ]
  },
  {
   "cell_type": "markdown",
   "metadata": {},
   "source": [
    "Поставьте 'x' в выполненных пунктах. Далее нажмите Shift+Enter."
   ]
  },
  {
   "cell_type": "markdown",
   "metadata": {},
   "source": [
    "- [x]  Jupyter Notebook открыт\n",
    "- [x]  Весь код выполняется без ошибок\n",
    "- [x]  Ячейки с кодом расположены в порядке исполнения\n",
    "- [x]  Выполнен шаг 1: данные подготовлены\n",
    "- [x]  Выполнен шаг 2: задача исследована\n",
    "    - [x]  Исследован баланс классов\n",
    "    - [x]  Изучены модели без учёта дисбаланса\n",
    "    - [x]  Написаны выводы по результатам исследования\n",
    "- [x]  Выполнен шаг 3: учтён дисбаланс\n",
    "    - [x]  Применено несколько способов борьбы с дисбалансом\n",
    "    - [x]  Написаны выводы по результатам исследования\n",
    "- [x]  Выполнен шаг 4: проведено тестирование\n",
    "- [x]  Удалось достичь *F1*-меры не менее 0.59\n",
    "- [x]  Исследована метрика *AUC-ROC*"
   ]
  }
 ],
 "metadata": {
  "ExecuteTimeLog": [
   {
    "duration": 1086,
    "start_time": "2022-03-06T06:38:52.389Z"
   },
   {
    "duration": 29,
    "start_time": "2022-03-06T06:40:36.431Z"
   },
   {
    "duration": 27,
    "start_time": "2022-03-06T06:40:37.655Z"
   },
   {
    "duration": 674,
    "start_time": "2022-03-06T06:56:39.873Z"
   },
   {
    "duration": 412,
    "start_time": "2022-03-06T06:57:10.243Z"
   },
   {
    "duration": 88,
    "start_time": "2022-03-06T06:57:19.556Z"
   },
   {
    "duration": 346,
    "start_time": "2022-03-06T06:57:26.615Z"
   },
   {
    "duration": 672,
    "start_time": "2022-03-06T06:58:22.912Z"
   },
   {
    "duration": 854,
    "start_time": "2022-03-06T06:58:38.086Z"
   },
   {
    "duration": 1116,
    "start_time": "2022-03-06T07:04:02.990Z"
   },
   {
    "duration": 43602,
    "start_time": "2022-03-06T07:05:08.819Z"
   },
   {
    "duration": 21,
    "start_time": "2022-03-06T07:05:52.446Z"
   },
   {
    "duration": 4,
    "start_time": "2022-03-06T07:09:10.288Z"
   },
   {
    "duration": 55571,
    "start_time": "2022-03-06T07:11:01.017Z"
   },
   {
    "duration": 1100,
    "start_time": "2022-03-06T07:13:09.179Z"
   },
   {
    "duration": 40,
    "start_time": "2022-03-06T07:13:10.280Z"
   },
   {
    "duration": 25,
    "start_time": "2022-03-06T07:13:10.322Z"
   },
   {
    "duration": 776,
    "start_time": "2022-03-06T07:13:10.348Z"
   },
   {
    "duration": 3,
    "start_time": "2022-03-06T07:13:11.126Z"
   },
   {
    "duration": 5,
    "start_time": "2022-03-06T07:18:23.389Z"
   },
   {
    "duration": 5,
    "start_time": "2022-03-06T07:18:36.237Z"
   },
   {
    "duration": 3,
    "start_time": "2022-03-06T07:29:34.402Z"
   },
   {
    "duration": 383,
    "start_time": "2022-03-06T07:31:10.386Z"
   },
   {
    "duration": 6114,
    "start_time": "2022-03-06T07:31:20.927Z"
   },
   {
    "duration": 4,
    "start_time": "2022-03-06T07:31:46.630Z"
   },
   {
    "duration": 3,
    "start_time": "2022-03-06T07:31:48.303Z"
   },
   {
    "duration": 777,
    "start_time": "2022-03-06T07:31:50.255Z"
   },
   {
    "duration": 530,
    "start_time": "2022-03-06T07:34:30.624Z"
   },
   {
    "duration": 6328,
    "start_time": "2022-03-06T07:38:42.791Z"
   },
   {
    "duration": 249,
    "start_time": "2022-03-06T07:38:51.545Z"
   },
   {
    "duration": 95,
    "start_time": "2022-03-06T07:52:30.695Z"
   },
   {
    "duration": 338,
    "start_time": "2022-03-06T07:56:27.027Z"
   },
   {
    "duration": 524,
    "start_time": "2022-03-06T08:10:52.790Z"
   },
   {
    "duration": 352,
    "start_time": "2022-03-06T08:13:38.106Z"
   },
   {
    "duration": 290,
    "start_time": "2022-03-06T08:13:46.733Z"
   },
   {
    "duration": 1072,
    "start_time": "2022-03-06T08:53:01.620Z"
   },
   {
    "duration": 31,
    "start_time": "2022-03-06T08:53:02.694Z"
   },
   {
    "duration": 27,
    "start_time": "2022-03-06T08:53:02.727Z"
   },
   {
    "duration": 3,
    "start_time": "2022-03-06T08:53:02.756Z"
   },
   {
    "duration": 707,
    "start_time": "2022-03-06T08:53:02.761Z"
   },
   {
    "duration": 5,
    "start_time": "2022-03-06T08:53:03.470Z"
   },
   {
    "duration": 6,
    "start_time": "2022-03-06T08:53:03.477Z"
   },
   {
    "duration": 791,
    "start_time": "2022-03-06T08:53:03.485Z"
   },
   {
    "duration": 362,
    "start_time": "2022-03-06T08:53:04.278Z"
   },
   {
    "duration": 338,
    "start_time": "2022-03-06T08:54:05.692Z"
   },
   {
    "duration": 240,
    "start_time": "2022-03-06T08:57:10.715Z"
   },
   {
    "duration": 261,
    "start_time": "2022-03-06T08:58:35.604Z"
   },
   {
    "duration": 236,
    "start_time": "2022-03-06T08:58:42.848Z"
   },
   {
    "duration": 240,
    "start_time": "2022-03-06T08:59:07.238Z"
   },
   {
    "duration": 237,
    "start_time": "2022-03-06T09:00:10.693Z"
   },
   {
    "duration": 6204,
    "start_time": "2022-03-06T09:01:23.208Z"
   },
   {
    "duration": 153,
    "start_time": "2022-03-06T09:01:33.808Z"
   },
   {
    "duration": 86062,
    "start_time": "2022-03-06T09:01:53.513Z"
   },
   {
    "duration": 241,
    "start_time": "2022-03-06T09:27:34.520Z"
   },
   {
    "duration": 1032,
    "start_time": "2022-03-06T09:28:53.948Z"
   },
   {
    "duration": 28,
    "start_time": "2022-03-06T09:28:54.982Z"
   },
   {
    "duration": 24,
    "start_time": "2022-03-06T09:28:55.012Z"
   },
   {
    "duration": 3,
    "start_time": "2022-03-06T09:28:55.038Z"
   },
   {
    "duration": 648,
    "start_time": "2022-03-06T09:28:55.043Z"
   },
   {
    "duration": 11,
    "start_time": "2022-03-06T09:28:55.693Z"
   },
   {
    "duration": 4,
    "start_time": "2022-03-06T09:28:55.706Z"
   },
   {
    "duration": 804,
    "start_time": "2022-03-06T09:28:55.713Z"
   },
   {
    "duration": 932,
    "start_time": "2022-03-06T09:28:56.519Z"
   },
   {
    "duration": 469,
    "start_time": "2022-03-06T09:29:36.352Z"
   },
   {
    "duration": 5,
    "start_time": "2022-03-06T09:30:28.529Z"
   },
   {
    "duration": 475,
    "start_time": "2022-03-06T09:30:34.419Z"
   },
   {
    "duration": 991,
    "start_time": "2022-03-06T09:30:43.764Z"
   },
   {
    "duration": 81,
    "start_time": "2022-03-06T09:31:10.710Z"
   },
   {
    "duration": 1504,
    "start_time": "2022-03-06T09:31:18.914Z"
   },
   {
    "duration": 4,
    "start_time": "2022-03-06T09:45:30.052Z"
   },
   {
    "duration": 8,
    "start_time": "2022-03-06T09:45:44.772Z"
   },
   {
    "duration": 12,
    "start_time": "2022-03-06T09:48:08.031Z"
   },
   {
    "duration": 22,
    "start_time": "2022-03-06T09:48:51.123Z"
   },
   {
    "duration": 3,
    "start_time": "2022-03-06T10:01:47.799Z"
   },
   {
    "duration": 1021,
    "start_time": "2022-03-06T10:02:02.857Z"
   },
   {
    "duration": 29,
    "start_time": "2022-03-06T10:02:03.880Z"
   },
   {
    "duration": 24,
    "start_time": "2022-03-06T10:02:03.911Z"
   },
   {
    "duration": 3,
    "start_time": "2022-03-06T10:02:03.936Z"
   },
   {
    "duration": 663,
    "start_time": "2022-03-06T10:02:03.941Z"
   },
   {
    "duration": 3,
    "start_time": "2022-03-06T10:02:04.606Z"
   },
   {
    "duration": 4,
    "start_time": "2022-03-06T10:02:04.611Z"
   },
   {
    "duration": 981,
    "start_time": "2022-03-06T10:02:04.617Z"
   },
   {
    "duration": 1153,
    "start_time": "2022-03-06T10:02:05.601Z"
   },
   {
    "duration": 8,
    "start_time": "2022-03-06T10:02:06.755Z"
   },
   {
    "duration": 19,
    "start_time": "2022-03-06T10:02:06.764Z"
   },
   {
    "duration": 3,
    "start_time": "2022-03-06T10:04:51.298Z"
   },
   {
    "duration": 1055,
    "start_time": "2022-03-06T10:05:03.328Z"
   },
   {
    "duration": 29,
    "start_time": "2022-03-06T10:05:04.385Z"
   },
   {
    "duration": 25,
    "start_time": "2022-03-06T10:05:04.415Z"
   },
   {
    "duration": 4,
    "start_time": "2022-03-06T10:05:04.441Z"
   },
   {
    "duration": 673,
    "start_time": "2022-03-06T10:05:04.446Z"
   },
   {
    "duration": 4,
    "start_time": "2022-03-06T10:05:05.120Z"
   },
   {
    "duration": 6,
    "start_time": "2022-03-06T10:05:05.125Z"
   },
   {
    "duration": 1250,
    "start_time": "2022-03-06T10:05:05.133Z"
   },
   {
    "duration": 874,
    "start_time": "2022-03-06T10:05:06.385Z"
   },
   {
    "duration": 7,
    "start_time": "2022-03-06T10:05:07.260Z"
   },
   {
    "duration": 33,
    "start_time": "2022-03-06T10:05:07.268Z"
   },
   {
    "duration": 1745,
    "start_time": "2022-03-11T04:21:33.721Z"
   },
   {
    "duration": 47,
    "start_time": "2022-03-11T04:21:35.468Z"
   },
   {
    "duration": 43,
    "start_time": "2022-03-11T04:21:35.518Z"
   },
   {
    "duration": 6,
    "start_time": "2022-03-11T04:21:35.564Z"
   },
   {
    "duration": 1329,
    "start_time": "2022-03-11T04:21:35.572Z"
   },
   {
    "duration": 7,
    "start_time": "2022-03-11T04:21:36.904Z"
   },
   {
    "duration": 19,
    "start_time": "2022-03-11T04:21:36.913Z"
   },
   {
    "duration": 2135,
    "start_time": "2022-03-11T04:21:36.934Z"
   },
   {
    "duration": 1695,
    "start_time": "2022-03-11T04:21:39.072Z"
   },
   {
    "duration": 12,
    "start_time": "2022-03-11T04:21:40.770Z"
   },
   {
    "duration": 57,
    "start_time": "2022-03-11T04:21:40.784Z"
   },
   {
    "duration": 1615,
    "start_time": "2022-03-11T04:28:06.667Z"
   },
   {
    "duration": 37,
    "start_time": "2022-03-11T04:28:08.285Z"
   },
   {
    "duration": 45,
    "start_time": "2022-03-11T04:28:08.325Z"
   },
   {
    "duration": 6,
    "start_time": "2022-03-11T04:28:08.372Z"
   },
   {
    "duration": 1133,
    "start_time": "2022-03-11T04:28:08.380Z"
   },
   {
    "duration": 18,
    "start_time": "2022-03-11T04:28:09.515Z"
   },
   {
    "duration": 6,
    "start_time": "2022-03-11T04:28:09.535Z"
   },
   {
    "duration": 2134,
    "start_time": "2022-03-11T04:28:09.543Z"
   },
   {
    "duration": 1553,
    "start_time": "2022-03-11T04:28:11.681Z"
   },
   {
    "duration": 12,
    "start_time": "2022-03-11T04:28:13.237Z"
   },
   {
    "duration": 31,
    "start_time": "2022-03-11T04:28:13.252Z"
   },
   {
    "duration": 1506,
    "start_time": "2022-03-11T04:28:27.448Z"
   },
   {
    "duration": 40,
    "start_time": "2022-03-11T04:28:28.957Z"
   },
   {
    "duration": 56,
    "start_time": "2022-03-11T04:28:29.001Z"
   },
   {
    "duration": 6,
    "start_time": "2022-03-11T04:28:29.060Z"
   },
   {
    "duration": 1090,
    "start_time": "2022-03-11T04:28:29.069Z"
   },
   {
    "duration": 8,
    "start_time": "2022-03-11T04:28:30.163Z"
   },
   {
    "duration": 13,
    "start_time": "2022-03-11T04:28:30.174Z"
   },
   {
    "duration": 2179,
    "start_time": "2022-03-11T04:28:30.190Z"
   },
   {
    "duration": 1590,
    "start_time": "2022-03-11T04:28:32.373Z"
   },
   {
    "duration": 12,
    "start_time": "2022-03-11T04:28:33.966Z"
   },
   {
    "duration": 55,
    "start_time": "2022-03-11T04:28:33.980Z"
   },
   {
    "duration": 477,
    "start_time": "2022-03-11T04:31:39.290Z"
   },
   {
    "duration": 18,
    "start_time": "2022-03-11T04:32:25.858Z"
   },
   {
    "duration": 20,
    "start_time": "2022-03-11T04:34:44.755Z"
   },
   {
    "duration": 17,
    "start_time": "2022-03-11T04:42:58.128Z"
   },
   {
    "duration": 282,
    "start_time": "2022-03-11T04:48:52.494Z"
   },
   {
    "duration": 6,
    "start_time": "2022-03-11T04:49:13.724Z"
   },
   {
    "duration": 294,
    "start_time": "2022-03-11T04:49:21.745Z"
   },
   {
    "duration": 293,
    "start_time": "2022-03-11T04:49:54.579Z"
   },
   {
    "duration": 30,
    "start_time": "2022-03-11T04:50:02.124Z"
   },
   {
    "duration": 26,
    "start_time": "2022-03-11T05:26:19.763Z"
   },
   {
    "duration": 25,
    "start_time": "2022-03-11T05:26:32.272Z"
   },
   {
    "duration": 24,
    "start_time": "2022-03-11T05:27:53.599Z"
   },
   {
    "duration": 26,
    "start_time": "2022-03-11T05:28:05.887Z"
   },
   {
    "duration": 1634,
    "start_time": "2022-03-11T05:31:06.011Z"
   },
   {
    "duration": 39,
    "start_time": "2022-03-11T05:31:07.649Z"
   },
   {
    "duration": 58,
    "start_time": "2022-03-11T05:31:07.693Z"
   },
   {
    "duration": 6,
    "start_time": "2022-03-11T05:31:07.754Z"
   },
   {
    "duration": 1249,
    "start_time": "2022-03-11T05:31:07.763Z"
   },
   {
    "duration": 6,
    "start_time": "2022-03-11T05:31:09.015Z"
   },
   {
    "duration": 4,
    "start_time": "2022-03-11T05:31:09.033Z"
   },
   {
    "duration": 2224,
    "start_time": "2022-03-11T05:31:09.040Z"
   },
   {
    "duration": 1607,
    "start_time": "2022-03-11T05:31:11.267Z"
   },
   {
    "duration": 13,
    "start_time": "2022-03-11T05:31:12.877Z"
   },
   {
    "duration": 56,
    "start_time": "2022-03-11T05:31:12.893Z"
   },
   {
    "duration": 18,
    "start_time": "2022-03-11T05:31:12.951Z"
   },
   {
    "duration": 455,
    "start_time": "2022-03-11T05:31:12.972Z"
   },
   {
    "duration": 1644,
    "start_time": "2022-03-11T05:32:15.416Z"
   },
   {
    "duration": 36,
    "start_time": "2022-03-11T05:32:17.063Z"
   },
   {
    "duration": 45,
    "start_time": "2022-03-11T05:32:17.102Z"
   },
   {
    "duration": 5,
    "start_time": "2022-03-11T05:32:17.150Z"
   },
   {
    "duration": 1200,
    "start_time": "2022-03-11T05:32:17.157Z"
   },
   {
    "duration": 8,
    "start_time": "2022-03-11T05:32:18.360Z"
   },
   {
    "duration": 4,
    "start_time": "2022-03-11T05:32:18.371Z"
   },
   {
    "duration": 2181,
    "start_time": "2022-03-11T05:32:18.378Z"
   },
   {
    "duration": 1794,
    "start_time": "2022-03-11T05:32:20.564Z"
   },
   {
    "duration": 15,
    "start_time": "2022-03-11T05:32:22.361Z"
   },
   {
    "duration": 62,
    "start_time": "2022-03-11T05:32:22.379Z"
   },
   {
    "duration": 19,
    "start_time": "2022-03-11T05:32:22.444Z"
   },
   {
    "duration": 30,
    "start_time": "2022-03-11T05:32:22.466Z"
   },
   {
    "duration": 17,
    "start_time": "2022-03-11T05:32:43.057Z"
   },
   {
    "duration": 159,
    "start_time": "2022-03-11T05:39:16.460Z"
   },
   {
    "duration": 37,
    "start_time": "2022-03-11T05:39:56.214Z"
   },
   {
    "duration": 11,
    "start_time": "2022-03-11T05:50:15.143Z"
   },
   {
    "duration": 99,
    "start_time": "2022-03-11T06:17:43.946Z"
   },
   {
    "duration": 434,
    "start_time": "2022-03-11T06:18:07.391Z"
   },
   {
    "duration": 8,
    "start_time": "2022-03-11T06:18:15.243Z"
   },
   {
    "duration": 720,
    "start_time": "2022-03-11T06:18:18.149Z"
   },
   {
    "duration": 6,
    "start_time": "2022-03-11T06:27:06.252Z"
   },
   {
    "duration": 8,
    "start_time": "2022-03-11T06:27:15.073Z"
   },
   {
    "duration": 835,
    "start_time": "2022-03-11T06:27:17.720Z"
   },
   {
    "duration": 8,
    "start_time": "2022-03-11T06:30:18.031Z"
   },
   {
    "duration": 780,
    "start_time": "2022-03-11T06:30:20.941Z"
   },
   {
    "duration": 8,
    "start_time": "2022-03-11T06:32:02.303Z"
   },
   {
    "duration": 1469,
    "start_time": "2022-03-11T06:32:05.166Z"
   },
   {
    "duration": 8,
    "start_time": "2022-03-11T06:35:22.320Z"
   },
   {
    "duration": 1391,
    "start_time": "2022-03-11T06:35:25.644Z"
   },
   {
    "duration": 9,
    "start_time": "2022-03-11T06:36:20.824Z"
   },
   {
    "duration": 9,
    "start_time": "2022-03-11T06:36:47.900Z"
   },
   {
    "duration": 8,
    "start_time": "2022-03-11T06:36:51.478Z"
   },
   {
    "duration": 928,
    "start_time": "2022-03-11T06:36:53.917Z"
   },
   {
    "duration": 9,
    "start_time": "2022-03-11T06:37:03.126Z"
   },
   {
    "duration": 14401,
    "start_time": "2022-03-11T06:37:19.863Z"
   },
   {
    "duration": 10,
    "start_time": "2022-03-11T06:57:25.014Z"
   },
   {
    "duration": 1496,
    "start_time": "2022-03-11T06:58:11.877Z"
   },
   {
    "duration": 37,
    "start_time": "2022-03-11T06:58:13.376Z"
   },
   {
    "duration": 49,
    "start_time": "2022-03-11T06:58:13.416Z"
   },
   {
    "duration": 5,
    "start_time": "2022-03-11T06:58:13.468Z"
   },
   {
    "duration": 1161,
    "start_time": "2022-03-11T06:58:13.476Z"
   },
   {
    "duration": 6,
    "start_time": "2022-03-11T06:58:14.639Z"
   },
   {
    "duration": 6,
    "start_time": "2022-03-11T06:58:14.648Z"
   },
   {
    "duration": 2208,
    "start_time": "2022-03-11T06:58:14.657Z"
   },
   {
    "duration": 1625,
    "start_time": "2022-03-11T06:58:16.869Z"
   },
   {
    "duration": 13,
    "start_time": "2022-03-11T06:58:18.497Z"
   },
   {
    "duration": 28,
    "start_time": "2022-03-11T06:58:18.513Z"
   },
   {
    "duration": 32,
    "start_time": "2022-03-11T06:58:18.544Z"
   },
   {
    "duration": 17,
    "start_time": "2022-03-11T06:58:18.579Z"
   },
   {
    "duration": 67,
    "start_time": "2022-03-11T06:58:18.599Z"
   },
   {
    "duration": 7,
    "start_time": "2022-03-11T06:58:18.669Z"
   },
   {
    "duration": 1557,
    "start_time": "2022-03-11T06:58:18.678Z"
   },
   {
    "duration": 95,
    "start_time": "2022-03-11T06:58:20.242Z"
   },
   {
    "duration": 14832,
    "start_time": "2022-03-11T06:58:20.339Z"
   },
   {
    "duration": 9,
    "start_time": "2022-03-11T06:58:35.173Z"
   },
   {
    "duration": 110509,
    "start_time": "2022-03-11T06:58:35.184Z"
   },
   {
    "duration": 1568,
    "start_time": "2022-03-11T07:00:52.108Z"
   },
   {
    "duration": 38,
    "start_time": "2022-03-11T07:00:53.678Z"
   },
   {
    "duration": 52,
    "start_time": "2022-03-11T07:00:53.720Z"
   },
   {
    "duration": 7,
    "start_time": "2022-03-11T07:00:53.775Z"
   },
   {
    "duration": 1104,
    "start_time": "2022-03-11T07:00:53.785Z"
   },
   {
    "duration": 7,
    "start_time": "2022-03-11T07:00:54.891Z"
   },
   {
    "duration": 9,
    "start_time": "2022-03-11T07:00:54.900Z"
   },
   {
    "duration": 2233,
    "start_time": "2022-03-11T07:00:54.911Z"
   },
   {
    "duration": 1742,
    "start_time": "2022-03-11T07:00:57.148Z"
   },
   {
    "duration": 13,
    "start_time": "2022-03-11T07:00:58.893Z"
   },
   {
    "duration": 30,
    "start_time": "2022-03-11T07:00:58.909Z"
   },
   {
    "duration": 31,
    "start_time": "2022-03-11T07:00:58.942Z"
   },
   {
    "duration": 17,
    "start_time": "2022-03-11T07:00:58.976Z"
   },
   {
    "duration": 69,
    "start_time": "2022-03-11T07:00:58.995Z"
   },
   {
    "duration": 8,
    "start_time": "2022-03-11T07:00:59.066Z"
   },
   {
    "duration": 1460,
    "start_time": "2022-03-11T07:00:59.076Z"
   },
   {
    "duration": 97,
    "start_time": "2022-03-11T07:01:00.539Z"
   },
   {
    "duration": 14154,
    "start_time": "2022-03-11T07:01:00.638Z"
   },
   {
    "duration": 9,
    "start_time": "2022-03-11T07:01:14.794Z"
   },
   {
    "duration": 320487,
    "start_time": "2022-03-11T07:01:14.805Z"
   },
   {
    "duration": 584,
    "start_time": "2022-03-11T07:11:59.462Z"
   },
   {
    "duration": 108,
    "start_time": "2022-03-11T07:12:39.346Z"
   },
   {
    "duration": 9,
    "start_time": "2022-03-11T07:24:02.427Z"
   },
   {
    "duration": 127020,
    "start_time": "2022-03-11T07:24:05.236Z"
   },
   {
    "duration": -142,
    "start_time": "2022-03-11T07:26:12.403Z"
   },
   {
    "duration": 45249,
    "start_time": "2022-03-11T07:26:14.524Z"
   },
   {
    "duration": 1537,
    "start_time": "2022-03-11T07:27:06.568Z"
   },
   {
    "duration": 57,
    "start_time": "2022-03-11T07:27:08.108Z"
   },
   {
    "duration": 70,
    "start_time": "2022-03-11T07:27:08.169Z"
   },
   {
    "duration": 7,
    "start_time": "2022-03-11T07:27:08.242Z"
   },
   {
    "duration": 1089,
    "start_time": "2022-03-11T07:27:08.251Z"
   },
   {
    "duration": 5,
    "start_time": "2022-03-11T07:27:09.343Z"
   },
   {
    "duration": 6,
    "start_time": "2022-03-11T07:27:09.351Z"
   },
   {
    "duration": 2204,
    "start_time": "2022-03-11T07:27:09.361Z"
   },
   {
    "duration": 1617,
    "start_time": "2022-03-11T07:27:11.568Z"
   },
   {
    "duration": 13,
    "start_time": "2022-03-11T07:27:13.187Z"
   },
   {
    "duration": 32,
    "start_time": "2022-03-11T07:27:13.202Z"
   },
   {
    "duration": 34,
    "start_time": "2022-03-11T07:27:13.236Z"
   },
   {
    "duration": 18,
    "start_time": "2022-03-11T07:27:13.273Z"
   },
   {
    "duration": 72,
    "start_time": "2022-03-11T07:27:13.293Z"
   },
   {
    "duration": 8,
    "start_time": "2022-03-11T07:27:13.367Z"
   },
   {
    "duration": 1563,
    "start_time": "2022-03-11T07:27:13.377Z"
   },
   {
    "duration": 10,
    "start_time": "2022-03-11T07:27:15.031Z"
   },
   {
    "duration": 14251,
    "start_time": "2022-03-11T07:27:15.043Z"
   },
   {
    "duration": 9,
    "start_time": "2022-03-11T07:27:29.296Z"
   },
   {
    "duration": 446,
    "start_time": "2022-03-11T07:27:29.307Z"
   },
   {
    "duration": -10,
    "start_time": "2022-03-11T07:27:29.766Z"
   },
   {
    "duration": 1606,
    "start_time": "2022-03-11T07:28:00.200Z"
   },
   {
    "duration": 39,
    "start_time": "2022-03-11T07:28:01.808Z"
   },
   {
    "duration": 44,
    "start_time": "2022-03-11T07:28:01.850Z"
   },
   {
    "duration": 6,
    "start_time": "2022-03-11T07:28:01.897Z"
   },
   {
    "duration": 1063,
    "start_time": "2022-03-11T07:28:01.933Z"
   },
   {
    "duration": 5,
    "start_time": "2022-03-11T07:28:02.999Z"
   },
   {
    "duration": 12,
    "start_time": "2022-03-11T07:28:03.007Z"
   },
   {
    "duration": 2280,
    "start_time": "2022-03-11T07:28:03.033Z"
   },
   {
    "duration": 1626,
    "start_time": "2022-03-11T07:28:05.317Z"
   },
   {
    "duration": 15,
    "start_time": "2022-03-11T07:28:06.946Z"
   },
   {
    "duration": 13,
    "start_time": "2022-03-11T07:28:06.964Z"
   },
   {
    "duration": 72,
    "start_time": "2022-03-11T07:28:06.979Z"
   },
   {
    "duration": 20,
    "start_time": "2022-03-11T07:28:07.054Z"
   },
   {
    "duration": 69,
    "start_time": "2022-03-11T07:28:07.077Z"
   },
   {
    "duration": 7,
    "start_time": "2022-03-11T07:28:07.149Z"
   },
   {
    "duration": 1380,
    "start_time": "2022-03-11T07:28:07.158Z"
   },
   {
    "duration": 95,
    "start_time": "2022-03-11T07:28:08.541Z"
   },
   {
    "duration": 13922,
    "start_time": "2022-03-11T07:28:08.639Z"
   },
   {
    "duration": 10,
    "start_time": "2022-03-11T07:28:22.564Z"
   },
   {
    "duration": 14296,
    "start_time": "2022-03-11T07:28:22.576Z"
   },
   {
    "duration": 134,
    "start_time": "2022-03-11T07:28:36.875Z"
   },
   {
    "duration": 1371,
    "start_time": "2022-03-11T07:36:17.965Z"
   },
   {
    "duration": 14951,
    "start_time": "2022-03-11T07:36:19.433Z"
   },
   {
    "duration": 13290,
    "start_time": "2022-03-11T07:36:34.386Z"
   },
   {
    "duration": 1570,
    "start_time": "2022-03-11T07:41:27.694Z"
   },
   {
    "duration": 38,
    "start_time": "2022-03-11T07:41:29.267Z"
   },
   {
    "duration": 53,
    "start_time": "2022-03-11T07:41:29.309Z"
   },
   {
    "duration": 7,
    "start_time": "2022-03-11T07:41:29.365Z"
   },
   {
    "duration": 1141,
    "start_time": "2022-03-11T07:41:29.375Z"
   },
   {
    "duration": 18,
    "start_time": "2022-03-11T07:41:30.520Z"
   },
   {
    "duration": 7,
    "start_time": "2022-03-11T07:41:30.540Z"
   },
   {
    "duration": 2227,
    "start_time": "2022-03-11T07:41:30.549Z"
   },
   {
    "duration": 1602,
    "start_time": "2022-03-11T07:41:32.780Z"
   },
   {
    "duration": 13,
    "start_time": "2022-03-11T07:41:34.385Z"
   },
   {
    "duration": 33,
    "start_time": "2022-03-11T07:41:34.401Z"
   },
   {
    "duration": 32,
    "start_time": "2022-03-11T07:41:34.436Z"
   },
   {
    "duration": 18,
    "start_time": "2022-03-11T07:41:34.471Z"
   },
   {
    "duration": 65,
    "start_time": "2022-03-11T07:41:34.492Z"
   },
   {
    "duration": 7,
    "start_time": "2022-03-11T07:41:34.560Z"
   },
   {
    "duration": 1366,
    "start_time": "2022-03-11T07:41:34.569Z"
   },
   {
    "duration": 99,
    "start_time": "2022-03-11T07:41:35.938Z"
   },
   {
    "duration": 14140,
    "start_time": "2022-03-11T07:41:36.040Z"
   },
   {
    "duration": 10,
    "start_time": "2022-03-11T07:41:50.182Z"
   },
   {
    "duration": 13839,
    "start_time": "2022-03-11T07:41:50.194Z"
   },
   {
    "duration": 129,
    "start_time": "2022-03-11T07:42:04.035Z"
   },
   {
    "duration": 1568,
    "start_time": "2022-03-11T07:42:04.167Z"
   },
   {
    "duration": 14935,
    "start_time": "2022-03-11T07:42:05.739Z"
   },
   {
    "duration": 13756,
    "start_time": "2022-03-11T07:42:20.677Z"
   },
   {
    "duration": 6,
    "start_time": "2022-03-11T07:44:33.478Z"
   },
   {
    "duration": 6,
    "start_time": "2022-03-11T07:44:52.492Z"
   },
   {
    "duration": 5,
    "start_time": "2022-03-11T07:45:38.515Z"
   },
   {
    "duration": 7,
    "start_time": "2022-03-11T07:45:40.466Z"
   },
   {
    "duration": 468,
    "start_time": "2022-03-11T08:01:19.125Z"
   },
   {
    "duration": 5,
    "start_time": "2022-03-11T08:01:28.002Z"
   },
   {
    "duration": 6,
    "start_time": "2022-03-11T08:01:32.402Z"
   },
   {
    "duration": 566,
    "start_time": "2022-03-11T08:05:10.857Z"
   },
   {
    "duration": 6,
    "start_time": "2022-03-11T08:06:13.517Z"
   },
   {
    "duration": 5,
    "start_time": "2022-03-11T08:06:43.593Z"
   },
   {
    "duration": 5682,
    "start_time": "2022-03-11T08:06:45.352Z"
   },
   {
    "duration": 7118,
    "start_time": "2022-03-11T08:07:01.221Z"
   },
   {
    "duration": 5319,
    "start_time": "2022-03-11T08:07:31.116Z"
   },
   {
    "duration": 57843,
    "start_time": "2022-03-11T08:08:36.535Z"
   },
   {
    "duration": 62531,
    "start_time": "2022-03-11T08:09:34.381Z"
   },
   {
    "duration": 50702,
    "start_time": "2022-03-11T08:11:12.465Z"
   },
   {
    "duration": -26,
    "start_time": "2022-03-11T08:12:03.196Z"
   },
   {
    "duration": 1575,
    "start_time": "2022-03-11T08:12:08.300Z"
   },
   {
    "duration": 38,
    "start_time": "2022-03-11T08:12:09.878Z"
   },
   {
    "duration": 47,
    "start_time": "2022-03-11T08:12:09.918Z"
   },
   {
    "duration": 7,
    "start_time": "2022-03-11T08:12:09.967Z"
   },
   {
    "duration": 1111,
    "start_time": "2022-03-11T08:12:09.976Z"
   },
   {
    "duration": 6,
    "start_time": "2022-03-11T08:12:11.090Z"
   },
   {
    "duration": 6,
    "start_time": "2022-03-11T08:12:11.098Z"
   },
   {
    "duration": 2191,
    "start_time": "2022-03-11T08:12:11.108Z"
   },
   {
    "duration": 1722,
    "start_time": "2022-03-11T08:12:13.302Z"
   },
   {
    "duration": 13,
    "start_time": "2022-03-11T08:12:15.032Z"
   },
   {
    "duration": 12,
    "start_time": "2022-03-11T08:12:15.047Z"
   },
   {
    "duration": 32,
    "start_time": "2022-03-11T08:12:15.061Z"
   },
   {
    "duration": 52,
    "start_time": "2022-03-11T08:12:15.095Z"
   },
   {
    "duration": 40,
    "start_time": "2022-03-11T08:12:15.149Z"
   },
   {
    "duration": 7,
    "start_time": "2022-03-11T08:12:15.192Z"
   },
   {
    "duration": 1437,
    "start_time": "2022-03-11T08:12:15.202Z"
   },
   {
    "duration": 98,
    "start_time": "2022-03-11T08:12:16.642Z"
   },
   {
    "duration": 13922,
    "start_time": "2022-03-11T08:12:16.742Z"
   },
   {
    "duration": 9,
    "start_time": "2022-03-11T08:12:30.666Z"
   },
   {
    "duration": 13619,
    "start_time": "2022-03-11T08:12:30.678Z"
   },
   {
    "duration": 135,
    "start_time": "2022-03-11T08:12:44.301Z"
   },
   {
    "duration": 1497,
    "start_time": "2022-03-11T08:12:44.439Z"
   },
   {
    "duration": 15182,
    "start_time": "2022-03-11T08:12:45.942Z"
   },
   {
    "duration": 13479,
    "start_time": "2022-03-11T08:13:01.126Z"
   },
   {
    "duration": 24,
    "start_time": "2022-03-11T08:13:14.608Z"
   },
   {
    "duration": 5203,
    "start_time": "2022-03-11T08:13:14.634Z"
   },
   {
    "duration": 71904,
    "start_time": "2022-03-11T08:13:19.841Z"
   },
   {
    "duration": 75111,
    "start_time": "2022-03-11T08:14:31.748Z"
   },
   {
    "duration": 6,
    "start_time": "2022-03-11T08:15:46.864Z"
   },
   {
    "duration": 497,
    "start_time": "2022-03-11T08:25:35.418Z"
   },
   {
    "duration": 7,
    "start_time": "2022-03-11T08:26:01.409Z"
   },
   {
    "duration": 307,
    "start_time": "2022-03-11T08:26:02.075Z"
   },
   {
    "duration": 1134,
    "start_time": "2022-03-11T08:28:22.701Z"
   },
   {
    "duration": 3705,
    "start_time": "2022-03-11T08:28:35.730Z"
   },
   {
    "duration": 4443,
    "start_time": "2022-03-11T08:28:47.097Z"
   },
   {
    "duration": 32612,
    "start_time": "2022-03-11T08:29:30.076Z"
   },
   {
    "duration": 30952,
    "start_time": "2022-03-11T08:30:02.691Z"
   },
   {
    "duration": 1471,
    "start_time": "2022-03-11T08:31:36.187Z"
   },
   {
    "duration": 36,
    "start_time": "2022-03-11T08:31:37.661Z"
   },
   {
    "duration": 47,
    "start_time": "2022-03-11T08:31:37.700Z"
   },
   {
    "duration": 5,
    "start_time": "2022-03-11T08:31:37.750Z"
   },
   {
    "duration": 1179,
    "start_time": "2022-03-11T08:31:37.758Z"
   },
   {
    "duration": 6,
    "start_time": "2022-03-11T08:31:38.939Z"
   },
   {
    "duration": 8,
    "start_time": "2022-03-11T08:31:38.947Z"
   },
   {
    "duration": 2159,
    "start_time": "2022-03-11T08:31:38.958Z"
   },
   {
    "duration": 1587,
    "start_time": "2022-03-11T08:31:41.120Z"
   },
   {
    "duration": 25,
    "start_time": "2022-03-11T08:31:42.710Z"
   },
   {
    "duration": 12,
    "start_time": "2022-03-11T08:31:42.737Z"
   },
   {
    "duration": 34,
    "start_time": "2022-03-11T08:31:42.751Z"
   },
   {
    "duration": 50,
    "start_time": "2022-03-11T08:31:42.787Z"
   },
   {
    "duration": 37,
    "start_time": "2022-03-11T08:31:42.840Z"
   },
   {
    "duration": 7,
    "start_time": "2022-03-11T08:31:42.880Z"
   },
   {
    "duration": 1546,
    "start_time": "2022-03-11T08:31:42.889Z"
   },
   {
    "duration": 9,
    "start_time": "2022-03-11T08:31:44.438Z"
   },
   {
    "duration": 14039,
    "start_time": "2022-03-11T08:31:44.449Z"
   },
   {
    "duration": 8,
    "start_time": "2022-03-11T08:31:58.491Z"
   },
   {
    "duration": 13701,
    "start_time": "2022-03-11T08:31:58.502Z"
   },
   {
    "duration": 126,
    "start_time": "2022-03-11T08:32:12.206Z"
   },
   {
    "duration": 1205,
    "start_time": "2022-03-11T08:32:12.335Z"
   },
   {
    "duration": 15437,
    "start_time": "2022-03-11T08:32:13.635Z"
   },
   {
    "duration": 13986,
    "start_time": "2022-03-11T08:32:29.075Z"
   },
   {
    "duration": 7,
    "start_time": "2022-03-11T08:32:43.064Z"
   },
   {
    "duration": 6658,
    "start_time": "2022-03-11T08:32:43.074Z"
   },
   {
    "duration": 56531,
    "start_time": "2022-03-11T08:32:49.736Z"
   },
   {
    "duration": 60917,
    "start_time": "2022-03-11T08:33:46.269Z"
   },
   {
    "duration": 6,
    "start_time": "2022-03-11T08:34:47.188Z"
   },
   {
    "duration": 6337,
    "start_time": "2022-03-11T08:34:47.196Z"
   },
   {
    "duration": 42471,
    "start_time": "2022-03-11T08:34:53.536Z"
   },
   {
    "duration": 39977,
    "start_time": "2022-03-11T08:35:36.009Z"
   },
   {
    "duration": 304,
    "start_time": "2022-03-11T09:00:37.754Z"
   },
   {
    "duration": 274,
    "start_time": "2022-03-11T09:00:56.381Z"
   },
   {
    "duration": 1637,
    "start_time": "2022-03-11T09:01:11.736Z"
   },
   {
    "duration": 257,
    "start_time": "2022-03-11T09:01:20.580Z"
   },
   {
    "duration": 1485,
    "start_time": "2022-03-11T09:13:24.279Z"
   },
   {
    "duration": 38,
    "start_time": "2022-03-11T09:13:25.767Z"
   },
   {
    "duration": 57,
    "start_time": "2022-03-11T09:13:25.808Z"
   },
   {
    "duration": 6,
    "start_time": "2022-03-11T09:13:25.868Z"
   },
   {
    "duration": 1103,
    "start_time": "2022-03-11T09:13:25.877Z"
   },
   {
    "duration": 6,
    "start_time": "2022-03-11T09:13:26.983Z"
   },
   {
    "duration": 11,
    "start_time": "2022-03-11T09:13:26.991Z"
   },
   {
    "duration": 2201,
    "start_time": "2022-03-11T09:13:27.006Z"
   },
   {
    "duration": 1646,
    "start_time": "2022-03-11T09:13:29.210Z"
   },
   {
    "duration": 13,
    "start_time": "2022-03-11T09:13:30.858Z"
   },
   {
    "duration": 12,
    "start_time": "2022-03-11T09:13:30.873Z"
   },
   {
    "duration": 66,
    "start_time": "2022-03-11T09:13:30.887Z"
   },
   {
    "duration": 20,
    "start_time": "2022-03-11T09:13:30.956Z"
   },
   {
    "duration": 65,
    "start_time": "2022-03-11T09:13:30.978Z"
   },
   {
    "duration": 8,
    "start_time": "2022-03-11T09:13:31.046Z"
   },
   {
    "duration": 1381,
    "start_time": "2022-03-11T09:13:31.056Z"
   },
   {
    "duration": 99,
    "start_time": "2022-03-11T09:13:32.440Z"
   },
   {
    "duration": 13994,
    "start_time": "2022-03-11T09:13:32.542Z"
   },
   {
    "duration": 10,
    "start_time": "2022-03-11T09:13:46.538Z"
   },
   {
    "duration": 13510,
    "start_time": "2022-03-11T09:13:46.550Z"
   },
   {
    "duration": 137,
    "start_time": "2022-03-11T09:14:00.064Z"
   },
   {
    "duration": 1139,
    "start_time": "2022-03-11T09:14:00.204Z"
   },
   {
    "duration": 14963,
    "start_time": "2022-03-11T09:14:01.436Z"
   },
   {
    "duration": 17110,
    "start_time": "2022-03-11T09:14:16.402Z"
   },
   {
    "duration": 19,
    "start_time": "2022-03-11T09:14:33.514Z"
   },
   {
    "duration": 5702,
    "start_time": "2022-03-11T09:14:33.535Z"
   },
   {
    "duration": 55534,
    "start_time": "2022-03-11T09:14:39.240Z"
   },
   {
    "duration": 58414,
    "start_time": "2022-03-11T09:15:34.776Z"
   },
   {
    "duration": 6,
    "start_time": "2022-03-11T09:16:33.194Z"
   },
   {
    "duration": 6631,
    "start_time": "2022-03-11T09:16:33.202Z"
   },
   {
    "duration": 40534,
    "start_time": "2022-03-11T09:16:39.836Z"
   },
   {
    "duration": 38943,
    "start_time": "2022-03-11T09:17:20.373Z"
   },
   {
    "duration": 295,
    "start_time": "2022-03-11T09:17:59.318Z"
   },
   {
    "duration": 271,
    "start_time": "2022-03-11T09:17:59.616Z"
   },
   {
    "duration": 275,
    "start_time": "2022-03-11T09:18:42.877Z"
   },
   {
    "duration": 274,
    "start_time": "2022-03-11T09:18:49.782Z"
   },
   {
    "duration": 265,
    "start_time": "2022-03-11T09:19:01.114Z"
   },
   {
    "duration": 359,
    "start_time": "2022-03-12T10:08:47.379Z"
   },
   {
    "duration": 1610,
    "start_time": "2022-03-12T10:29:41.362Z"
   },
   {
    "duration": 37,
    "start_time": "2022-03-12T10:29:42.975Z"
   },
   {
    "duration": 46,
    "start_time": "2022-03-12T10:29:43.015Z"
   },
   {
    "duration": 6,
    "start_time": "2022-03-12T10:29:43.063Z"
   },
   {
    "duration": 1114,
    "start_time": "2022-03-12T10:29:43.071Z"
   },
   {
    "duration": 6,
    "start_time": "2022-03-12T10:29:44.188Z"
   },
   {
    "duration": 18,
    "start_time": "2022-03-12T10:29:44.196Z"
   },
   {
    "duration": 2379,
    "start_time": "2022-03-12T10:29:44.218Z"
   },
   {
    "duration": 2135,
    "start_time": "2022-03-12T10:29:46.601Z"
   },
   {
    "duration": 15,
    "start_time": "2022-03-12T10:29:48.739Z"
   },
   {
    "duration": 28,
    "start_time": "2022-03-12T10:29:48.757Z"
   },
   {
    "duration": 65,
    "start_time": "2022-03-12T10:29:48.788Z"
   },
   {
    "duration": 22,
    "start_time": "2022-03-12T10:29:48.857Z"
   },
   {
    "duration": 69,
    "start_time": "2022-03-12T10:29:48.882Z"
   },
   {
    "duration": 11,
    "start_time": "2022-03-12T10:29:48.955Z"
   },
   {
    "duration": 1878,
    "start_time": "2022-03-12T10:29:48.969Z"
   },
   {
    "duration": 96,
    "start_time": "2022-03-12T10:29:50.936Z"
   },
   {
    "duration": 16021,
    "start_time": "2022-03-12T10:29:51.035Z"
   },
   {
    "duration": 9,
    "start_time": "2022-03-12T10:30:07.059Z"
   },
   {
    "duration": 14439,
    "start_time": "2022-03-12T10:30:07.070Z"
   },
   {
    "duration": 141,
    "start_time": "2022-03-12T10:30:21.512Z"
   },
   {
    "duration": 1779,
    "start_time": "2022-03-12T10:30:21.656Z"
   },
   {
    "duration": 17867,
    "start_time": "2022-03-12T10:30:23.443Z"
   },
   {
    "duration": 15528,
    "start_time": "2022-03-12T10:30:41.312Z"
   },
   {
    "duration": 6,
    "start_time": "2022-03-12T10:30:56.842Z"
   },
   {
    "duration": 5784,
    "start_time": "2022-03-12T10:30:56.851Z"
   },
   {
    "duration": 59323,
    "start_time": "2022-03-12T10:31:02.639Z"
   },
   {
    "duration": 63446,
    "start_time": "2022-03-12T10:32:01.965Z"
   },
   {
    "duration": 20,
    "start_time": "2022-03-12T10:33:05.413Z"
   },
   {
    "duration": 6308,
    "start_time": "2022-03-12T10:33:05.435Z"
   },
   {
    "duration": 45336,
    "start_time": "2022-03-12T10:33:11.833Z"
   },
   {
    "duration": 43737,
    "start_time": "2022-03-12T10:33:57.172Z"
   },
   {
    "duration": 302,
    "start_time": "2022-03-12T10:34:40.912Z"
   },
   {
    "duration": 613,
    "start_time": "2022-03-12T10:34:41.216Z"
   },
   {
    "duration": 732,
    "start_time": "2022-03-12T10:47:40.808Z"
   },
   {
    "duration": 583,
    "start_time": "2022-03-12T10:47:50.687Z"
   },
   {
    "duration": 603,
    "start_time": "2022-03-12T10:48:04.849Z"
   },
   {
    "duration": 668,
    "start_time": "2022-03-12T10:48:46.159Z"
   },
   {
    "duration": 638,
    "start_time": "2022-03-12T10:50:04.269Z"
   },
   {
    "duration": 692,
    "start_time": "2022-03-12T10:50:16.109Z"
   },
   {
    "duration": 626,
    "start_time": "2022-03-12T10:50:26.664Z"
   },
   {
    "duration": 838,
    "start_time": "2022-03-12T10:50:47.236Z"
   },
   {
    "duration": 756,
    "start_time": "2022-03-12T10:51:31.441Z"
   },
   {
    "duration": 648,
    "start_time": "2022-03-12T10:51:49.393Z"
   },
   {
    "duration": 741,
    "start_time": "2022-03-12T10:52:26.837Z"
   }
  ],
  "kernelspec": {
   "display_name": "Python 3 (ipykernel)",
   "language": "python",
   "name": "python3"
  },
  "language_info": {
   "codemirror_mode": {
    "name": "ipython",
    "version": 3
   },
   "file_extension": ".py",
   "mimetype": "text/x-python",
   "name": "python",
   "nbconvert_exporter": "python",
   "pygments_lexer": "ipython3",
   "version": "3.8.8"
  },
  "toc": {
   "base_numbering": 1,
   "nav_menu": {},
   "number_sections": true,
   "sideBar": true,
   "skip_h1_title": true,
   "title_cell": "Содержание",
   "title_sidebar": "Contents",
   "toc_cell": true,
   "toc_position": {},
   "toc_section_display": true,
   "toc_window_display": true
  }
 },
 "nbformat": 4,
 "nbformat_minor": 2
}
