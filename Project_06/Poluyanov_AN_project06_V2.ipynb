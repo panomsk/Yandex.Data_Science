{
 "cells": [
  {
   "cell_type": "markdown",
   "metadata": {},
   "source": [
    "# Рекомендация тарифов"
   ]
  },
  {
   "cell_type": "markdown",
   "metadata": {},
   "source": [
    "## Описание проекта\n",
    "Оператор мобильной связи «Мегалайн» выяснил: многие клиенты пользуются архивными тарифами. Они хотят построить систему, способную проанализировать поведение клиентов и предложить пользователям новый тариф: «Смарт» или «Ультра».\n",
    "В вашем распоряжении данные о поведении клиентов, которые уже перешли на эти тарифы (из проекта курса «Статистический анализ данных»). Нужно построить модель для задачи классификации, которая выберет подходящий тариф. Предобработка данных не понадобится — вы её уже сделали.\n",
    "Постройте модель с максимально большим значением accuracy. Чтобы сдать проект успешно, нужно довести долю правильных ответов по крайней мере до 0.75. Проверьте accuracy на тестовой выборке самостоятельно.\n"
   ]
  },
  {
   "cell_type": "markdown",
   "metadata": {},
   "source": [
    "**Описание данных**  \n",
    "\n",
    "Каждый объект в наборе данных — это информация о поведении одного пользователя за месяц. Известно:  \n",
    "•\tсalls — количество звонков,  \n",
    "•\tminutes — суммарная длительность звонков в минутах,  \n",
    "•\tmessages — количество sms-сообщений,  \n",
    "•\tmb_used — израсходованный интернет-трафик в Мб,  \n",
    "•\tis_ultra — каким тарифом пользовался в течение месяца («Ультра» — 1, «Смарт» — 0).  "
   ]
  },
  {
   "cell_type": "markdown",
   "metadata": {},
   "source": [
    "## Откройте и изучите файл"
   ]
  },
  {
   "cell_type": "markdown",
   "metadata": {},
   "source": [
    "**Путь к файлу: /datasets/users_behavior.csv**  "
   ]
  },
  {
   "cell_type": "code",
   "execution_count": 1,
   "metadata": {},
   "outputs": [],
   "source": [
    "#подключение библиотек, используемых в проекте\n",
    "import pandas as pd\n",
    "import numpy as np\n",
    "import matplotlib.pyplot as plt\n",
    "import seaborn as sb\n",
    "from sklearn.ensemble import RandomForestClassifier\n",
    "from sklearn.linear_model import LogisticRegression\n",
    "from sklearn.tree import DecisionTreeClassifier\n",
    "from sklearn.model_selection import train_test_split\n",
    "from sklearn.metrics import accuracy_score\n",
    "from sklearn.dummy import DummyClassifier\n",
    "from tqdm import tqdm\n",
    "\n",
    "pd.set_option('display.max_columns', None)\n",
    "pd.set_option('display.max_rows', None)"
   ]
  },
  {
   "cell_type": "code",
   "execution_count": 2,
   "metadata": {},
   "outputs": [],
   "source": [
    "try:\n",
    "    df = pd.read_csv('/datasets/users_behavior.csv')\n",
    "except:\n",
    "    df = pd.read_csv('datasets\\\\users_behavior.csv')"
   ]
  },
  {
   "cell_type": "code",
   "execution_count": 3,
   "metadata": {},
   "outputs": [
    {
     "name": "stdout",
     "output_type": "stream",
     "text": [
      "<class 'pandas.core.frame.DataFrame'>\n",
      "RangeIndex: 3214 entries, 0 to 3213\n",
      "Data columns (total 5 columns):\n",
      "calls       3214 non-null float64\n",
      "minutes     3214 non-null float64\n",
      "messages    3214 non-null float64\n",
      "mb_used     3214 non-null float64\n",
      "is_ultra    3214 non-null int64\n",
      "dtypes: float64(4), int64(1)\n",
      "memory usage: 125.7 KB\n"
     ]
    },
    {
     "data": {
      "text/html": [
       "<div>\n",
       "<style scoped>\n",
       "    .dataframe tbody tr th:only-of-type {\n",
       "        vertical-align: middle;\n",
       "    }\n",
       "\n",
       "    .dataframe tbody tr th {\n",
       "        vertical-align: top;\n",
       "    }\n",
       "\n",
       "    .dataframe thead th {\n",
       "        text-align: right;\n",
       "    }\n",
       "</style>\n",
       "<table border=\"1\" class=\"dataframe\">\n",
       "  <thead>\n",
       "    <tr style=\"text-align: right;\">\n",
       "      <th></th>\n",
       "      <th>calls</th>\n",
       "      <th>minutes</th>\n",
       "      <th>messages</th>\n",
       "      <th>mb_used</th>\n",
       "      <th>is_ultra</th>\n",
       "    </tr>\n",
       "  </thead>\n",
       "  <tbody>\n",
       "    <tr>\n",
       "      <td>0</td>\n",
       "      <td>40.0</td>\n",
       "      <td>311.90</td>\n",
       "      <td>83.0</td>\n",
       "      <td>19915.42</td>\n",
       "      <td>0</td>\n",
       "    </tr>\n",
       "    <tr>\n",
       "      <td>1</td>\n",
       "      <td>85.0</td>\n",
       "      <td>516.75</td>\n",
       "      <td>56.0</td>\n",
       "      <td>22696.96</td>\n",
       "      <td>0</td>\n",
       "    </tr>\n",
       "    <tr>\n",
       "      <td>2</td>\n",
       "      <td>77.0</td>\n",
       "      <td>467.66</td>\n",
       "      <td>86.0</td>\n",
       "      <td>21060.45</td>\n",
       "      <td>0</td>\n",
       "    </tr>\n",
       "    <tr>\n",
       "      <td>3</td>\n",
       "      <td>106.0</td>\n",
       "      <td>745.53</td>\n",
       "      <td>81.0</td>\n",
       "      <td>8437.39</td>\n",
       "      <td>1</td>\n",
       "    </tr>\n",
       "    <tr>\n",
       "      <td>4</td>\n",
       "      <td>66.0</td>\n",
       "      <td>418.74</td>\n",
       "      <td>1.0</td>\n",
       "      <td>14502.75</td>\n",
       "      <td>0</td>\n",
       "    </tr>\n",
       "  </tbody>\n",
       "</table>\n",
       "</div>"
      ],
      "text/plain": [
       "   calls  minutes  messages   mb_used  is_ultra\n",
       "0   40.0   311.90      83.0  19915.42         0\n",
       "1   85.0   516.75      56.0  22696.96         0\n",
       "2   77.0   467.66      86.0  21060.45         0\n",
       "3  106.0   745.53      81.0   8437.39         1\n",
       "4   66.0   418.74       1.0  14502.75         0"
      ]
     },
     "metadata": {},
     "output_type": "display_data"
    },
    {
     "name": "stdout",
     "output_type": "stream",
     "text": [
      "Дубликатов в исходных данных:  0\n"
     ]
    }
   ],
   "source": [
    "df.info()\n",
    "display(df.head())\n",
    "print('Дубликатов в исходных данных: ',df.duplicated().sum())"
   ]
  },
  {
   "cell_type": "markdown",
   "metadata": {},
   "source": [
    "Предварительно проанализируем распределение и статистические показатели признаков (calls, minutes, messages, mb_used) объектов в зависимости от значения целевого признака (is_ultra).\n",
    "Определим вспомогательную функцию для построения гистограмм."
   ]
  },
  {
   "cell_type": "code",
   "execution_count": 4,
   "metadata": {},
   "outputs": [],
   "source": [
    "def hist_show(df_ultra, df_smart, col, bins=30):\n",
    "    ax = df_ultra.plot(kind='hist', histtype = 'step', y=col, color = 'red', alpha = 0.5, bins = bins, figsize=(8,6), linewidth = 2, density=True)\n",
    "    df_smart.plot(kind='hist', histtype = 'step', y=col, color='green', ax=ax, alpha = 0.5, bins = bins, linewidth = 2, density=True)\n",
    "    ax.legend(['ULTRA '+col,'SMART '+col])"
   ]
  },
  {
   "cell_type": "code",
   "execution_count": 5,
   "metadata": {
    "scrolled": false
   },
   "outputs": [
    {
     "data": {
      "image/png": "[encoded data removed]",
      "text/plain": [
       "<Figure size 576x432 with 1 Axes>"
      ]
     },
     "metadata": {
      "needs_background": "light"
     },
     "output_type": "display_data"
    },
    {
     "data": {
      "image/png": "[encoded data removed]",
      "text/plain": [
       "<Figure size 576x432 with 1 Axes>"
      ]
     },
     "metadata": {
      "needs_background": "light"
     },
     "output_type": "display_data"
    },
    {
     "data": {
      "image/png": "[encoded data removed]",
      "text/plain": [
       "<Figure size 576x432 with 1 Axes>"
      ]
     },
     "metadata": {
      "needs_background": "light"
     },
     "output_type": "display_data"
    },
    {
     "data": {
      "image/png": "[encoded data removed]",
      "text/plain": [
       "<Figure size 576x432 with 1 Axes>"
      ]
     },
     "metadata": {
      "needs_background": "light"
     },
     "output_type": "display_data"
    },
    {
     "data": {
      "text/html": [
       "<div>\n",
       "<style scoped>\n",
       "    .dataframe tbody tr th:only-of-type {\n",
       "        vertical-align: middle;\n",
       "    }\n",
       "\n",
       "    .dataframe tbody tr th {\n",
       "        vertical-align: top;\n",
       "    }\n",
       "\n",
       "    .dataframe thead tr th {\n",
       "        text-align: left;\n",
       "    }\n",
       "\n",
       "    .dataframe thead tr:last-of-type th {\n",
       "        text-align: right;\n",
       "    }\n",
       "</style>\n",
       "<table border=\"1\" class=\"dataframe\">\n",
       "  <thead>\n",
       "    <tr>\n",
       "      <th></th>\n",
       "      <th colspan=\"4\" halign=\"left\">min</th>\n",
       "      <th colspan=\"4\" halign=\"left\">max</th>\n",
       "      <th colspan=\"4\" halign=\"left\">mean</th>\n",
       "      <th colspan=\"4\" halign=\"left\">median</th>\n",
       "      <th colspan=\"4\" halign=\"left\">std</th>\n",
       "      <th colspan=\"4\" halign=\"left\">var</th>\n",
       "    </tr>\n",
       "    <tr>\n",
       "      <th></th>\n",
       "      <th>calls</th>\n",
       "      <th>mb_used</th>\n",
       "      <th>messages</th>\n",
       "      <th>minutes</th>\n",
       "      <th>calls</th>\n",
       "      <th>mb_used</th>\n",
       "      <th>messages</th>\n",
       "      <th>minutes</th>\n",
       "      <th>calls</th>\n",
       "      <th>mb_used</th>\n",
       "      <th>messages</th>\n",
       "      <th>minutes</th>\n",
       "      <th>calls</th>\n",
       "      <th>mb_used</th>\n",
       "      <th>messages</th>\n",
       "      <th>minutes</th>\n",
       "      <th>calls</th>\n",
       "      <th>mb_used</th>\n",
       "      <th>messages</th>\n",
       "      <th>minutes</th>\n",
       "      <th>calls</th>\n",
       "      <th>mb_used</th>\n",
       "      <th>messages</th>\n",
       "      <th>minutes</th>\n",
       "    </tr>\n",
       "    <tr>\n",
       "      <th>is_ultra</th>\n",
       "      <th></th>\n",
       "      <th></th>\n",
       "      <th></th>\n",
       "      <th></th>\n",
       "      <th></th>\n",
       "      <th></th>\n",
       "      <th></th>\n",
       "      <th></th>\n",
       "      <th></th>\n",
       "      <th></th>\n",
       "      <th></th>\n",
       "      <th></th>\n",
       "      <th></th>\n",
       "      <th></th>\n",
       "      <th></th>\n",
       "      <th></th>\n",
       "      <th></th>\n",
       "      <th></th>\n",
       "      <th></th>\n",
       "      <th></th>\n",
       "      <th></th>\n",
       "      <th></th>\n",
       "      <th></th>\n",
       "      <th></th>\n",
       "    </tr>\n",
       "  </thead>\n",
       "  <tbody>\n",
       "    <tr>\n",
       "      <td>0</td>\n",
       "      <td>0.0</td>\n",
       "      <td>0.0</td>\n",
       "      <td>0.0</td>\n",
       "      <td>0.0</td>\n",
       "      <td>198.0</td>\n",
       "      <td>38552.62</td>\n",
       "      <td>143.0</td>\n",
       "      <td>1390.22</td>\n",
       "      <td>58.46</td>\n",
       "      <td>16208.47</td>\n",
       "      <td>33.38</td>\n",
       "      <td>405.94</td>\n",
       "      <td>60.0</td>\n",
       "      <td>16506.93</td>\n",
       "      <td>28.0</td>\n",
       "      <td>410.56</td>\n",
       "      <td>25.94</td>\n",
       "      <td>5870.50</td>\n",
       "      <td>28.23</td>\n",
       "      <td>184.51</td>\n",
       "      <td>672.88</td>\n",
       "      <td>3.446276e+07</td>\n",
       "      <td>796.81</td>\n",
       "      <td>34044.90</td>\n",
       "    </tr>\n",
       "    <tr>\n",
       "      <td>1</td>\n",
       "      <td>0.0</td>\n",
       "      <td>0.0</td>\n",
       "      <td>0.0</td>\n",
       "      <td>0.0</td>\n",
       "      <td>244.0</td>\n",
       "      <td>49745.73</td>\n",
       "      <td>224.0</td>\n",
       "      <td>1632.06</td>\n",
       "      <td>73.39</td>\n",
       "      <td>19468.82</td>\n",
       "      <td>49.36</td>\n",
       "      <td>511.22</td>\n",
       "      <td>74.0</td>\n",
       "      <td>19308.01</td>\n",
       "      <td>38.0</td>\n",
       "      <td>502.55</td>\n",
       "      <td>43.92</td>\n",
       "      <td>10087.18</td>\n",
       "      <td>47.80</td>\n",
       "      <td>308.03</td>\n",
       "      <td>1928.69</td>\n",
       "      <td>1.017512e+08</td>\n",
       "      <td>2285.27</td>\n",
       "      <td>94883.16</td>\n",
       "    </tr>\n",
       "  </tbody>\n",
       "</table>\n",
       "</div>"
      ],
      "text/plain": [
       "           min                             max                              \\\n",
       "         calls mb_used messages minutes  calls   mb_used messages  minutes   \n",
       "is_ultra                                                                     \n",
       "0          0.0     0.0      0.0     0.0  198.0  38552.62    143.0  1390.22   \n",
       "1          0.0     0.0      0.0     0.0  244.0  49745.73    224.0  1632.06   \n",
       "\n",
       "           mean                            median                             \\\n",
       "          calls   mb_used messages minutes  calls   mb_used messages minutes   \n",
       "is_ultra                                                                       \n",
       "0         58.46  16208.47    33.38  405.94   60.0  16506.93     28.0  410.56   \n",
       "1         73.39  19468.82    49.36  511.22   74.0  19308.01     38.0  502.55   \n",
       "\n",
       "            std                                 var                         \\\n",
       "          calls   mb_used messages minutes    calls       mb_used messages   \n",
       "is_ultra                                                                     \n",
       "0         25.94   5870.50    28.23  184.51   672.88  3.446276e+07   796.81   \n",
       "1         43.92  10087.18    47.80  308.03  1928.69  1.017512e+08  2285.27   \n",
       "\n",
       "                    \n",
       "           minutes  \n",
       "is_ultra            \n",
       "0         34044.90  \n",
       "1         94883.16  "
      ]
     },
     "metadata": {},
     "output_type": "display_data"
    },
    {
     "name": "stdout",
     "output_type": "stream",
     "text": [
      "Выборка по тарифу ультра содержит  985 объектов, что составляет 30.65 % от общей выборки\n",
      "Выборка по тарифу смарт содержит  2229 объектов, что составляет 69.35 % от общей выборки\n"
     ]
    }
   ],
   "source": [
    "hist_show(df[df['is_ultra']==1], df[df['is_ultra']==0], 'calls')\n",
    "hist_show(df[df['is_ultra']==1], df[df['is_ultra']==0], 'minutes')\n",
    "hist_show(df[df['is_ultra']==1], df[df['is_ultra']==0], 'messages')\n",
    "hist_show(df[df['is_ultra']==1], df[df['is_ultra']==0], 'mb_used')\n",
    "plt.show()\n",
    "\n",
    "pvt_stats = df.pivot_table(index='is_ultra', values=['calls','minutes','messages', 'mb_used'], aggfunc=['min','max','mean', 'median', 'std', 'var'])\n",
    "display(pvt_stats.round(2))\n",
    "objects_count = df.shape[0]\n",
    "ultra_count = df[df['is_ultra']==1].shape[0]\n",
    "smart_count = df[df['is_ultra']==0].shape[0]\n",
    "print('Выборка по тарифу ультра содержит ', ultra_count, 'объектов, что составляет', round(100*ultra_count/objects_count,2), '% от общей выборки')\n",
    "print('Выборка по тарифу смарт содержит ', smart_count, 'объектов, что составляет', round(100*smart_count/objects_count,2), '% от общей выборки')"
   ]
  },
  {
   "cell_type": "markdown",
   "metadata": {},
   "source": [
    "### Выводы"
   ]
  },
  {
   "cell_type": "markdown",
   "metadata": {},
   "source": [
    "- Данные из файла users_behavior.csv загружены в dataframe с именем df.      \n",
    "- Набор данных состоит из 5 колонок (4 признака и 1 целевой признак) и 3214 записей (объектов).      \n",
    "- Дубликаты в исходных данных отсутствуют.  \n",
    "- Дополнительной обработки данные не требуют.    \n",
    "- Судя по гистограммам клиенты обоих тарифов пользуются услугами примерно одинаково (формы распределений похожи), исходя из статистических показателей средние и медианные значения по объему оказанных услуг выше у тарифа УЛЬТРА.\n",
    "- Важно отметить, что у нас наблюдается перекос в выборках, клиентов тарифа СМАРТ значительно больше (более чем в два раза), чем пользователей тарифа УЛЬТРА. В нашем случае, при проверки модели на вменяемость, нужно ориентироваться на показатель Accuracy не в 50% а в 70%. Поскольку если использовать модель, которая будет для любых значений признаков выдавать на выходе тариф \"Смарт\", то получим значение Accuracy около 70%."
   ]
  },
  {
   "cell_type": "markdown",
   "metadata": {},
   "source": [
    "## Разбейте данные на выборки"
   ]
  },
  {
   "cell_type": "markdown",
   "metadata": {},
   "source": [
    "Исходные данные необходимо разбить на 3 выборки:    \n",
    "- Обучающую (train)\n",
    "- Валидационную (valid)    \n",
    "- Тестовую (test)    \n",
    "Обучающая выборка используется для обучения модели, валидационная выборка необходима для подбора гиперпараметров модели и позволяет бороться с переобучением. Тестовая выборка используется для проверки качества полученной модели, отобранной на валидационной выборке.    \n",
    "основное требование к тестовой выборки - она не должна никоим образом использоваться на этапе обучения и валидации модели, иначе полученные результаты будут некорректными.    \n",
    "Существуют разные подходы к пропорциям разбиения исходных данных: известный популяризатор машинного обучения, профессор Стэнфордского университета Andrew Ng на своих курсах рекомендует пропорцию 70-15-15, на курсе Яндекс.практикум рекомендуют разбиение 60-20-20.   \n",
    "Воспользуемся в данной работе пропорцией 60-20-20, но добавим возможность задавать требуемое значение по необходимости.    \n",
    "Для обеспечения повторяемости результатов исследования зададим random_state = 12345"
   ]
  },
  {
   "cell_type": "code",
   "execution_count": 6,
   "metadata": {},
   "outputs": [],
   "source": [
    "#параметры разбиения выборки\n",
    "test_size=0.2\n",
    "rnd_state=12345"
   ]
  },
  {
   "cell_type": "markdown",
   "metadata": {},
   "source": [
    "Датафрейм без целевого признака запишем в датафрейм features, значение целевого признака в серию target"
   ]
  },
  {
   "cell_type": "code",
   "execution_count": 7,
   "metadata": {},
   "outputs": [],
   "source": [
    "features = df.drop(['is_ultra'], axis=1)\n",
    "target = df['is_ultra']"
   ]
  },
  {
   "cell_type": "code",
   "execution_count": 8,
   "metadata": {},
   "outputs": [],
   "source": [
    "features_train, features_valid, target_train, target_valid = train_test_split(\n",
    "    features, target, test_size=2*test_size, random_state=rnd_state)"
   ]
  },
  {
   "cell_type": "code",
   "execution_count": 9,
   "metadata": {},
   "outputs": [],
   "source": [
    "features_valid, features_test, target_valid, target_test = train_test_split(\n",
    "    features_valid, target_valid, test_size=0.5, random_state=rnd_state)"
   ]
  },
  {
   "cell_type": "code",
   "execution_count": 10,
   "metadata": {},
   "outputs": [
    {
     "name": "stdout",
     "output_type": "stream",
     "text": [
      "Выполнено разбиение:\n",
      "Размер обучающей выборки = 1928\n",
      "Размер валидационной выборки = 643\n",
      "Размер тестовой выборки = 643\n"
     ]
    }
   ],
   "source": [
    "print('Выполнено разбиение:') \n",
    "print('Размер обучающей выборки =', len(target_train))\n",
    "print('Размер валидационной выборки =', len(target_valid))\n",
    "print('Размер тестовой выборки =', len(target_test))"
   ]
  },
  {
   "cell_type": "markdown",
   "metadata": {},
   "source": [
    "### Выводы"
   ]
  },
  {
   "cell_type": "markdown",
   "metadata": {},
   "source": [
    "- Исходная выборка разбита на обучающую, валидационную и тестовую выборки в пропорции 60-20-20"
   ]
  },
  {
   "cell_type": "markdown",
   "metadata": {},
   "source": [
    "## Исследуйте модели"
   ]
  },
  {
   "cell_type": "markdown",
   "metadata": {},
   "source": [
    "В качестве моделей для бинарной классификации используем логистическую регрессию, дерево решений и случайный лес.    \n",
    "Заранее можно предположить, что случайный лес должен показать лучшие результаты исходя из того что эта модель более сложная и лучше может уловить зависимости в исходных данных - тут главное не переобучить, поэтому будем настраивать гиперпараметры моделей по валидационной выборке.    "
   ]
  },
  {
   "cell_type": "markdown",
   "metadata": {},
   "source": [
    "### Логистическая регрессия"
   ]
  },
  {
   "cell_type": "markdown",
   "metadata": {},
   "source": [
    "Предварительно проанализировав работу метода, в качестве настраиваемого гиперпараметра, который может повлиять на accuracy используем solver (метод поиска оптимальных коэффициентов)."
   ]
  },
  {
   "cell_type": "code",
   "execution_count": 11,
   "metadata": {
    "collapsed": true
   },
   "outputs": [
    {
     "name": "stderr",
     "output_type": "stream",
     "text": [
      "/opt/conda/lib/python3.7/site-packages/scipy/optimize/linesearch.py:466: LineSearchWarning: The line search algorithm did not converge\n",
      "  warn('The line search algorithm did not converge', LineSearchWarning)\n",
      "/opt/conda/lib/python3.7/site-packages/scipy/optimize/linesearch.py:314: LineSearchWarning: The line search algorithm did not converge\n",
      "  warn('The line search algorithm did not converge', LineSearchWarning)\n"
     ]
    }
   ],
   "source": [
    "best_model = None\n",
    "best_result = 0\n",
    "for solver in {'newton-cg', 'lbfgs', 'liblinear', 'sag', 'saga'}:\n",
    "    model = LogisticRegression(random_state=rnd_state, solver=solver, max_iter=5000)\n",
    "    model.fit(features_train, target_train)\n",
    "    result = model.score(features_valid, target_valid)\n",
    "    if result > best_result:\n",
    "        best_model = model\n",
    "        best_result = result"
   ]
  },
  {
   "cell_type": "code",
   "execution_count": 12,
   "metadata": {},
   "outputs": [
    {
     "name": "stdout",
     "output_type": "stream",
     "text": [
      "LogisticRegression(C=1.0, class_weight=None, dual=False, fit_intercept=True,\n",
      "                   intercept_scaling=1, l1_ratio=None, max_iter=5000,\n",
      "                   multi_class='warn', n_jobs=None, penalty='l2',\n",
      "                   random_state=12345, solver='liblinear', tol=0.0001,\n",
      "                   verbose=0, warm_start=False)\n",
      "Accuracy наилучшей модели на валидационной выборке: 0.76\n"
     ]
    }
   ],
   "source": [
    "print(best_model)        \n",
    "print(\"Accuracy наилучшей модели на валидационной выборке:\", best_result.round(2))"
   ]
  },
  {
   "cell_type": "markdown",
   "metadata": {},
   "source": [
    "### Дерево решений"
   ]
  },
  {
   "cell_type": "markdown",
   "metadata": {},
   "source": [
    "В качестве гиперпараметров модели будем использовать:    \n",
    "- criterion {gini, entropy} - функция для измерения качества разбиения    \n",
    "- splitter{'best', 'random'} - стратегия разбиения узлов    \n",
    "- max_depth - максимальная глубина дерева\n",
    "- min_samples_split - минимальное количество объектов для разбиения узла"
   ]
  },
  {
   "cell_type": "code",
   "execution_count": 13,
   "metadata": {},
   "outputs": [
    {
     "name": "stdout",
     "output_type": "stream",
     "text": [
      "DecisionTreeClassifier(class_weight=None, criterion='gini', max_depth=9,\n",
      "                       max_features=None, max_leaf_nodes=None,\n",
      "                       min_impurity_decrease=0.0, min_impurity_split=None,\n",
      "                       min_samples_leaf=1, min_samples_split=4,\n",
      "                       min_weight_fraction_leaf=0.0, presort=False,\n",
      "                       random_state=12345, splitter='random')\n",
      "Accuracy наилучшей модели на валидационной выборке: 0.79\n"
     ]
    }
   ],
   "source": [
    "best_model = None\n",
    "best_result = 0\n",
    "\n",
    "for criterion in {'gini', 'entropy'}:\n",
    "    for splitter in {'best', 'random'}:\n",
    "        for max_depth in range(1, 20, 1):\n",
    "            for min_samples_split in range(2, 10):\n",
    "                model = DecisionTreeClassifier(random_state=rnd_state, criterion=criterion, splitter=splitter, max_depth=max_depth, min_samples_split=min_samples_split)\n",
    "                model.fit(features_train,target_train)\n",
    "                result = model.score(features_valid,target_valid)\n",
    "                if result > best_result:\n",
    "                    best_model = model\n",
    "                    best_result = result\n",
    "\n",
    "print(best_model)        \n",
    "print(\"Accuracy наилучшей модели на валидационной выборке:\", best_result.round(2))\n",
    "\n",
    "result_test = model.score(features_test,target_test)"
   ]
  },
  {
   "cell_type": "markdown",
   "metadata": {},
   "source": [
    "### Случайный лес"
   ]
  },
  {
   "cell_type": "markdown",
   "metadata": {},
   "source": [
    "В качестве гиперпараметров модели будем использовать:    \n",
    "- criterion {gini, entropy} - функция для измерения качества разбиения    \n",
    "- n_estimators - количество деревьев в лесу    \n",
    "- max_depth - максимальная глубина дерева\n",
    "- min_samples_split - минимальное количество объектов для разбиения узла"
   ]
  },
  {
   "cell_type": "code",
   "execution_count": 14,
   "metadata": {},
   "outputs": [
    {
     "name": "stderr",
     "output_type": "stream",
     "text": [
      "100%|██████████| 14/14 [01:53<00:00,  8.07s/it]"
     ]
    },
    {
     "name": "stdout",
     "output_type": "stream",
     "text": [
      "RandomForestClassifier(bootstrap=True, class_weight=None, criterion='gini',\n",
      "                       max_depth=7, max_features='auto', max_leaf_nodes=None,\n",
      "                       min_impurity_decrease=0.0, min_impurity_split=None,\n",
      "                       min_samples_leaf=1, min_samples_split=4,\n",
      "                       min_weight_fraction_leaf=0.0, n_estimators=40,\n",
      "                       n_jobs=None, oob_score=False, random_state=12345,\n",
      "                       verbose=0, warm_start=False)\n",
      "Accuracy наилучшей модели на валидационной выборке: 0.81\n"
     ]
    },
    {
     "name": "stderr",
     "output_type": "stream",
     "text": [
      "\n"
     ]
    }
   ],
   "source": [
    "best_model = None\n",
    "best_result = 0\n",
    "for max_depth in tqdm(range(1, 15, 1)):\n",
    "    for n_estimators in range(10, 110, 10):\n",
    "        for criterion in {'gini', 'entropy'}:\n",
    "            for min_samples_split in range(2, 5, 1):\n",
    "                model = RandomForestClassifier(random_state=rnd_state, criterion=criterion, n_estimators=n_estimators, max_depth=max_depth, min_samples_split=min_samples_split)\n",
    "                model.fit(features_train,target_train)\n",
    "                result = model.score(features_valid,target_valid)\n",
    "                if result > best_result:\n",
    "                    best_model = model\n",
    "                    best_result = result\n",
    "                    \n",
    "                    \n",
    "\n",
    "print(best_model)\n",
    "print(\"Accuracy наилучшей модели на валидационной выборке:\", best_result.round(2))"
   ]
  },
  {
   "cell_type": "markdown",
   "metadata": {},
   "source": [
    "### Выводы"
   ]
  },
  {
   "cell_type": "markdown",
   "metadata": {},
   "source": [
    "- Исследованы три модели машинного обучения для классификации: логистическая регрессия, дерево решений и случайный лес. Проведена настройка гиперпараметров моделей для подбора параметров с максимальным значением accuracy на валидационной выборке.    \n",
    "- Наилучшие результату accuracy = 0.81 получены для модели RandomForestClassifier со следующими параметрами:\n",
    "\n",
    "RandomForestClassifier(bootstrap=True, class_weight=None, criterion='gini',\n",
    "                       max_depth=8, max_features='auto', max_leaf_nodes=None,\n",
    "                       min_impurity_decrease=0.0, min_impurity_split=None,\n",
    "                       min_samples_leaf=1, min_samples_split=4,\n",
    "                       min_weight_fraction_leaf=0.0, n_estimators=30,\n",
    "                       n_jobs=None, oob_score=False, random_state=12345,\n",
    "                       verbose=0, warm_start=False)\n"
   ]
  },
  {
   "cell_type": "markdown",
   "metadata": {},
   "source": [
    "## Проверьте модель на тестовой выборке"
   ]
  },
  {
   "cell_type": "markdown",
   "metadata": {},
   "source": [
    "Наилучшие результаты для валидационной выборки получены для модели Случайный лес. Проверим данную модель на тестовой выборке."
   ]
  },
  {
   "cell_type": "code",
   "execution_count": 17,
   "metadata": {},
   "outputs": [
    {
     "name": "stdout",
     "output_type": "stream",
     "text": [
      "Accuracy наилучшей модели RandomForestClassifier на валидационной выборке: 0.81\n",
      "Accuracy наилучшей модели RandomForestClassifier на тестовой выборке: 0.8\n"
     ]
    }
   ],
   "source": [
    "model = RandomForestClassifier(bootstrap=True, class_weight=None, criterion='gini',\n",
    "                       max_depth=7, max_features='auto', max_leaf_nodes=None,\n",
    "                       min_impurity_decrease=0.0, min_impurity_split=None,\n",
    "                       min_samples_leaf=1, min_samples_split=4,\n",
    "                       min_weight_fraction_leaf=0.0, n_estimators=40,\n",
    "                       n_jobs=None, oob_score=False, random_state=12345,\n",
    "                       verbose=0, warm_start=False)\n",
    "\n",
    "model.fit(features_train,target_train)\n",
    "\n",
    "result_valid = accuracy_score(model.predict(features_valid),target_valid)\n",
    "result_test = accuracy_score(model.predict(features_test),target_test)\n",
    "\n",
    "print(\"Accuracy наилучшей модели RandomForestClassifier на валидационной выборке:\", result_valid.round(2))\n",
    "print(\"Accuracy наилучшей модели RandomForestClassifier на тестовой выборке:\", result_test.round(2))"
   ]
  },
  {
   "cell_type": "markdown",
   "metadata": {},
   "source": [
    "### Выводы"
   ]
  },
  {
   "cell_type": "markdown",
   "metadata": {},
   "source": [
    "- На тестовой выборке проверена лучшая модель Случайный лес, показавшая лучшие результаты Accuracy на валидационной выборке:    \n",
    "Accuracy наилучшей модели RandomForestClassifier на валидационной выборке: 0.81    \n",
    "Accuracy наилучшей модели RandomForestClassifier на тестовой выборке: 0.8"
   ]
  },
  {
   "cell_type": "markdown",
   "metadata": {},
   "source": [
    "## (бонус) Проверьте модели на адекватность"
   ]
  },
  {
   "cell_type": "markdown",
   "metadata": {},
   "source": [
    "Важно отметить, что у нас наблюдается перекос в выборках, клиентов тарифа СМАРТ значительно больше (более чем в два раза), чем пользователей тарифа УЛЬТРА. В нашем случае, при проверки модели на вменяемость, нужно ориентироваться на показатель Accuracy не в 50% а в 70%. Поскольку если использовать модель, которая будет для любых значений признаков выдавать на выходе тариф \"Смарт\", то получим значение Accuracy около 70%.    \n",
    "Можно конечно данные цифры не проверять, но поскольку в sklearn есть специально разработанные для этой проверки инструменты - давайте проверим."
   ]
  },
  {
   "cell_type": "code",
   "execution_count": 16,
   "metadata": {},
   "outputs": [
    {
     "name": "stdout",
     "output_type": "stream",
     "text": [
      "Accuracy модели DummyClassifier с параметром strategy= most_frequent на тестовой выборке: 0.68\n",
      "Accuracy модели DummyClassifier с параметром strategy= stratified на тестовой выборке: 0.54\n",
      "Accuracy модели DummyClassifier с параметром strategy= uniform на тестовой выборке: 0.48\n"
     ]
    }
   ],
   "source": [
    "for strategy in ('most_frequent', 'stratified', 'uniform'):\n",
    "    model = DummyClassifier(strategy=strategy, random_state=rnd_state)\n",
    "    model.fit(features_train,target_train)\n",
    "    result = model.score(features_test,target_test)\n",
    "    print('Accuracy модели DummyClassifier с параметром strategy=', strategy,'на тестовой выборке:', result.round(2))"
   ]
  },
  {
   "cell_type": "markdown",
   "metadata": {},
   "source": [
    "Полученные результаты полностью соответствуют предположениям.    \n",
    "- Для стратегии most_frequent (когда предсказывается всегда тариф смарт, как чаще встречающийся в обучающей выборке) получен результат accuracy=0,68    \n",
    "- Для стратегии uniform (когда предсказывается результат выбирается случайным образом с вероятностью 50/50) получен результат accuracy=0,48    \n",
    "- Для стратегии stratified (когда предсказывается результат выбирается случайным образом с вероятностью 30/70 - для нашего случая с учетом распределения целевого признака в обучающей выборке) получен результат accuracy=0,54 - промежуточное значение между двумя предыдущими стратегиями \n",
    "\n",
    "Результаты для полученной модели RandomForestClassifier выше чем для модели DummyClassifier, поэтому можно говорить о вменяемости полученной модели"
   ]
  },
  {
   "cell_type": "markdown",
   "metadata": {},
   "source": [
    "### Выводы"
   ]
  },
  {
   "cell_type": "markdown",
   "metadata": {},
   "source": [
    "- Результаты для полученной модели RandomForestClassifier выше чем для модели DummyClassifier, поэтому можно сделать вывод, что обученная модель - вменяема"
   ]
  },
  {
   "cell_type": "markdown",
   "metadata": {},
   "source": [
    "## Общий вывод по проекту"
   ]
  },
  {
   "cell_type": "markdown",
   "metadata": {},
   "source": [
    "**При выполнении проекта:**\n",
    "\n",
    "На этапе загрузки и изучения данных:\n",
    "- Данные из файла users_behavior.csv загружены в dataframe с именем df.      \n",
    "- Набор данных состоит из 5 колонок (4 признака и 1 целевой признак) и 3214 записей (объектов).      \n",
    "- Дубликаты в исходных данных отсутствуют.  \n",
    "- Дополнительной обработки данные не требуют.    \n",
    "- Судя по гистограммам клиенты обоих тарифов пользуются услугами примерно одинаково (формы распределений похожи), исходя из статистических показателей средние и медианные значения по объему оказанных услуг выше у тарифа УЛЬТРА.\n",
    "- Важно отметить, что у нас наблюдается перекос в выборках, клиентов тарифа СМАРТ значительно больше (более чем в два раза), чем пользователей тарифа УЛЬТРА. В нашем случае, при проверки модели на вменяемость, нужно ориентироваться на показатель Accuracy не в 50% а в 70%. Поскольку если использовать модель, которая будет для любых значений признаков выдавать на выходе тариф \"Смарт\", то получим значение Accuracy около 70%.    \n",
    "\n",
    "На этапе разбиения исходных данных:\n",
    "- Исходная выборка разбита на обучающую, валидационную и тестовую выборки в пропорции 60-20-20    \n",
    "\n",
    "На этапе исследования моделей:    \n",
    "- Исследованы три модели машинного обучения для классификации: логистическая регрессия, дерево решений и случайный лес. Проведена настройка гиперпараметров моделей для подбора параметров с максимальным значением accuracy на валидационной выборке.    \n",
    "- Наилучшие результату accuracy = 0.82 получены для модели RandomForestClassifier со следующими параметрами:\n",
    "                       RandomForestClassifier    \n",
    "                       (bootstrap=True, class_weight=None, criterion='gini',\n",
    "                       max_depth=7, max_features='auto', max_leaf_nodes=None,\n",
    "                       min_impurity_decrease=0.0, min_impurity_split=None,\n",
    "                       min_samples_leaf=1, min_samples_split=4,\n",
    "                       min_weight_fraction_leaf=0.0, n_estimators=40,\n",
    "                       n_jobs=None, oob_score=False, random_state=12345,\n",
    "                       verbose=0, warm_start=False)\n",
    "\n",
    "На этапе проверки модели на тестовых данных:    \n",
    "- На тестовой выборке проверена лучшая модель Случайный лес, показавшая лучшие результаты Accuracy на валидационной выборке:    \n",
    "Accuracy наилучшей модели RandomForestClassifier на валидационной выборке: 0.81    \n",
    "Accuracy наилучшей модели RandomForestClassifier на тестовой выборке: 0.8\n",
    "\n",
    "На этапе проверки на вменяемость:\n",
    "- Проверена вменяемость полученной модели путем сравнения с моделью DummyClassifier.    \n",
    "- Результаты для полученной модели RandomForestClassifier выше чем для модели DummyClassifier, поэтому можно сделать вывод, что обученная модель - вменяема\n"
   ]
  },
  {
   "cell_type": "markdown",
   "metadata": {},
   "source": [
    "## Чек-лист готовности проекта"
   ]
  },
  {
   "cell_type": "markdown",
   "metadata": {},
   "source": [
    "Поставьте 'x' в выполненных пунктах. Далее нажмите Shift+Enter."
   ]
  },
  {
   "cell_type": "markdown",
   "metadata": {},
   "source": [
    "- [x] Jupyter Notebook открыт\n",
    "- [x] Весь код исполняется без ошибок\n",
    "- [x] Ячейки с кодом расположены в порядке исполнения\n",
    "- [x] Выполнено задание 1: данные загружены и изучены\n",
    "- [x] Выполнено задание 2: данные разбиты на три выборки\n",
    "- [x] Выполнено задание 3: проведено исследование моделей\n",
    "    - [x] Рассмотрено больше одной модели\n",
    "    - [x] Рассмотрено хотя бы 3 значения гипепараметров для какой-нибудь модели\n",
    "    - [x] Написаны выводы по результатам исследования\n",
    "- [x] Выполнено задание 3: Проведено тестирование\n",
    "- [x] Удалось достичь accuracy не меньше 0.75\n"
   ]
  }
 ],
 "metadata": {
  "ExecuteTimeLog": [
   {
    "duration": 1136,
    "start_time": "2022-01-27T07:01:04.508Z"
   },
   {
    "duration": 19,
    "start_time": "2022-01-27T07:01:05.646Z"
   },
   {
    "duration": 20,
    "start_time": "2022-01-27T07:01:05.667Z"
   },
   {
    "duration": 8,
    "start_time": "2022-01-27T07:01:05.689Z"
   },
   {
    "duration": 1003,
    "start_time": "2022-01-27T07:01:05.699Z"
   },
   {
    "duration": 956,
    "start_time": "2022-01-27T07:01:25.552Z"
   },
   {
    "duration": 3,
    "start_time": "2022-01-27T07:32:31.930Z"
   },
   {
    "duration": 3,
    "start_time": "2022-01-27T07:40:35.391Z"
   },
   {
    "duration": 2,
    "start_time": "2022-01-27T07:46:03.639Z"
   },
   {
    "duration": 4,
    "start_time": "2022-01-27T07:49:45.509Z"
   },
   {
    "duration": 228,
    "start_time": "2022-01-27T07:50:03.071Z"
   },
   {
    "duration": 7,
    "start_time": "2022-01-27T07:51:10.526Z"
   },
   {
    "duration": 5,
    "start_time": "2022-01-27T07:51:19.868Z"
   },
   {
    "duration": 130,
    "start_time": "2022-01-27T07:52:52.067Z"
   },
   {
    "duration": 4,
    "start_time": "2022-01-27T07:53:17.780Z"
   },
   {
    "duration": 6,
    "start_time": "2022-01-27T08:03:45.533Z"
   },
   {
    "duration": 6,
    "start_time": "2022-01-27T08:03:46.315Z"
   },
   {
    "duration": 262,
    "start_time": "2022-01-27T08:03:55.421Z"
   },
   {
    "duration": 164,
    "start_time": "2022-01-27T08:04:22.682Z"
   },
   {
    "duration": 150,
    "start_time": "2022-01-27T08:04:40.539Z"
   },
   {
    "duration": 184,
    "start_time": "2022-01-27T08:04:51.577Z"
   },
   {
    "duration": 144,
    "start_time": "2022-01-27T08:05:05.956Z"
   },
   {
    "duration": 14,
    "start_time": "2022-01-27T08:05:11.494Z"
   },
   {
    "duration": 168,
    "start_time": "2022-01-27T08:05:22.829Z"
   },
   {
    "duration": 14,
    "start_time": "2022-01-27T08:05:37.488Z"
   },
   {
    "duration": 89,
    "start_time": "2022-01-27T08:07:22.119Z"
   },
   {
    "duration": 53,
    "start_time": "2022-01-27T08:07:27.020Z"
   },
   {
    "duration": 45,
    "start_time": "2022-01-27T08:07:46.460Z"
   },
   {
    "duration": 3,
    "start_time": "2022-01-27T08:15:12.249Z"
   },
   {
    "duration": 5,
    "start_time": "2022-01-27T08:15:54.775Z"
   },
   {
    "duration": 6,
    "start_time": "2022-01-27T08:16:27.851Z"
   },
   {
    "duration": 4,
    "start_time": "2022-01-27T08:16:31.284Z"
   },
   {
    "duration": 6,
    "start_time": "2022-01-27T08:16:32.853Z"
   },
   {
    "duration": 5,
    "start_time": "2022-01-27T08:16:33.656Z"
   },
   {
    "duration": 4,
    "start_time": "2022-01-27T08:16:34.667Z"
   },
   {
    "duration": 41,
    "start_time": "2022-01-27T08:17:13.784Z"
   },
   {
    "duration": 8,
    "start_time": "2022-01-27T08:17:15.876Z"
   },
   {
    "duration": 15,
    "start_time": "2022-01-27T08:33:50.531Z"
   },
   {
    "duration": 35,
    "start_time": "2022-01-27T08:35:27.231Z"
   },
   {
    "duration": 276,
    "start_time": "2022-01-27T08:35:56.611Z"
   },
   {
    "duration": 69,
    "start_time": "2022-01-27T08:39:44.581Z"
   },
   {
    "duration": 69,
    "start_time": "2022-01-27T08:39:55.383Z"
   },
   {
    "duration": 187,
    "start_time": "2022-01-27T08:40:15.823Z"
   },
   {
    "duration": 156,
    "start_time": "2022-01-27T08:41:11.498Z"
   },
   {
    "duration": 35,
    "start_time": "2022-01-27T08:41:20.681Z"
   },
   {
    "duration": 279,
    "start_time": "2022-01-27T08:49:22.535Z"
   },
   {
    "duration": 36,
    "start_time": "2022-01-27T08:49:26.125Z"
   },
   {
    "duration": 16,
    "start_time": "2022-01-27T08:49:31.800Z"
   },
   {
    "duration": 1181,
    "start_time": "2022-01-27T09:09:31.604Z"
   },
   {
    "duration": 1216,
    "start_time": "2022-01-27T09:09:55.186Z"
   },
   {
    "duration": 296,
    "start_time": "2022-01-27T09:10:06.311Z"
   },
   {
    "duration": 157,
    "start_time": "2022-01-27T09:14:15.884Z"
   },
   {
    "duration": 15,
    "start_time": "2022-01-27T09:14:37.924Z"
   },
   {
    "duration": 281,
    "start_time": "2022-01-27T09:14:47.866Z"
   },
   {
    "duration": 11,
    "start_time": "2022-01-27T09:14:57.945Z"
   },
   {
    "duration": 162,
    "start_time": "2022-01-27T09:15:04.738Z"
   },
   {
    "duration": 208,
    "start_time": "2022-01-27T09:15:10.290Z"
   },
   {
    "duration": 152,
    "start_time": "2022-01-27T09:15:23.247Z"
   },
   {
    "duration": 229,
    "start_time": "2022-01-27T09:15:27.871Z"
   },
   {
    "duration": 22,
    "start_time": "2022-01-27T09:15:35.387Z"
   },
   {
    "duration": 74,
    "start_time": "2022-01-27T09:15:40.729Z"
   },
   {
    "duration": 113,
    "start_time": "2022-01-27T09:15:45.285Z"
   },
   {
    "duration": 187,
    "start_time": "2022-01-27T09:15:49.020Z"
   },
   {
    "duration": 142,
    "start_time": "2022-01-27T09:20:02.202Z"
   },
   {
    "duration": 4,
    "start_time": "2022-01-27T09:20:09.035Z"
   },
   {
    "duration": 225,
    "start_time": "2022-01-27T09:20:14.651Z"
   },
   {
    "duration": 240,
    "start_time": "2022-01-27T09:20:38.978Z"
   },
   {
    "duration": 217,
    "start_time": "2022-01-27T09:22:05.375Z"
   },
   {
    "duration": 270,
    "start_time": "2022-01-27T09:23:49.129Z"
   },
   {
    "duration": 33,
    "start_time": "2022-01-27T09:24:25.043Z"
   },
   {
    "duration": 17,
    "start_time": "2022-01-27T09:38:18.969Z"
   },
   {
    "duration": 2737,
    "start_time": "2022-01-27T09:41:54.070Z"
   },
   {
    "duration": 3692,
    "start_time": "2022-01-27T09:42:25.713Z"
   },
   {
    "duration": 4636,
    "start_time": "2022-01-27T09:42:52.967Z"
   },
   {
    "duration": 2887,
    "start_time": "2022-01-27T09:43:12.712Z"
   },
   {
    "duration": 2382,
    "start_time": "2022-01-27T09:43:46.218Z"
   },
   {
    "duration": 3741,
    "start_time": "2022-01-27T09:44:52.558Z"
   },
   {
    "duration": 3845,
    "start_time": "2022-01-27T09:45:30.761Z"
   },
   {
    "duration": 3277,
    "start_time": "2022-01-27T09:47:18.722Z"
   },
   {
    "duration": 4100,
    "start_time": "2022-01-27T09:47:41.305Z"
   },
   {
    "duration": 3258,
    "start_time": "2022-01-27T09:47:47.647Z"
   },
   {
    "duration": 3992,
    "start_time": "2022-01-27T09:47:56.607Z"
   },
   {
    "duration": 3683,
    "start_time": "2022-01-27T09:48:06.320Z"
   },
   {
    "duration": 372,
    "start_time": "2022-01-27T09:51:20.287Z"
   },
   {
    "duration": 7,
    "start_time": "2022-01-27T09:51:27.969Z"
   },
   {
    "duration": 6362,
    "start_time": "2022-01-27T09:51:35.643Z"
   },
   {
    "duration": 6094,
    "start_time": "2022-01-27T09:51:51.069Z"
   },
   {
    "duration": 7,
    "start_time": "2022-01-27T09:52:36.908Z"
   },
   {
    "duration": 365,
    "start_time": "2022-01-27T09:54:16.653Z"
   },
   {
    "duration": 98,
    "start_time": "2022-01-27T09:56:14.610Z"
   },
   {
    "duration": 36,
    "start_time": "2022-01-27T09:56:42.501Z"
   },
   {
    "duration": 6975,
    "start_time": "2022-01-27T09:59:07.440Z"
   },
   {
    "duration": 5,
    "start_time": "2022-01-27T09:59:54.792Z"
   },
   {
    "duration": 488,
    "start_time": "2022-01-27T10:00:44.459Z"
   },
   {
    "duration": 54,
    "start_time": "2022-01-27T10:00:50.607Z"
   },
   {
    "duration": 5171,
    "start_time": "2022-01-27T10:23:49.458Z"
   },
   {
    "duration": 3685,
    "start_time": "2022-01-27T10:25:50.813Z"
   },
   {
    "duration": 4993,
    "start_time": "2022-01-27T10:25:57.343Z"
   },
   {
    "duration": 3683,
    "start_time": "2022-01-27T10:26:19.623Z"
   },
   {
    "duration": 4906,
    "start_time": "2022-01-27T10:26:23.399Z"
   },
   {
    "duration": 293,
    "start_time": "2022-01-27T10:26:28.308Z"
   },
   {
    "duration": 3946,
    "start_time": "2022-01-27T10:32:43.254Z"
   },
   {
    "duration": 148,
    "start_time": "2022-01-27T10:32:48.209Z"
   },
   {
    "duration": 165,
    "start_time": "2022-01-27T10:33:11.333Z"
   },
   {
    "duration": 1241,
    "start_time": "2022-01-27T10:34:18.582Z"
   },
   {
    "duration": 7031,
    "start_time": "2022-01-27T10:34:19.826Z"
   },
   {
    "duration": 21,
    "start_time": "2022-01-27T10:34:26.860Z"
   },
   {
    "duration": 23,
    "start_time": "2022-01-27T10:34:26.884Z"
   },
   {
    "duration": 13,
    "start_time": "2022-01-27T10:34:26.909Z"
   },
   {
    "duration": 1012,
    "start_time": "2022-01-27T10:34:26.924Z"
   },
   {
    "duration": 3,
    "start_time": "2022-01-27T10:34:27.938Z"
   },
   {
    "duration": 5,
    "start_time": "2022-01-27T10:34:27.944Z"
   },
   {
    "duration": 7,
    "start_time": "2022-01-27T10:34:27.951Z"
   },
   {
    "duration": 6,
    "start_time": "2022-01-27T10:34:27.960Z"
   },
   {
    "duration": 29,
    "start_time": "2022-01-27T10:34:27.968Z"
   },
   {
    "duration": 2906,
    "start_time": "2022-01-27T10:34:27.999Z"
   },
   {
    "duration": 424,
    "start_time": "2022-01-27T10:34:30.907Z"
   },
   {
    "duration": -943,
    "start_time": "2022-01-27T10:34:32.276Z"
   },
   {
    "duration": 1150,
    "start_time": "2022-01-27T10:34:54.974Z"
   },
   {
    "duration": 7107,
    "start_time": "2022-01-27T10:34:56.126Z"
   },
   {
    "duration": 23,
    "start_time": "2022-01-27T10:35:03.236Z"
   },
   {
    "duration": 26,
    "start_time": "2022-01-27T10:35:03.261Z"
   },
   {
    "duration": 5,
    "start_time": "2022-01-27T10:35:03.289Z"
   },
   {
    "duration": 1030,
    "start_time": "2022-01-27T10:35:03.296Z"
   },
   {
    "duration": 3,
    "start_time": "2022-01-27T10:35:04.327Z"
   },
   {
    "duration": 14,
    "start_time": "2022-01-27T10:35:04.332Z"
   },
   {
    "duration": 8,
    "start_time": "2022-01-27T10:35:04.349Z"
   },
   {
    "duration": 7,
    "start_time": "2022-01-27T10:35:04.359Z"
   },
   {
    "duration": 7,
    "start_time": "2022-01-27T10:35:04.368Z"
   },
   {
    "duration": 3923,
    "start_time": "2022-01-27T10:35:04.377Z"
   },
   {
    "duration": 3638,
    "start_time": "2022-01-27T10:35:08.302Z"
   },
   {
    "duration": 1157,
    "start_time": "2022-01-27T10:42:19.665Z"
   },
   {
    "duration": 2352,
    "start_time": "2022-01-27T10:42:20.824Z"
   },
   {
    "duration": 23,
    "start_time": "2022-01-27T10:42:23.184Z"
   },
   {
    "duration": 22,
    "start_time": "2022-01-27T10:42:23.209Z"
   },
   {
    "duration": 4,
    "start_time": "2022-01-27T10:42:23.234Z"
   },
   {
    "duration": 1039,
    "start_time": "2022-01-27T10:42:23.240Z"
   },
   {
    "duration": 3,
    "start_time": "2022-01-27T10:42:24.281Z"
   },
   {
    "duration": 4,
    "start_time": "2022-01-27T10:42:24.298Z"
   },
   {
    "duration": 7,
    "start_time": "2022-01-27T10:42:24.304Z"
   },
   {
    "duration": 6,
    "start_time": "2022-01-27T10:42:24.313Z"
   },
   {
    "duration": 6,
    "start_time": "2022-01-27T10:42:24.320Z"
   },
   {
    "duration": 3817,
    "start_time": "2022-01-27T10:42:24.328Z"
   },
   {
    "duration": 3577,
    "start_time": "2022-01-27T10:42:28.147Z"
   },
   {
    "duration": 149069,
    "start_time": "2022-01-27T10:42:31.726Z"
   },
   {
    "duration": 303,
    "start_time": "2022-01-28T08:34:27.417Z"
   },
   {
    "duration": 1135,
    "start_time": "2022-01-28T08:35:01.098Z"
   },
   {
    "duration": 17,
    "start_time": "2022-01-28T08:35:02.235Z"
   },
   {
    "duration": 16,
    "start_time": "2022-01-28T08:35:02.254Z"
   },
   {
    "duration": 4,
    "start_time": "2022-01-28T08:35:02.272Z"
   },
   {
    "duration": 842,
    "start_time": "2022-01-28T08:35:02.277Z"
   },
   {
    "duration": 6,
    "start_time": "2022-01-28T08:35:03.121Z"
   },
   {
    "duration": 5,
    "start_time": "2022-01-28T08:35:03.129Z"
   },
   {
    "duration": 5,
    "start_time": "2022-01-28T08:35:03.136Z"
   },
   {
    "duration": 4,
    "start_time": "2022-01-28T08:35:03.143Z"
   },
   {
    "duration": 7,
    "start_time": "2022-01-28T08:35:03.148Z"
   },
   {
    "duration": 3772,
    "start_time": "2022-01-28T08:35:03.157Z"
   },
   {
    "duration": 3315,
    "start_time": "2022-01-28T08:35:06.932Z"
   },
   {
    "duration": 135761,
    "start_time": "2022-01-28T08:35:10.249Z"
   },
   {
    "duration": 56,
    "start_time": "2022-01-28T08:37:26.012Z"
   },
   {
    "duration": 3479,
    "start_time": "2022-01-28T08:39:39.269Z"
   },
   {
    "duration": 3395,
    "start_time": "2022-01-28T08:39:51.342Z"
   },
   {
    "duration": 3239,
    "start_time": "2022-01-28T08:40:06.477Z"
   },
   {
    "duration": 3603,
    "start_time": "2022-01-28T08:40:18.526Z"
   },
   {
    "duration": 3451,
    "start_time": "2022-01-28T08:40:33.884Z"
   },
   {
    "duration": 2,
    "start_time": "2022-01-28T08:47:25.949Z"
   },
   {
    "duration": 10,
    "start_time": "2022-01-28T08:56:48.991Z"
   },
   {
    "duration": 1128,
    "start_time": "2022-01-28T08:59:17.380Z"
   },
   {
    "duration": 17,
    "start_time": "2022-01-28T08:59:18.509Z"
   },
   {
    "duration": 16,
    "start_time": "2022-01-28T08:59:18.528Z"
   },
   {
    "duration": 3,
    "start_time": "2022-01-28T08:59:18.546Z"
   },
   {
    "duration": 831,
    "start_time": "2022-01-28T08:59:18.550Z"
   },
   {
    "duration": 2,
    "start_time": "2022-01-28T08:59:19.383Z"
   },
   {
    "duration": 5,
    "start_time": "2022-01-28T08:59:19.387Z"
   },
   {
    "duration": 6,
    "start_time": "2022-01-28T08:59:19.393Z"
   },
   {
    "duration": 7,
    "start_time": "2022-01-28T08:59:19.401Z"
   },
   {
    "duration": 5,
    "start_time": "2022-01-28T08:59:19.409Z"
   },
   {
    "duration": 4684,
    "start_time": "2022-01-28T08:59:19.416Z"
   },
   {
    "duration": 3246,
    "start_time": "2022-01-28T08:59:24.102Z"
   },
   {
    "duration": 39393,
    "start_time": "2022-01-28T08:59:27.350Z"
   },
   {
    "duration": -567,
    "start_time": "2022-01-28T09:00:07.312Z"
   },
   {
    "duration": 1131,
    "start_time": "2022-01-28T09:00:55.555Z"
   },
   {
    "duration": 24,
    "start_time": "2022-01-28T09:00:56.689Z"
   },
   {
    "duration": 116,
    "start_time": "2022-01-28T09:00:56.715Z"
   },
   {
    "duration": 69,
    "start_time": "2022-01-28T09:00:56.833Z"
   },
   {
    "duration": 885,
    "start_time": "2022-01-28T09:00:56.904Z"
   },
   {
    "duration": 2,
    "start_time": "2022-01-28T09:00:57.791Z"
   },
   {
    "duration": 6,
    "start_time": "2022-01-28T09:00:57.794Z"
   },
   {
    "duration": 7,
    "start_time": "2022-01-28T09:00:57.801Z"
   },
   {
    "duration": 18,
    "start_time": "2022-01-28T09:00:57.810Z"
   },
   {
    "duration": 3,
    "start_time": "2022-01-28T09:00:57.830Z"
   },
   {
    "duration": 4088,
    "start_time": "2022-01-28T09:00:57.835Z"
   },
   {
    "duration": 3400,
    "start_time": "2022-01-28T09:01:01.927Z"
   },
   {
    "duration": 92,
    "start_time": "2022-01-28T09:01:05.328Z"
   },
   {
    "duration": -538,
    "start_time": "2022-01-28T09:01:05.960Z"
   },
   {
    "duration": 1082,
    "start_time": "2022-01-28T09:01:26.737Z"
   },
   {
    "duration": 19,
    "start_time": "2022-01-28T09:01:27.820Z"
   },
   {
    "duration": 16,
    "start_time": "2022-01-28T09:01:27.840Z"
   },
   {
    "duration": 3,
    "start_time": "2022-01-28T09:01:27.858Z"
   },
   {
    "duration": 847,
    "start_time": "2022-01-28T09:01:27.863Z"
   },
   {
    "duration": 3,
    "start_time": "2022-01-28T09:01:28.711Z"
   },
   {
    "duration": 3,
    "start_time": "2022-01-28T09:01:28.727Z"
   },
   {
    "duration": 8,
    "start_time": "2022-01-28T09:01:28.733Z"
   },
   {
    "duration": 5,
    "start_time": "2022-01-28T09:01:28.743Z"
   },
   {
    "duration": 5,
    "start_time": "2022-01-28T09:01:28.749Z"
   },
   {
    "duration": 4072,
    "start_time": "2022-01-28T09:01:28.756Z"
   },
   {
    "duration": 3440,
    "start_time": "2022-01-28T09:01:32.830Z"
   },
   {
    "duration": 140114,
    "start_time": "2022-01-28T09:01:36.272Z"
   },
   {
    "duration": 55,
    "start_time": "2022-01-28T09:03:56.387Z"
   },
   {
    "duration": 1165,
    "start_time": "2022-01-28T09:04:35.758Z"
   },
   {
    "duration": 19,
    "start_time": "2022-01-28T09:04:36.925Z"
   },
   {
    "duration": 19,
    "start_time": "2022-01-28T09:04:36.946Z"
   },
   {
    "duration": 4,
    "start_time": "2022-01-28T09:04:36.967Z"
   },
   {
    "duration": 1114,
    "start_time": "2022-01-28T09:04:36.972Z"
   },
   {
    "duration": -579,
    "start_time": "2022-01-28T09:04:38.667Z"
   },
   {
    "duration": -579,
    "start_time": "2022-01-28T09:04:38.668Z"
   },
   {
    "duration": -580,
    "start_time": "2022-01-28T09:04:38.669Z"
   },
   {
    "duration": -581,
    "start_time": "2022-01-28T09:04:38.671Z"
   },
   {
    "duration": -581,
    "start_time": "2022-01-28T09:04:38.672Z"
   },
   {
    "duration": -582,
    "start_time": "2022-01-28T09:04:38.674Z"
   },
   {
    "duration": -582,
    "start_time": "2022-01-28T09:04:38.675Z"
   },
   {
    "duration": -583,
    "start_time": "2022-01-28T09:04:38.676Z"
   },
   {
    "duration": -584,
    "start_time": "2022-01-28T09:04:38.678Z"
   },
   {
    "duration": 1172,
    "start_time": "2022-01-28T09:05:24.083Z"
   },
   {
    "duration": 18,
    "start_time": "2022-01-28T09:05:25.257Z"
   },
   {
    "duration": 16,
    "start_time": "2022-01-28T09:05:25.276Z"
   },
   {
    "duration": 4,
    "start_time": "2022-01-28T09:05:25.293Z"
   },
   {
    "duration": 846,
    "start_time": "2022-01-28T09:05:25.298Z"
   },
   {
    "duration": 2,
    "start_time": "2022-01-28T09:05:26.146Z"
   },
   {
    "duration": 5,
    "start_time": "2022-01-28T09:05:26.150Z"
   },
   {
    "duration": 6,
    "start_time": "2022-01-28T09:05:26.157Z"
   },
   {
    "duration": 3,
    "start_time": "2022-01-28T09:05:26.166Z"
   },
   {
    "duration": 4,
    "start_time": "2022-01-28T09:05:26.171Z"
   },
   {
    "duration": 3549,
    "start_time": "2022-01-28T09:05:26.177Z"
   },
   {
    "duration": 9,
    "start_time": "2022-01-28T09:05:29.729Z"
   },
   {
    "duration": 3387,
    "start_time": "2022-01-28T09:05:29.740Z"
   },
   {
    "duration": 136019,
    "start_time": "2022-01-28T09:05:33.129Z"
   },
   {
    "duration": 50,
    "start_time": "2022-01-28T09:07:49.149Z"
   },
   {
    "duration": 48,
    "start_time": "2022-01-28T09:08:25.546Z"
   },
   {
    "duration": 47,
    "start_time": "2022-01-28T09:09:24.267Z"
   },
   {
    "duration": 47,
    "start_time": "2022-01-28T09:09:32.203Z"
   },
   {
    "duration": 139778,
    "start_time": "2022-01-28T09:10:28.756Z"
   },
   {
    "duration": 56,
    "start_time": "2022-01-28T09:18:59.963Z"
   },
   {
    "duration": 470,
    "start_time": "2022-01-28T09:19:35.111Z"
   },
   {
    "duration": 98,
    "start_time": "2022-01-28T09:21:01.678Z"
   },
   {
    "duration": 55,
    "start_time": "2022-01-28T09:21:15.415Z"
   },
   {
    "duration": 105,
    "start_time": "2022-01-28T09:23:21.798Z"
   },
   {
    "duration": 104,
    "start_time": "2022-01-28T09:23:29.393Z"
   },
   {
    "duration": 104,
    "start_time": "2022-01-28T09:24:12.465Z"
   },
   {
    "duration": 96,
    "start_time": "2022-01-28T09:26:24.693Z"
   },
   {
    "duration": 3,
    "start_time": "2022-01-28T09:44:38.761Z"
   },
   {
    "duration": 121,
    "start_time": "2022-01-28T09:53:42.947Z"
   },
   {
    "duration": 10,
    "start_time": "2022-01-28T09:53:51.602Z"
   },
   {
    "duration": 8,
    "start_time": "2022-01-28T09:54:12.585Z"
   },
   {
    "duration": 8,
    "start_time": "2022-01-28T09:54:35.052Z"
   },
   {
    "duration": 10,
    "start_time": "2022-01-28T09:54:49.834Z"
   },
   {
    "duration": 10,
    "start_time": "2022-01-28T09:54:53.017Z"
   },
   {
    "duration": 10,
    "start_time": "2022-01-28T09:54:54.966Z"
   },
   {
    "duration": 9,
    "start_time": "2022-01-28T09:54:56.881Z"
   },
   {
    "duration": 9,
    "start_time": "2022-01-28T09:55:12.118Z"
   },
   {
    "duration": 8,
    "start_time": "2022-01-28T09:55:47.361Z"
   },
   {
    "duration": 1122,
    "start_time": "2022-01-28T10:07:22.087Z"
   },
   {
    "duration": 18,
    "start_time": "2022-01-28T10:07:23.211Z"
   },
   {
    "duration": 17,
    "start_time": "2022-01-28T10:07:23.233Z"
   },
   {
    "duration": 4,
    "start_time": "2022-01-28T10:07:23.251Z"
   },
   {
    "duration": 837,
    "start_time": "2022-01-28T10:07:23.256Z"
   },
   {
    "duration": 2,
    "start_time": "2022-01-28T10:07:24.094Z"
   },
   {
    "duration": 6,
    "start_time": "2022-01-28T10:07:24.098Z"
   },
   {
    "duration": 21,
    "start_time": "2022-01-28T10:07:24.106Z"
   },
   {
    "duration": 4,
    "start_time": "2022-01-28T10:07:24.129Z"
   },
   {
    "duration": 6,
    "start_time": "2022-01-28T10:07:24.135Z"
   },
   {
    "duration": 3327,
    "start_time": "2022-01-28T10:07:24.143Z"
   },
   {
    "duration": 5,
    "start_time": "2022-01-28T10:07:27.471Z"
   },
   {
    "duration": 3246,
    "start_time": "2022-01-28T10:07:27.477Z"
   },
   {
    "duration": 136459,
    "start_time": "2022-01-28T10:07:30.727Z"
   },
   {
    "duration": 108,
    "start_time": "2022-01-28T10:09:47.188Z"
   },
   {
    "duration": 8,
    "start_time": "2022-01-28T10:09:47.298Z"
   },
   {
    "duration": 307,
    "start_time": "2022-01-28T12:46:10.122Z"
   },
   {
    "duration": 90,
    "start_time": "2022-01-28T12:50:20.883Z"
   },
   {
    "duration": 1131,
    "start_time": "2022-01-28T12:55:58.892Z"
   },
   {
    "duration": 18,
    "start_time": "2022-01-28T12:56:00.025Z"
   },
   {
    "duration": 18,
    "start_time": "2022-01-28T12:56:00.045Z"
   },
   {
    "duration": 4,
    "start_time": "2022-01-28T12:56:00.065Z"
   },
   {
    "duration": 835,
    "start_time": "2022-01-28T12:56:00.070Z"
   },
   {
    "duration": 3,
    "start_time": "2022-01-28T12:56:00.906Z"
   },
   {
    "duration": 18,
    "start_time": "2022-01-28T12:56:00.911Z"
   },
   {
    "duration": 5,
    "start_time": "2022-01-28T12:56:00.931Z"
   },
   {
    "duration": 5,
    "start_time": "2022-01-28T12:56:00.937Z"
   },
   {
    "duration": 5,
    "start_time": "2022-01-28T12:56:00.944Z"
   },
   {
    "duration": 898,
    "start_time": "2022-01-28T12:56:00.951Z"
   },
   {
    "duration": 4,
    "start_time": "2022-01-28T12:56:01.850Z"
   },
   {
    "duration": 2620,
    "start_time": "2022-01-28T12:56:01.856Z"
   },
   {
    "duration": 113044,
    "start_time": "2022-01-28T12:56:04.477Z"
   },
   {
    "duration": 86,
    "start_time": "2022-01-28T12:57:57.522Z"
   },
   {
    "duration": 20,
    "start_time": "2022-01-28T12:57:57.609Z"
   },
   {
    "duration": 102,
    "start_time": "2022-01-28T13:02:40.441Z"
   }
  ],
  "kernelspec": {
   "display_name": "Python 3 (ipykernel)",
   "language": "python",
   "name": "python3"
  },
  "language_info": {
   "codemirror_mode": {
    "name": "ipython",
    "version": 3
   },
   "file_extension": ".py",
   "mimetype": "text/x-python",
   "name": "python",
   "nbconvert_exporter": "python",
   "pygments_lexer": "ipython3",
   "version": "3.8.8"
  },
  "toc": {
   "base_numbering": 1,
   "nav_menu": {},
   "number_sections": true,
   "sideBar": true,
   "skip_h1_title": true,
   "title_cell": "Table of Contents",
   "title_sidebar": "Contents",
   "toc_cell": false,
   "toc_position": {},
   "toc_section_display": true,
   "toc_window_display": false
  }
 },
 "nbformat": 4,
 "nbformat_minor": 2
}
