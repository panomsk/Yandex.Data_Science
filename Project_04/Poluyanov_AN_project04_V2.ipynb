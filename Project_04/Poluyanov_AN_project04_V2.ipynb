{
 "cells": [
  {
   "cell_type": "markdown",
   "metadata": {},
   "source": [
    "# Определение перспективного тарифа для телеком-компании"
   ]
  },
  {
   "cell_type": "markdown",
   "metadata": {},
   "source": [
    "## Описание проекта\n",
    "Вы аналитик компании «Мегалайн» — федерального оператора сотовой связи. Клиентам предлагают два тарифных плана: «Смарт» и «Ультра». Чтобы скорректировать рекламный бюджет, коммерческий департамент хочет понять, какой тариф приносит больше денег.\n",
    "Вам предстоит сделать предварительный анализ тарифов на небольшой выборке клиентов. В вашем распоряжении данные 500 пользователей «Мегалайна»: кто они, откуда, каким тарифом пользуются, сколько звонков и сообщений каждый отправил за 2018 год. Нужно проанализировать поведение клиентов и сделать вывод — какой тариф лучше.\n"
   ]
  },
  {
   "cell_type": "markdown",
   "metadata": {},
   "source": [
    "**Описание тарифов**\n",
    "\n",
    "**Тариф «Смарт»**\n",
    "1.\tЕжемесячная плата: 550 рублей\n",
    "2.\tВключено 500 минут разговора, 50 сообщений и 15 Гб интернет-трафика\n",
    "3.\tСтоимость услуг сверх тарифного пакета: 1. минута разговора: 3 рубля («Мегалайн» всегда округляет вверх значения минут и мегабайтов. Если пользователь проговорил всего 1 секунду, в тарифе засчитывается целая минута); 2. сообщение: 3 рубля; 3. 1 Гб интернет-трафика: 200 рублей.  \n",
    "\n",
    "**Тариф «Ультра»**\n",
    "1.\tЕжемесячная плата: 1950 рублей\n",
    "2.\tВключено 3000 минут разговора, 1000 сообщений и 30 Гб интернет-трафика\n",
    "3.\tСтоимость услуг сверх тарифного пакета: 1. минута разговора: 1 рубль; 2. сообщение: 1 рубль; 3. 1 Гб интернет-трафика: 150 рублей.\n"
   ]
  },
  {
   "cell_type": "markdown",
   "metadata": {},
   "source": [
    "**Описание данных**  \n",
    "\n",
    "**Таблица users** (информация о пользователях):  \n",
    "•\tuser_id — уникальный идентификатор пользователя  \n",
    "•\tfirst_name — имя пользователя  \n",
    "•\tlast_name — фамилия пользователя  \n",
    "•\tage — возраст пользователя (годы)  \n",
    "•\treg_date — дата подключения тарифа (день, месяц, год)  \n",
    "•\tchurn_date — дата прекращения пользования тарифом (если значение пропущено, то тариф ещё действовал на момент выгрузки данных)  \n",
    "•\tcity — город проживания пользователя  \n",
    "•\ttarif — название тарифного плана  \n",
    "\n",
    "**Таблица calls** (информация о звонках):    \n",
    "•\tid — уникальный номер звонка  \n",
    "•\tcall_date — дата звонка  \n",
    "•\tduration — длительность звонка в минутах  \n",
    "•\tuser_id — идентификатор пользователя, сделавшего звонок  \n",
    "\n",
    "**Таблица messages** (информация о сообщениях):      \n",
    "•\tid — уникальный номер звонка  \n",
    "•\tmessage_date — дата сообщения  \n",
    "•\tuser_id — идентификатор пользователя, отправившего сообщение  \n",
    "\n",
    "**Таблица internet** (информация об интернет-сессиях):      \n",
    "•\tid — уникальный номер сессии  \n",
    "•\tmb_used — объём потраченного за сессию интернет-трафика (в мегабайтах)  \n",
    "•\tsession_date — дата интернет-сессии  \n",
    "•\tuser_id — идентификатор пользователя  \n",
    "\n",
    "**Таблица tariffs** (информация о тарифах):      \n",
    "•\ttariff_name — название тарифа  \n",
    "•\trub_monthly_fee — ежемесячная абонентская плата в рублях  \n",
    "•\tminutes_included — количество минут разговора в месяц, включённых в абонентскую плату  \n",
    "•\tmessages_included — количество сообщений в месяц, включённых в абонентскую плату  \n",
    "•\tmb_per_month_included — объём интернет-трафика, включённого в абонентскую плату (в мегабайтах)  \n",
    "•\trub_per_minute — стоимость минуты разговора сверх тарифного пакета (например, если в тарифе 100 минут разговора в месяц, то со 101 минуты будет взиматься плата)  \n",
    "•\trub_per_message — стоимость отправки сообщения сверх тарифного пакета  \n",
    "•\trub_per_gb — стоимость дополнительного гигабайта интернет-трафика сверх тарифного пакета (1 гигабайт = 1024 мегабайта)  \n",
    "\n"
   ]
  },
  {
   "cell_type": "markdown",
   "metadata": {},
   "source": [
    "## Загрузка данных и изучение общей информации"
   ]
  },
  {
   "cell_type": "markdown",
   "metadata": {},
   "source": [
    "**Путь к файлам:**  \n",
    "\n",
    "•\t/datasets/calls.csv  \n",
    "•\t/datasets/internet.csv  \n",
    "•\t/datasets/messages.csv  \n",
    "•\t/datasets/tariffs.csv  \n",
    "•\t/datasets/users.csv  "
   ]
  },
  {
   "cell_type": "code",
   "execution_count": 1,
   "metadata": {},
   "outputs": [],
   "source": [
    "#подключение библиотек, используемых в проекте\n",
    "import pandas as pd\n",
    "import numpy as np\n",
    "import matplotlib.pyplot as plt\n",
    "import seaborn as sb\n",
    "from scipy import stats as st\n",
    "import math as mt\n",
    "\n",
    "pd.set_option('display.max_columns', None)\n",
    "pd.set_option('display.max_rows', None)\n",
    "pd.set_option('chained_assignment', None) "
   ]
  },
  {
   "cell_type": "code",
   "execution_count": 2,
   "metadata": {},
   "outputs": [],
   "source": [
    "users = pd.read_csv('/datasets/users.csv')\n",
    "calls = pd.read_csv('/datasets/calls.csv')\n",
    "messages = pd.read_csv('/datasets/messages.csv')\n",
    "internet = pd.read_csv('/datasets/internet.csv')\n",
    "tariffs = pd.read_csv('/datasets/tariffs.csv')"
   ]
  },
  {
   "cell_type": "code",
   "execution_count": 3,
   "metadata": {},
   "outputs": [],
   "source": [
    "#определим свпомогательную функцию\n",
    "def df_info(df):\n",
    "    df.info()\n",
    "    display(df.head())\n",
    "    print('Дубликатов в исходных данных: ',df.duplicated().sum())"
   ]
  },
  {
   "cell_type": "code",
   "execution_count": 4,
   "metadata": {},
   "outputs": [
    {
     "name": "stdout",
     "output_type": "stream",
     "text": [
      "<class 'pandas.core.frame.DataFrame'>\n",
      "RangeIndex: 500 entries, 0 to 499\n",
      "Data columns (total 8 columns):\n",
      " #   Column      Non-Null Count  Dtype \n",
      "---  ------      --------------  ----- \n",
      " 0   user_id     500 non-null    int64 \n",
      " 1   age         500 non-null    int64 \n",
      " 2   churn_date  38 non-null     object\n",
      " 3   city        500 non-null    object\n",
      " 4   first_name  500 non-null    object\n",
      " 5   last_name   500 non-null    object\n",
      " 6   reg_date    500 non-null    object\n",
      " 7   tariff      500 non-null    object\n",
      "dtypes: int64(2), object(6)\n",
      "memory usage: 31.4+ KB\n"
     ]
    },
    {
     "data": {
      "text/html": [
       "<div>\n",
       "<style scoped>\n",
       "    .dataframe tbody tr th:only-of-type {\n",
       "        vertical-align: middle;\n",
       "    }\n",
       "\n",
       "    .dataframe tbody tr th {\n",
       "        vertical-align: top;\n",
       "    }\n",
       "\n",
       "    .dataframe thead th {\n",
       "        text-align: right;\n",
       "    }\n",
       "</style>\n",
       "<table border=\"1\" class=\"dataframe\">\n",
       "  <thead>\n",
       "    <tr style=\"text-align: right;\">\n",
       "      <th></th>\n",
       "      <th>user_id</th>\n",
       "      <th>age</th>\n",
       "      <th>churn_date</th>\n",
       "      <th>city</th>\n",
       "      <th>first_name</th>\n",
       "      <th>last_name</th>\n",
       "      <th>reg_date</th>\n",
       "      <th>tariff</th>\n",
       "    </tr>\n",
       "  </thead>\n",
       "  <tbody>\n",
       "    <tr>\n",
       "      <th>0</th>\n",
       "      <td>1000</td>\n",
       "      <td>52</td>\n",
       "      <td>NaN</td>\n",
       "      <td>Краснодар</td>\n",
       "      <td>Рафаил</td>\n",
       "      <td>Верещагин</td>\n",
       "      <td>2018-05-25</td>\n",
       "      <td>ultra</td>\n",
       "    </tr>\n",
       "    <tr>\n",
       "      <th>1</th>\n",
       "      <td>1001</td>\n",
       "      <td>41</td>\n",
       "      <td>NaN</td>\n",
       "      <td>Москва</td>\n",
       "      <td>Иван</td>\n",
       "      <td>Ежов</td>\n",
       "      <td>2018-11-01</td>\n",
       "      <td>smart</td>\n",
       "    </tr>\n",
       "    <tr>\n",
       "      <th>2</th>\n",
       "      <td>1002</td>\n",
       "      <td>59</td>\n",
       "      <td>NaN</td>\n",
       "      <td>Стерлитамак</td>\n",
       "      <td>Евгений</td>\n",
       "      <td>Абрамович</td>\n",
       "      <td>2018-06-17</td>\n",
       "      <td>smart</td>\n",
       "    </tr>\n",
       "    <tr>\n",
       "      <th>3</th>\n",
       "      <td>1003</td>\n",
       "      <td>23</td>\n",
       "      <td>NaN</td>\n",
       "      <td>Москва</td>\n",
       "      <td>Белла</td>\n",
       "      <td>Белякова</td>\n",
       "      <td>2018-08-17</td>\n",
       "      <td>ultra</td>\n",
       "    </tr>\n",
       "    <tr>\n",
       "      <th>4</th>\n",
       "      <td>1004</td>\n",
       "      <td>68</td>\n",
       "      <td>NaN</td>\n",
       "      <td>Новокузнецк</td>\n",
       "      <td>Татьяна</td>\n",
       "      <td>Авдеенко</td>\n",
       "      <td>2018-05-14</td>\n",
       "      <td>ultra</td>\n",
       "    </tr>\n",
       "  </tbody>\n",
       "</table>\n",
       "</div>"
      ],
      "text/plain": [
       "   user_id  age churn_date         city first_name  last_name    reg_date  \\\n",
       "0     1000   52        NaN    Краснодар     Рафаил  Верещагин  2018-05-25   \n",
       "1     1001   41        NaN       Москва       Иван       Ежов  2018-11-01   \n",
       "2     1002   59        NaN  Стерлитамак    Евгений  Абрамович  2018-06-17   \n",
       "3     1003   23        NaN       Москва      Белла   Белякова  2018-08-17   \n",
       "4     1004   68        NaN  Новокузнецк    Татьяна   Авдеенко  2018-05-14   \n",
       "\n",
       "  tariff  \n",
       "0  ultra  \n",
       "1  smart  \n",
       "2  smart  \n",
       "3  ultra  \n",
       "4  ultra  "
      ]
     },
     "metadata": {},
     "output_type": "display_data"
    },
    {
     "name": "stdout",
     "output_type": "stream",
     "text": [
      "Дубликатов в исходных данных:  0\n"
     ]
    }
   ],
   "source": [
    "df_info(users)"
   ]
  },
  {
   "cell_type": "code",
   "execution_count": 5,
   "metadata": {},
   "outputs": [
    {
     "name": "stdout",
     "output_type": "stream",
     "text": [
      "<class 'pandas.core.frame.DataFrame'>\n",
      "RangeIndex: 202607 entries, 0 to 202606\n",
      "Data columns (total 4 columns):\n",
      " #   Column     Non-Null Count   Dtype  \n",
      "---  ------     --------------   -----  \n",
      " 0   id         202607 non-null  object \n",
      " 1   call_date  202607 non-null  object \n",
      " 2   duration   202607 non-null  float64\n",
      " 3   user_id    202607 non-null  int64  \n",
      "dtypes: float64(1), int64(1), object(2)\n",
      "memory usage: 6.2+ MB\n"
     ]
    },
    {
     "data": {
      "text/html": [
       "<div>\n",
       "<style scoped>\n",
       "    .dataframe tbody tr th:only-of-type {\n",
       "        vertical-align: middle;\n",
       "    }\n",
       "\n",
       "    .dataframe tbody tr th {\n",
       "        vertical-align: top;\n",
       "    }\n",
       "\n",
       "    .dataframe thead th {\n",
       "        text-align: right;\n",
       "    }\n",
       "</style>\n",
       "<table border=\"1\" class=\"dataframe\">\n",
       "  <thead>\n",
       "    <tr style=\"text-align: right;\">\n",
       "      <th></th>\n",
       "      <th>id</th>\n",
       "      <th>call_date</th>\n",
       "      <th>duration</th>\n",
       "      <th>user_id</th>\n",
       "    </tr>\n",
       "  </thead>\n",
       "  <tbody>\n",
       "    <tr>\n",
       "      <th>0</th>\n",
       "      <td>1000_0</td>\n",
       "      <td>2018-07-25</td>\n",
       "      <td>0.00</td>\n",
       "      <td>1000</td>\n",
       "    </tr>\n",
       "    <tr>\n",
       "      <th>1</th>\n",
       "      <td>1000_1</td>\n",
       "      <td>2018-08-17</td>\n",
       "      <td>0.00</td>\n",
       "      <td>1000</td>\n",
       "    </tr>\n",
       "    <tr>\n",
       "      <th>2</th>\n",
       "      <td>1000_2</td>\n",
       "      <td>2018-06-11</td>\n",
       "      <td>2.85</td>\n",
       "      <td>1000</td>\n",
       "    </tr>\n",
       "    <tr>\n",
       "      <th>3</th>\n",
       "      <td>1000_3</td>\n",
       "      <td>2018-09-21</td>\n",
       "      <td>13.80</td>\n",
       "      <td>1000</td>\n",
       "    </tr>\n",
       "    <tr>\n",
       "      <th>4</th>\n",
       "      <td>1000_4</td>\n",
       "      <td>2018-12-15</td>\n",
       "      <td>5.18</td>\n",
       "      <td>1000</td>\n",
       "    </tr>\n",
       "  </tbody>\n",
       "</table>\n",
       "</div>"
      ],
      "text/plain": [
       "       id   call_date  duration  user_id\n",
       "0  1000_0  2018-07-25      0.00     1000\n",
       "1  1000_1  2018-08-17      0.00     1000\n",
       "2  1000_2  2018-06-11      2.85     1000\n",
       "3  1000_3  2018-09-21     13.80     1000\n",
       "4  1000_4  2018-12-15      5.18     1000"
      ]
     },
     "metadata": {},
     "output_type": "display_data"
    },
    {
     "name": "stdout",
     "output_type": "stream",
     "text": [
      "Дубликатов в исходных данных:  0\n"
     ]
    }
   ],
   "source": [
    "df_info(calls)"
   ]
  },
  {
   "cell_type": "code",
   "execution_count": 6,
   "metadata": {},
   "outputs": [
    {
     "name": "stdout",
     "output_type": "stream",
     "text": [
      "<class 'pandas.core.frame.DataFrame'>\n",
      "RangeIndex: 123036 entries, 0 to 123035\n",
      "Data columns (total 3 columns):\n",
      " #   Column        Non-Null Count   Dtype \n",
      "---  ------        --------------   ----- \n",
      " 0   id            123036 non-null  object\n",
      " 1   message_date  123036 non-null  object\n",
      " 2   user_id       123036 non-null  int64 \n",
      "dtypes: int64(1), object(2)\n",
      "memory usage: 2.8+ MB\n"
     ]
    },
    {
     "data": {
      "text/html": [
       "<div>\n",
       "<style scoped>\n",
       "    .dataframe tbody tr th:only-of-type {\n",
       "        vertical-align: middle;\n",
       "    }\n",
       "\n",
       "    .dataframe tbody tr th {\n",
       "        vertical-align: top;\n",
       "    }\n",
       "\n",
       "    .dataframe thead th {\n",
       "        text-align: right;\n",
       "    }\n",
       "</style>\n",
       "<table border=\"1\" class=\"dataframe\">\n",
       "  <thead>\n",
       "    <tr style=\"text-align: right;\">\n",
       "      <th></th>\n",
       "      <th>id</th>\n",
       "      <th>message_date</th>\n",
       "      <th>user_id</th>\n",
       "    </tr>\n",
       "  </thead>\n",
       "  <tbody>\n",
       "    <tr>\n",
       "      <th>0</th>\n",
       "      <td>1000_0</td>\n",
       "      <td>2018-06-27</td>\n",
       "      <td>1000</td>\n",
       "    </tr>\n",
       "    <tr>\n",
       "      <th>1</th>\n",
       "      <td>1000_1</td>\n",
       "      <td>2018-10-08</td>\n",
       "      <td>1000</td>\n",
       "    </tr>\n",
       "    <tr>\n",
       "      <th>2</th>\n",
       "      <td>1000_2</td>\n",
       "      <td>2018-08-04</td>\n",
       "      <td>1000</td>\n",
       "    </tr>\n",
       "    <tr>\n",
       "      <th>3</th>\n",
       "      <td>1000_3</td>\n",
       "      <td>2018-06-16</td>\n",
       "      <td>1000</td>\n",
       "    </tr>\n",
       "    <tr>\n",
       "      <th>4</th>\n",
       "      <td>1000_4</td>\n",
       "      <td>2018-12-05</td>\n",
       "      <td>1000</td>\n",
       "    </tr>\n",
       "  </tbody>\n",
       "</table>\n",
       "</div>"
      ],
      "text/plain": [
       "       id message_date  user_id\n",
       "0  1000_0   2018-06-27     1000\n",
       "1  1000_1   2018-10-08     1000\n",
       "2  1000_2   2018-08-04     1000\n",
       "3  1000_3   2018-06-16     1000\n",
       "4  1000_4   2018-12-05     1000"
      ]
     },
     "metadata": {},
     "output_type": "display_data"
    },
    {
     "name": "stdout",
     "output_type": "stream",
     "text": [
      "Дубликатов в исходных данных:  0\n"
     ]
    }
   ],
   "source": [
    "df_info(messages)"
   ]
  },
  {
   "cell_type": "code",
   "execution_count": 7,
   "metadata": {},
   "outputs": [
    {
     "name": "stdout",
     "output_type": "stream",
     "text": [
      "<class 'pandas.core.frame.DataFrame'>\n",
      "RangeIndex: 149396 entries, 0 to 149395\n",
      "Data columns (total 5 columns):\n",
      " #   Column        Non-Null Count   Dtype  \n",
      "---  ------        --------------   -----  \n",
      " 0   Unnamed: 0    149396 non-null  int64  \n",
      " 1   id            149396 non-null  object \n",
      " 2   mb_used       149396 non-null  float64\n",
      " 3   session_date  149396 non-null  object \n",
      " 4   user_id       149396 non-null  int64  \n",
      "dtypes: float64(1), int64(2), object(2)\n",
      "memory usage: 5.7+ MB\n"
     ]
    },
    {
     "data": {
      "text/html": [
       "<div>\n",
       "<style scoped>\n",
       "    .dataframe tbody tr th:only-of-type {\n",
       "        vertical-align: middle;\n",
       "    }\n",
       "\n",
       "    .dataframe tbody tr th {\n",
       "        vertical-align: top;\n",
       "    }\n",
       "\n",
       "    .dataframe thead th {\n",
       "        text-align: right;\n",
       "    }\n",
       "</style>\n",
       "<table border=\"1\" class=\"dataframe\">\n",
       "  <thead>\n",
       "    <tr style=\"text-align: right;\">\n",
       "      <th></th>\n",
       "      <th>Unnamed: 0</th>\n",
       "      <th>id</th>\n",
       "      <th>mb_used</th>\n",
       "      <th>session_date</th>\n",
       "      <th>user_id</th>\n",
       "    </tr>\n",
       "  </thead>\n",
       "  <tbody>\n",
       "    <tr>\n",
       "      <th>0</th>\n",
       "      <td>0</td>\n",
       "      <td>1000_0</td>\n",
       "      <td>112.95</td>\n",
       "      <td>2018-11-25</td>\n",
       "      <td>1000</td>\n",
       "    </tr>\n",
       "    <tr>\n",
       "      <th>1</th>\n",
       "      <td>1</td>\n",
       "      <td>1000_1</td>\n",
       "      <td>1052.81</td>\n",
       "      <td>2018-09-07</td>\n",
       "      <td>1000</td>\n",
       "    </tr>\n",
       "    <tr>\n",
       "      <th>2</th>\n",
       "      <td>2</td>\n",
       "      <td>1000_2</td>\n",
       "      <td>1197.26</td>\n",
       "      <td>2018-06-25</td>\n",
       "      <td>1000</td>\n",
       "    </tr>\n",
       "    <tr>\n",
       "      <th>3</th>\n",
       "      <td>3</td>\n",
       "      <td>1000_3</td>\n",
       "      <td>550.27</td>\n",
       "      <td>2018-08-22</td>\n",
       "      <td>1000</td>\n",
       "    </tr>\n",
       "    <tr>\n",
       "      <th>4</th>\n",
       "      <td>4</td>\n",
       "      <td>1000_4</td>\n",
       "      <td>302.56</td>\n",
       "      <td>2018-09-24</td>\n",
       "      <td>1000</td>\n",
       "    </tr>\n",
       "  </tbody>\n",
       "</table>\n",
       "</div>"
      ],
      "text/plain": [
       "   Unnamed: 0      id  mb_used session_date  user_id\n",
       "0           0  1000_0   112.95   2018-11-25     1000\n",
       "1           1  1000_1  1052.81   2018-09-07     1000\n",
       "2           2  1000_2  1197.26   2018-06-25     1000\n",
       "3           3  1000_3   550.27   2018-08-22     1000\n",
       "4           4  1000_4   302.56   2018-09-24     1000"
      ]
     },
     "metadata": {},
     "output_type": "display_data"
    },
    {
     "name": "stdout",
     "output_type": "stream",
     "text": [
      "Дубликатов в исходных данных:  0\n"
     ]
    }
   ],
   "source": [
    "df_info(internet)"
   ]
  },
  {
   "cell_type": "code",
   "execution_count": 8,
   "metadata": {},
   "outputs": [
    {
     "name": "stdout",
     "output_type": "stream",
     "text": [
      "<class 'pandas.core.frame.DataFrame'>\n",
      "RangeIndex: 2 entries, 0 to 1\n",
      "Data columns (total 8 columns):\n",
      " #   Column                 Non-Null Count  Dtype \n",
      "---  ------                 --------------  ----- \n",
      " 0   messages_included      2 non-null      int64 \n",
      " 1   mb_per_month_included  2 non-null      int64 \n",
      " 2   minutes_included       2 non-null      int64 \n",
      " 3   rub_monthly_fee        2 non-null      int64 \n",
      " 4   rub_per_gb             2 non-null      int64 \n",
      " 5   rub_per_message        2 non-null      int64 \n",
      " 6   rub_per_minute         2 non-null      int64 \n",
      " 7   tariff_name            2 non-null      object\n",
      "dtypes: int64(7), object(1)\n",
      "memory usage: 256.0+ bytes\n"
     ]
    },
    {
     "data": {
      "text/html": [
       "<div>\n",
       "<style scoped>\n",
       "    .dataframe tbody tr th:only-of-type {\n",
       "        vertical-align: middle;\n",
       "    }\n",
       "\n",
       "    .dataframe tbody tr th {\n",
       "        vertical-align: top;\n",
       "    }\n",
       "\n",
       "    .dataframe thead th {\n",
       "        text-align: right;\n",
       "    }\n",
       "</style>\n",
       "<table border=\"1\" class=\"dataframe\">\n",
       "  <thead>\n",
       "    <tr style=\"text-align: right;\">\n",
       "      <th></th>\n",
       "      <th>messages_included</th>\n",
       "      <th>mb_per_month_included</th>\n",
       "      <th>minutes_included</th>\n",
       "      <th>rub_monthly_fee</th>\n",
       "      <th>rub_per_gb</th>\n",
       "      <th>rub_per_message</th>\n",
       "      <th>rub_per_minute</th>\n",
       "      <th>tariff_name</th>\n",
       "    </tr>\n",
       "  </thead>\n",
       "  <tbody>\n",
       "    <tr>\n",
       "      <th>0</th>\n",
       "      <td>50</td>\n",
       "      <td>15360</td>\n",
       "      <td>500</td>\n",
       "      <td>550</td>\n",
       "      <td>200</td>\n",
       "      <td>3</td>\n",
       "      <td>3</td>\n",
       "      <td>smart</td>\n",
       "    </tr>\n",
       "    <tr>\n",
       "      <th>1</th>\n",
       "      <td>1000</td>\n",
       "      <td>30720</td>\n",
       "      <td>3000</td>\n",
       "      <td>1950</td>\n",
       "      <td>150</td>\n",
       "      <td>1</td>\n",
       "      <td>1</td>\n",
       "      <td>ultra</td>\n",
       "    </tr>\n",
       "  </tbody>\n",
       "</table>\n",
       "</div>"
      ],
      "text/plain": [
       "   messages_included  mb_per_month_included  minutes_included  \\\n",
       "0                 50                  15360               500   \n",
       "1               1000                  30720              3000   \n",
       "\n",
       "   rub_monthly_fee  rub_per_gb  rub_per_message  rub_per_minute tariff_name  \n",
       "0              550         200                3               3       smart  \n",
       "1             1950         150                1               1       ultra  "
      ]
     },
     "metadata": {},
     "output_type": "display_data"
    },
    {
     "name": "stdout",
     "output_type": "stream",
     "text": [
      "Дубликатов в исходных данных:  0\n"
     ]
    }
   ],
   "source": [
    "df_info(tariffs)"
   ]
  },
  {
   "cell_type": "markdown",
   "metadata": {},
   "source": [
    "### Выводы"
   ]
  },
  {
   "cell_type": "markdown",
   "metadata": {},
   "source": [
    "Данные загружены в датафреймы:  \n",
    "- users  \n",
    "- calls  \n",
    "- messages  \n",
    "- internet  \n",
    "- tariffs  \n",
    "\n",
    "Дубликаты в исходных данных отсутствуют.  \n",
    "При первичном изучении данных выявлено:\n",
    "  \n",
    "**users**\n",
    "- есть пропуски в столбце churn_date, но они указывают на то, что пользователь еще пользуется тарифом, поэтому действий по обработке не требуют  \n",
    "- столбцы churn_date и reg_date необходимо привести к типу datetime\n",
    "\n",
    "**calls**  \n",
    "- пропусков в данных нет  \n",
    "- есть звонки в нулевой продолжительностью, но по исходному описанию проекта мы знаем что нулями обозначены пропущенные звонки, поэтому удалять их не нужно  \n",
    "- продолжительность звонков округлим в большую сторону до минут по условиям тарификации. После округления преобразуем данные к типу int64  \n",
    "- колонка id нам в дальнейшем не понадобится, поэтому можно ее удалить  \n",
    "\n",
    "**messages**  \n",
    "- пропусков в данных нет  \n",
    "- столбец session_date необходимо привести к типу datetime  \n",
    "- колонка id нам в дальнейшем не понадобится, поэтому можно ее удалить  \n",
    "\n",
    "**internet**  \n",
    "- пропусков в данных нет  \n",
    "- столбец session_date необходимо привести к типу datetime  \n",
    "- колонка id и Unnamed:0 нам в дальнейшем не понадобятся, поэтому можно их удалить  \n",
    "\n",
    "**tariffs**  \n",
    "- пропусков в данных нет  \n",
    "- переименуем колонку tariff_name в tariff для удобства дальнейшего объединения таблиц функцией merge"
   ]
  },
  {
   "cell_type": "markdown",
   "metadata": {},
   "source": [
    "## Подготовка данных"
   ]
  },
  {
   "cell_type": "markdown",
   "metadata": {},
   "source": [
    "Проведем подготовку данных в соответствии с выводами предыдущего пункта:"
   ]
  },
  {
   "cell_type": "code",
   "execution_count": 9,
   "metadata": {},
   "outputs": [],
   "source": [
    "users['reg_date'] = pd.to_datetime(users['reg_date'], format='%Y-%m-%d')\n",
    "users['churn_date'] = pd.to_datetime(users['churn_date'], format='%Y-%m-%d')\n",
    "calls['call_date'] = pd.to_datetime(calls['call_date'], format='%Y-%m-%d')\n",
    "messages['message_date'] = pd.to_datetime(messages['message_date'], format='%Y-%m-%d')\n",
    "internet['session_date'] = pd.to_datetime(internet['session_date'], format='%Y-%m-%d')"
   ]
  },
  {
   "cell_type": "code",
   "execution_count": 10,
   "metadata": {},
   "outputs": [],
   "source": [
    "calls['duration'] = np.ceil(calls['duration']).astype('int64')"
   ]
  },
  {
   "cell_type": "code",
   "execution_count": 11,
   "metadata": {},
   "outputs": [],
   "source": [
    "calls = calls.drop(columns=['id'])\n",
    "messages = messages.drop(columns=['id'])\n",
    "internet = internet.drop(columns=['Unnamed: 0','id'])\n",
    "tariffs = tariffs.rename(columns={'tariff_name':'tariff'})"
   ]
  },
  {
   "cell_type": "code",
   "execution_count": 12,
   "metadata": {},
   "outputs": [
    {
     "name": "stdout",
     "output_type": "stream",
     "text": [
      "<class 'pandas.core.frame.DataFrame'>\n",
      "RangeIndex: 500 entries, 0 to 499\n",
      "Data columns (total 8 columns):\n",
      " #   Column      Non-Null Count  Dtype         \n",
      "---  ------      --------------  -----         \n",
      " 0   user_id     500 non-null    int64         \n",
      " 1   age         500 non-null    int64         \n",
      " 2   churn_date  38 non-null     datetime64[ns]\n",
      " 3   city        500 non-null    object        \n",
      " 4   first_name  500 non-null    object        \n",
      " 5   last_name   500 non-null    object        \n",
      " 6   reg_date    500 non-null    datetime64[ns]\n",
      " 7   tariff      500 non-null    object        \n",
      "dtypes: datetime64[ns](2), int64(2), object(4)\n",
      "memory usage: 31.4+ KB\n"
     ]
    },
    {
     "data": {
      "text/html": [
       "<div>\n",
       "<style scoped>\n",
       "    .dataframe tbody tr th:only-of-type {\n",
       "        vertical-align: middle;\n",
       "    }\n",
       "\n",
       "    .dataframe tbody tr th {\n",
       "        vertical-align: top;\n",
       "    }\n",
       "\n",
       "    .dataframe thead th {\n",
       "        text-align: right;\n",
       "    }\n",
       "</style>\n",
       "<table border=\"1\" class=\"dataframe\">\n",
       "  <thead>\n",
       "    <tr style=\"text-align: right;\">\n",
       "      <th></th>\n",
       "      <th>user_id</th>\n",
       "      <th>age</th>\n",
       "      <th>churn_date</th>\n",
       "      <th>city</th>\n",
       "      <th>first_name</th>\n",
       "      <th>last_name</th>\n",
       "      <th>reg_date</th>\n",
       "      <th>tariff</th>\n",
       "    </tr>\n",
       "  </thead>\n",
       "  <tbody>\n",
       "    <tr>\n",
       "      <th>0</th>\n",
       "      <td>1000</td>\n",
       "      <td>52</td>\n",
       "      <td>NaT</td>\n",
       "      <td>Краснодар</td>\n",
       "      <td>Рафаил</td>\n",
       "      <td>Верещагин</td>\n",
       "      <td>2018-05-25</td>\n",
       "      <td>ultra</td>\n",
       "    </tr>\n",
       "    <tr>\n",
       "      <th>1</th>\n",
       "      <td>1001</td>\n",
       "      <td>41</td>\n",
       "      <td>NaT</td>\n",
       "      <td>Москва</td>\n",
       "      <td>Иван</td>\n",
       "      <td>Ежов</td>\n",
       "      <td>2018-11-01</td>\n",
       "      <td>smart</td>\n",
       "    </tr>\n",
       "    <tr>\n",
       "      <th>2</th>\n",
       "      <td>1002</td>\n",
       "      <td>59</td>\n",
       "      <td>NaT</td>\n",
       "      <td>Стерлитамак</td>\n",
       "      <td>Евгений</td>\n",
       "      <td>Абрамович</td>\n",
       "      <td>2018-06-17</td>\n",
       "      <td>smart</td>\n",
       "    </tr>\n",
       "    <tr>\n",
       "      <th>3</th>\n",
       "      <td>1003</td>\n",
       "      <td>23</td>\n",
       "      <td>NaT</td>\n",
       "      <td>Москва</td>\n",
       "      <td>Белла</td>\n",
       "      <td>Белякова</td>\n",
       "      <td>2018-08-17</td>\n",
       "      <td>ultra</td>\n",
       "    </tr>\n",
       "    <tr>\n",
       "      <th>4</th>\n",
       "      <td>1004</td>\n",
       "      <td>68</td>\n",
       "      <td>NaT</td>\n",
       "      <td>Новокузнецк</td>\n",
       "      <td>Татьяна</td>\n",
       "      <td>Авдеенко</td>\n",
       "      <td>2018-05-14</td>\n",
       "      <td>ultra</td>\n",
       "    </tr>\n",
       "  </tbody>\n",
       "</table>\n",
       "</div>"
      ],
      "text/plain": [
       "   user_id  age churn_date         city first_name  last_name   reg_date  \\\n",
       "0     1000   52        NaT    Краснодар     Рафаил  Верещагин 2018-05-25   \n",
       "1     1001   41        NaT       Москва       Иван       Ежов 2018-11-01   \n",
       "2     1002   59        NaT  Стерлитамак    Евгений  Абрамович 2018-06-17   \n",
       "3     1003   23        NaT       Москва      Белла   Белякова 2018-08-17   \n",
       "4     1004   68        NaT  Новокузнецк    Татьяна   Авдеенко 2018-05-14   \n",
       "\n",
       "  tariff  \n",
       "0  ultra  \n",
       "1  smart  \n",
       "2  smart  \n",
       "3  ultra  \n",
       "4  ultra  "
      ]
     },
     "metadata": {},
     "output_type": "display_data"
    },
    {
     "name": "stdout",
     "output_type": "stream",
     "text": [
      "Дубликатов в исходных данных:  0\n"
     ]
    }
   ],
   "source": [
    "df_info(users)"
   ]
  },
  {
   "cell_type": "code",
   "execution_count": 13,
   "metadata": {},
   "outputs": [
    {
     "name": "stdout",
     "output_type": "stream",
     "text": [
      "<class 'pandas.core.frame.DataFrame'>\n",
      "RangeIndex: 202607 entries, 0 to 202606\n",
      "Data columns (total 3 columns):\n",
      " #   Column     Non-Null Count   Dtype         \n",
      "---  ------     --------------   -----         \n",
      " 0   call_date  202607 non-null  datetime64[ns]\n",
      " 1   duration   202607 non-null  int64         \n",
      " 2   user_id    202607 non-null  int64         \n",
      "dtypes: datetime64[ns](1), int64(2)\n",
      "memory usage: 4.6 MB\n"
     ]
    },
    {
     "data": {
      "text/html": [
       "<div>\n",
       "<style scoped>\n",
       "    .dataframe tbody tr th:only-of-type {\n",
       "        vertical-align: middle;\n",
       "    }\n",
       "\n",
       "    .dataframe tbody tr th {\n",
       "        vertical-align: top;\n",
       "    }\n",
       "\n",
       "    .dataframe thead th {\n",
       "        text-align: right;\n",
       "    }\n",
       "</style>\n",
       "<table border=\"1\" class=\"dataframe\">\n",
       "  <thead>\n",
       "    <tr style=\"text-align: right;\">\n",
       "      <th></th>\n",
       "      <th>call_date</th>\n",
       "      <th>duration</th>\n",
       "      <th>user_id</th>\n",
       "    </tr>\n",
       "  </thead>\n",
       "  <tbody>\n",
       "    <tr>\n",
       "      <th>0</th>\n",
       "      <td>2018-07-25</td>\n",
       "      <td>0</td>\n",
       "      <td>1000</td>\n",
       "    </tr>\n",
       "    <tr>\n",
       "      <th>1</th>\n",
       "      <td>2018-08-17</td>\n",
       "      <td>0</td>\n",
       "      <td>1000</td>\n",
       "    </tr>\n",
       "    <tr>\n",
       "      <th>2</th>\n",
       "      <td>2018-06-11</td>\n",
       "      <td>3</td>\n",
       "      <td>1000</td>\n",
       "    </tr>\n",
       "    <tr>\n",
       "      <th>3</th>\n",
       "      <td>2018-09-21</td>\n",
       "      <td>14</td>\n",
       "      <td>1000</td>\n",
       "    </tr>\n",
       "    <tr>\n",
       "      <th>4</th>\n",
       "      <td>2018-12-15</td>\n",
       "      <td>6</td>\n",
       "      <td>1000</td>\n",
       "    </tr>\n",
       "  </tbody>\n",
       "</table>\n",
       "</div>"
      ],
      "text/plain": [
       "   call_date  duration  user_id\n",
       "0 2018-07-25         0     1000\n",
       "1 2018-08-17         0     1000\n",
       "2 2018-06-11         3     1000\n",
       "3 2018-09-21        14     1000\n",
       "4 2018-12-15         6     1000"
      ]
     },
     "metadata": {},
     "output_type": "display_data"
    },
    {
     "name": "stdout",
     "output_type": "stream",
     "text": [
      "Дубликатов в исходных данных:  18277\n"
     ]
    }
   ],
   "source": [
    "df_info(calls)"
   ]
  },
  {
   "cell_type": "code",
   "execution_count": 14,
   "metadata": {},
   "outputs": [
    {
     "name": "stdout",
     "output_type": "stream",
     "text": [
      "<class 'pandas.core.frame.DataFrame'>\n",
      "RangeIndex: 123036 entries, 0 to 123035\n",
      "Data columns (total 2 columns):\n",
      " #   Column        Non-Null Count   Dtype         \n",
      "---  ------        --------------   -----         \n",
      " 0   message_date  123036 non-null  datetime64[ns]\n",
      " 1   user_id       123036 non-null  int64         \n",
      "dtypes: datetime64[ns](1), int64(1)\n",
      "memory usage: 1.9 MB\n"
     ]
    },
    {
     "data": {
      "text/html": [
       "<div>\n",
       "<style scoped>\n",
       "    .dataframe tbody tr th:only-of-type {\n",
       "        vertical-align: middle;\n",
       "    }\n",
       "\n",
       "    .dataframe tbody tr th {\n",
       "        vertical-align: top;\n",
       "    }\n",
       "\n",
       "    .dataframe thead th {\n",
       "        text-align: right;\n",
       "    }\n",
       "</style>\n",
       "<table border=\"1\" class=\"dataframe\">\n",
       "  <thead>\n",
       "    <tr style=\"text-align: right;\">\n",
       "      <th></th>\n",
       "      <th>message_date</th>\n",
       "      <th>user_id</th>\n",
       "    </tr>\n",
       "  </thead>\n",
       "  <tbody>\n",
       "    <tr>\n",
       "      <th>0</th>\n",
       "      <td>2018-06-27</td>\n",
       "      <td>1000</td>\n",
       "    </tr>\n",
       "    <tr>\n",
       "      <th>1</th>\n",
       "      <td>2018-10-08</td>\n",
       "      <td>1000</td>\n",
       "    </tr>\n",
       "    <tr>\n",
       "      <th>2</th>\n",
       "      <td>2018-08-04</td>\n",
       "      <td>1000</td>\n",
       "    </tr>\n",
       "    <tr>\n",
       "      <th>3</th>\n",
       "      <td>2018-06-16</td>\n",
       "      <td>1000</td>\n",
       "    </tr>\n",
       "    <tr>\n",
       "      <th>4</th>\n",
       "      <td>2018-12-05</td>\n",
       "      <td>1000</td>\n",
       "    </tr>\n",
       "  </tbody>\n",
       "</table>\n",
       "</div>"
      ],
      "text/plain": [
       "  message_date  user_id\n",
       "0   2018-06-27     1000\n",
       "1   2018-10-08     1000\n",
       "2   2018-08-04     1000\n",
       "3   2018-06-16     1000\n",
       "4   2018-12-05     1000"
      ]
     },
     "metadata": {},
     "output_type": "display_data"
    },
    {
     "name": "stdout",
     "output_type": "stream",
     "text": [
      "Дубликатов в исходных данных:  70379\n"
     ]
    }
   ],
   "source": [
    "df_info(messages)"
   ]
  },
  {
   "cell_type": "code",
   "execution_count": 15,
   "metadata": {},
   "outputs": [
    {
     "name": "stdout",
     "output_type": "stream",
     "text": [
      "<class 'pandas.core.frame.DataFrame'>\n",
      "RangeIndex: 149396 entries, 0 to 149395\n",
      "Data columns (total 3 columns):\n",
      " #   Column        Non-Null Count   Dtype         \n",
      "---  ------        --------------   -----         \n",
      " 0   mb_used       149396 non-null  float64       \n",
      " 1   session_date  149396 non-null  datetime64[ns]\n",
      " 2   user_id       149396 non-null  int64         \n",
      "dtypes: datetime64[ns](1), float64(1), int64(1)\n",
      "memory usage: 3.4 MB\n"
     ]
    },
    {
     "data": {
      "text/html": [
       "<div>\n",
       "<style scoped>\n",
       "    .dataframe tbody tr th:only-of-type {\n",
       "        vertical-align: middle;\n",
       "    }\n",
       "\n",
       "    .dataframe tbody tr th {\n",
       "        vertical-align: top;\n",
       "    }\n",
       "\n",
       "    .dataframe thead th {\n",
       "        text-align: right;\n",
       "    }\n",
       "</style>\n",
       "<table border=\"1\" class=\"dataframe\">\n",
       "  <thead>\n",
       "    <tr style=\"text-align: right;\">\n",
       "      <th></th>\n",
       "      <th>mb_used</th>\n",
       "      <th>session_date</th>\n",
       "      <th>user_id</th>\n",
       "    </tr>\n",
       "  </thead>\n",
       "  <tbody>\n",
       "    <tr>\n",
       "      <th>0</th>\n",
       "      <td>112.95</td>\n",
       "      <td>2018-11-25</td>\n",
       "      <td>1000</td>\n",
       "    </tr>\n",
       "    <tr>\n",
       "      <th>1</th>\n",
       "      <td>1052.81</td>\n",
       "      <td>2018-09-07</td>\n",
       "      <td>1000</td>\n",
       "    </tr>\n",
       "    <tr>\n",
       "      <th>2</th>\n",
       "      <td>1197.26</td>\n",
       "      <td>2018-06-25</td>\n",
       "      <td>1000</td>\n",
       "    </tr>\n",
       "    <tr>\n",
       "      <th>3</th>\n",
       "      <td>550.27</td>\n",
       "      <td>2018-08-22</td>\n",
       "      <td>1000</td>\n",
       "    </tr>\n",
       "    <tr>\n",
       "      <th>4</th>\n",
       "      <td>302.56</td>\n",
       "      <td>2018-09-24</td>\n",
       "      <td>1000</td>\n",
       "    </tr>\n",
       "  </tbody>\n",
       "</table>\n",
       "</div>"
      ],
      "text/plain": [
       "   mb_used session_date  user_id\n",
       "0   112.95   2018-11-25     1000\n",
       "1  1052.81   2018-09-07     1000\n",
       "2  1197.26   2018-06-25     1000\n",
       "3   550.27   2018-08-22     1000\n",
       "4   302.56   2018-09-24     1000"
      ]
     },
     "metadata": {},
     "output_type": "display_data"
    },
    {
     "name": "stdout",
     "output_type": "stream",
     "text": [
      "Дубликатов в исходных данных:  2566\n"
     ]
    }
   ],
   "source": [
    "df_info(internet)"
   ]
  },
  {
   "cell_type": "code",
   "execution_count": 16,
   "metadata": {},
   "outputs": [
    {
     "name": "stdout",
     "output_type": "stream",
     "text": [
      "<class 'pandas.core.frame.DataFrame'>\n",
      "RangeIndex: 2 entries, 0 to 1\n",
      "Data columns (total 8 columns):\n",
      " #   Column                 Non-Null Count  Dtype \n",
      "---  ------                 --------------  ----- \n",
      " 0   messages_included      2 non-null      int64 \n",
      " 1   mb_per_month_included  2 non-null      int64 \n",
      " 2   minutes_included       2 non-null      int64 \n",
      " 3   rub_monthly_fee        2 non-null      int64 \n",
      " 4   rub_per_gb             2 non-null      int64 \n",
      " 5   rub_per_message        2 non-null      int64 \n",
      " 6   rub_per_minute         2 non-null      int64 \n",
      " 7   tariff                 2 non-null      object\n",
      "dtypes: int64(7), object(1)\n",
      "memory usage: 256.0+ bytes\n"
     ]
    },
    {
     "data": {
      "text/html": [
       "<div>\n",
       "<style scoped>\n",
       "    .dataframe tbody tr th:only-of-type {\n",
       "        vertical-align: middle;\n",
       "    }\n",
       "\n",
       "    .dataframe tbody tr th {\n",
       "        vertical-align: top;\n",
       "    }\n",
       "\n",
       "    .dataframe thead th {\n",
       "        text-align: right;\n",
       "    }\n",
       "</style>\n",
       "<table border=\"1\" class=\"dataframe\">\n",
       "  <thead>\n",
       "    <tr style=\"text-align: right;\">\n",
       "      <th></th>\n",
       "      <th>messages_included</th>\n",
       "      <th>mb_per_month_included</th>\n",
       "      <th>minutes_included</th>\n",
       "      <th>rub_monthly_fee</th>\n",
       "      <th>rub_per_gb</th>\n",
       "      <th>rub_per_message</th>\n",
       "      <th>rub_per_minute</th>\n",
       "      <th>tariff</th>\n",
       "    </tr>\n",
       "  </thead>\n",
       "  <tbody>\n",
       "    <tr>\n",
       "      <th>0</th>\n",
       "      <td>50</td>\n",
       "      <td>15360</td>\n",
       "      <td>500</td>\n",
       "      <td>550</td>\n",
       "      <td>200</td>\n",
       "      <td>3</td>\n",
       "      <td>3</td>\n",
       "      <td>smart</td>\n",
       "    </tr>\n",
       "    <tr>\n",
       "      <th>1</th>\n",
       "      <td>1000</td>\n",
       "      <td>30720</td>\n",
       "      <td>3000</td>\n",
       "      <td>1950</td>\n",
       "      <td>150</td>\n",
       "      <td>1</td>\n",
       "      <td>1</td>\n",
       "      <td>ultra</td>\n",
       "    </tr>\n",
       "  </tbody>\n",
       "</table>\n",
       "</div>"
      ],
      "text/plain": [
       "   messages_included  mb_per_month_included  minutes_included  \\\n",
       "0                 50                  15360               500   \n",
       "1               1000                  30720              3000   \n",
       "\n",
       "   rub_monthly_fee  rub_per_gb  rub_per_message  rub_per_minute tariff  \n",
       "0              550         200                3               3  smart  \n",
       "1             1950         150                1               1  ultra  "
      ]
     },
     "metadata": {},
     "output_type": "display_data"
    },
    {
     "name": "stdout",
     "output_type": "stream",
     "text": [
      "Дубликатов в исходных данных:  0\n"
     ]
    }
   ],
   "source": [
    "df_info(tariffs)"
   ]
  },
  {
   "cell_type": "markdown",
   "metadata": {},
   "source": [
    "**Обработка данных проведена, все запланированные действия выполнены.**"
   ]
  },
  {
   "cell_type": "markdown",
   "metadata": {},
   "source": [
    "### Подготовка сводных данных"
   ]
  },
  {
   "cell_type": "markdown",
   "metadata": {},
   "source": [
    "**Посчитаем для каждого пользователя:**  \n",
    "•\tколичество сделанных звонков и израсходованных минут разговора по месяцам;  \n",
    "•\tколичество отправленных сообщений по месяцам;  \n",
    "•\tобъем израсходованного интернет-трафика по месяцам;  \n",
    "•\tпомесячную выручку с каждого пользователя (вычтите бесплатный лимит из суммарного количества звонков, сообщений и интернет-трафика; остаток умножьте на значение из тарифного плана; прибавьте абонентскую плату, соответствующую тарифному плану).  "
   ]
  },
  {
   "cell_type": "markdown",
   "metadata": {},
   "source": [
    "В первую очередь добавим колонку с номером месяца в таблицы calls, internet, messages  "
   ]
  },
  {
   "cell_type": "code",
   "execution_count": 17,
   "metadata": {},
   "outputs": [],
   "source": [
    "calls['month'] = calls['call_date'].dt.month\n",
    "messages['month'] = messages['message_date'].dt.month\n",
    "internet['month'] = internet['session_date'].dt.month"
   ]
  },
  {
   "cell_type": "markdown",
   "metadata": {},
   "source": [
    "Сформируем сводные таблицы по месяцам"
   ]
  },
  {
   "cell_type": "code",
   "execution_count": 18,
   "metadata": {},
   "outputs": [
    {
     "data": {
      "text/html": [
       "<div>\n",
       "<style scoped>\n",
       "    .dataframe tbody tr th:only-of-type {\n",
       "        vertical-align: middle;\n",
       "    }\n",
       "\n",
       "    .dataframe tbody tr th {\n",
       "        vertical-align: top;\n",
       "    }\n",
       "\n",
       "    .dataframe thead th {\n",
       "        text-align: right;\n",
       "    }\n",
       "</style>\n",
       "<table border=\"1\" class=\"dataframe\">\n",
       "  <thead>\n",
       "    <tr style=\"text-align: right;\">\n",
       "      <th></th>\n",
       "      <th>user_id</th>\n",
       "      <th>month</th>\n",
       "      <th>calls_count</th>\n",
       "      <th>calls_duration</th>\n",
       "    </tr>\n",
       "  </thead>\n",
       "  <tbody>\n",
       "    <tr>\n",
       "      <th>0</th>\n",
       "      <td>1000</td>\n",
       "      <td>5</td>\n",
       "      <td>22</td>\n",
       "      <td>159</td>\n",
       "    </tr>\n",
       "    <tr>\n",
       "      <th>1</th>\n",
       "      <td>1000</td>\n",
       "      <td>6</td>\n",
       "      <td>43</td>\n",
       "      <td>172</td>\n",
       "    </tr>\n",
       "    <tr>\n",
       "      <th>2</th>\n",
       "      <td>1000</td>\n",
       "      <td>7</td>\n",
       "      <td>47</td>\n",
       "      <td>340</td>\n",
       "    </tr>\n",
       "    <tr>\n",
       "      <th>3</th>\n",
       "      <td>1000</td>\n",
       "      <td>8</td>\n",
       "      <td>52</td>\n",
       "      <td>408</td>\n",
       "    </tr>\n",
       "    <tr>\n",
       "      <th>4</th>\n",
       "      <td>1000</td>\n",
       "      <td>9</td>\n",
       "      <td>58</td>\n",
       "      <td>466</td>\n",
       "    </tr>\n",
       "  </tbody>\n",
       "</table>\n",
       "</div>"
      ],
      "text/plain": [
       "   user_id  month  calls_count  calls_duration\n",
       "0     1000      5           22             159\n",
       "1     1000      6           43             172\n",
       "2     1000      7           47             340\n",
       "3     1000      8           52             408\n",
       "4     1000      9           58             466"
      ]
     },
     "execution_count": 18,
     "metadata": {},
     "output_type": "execute_result"
    }
   ],
   "source": [
    "calls_month = calls.groupby(['user_id', 'month']).agg({'duration': ['count','sum']}).reset_index()\n",
    "calls_month.columns = ['user_id', 'month', 'calls_count', 'calls_duration']\n",
    "calls_month.head()"
   ]
  },
  {
   "cell_type": "code",
   "execution_count": 19,
   "metadata": {},
   "outputs": [
    {
     "data": {
      "text/html": [
       "<div>\n",
       "<style scoped>\n",
       "    .dataframe tbody tr th:only-of-type {\n",
       "        vertical-align: middle;\n",
       "    }\n",
       "\n",
       "    .dataframe tbody tr th {\n",
       "        vertical-align: top;\n",
       "    }\n",
       "\n",
       "    .dataframe thead th {\n",
       "        text-align: right;\n",
       "    }\n",
       "</style>\n",
       "<table border=\"1\" class=\"dataframe\">\n",
       "  <thead>\n",
       "    <tr style=\"text-align: right;\">\n",
       "      <th></th>\n",
       "      <th>user_id</th>\n",
       "      <th>month</th>\n",
       "      <th>messages_count</th>\n",
       "    </tr>\n",
       "  </thead>\n",
       "  <tbody>\n",
       "    <tr>\n",
       "      <th>0</th>\n",
       "      <td>1000</td>\n",
       "      <td>5</td>\n",
       "      <td>22</td>\n",
       "    </tr>\n",
       "    <tr>\n",
       "      <th>1</th>\n",
       "      <td>1000</td>\n",
       "      <td>6</td>\n",
       "      <td>60</td>\n",
       "    </tr>\n",
       "    <tr>\n",
       "      <th>2</th>\n",
       "      <td>1000</td>\n",
       "      <td>7</td>\n",
       "      <td>75</td>\n",
       "    </tr>\n",
       "    <tr>\n",
       "      <th>3</th>\n",
       "      <td>1000</td>\n",
       "      <td>8</td>\n",
       "      <td>81</td>\n",
       "    </tr>\n",
       "    <tr>\n",
       "      <th>4</th>\n",
       "      <td>1000</td>\n",
       "      <td>9</td>\n",
       "      <td>57</td>\n",
       "    </tr>\n",
       "  </tbody>\n",
       "</table>\n",
       "</div>"
      ],
      "text/plain": [
       "   user_id  month  messages_count\n",
       "0     1000      5              22\n",
       "1     1000      6              60\n",
       "2     1000      7              75\n",
       "3     1000      8              81\n",
       "4     1000      9              57"
      ]
     },
     "execution_count": 19,
     "metadata": {},
     "output_type": "execute_result"
    }
   ],
   "source": [
    "messages_month = messages.groupby(['user_id', 'month']).agg({'user_id': ['count']}).reset_index()\n",
    "messages_month.columns = ['user_id', 'month', 'messages_count']\n",
    "messages_month.head()"
   ]
  },
  {
   "cell_type": "code",
   "execution_count": 20,
   "metadata": {},
   "outputs": [
    {
     "data": {
      "text/html": [
       "<div>\n",
       "<style scoped>\n",
       "    .dataframe tbody tr th:only-of-type {\n",
       "        vertical-align: middle;\n",
       "    }\n",
       "\n",
       "    .dataframe tbody tr th {\n",
       "        vertical-align: top;\n",
       "    }\n",
       "\n",
       "    .dataframe thead th {\n",
       "        text-align: right;\n",
       "    }\n",
       "</style>\n",
       "<table border=\"1\" class=\"dataframe\">\n",
       "  <thead>\n",
       "    <tr style=\"text-align: right;\">\n",
       "      <th></th>\n",
       "      <th>user_id</th>\n",
       "      <th>month</th>\n",
       "      <th>session_count</th>\n",
       "      <th>session_mb</th>\n",
       "    </tr>\n",
       "  </thead>\n",
       "  <tbody>\n",
       "    <tr>\n",
       "      <th>0</th>\n",
       "      <td>1000</td>\n",
       "      <td>5</td>\n",
       "      <td>5</td>\n",
       "      <td>2253.49</td>\n",
       "    </tr>\n",
       "    <tr>\n",
       "      <th>1</th>\n",
       "      <td>1000</td>\n",
       "      <td>6</td>\n",
       "      <td>49</td>\n",
       "      <td>23233.77</td>\n",
       "    </tr>\n",
       "    <tr>\n",
       "      <th>2</th>\n",
       "      <td>1000</td>\n",
       "      <td>7</td>\n",
       "      <td>29</td>\n",
       "      <td>14003.64</td>\n",
       "    </tr>\n",
       "    <tr>\n",
       "      <th>3</th>\n",
       "      <td>1000</td>\n",
       "      <td>8</td>\n",
       "      <td>29</td>\n",
       "      <td>14055.93</td>\n",
       "    </tr>\n",
       "    <tr>\n",
       "      <th>4</th>\n",
       "      <td>1000</td>\n",
       "      <td>9</td>\n",
       "      <td>27</td>\n",
       "      <td>14568.91</td>\n",
       "    </tr>\n",
       "  </tbody>\n",
       "</table>\n",
       "</div>"
      ],
      "text/plain": [
       "   user_id  month  session_count  session_mb\n",
       "0     1000      5              5     2253.49\n",
       "1     1000      6             49    23233.77\n",
       "2     1000      7             29    14003.64\n",
       "3     1000      8             29    14055.93\n",
       "4     1000      9             27    14568.91"
      ]
     },
     "execution_count": 20,
     "metadata": {},
     "output_type": "execute_result"
    }
   ],
   "source": [
    "internet_month = internet.groupby(['user_id', 'month']).agg({'mb_used': ['count','sum']}).reset_index()\n",
    "internet_month.columns = ['user_id', 'month', 'session_count', 'session_mb']\n",
    "internet_month.head()"
   ]
  },
  {
   "cell_type": "markdown",
   "metadata": {},
   "source": [
    "Объединим сводные данные по месяцам в одну общую таблицу, обязательно будем использовать тип соединения 'outer', чтобы не потерять данные"
   ]
  },
  {
   "cell_type": "code",
   "execution_count": 21,
   "metadata": {},
   "outputs": [
    {
     "name": "stdout",
     "output_type": "stream",
     "text": [
      "<class 'pandas.core.frame.DataFrame'>\n",
      "Int64Index: 3216 entries, 0 to 3215\n",
      "Data columns (total 21 columns):\n",
      " #   Column                 Non-Null Count  Dtype         \n",
      "---  ------                 --------------  -----         \n",
      " 0   user_id                3216 non-null   int64         \n",
      " 1   month                  3214 non-null   float64       \n",
      " 2   calls_count            3174 non-null   float64       \n",
      " 3   calls_duration         3174 non-null   float64       \n",
      " 4   messages_count         2717 non-null   float64       \n",
      " 5   session_count          3203 non-null   float64       \n",
      " 6   session_mb             3203 non-null   float64       \n",
      " 7   age                    3216 non-null   int64         \n",
      " 8   churn_date             189 non-null    datetime64[ns]\n",
      " 9   city                   3216 non-null   object        \n",
      " 10  first_name             3216 non-null   object        \n",
      " 11  last_name              3216 non-null   object        \n",
      " 12  reg_date               3216 non-null   datetime64[ns]\n",
      " 13  tariff                 3216 non-null   object        \n",
      " 14  messages_included      3216 non-null   int64         \n",
      " 15  mb_per_month_included  3216 non-null   int64         \n",
      " 16  minutes_included       3216 non-null   int64         \n",
      " 17  rub_monthly_fee        3216 non-null   int64         \n",
      " 18  rub_per_gb             3216 non-null   int64         \n",
      " 19  rub_per_message        3216 non-null   int64         \n",
      " 20  rub_per_minute         3216 non-null   int64         \n",
      "dtypes: datetime64[ns](2), float64(6), int64(9), object(4)\n",
      "memory usage: 552.8+ KB\n"
     ]
    },
    {
     "data": {
      "text/html": [
       "<div>\n",
       "<style scoped>\n",
       "    .dataframe tbody tr th:only-of-type {\n",
       "        vertical-align: middle;\n",
       "    }\n",
       "\n",
       "    .dataframe tbody tr th {\n",
       "        vertical-align: top;\n",
       "    }\n",
       "\n",
       "    .dataframe thead th {\n",
       "        text-align: right;\n",
       "    }\n",
       "</style>\n",
       "<table border=\"1\" class=\"dataframe\">\n",
       "  <thead>\n",
       "    <tr style=\"text-align: right;\">\n",
       "      <th></th>\n",
       "      <th>user_id</th>\n",
       "      <th>month</th>\n",
       "      <th>calls_count</th>\n",
       "      <th>calls_duration</th>\n",
       "      <th>messages_count</th>\n",
       "      <th>session_count</th>\n",
       "      <th>session_mb</th>\n",
       "      <th>age</th>\n",
       "      <th>churn_date</th>\n",
       "      <th>city</th>\n",
       "      <th>first_name</th>\n",
       "      <th>last_name</th>\n",
       "      <th>reg_date</th>\n",
       "      <th>tariff</th>\n",
       "      <th>messages_included</th>\n",
       "      <th>mb_per_month_included</th>\n",
       "      <th>minutes_included</th>\n",
       "      <th>rub_monthly_fee</th>\n",
       "      <th>rub_per_gb</th>\n",
       "      <th>rub_per_message</th>\n",
       "      <th>rub_per_minute</th>\n",
       "    </tr>\n",
       "  </thead>\n",
       "  <tbody>\n",
       "    <tr>\n",
       "      <th>0</th>\n",
       "      <td>1000</td>\n",
       "      <td>5.0</td>\n",
       "      <td>22.0</td>\n",
       "      <td>159.0</td>\n",
       "      <td>22.0</td>\n",
       "      <td>5.0</td>\n",
       "      <td>2253.49</td>\n",
       "      <td>52</td>\n",
       "      <td>NaT</td>\n",
       "      <td>Краснодар</td>\n",
       "      <td>Рафаил</td>\n",
       "      <td>Верещагин</td>\n",
       "      <td>2018-05-25</td>\n",
       "      <td>ultra</td>\n",
       "      <td>1000</td>\n",
       "      <td>30720</td>\n",
       "      <td>3000</td>\n",
       "      <td>1950</td>\n",
       "      <td>150</td>\n",
       "      <td>1</td>\n",
       "      <td>1</td>\n",
       "    </tr>\n",
       "    <tr>\n",
       "      <th>1</th>\n",
       "      <td>1000</td>\n",
       "      <td>6.0</td>\n",
       "      <td>43.0</td>\n",
       "      <td>172.0</td>\n",
       "      <td>60.0</td>\n",
       "      <td>49.0</td>\n",
       "      <td>23233.77</td>\n",
       "      <td>52</td>\n",
       "      <td>NaT</td>\n",
       "      <td>Краснодар</td>\n",
       "      <td>Рафаил</td>\n",
       "      <td>Верещагин</td>\n",
       "      <td>2018-05-25</td>\n",
       "      <td>ultra</td>\n",
       "      <td>1000</td>\n",
       "      <td>30720</td>\n",
       "      <td>3000</td>\n",
       "      <td>1950</td>\n",
       "      <td>150</td>\n",
       "      <td>1</td>\n",
       "      <td>1</td>\n",
       "    </tr>\n",
       "    <tr>\n",
       "      <th>2</th>\n",
       "      <td>1000</td>\n",
       "      <td>7.0</td>\n",
       "      <td>47.0</td>\n",
       "      <td>340.0</td>\n",
       "      <td>75.0</td>\n",
       "      <td>29.0</td>\n",
       "      <td>14003.64</td>\n",
       "      <td>52</td>\n",
       "      <td>NaT</td>\n",
       "      <td>Краснодар</td>\n",
       "      <td>Рафаил</td>\n",
       "      <td>Верещагин</td>\n",
       "      <td>2018-05-25</td>\n",
       "      <td>ultra</td>\n",
       "      <td>1000</td>\n",
       "      <td>30720</td>\n",
       "      <td>3000</td>\n",
       "      <td>1950</td>\n",
       "      <td>150</td>\n",
       "      <td>1</td>\n",
       "      <td>1</td>\n",
       "    </tr>\n",
       "    <tr>\n",
       "      <th>3</th>\n",
       "      <td>1000</td>\n",
       "      <td>8.0</td>\n",
       "      <td>52.0</td>\n",
       "      <td>408.0</td>\n",
       "      <td>81.0</td>\n",
       "      <td>29.0</td>\n",
       "      <td>14055.93</td>\n",
       "      <td>52</td>\n",
       "      <td>NaT</td>\n",
       "      <td>Краснодар</td>\n",
       "      <td>Рафаил</td>\n",
       "      <td>Верещагин</td>\n",
       "      <td>2018-05-25</td>\n",
       "      <td>ultra</td>\n",
       "      <td>1000</td>\n",
       "      <td>30720</td>\n",
       "      <td>3000</td>\n",
       "      <td>1950</td>\n",
       "      <td>150</td>\n",
       "      <td>1</td>\n",
       "      <td>1</td>\n",
       "    </tr>\n",
       "    <tr>\n",
       "      <th>4</th>\n",
       "      <td>1000</td>\n",
       "      <td>9.0</td>\n",
       "      <td>58.0</td>\n",
       "      <td>466.0</td>\n",
       "      <td>57.0</td>\n",
       "      <td>27.0</td>\n",
       "      <td>14568.91</td>\n",
       "      <td>52</td>\n",
       "      <td>NaT</td>\n",
       "      <td>Краснодар</td>\n",
       "      <td>Рафаил</td>\n",
       "      <td>Верещагин</td>\n",
       "      <td>2018-05-25</td>\n",
       "      <td>ultra</td>\n",
       "      <td>1000</td>\n",
       "      <td>30720</td>\n",
       "      <td>3000</td>\n",
       "      <td>1950</td>\n",
       "      <td>150</td>\n",
       "      <td>1</td>\n",
       "      <td>1</td>\n",
       "    </tr>\n",
       "  </tbody>\n",
       "</table>\n",
       "</div>"
      ],
      "text/plain": [
       "   user_id  month  calls_count  calls_duration  messages_count  session_count  \\\n",
       "0     1000    5.0         22.0           159.0            22.0            5.0   \n",
       "1     1000    6.0         43.0           172.0            60.0           49.0   \n",
       "2     1000    7.0         47.0           340.0            75.0           29.0   \n",
       "3     1000    8.0         52.0           408.0            81.0           29.0   \n",
       "4     1000    9.0         58.0           466.0            57.0           27.0   \n",
       "\n",
       "   session_mb  age churn_date       city first_name  last_name   reg_date  \\\n",
       "0     2253.49   52        NaT  Краснодар     Рафаил  Верещагин 2018-05-25   \n",
       "1    23233.77   52        NaT  Краснодар     Рафаил  Верещагин 2018-05-25   \n",
       "2    14003.64   52        NaT  Краснодар     Рафаил  Верещагин 2018-05-25   \n",
       "3    14055.93   52        NaT  Краснодар     Рафаил  Верещагин 2018-05-25   \n",
       "4    14568.91   52        NaT  Краснодар     Рафаил  Верещагин 2018-05-25   \n",
       "\n",
       "  tariff  messages_included  mb_per_month_included  minutes_included  \\\n",
       "0  ultra               1000                  30720              3000   \n",
       "1  ultra               1000                  30720              3000   \n",
       "2  ultra               1000                  30720              3000   \n",
       "3  ultra               1000                  30720              3000   \n",
       "4  ultra               1000                  30720              3000   \n",
       "\n",
       "   rub_monthly_fee  rub_per_gb  rub_per_message  rub_per_minute  \n",
       "0             1950         150                1               1  \n",
       "1             1950         150                1               1  \n",
       "2             1950         150                1               1  \n",
       "3             1950         150                1               1  \n",
       "4             1950         150                1               1  "
      ]
     },
     "execution_count": 21,
     "metadata": {},
     "output_type": "execute_result"
    }
   ],
   "source": [
    "df = calls_month.merge(messages_month, on=['user_id', 'month'], how='outer')\n",
    "df = df.merge(internet_month, on=['user_id', 'month'], how='outer')\n",
    "df = df.merge(users, on=['user_id'], how='outer')\n",
    "df = df.merge(tariffs, on=['tariff'], how='outer')\n",
    "df.info()\n",
    "df.head()"
   ]
  },
  {
   "cell_type": "markdown",
   "metadata": {},
   "source": [
    "Данные сведены в общую таблицу.  \n",
    "Как мы видим у нас есть два пропуска в столбце month. нужно их проанализировать отдельно, поскольку пропуски в данном столбце недопустимы для дальнейшего анализа."
   ]
  },
  {
   "cell_type": "code",
   "execution_count": 22,
   "metadata": {
    "scrolled": false
   },
   "outputs": [
    {
     "data": {
      "text/html": [
       "<div>\n",
       "<style scoped>\n",
       "    .dataframe tbody tr th:only-of-type {\n",
       "        vertical-align: middle;\n",
       "    }\n",
       "\n",
       "    .dataframe tbody tr th {\n",
       "        vertical-align: top;\n",
       "    }\n",
       "\n",
       "    .dataframe thead th {\n",
       "        text-align: right;\n",
       "    }\n",
       "</style>\n",
       "<table border=\"1\" class=\"dataframe\">\n",
       "  <thead>\n",
       "    <tr style=\"text-align: right;\">\n",
       "      <th></th>\n",
       "      <th>user_id</th>\n",
       "      <th>month</th>\n",
       "      <th>calls_count</th>\n",
       "      <th>calls_duration</th>\n",
       "      <th>messages_count</th>\n",
       "      <th>session_count</th>\n",
       "      <th>session_mb</th>\n",
       "      <th>age</th>\n",
       "      <th>churn_date</th>\n",
       "      <th>city</th>\n",
       "      <th>first_name</th>\n",
       "      <th>last_name</th>\n",
       "      <th>reg_date</th>\n",
       "      <th>tariff</th>\n",
       "      <th>messages_included</th>\n",
       "      <th>mb_per_month_included</th>\n",
       "      <th>minutes_included</th>\n",
       "      <th>rub_monthly_fee</th>\n",
       "      <th>rub_per_gb</th>\n",
       "      <th>rub_per_message</th>\n",
       "      <th>rub_per_minute</th>\n",
       "    </tr>\n",
       "  </thead>\n",
       "  <tbody>\n",
       "    <tr>\n",
       "      <th>985</th>\n",
       "      <td>1128</td>\n",
       "      <td>NaN</td>\n",
       "      <td>NaN</td>\n",
       "      <td>NaN</td>\n",
       "      <td>NaN</td>\n",
       "      <td>NaN</td>\n",
       "      <td>NaN</td>\n",
       "      <td>51</td>\n",
       "      <td>2018-12-23</td>\n",
       "      <td>Волжский</td>\n",
       "      <td>Ксения</td>\n",
       "      <td>Агаева</td>\n",
       "      <td>2018-12-15</td>\n",
       "      <td>ultra</td>\n",
       "      <td>1000</td>\n",
       "      <td>30720</td>\n",
       "      <td>3000</td>\n",
       "      <td>1950</td>\n",
       "      <td>150</td>\n",
       "      <td>1</td>\n",
       "      <td>1</td>\n",
       "    </tr>\n",
       "    <tr>\n",
       "      <th>3215</th>\n",
       "      <td>1371</td>\n",
       "      <td>NaN</td>\n",
       "      <td>NaN</td>\n",
       "      <td>NaN</td>\n",
       "      <td>NaN</td>\n",
       "      <td>NaN</td>\n",
       "      <td>NaN</td>\n",
       "      <td>50</td>\n",
       "      <td>2018-12-30</td>\n",
       "      <td>Омск</td>\n",
       "      <td>Ириней</td>\n",
       "      <td>Трофимов</td>\n",
       "      <td>2018-12-25</td>\n",
       "      <td>smart</td>\n",
       "      <td>50</td>\n",
       "      <td>15360</td>\n",
       "      <td>500</td>\n",
       "      <td>550</td>\n",
       "      <td>200</td>\n",
       "      <td>3</td>\n",
       "      <td>3</td>\n",
       "    </tr>\n",
       "  </tbody>\n",
       "</table>\n",
       "</div>"
      ],
      "text/plain": [
       "      user_id  month  calls_count  calls_duration  messages_count  \\\n",
       "985      1128    NaN          NaN             NaN             NaN   \n",
       "3215     1371    NaN          NaN             NaN             NaN   \n",
       "\n",
       "      session_count  session_mb  age churn_date      city first_name  \\\n",
       "985             NaN         NaN   51 2018-12-23  Волжский     Ксения   \n",
       "3215            NaN         NaN   50 2018-12-30      Омск     Ириней   \n",
       "\n",
       "     last_name   reg_date tariff  messages_included  mb_per_month_included  \\\n",
       "985     Агаева 2018-12-15  ultra               1000                  30720   \n",
       "3215  Трофимов 2018-12-25  smart                 50                  15360   \n",
       "\n",
       "      minutes_included  rub_monthly_fee  rub_per_gb  rub_per_message  \\\n",
       "985               3000             1950         150                1   \n",
       "3215               500              550         200                3   \n",
       "\n",
       "      rub_per_minute  \n",
       "985                1  \n",
       "3215               3  "
      ]
     },
     "metadata": {},
     "output_type": "display_data"
    }
   ],
   "source": [
    "display(df[df['month'].isna()])"
   ]
  },
  {
   "cell_type": "markdown",
   "metadata": {},
   "source": [
    "Как мы видим, данные пользователи не пользовались услугами связи (нет смс, звонков, интернет-траффика) и договор был расторгнут в том же месяце, в котором заключен.\n",
    "Но за месяц абонентскую плату пользователи в любом случае заплатили, поэтому удалять данные строки мы не будем.\n",
    "Заполним значение месяц из даты регистрации договора."
   ]
  },
  {
   "cell_type": "code",
   "execution_count": 23,
   "metadata": {},
   "outputs": [
    {
     "name": "stdout",
     "output_type": "stream",
     "text": [
      "<class 'pandas.core.frame.DataFrame'>\n",
      "Int64Index: 3216 entries, 0 to 3215\n",
      "Data columns (total 21 columns):\n",
      " #   Column                 Non-Null Count  Dtype         \n",
      "---  ------                 --------------  -----         \n",
      " 0   user_id                3216 non-null   int64         \n",
      " 1   month                  3216 non-null   float64       \n",
      " 2   calls_count            3174 non-null   float64       \n",
      " 3   calls_duration         3174 non-null   float64       \n",
      " 4   messages_count         2717 non-null   float64       \n",
      " 5   session_count          3203 non-null   float64       \n",
      " 6   session_mb             3203 non-null   float64       \n",
      " 7   age                    3216 non-null   int64         \n",
      " 8   churn_date             189 non-null    datetime64[ns]\n",
      " 9   city                   3216 non-null   object        \n",
      " 10  first_name             3216 non-null   object        \n",
      " 11  last_name              3216 non-null   object        \n",
      " 12  reg_date               3216 non-null   datetime64[ns]\n",
      " 13  tariff                 3216 non-null   object        \n",
      " 14  messages_included      3216 non-null   int64         \n",
      " 15  mb_per_month_included  3216 non-null   int64         \n",
      " 16  minutes_included       3216 non-null   int64         \n",
      " 17  rub_monthly_fee        3216 non-null   int64         \n",
      " 18  rub_per_gb             3216 non-null   int64         \n",
      " 19  rub_per_message        3216 non-null   int64         \n",
      " 20  rub_per_minute         3216 non-null   int64         \n",
      "dtypes: datetime64[ns](2), float64(6), int64(9), object(4)\n",
      "memory usage: 552.8+ KB\n"
     ]
    }
   ],
   "source": [
    "df['month'] = df['month'].fillna(df['reg_date'].dt.month)\n",
    "df.info()"
   ]
  },
  {
   "cell_type": "markdown",
   "metadata": {},
   "source": [
    "**У нас остались пропуски в колонках:**  \n",
    "calls_count              3174 non-null float64  \n",
    "calls_duration           3174 non-null float64  \n",
    "messages_count           2717 non-null float64  \n",
    "session_count            3203 non-null float64  \n",
    "session_mb               3203 non-null float64  \n",
    "churn_date               189 non-null datetime64  "
   ]
  },
  {
   "cell_type": "markdown",
   "metadata": {},
   "source": [
    "churn_date оставляем как есть  \n",
    "Остальные пропуски заполняем нулями (т.к. они означают что в каком то месяце какой-то из видов услуг пользователю не оказывался). И преобразуем колонки (кроме session_mb к типу int64). Тип колонок сбился из-за наличия пропусков (колонки типа int не могут содержать пропуски)"
   ]
  },
  {
   "cell_type": "code",
   "execution_count": 24,
   "metadata": {},
   "outputs": [],
   "source": [
    "df['calls_count'] = df['calls_count'].fillna(0)\n",
    "df['calls_duration'] = df['calls_duration'].fillna(0)\n",
    "df['messages_count'] = df['messages_count'].fillna(0)\n",
    "df['session_count'] = df['session_count'].fillna(0)\n",
    "df['session_mb'] = df['session_mb'].fillna(0)\n",
    "\n",
    "df['month'] = df['month'].astype('int64')\n",
    "df['calls_count'] = df['calls_count'].astype('int64')\n",
    "df['calls_duration'] = df['calls_duration'].astype('int64')\n",
    "df['messages_count'] = df['messages_count'].astype('int64')\n",
    "df['session_count'] = df['session_count'].astype('int64')"
   ]
  },
  {
   "cell_type": "code",
   "execution_count": 25,
   "metadata": {},
   "outputs": [
    {
     "name": "stdout",
     "output_type": "stream",
     "text": [
      "<class 'pandas.core.frame.DataFrame'>\n",
      "Int64Index: 3216 entries, 0 to 3215\n",
      "Data columns (total 21 columns):\n",
      " #   Column                 Non-Null Count  Dtype         \n",
      "---  ------                 --------------  -----         \n",
      " 0   user_id                3216 non-null   int64         \n",
      " 1   month                  3216 non-null   int64         \n",
      " 2   calls_count            3216 non-null   int64         \n",
      " 3   calls_duration         3216 non-null   int64         \n",
      " 4   messages_count         3216 non-null   int64         \n",
      " 5   session_count          3216 non-null   int64         \n",
      " 6   session_mb             3216 non-null   float64       \n",
      " 7   age                    3216 non-null   int64         \n",
      " 8   churn_date             189 non-null    datetime64[ns]\n",
      " 9   city                   3216 non-null   object        \n",
      " 10  first_name             3216 non-null   object        \n",
      " 11  last_name              3216 non-null   object        \n",
      " 12  reg_date               3216 non-null   datetime64[ns]\n",
      " 13  tariff                 3216 non-null   object        \n",
      " 14  messages_included      3216 non-null   int64         \n",
      " 15  mb_per_month_included  3216 non-null   int64         \n",
      " 16  minutes_included       3216 non-null   int64         \n",
      " 17  rub_monthly_fee        3216 non-null   int64         \n",
      " 18  rub_per_gb             3216 non-null   int64         \n",
      " 19  rub_per_message        3216 non-null   int64         \n",
      " 20  rub_per_minute         3216 non-null   int64         \n",
      "dtypes: datetime64[ns](2), float64(1), int64(14), object(4)\n",
      "memory usage: 552.8+ KB\n"
     ]
    },
    {
     "data": {
      "text/html": [
       "<div>\n",
       "<style scoped>\n",
       "    .dataframe tbody tr th:only-of-type {\n",
       "        vertical-align: middle;\n",
       "    }\n",
       "\n",
       "    .dataframe tbody tr th {\n",
       "        vertical-align: top;\n",
       "    }\n",
       "\n",
       "    .dataframe thead th {\n",
       "        text-align: right;\n",
       "    }\n",
       "</style>\n",
       "<table border=\"1\" class=\"dataframe\">\n",
       "  <thead>\n",
       "    <tr style=\"text-align: right;\">\n",
       "      <th></th>\n",
       "      <th>user_id</th>\n",
       "      <th>month</th>\n",
       "      <th>calls_count</th>\n",
       "      <th>calls_duration</th>\n",
       "      <th>messages_count</th>\n",
       "      <th>session_count</th>\n",
       "      <th>session_mb</th>\n",
       "      <th>age</th>\n",
       "      <th>churn_date</th>\n",
       "      <th>city</th>\n",
       "      <th>first_name</th>\n",
       "      <th>last_name</th>\n",
       "      <th>reg_date</th>\n",
       "      <th>tariff</th>\n",
       "      <th>messages_included</th>\n",
       "      <th>mb_per_month_included</th>\n",
       "      <th>minutes_included</th>\n",
       "      <th>rub_monthly_fee</th>\n",
       "      <th>rub_per_gb</th>\n",
       "      <th>rub_per_message</th>\n",
       "      <th>rub_per_minute</th>\n",
       "    </tr>\n",
       "  </thead>\n",
       "  <tbody>\n",
       "    <tr>\n",
       "      <th>0</th>\n",
       "      <td>1000</td>\n",
       "      <td>5</td>\n",
       "      <td>22</td>\n",
       "      <td>159</td>\n",
       "      <td>22</td>\n",
       "      <td>5</td>\n",
       "      <td>2253.49</td>\n",
       "      <td>52</td>\n",
       "      <td>NaT</td>\n",
       "      <td>Краснодар</td>\n",
       "      <td>Рафаил</td>\n",
       "      <td>Верещагин</td>\n",
       "      <td>2018-05-25</td>\n",
       "      <td>ultra</td>\n",
       "      <td>1000</td>\n",
       "      <td>30720</td>\n",
       "      <td>3000</td>\n",
       "      <td>1950</td>\n",
       "      <td>150</td>\n",
       "      <td>1</td>\n",
       "      <td>1</td>\n",
       "    </tr>\n",
       "    <tr>\n",
       "      <th>1</th>\n",
       "      <td>1000</td>\n",
       "      <td>6</td>\n",
       "      <td>43</td>\n",
       "      <td>172</td>\n",
       "      <td>60</td>\n",
       "      <td>49</td>\n",
       "      <td>23233.77</td>\n",
       "      <td>52</td>\n",
       "      <td>NaT</td>\n",
       "      <td>Краснодар</td>\n",
       "      <td>Рафаил</td>\n",
       "      <td>Верещагин</td>\n",
       "      <td>2018-05-25</td>\n",
       "      <td>ultra</td>\n",
       "      <td>1000</td>\n",
       "      <td>30720</td>\n",
       "      <td>3000</td>\n",
       "      <td>1950</td>\n",
       "      <td>150</td>\n",
       "      <td>1</td>\n",
       "      <td>1</td>\n",
       "    </tr>\n",
       "    <tr>\n",
       "      <th>2</th>\n",
       "      <td>1000</td>\n",
       "      <td>7</td>\n",
       "      <td>47</td>\n",
       "      <td>340</td>\n",
       "      <td>75</td>\n",
       "      <td>29</td>\n",
       "      <td>14003.64</td>\n",
       "      <td>52</td>\n",
       "      <td>NaT</td>\n",
       "      <td>Краснодар</td>\n",
       "      <td>Рафаил</td>\n",
       "      <td>Верещагин</td>\n",
       "      <td>2018-05-25</td>\n",
       "      <td>ultra</td>\n",
       "      <td>1000</td>\n",
       "      <td>30720</td>\n",
       "      <td>3000</td>\n",
       "      <td>1950</td>\n",
       "      <td>150</td>\n",
       "      <td>1</td>\n",
       "      <td>1</td>\n",
       "    </tr>\n",
       "    <tr>\n",
       "      <th>3</th>\n",
       "      <td>1000</td>\n",
       "      <td>8</td>\n",
       "      <td>52</td>\n",
       "      <td>408</td>\n",
       "      <td>81</td>\n",
       "      <td>29</td>\n",
       "      <td>14055.93</td>\n",
       "      <td>52</td>\n",
       "      <td>NaT</td>\n",
       "      <td>Краснодар</td>\n",
       "      <td>Рафаил</td>\n",
       "      <td>Верещагин</td>\n",
       "      <td>2018-05-25</td>\n",
       "      <td>ultra</td>\n",
       "      <td>1000</td>\n",
       "      <td>30720</td>\n",
       "      <td>3000</td>\n",
       "      <td>1950</td>\n",
       "      <td>150</td>\n",
       "      <td>1</td>\n",
       "      <td>1</td>\n",
       "    </tr>\n",
       "    <tr>\n",
       "      <th>4</th>\n",
       "      <td>1000</td>\n",
       "      <td>9</td>\n",
       "      <td>58</td>\n",
       "      <td>466</td>\n",
       "      <td>57</td>\n",
       "      <td>27</td>\n",
       "      <td>14568.91</td>\n",
       "      <td>52</td>\n",
       "      <td>NaT</td>\n",
       "      <td>Краснодар</td>\n",
       "      <td>Рафаил</td>\n",
       "      <td>Верещагин</td>\n",
       "      <td>2018-05-25</td>\n",
       "      <td>ultra</td>\n",
       "      <td>1000</td>\n",
       "      <td>30720</td>\n",
       "      <td>3000</td>\n",
       "      <td>1950</td>\n",
       "      <td>150</td>\n",
       "      <td>1</td>\n",
       "      <td>1</td>\n",
       "    </tr>\n",
       "  </tbody>\n",
       "</table>\n",
       "</div>"
      ],
      "text/plain": [
       "   user_id  month  calls_count  calls_duration  messages_count  session_count  \\\n",
       "0     1000      5           22             159              22              5   \n",
       "1     1000      6           43             172              60             49   \n",
       "2     1000      7           47             340              75             29   \n",
       "3     1000      8           52             408              81             29   \n",
       "4     1000      9           58             466              57             27   \n",
       "\n",
       "   session_mb  age churn_date       city first_name  last_name   reg_date  \\\n",
       "0     2253.49   52        NaT  Краснодар     Рафаил  Верещагин 2018-05-25   \n",
       "1    23233.77   52        NaT  Краснодар     Рафаил  Верещагин 2018-05-25   \n",
       "2    14003.64   52        NaT  Краснодар     Рафаил  Верещагин 2018-05-25   \n",
       "3    14055.93   52        NaT  Краснодар     Рафаил  Верещагин 2018-05-25   \n",
       "4    14568.91   52        NaT  Краснодар     Рафаил  Верещагин 2018-05-25   \n",
       "\n",
       "  tariff  messages_included  mb_per_month_included  minutes_included  \\\n",
       "0  ultra               1000                  30720              3000   \n",
       "1  ultra               1000                  30720              3000   \n",
       "2  ultra               1000                  30720              3000   \n",
       "3  ultra               1000                  30720              3000   \n",
       "4  ultra               1000                  30720              3000   \n",
       "\n",
       "   rub_monthly_fee  rub_per_gb  rub_per_message  rub_per_minute  \n",
       "0             1950         150                1               1  \n",
       "1             1950         150                1               1  \n",
       "2             1950         150                1               1  \n",
       "3             1950         150                1               1  \n",
       "4             1950         150                1               1  "
      ]
     },
     "execution_count": 25,
     "metadata": {},
     "output_type": "execute_result"
    }
   ],
   "source": [
    "df.info()\n",
    "df.head()"
   ]
  },
  {
   "cell_type": "markdown",
   "metadata": {},
   "source": [
    "В данном разделе нам осталось добавить в сводную таблицу информацию по выручке с каждого пользователя. расчет выручки оформим в виде отдельной функции, которую вызовем для каждой строки сводной таблицы"
   ]
  },
  {
   "cell_type": "code",
   "execution_count": 26,
   "metadata": {},
   "outputs": [],
   "source": [
    "def proceeds_calc(row): \n",
    "    calls_duration = row['calls_duration'] \n",
    "    messages_count = row['messages_count'] \n",
    "    session_mb = row['session_mb'] \n",
    "    minutes_included = row['minutes_included'] \n",
    "    messages_included = row['messages_included'] \n",
    "    mb_per_month_included = row['mb_per_month_included'] \n",
    "    rub_per_minute = row['rub_per_minute'] \n",
    "    rub_per_message = row['rub_per_message'] \n",
    "    rub_per_gb = row['rub_per_gb'] \n",
    "    proceeds = row['rub_monthly_fee'] \n",
    "    \n",
    "    if calls_duration > minutes_included: \n",
    "        proceeds += (calls_duration - minutes_included) * rub_per_minute \n",
    "    \n",
    "    if messages_count > messages_included: \n",
    "        proceeds += (messages_count - messages_included) * rub_per_message \n",
    "        \n",
    "    if session_mb > mb_per_month_included: \n",
    "        #переводим разницу в гигабайты и округляем в большую сторону по условию тарифа\n",
    "        proceeds += np.ceil((session_mb - mb_per_month_included) / 1024) * rub_per_gb \n",
    " \n",
    "    return round(proceeds,2) "
   ]
  },
  {
   "cell_type": "code",
   "execution_count": 27,
   "metadata": {},
   "outputs": [
    {
     "data": {
      "text/html": [
       "<div>\n",
       "<style scoped>\n",
       "    .dataframe tbody tr th:only-of-type {\n",
       "        vertical-align: middle;\n",
       "    }\n",
       "\n",
       "    .dataframe tbody tr th {\n",
       "        vertical-align: top;\n",
       "    }\n",
       "\n",
       "    .dataframe thead th {\n",
       "        text-align: right;\n",
       "    }\n",
       "</style>\n",
       "<table border=\"1\" class=\"dataframe\">\n",
       "  <thead>\n",
       "    <tr style=\"text-align: right;\">\n",
       "      <th></th>\n",
       "      <th>user_id</th>\n",
       "      <th>month</th>\n",
       "      <th>calls_count</th>\n",
       "      <th>calls_duration</th>\n",
       "      <th>messages_count</th>\n",
       "      <th>session_count</th>\n",
       "      <th>session_mb</th>\n",
       "      <th>age</th>\n",
       "      <th>churn_date</th>\n",
       "      <th>city</th>\n",
       "      <th>first_name</th>\n",
       "      <th>last_name</th>\n",
       "      <th>reg_date</th>\n",
       "      <th>tariff</th>\n",
       "      <th>messages_included</th>\n",
       "      <th>mb_per_month_included</th>\n",
       "      <th>minutes_included</th>\n",
       "      <th>rub_monthly_fee</th>\n",
       "      <th>rub_per_gb</th>\n",
       "      <th>rub_per_message</th>\n",
       "      <th>rub_per_minute</th>\n",
       "      <th>proceeds</th>\n",
       "    </tr>\n",
       "  </thead>\n",
       "  <tbody>\n",
       "    <tr>\n",
       "      <th>0</th>\n",
       "      <td>1000</td>\n",
       "      <td>5</td>\n",
       "      <td>22</td>\n",
       "      <td>159</td>\n",
       "      <td>22</td>\n",
       "      <td>5</td>\n",
       "      <td>2253.49</td>\n",
       "      <td>52</td>\n",
       "      <td>NaT</td>\n",
       "      <td>Краснодар</td>\n",
       "      <td>Рафаил</td>\n",
       "      <td>Верещагин</td>\n",
       "      <td>2018-05-25</td>\n",
       "      <td>ultra</td>\n",
       "      <td>1000</td>\n",
       "      <td>30720</td>\n",
       "      <td>3000</td>\n",
       "      <td>1950</td>\n",
       "      <td>150</td>\n",
       "      <td>1</td>\n",
       "      <td>1</td>\n",
       "      <td>1950.0</td>\n",
       "    </tr>\n",
       "    <tr>\n",
       "      <th>1</th>\n",
       "      <td>1000</td>\n",
       "      <td>6</td>\n",
       "      <td>43</td>\n",
       "      <td>172</td>\n",
       "      <td>60</td>\n",
       "      <td>49</td>\n",
       "      <td>23233.77</td>\n",
       "      <td>52</td>\n",
       "      <td>NaT</td>\n",
       "      <td>Краснодар</td>\n",
       "      <td>Рафаил</td>\n",
       "      <td>Верещагин</td>\n",
       "      <td>2018-05-25</td>\n",
       "      <td>ultra</td>\n",
       "      <td>1000</td>\n",
       "      <td>30720</td>\n",
       "      <td>3000</td>\n",
       "      <td>1950</td>\n",
       "      <td>150</td>\n",
       "      <td>1</td>\n",
       "      <td>1</td>\n",
       "      <td>1950.0</td>\n",
       "    </tr>\n",
       "    <tr>\n",
       "      <th>2</th>\n",
       "      <td>1000</td>\n",
       "      <td>7</td>\n",
       "      <td>47</td>\n",
       "      <td>340</td>\n",
       "      <td>75</td>\n",
       "      <td>29</td>\n",
       "      <td>14003.64</td>\n",
       "      <td>52</td>\n",
       "      <td>NaT</td>\n",
       "      <td>Краснодар</td>\n",
       "      <td>Рафаил</td>\n",
       "      <td>Верещагин</td>\n",
       "      <td>2018-05-25</td>\n",
       "      <td>ultra</td>\n",
       "      <td>1000</td>\n",
       "      <td>30720</td>\n",
       "      <td>3000</td>\n",
       "      <td>1950</td>\n",
       "      <td>150</td>\n",
       "      <td>1</td>\n",
       "      <td>1</td>\n",
       "      <td>1950.0</td>\n",
       "    </tr>\n",
       "    <tr>\n",
       "      <th>3</th>\n",
       "      <td>1000</td>\n",
       "      <td>8</td>\n",
       "      <td>52</td>\n",
       "      <td>408</td>\n",
       "      <td>81</td>\n",
       "      <td>29</td>\n",
       "      <td>14055.93</td>\n",
       "      <td>52</td>\n",
       "      <td>NaT</td>\n",
       "      <td>Краснодар</td>\n",
       "      <td>Рафаил</td>\n",
       "      <td>Верещагин</td>\n",
       "      <td>2018-05-25</td>\n",
       "      <td>ultra</td>\n",
       "      <td>1000</td>\n",
       "      <td>30720</td>\n",
       "      <td>3000</td>\n",
       "      <td>1950</td>\n",
       "      <td>150</td>\n",
       "      <td>1</td>\n",
       "      <td>1</td>\n",
       "      <td>1950.0</td>\n",
       "    </tr>\n",
       "    <tr>\n",
       "      <th>4</th>\n",
       "      <td>1000</td>\n",
       "      <td>9</td>\n",
       "      <td>58</td>\n",
       "      <td>466</td>\n",
       "      <td>57</td>\n",
       "      <td>27</td>\n",
       "      <td>14568.91</td>\n",
       "      <td>52</td>\n",
       "      <td>NaT</td>\n",
       "      <td>Краснодар</td>\n",
       "      <td>Рафаил</td>\n",
       "      <td>Верещагин</td>\n",
       "      <td>2018-05-25</td>\n",
       "      <td>ultra</td>\n",
       "      <td>1000</td>\n",
       "      <td>30720</td>\n",
       "      <td>3000</td>\n",
       "      <td>1950</td>\n",
       "      <td>150</td>\n",
       "      <td>1</td>\n",
       "      <td>1</td>\n",
       "      <td>1950.0</td>\n",
       "    </tr>\n",
       "  </tbody>\n",
       "</table>\n",
       "</div>"
      ],
      "text/plain": [
       "   user_id  month  calls_count  calls_duration  messages_count  session_count  \\\n",
       "0     1000      5           22             159              22              5   \n",
       "1     1000      6           43             172              60             49   \n",
       "2     1000      7           47             340              75             29   \n",
       "3     1000      8           52             408              81             29   \n",
       "4     1000      9           58             466              57             27   \n",
       "\n",
       "   session_mb  age churn_date       city first_name  last_name   reg_date  \\\n",
       "0     2253.49   52        NaT  Краснодар     Рафаил  Верещагин 2018-05-25   \n",
       "1    23233.77   52        NaT  Краснодар     Рафаил  Верещагин 2018-05-25   \n",
       "2    14003.64   52        NaT  Краснодар     Рафаил  Верещагин 2018-05-25   \n",
       "3    14055.93   52        NaT  Краснодар     Рафаил  Верещагин 2018-05-25   \n",
       "4    14568.91   52        NaT  Краснодар     Рафаил  Верещагин 2018-05-25   \n",
       "\n",
       "  tariff  messages_included  mb_per_month_included  minutes_included  \\\n",
       "0  ultra               1000                  30720              3000   \n",
       "1  ultra               1000                  30720              3000   \n",
       "2  ultra               1000                  30720              3000   \n",
       "3  ultra               1000                  30720              3000   \n",
       "4  ultra               1000                  30720              3000   \n",
       "\n",
       "   rub_monthly_fee  rub_per_gb  rub_per_message  rub_per_minute  proceeds  \n",
       "0             1950         150                1               1    1950.0  \n",
       "1             1950         150                1               1    1950.0  \n",
       "2             1950         150                1               1    1950.0  \n",
       "3             1950         150                1               1    1950.0  \n",
       "4             1950         150                1               1    1950.0  "
      ]
     },
     "execution_count": 27,
     "metadata": {},
     "output_type": "execute_result"
    }
   ],
   "source": [
    "#расчет выручки, не забываем указать axis=1 - передача всей строки\n",
    "df['proceeds'] = df.apply(proceeds_calc, axis=1)\n",
    "\n",
    "df.head()"
   ]
  },
  {
   "cell_type": "markdown",
   "metadata": {},
   "source": [
    "### Выводы"
   ]
  },
  {
   "cell_type": "markdown",
   "metadata": {},
   "source": [
    "- проведена подготовка данных  \n",
    "- приведены в соответствие типы колонок  \n",
    "- удалены ненужные столбцы  \n",
    "- сформирована общая таблица со сводными данными по услугам по месяцам  \n",
    "- данные готовы для дальнейшего анализа"
   ]
  },
  {
   "cell_type": "markdown",
   "metadata": {},
   "source": [
    "## Анализ данных"
   ]
  },
  {
   "cell_type": "markdown",
   "metadata": {},
   "source": [
    "Опишем поведение клиентов оператора, исходя из выборки. Сколько минут разговора, сколько сообщений и какой объём интернет-трафика требуется пользователям каждого тарифа в месяц? Посчитаем среднее количество, дисперсию и стандартное отклонение. Построем гистограммы. Опишем распределения."
   ]
  },
  {
   "cell_type": "markdown",
   "metadata": {},
   "source": [
    "Для удобства анализа и сравнения тарифов, подготовим срезы из общего датасета для каждого тарифа"
   ]
  },
  {
   "cell_type": "code",
   "execution_count": 28,
   "metadata": {},
   "outputs": [],
   "source": [
    "df_ultra = df[df['tariff']=='ultra']\n",
    "df_smart = df[df['tariff']=='smart']"
   ]
  },
  {
   "cell_type": "markdown",
   "metadata": {},
   "source": [
    "Подготовим pivot_table для построения графиков"
   ]
  },
  {
   "cell_type": "code",
   "execution_count": 29,
   "metadata": {},
   "outputs": [],
   "source": [
    "pvt_ultra = df_ultra.pivot_table(index='month', values=['calls_duration','messages_count','session_mb'], aggfunc=['mean'])\n",
    "pvt_ultra.columns=['calls_duration_mean','messages_count_mean', 'session_mb_mean']\n",
    "pvt_smart = df_smart.pivot_table(index='month', values=['calls_duration','messages_count','session_mb'], aggfunc=['mean'])\n",
    "pvt_smart.columns=['calls_duration_mean','messages_count_mean', 'session_mb_mean']\n",
    "\n"
   ]
  },
  {
   "cell_type": "markdown",
   "metadata": {},
   "source": [
    "Определим вспомогательную функцию для построения графиков среднего значения по услугам за месяц"
   ]
  },
  {
   "cell_type": "code",
   "execution_count": 30,
   "metadata": {},
   "outputs": [],
   "source": [
    "def bar_show(pvt_ultra, pvt_smart, col):\n",
    "    ax = pvt_ultra.plot(kind='bar', y=col, color = 'red', alpha = 0.5, figsize=(8,6))\n",
    "    pvt_smart.plot(kind='bar', y=col, color='green', ax=ax, alpha = 0.5)\n",
    "    ax.legend(['ULTRA '+col,'SMART '+col])\n",
    "    \n",
    "def hist_show(df_ultra, df_smart, col, bins=30):\n",
    "    ax = df_ultra.plot(kind='hist', histtype = 'step', y=col, color = 'red', alpha = 0.5, bins = bins, figsize=(8,6), linewidth = 2)\n",
    "    df_smart.plot(kind='hist', histtype = 'step', y=col, color='green', ax=ax, alpha = 0.5, bins = bins, linewidth = 2)\n",
    "    ax.legend(['ULTRA '+col,'SMART '+col])"
   ]
  },
  {
   "cell_type": "markdown",
   "metadata": {},
   "source": [
    "Построим требуемые графики и выведем описательные статистики по параметрам"
   ]
  },
  {
   "cell_type": "code",
   "execution_count": 31,
   "metadata": {
    "scrolled": false
   },
   "outputs": [
    {
     "data": {
      "text/html": [
       "<div>\n",
       "<style scoped>\n",
       "    .dataframe tbody tr th:only-of-type {\n",
       "        vertical-align: middle;\n",
       "    }\n",
       "\n",
       "    .dataframe tbody tr th {\n",
       "        vertical-align: top;\n",
       "    }\n",
       "\n",
       "    .dataframe thead tr th {\n",
       "        text-align: left;\n",
       "    }\n",
       "\n",
       "    .dataframe thead tr:last-of-type th {\n",
       "        text-align: right;\n",
       "    }\n",
       "</style>\n",
       "<table border=\"1\" class=\"dataframe\">\n",
       "  <thead>\n",
       "    <tr>\n",
       "      <th></th>\n",
       "      <th colspan=\"3\" halign=\"left\">min</th>\n",
       "      <th colspan=\"3\" halign=\"left\">max</th>\n",
       "      <th colspan=\"3\" halign=\"left\">mean</th>\n",
       "      <th colspan=\"3\" halign=\"left\">median</th>\n",
       "      <th colspan=\"3\" halign=\"left\">std</th>\n",
       "      <th colspan=\"3\" halign=\"left\">var</th>\n",
       "    </tr>\n",
       "    <tr>\n",
       "      <th></th>\n",
       "      <th>calls_duration</th>\n",
       "      <th>messages_count</th>\n",
       "      <th>session_mb</th>\n",
       "      <th>calls_duration</th>\n",
       "      <th>messages_count</th>\n",
       "      <th>session_mb</th>\n",
       "      <th>calls_duration</th>\n",
       "      <th>messages_count</th>\n",
       "      <th>session_mb</th>\n",
       "      <th>calls_duration</th>\n",
       "      <th>messages_count</th>\n",
       "      <th>session_mb</th>\n",
       "      <th>calls_duration</th>\n",
       "      <th>messages_count</th>\n",
       "      <th>session_mb</th>\n",
       "      <th>calls_duration</th>\n",
       "      <th>messages_count</th>\n",
       "      <th>session_mb</th>\n",
       "    </tr>\n",
       "    <tr>\n",
       "      <th>tariff</th>\n",
       "      <th></th>\n",
       "      <th></th>\n",
       "      <th></th>\n",
       "      <th></th>\n",
       "      <th></th>\n",
       "      <th></th>\n",
       "      <th></th>\n",
       "      <th></th>\n",
       "      <th></th>\n",
       "      <th></th>\n",
       "      <th></th>\n",
       "      <th></th>\n",
       "      <th></th>\n",
       "      <th></th>\n",
       "      <th></th>\n",
       "      <th></th>\n",
       "      <th></th>\n",
       "      <th></th>\n",
       "    </tr>\n",
       "  </thead>\n",
       "  <tbody>\n",
       "    <tr>\n",
       "      <th>smart</th>\n",
       "      <td>0</td>\n",
       "      <td>0</td>\n",
       "      <td>0.0</td>\n",
       "      <td>1435</td>\n",
       "      <td>143</td>\n",
       "      <td>38552.45</td>\n",
       "      <td>417.747534</td>\n",
       "      <td>33.369058</td>\n",
       "      <td>16201.118655</td>\n",
       "      <td>421.5</td>\n",
       "      <td>28</td>\n",
       "      <td>16505.475</td>\n",
       "      <td>190.476754</td>\n",
       "      <td>28.230396</td>\n",
       "      <td>5879.187315</td>\n",
       "      <td>36281.393836</td>\n",
       "      <td>796.955256</td>\n",
       "      <td>3.456484e+07</td>\n",
       "    </tr>\n",
       "    <tr>\n",
       "      <th>ultra</th>\n",
       "      <td>0</td>\n",
       "      <td>0</td>\n",
       "      <td>0.0</td>\n",
       "      <td>1673</td>\n",
       "      <td>224</td>\n",
       "      <td>49745.69</td>\n",
       "      <td>526.089249</td>\n",
       "      <td>49.313387</td>\n",
       "      <td>19449.059970</td>\n",
       "      <td>518.0</td>\n",
       "      <td>38</td>\n",
       "      <td>19304.020</td>\n",
       "      <td>317.887549</td>\n",
       "      <td>47.806040</td>\n",
       "      <td>10101.095459</td>\n",
       "      <td>101052.493549</td>\n",
       "      <td>2285.417425</td>\n",
       "      <td>1.020321e+08</td>\n",
       "    </tr>\n",
       "  </tbody>\n",
       "</table>\n",
       "</div>"
      ],
      "text/plain": [
       "                  min                                      max                 \\\n",
       "       calls_duration messages_count session_mb calls_duration messages_count   \n",
       "tariff                                                                          \n",
       "smart               0              0        0.0           1435            143   \n",
       "ultra               0              0        0.0           1673            224   \n",
       "\n",
       "                            mean                                      median  \\\n",
       "       session_mb calls_duration messages_count    session_mb calls_duration   \n",
       "tariff                                                                         \n",
       "smart    38552.45     417.747534      33.369058  16201.118655          421.5   \n",
       "ultra    49745.69     526.089249      49.313387  19449.059970          518.0   \n",
       "\n",
       "                                            std                               \\\n",
       "       messages_count session_mb calls_duration messages_count    session_mb   \n",
       "tariff                                                                         \n",
       "smart              28  16505.475     190.476754      28.230396   5879.187315   \n",
       "ultra              38  19304.020     317.887549      47.806040  10101.095459   \n",
       "\n",
       "                  var                               \n",
       "       calls_duration messages_count    session_mb  \n",
       "tariff                                              \n",
       "smart    36281.393836     796.955256  3.456484e+07  \n",
       "ultra   101052.493549    2285.417425  1.020321e+08  "
      ]
     },
     "execution_count": 31,
     "metadata": {},
     "output_type": "execute_result"
    },
    {
     "data": {
      "image/png": "[encoded data removed]",
      "text/plain": [
       "<Figure size 576x432 with 1 Axes>"
      ]
     },
     "metadata": {
      "needs_background": "light"
     },
     "output_type": "display_data"
    },
    {
     "data": {
      "image/png": "[encoded data removed]",
      "text/plain": [
       "<Figure size 576x432 with 1 Axes>"
      ]
     },
     "metadata": {
      "needs_background": "light"
     },
     "output_type": "display_data"
    },
    {
     "data": {
      "image/png": "[encoded data removed]",
      "text/plain": [
       "<Figure size 576x432 with 1 Axes>"
      ]
     },
     "metadata": {
      "needs_background": "light"
     },
     "output_type": "display_data"
    },
    {
     "data": {
      "image/png": "[encoded data removed]",
      "text/plain": [
       "<Figure size 576x432 with 1 Axes>"
      ]
     },
     "metadata": {
      "needs_background": "light"
     },
     "output_type": "display_data"
    },
    {
     "data": {
      "image/png": "[encoded data removed]",
      "text/plain": [
       "<Figure size 576x432 with 1 Axes>"
      ]
     },
     "metadata": {
      "needs_background": "light"
     },
     "output_type": "display_data"
    },
    {
     "data": {
      "image/png": "[encoded data removed]",
      "text/plain": [
       "<Figure size 576x432 with 1 Axes>"
      ]
     },
     "metadata": {
      "needs_background": "light"
     },
     "output_type": "display_data"
    }
   ],
   "source": [
    "bar_show(pvt_ultra, pvt_smart, 'calls_duration_mean')\n",
    "hist_show(df_ultra, df_smart, 'calls_duration')\n",
    "bar_show(pvt_ultra, pvt_smart, 'messages_count_mean')\n",
    "hist_show(df_ultra, df_smart, 'messages_count')\n",
    "bar_show(pvt_ultra, pvt_smart, 'session_mb_mean')\n",
    "hist_show(df_ultra, df_smart, 'session_mb')\n",
    "\n",
    "pvt_stats = df.pivot_table(index='tariff', values=['calls_duration','messages_count','session_mb'], aggfunc=['min','max','mean', 'median', 'std', 'var'])\n",
    "pvt_stats"
   ]
  },
  {
   "cell_type": "markdown",
   "metadata": {},
   "source": [
    "### Выводы"
   ]
  },
  {
   "cell_type": "markdown",
   "metadata": {},
   "source": [
    "- Подсчитано для каждого тарифа среднее, дисперсия и стандартное отклонение для минут разговора, количества сообщений и объёма интернет-трафика.  \n",
    "- Построены barplot и hist для всех рассчитанных параметров по тарифам.   \n",
    "- По минутам разговора и объему трафика картина аналогичная: в среднем больше разговаривают и пользуются интернетом абоненты тарифа ultra, данна картина наблюдается во все месяцы кроме февраля. Дисперсия и стандартное отклонение для данного тарифа также выше.\n",
    "- По количеству сообщений: в среднем больше сообщений у абонентов тарифа ultra, данна картина наблюдается во все месяцы кроме февраля, марта и апреля. В данные месяцы количество сообщений по тарифам практически совпадает. Дисперсия и стандартное отклонение для данного тарифа также выше."
   ]
  },
  {
   "cell_type": "markdown",
   "metadata": {},
   "source": [
    "## Проверка гипотез"
   ]
  },
  {
   "cell_type": "markdown",
   "metadata": {},
   "source": [
    "Данные проанализированы в предыдущем разделе, но компании Мегалайн наверняка интересен вопрос сравнения выручки по данным тарифам.\n",
    "Сформулируем и проверим гипотезы."
   ]
  },
  {
   "cell_type": "markdown",
   "metadata": {},
   "source": [
    "### Средняя выручка пользователей тарифов «Ультра» и «Смарт» различаются"
   ]
  },
  {
   "cell_type": "markdown",
   "metadata": {},
   "source": [
    "**H0:** Средняя выручка пользователей тарифа «Ультра» равна средней выручке пользователей тарифа «Смарт»  \n",
    "**H1:** Средняя выручка пользователей тарифа «Ультра» не равна средней выручке пользователей тарифа «Смарт»  \n",
    "**Пороговое значене статистической значимости** alpha = 0.05  \n",
    "Поскольку выборки по тарифам независимые (пользователи тарифов разные) для расчета p-value используем функцию st.ttest_ind  "
   ]
  },
  {
   "cell_type": "markdown",
   "metadata": {},
   "source": [
    "Для начала, построим график средней выручки по месяцам, чтобы лучше ориентироваться в данных"
   ]
  },
  {
   "cell_type": "code",
   "execution_count": 32,
   "metadata": {},
   "outputs": [
    {
     "data": {
      "image/png": "[encoded data removed]",
      "text/plain": [
       "<Figure size 576x432 with 1 Axes>"
      ]
     },
     "metadata": {
      "needs_background": "light"
     },
     "output_type": "display_data"
    },
    {
     "data": {
      "image/png": "[encoded data removed]",
      "text/plain": [
       "<Figure size 576x432 with 1 Axes>"
      ]
     },
     "metadata": {
      "needs_background": "light"
     },
     "output_type": "display_data"
    }
   ],
   "source": [
    "pvt_ultra = df_ultra.pivot_table(index='month', values=['proceeds'], aggfunc=['mean'])\n",
    "pvt_ultra.columns=['proceeds_mean']\n",
    "pvt_smart = df_smart.pivot_table(index='month', values=['proceeds'], aggfunc=['mean'])\n",
    "pvt_smart.columns=['proceeds_mean']\n",
    "bar_show(pvt_ultra, pvt_smart, 'proceeds_mean')\n",
    "hist_show(pvt_ultra, pvt_smart, 'proceeds_mean')"
   ]
  },
  {
   "cell_type": "markdown",
   "metadata": {},
   "source": [
    "Как видно из графика, средняя выручка пользователей тарифа ультра стабильна по месяцам и незначительно превышает абонентскую плату.  \n",
    "Средняя выручка тарифа смарт растет от месяца к месяцу и к концу года значительно превышает абонентскую плату (почти в 3 раза). Таким образом можно предположить, что гипотеза H0 скорее всего будет отвергнута"
   ]
  },
  {
   "cell_type": "code",
   "execution_count": 33,
   "metadata": {},
   "outputs": [
    {
     "name": "stdout",
     "output_type": "stream",
     "text": [
      "p-value: 1.927011394420941e-250\n"
     ]
    }
   ],
   "source": [
    "results = st.ttest_ind(df_smart['proceeds'], df_ultra['proceeds'], equal_var=False)\n",
    "print('p-value:', results.pvalue)"
   ]
  },
  {
   "cell_type": "markdown",
   "metadata": {},
   "source": [
    "p-value около 0, поэтому отвергаем H0, склоняемся к H1: средняя выручка по тарифам различается"
   ]
  },
  {
   "cell_type": "markdown",
   "metadata": {},
   "source": [
    "### Средняя выручка пользователей из Москвы отличается от средней выручки пользователей из других регионов"
   ]
  },
  {
   "cell_type": "markdown",
   "metadata": {},
   "source": [
    "**H0:** Средняя выручка пользователей из Москвы равна средней выручки пользователей из других регионов  \n",
    "**H1:** Средняя выручка пользователей из Москвы не равно средней выручке пользователей из других регионов  \n",
    "**Пороговое значене статистической значимости** alpha = 0.05  \n",
    "Поскольку выборки по разным регионам независимые (пользователи разные) для расчета p-value используем функцию st.ttest_ind  "
   ]
  },
  {
   "cell_type": "code",
   "execution_count": 34,
   "metadata": {},
   "outputs": [
    {
     "name": "stdout",
     "output_type": "stream",
     "text": [
      "p-value: 0.5216952110000278\n"
     ]
    }
   ],
   "source": [
    "results = st.ttest_ind(df[df['city'] == 'Москва']['proceeds'], df[df['city'] != 'Москва']['proceeds'], equal_var=False)\n",
    "print('p-value:', results.pvalue)"
   ]
  },
  {
   "cell_type": "markdown",
   "metadata": {},
   "source": [
    "p-value значительно превышает пороговое значение, поэтому выборки из генеральной совокупности не противоречат гипотезе H0. Соответственно считаем, что Средняя выручка пользователей из Москвы равна средней выручки пользователей из других регионов"
   ]
  },
  {
   "cell_type": "markdown",
   "metadata": {},
   "source": [
    "### Выводы\n",
    "Сформулированы и проверены гипотезы по средней выручке в зависимости от тарифа и региона (Москва и остальные). Получили результат - средняя выручка отличается по тарифам, средняя выручка для Москвы и остальных регионов не отличается"
   ]
  },
  {
   "cell_type": "markdown",
   "metadata": {},
   "source": [
    "## Общий вывод по проекту"
   ]
  },
  {
   "cell_type": "markdown",
   "metadata": {},
   "source": [
    "При выполнении проекта:\n",
    "- загружены данные из csv файлов  \n",
    "- проведена подготовка данных  \n",
    "- приведены в соответствие типы колонок  \n",
    "- удалены ненужные столбцы  \n",
    "- сформирована общая таблица со сводными данными по услугам по месяцам  \n",
    "\n",
    "На этапе анализа данных:\n",
    "- С группировкой по месяцам подсчитано для каждого тарифа среднее, дисперсия и стандартное отклонение для минут разговора, количества сообщений и объёма интернет-трафика.  \n",
    "- Построены barplot и hist для всех рассчитанных параметров по тарифам.   \n",
    "- По минутам разговора и объему трафика картина аналогичная: в среднем больше разговаривают и пользуются интернетом абоненты тарифа ultra, данна картина наблюдается во все месяцы кроме февраля. Дисперсия и стандартное отклонение для данного тарифа также выше.\n",
    "- По количеству сообщений: в среднем больше сообщений у абонентов тарифа ultra, данна картина наблюдается во все месяцы кроме февраля, марта и апреля. В данные месяцы количество сообщений по тарифам практически совпадает. Дисперсия и стандартное отклонение для данного тарифа также выше.\n",
    "\n",
    "Проверены гипотезы относительно средней выручки, получен следующий результат:  \n",
    "- Средняя выручка по тарифам различается, по тарифу ультра среднюю выручка выше  \n",
    "- Средняя выручка пользователей из Москвы не отличается от средней выручки пользователей из других регионов \n",
    "\n",
    "В целом, средняя выручка пользователей тарифа ультра стабильна по месяцам и незначительно превышает абонентскую плату.  \n",
    "Средняя выручка тарифа смарт растет от месяца к месяцу и к концу года значительно превышает абонентскую плату (почти в 3 раза), что связано сем, что пользователи тарифа смарт значительно превышают объем услуг, включенных в абонентскую плату."
   ]
  }
 ],
 "metadata": {
  "ExecuteTimeLog": [
   {
    "duration": 4,
    "start_time": "2022-01-17T04:49:07.934Z"
   },
   {
    "duration": 3,
    "start_time": "2022-01-17T04:49:13.750Z"
   },
   {
    "duration": 3,
    "start_time": "2022-01-17T04:52:53.862Z"
   },
   {
    "duration": 4,
    "start_time": "2022-01-17T05:08:32.078Z"
   },
   {
    "duration": 1504,
    "start_time": "2022-01-17T05:18:53.692Z"
   },
   {
    "duration": 5,
    "start_time": "2022-01-17T05:19:27.125Z"
   },
   {
    "duration": 2422,
    "start_time": "2022-01-17T05:28:22.517Z"
   },
   {
    "duration": 103,
    "start_time": "2022-01-17T05:28:42.145Z"
   },
   {
    "duration": 566,
    "start_time": "2022-01-17T05:28:54.215Z"
   },
   {
    "duration": 5,
    "start_time": "2022-01-17T05:31:27.004Z"
   },
   {
    "duration": 4,
    "start_time": "2022-01-17T05:31:34.398Z"
   },
   {
    "duration": 4,
    "start_time": "2022-01-17T05:32:18.522Z"
   },
   {
    "duration": 454,
    "start_time": "2022-01-17T05:32:18.965Z"
   },
   {
    "duration": 23,
    "start_time": "2022-01-17T05:32:40.183Z"
   },
   {
    "duration": 163,
    "start_time": "2022-01-17T05:32:59.956Z"
   },
   {
    "duration": 83,
    "start_time": "2022-01-17T05:33:03.039Z"
   },
   {
    "duration": 149,
    "start_time": "2022-01-17T05:33:03.494Z"
   },
   {
    "duration": 21,
    "start_time": "2022-01-17T05:33:03.981Z"
   },
   {
    "duration": 49,
    "start_time": "2022-01-17T06:16:21.966Z"
   },
   {
    "duration": 6,
    "start_time": "2022-01-17T06:16:24.695Z"
   },
   {
    "duration": 31,
    "start_time": "2022-01-17T06:20:03.851Z"
   },
   {
    "duration": 1437,
    "start_time": "2022-01-17T06:22:34.147Z"
   },
   {
    "duration": 528,
    "start_time": "2022-01-17T06:22:35.587Z"
   },
   {
    "duration": 4,
    "start_time": "2022-01-17T06:22:36.118Z"
   },
   {
    "duration": 32,
    "start_time": "2022-01-17T06:22:36.124Z"
   },
   {
    "duration": 188,
    "start_time": "2022-01-17T06:22:36.158Z"
   },
   {
    "duration": 91,
    "start_time": "2022-01-17T06:22:36.349Z"
   },
   {
    "duration": 147,
    "start_time": "2022-01-17T06:22:36.442Z"
   },
   {
    "duration": 31,
    "start_time": "2022-01-17T06:22:36.591Z"
   },
   {
    "duration": 114,
    "start_time": "2022-01-17T06:22:36.626Z"
   },
   {
    "duration": 7,
    "start_time": "2022-01-17T06:22:36.743Z"
   },
   {
    "duration": 30,
    "start_time": "2022-01-17T06:22:36.752Z"
   },
   {
    "duration": 41,
    "start_time": "2022-01-17T06:22:36.784Z"
   },
   {
    "duration": 31,
    "start_time": "2022-01-17T06:22:36.827Z"
   },
   {
    "duration": 62,
    "start_time": "2022-01-17T06:22:36.860Z"
   },
   {
    "duration": 38,
    "start_time": "2022-01-17T06:22:36.925Z"
   },
   {
    "duration": 21,
    "start_time": "2022-01-17T06:22:36.966Z"
   },
   {
    "duration": 74,
    "start_time": "2022-01-17T06:38:42.196Z"
   },
   {
    "duration": 70,
    "start_time": "2022-01-17T06:38:53.077Z"
   },
   {
    "duration": 1498,
    "start_time": "2022-01-17T06:39:04.510Z"
   },
   {
    "duration": 547,
    "start_time": "2022-01-17T06:39:06.011Z"
   },
   {
    "duration": 6,
    "start_time": "2022-01-17T06:39:06.561Z"
   },
   {
    "duration": 49,
    "start_time": "2022-01-17T06:39:06.570Z"
   },
   {
    "duration": 175,
    "start_time": "2022-01-17T06:39:06.622Z"
   },
   {
    "duration": 86,
    "start_time": "2022-01-17T06:39:06.800Z"
   },
   {
    "duration": 162,
    "start_time": "2022-01-17T06:39:06.889Z"
   },
   {
    "duration": 19,
    "start_time": "2022-01-17T06:39:07.055Z"
   },
   {
    "duration": 127,
    "start_time": "2022-01-17T06:39:07.077Z"
   },
   {
    "duration": 14,
    "start_time": "2022-01-17T06:39:07.206Z"
   },
   {
    "duration": 29,
    "start_time": "2022-01-17T06:39:07.222Z"
   },
   {
    "duration": 64,
    "start_time": "2022-01-17T06:39:07.253Z"
   },
   {
    "duration": 31,
    "start_time": "2022-01-17T06:39:07.319Z"
   },
   {
    "duration": 21,
    "start_time": "2022-01-17T06:39:07.352Z"
   },
   {
    "duration": 75,
    "start_time": "2022-01-17T06:39:07.375Z"
   },
   {
    "duration": 18,
    "start_time": "2022-01-17T06:39:07.453Z"
   },
   {
    "duration": 98,
    "start_time": "2022-01-17T06:39:07.474Z"
   },
   {
    "duration": 44,
    "start_time": "2022-01-17T06:40:30.310Z"
   },
   {
    "duration": 31,
    "start_time": "2022-01-17T06:40:43.703Z"
   },
   {
    "duration": 30,
    "start_time": "2022-01-17T06:41:15.520Z"
   },
   {
    "duration": 1480,
    "start_time": "2022-01-17T06:41:37.920Z"
   },
   {
    "duration": 549,
    "start_time": "2022-01-17T06:41:39.403Z"
   },
   {
    "duration": 3,
    "start_time": "2022-01-17T06:41:39.955Z"
   },
   {
    "duration": 35,
    "start_time": "2022-01-17T06:41:39.961Z"
   },
   {
    "duration": 186,
    "start_time": "2022-01-17T06:41:39.998Z"
   },
   {
    "duration": 92,
    "start_time": "2022-01-17T06:41:40.186Z"
   },
   {
    "duration": 165,
    "start_time": "2022-01-17T06:41:40.281Z"
   },
   {
    "duration": 21,
    "start_time": "2022-01-17T06:41:40.449Z"
   },
   {
    "duration": 117,
    "start_time": "2022-01-17T06:41:40.473Z"
   },
   {
    "duration": 7,
    "start_time": "2022-01-17T06:41:40.593Z"
   },
   {
    "duration": 40,
    "start_time": "2022-01-17T06:41:40.603Z"
   },
   {
    "duration": 25,
    "start_time": "2022-01-17T06:41:40.645Z"
   },
   {
    "duration": 62,
    "start_time": "2022-01-17T06:41:40.673Z"
   },
   {
    "duration": 20,
    "start_time": "2022-01-17T06:41:40.738Z"
   },
   {
    "duration": 76,
    "start_time": "2022-01-17T06:41:40.761Z"
   },
   {
    "duration": 21,
    "start_time": "2022-01-17T06:41:40.839Z"
   },
   {
    "duration": 94,
    "start_time": "2022-01-17T06:41:40.863Z"
   },
   {
    "duration": 43,
    "start_time": "2022-01-17T06:41:40.960Z"
   },
   {
    "duration": 28,
    "start_time": "2022-01-17T06:43:55.130Z"
   },
   {
    "duration": 23,
    "start_time": "2022-01-17T06:44:14.932Z"
   },
   {
    "duration": 25,
    "start_time": "2022-01-17T06:44:47.659Z"
   },
   {
    "duration": 31,
    "start_time": "2022-01-17T06:45:44.151Z"
   },
   {
    "duration": 26,
    "start_time": "2022-01-17T06:45:45.691Z"
   },
   {
    "duration": 437,
    "start_time": "2022-01-17T06:47:30.493Z"
   },
   {
    "duration": 33,
    "start_time": "2022-01-17T06:47:53.326Z"
   },
   {
    "duration": 36,
    "start_time": "2022-01-17T06:57:30.076Z"
   },
   {
    "duration": 75,
    "start_time": "2022-01-17T06:58:10.273Z"
   },
   {
    "duration": 18,
    "start_time": "2022-01-17T06:58:34.528Z"
   },
   {
    "duration": 21,
    "start_time": "2022-01-17T06:58:58.557Z"
   },
   {
    "duration": 21,
    "start_time": "2022-01-17T06:59:28.431Z"
   },
   {
    "duration": 292,
    "start_time": "2022-01-17T07:00:36.850Z"
   },
   {
    "duration": 328,
    "start_time": "2022-01-17T07:01:03.358Z"
   },
   {
    "duration": 16,
    "start_time": "2022-01-17T07:01:53.407Z"
   },
   {
    "duration": 20,
    "start_time": "2022-01-17T07:02:02.427Z"
   },
   {
    "duration": 29,
    "start_time": "2022-01-17T07:02:44.979Z"
   },
   {
    "duration": 19,
    "start_time": "2022-01-17T07:03:18.068Z"
   },
   {
    "duration": 21,
    "start_time": "2022-01-17T07:03:27.517Z"
   },
   {
    "duration": 55,
    "start_time": "2022-01-17T07:03:51.378Z"
   },
   {
    "duration": 58,
    "start_time": "2022-01-17T07:04:19.596Z"
   },
   {
    "duration": 20,
    "start_time": "2022-01-17T07:04:32.481Z"
   },
   {
    "duration": 36,
    "start_time": "2022-01-17T07:05:38.358Z"
   },
   {
    "duration": 56,
    "start_time": "2022-01-17T07:05:52.253Z"
   },
   {
    "duration": 83,
    "start_time": "2022-01-17T07:06:48.410Z"
   },
   {
    "duration": 322,
    "start_time": "2022-01-17T07:08:41.140Z"
   },
   {
    "duration": 54,
    "start_time": "2022-01-17T07:09:14.664Z"
   },
   {
    "duration": 298,
    "start_time": "2022-01-17T07:13:53.869Z"
   },
   {
    "duration": 1513,
    "start_time": "2022-01-17T07:14:11.788Z"
   },
   {
    "duration": 554,
    "start_time": "2022-01-17T07:14:13.304Z"
   },
   {
    "duration": 4,
    "start_time": "2022-01-17T07:14:13.861Z"
   },
   {
    "duration": 31,
    "start_time": "2022-01-17T07:14:13.867Z"
   },
   {
    "duration": 181,
    "start_time": "2022-01-17T07:14:13.900Z"
   },
   {
    "duration": 94,
    "start_time": "2022-01-17T07:14:14.083Z"
   },
   {
    "duration": 145,
    "start_time": "2022-01-17T07:14:14.179Z"
   },
   {
    "duration": 19,
    "start_time": "2022-01-17T07:14:14.326Z"
   },
   {
    "duration": 127,
    "start_time": "2022-01-17T07:14:14.350Z"
   },
   {
    "duration": 7,
    "start_time": "2022-01-17T07:14:14.480Z"
   },
   {
    "duration": 50,
    "start_time": "2022-01-17T07:14:14.489Z"
   },
   {
    "duration": 26,
    "start_time": "2022-01-17T07:14:14.542Z"
   },
   {
    "duration": 60,
    "start_time": "2022-01-17T07:14:14.570Z"
   },
   {
    "duration": 21,
    "start_time": "2022-01-17T07:14:14.633Z"
   },
   {
    "duration": 72,
    "start_time": "2022-01-17T07:14:14.657Z"
   },
   {
    "duration": 22,
    "start_time": "2022-01-17T07:14:14.731Z"
   },
   {
    "duration": 94,
    "start_time": "2022-01-17T07:14:14.756Z"
   },
   {
    "duration": 45,
    "start_time": "2022-01-17T07:14:14.852Z"
   },
   {
    "duration": 42,
    "start_time": "2022-01-17T07:14:14.899Z"
   },
   {
    "duration": 34,
    "start_time": "2022-01-17T07:14:14.944Z"
   },
   {
    "duration": 85,
    "start_time": "2022-01-17T07:14:14.981Z"
   },
   {
    "duration": 76,
    "start_time": "2022-01-17T07:14:39.794Z"
   },
   {
    "duration": 526,
    "start_time": "2022-01-17T07:17:33.341Z"
   },
   {
    "duration": 443,
    "start_time": "2022-01-17T07:17:41.215Z"
   },
   {
    "duration": 442,
    "start_time": "2022-01-17T07:17:48.361Z"
   },
   {
    "duration": 72,
    "start_time": "2022-01-17T07:18:34.113Z"
   },
   {
    "duration": 126,
    "start_time": "2022-01-17T07:19:15.750Z"
   },
   {
    "duration": 26,
    "start_time": "2022-01-17T07:22:28.775Z"
   },
   {
    "duration": 55,
    "start_time": "2022-01-17T07:22:40.802Z"
   },
   {
    "duration": 414,
    "start_time": "2022-01-17T07:23:50.336Z"
   },
   {
    "duration": 52,
    "start_time": "2022-01-17T07:23:57.335Z"
   },
   {
    "duration": 7658,
    "start_time": "2022-01-17T07:30:30.179Z"
   },
   {
    "duration": 7860,
    "start_time": "2022-01-17T07:30:39.021Z"
   },
   {
    "duration": 36,
    "start_time": "2022-01-17T07:31:30.097Z"
   },
   {
    "duration": 55,
    "start_time": "2022-01-17T07:34:57.700Z"
   },
   {
    "duration": 36,
    "start_time": "2022-01-17T07:35:24.999Z"
   },
   {
    "duration": 56,
    "start_time": "2022-01-17T07:35:35.790Z"
   },
   {
    "duration": 36,
    "start_time": "2022-01-17T07:36:04.634Z"
   },
   {
    "duration": 39,
    "start_time": "2022-01-17T07:36:58.215Z"
   },
   {
    "duration": 29,
    "start_time": "2022-01-17T07:37:14.541Z"
   },
   {
    "duration": 35,
    "start_time": "2022-01-17T07:37:51.767Z"
   },
   {
    "duration": 56,
    "start_time": "2022-01-17T07:38:04.622Z"
   },
   {
    "duration": 72,
    "start_time": "2022-01-17T07:41:45.487Z"
   },
   {
    "duration": 6,
    "start_time": "2022-01-17T07:49:00.950Z"
   },
   {
    "duration": 1521,
    "start_time": "2022-01-17T07:49:11.476Z"
   },
   {
    "duration": 522,
    "start_time": "2022-01-17T07:49:13.000Z"
   },
   {
    "duration": 4,
    "start_time": "2022-01-17T07:49:13.525Z"
   },
   {
    "duration": 29,
    "start_time": "2022-01-17T07:49:13.532Z"
   },
   {
    "duration": 195,
    "start_time": "2022-01-17T07:49:13.563Z"
   },
   {
    "duration": 104,
    "start_time": "2022-01-17T07:49:13.761Z"
   },
   {
    "duration": 172,
    "start_time": "2022-01-17T07:49:13.868Z"
   },
   {
    "duration": 20,
    "start_time": "2022-01-17T07:49:14.043Z"
   },
   {
    "duration": 131,
    "start_time": "2022-01-17T07:49:14.067Z"
   },
   {
    "duration": 22,
    "start_time": "2022-01-17T07:49:14.202Z"
   },
   {
    "duration": 30,
    "start_time": "2022-01-17T07:49:14.226Z"
   },
   {
    "duration": 58,
    "start_time": "2022-01-17T07:49:14.259Z"
   },
   {
    "duration": 31,
    "start_time": "2022-01-17T07:49:14.320Z"
   },
   {
    "duration": 23,
    "start_time": "2022-01-17T07:49:14.353Z"
   },
   {
    "duration": 76,
    "start_time": "2022-01-17T07:49:14.378Z"
   },
   {
    "duration": 21,
    "start_time": "2022-01-17T07:49:14.456Z"
   },
   {
    "duration": 97,
    "start_time": "2022-01-17T07:49:14.480Z"
   },
   {
    "duration": 62,
    "start_time": "2022-01-17T07:49:14.580Z"
   },
   {
    "duration": 23,
    "start_time": "2022-01-17T07:49:14.645Z"
   },
   {
    "duration": 50,
    "start_time": "2022-01-17T07:49:14.670Z"
   },
   {
    "duration": 65,
    "start_time": "2022-01-17T07:49:14.722Z"
   },
   {
    "duration": 24,
    "start_time": "2022-01-17T07:52:42.398Z"
   },
   {
    "duration": 90,
    "start_time": "2022-01-17T07:58:36.397Z"
   },
   {
    "duration": 18,
    "start_time": "2022-01-17T08:00:33.589Z"
   },
   {
    "duration": 13,
    "start_time": "2022-01-17T08:00:45.223Z"
   },
   {
    "duration": 23,
    "start_time": "2022-01-17T08:01:28.615Z"
   },
   {
    "duration": 1500,
    "start_time": "2022-01-17T08:14:33.291Z"
   },
   {
    "duration": 533,
    "start_time": "2022-01-17T08:14:34.794Z"
   },
   {
    "duration": 4,
    "start_time": "2022-01-17T08:14:35.329Z"
   },
   {
    "duration": 38,
    "start_time": "2022-01-17T08:14:35.336Z"
   },
   {
    "duration": 189,
    "start_time": "2022-01-17T08:14:35.376Z"
   },
   {
    "duration": 95,
    "start_time": "2022-01-17T08:14:35.568Z"
   },
   {
    "duration": 155,
    "start_time": "2022-01-17T08:14:35.665Z"
   },
   {
    "duration": 20,
    "start_time": "2022-01-17T08:14:35.823Z"
   },
   {
    "duration": 123,
    "start_time": "2022-01-17T08:14:35.847Z"
   },
   {
    "duration": 7,
    "start_time": "2022-01-17T08:14:35.972Z"
   },
   {
    "duration": 45,
    "start_time": "2022-01-17T08:14:35.981Z"
   },
   {
    "duration": 23,
    "start_time": "2022-01-17T08:14:36.029Z"
   },
   {
    "duration": 34,
    "start_time": "2022-01-17T08:14:36.054Z"
   },
   {
    "duration": 48,
    "start_time": "2022-01-17T08:14:36.090Z"
   },
   {
    "duration": 38,
    "start_time": "2022-01-17T08:14:36.140Z"
   },
   {
    "duration": 52,
    "start_time": "2022-01-17T08:14:36.181Z"
   },
   {
    "duration": 99,
    "start_time": "2022-01-17T08:14:36.236Z"
   },
   {
    "duration": 45,
    "start_time": "2022-01-17T08:14:36.338Z"
   },
   {
    "duration": 51,
    "start_time": "2022-01-17T08:14:36.386Z"
   },
   {
    "duration": 33,
    "start_time": "2022-01-17T08:14:36.441Z"
   },
   {
    "duration": 101,
    "start_time": "2022-01-17T08:14:36.477Z"
   },
   {
    "duration": 37,
    "start_time": "2022-01-17T08:14:36.580Z"
   },
   {
    "duration": 15,
    "start_time": "2022-01-17T08:14:36.621Z"
   },
   {
    "duration": 17,
    "start_time": "2022-01-17T08:14:36.639Z"
   },
   {
    "duration": 73,
    "start_time": "2022-01-17T08:14:36.659Z"
   },
   {
    "duration": 102,
    "start_time": "2022-01-17T08:24:43.434Z"
   },
   {
    "duration": 4102,
    "start_time": "2022-01-17T08:36:17.562Z"
   },
   {
    "duration": 6,
    "start_time": "2022-01-17T08:37:12.477Z"
   },
   {
    "duration": 682,
    "start_time": "2022-01-17T08:38:24.242Z"
   },
   {
    "duration": 7,
    "start_time": "2022-01-17T08:38:56.339Z"
   },
   {
    "duration": 628,
    "start_time": "2022-01-17T08:38:58.282Z"
   },
   {
    "duration": 6,
    "start_time": "2022-01-17T08:39:11.988Z"
   },
   {
    "duration": 796,
    "start_time": "2022-01-17T08:39:12.523Z"
   },
   {
    "duration": 414,
    "start_time": "2022-01-17T08:39:24.356Z"
   },
   {
    "duration": 425,
    "start_time": "2022-01-17T08:39:42.950Z"
   },
   {
    "duration": 471,
    "start_time": "2022-01-17T08:39:56.947Z"
   },
   {
    "duration": 410,
    "start_time": "2022-01-17T08:40:37.894Z"
   },
   {
    "duration": 419,
    "start_time": "2022-01-17T08:52:41.564Z"
   },
   {
    "duration": 456,
    "start_time": "2022-01-17T08:53:07.485Z"
   },
   {
    "duration": 323,
    "start_time": "2022-01-17T08:53:29.351Z"
   },
   {
    "duration": 134,
    "start_time": "2022-01-17T08:53:35.703Z"
   },
   {
    "duration": 321,
    "start_time": "2022-01-17T08:54:34.570Z"
   },
   {
    "duration": 24,
    "start_time": "2022-01-17T08:54:55.104Z"
   },
   {
    "duration": 77,
    "start_time": "2022-01-17T09:01:57.572Z"
   },
   {
    "duration": 9,
    "start_time": "2022-01-17T09:12:50.884Z"
   },
   {
    "duration": 10,
    "start_time": "2022-01-17T09:13:31.133Z"
   },
   {
    "duration": 348,
    "start_time": "2022-01-17T09:19:07.499Z"
   },
   {
    "duration": 691,
    "start_time": "2022-01-17T09:19:47.693Z"
   },
   {
    "duration": 577,
    "start_time": "2022-01-17T09:20:54.916Z"
   },
   {
    "duration": 397,
    "start_time": "2022-01-17T09:21:04.892Z"
   },
   {
    "duration": 281,
    "start_time": "2022-01-17T09:21:21.928Z"
   },
   {
    "duration": 374,
    "start_time": "2022-01-17T09:21:32.700Z"
   },
   {
    "duration": 408,
    "start_time": "2022-01-17T09:21:52.646Z"
   },
   {
    "duration": 379,
    "start_time": "2022-01-17T09:22:09.866Z"
   },
   {
    "duration": 418,
    "start_time": "2022-01-17T09:22:22.022Z"
   },
   {
    "duration": 390,
    "start_time": "2022-01-17T09:23:41.215Z"
   },
   {
    "duration": 558,
    "start_time": "2022-01-17T09:24:02.510Z"
   },
   {
    "duration": 414,
    "start_time": "2022-01-17T09:24:25.716Z"
   },
   {
    "duration": 469,
    "start_time": "2022-01-17T09:25:47.672Z"
   },
   {
    "duration": 519,
    "start_time": "2022-01-17T09:26:01.949Z"
   },
   {
    "duration": 424,
    "start_time": "2022-01-17T09:26:11.299Z"
   },
   {
    "duration": 527,
    "start_time": "2022-01-17T09:26:21.312Z"
   },
   {
    "duration": 508,
    "start_time": "2022-01-17T09:26:34.098Z"
   },
   {
    "duration": 469,
    "start_time": "2022-01-17T09:26:55.882Z"
   },
   {
    "duration": 405,
    "start_time": "2022-01-17T09:27:16.871Z"
   },
   {
    "duration": 780,
    "start_time": "2022-01-17T09:35:58.201Z"
   },
   {
    "duration": 771,
    "start_time": "2022-01-17T09:36:36.263Z"
   },
   {
    "duration": 879,
    "start_time": "2022-01-17T09:41:54.492Z"
   },
   {
    "duration": 789,
    "start_time": "2022-01-17T09:43:14.410Z"
   },
   {
    "duration": 887,
    "start_time": "2022-01-17T09:48:18.449Z"
   },
   {
    "duration": 773,
    "start_time": "2022-01-17T09:48:35.059Z"
   },
   {
    "duration": 893,
    "start_time": "2022-01-17T09:55:57.753Z"
   },
   {
    "duration": 838,
    "start_time": "2022-01-17T09:56:26.190Z"
   },
   {
    "duration": 990,
    "start_time": "2022-01-17T09:56:38.255Z"
   },
   {
    "duration": 876,
    "start_time": "2022-01-17T09:56:47.021Z"
   },
   {
    "duration": 1066,
    "start_time": "2022-01-17T09:57:09.504Z"
   },
   {
    "duration": 889,
    "start_time": "2022-01-17T09:57:30.262Z"
   },
   {
    "duration": 289,
    "start_time": "2022-01-17T09:58:47.935Z"
   },
   {
    "duration": 299,
    "start_time": "2022-01-17T10:01:52.938Z"
   },
   {
    "duration": 787,
    "start_time": "2022-01-17T10:02:50.561Z"
   },
   {
    "duration": 821,
    "start_time": "2022-01-17T10:04:52.859Z"
   },
   {
    "duration": 1028,
    "start_time": "2022-01-17T10:05:09.124Z"
   },
   {
    "duration": 858,
    "start_time": "2022-01-17T10:05:42.171Z"
   },
   {
    "duration": 868,
    "start_time": "2022-01-17T10:05:53.075Z"
   },
   {
    "duration": 1458,
    "start_time": "2022-01-17T10:26:36.636Z"
   },
   {
    "duration": 549,
    "start_time": "2022-01-17T10:26:38.097Z"
   },
   {
    "duration": 4,
    "start_time": "2022-01-17T10:26:38.648Z"
   },
   {
    "duration": 32,
    "start_time": "2022-01-17T10:26:38.655Z"
   },
   {
    "duration": 187,
    "start_time": "2022-01-17T10:26:38.690Z"
   },
   {
    "duration": 93,
    "start_time": "2022-01-17T10:26:38.880Z"
   },
   {
    "duration": 168,
    "start_time": "2022-01-17T10:26:38.975Z"
   },
   {
    "duration": 20,
    "start_time": "2022-01-17T10:26:39.146Z"
   },
   {
    "duration": 127,
    "start_time": "2022-01-17T10:26:39.173Z"
   },
   {
    "duration": 13,
    "start_time": "2022-01-17T10:26:39.304Z"
   },
   {
    "duration": 39,
    "start_time": "2022-01-17T10:26:39.321Z"
   },
   {
    "duration": 58,
    "start_time": "2022-01-17T10:26:39.362Z"
   },
   {
    "duration": 32,
    "start_time": "2022-01-17T10:26:39.422Z"
   },
   {
    "duration": 23,
    "start_time": "2022-01-17T10:26:39.456Z"
   },
   {
    "duration": 40,
    "start_time": "2022-01-17T10:26:39.518Z"
   },
   {
    "duration": 21,
    "start_time": "2022-01-17T10:26:39.561Z"
   },
   {
    "duration": 98,
    "start_time": "2022-01-17T10:26:39.585Z"
   },
   {
    "duration": 63,
    "start_time": "2022-01-17T10:26:39.685Z"
   },
   {
    "duration": 25,
    "start_time": "2022-01-17T10:26:39.750Z"
   },
   {
    "duration": 54,
    "start_time": "2022-01-17T10:26:39.778Z"
   },
   {
    "duration": 65,
    "start_time": "2022-01-17T10:26:39.835Z"
   },
   {
    "duration": 23,
    "start_time": "2022-01-17T10:26:39.917Z"
   },
   {
    "duration": 16,
    "start_time": "2022-01-17T10:26:39.943Z"
   },
   {
    "duration": 14,
    "start_time": "2022-01-17T10:26:39.961Z"
   },
   {
    "duration": 69,
    "start_time": "2022-01-17T10:26:39.978Z"
   },
   {
    "duration": 8,
    "start_time": "2022-01-17T10:26:40.050Z"
   },
   {
    "duration": 439,
    "start_time": "2022-01-17T10:26:40.062Z"
   },
   {
    "duration": 18,
    "start_time": "2022-01-17T10:26:40.504Z"
   },
   {
    "duration": 918,
    "start_time": "2022-01-17T10:26:40.525Z"
   },
   {
    "duration": 7506,
    "start_time": "2022-01-17T10:30:31.491Z"
   },
   {
    "duration": 7197,
    "start_time": "2022-01-17T10:31:02.788Z"
   },
   {
    "duration": 7701,
    "start_time": "2022-01-17T10:31:14.439Z"
   },
   {
    "duration": 7500,
    "start_time": "2022-01-17T10:32:17.864Z"
   },
   {
    "duration": 7695,
    "start_time": "2022-01-17T10:33:47.893Z"
   },
   {
    "duration": 1137,
    "start_time": "2022-01-17T10:37:23.764Z"
   },
   {
    "duration": 8716,
    "start_time": "2022-01-17T10:37:43.946Z"
   },
   {
    "duration": 10855,
    "start_time": "2022-01-17T10:38:02.583Z"
   },
   {
    "duration": 67,
    "start_time": "2022-01-17T10:39:05.880Z"
   },
   {
    "duration": 90,
    "start_time": "2022-01-17T10:44:33.979Z"
   },
   {
    "duration": 6,
    "start_time": "2022-01-17T10:44:50.488Z"
   },
   {
    "duration": 83,
    "start_time": "2022-01-17T10:45:34.133Z"
   },
   {
    "duration": 7977,
    "start_time": "2022-01-17T10:49:40.180Z"
   },
   {
    "duration": 68,
    "start_time": "2022-01-17T10:50:08.860Z"
   },
   {
    "duration": 7,
    "start_time": "2022-01-17T10:50:13.127Z"
   },
   {
    "duration": 7883,
    "start_time": "2022-01-17T10:50:15.215Z"
   },
   {
    "duration": 1471,
    "start_time": "2022-01-17T11:12:27.724Z"
   },
   {
    "duration": 527,
    "start_time": "2022-01-17T11:12:29.198Z"
   },
   {
    "duration": 5,
    "start_time": "2022-01-17T11:12:29.727Z"
   },
   {
    "duration": 30,
    "start_time": "2022-01-17T11:12:29.734Z"
   },
   {
    "duration": 190,
    "start_time": "2022-01-17T11:12:29.766Z"
   },
   {
    "duration": 97,
    "start_time": "2022-01-17T11:12:29.958Z"
   },
   {
    "duration": 183,
    "start_time": "2022-01-17T11:12:30.058Z"
   },
   {
    "duration": 23,
    "start_time": "2022-01-17T11:12:30.244Z"
   },
   {
    "duration": 129,
    "start_time": "2022-01-17T11:12:30.274Z"
   },
   {
    "duration": 16,
    "start_time": "2022-01-17T11:12:30.406Z"
   },
   {
    "duration": 33,
    "start_time": "2022-01-17T11:12:30.425Z"
   },
   {
    "duration": 56,
    "start_time": "2022-01-17T11:12:30.460Z"
   },
   {
    "duration": 34,
    "start_time": "2022-01-17T11:12:30.519Z"
   },
   {
    "duration": 24,
    "start_time": "2022-01-17T11:12:30.555Z"
   },
   {
    "duration": 38,
    "start_time": "2022-01-17T11:12:30.617Z"
   },
   {
    "duration": 23,
    "start_time": "2022-01-17T11:12:30.657Z"
   },
   {
    "duration": 70,
    "start_time": "2022-01-17T11:12:30.718Z"
   },
   {
    "duration": 60,
    "start_time": "2022-01-17T11:12:30.790Z"
   },
   {
    "duration": 25,
    "start_time": "2022-01-17T11:12:30.852Z"
   },
   {
    "duration": 52,
    "start_time": "2022-01-17T11:12:30.880Z"
   },
   {
    "duration": 82,
    "start_time": "2022-01-17T11:12:30.935Z"
   },
   {
    "duration": 23,
    "start_time": "2022-01-17T11:12:31.020Z"
   },
   {
    "duration": 34,
    "start_time": "2022-01-17T11:12:31.046Z"
   },
   {
    "duration": 17,
    "start_time": "2022-01-17T11:12:31.083Z"
   },
   {
    "duration": 44,
    "start_time": "2022-01-17T11:12:31.102Z"
   },
   {
    "duration": 7,
    "start_time": "2022-01-17T11:12:31.149Z"
   },
   {
    "duration": 448,
    "start_time": "2022-01-17T11:12:31.161Z"
   },
   {
    "duration": 9,
    "start_time": "2022-01-17T11:12:31.616Z"
   },
   {
    "duration": 91,
    "start_time": "2022-01-17T11:12:31.627Z"
   },
   {
    "duration": 6,
    "start_time": "2022-01-17T11:12:31.720Z"
   },
   {
    "duration": 8001,
    "start_time": "2022-01-17T11:12:31.729Z"
   },
   {
    "duration": 976,
    "start_time": "2022-01-17T11:41:52.156Z"
   },
   {
    "duration": 7,
    "start_time": "2022-01-17T11:51:51.314Z"
   },
   {
    "duration": 23,
    "start_time": "2022-01-17T11:54:53.596Z"
   },
   {
    "duration": 64,
    "start_time": "2022-01-17T11:55:05.357Z"
   },
   {
    "duration": 12,
    "start_time": "2022-01-17T11:55:25.116Z"
   },
   {
    "duration": 103,
    "start_time": "2022-01-17T11:57:32.456Z"
   },
   {
    "duration": 1489,
    "start_time": "2022-01-17T12:16:50.933Z"
   },
   {
    "duration": 636,
    "start_time": "2022-01-17T12:16:52.425Z"
   },
   {
    "duration": 5,
    "start_time": "2022-01-17T12:16:53.064Z"
   },
   {
    "duration": 48,
    "start_time": "2022-01-17T12:16:53.072Z"
   },
   {
    "duration": 207,
    "start_time": "2022-01-17T12:16:53.122Z"
   },
   {
    "duration": 111,
    "start_time": "2022-01-17T12:16:53.332Z"
   },
   {
    "duration": 181,
    "start_time": "2022-01-17T12:16:53.445Z"
   },
   {
    "duration": 20,
    "start_time": "2022-01-17T12:16:53.631Z"
   },
   {
    "duration": 135,
    "start_time": "2022-01-17T12:16:53.655Z"
   },
   {
    "duration": 8,
    "start_time": "2022-01-17T12:16:53.793Z"
   },
   {
    "duration": 33,
    "start_time": "2022-01-17T12:16:53.819Z"
   },
   {
    "duration": 29,
    "start_time": "2022-01-17T12:16:53.855Z"
   },
   {
    "duration": 65,
    "start_time": "2022-01-17T12:16:53.887Z"
   },
   {
    "duration": 22,
    "start_time": "2022-01-17T12:16:53.954Z"
   },
   {
    "duration": 81,
    "start_time": "2022-01-17T12:16:53.978Z"
   },
   {
    "duration": 21,
    "start_time": "2022-01-17T12:16:54.061Z"
   },
   {
    "duration": 101,
    "start_time": "2022-01-17T12:16:54.084Z"
   },
   {
    "duration": 64,
    "start_time": "2022-01-17T12:16:54.188Z"
   },
   {
    "duration": 30,
    "start_time": "2022-01-17T12:16:54.255Z"
   },
   {
    "duration": 35,
    "start_time": "2022-01-17T12:16:54.316Z"
   },
   {
    "duration": 138,
    "start_time": "2022-01-17T12:16:54.353Z"
   },
   {
    "duration": 48,
    "start_time": "2022-01-17T12:16:54.494Z"
   },
   {
    "duration": 21,
    "start_time": "2022-01-17T12:16:54.550Z"
   },
   {
    "duration": 50,
    "start_time": "2022-01-17T12:16:54.575Z"
   },
   {
    "duration": 35,
    "start_time": "2022-01-17T12:16:54.627Z"
   },
   {
    "duration": 10,
    "start_time": "2022-01-17T12:16:54.665Z"
   },
   {
    "duration": 481,
    "start_time": "2022-01-17T12:16:54.678Z"
   },
   {
    "duration": 9,
    "start_time": "2022-01-17T12:16:55.162Z"
   },
   {
    "duration": 90,
    "start_time": "2022-01-17T12:16:55.174Z"
   },
   {
    "duration": 7,
    "start_time": "2022-01-17T12:16:55.266Z"
   },
   {
    "duration": 8433,
    "start_time": "2022-01-17T12:16:55.276Z"
   },
   {
    "duration": 109,
    "start_time": "2022-01-17T12:17:03.716Z"
   },
   {
    "duration": 164,
    "start_time": "2022-01-17T12:17:03.664Z"
   },
   {
    "duration": 164,
    "start_time": "2022-01-17T12:17:03.666Z"
   },
   {
    "duration": 164,
    "start_time": "2022-01-17T12:17:03.668Z"
   },
   {
    "duration": 1538,
    "start_time": "2022-01-17T12:17:20.662Z"
   },
   {
    "duration": 589,
    "start_time": "2022-01-17T12:17:22.202Z"
   },
   {
    "duration": 6,
    "start_time": "2022-01-17T12:17:22.795Z"
   },
   {
    "duration": 45,
    "start_time": "2022-01-17T12:17:22.805Z"
   },
   {
    "duration": 213,
    "start_time": "2022-01-17T12:17:22.853Z"
   },
   {
    "duration": 105,
    "start_time": "2022-01-17T12:17:23.068Z"
   },
   {
    "duration": 163,
    "start_time": "2022-01-17T12:17:23.175Z"
   },
   {
    "duration": 22,
    "start_time": "2022-01-17T12:17:23.341Z"
   },
   {
    "duration": 199,
    "start_time": "2022-01-17T12:17:23.367Z"
   },
   {
    "duration": 10,
    "start_time": "2022-01-17T12:17:23.569Z"
   },
   {
    "duration": 60,
    "start_time": "2022-01-17T12:17:23.582Z"
   },
   {
    "duration": 37,
    "start_time": "2022-01-17T12:17:23.646Z"
   },
   {
    "duration": 73,
    "start_time": "2022-01-17T12:17:23.687Z"
   },
   {
    "duration": 59,
    "start_time": "2022-01-17T12:17:23.763Z"
   },
   {
    "duration": 44,
    "start_time": "2022-01-17T12:17:23.824Z"
   },
   {
    "duration": 49,
    "start_time": "2022-01-17T12:17:23.870Z"
   },
   {
    "duration": 98,
    "start_time": "2022-01-17T12:17:23.921Z"
   },
   {
    "duration": 45,
    "start_time": "2022-01-17T12:17:24.022Z"
   },
   {
    "duration": 51,
    "start_time": "2022-01-17T12:17:24.069Z"
   },
   {
    "duration": 33,
    "start_time": "2022-01-17T12:17:24.123Z"
   },
   {
    "duration": 98,
    "start_time": "2022-01-17T12:17:24.158Z"
   },
   {
    "duration": 24,
    "start_time": "2022-01-17T12:17:24.259Z"
   },
   {
    "duration": 34,
    "start_time": "2022-01-17T12:17:24.289Z"
   },
   {
    "duration": 15,
    "start_time": "2022-01-17T12:17:24.327Z"
   },
   {
    "duration": 32,
    "start_time": "2022-01-17T12:17:24.345Z"
   },
   {
    "duration": 40,
    "start_time": "2022-01-17T12:17:24.380Z"
   },
   {
    "duration": 420,
    "start_time": "2022-01-17T12:17:24.423Z"
   },
   {
    "duration": 8,
    "start_time": "2022-01-17T12:17:24.846Z"
   },
   {
    "duration": 88,
    "start_time": "2022-01-17T12:17:24.856Z"
   },
   {
    "duration": 6,
    "start_time": "2022-01-17T12:17:24.947Z"
   },
   {
    "duration": 7680,
    "start_time": "2022-01-17T12:17:24.955Z"
   },
   {
    "duration": 889,
    "start_time": "2022-01-17T12:17:32.638Z"
   },
   {
    "duration": 7,
    "start_time": "2022-01-17T12:17:33.530Z"
   },
   {
    "duration": 11,
    "start_time": "2022-01-17T12:17:33.539Z"
   },
   {
    "duration": 258,
    "start_time": "2022-01-20T14:33:04.924Z"
   },
   {
    "duration": 1147,
    "start_time": "2022-01-20T14:33:16.948Z"
   },
   {
    "duration": 410,
    "start_time": "2022-01-20T14:33:18.097Z"
   },
   {
    "duration": 3,
    "start_time": "2022-01-20T14:33:18.508Z"
   },
   {
    "duration": 56,
    "start_time": "2022-01-20T14:33:18.513Z"
   },
   {
    "duration": 136,
    "start_time": "2022-01-20T14:33:18.570Z"
   },
   {
    "duration": 68,
    "start_time": "2022-01-20T14:33:18.708Z"
   },
   {
    "duration": 95,
    "start_time": "2022-01-20T14:33:18.778Z"
   },
   {
    "duration": 14,
    "start_time": "2022-01-20T14:33:18.876Z"
   },
   {
    "duration": 87,
    "start_time": "2022-01-20T14:33:18.893Z"
   },
   {
    "duration": 6,
    "start_time": "2022-01-20T14:33:18.981Z"
   },
   {
    "duration": 35,
    "start_time": "2022-01-20T14:33:18.988Z"
   },
   {
    "duration": 72,
    "start_time": "2022-01-20T14:33:19.024Z"
   },
   {
    "duration": 29,
    "start_time": "2022-01-20T14:33:19.098Z"
   },
   {
    "duration": 20,
    "start_time": "2022-01-20T14:33:19.129Z"
   },
   {
    "duration": 31,
    "start_time": "2022-01-20T14:33:19.151Z"
   },
   {
    "duration": 22,
    "start_time": "2022-01-20T14:33:19.183Z"
   },
   {
    "duration": 88,
    "start_time": "2022-01-20T14:33:19.207Z"
   },
   {
    "duration": 41,
    "start_time": "2022-01-20T14:33:19.296Z"
   },
   {
    "duration": 30,
    "start_time": "2022-01-20T14:33:19.339Z"
   },
   {
    "duration": 24,
    "start_time": "2022-01-20T14:33:19.370Z"
   },
   {
    "duration": 49,
    "start_time": "2022-01-20T14:33:19.396Z"
   },
   {
    "duration": 14,
    "start_time": "2022-01-20T14:33:19.447Z"
   },
   {
    "duration": 36,
    "start_time": "2022-01-20T14:33:19.465Z"
   },
   {
    "duration": 41,
    "start_time": "2022-01-20T14:33:19.503Z"
   },
   {
    "duration": 32,
    "start_time": "2022-01-20T14:33:19.546Z"
   },
   {
    "duration": 11,
    "start_time": "2022-01-20T14:33:19.579Z"
   },
   {
    "duration": 273,
    "start_time": "2022-01-20T14:33:19.592Z"
   },
   {
    "duration": 6,
    "start_time": "2022-01-20T14:33:19.866Z"
   },
   {
    "duration": 94,
    "start_time": "2022-01-20T14:33:19.873Z"
   },
   {
    "duration": 43,
    "start_time": "2022-01-20T14:33:19.968Z"
   },
   {
    "duration": 4418,
    "start_time": "2022-01-20T14:33:20.012Z"
   },
   {
    "duration": 487,
    "start_time": "2022-01-20T14:33:24.432Z"
   },
   {
    "duration": 4,
    "start_time": "2022-01-20T14:33:24.921Z"
   },
   {
    "duration": 22,
    "start_time": "2022-01-20T14:33:24.927Z"
   },
   {
    "duration": 73,
    "start_time": "2022-01-20T15:09:42.051Z"
   },
   {
    "duration": 1159,
    "start_time": "2022-01-20T15:22:06.780Z"
   },
   {
    "duration": 647,
    "start_time": "2022-01-20T15:22:07.941Z"
   },
   {
    "duration": 4,
    "start_time": "2022-01-20T15:22:08.591Z"
   },
   {
    "duration": 64,
    "start_time": "2022-01-20T15:22:08.598Z"
   },
   {
    "duration": 145,
    "start_time": "2022-01-20T15:22:08.664Z"
   },
   {
    "duration": 67,
    "start_time": "2022-01-20T15:22:08.811Z"
   },
   {
    "duration": 98,
    "start_time": "2022-01-20T15:22:08.880Z"
   },
   {
    "duration": 14,
    "start_time": "2022-01-20T15:22:08.980Z"
   },
   {
    "duration": 111,
    "start_time": "2022-01-20T15:22:08.996Z"
   },
   {
    "duration": 6,
    "start_time": "2022-01-20T15:22:09.109Z"
   },
   {
    "duration": 66,
    "start_time": "2022-01-20T15:22:09.117Z"
   },
   {
    "duration": 59,
    "start_time": "2022-01-20T15:22:09.185Z"
   },
   {
    "duration": 41,
    "start_time": "2022-01-20T15:22:09.246Z"
   },
   {
    "duration": 26,
    "start_time": "2022-01-20T15:22:09.289Z"
   },
   {
    "duration": 53,
    "start_time": "2022-01-20T15:22:09.317Z"
   },
   {
    "duration": 21,
    "start_time": "2022-01-20T15:22:09.373Z"
   },
   {
    "duration": 99,
    "start_time": "2022-01-20T15:22:09.396Z"
   },
   {
    "duration": 45,
    "start_time": "2022-01-20T15:22:09.498Z"
   },
   {
    "duration": 27,
    "start_time": "2022-01-20T15:22:09.545Z"
   },
   {
    "duration": 30,
    "start_time": "2022-01-20T15:22:09.573Z"
   },
   {
    "duration": 79,
    "start_time": "2022-01-20T15:22:09.604Z"
   },
   {
    "duration": 16,
    "start_time": "2022-01-20T15:22:09.685Z"
   },
   {
    "duration": 38,
    "start_time": "2022-01-20T15:22:09.704Z"
   },
   {
    "duration": 34,
    "start_time": "2022-01-20T15:22:09.744Z"
   },
   {
    "duration": 49,
    "start_time": "2022-01-20T15:22:09.781Z"
   },
   {
    "duration": 7,
    "start_time": "2022-01-20T15:22:09.832Z"
   },
   {
    "duration": 430,
    "start_time": "2022-01-20T15:22:09.841Z"
   },
   {
    "duration": 9,
    "start_time": "2022-01-20T15:22:10.273Z"
   },
   {
    "duration": 31,
    "start_time": "2022-01-20T15:22:10.284Z"
   },
   {
    "duration": 7,
    "start_time": "2022-01-20T15:22:10.317Z"
   },
   {
    "duration": 369,
    "start_time": "2022-01-20T15:22:10.326Z"
   },
   {
    "duration": 24,
    "start_time": "2022-01-20T15:22:10.673Z"
   },
   {
    "duration": 17,
    "start_time": "2022-01-20T15:22:10.681Z"
   },
   {
    "duration": 10,
    "start_time": "2022-01-20T15:22:10.689Z"
   },
   {
    "duration": 5,
    "start_time": "2022-01-20T15:26:09.834Z"
   },
   {
    "duration": 693,
    "start_time": "2022-01-20T15:26:12.311Z"
   },
   {
    "duration": 5,
    "start_time": "2022-01-20T15:29:20.140Z"
   },
   {
    "duration": 1683,
    "start_time": "2022-01-20T15:29:30.712Z"
   },
   {
    "duration": 6,
    "start_time": "2022-01-20T15:31:05.695Z"
   },
   {
    "duration": 1508,
    "start_time": "2022-01-20T15:31:08.746Z"
   },
   {
    "duration": 5,
    "start_time": "2022-01-20T15:32:47.544Z"
   },
   {
    "duration": 1340,
    "start_time": "2022-01-20T15:32:49.052Z"
   },
   {
    "duration": 6,
    "start_time": "2022-01-20T15:35:05.295Z"
   },
   {
    "duration": 1424,
    "start_time": "2022-01-20T15:35:06.447Z"
   },
   {
    "duration": 5,
    "start_time": "2022-01-20T15:35:34.940Z"
   },
   {
    "duration": 1422,
    "start_time": "2022-01-20T15:35:37.459Z"
   },
   {
    "duration": 6,
    "start_time": "2022-01-20T15:43:45.159Z"
   },
   {
    "duration": 1331,
    "start_time": "2022-01-20T15:43:47.369Z"
   },
   {
    "duration": 6,
    "start_time": "2022-01-20T15:45:47.178Z"
   },
   {
    "duration": 6,
    "start_time": "2022-01-20T15:47:47.179Z"
   },
   {
    "duration": 1586,
    "start_time": "2022-01-20T15:48:21.805Z"
   },
   {
    "duration": 5,
    "start_time": "2022-01-20T15:48:34.690Z"
   },
   {
    "duration": 1432,
    "start_time": "2022-01-20T15:48:36.338Z"
   },
   {
    "duration": 1052,
    "start_time": "2022-01-20T15:49:11.702Z"
   },
   {
    "duration": 393,
    "start_time": "2022-01-20T15:49:12.756Z"
   },
   {
    "duration": 2,
    "start_time": "2022-01-20T15:49:13.151Z"
   },
   {
    "duration": 22,
    "start_time": "2022-01-20T15:49:13.155Z"
   },
   {
    "duration": 123,
    "start_time": "2022-01-20T15:49:13.179Z"
   },
   {
    "duration": 61,
    "start_time": "2022-01-20T15:49:13.303Z"
   },
   {
    "duration": 84,
    "start_time": "2022-01-20T15:49:13.366Z"
   },
   {
    "duration": 13,
    "start_time": "2022-01-20T15:49:13.452Z"
   },
   {
    "duration": 81,
    "start_time": "2022-01-20T15:49:13.466Z"
   },
   {
    "duration": 5,
    "start_time": "2022-01-20T15:49:13.548Z"
   },
   {
    "duration": 43,
    "start_time": "2022-01-20T15:49:13.555Z"
   },
   {
    "duration": 28,
    "start_time": "2022-01-20T15:49:13.600Z"
   },
   {
    "duration": 36,
    "start_time": "2022-01-20T15:49:13.630Z"
   },
   {
    "duration": 24,
    "start_time": "2022-01-20T15:49:13.668Z"
   },
   {
    "duration": 27,
    "start_time": "2022-01-20T15:49:13.693Z"
   },
   {
    "duration": 20,
    "start_time": "2022-01-20T15:49:13.722Z"
   },
   {
    "duration": 51,
    "start_time": "2022-01-20T15:49:13.744Z"
   },
   {
    "duration": 45,
    "start_time": "2022-01-20T15:49:13.797Z"
   },
   {
    "duration": 19,
    "start_time": "2022-01-20T15:49:13.844Z"
   },
   {
    "duration": 29,
    "start_time": "2022-01-20T15:49:13.865Z"
   },
   {
    "duration": 55,
    "start_time": "2022-01-20T15:49:13.896Z"
   },
   {
    "duration": 12,
    "start_time": "2022-01-20T15:49:13.953Z"
   },
   {
    "duration": 18,
    "start_time": "2022-01-20T15:49:13.969Z"
   },
   {
    "duration": 9,
    "start_time": "2022-01-20T15:49:13.990Z"
   },
   {
    "duration": 40,
    "start_time": "2022-01-20T15:49:14.000Z"
   },
   {
    "duration": 4,
    "start_time": "2022-01-20T15:49:14.042Z"
   },
   {
    "duration": 259,
    "start_time": "2022-01-20T15:49:14.047Z"
   },
   {
    "duration": 7,
    "start_time": "2022-01-20T15:49:14.307Z"
   },
   {
    "duration": 42,
    "start_time": "2022-01-20T15:49:14.315Z"
   },
   {
    "duration": 15,
    "start_time": "2022-01-20T15:49:14.359Z"
   },
   {
    "duration": 575,
    "start_time": "2022-01-20T15:49:14.376Z"
   },
   {
    "duration": -27,
    "start_time": "2022-01-20T15:49:14.979Z"
   },
   {
    "duration": -31,
    "start_time": "2022-01-20T15:49:14.984Z"
   },
   {
    "duration": -34,
    "start_time": "2022-01-20T15:49:14.989Z"
   },
   {
    "duration": 1288,
    "start_time": "2022-01-20T15:52:29.392Z"
   },
   {
    "duration": 1367,
    "start_time": "2022-01-20T15:52:50.974Z"
   },
   {
    "duration": 1204,
    "start_time": "2022-01-20T15:54:41.277Z"
   },
   {
    "duration": 404,
    "start_time": "2022-01-20T15:54:42.483Z"
   },
   {
    "duration": 2,
    "start_time": "2022-01-20T15:54:42.889Z"
   },
   {
    "duration": 22,
    "start_time": "2022-01-20T15:54:42.893Z"
   },
   {
    "duration": 119,
    "start_time": "2022-01-20T15:54:42.917Z"
   },
   {
    "duration": 57,
    "start_time": "2022-01-20T15:54:43.042Z"
   },
   {
    "duration": 98,
    "start_time": "2022-01-20T15:54:43.102Z"
   },
   {
    "duration": 12,
    "start_time": "2022-01-20T15:54:43.203Z"
   },
   {
    "duration": 91,
    "start_time": "2022-01-20T15:54:43.217Z"
   },
   {
    "duration": 5,
    "start_time": "2022-01-20T15:54:43.309Z"
   },
   {
    "duration": 32,
    "start_time": "2022-01-20T15:54:43.315Z"
   },
   {
    "duration": 18,
    "start_time": "2022-01-20T15:54:43.349Z"
   },
   {
    "duration": 26,
    "start_time": "2022-01-20T15:54:43.369Z"
   },
   {
    "duration": 44,
    "start_time": "2022-01-20T15:54:43.397Z"
   },
   {
    "duration": 25,
    "start_time": "2022-01-20T15:54:43.443Z"
   },
   {
    "duration": 16,
    "start_time": "2022-01-20T15:54:43.470Z"
   },
   {
    "duration": 74,
    "start_time": "2022-01-20T15:54:43.488Z"
   },
   {
    "duration": 35,
    "start_time": "2022-01-20T15:54:43.564Z"
   },
   {
    "duration": 16,
    "start_time": "2022-01-20T15:54:43.601Z"
   },
   {
    "duration": 42,
    "start_time": "2022-01-20T15:54:43.618Z"
   },
   {
    "duration": 49,
    "start_time": "2022-01-20T15:54:43.662Z"
   },
   {
    "duration": 28,
    "start_time": "2022-01-20T15:54:43.713Z"
   },
   {
    "duration": 20,
    "start_time": "2022-01-20T15:54:43.744Z"
   },
   {
    "duration": 19,
    "start_time": "2022-01-20T15:54:43.766Z"
   },
   {
    "duration": 45,
    "start_time": "2022-01-20T15:54:43.786Z"
   },
   {
    "duration": 7,
    "start_time": "2022-01-20T15:54:43.833Z"
   },
   {
    "duration": 261,
    "start_time": "2022-01-20T15:54:43.842Z"
   },
   {
    "duration": 7,
    "start_time": "2022-01-20T15:54:44.105Z"
   },
   {
    "duration": 31,
    "start_time": "2022-01-20T15:54:44.114Z"
   },
   {
    "duration": 5,
    "start_time": "2022-01-20T15:54:44.146Z"
   },
   {
    "duration": 1427,
    "start_time": "2022-01-20T15:54:44.153Z"
   },
   {
    "duration": 305,
    "start_time": "2022-01-20T15:54:45.582Z"
   },
   {
    "duration": 43,
    "start_time": "2022-01-20T15:54:45.846Z"
   },
   {
    "duration": 42,
    "start_time": "2022-01-20T15:54:45.848Z"
   },
   {
    "duration": 1141,
    "start_time": "2022-04-08T08:35:23.044Z"
   },
   {
    "duration": 307,
    "start_time": "2022-04-08T08:35:24.187Z"
   },
   {
    "duration": 3,
    "start_time": "2022-04-08T08:35:24.496Z"
   },
   {
    "duration": 24,
    "start_time": "2022-04-08T08:35:24.501Z"
   },
   {
    "duration": 113,
    "start_time": "2022-04-08T08:35:24.526Z"
   },
   {
    "duration": 54,
    "start_time": "2022-04-08T08:35:24.640Z"
   },
   {
    "duration": 89,
    "start_time": "2022-04-08T08:35:24.695Z"
   },
   {
    "duration": 16,
    "start_time": "2022-04-08T08:35:24.786Z"
   },
   {
    "duration": 85,
    "start_time": "2022-04-08T08:35:24.803Z"
   },
   {
    "duration": 5,
    "start_time": "2022-04-08T08:35:24.891Z"
   },
   {
    "duration": 33,
    "start_time": "2022-04-08T08:35:24.898Z"
   },
   {
    "duration": 19,
    "start_time": "2022-04-08T08:35:24.933Z"
   },
   {
    "duration": 25,
    "start_time": "2022-04-08T08:35:24.953Z"
   },
   {
    "duration": 18,
    "start_time": "2022-04-08T08:35:24.979Z"
   },
   {
    "duration": 26,
    "start_time": "2022-04-08T08:35:25.029Z"
   },
   {
    "duration": 15,
    "start_time": "2022-04-08T08:35:25.056Z"
   },
   {
    "duration": 70,
    "start_time": "2022-04-08T08:35:25.072Z"
   },
   {
    "duration": 22,
    "start_time": "2022-04-08T08:35:25.144Z"
   },
   {
    "duration": 16,
    "start_time": "2022-04-08T08:35:25.167Z"
   },
   {
    "duration": 21,
    "start_time": "2022-04-08T08:35:25.185Z"
   },
   {
    "duration": 58,
    "start_time": "2022-04-08T08:35:25.208Z"
   },
   {
    "duration": 15,
    "start_time": "2022-04-08T08:35:25.268Z"
   },
   {
    "duration": 12,
    "start_time": "2022-04-08T08:35:25.284Z"
   },
   {
    "duration": 36,
    "start_time": "2022-04-08T08:35:25.298Z"
   },
   {
    "duration": 20,
    "start_time": "2022-04-08T08:35:25.336Z"
   },
   {
    "duration": 4,
    "start_time": "2022-04-08T08:35:25.357Z"
   },
   {
    "duration": 135,
    "start_time": "2022-04-08T08:35:25.362Z"
   },
   {
    "duration": 5,
    "start_time": "2022-04-08T08:35:25.500Z"
   },
   {
    "duration": 31,
    "start_time": "2022-04-08T08:35:25.506Z"
   },
   {
    "duration": 5,
    "start_time": "2022-04-08T08:35:25.538Z"
   },
   {
    "duration": 922,
    "start_time": "2022-04-08T08:35:25.544Z"
   },
   {
    "duration": 107,
    "start_time": "2022-04-08T08:35:26.468Z"
   },
   {
    "duration": 0,
    "start_time": "2022-04-08T08:35:26.576Z"
   },
   {
    "duration": 0,
    "start_time": "2022-04-08T08:35:26.578Z"
   },
   {
    "duration": 320,
    "start_time": "2022-04-08T08:36:37.366Z"
   },
   {
    "duration": 1062,
    "start_time": "2022-04-08T08:37:46.508Z"
   },
   {
    "duration": 306,
    "start_time": "2022-04-08T08:37:47.573Z"
   },
   {
    "duration": 2,
    "start_time": "2022-04-08T08:37:47.881Z"
   },
   {
    "duration": 25,
    "start_time": "2022-04-08T08:37:47.885Z"
   },
   {
    "duration": 106,
    "start_time": "2022-04-08T08:37:47.912Z"
   },
   {
    "duration": 57,
    "start_time": "2022-04-08T08:37:48.020Z"
   },
   {
    "duration": 91,
    "start_time": "2022-04-08T08:37:48.078Z"
   },
   {
    "duration": 14,
    "start_time": "2022-04-08T08:37:48.171Z"
   },
   {
    "duration": 74,
    "start_time": "2022-04-08T08:37:48.186Z"
   },
   {
    "duration": 4,
    "start_time": "2022-04-08T08:37:48.263Z"
   },
   {
    "duration": 20,
    "start_time": "2022-04-08T08:37:48.268Z"
   },
   {
    "duration": 18,
    "start_time": "2022-04-08T08:37:48.289Z"
   },
   {
    "duration": 42,
    "start_time": "2022-04-08T08:37:48.308Z"
   },
   {
    "duration": 17,
    "start_time": "2022-04-08T08:37:48.352Z"
   },
   {
    "duration": 23,
    "start_time": "2022-04-08T08:37:48.370Z"
   },
   {
    "duration": 43,
    "start_time": "2022-04-08T08:37:48.395Z"
   },
   {
    "duration": 43,
    "start_time": "2022-04-08T08:37:48.439Z"
   },
   {
    "duration": 22,
    "start_time": "2022-04-08T08:37:48.483Z"
   },
   {
    "duration": 31,
    "start_time": "2022-04-08T08:37:48.507Z"
   },
   {
    "duration": 19,
    "start_time": "2022-04-08T08:37:48.540Z"
   },
   {
    "duration": 38,
    "start_time": "2022-04-08T08:37:48.560Z"
   },
   {
    "duration": 39,
    "start_time": "2022-04-08T08:37:48.599Z"
   },
   {
    "duration": 11,
    "start_time": "2022-04-08T08:37:48.639Z"
   },
   {
    "duration": 7,
    "start_time": "2022-04-08T08:37:48.651Z"
   },
   {
    "duration": 18,
    "start_time": "2022-04-08T08:37:48.660Z"
   },
   {
    "duration": 3,
    "start_time": "2022-04-08T08:37:48.680Z"
   },
   {
    "duration": 139,
    "start_time": "2022-04-08T08:37:48.684Z"
   },
   {
    "duration": 8,
    "start_time": "2022-04-08T08:37:48.825Z"
   },
   {
    "duration": 38,
    "start_time": "2022-04-08T08:37:48.835Z"
   },
   {
    "duration": 4,
    "start_time": "2022-04-08T08:37:48.874Z"
   },
   {
    "duration": 890,
    "start_time": "2022-04-08T08:37:48.879Z"
   },
   {
    "duration": 332,
    "start_time": "2022-04-08T08:37:49.771Z"
   },
   {
    "duration": 4,
    "start_time": "2022-04-08T08:37:50.104Z"
   },
   {
    "duration": 8,
    "start_time": "2022-04-08T08:37:50.110Z"
   }
  ],
  "kernelspec": {
   "display_name": "Python 3 (ipykernel)",
   "language": "python",
   "name": "python3"
  },
  "language_info": {
   "codemirror_mode": {
    "name": "ipython",
    "version": 3
   },
   "file_extension": ".py",
   "mimetype": "text/x-python",
   "name": "python",
   "nbconvert_exporter": "python",
   "pygments_lexer": "ipython3",
   "version": "3.8.8"
  },
  "toc": {
   "base_numbering": 1,
   "nav_menu": {},
   "number_sections": true,
   "sideBar": true,
   "skip_h1_title": true,
   "title_cell": "Table of Contents",
   "title_sidebar": "Contents",
   "toc_cell": false,
   "toc_position": {
    "height": "calc(100% - 180px)",
    "left": "10px",
    "top": "150px",
    "width": "366.391px"
   },
   "toc_section_display": true,
   "toc_window_display": true
  }
 },
 "nbformat": 4,
 "nbformat_minor": 2
}
