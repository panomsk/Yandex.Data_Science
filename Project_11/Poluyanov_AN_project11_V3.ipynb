{
 "cells": [
  {
   "cell_type": "markdown",
   "metadata": {},
   "source": [
    "# Определение стоимости автомобилей"
   ]
  },
  {
   "cell_type": "markdown",
   "metadata": {},
   "source": [
    "Сервис по продаже автомобилей с пробегом «Не бит, не крашен» разрабатывает приложение для привлечения новых клиентов. В нём можно быстро узнать рыночную стоимость своего автомобиля. В вашем распоряжении исторические данные: технические характеристики, комплектации и цены автомобилей. Вам нужно построить модель для определения стоимости. \n",
    "\n",
    "Заказчику важны:\n",
    "\n",
    "- качество предсказания;\n",
    "- скорость предсказания;\n",
    "- время обучения.\n",
    "\n",
    "**Описание данных**  \n",
    "Данные находятся в файле /datasets/autos.csv.  \n",
    "*Признаки*  \n",
    "- DateCrawled — дата скачивания анкеты из базы  \n",
    "- VehicleType — тип автомобильного кузова  \n",
    "- RegistrationYear — год регистрации автомобиля  \n",
    "- Gearbox — тип коробки передач  \n",
    "- Power — мощность (л. с.)  \n",
    "- Model — модель автомобиля  \n",
    "- Kilometer — пробег (км)  \n",
    "- RegistrationMonth — месяц регистрации автомобиля  \n",
    "- FuelType — тип топлива  \n",
    "- Brand — марка автомобиля  \n",
    "- NotRepaired — была машина в ремонте или нет  \n",
    "- DateCreated — дата создания анкеты  \n",
    "- NumberOfPictures — количество фотографий автомобиля  \n",
    "- PostalCode — почтовый индекс владельца анкеты (пользователя)  \n",
    "- LastSeen — дата последней активности пользователя  \n",
    "\n",
    "*Целевой признак*  \n",
    "- Price — цена (евро)  "
   ]
  },
  {
   "cell_type": "markdown",
   "metadata": {},
   "source": [
    "<h1>Содержание</h1>\n",
    "<div class=\"toc\"><ul class=\"toc-item\"><li><span><a href=\"#Подготовка-данных\" data-toc-modified-id=\"Подготовка-данных-1\"><span class=\"toc-item-num\">1&nbsp;&nbsp;</span>Подготовка данных</a></span><ul class=\"toc-item\"><li><span><a href=\"#Загрузка-и-предварительный-анализ-данных\" data-toc-modified-id=\"Загрузка-и-предварительный-анализ-данных-1.1\"><span class=\"toc-item-num\">1.1&nbsp;&nbsp;</span>Загрузка и предварительный анализ данных</a></span></li><li><span><a href=\"#Подготовка-данных-для-обучения-моделей\" data-toc-modified-id=\"Подготовка-данных-для-обучения-моделей-1.2\"><span class=\"toc-item-num\">1.2&nbsp;&nbsp;</span>Подготовка данных для обучения моделей</a></span></li><li><span><a href=\"#Выводы\" data-toc-modified-id=\"Выводы-1.3\"><span class=\"toc-item-num\">1.3&nbsp;&nbsp;</span>Выводы</a></span></li></ul></li><li><span><a href=\"#Обучение-моделей\" data-toc-modified-id=\"Обучение-моделей-2\"><span class=\"toc-item-num\">2&nbsp;&nbsp;</span>Обучение моделей</a></span><ul class=\"toc-item\"><li><span><a href=\"#Подготовка-метрики\" data-toc-modified-id=\"Подготовка-метрики-2.1\"><span class=\"toc-item-num\">2.1&nbsp;&nbsp;</span>Подготовка метрики</a></span></li><li><span><a href=\"#Линейная-регрессия\" data-toc-modified-id=\"Линейная-регрессия-2.2\"><span class=\"toc-item-num\">2.2&nbsp;&nbsp;</span>Линейная регрессия</a></span></li><li><span><a href=\"#CatBoost\" data-toc-modified-id=\"CatBoost-2.3\"><span class=\"toc-item-num\">2.3&nbsp;&nbsp;</span>CatBoost</a></span></li><li><span><a href=\"#LightGBM\" data-toc-modified-id=\"LightGBM-2.4\"><span class=\"toc-item-num\">2.4&nbsp;&nbsp;</span>LightGBM</a></span></li><li><span><a href=\"#Выводы\" data-toc-modified-id=\"Выводы-2.5\"><span class=\"toc-item-num\">2.5&nbsp;&nbsp;</span>Выводы</a></span></li></ul></li><li><span><a href=\"#Анализ-моделей\" data-toc-modified-id=\"Анализ-моделей-3\"><span class=\"toc-item-num\">3&nbsp;&nbsp;</span>Анализ моделей</a></span><ul class=\"toc-item\"><li><span><a href=\"#Выводы\" data-toc-modified-id=\"Выводы-3.1\"><span class=\"toc-item-num\">3.1&nbsp;&nbsp;</span>Выводы</a></span></li></ul></li><li><span><a href=\"#Общий-вывод-по-проекту\" data-toc-modified-id=\"Общий-вывод-по-проекту-4\"><span class=\"toc-item-num\">4&nbsp;&nbsp;</span>Общий вывод по проекту</a></span></li><li><span><a href=\"#Чек-лист-проверки\" data-toc-modified-id=\"Чек-лист-проверки-5\"><span class=\"toc-item-num\">5&nbsp;&nbsp;</span>Чек-лист проверки</a></span></li></ul></div>"
   ]
  },
  {
   "cell_type": "markdown",
   "metadata": {},
   "source": [
    "## Подготовка данных"
   ]
  },
  {
   "cell_type": "markdown",
   "metadata": {},
   "source": [
    "### Загрузка и предварительный анализ данных"
   ]
  },
  {
   "cell_type": "code",
   "execution_count": 1,
   "metadata": {
    "scrolled": true
   },
   "outputs": [
    {
     "name": "stdout",
     "output_type": "stream",
     "text": [
      "Requirement already satisfied: pandas_profiling in c:\\programdata\\anaconda3\\lib\\site-packages (1.4.1)\n",
      "Requirement already satisfied: six>=1.9 in c:\\programdata\\anaconda3\\lib\\site-packages (from pandas_profiling) (1.16.0)\n",
      "Requirement already satisfied: matplotlib>=1.4 in c:\\programdata\\anaconda3\\lib\\site-packages (from pandas_profiling) (3.4.2)\n",
      "Requirement already satisfied: jinja2>=2.8 in c:\\programdata\\anaconda3\\lib\\site-packages (from pandas_profiling) (3.0.1)\n",
      "Requirement already satisfied: pandas>=0.19 in c:\\programdata\\anaconda3\\lib\\site-packages (from pandas_profiling) (1.3.3)\n",
      "Requirement already satisfied: MarkupSafe>=2.0 in c:\\programdata\\anaconda3\\lib\\site-packages (from jinja2>=2.8->pandas_profiling) (2.0.1)\n",
      "Requirement already satisfied: numpy>=1.16 in c:\\programdata\\anaconda3\\lib\\site-packages (from matplotlib>=1.4->pandas_profiling) (1.20.3)\n",
      "Requirement already satisfied: cycler>=0.10 in c:\\programdata\\anaconda3\\lib\\site-packages (from matplotlib>=1.4->pandas_profiling) (0.10.0)\n",
      "Requirement already satisfied: kiwisolver>=1.0.1 in c:\\programdata\\anaconda3\\lib\\site-packages (from matplotlib>=1.4->pandas_profiling) (1.3.1)\n",
      "Requirement already satisfied: pyparsing>=2.2.1 in c:\\programdata\\anaconda3\\lib\\site-packages (from matplotlib>=1.4->pandas_profiling) (2.4.7)\n",
      "Requirement already satisfied: pillow>=6.2.0 in c:\\programdata\\anaconda3\\lib\\site-packages (from matplotlib>=1.4->pandas_profiling) (8.3.1)\n",
      "Requirement already satisfied: python-dateutil>=2.7 in c:\\programdata\\anaconda3\\lib\\site-packages (from matplotlib>=1.4->pandas_profiling) (2.8.2)\n",
      "Requirement already satisfied: pytz>=2017.3 in c:\\programdata\\anaconda3\\lib\\site-packages (from pandas>=0.19->pandas_profiling) (2021.1)\n"
     ]
    }
   ],
   "source": [
    "# библиотеки, которых нет на сервере\n",
    "!pip install pandas_profiling --user\n",
    "\n",
    "#подключение библиотек, используемых в проекте\n",
    "import pandas as pd\n",
    "import numpy as np\n",
    "import matplotlib.pyplot as plt\n",
    "import seaborn as sb\n",
    "import pandas_profiling\n",
    "\n",
    "from sklearn.linear_model import LinearRegression\n",
    "from sklearn.model_selection import train_test_split, GridSearchCV\n",
    "from sklearn.preprocessing import StandardScaler\n",
    "from sklearn.metrics import mean_squared_error, make_scorer\n",
    "from catboost import CatBoostRegressor\n",
    "from lightgbm import LGBMRegressor\n",
    "import time\n",
    "\n",
    "%matplotlib inline\n",
    "\n",
    "pd.set_option('display.max_columns', None)\n",
    "pd.set_option('display.max_rows', None)"
   ]
  },
  {
   "cell_type": "code",
   "execution_count": 2,
   "metadata": {},
   "outputs": [],
   "source": [
    "def df_read_csv(file_name):\n",
    "    try:\n",
    "        df = pd.read_csv('/datasets/' + file_name)\n",
    "    except:\n",
    "        df = pd.read_csv('datasets\\\\' + file_name)\n",
    "    return df\n",
    "\n",
    "def df_show_info(df):\n",
    "    df.info()\n",
    "    display(df.describe(include='all').transpose())\n",
    "    display(df.head())\n",
    "    print('Дубликатов в исходных данных: ',df.duplicated().sum())"
   ]
  },
  {
   "cell_type": "code",
   "execution_count": 3,
   "metadata": {},
   "outputs": [
    {
     "name": "stdout",
     "output_type": "stream",
     "text": [
      "<class 'pandas.core.frame.DataFrame'>\n",
      "RangeIndex: 354369 entries, 0 to 354368\n",
      "Data columns (total 16 columns):\n",
      " #   Column             Non-Null Count   Dtype \n",
      "---  ------             --------------   ----- \n",
      " 0   DateCrawled        354369 non-null  object\n",
      " 1   Price              354369 non-null  int64 \n",
      " 2   VehicleType        316879 non-null  object\n",
      " 3   RegistrationYear   354369 non-null  int64 \n",
      " 4   Gearbox            334536 non-null  object\n",
      " 5   Power              354369 non-null  int64 \n",
      " 6   Model              334664 non-null  object\n",
      " 7   Kilometer          354369 non-null  int64 \n",
      " 8   RegistrationMonth  354369 non-null  int64 \n",
      " 9   FuelType           321474 non-null  object\n",
      " 10  Brand              354369 non-null  object\n",
      " 11  NotRepaired        283215 non-null  object\n",
      " 12  DateCreated        354369 non-null  object\n",
      " 13  NumberOfPictures   354369 non-null  int64 \n",
      " 14  PostalCode         354369 non-null  int64 \n",
      " 15  LastSeen           354369 non-null  object\n",
      "dtypes: int64(7), object(9)\n",
      "memory usage: 43.3+ MB\n"
     ]
    },
    {
     "data": {
      "text/html": [
       "<div>\n",
       "<style scoped>\n",
       "    .dataframe tbody tr th:only-of-type {\n",
       "        vertical-align: middle;\n",
       "    }\n",
       "\n",
       "    .dataframe tbody tr th {\n",
       "        vertical-align: top;\n",
       "    }\n",
       "\n",
       "    .dataframe thead th {\n",
       "        text-align: right;\n",
       "    }\n",
       "</style>\n",
       "<table border=\"1\" class=\"dataframe\">\n",
       "  <thead>\n",
       "    <tr style=\"text-align: right;\">\n",
       "      <th></th>\n",
       "      <th>count</th>\n",
       "      <th>unique</th>\n",
       "      <th>top</th>\n",
       "      <th>freq</th>\n",
       "      <th>mean</th>\n",
       "      <th>std</th>\n",
       "      <th>min</th>\n",
       "      <th>25%</th>\n",
       "      <th>50%</th>\n",
       "      <th>75%</th>\n",
       "      <th>max</th>\n",
       "    </tr>\n",
       "  </thead>\n",
       "  <tbody>\n",
       "    <tr>\n",
       "      <th>DateCrawled</th>\n",
       "      <td>354369</td>\n",
       "      <td>271174</td>\n",
       "      <td>2016-03-24 14:49:47</td>\n",
       "      <td>7</td>\n",
       "      <td>NaN</td>\n",
       "      <td>NaN</td>\n",
       "      <td>NaN</td>\n",
       "      <td>NaN</td>\n",
       "      <td>NaN</td>\n",
       "      <td>NaN</td>\n",
       "      <td>NaN</td>\n",
       "    </tr>\n",
       "    <tr>\n",
       "      <th>Price</th>\n",
       "      <td>354369.0</td>\n",
       "      <td>NaN</td>\n",
       "      <td>NaN</td>\n",
       "      <td>NaN</td>\n",
       "      <td>4416.656776</td>\n",
       "      <td>4514.158514</td>\n",
       "      <td>0.0</td>\n",
       "      <td>1050.0</td>\n",
       "      <td>2700.0</td>\n",
       "      <td>6400.0</td>\n",
       "      <td>20000.0</td>\n",
       "    </tr>\n",
       "    <tr>\n",
       "      <th>VehicleType</th>\n",
       "      <td>316879</td>\n",
       "      <td>8</td>\n",
       "      <td>sedan</td>\n",
       "      <td>91457</td>\n",
       "      <td>NaN</td>\n",
       "      <td>NaN</td>\n",
       "      <td>NaN</td>\n",
       "      <td>NaN</td>\n",
       "      <td>NaN</td>\n",
       "      <td>NaN</td>\n",
       "      <td>NaN</td>\n",
       "    </tr>\n",
       "    <tr>\n",
       "      <th>RegistrationYear</th>\n",
       "      <td>354369.0</td>\n",
       "      <td>NaN</td>\n",
       "      <td>NaN</td>\n",
       "      <td>NaN</td>\n",
       "      <td>2004.234448</td>\n",
       "      <td>90.227958</td>\n",
       "      <td>1000.0</td>\n",
       "      <td>1999.0</td>\n",
       "      <td>2003.0</td>\n",
       "      <td>2008.0</td>\n",
       "      <td>9999.0</td>\n",
       "    </tr>\n",
       "    <tr>\n",
       "      <th>Gearbox</th>\n",
       "      <td>334536</td>\n",
       "      <td>2</td>\n",
       "      <td>manual</td>\n",
       "      <td>268251</td>\n",
       "      <td>NaN</td>\n",
       "      <td>NaN</td>\n",
       "      <td>NaN</td>\n",
       "      <td>NaN</td>\n",
       "      <td>NaN</td>\n",
       "      <td>NaN</td>\n",
       "      <td>NaN</td>\n",
       "    </tr>\n",
       "    <tr>\n",
       "      <th>Power</th>\n",
       "      <td>354369.0</td>\n",
       "      <td>NaN</td>\n",
       "      <td>NaN</td>\n",
       "      <td>NaN</td>\n",
       "      <td>110.094337</td>\n",
       "      <td>189.850405</td>\n",
       "      <td>0.0</td>\n",
       "      <td>69.0</td>\n",
       "      <td>105.0</td>\n",
       "      <td>143.0</td>\n",
       "      <td>20000.0</td>\n",
       "    </tr>\n",
       "    <tr>\n",
       "      <th>Model</th>\n",
       "      <td>334664</td>\n",
       "      <td>250</td>\n",
       "      <td>golf</td>\n",
       "      <td>29232</td>\n",
       "      <td>NaN</td>\n",
       "      <td>NaN</td>\n",
       "      <td>NaN</td>\n",
       "      <td>NaN</td>\n",
       "      <td>NaN</td>\n",
       "      <td>NaN</td>\n",
       "      <td>NaN</td>\n",
       "    </tr>\n",
       "    <tr>\n",
       "      <th>Kilometer</th>\n",
       "      <td>354369.0</td>\n",
       "      <td>NaN</td>\n",
       "      <td>NaN</td>\n",
       "      <td>NaN</td>\n",
       "      <td>128211.172535</td>\n",
       "      <td>37905.34153</td>\n",
       "      <td>5000.0</td>\n",
       "      <td>125000.0</td>\n",
       "      <td>150000.0</td>\n",
       "      <td>150000.0</td>\n",
       "      <td>150000.0</td>\n",
       "    </tr>\n",
       "    <tr>\n",
       "      <th>RegistrationMonth</th>\n",
       "      <td>354369.0</td>\n",
       "      <td>NaN</td>\n",
       "      <td>NaN</td>\n",
       "      <td>NaN</td>\n",
       "      <td>5.714645</td>\n",
       "      <td>3.726421</td>\n",
       "      <td>0.0</td>\n",
       "      <td>3.0</td>\n",
       "      <td>6.0</td>\n",
       "      <td>9.0</td>\n",
       "      <td>12.0</td>\n",
       "    </tr>\n",
       "    <tr>\n",
       "      <th>FuelType</th>\n",
       "      <td>321474</td>\n",
       "      <td>7</td>\n",
       "      <td>petrol</td>\n",
       "      <td>216352</td>\n",
       "      <td>NaN</td>\n",
       "      <td>NaN</td>\n",
       "      <td>NaN</td>\n",
       "      <td>NaN</td>\n",
       "      <td>NaN</td>\n",
       "      <td>NaN</td>\n",
       "      <td>NaN</td>\n",
       "    </tr>\n",
       "    <tr>\n",
       "      <th>Brand</th>\n",
       "      <td>354369</td>\n",
       "      <td>40</td>\n",
       "      <td>volkswagen</td>\n",
       "      <td>77013</td>\n",
       "      <td>NaN</td>\n",
       "      <td>NaN</td>\n",
       "      <td>NaN</td>\n",
       "      <td>NaN</td>\n",
       "      <td>NaN</td>\n",
       "      <td>NaN</td>\n",
       "      <td>NaN</td>\n",
       "    </tr>\n",
       "    <tr>\n",
       "      <th>NotRepaired</th>\n",
       "      <td>283215</td>\n",
       "      <td>2</td>\n",
       "      <td>no</td>\n",
       "      <td>247161</td>\n",
       "      <td>NaN</td>\n",
       "      <td>NaN</td>\n",
       "      <td>NaN</td>\n",
       "      <td>NaN</td>\n",
       "      <td>NaN</td>\n",
       "      <td>NaN</td>\n",
       "      <td>NaN</td>\n",
       "    </tr>\n",
       "    <tr>\n",
       "      <th>DateCreated</th>\n",
       "      <td>354369</td>\n",
       "      <td>109</td>\n",
       "      <td>2016-04-03 00:00:00</td>\n",
       "      <td>13719</td>\n",
       "      <td>NaN</td>\n",
       "      <td>NaN</td>\n",
       "      <td>NaN</td>\n",
       "      <td>NaN</td>\n",
       "      <td>NaN</td>\n",
       "      <td>NaN</td>\n",
       "      <td>NaN</td>\n",
       "    </tr>\n",
       "    <tr>\n",
       "      <th>NumberOfPictures</th>\n",
       "      <td>354369.0</td>\n",
       "      <td>NaN</td>\n",
       "      <td>NaN</td>\n",
       "      <td>NaN</td>\n",
       "      <td>0.0</td>\n",
       "      <td>0.0</td>\n",
       "      <td>0.0</td>\n",
       "      <td>0.0</td>\n",
       "      <td>0.0</td>\n",
       "      <td>0.0</td>\n",
       "      <td>0.0</td>\n",
       "    </tr>\n",
       "    <tr>\n",
       "      <th>PostalCode</th>\n",
       "      <td>354369.0</td>\n",
       "      <td>NaN</td>\n",
       "      <td>NaN</td>\n",
       "      <td>NaN</td>\n",
       "      <td>50508.689087</td>\n",
       "      <td>25783.096248</td>\n",
       "      <td>1067.0</td>\n",
       "      <td>30165.0</td>\n",
       "      <td>49413.0</td>\n",
       "      <td>71083.0</td>\n",
       "      <td>99998.0</td>\n",
       "    </tr>\n",
       "    <tr>\n",
       "      <th>LastSeen</th>\n",
       "      <td>354369</td>\n",
       "      <td>179150</td>\n",
       "      <td>2016-04-06 13:45:54</td>\n",
       "      <td>17</td>\n",
       "      <td>NaN</td>\n",
       "      <td>NaN</td>\n",
       "      <td>NaN</td>\n",
       "      <td>NaN</td>\n",
       "      <td>NaN</td>\n",
       "      <td>NaN</td>\n",
       "      <td>NaN</td>\n",
       "    </tr>\n",
       "  </tbody>\n",
       "</table>\n",
       "</div>"
      ],
      "text/plain": [
       "                      count  unique                  top    freq  \\\n",
       "DateCrawled          354369  271174  2016-03-24 14:49:47       7   \n",
       "Price              354369.0     NaN                  NaN     NaN   \n",
       "VehicleType          316879       8                sedan   91457   \n",
       "RegistrationYear   354369.0     NaN                  NaN     NaN   \n",
       "Gearbox              334536       2               manual  268251   \n",
       "Power              354369.0     NaN                  NaN     NaN   \n",
       "Model                334664     250                 golf   29232   \n",
       "Kilometer          354369.0     NaN                  NaN     NaN   \n",
       "RegistrationMonth  354369.0     NaN                  NaN     NaN   \n",
       "FuelType             321474       7               petrol  216352   \n",
       "Brand                354369      40           volkswagen   77013   \n",
       "NotRepaired          283215       2                   no  247161   \n",
       "DateCreated          354369     109  2016-04-03 00:00:00   13719   \n",
       "NumberOfPictures   354369.0     NaN                  NaN     NaN   \n",
       "PostalCode         354369.0     NaN                  NaN     NaN   \n",
       "LastSeen             354369  179150  2016-04-06 13:45:54      17   \n",
       "\n",
       "                            mean           std     min       25%       50%  \\\n",
       "DateCrawled                  NaN           NaN     NaN       NaN       NaN   \n",
       "Price                4416.656776   4514.158514     0.0    1050.0    2700.0   \n",
       "VehicleType                  NaN           NaN     NaN       NaN       NaN   \n",
       "RegistrationYear     2004.234448     90.227958  1000.0    1999.0    2003.0   \n",
       "Gearbox                      NaN           NaN     NaN       NaN       NaN   \n",
       "Power                 110.094337    189.850405     0.0      69.0     105.0   \n",
       "Model                        NaN           NaN     NaN       NaN       NaN   \n",
       "Kilometer          128211.172535   37905.34153  5000.0  125000.0  150000.0   \n",
       "RegistrationMonth       5.714645      3.726421     0.0       3.0       6.0   \n",
       "FuelType                     NaN           NaN     NaN       NaN       NaN   \n",
       "Brand                        NaN           NaN     NaN       NaN       NaN   \n",
       "NotRepaired                  NaN           NaN     NaN       NaN       NaN   \n",
       "DateCreated                  NaN           NaN     NaN       NaN       NaN   \n",
       "NumberOfPictures             0.0           0.0     0.0       0.0       0.0   \n",
       "PostalCode          50508.689087  25783.096248  1067.0   30165.0   49413.0   \n",
       "LastSeen                     NaN           NaN     NaN       NaN       NaN   \n",
       "\n",
       "                        75%       max  \n",
       "DateCrawled             NaN       NaN  \n",
       "Price                6400.0   20000.0  \n",
       "VehicleType             NaN       NaN  \n",
       "RegistrationYear     2008.0    9999.0  \n",
       "Gearbox                 NaN       NaN  \n",
       "Power                 143.0   20000.0  \n",
       "Model                   NaN       NaN  \n",
       "Kilometer          150000.0  150000.0  \n",
       "RegistrationMonth       9.0      12.0  \n",
       "FuelType                NaN       NaN  \n",
       "Brand                   NaN       NaN  \n",
       "NotRepaired             NaN       NaN  \n",
       "DateCreated             NaN       NaN  \n",
       "NumberOfPictures        0.0       0.0  \n",
       "PostalCode          71083.0   99998.0  \n",
       "LastSeen                NaN       NaN  "
      ]
     },
     "metadata": {},
     "output_type": "display_data"
    },
    {
     "data": {
      "text/html": [
       "<div>\n",
       "<style scoped>\n",
       "    .dataframe tbody tr th:only-of-type {\n",
       "        vertical-align: middle;\n",
       "    }\n",
       "\n",
       "    .dataframe tbody tr th {\n",
       "        vertical-align: top;\n",
       "    }\n",
       "\n",
       "    .dataframe thead th {\n",
       "        text-align: right;\n",
       "    }\n",
       "</style>\n",
       "<table border=\"1\" class=\"dataframe\">\n",
       "  <thead>\n",
       "    <tr style=\"text-align: right;\">\n",
       "      <th></th>\n",
       "      <th>DateCrawled</th>\n",
       "      <th>Price</th>\n",
       "      <th>VehicleType</th>\n",
       "      <th>RegistrationYear</th>\n",
       "      <th>Gearbox</th>\n",
       "      <th>Power</th>\n",
       "      <th>Model</th>\n",
       "      <th>Kilometer</th>\n",
       "      <th>RegistrationMonth</th>\n",
       "      <th>FuelType</th>\n",
       "      <th>Brand</th>\n",
       "      <th>NotRepaired</th>\n",
       "      <th>DateCreated</th>\n",
       "      <th>NumberOfPictures</th>\n",
       "      <th>PostalCode</th>\n",
       "      <th>LastSeen</th>\n",
       "    </tr>\n",
       "  </thead>\n",
       "  <tbody>\n",
       "    <tr>\n",
       "      <th>0</th>\n",
       "      <td>2016-03-24 11:52:17</td>\n",
       "      <td>480</td>\n",
       "      <td>NaN</td>\n",
       "      <td>1993</td>\n",
       "      <td>manual</td>\n",
       "      <td>0</td>\n",
       "      <td>golf</td>\n",
       "      <td>150000</td>\n",
       "      <td>0</td>\n",
       "      <td>petrol</td>\n",
       "      <td>volkswagen</td>\n",
       "      <td>NaN</td>\n",
       "      <td>2016-03-24 00:00:00</td>\n",
       "      <td>0</td>\n",
       "      <td>70435</td>\n",
       "      <td>2016-04-07 03:16:57</td>\n",
       "    </tr>\n",
       "    <tr>\n",
       "      <th>1</th>\n",
       "      <td>2016-03-24 10:58:45</td>\n",
       "      <td>18300</td>\n",
       "      <td>coupe</td>\n",
       "      <td>2011</td>\n",
       "      <td>manual</td>\n",
       "      <td>190</td>\n",
       "      <td>NaN</td>\n",
       "      <td>125000</td>\n",
       "      <td>5</td>\n",
       "      <td>gasoline</td>\n",
       "      <td>audi</td>\n",
       "      <td>yes</td>\n",
       "      <td>2016-03-24 00:00:00</td>\n",
       "      <td>0</td>\n",
       "      <td>66954</td>\n",
       "      <td>2016-04-07 01:46:50</td>\n",
       "    </tr>\n",
       "    <tr>\n",
       "      <th>2</th>\n",
       "      <td>2016-03-14 12:52:21</td>\n",
       "      <td>9800</td>\n",
       "      <td>suv</td>\n",
       "      <td>2004</td>\n",
       "      <td>auto</td>\n",
       "      <td>163</td>\n",
       "      <td>grand</td>\n",
       "      <td>125000</td>\n",
       "      <td>8</td>\n",
       "      <td>gasoline</td>\n",
       "      <td>jeep</td>\n",
       "      <td>NaN</td>\n",
       "      <td>2016-03-14 00:00:00</td>\n",
       "      <td>0</td>\n",
       "      <td>90480</td>\n",
       "      <td>2016-04-05 12:47:46</td>\n",
       "    </tr>\n",
       "    <tr>\n",
       "      <th>3</th>\n",
       "      <td>2016-03-17 16:54:04</td>\n",
       "      <td>1500</td>\n",
       "      <td>small</td>\n",
       "      <td>2001</td>\n",
       "      <td>manual</td>\n",
       "      <td>75</td>\n",
       "      <td>golf</td>\n",
       "      <td>150000</td>\n",
       "      <td>6</td>\n",
       "      <td>petrol</td>\n",
       "      <td>volkswagen</td>\n",
       "      <td>no</td>\n",
       "      <td>2016-03-17 00:00:00</td>\n",
       "      <td>0</td>\n",
       "      <td>91074</td>\n",
       "      <td>2016-03-17 17:40:17</td>\n",
       "    </tr>\n",
       "    <tr>\n",
       "      <th>4</th>\n",
       "      <td>2016-03-31 17:25:20</td>\n",
       "      <td>3600</td>\n",
       "      <td>small</td>\n",
       "      <td>2008</td>\n",
       "      <td>manual</td>\n",
       "      <td>69</td>\n",
       "      <td>fabia</td>\n",
       "      <td>90000</td>\n",
       "      <td>7</td>\n",
       "      <td>gasoline</td>\n",
       "      <td>skoda</td>\n",
       "      <td>no</td>\n",
       "      <td>2016-03-31 00:00:00</td>\n",
       "      <td>0</td>\n",
       "      <td>60437</td>\n",
       "      <td>2016-04-06 10:17:21</td>\n",
       "    </tr>\n",
       "  </tbody>\n",
       "</table>\n",
       "</div>"
      ],
      "text/plain": [
       "           DateCrawled  Price VehicleType  RegistrationYear Gearbox  Power  \\\n",
       "0  2016-03-24 11:52:17    480         NaN              1993  manual      0   \n",
       "1  2016-03-24 10:58:45  18300       coupe              2011  manual    190   \n",
       "2  2016-03-14 12:52:21   9800         suv              2004    auto    163   \n",
       "3  2016-03-17 16:54:04   1500       small              2001  manual     75   \n",
       "4  2016-03-31 17:25:20   3600       small              2008  manual     69   \n",
       "\n",
       "   Model  Kilometer  RegistrationMonth  FuelType       Brand NotRepaired  \\\n",
       "0   golf     150000                  0    petrol  volkswagen         NaN   \n",
       "1    NaN     125000                  5  gasoline        audi         yes   \n",
       "2  grand     125000                  8  gasoline        jeep         NaN   \n",
       "3   golf     150000                  6    petrol  volkswagen          no   \n",
       "4  fabia      90000                  7  gasoline       skoda          no   \n",
       "\n",
       "           DateCreated  NumberOfPictures  PostalCode             LastSeen  \n",
       "0  2016-03-24 00:00:00                 0       70435  2016-04-07 03:16:57  \n",
       "1  2016-03-24 00:00:00                 0       66954  2016-04-07 01:46:50  \n",
       "2  2016-03-14 00:00:00                 0       90480  2016-04-05 12:47:46  \n",
       "3  2016-03-17 00:00:00                 0       91074  2016-03-17 17:40:17  \n",
       "4  2016-03-31 00:00:00                 0       60437  2016-04-06 10:17:21  "
      ]
     },
     "metadata": {},
     "output_type": "display_data"
    },
    {
     "name": "stdout",
     "output_type": "stream",
     "text": [
      "Дубликатов в исходных данных:  4\n"
     ]
    }
   ],
   "source": [
    "df = df_read_csv('autos.csv')\n",
    "df_show_info(df)"
   ]
  },
  {
   "cell_type": "code",
   "execution_count": 4,
   "metadata": {},
   "outputs": [],
   "source": [
    "pandas_profiling.ProfileReport(df)"
   ]
  },
  {
   "cell_type": "markdown",
   "metadata": {},
   "source": [
    "Удалим полные дубликаты (у нас их всего 4) \n"
   ]
  },
  {
   "cell_type": "code",
   "execution_count": 5,
   "metadata": {},
   "outputs": [],
   "source": [
    "df = df.drop_duplicates()"
   ]
  },
  {
   "cell_type": "markdown",
   "metadata": {},
   "source": [
    "Проанализируем колонки c датами"
   ]
  },
  {
   "cell_type": "code",
   "execution_count": 6,
   "metadata": {},
   "outputs": [
    {
     "name": "stdout",
     "output_type": "stream",
     "text": [
      "Анкеты загружены из базы в период с  2016-03-05 14:06:22 по 2016-04-07 14:36:58\n",
      "Анкеты созданы в период с  2014-03-10 00:00:00 по 2016-04-07 00:00:00\n",
      "Активность пользователей в период с  2016-03-05 14:15:08 по 2016-04-07 14:58:51\n",
      "Автомобили зарегистрированы в период с  1000 по 9999\n"
     ]
    }
   ],
   "source": [
    "print('Анкеты загружены из базы в период с ', df['DateCrawled'].min(), 'по', df['DateCrawled'].max())\n",
    "print('Анкеты созданы в период с ', df['DateCreated'].min(), 'по', df['DateCreated'].max())\n",
    "print('Активность пользователей в период с ', df['LastSeen'].min(), 'по', df['LastSeen'].max())\n",
    "print('Автомобили зарегистрированы в период с ', df['RegistrationYear'].min(), 'по', df['RegistrationYear'].max())"
   ]
  },
  {
   "cell_type": "markdown",
   "metadata": {},
   "source": [
    "Как мы видим, данные в колонках DateCrawled, DateCreated, LastSeen соответствуют друг другу, при этом в колонке RegistrationYear явно присутствуют некорректные данные.\n",
    "Год регистрации не может быть больше 2016 (крайний год создания анкет и активности пользователей). Также год регистрации не может быть менее 1886 (год постройки первого автомобиля с ДВС).  \n",
    "Удалим строки с некорректными данными"
   ]
  },
  {
   "cell_type": "code",
   "execution_count": 7,
   "metadata": {},
   "outputs": [],
   "source": [
    "df = df[(df['RegistrationYear']>=1886) & (df['RegistrationYear']<=2016)]"
   ]
  },
  {
   "cell_type": "markdown",
   "metadata": {},
   "source": [
    "В колонке Price пропусков нет, но есть строки с нулевой ценой. Исходя из данных profiler, таких строк у нас 10772. Данные строки нужно удалить, т.к. объекты с некорректно заполненным целевым признаком нельзя использовать для обучения"
   ]
  },
  {
   "cell_type": "code",
   "execution_count": 8,
   "metadata": {},
   "outputs": [],
   "source": [
    "df = df[df['Price']>0]"
   ]
  },
  {
   "cell_type": "markdown",
   "metadata": {},
   "source": [
    "В колонке Model исходя из данных profiler 19702 пропуска. Модель автомобиля - один из основных факторов, влияющих на стоимость, восстановить модель по имеющимся данным возможности нет, поэтому удалим строки с пропусками в данной колонке."
   ]
  },
  {
   "cell_type": "code",
   "execution_count": 9,
   "metadata": {},
   "outputs": [],
   "source": [
    "df = df.loc[df['Model'].notna()]"
   ]
  },
  {
   "cell_type": "markdown",
   "metadata": {},
   "source": [
    "Также нам нужно обработать колонку Power, в которой есть некорректные значения. Мощность более 1000 л.с. вызывает сомнение"
   ]
  },
  {
   "cell_type": "code",
   "execution_count": 10,
   "metadata": {},
   "outputs": [
    {
     "data": {
      "text/plain": [
       "234"
      ]
     },
     "execution_count": 10,
     "metadata": {},
     "output_type": "execute_result"
    }
   ],
   "source": [
    "df[df['Power']>1000].shape[0]"
   ]
  },
  {
   "cell_type": "markdown",
   "metadata": {},
   "source": [
    "Таких автомобилей всего 234, можно их удалить"
   ]
  },
  {
   "cell_type": "code",
   "execution_count": 11,
   "metadata": {},
   "outputs": [],
   "source": [
    "df = df[df['Power']<=1000]"
   ]
  },
  {
   "cell_type": "markdown",
   "metadata": {},
   "source": [
    "Удалим неинформативные признаки"
   ]
  },
  {
   "cell_type": "code",
   "execution_count": 12,
   "metadata": {},
   "outputs": [],
   "source": [
    "df = df.drop(['DateCrawled','DateCreated','LastSeen','NumberOfPictures','PostalCode'], axis=1)"
   ]
  },
  {
   "cell_type": "markdown",
   "metadata": {},
   "source": [
    "Посмотрим текущее состояние датасета:"
   ]
  },
  {
   "cell_type": "code",
   "execution_count": 13,
   "metadata": {
    "scrolled": false
   },
   "outputs": [
    {
     "name": "stdout",
     "output_type": "stream",
     "text": [
      "<class 'pandas.core.frame.DataFrame'>\n",
      "Int64Index: 313890 entries, 0 to 354368\n",
      "Data columns (total 11 columns):\n",
      " #   Column             Non-Null Count   Dtype \n",
      "---  ------             --------------   ----- \n",
      " 0   Price              313890 non-null  int64 \n",
      " 1   VehicleType        297669 non-null  object\n",
      " 2   RegistrationYear   313890 non-null  int64 \n",
      " 3   Gearbox            301010 non-null  object\n",
      " 4   Power              313890 non-null  int64 \n",
      " 5   Model              313890 non-null  object\n",
      " 6   Kilometer          313890 non-null  int64 \n",
      " 7   RegistrationMonth  313890 non-null  int64 \n",
      " 8   FuelType           294684 non-null  object\n",
      " 9   Brand              313890 non-null  object\n",
      " 10  NotRepaired        260789 non-null  object\n",
      "dtypes: int64(5), object(6)\n",
      "memory usage: 28.7+ MB\n"
     ]
    }
   ],
   "source": [
    "df.info()"
   ]
  },
  {
   "cell_type": "markdown",
   "metadata": {},
   "source": [
    "У нас остались пропуски в колонках VehicleType, Gearbox, FuelType, NotRepaired.\n",
    "Пропуски в VehicleType заполним на основании модели автомобиля. \n",
    "Пропуски в остальных колонках по модели заполнить не получится (т.к. одна и та же модель может иметь разные типы топлива и коробки передач), информацию о ремонтах также восстановить не получится, поэтому пропуски заполним маркером 'unknown'\n"
   ]
  },
  {
   "cell_type": "code",
   "execution_count": 14,
   "metadata": {},
   "outputs": [],
   "source": [
    "df['Gearbox'] = df['Gearbox'].fillna('unknown')\n",
    "df['FuelType'] = df['FuelType'].fillna('unknown')\n",
    "df['NotRepaired'] = df['NotRepaired'].fillna('unknown')"
   ]
  },
  {
   "cell_type": "code",
   "execution_count": 15,
   "metadata": {},
   "outputs": [],
   "source": [
    "df['VehicleType'] = df['Gearbox'].fillna(df.groupby('Model')['VehicleType'].transform(lambda x: x.value_counts().index[0]))"
   ]
  },
  {
   "cell_type": "code",
   "execution_count": 16,
   "metadata": {},
   "outputs": [
    {
     "name": "stdout",
     "output_type": "stream",
     "text": [
      "<class 'pandas.core.frame.DataFrame'>\n",
      "Int64Index: 313890 entries, 0 to 354368\n",
      "Data columns (total 11 columns):\n",
      " #   Column             Non-Null Count   Dtype \n",
      "---  ------             --------------   ----- \n",
      " 0   Price              313890 non-null  int64 \n",
      " 1   VehicleType        313890 non-null  object\n",
      " 2   RegistrationYear   313890 non-null  int64 \n",
      " 3   Gearbox            313890 non-null  object\n",
      " 4   Power              313890 non-null  int64 \n",
      " 5   Model              313890 non-null  object\n",
      " 6   Kilometer          313890 non-null  int64 \n",
      " 7   RegistrationMonth  313890 non-null  int64 \n",
      " 8   FuelType           313890 non-null  object\n",
      " 9   Brand              313890 non-null  object\n",
      " 10  NotRepaired        313890 non-null  object\n",
      "dtypes: int64(5), object(6)\n",
      "memory usage: 28.7+ MB\n"
     ]
    }
   ],
   "source": [
    "df.info()"
   ]
  },
  {
   "cell_type": "markdown",
   "metadata": {},
   "source": [
    "### Подготовка данных для обучения моделей"
   ]
  },
  {
   "cell_type": "markdown",
   "metadata": {},
   "source": [
    "Для линейной регрессии требуется предварительное кодирование категориальных признаков и масштабирование числовых признаков. LGBM и CATBoost такой обработки не требуют. Поэтому подготовим различные выборки для обучения данных моделей."
   ]
  },
  {
   "cell_type": "code",
   "execution_count": 17,
   "metadata": {},
   "outputs": [],
   "source": [
    "numeric_col = ['RegistrationYear', 'Power', 'Kilometer', 'RegistrationMonth']\n",
    "categorical_col = ['VehicleType', 'Gearbox', 'Model', 'FuelType', 'Brand', 'NotRepaired']\n",
    "target_col = ['Price']\n",
    "rnd_state=42\n",
    "test_size=0.2"
   ]
  },
  {
   "cell_type": "code",
   "execution_count": 18,
   "metadata": {},
   "outputs": [
    {
     "name": "stdout",
     "output_type": "stream",
     "text": [
      "<class 'pandas.core.frame.DataFrame'>\n",
      "Int64Index: 313890 entries, 0 to 354368\n",
      "Data columns (total 10 columns):\n",
      " #   Column             Non-Null Count   Dtype   \n",
      "---  ------             --------------   -----   \n",
      " 0   VehicleType        313890 non-null  category\n",
      " 1   RegistrationYear   313890 non-null  int64   \n",
      " 2   Gearbox            313890 non-null  category\n",
      " 3   Power              313890 non-null  int64   \n",
      " 4   Model              313890 non-null  category\n",
      " 5   Kilometer          313890 non-null  int64   \n",
      " 6   RegistrationMonth  313890 non-null  int64   \n",
      " 7   FuelType           313890 non-null  category\n",
      " 8   Brand              313890 non-null  category\n",
      " 9   NotRepaired        313890 non-null  category\n",
      "dtypes: category(6), int64(4)\n",
      "memory usage: 14.1 MB\n"
     ]
    }
   ],
   "source": [
    "features = df.drop(target_col, axis=1)\n",
    "target = df[target_col]\n",
    "\n",
    "for col in categorical_col:\n",
    "    features[col] = features[col].astype('category')\n",
    "    \n",
    "features.info()"
   ]
  },
  {
   "cell_type": "code",
   "execution_count": 19,
   "metadata": {},
   "outputs": [],
   "source": [
    "df_lr = pd.get_dummies(df, drop_first=True)\n",
    "df_lr.head()\n",
    "features_lr = df_lr.drop(target_col, axis=1)\n",
    "target_lr = df_lr[target_col]"
   ]
  },
  {
   "cell_type": "code",
   "execution_count": 20,
   "metadata": {},
   "outputs": [
    {
     "name": "stdout",
     "output_type": "stream",
     "text": [
      "Выполнено разбиение (для линейной регрессии):\n",
      "Размер обучающей выборки = 251112\n",
      "Размер тестовой выборки = 62778\n"
     ]
    }
   ],
   "source": [
    "features_train_lr, features_test_lr, target_train_lr, target_test_lr = train_test_split(\n",
    "    features_lr, target_lr, test_size=test_size, random_state=rnd_state)\n",
    "print('Выполнено разбиение (для линейной регрессии):') \n",
    "print('Размер обучающей выборки =', len(target_train_lr))\n",
    "print('Размер тестовой выборки =', len(target_test_lr))"
   ]
  },
  {
   "cell_type": "code",
   "execution_count": 21,
   "metadata": {},
   "outputs": [
    {
     "name": "stderr",
     "output_type": "stream",
     "text": [
      "C:\\ProgramData\\Anaconda3\\lib\\site-packages\\pandas\\core\\indexing.py:1835: SettingWithCopyWarning: \n",
      "A value is trying to be set on a copy of a slice from a DataFrame.\n",
      "Try using .loc[row_indexer,col_indexer] = value instead\n",
      "\n",
      "See the caveats in the documentation: https://pandas.pydata.org/pandas-docs/stable/user_guide/indexing.html#returning-a-view-versus-a-copy\n",
      "  self._setitem_single_column(loc, value[:, i].tolist(), pi)\n",
      "C:\\ProgramData\\Anaconda3\\lib\\site-packages\\pandas\\core\\indexing.py:1835: SettingWithCopyWarning: \n",
      "A value is trying to be set on a copy of a slice from a DataFrame.\n",
      "Try using .loc[row_indexer,col_indexer] = value instead\n",
      "\n",
      "See the caveats in the documentation: https://pandas.pydata.org/pandas-docs/stable/user_guide/indexing.html#returning-a-view-versus-a-copy\n",
      "  self._setitem_single_column(loc, value[:, i].tolist(), pi)\n"
     ]
    }
   ],
   "source": [
    "scaler = StandardScaler()\n",
    "scaler.fit(features_train_lr[numeric_col])\n",
    "features_train_lr.loc[:,numeric_col] = scaler.transform(features_train_lr[numeric_col])\n",
    "features_test_lr.loc[:,numeric_col] = scaler.transform(features_test_lr[numeric_col])"
   ]
  },
  {
   "cell_type": "code",
   "execution_count": 22,
   "metadata": {},
   "outputs": [
    {
     "name": "stdout",
     "output_type": "stream",
     "text": [
      "Выполнено разбиение для моделей градиентного бустинга:\n",
      "Размер обучающей выборки = 251112\n",
      "Размер тестовой выборки = 62778\n"
     ]
    }
   ],
   "source": [
    "features_train, features_test, target_train, target_test = train_test_split(\n",
    "    features, target, test_size=test_size, random_state=rnd_state)\n",
    "print('Выполнено разбиение для моделей градиентного бустинга:') \n",
    "print('Размер обучающей выборки =', len(target_train))\n",
    "print('Размер тестовой выборки =', len(target_test))"
   ]
  },
  {
   "cell_type": "code",
   "execution_count": 23,
   "metadata": {
    "scrolled": true
   },
   "outputs": [
    {
     "data": {
      "text/html": [
       "<div>\n",
       "<style scoped>\n",
       "    .dataframe tbody tr th:only-of-type {\n",
       "        vertical-align: middle;\n",
       "    }\n",
       "\n",
       "    .dataframe tbody tr th {\n",
       "        vertical-align: top;\n",
       "    }\n",
       "\n",
       "    .dataframe thead th {\n",
       "        text-align: right;\n",
       "    }\n",
       "</style>\n",
       "<table border=\"1\" class=\"dataframe\">\n",
       "  <thead>\n",
       "    <tr style=\"text-align: right;\">\n",
       "      <th></th>\n",
       "      <th>RegistrationYear</th>\n",
       "      <th>Power</th>\n",
       "      <th>Kilometer</th>\n",
       "      <th>RegistrationMonth</th>\n",
       "      <th>VehicleType_manual</th>\n",
       "      <th>VehicleType_unknown</th>\n",
       "      <th>Gearbox_manual</th>\n",
       "      <th>Gearbox_unknown</th>\n",
       "      <th>Model_145</th>\n",
       "      <th>Model_147</th>\n",
       "      <th>Model_156</th>\n",
       "      <th>Model_159</th>\n",
       "      <th>Model_1_reihe</th>\n",
       "      <th>Model_1er</th>\n",
       "      <th>Model_200</th>\n",
       "      <th>Model_2_reihe</th>\n",
       "      <th>Model_300c</th>\n",
       "      <th>Model_3_reihe</th>\n",
       "      <th>Model_3er</th>\n",
       "      <th>Model_4_reihe</th>\n",
       "      <th>Model_500</th>\n",
       "      <th>Model_5_reihe</th>\n",
       "      <th>Model_5er</th>\n",
       "      <th>Model_601</th>\n",
       "      <th>Model_6_reihe</th>\n",
       "      <th>Model_6er</th>\n",
       "      <th>Model_7er</th>\n",
       "      <th>Model_80</th>\n",
       "      <th>Model_850</th>\n",
       "      <th>Model_90</th>\n",
       "      <th>Model_900</th>\n",
       "      <th>Model_9000</th>\n",
       "      <th>Model_911</th>\n",
       "      <th>Model_a1</th>\n",
       "      <th>Model_a2</th>\n",
       "      <th>Model_a3</th>\n",
       "      <th>Model_a4</th>\n",
       "      <th>Model_a5</th>\n",
       "      <th>Model_a6</th>\n",
       "      <th>Model_a8</th>\n",
       "      <th>Model_a_klasse</th>\n",
       "      <th>Model_accord</th>\n",
       "      <th>Model_agila</th>\n",
       "      <th>Model_alhambra</th>\n",
       "      <th>Model_almera</th>\n",
       "      <th>Model_altea</th>\n",
       "      <th>Model_amarok</th>\n",
       "      <th>Model_antara</th>\n",
       "      <th>Model_arosa</th>\n",
       "      <th>Model_astra</th>\n",
       "      <th>Model_auris</th>\n",
       "      <th>Model_avensis</th>\n",
       "      <th>Model_aveo</th>\n",
       "      <th>Model_aygo</th>\n",
       "      <th>Model_b_klasse</th>\n",
       "      <th>Model_b_max</th>\n",
       "      <th>Model_beetle</th>\n",
       "      <th>Model_berlingo</th>\n",
       "      <th>Model_bora</th>\n",
       "      <th>Model_boxster</th>\n",
       "      <th>Model_bravo</th>\n",
       "      <th>Model_c1</th>\n",
       "      <th>Model_c2</th>\n",
       "      <th>Model_c3</th>\n",
       "      <th>Model_c4</th>\n",
       "      <th>Model_c5</th>\n",
       "      <th>Model_c_klasse</th>\n",
       "      <th>Model_c_max</th>\n",
       "      <th>Model_c_reihe</th>\n",
       "      <th>Model_caddy</th>\n",
       "      <th>Model_calibra</th>\n",
       "      <th>Model_captiva</th>\n",
       "      <th>Model_carisma</th>\n",
       "      <th>Model_carnival</th>\n",
       "      <th>Model_cayenne</th>\n",
       "      <th>Model_cc</th>\n",
       "      <th>Model_ceed</th>\n",
       "      <th>Model_charade</th>\n",
       "      <th>Model_cherokee</th>\n",
       "      <th>Model_citigo</th>\n",
       "      <th>Model_civic</th>\n",
       "      <th>Model_cl</th>\n",
       "      <th>Model_clio</th>\n",
       "      <th>Model_clk</th>\n",
       "      <th>Model_clubman</th>\n",
       "      <th>Model_colt</th>\n",
       "      <th>Model_combo</th>\n",
       "      <th>Model_cooper</th>\n",
       "      <th>Model_cordoba</th>\n",
       "      <th>Model_corolla</th>\n",
       "      <th>Model_corsa</th>\n",
       "      <th>Model_cr_reihe</th>\n",
       "      <th>Model_croma</th>\n",
       "      <th>Model_crossfire</th>\n",
       "      <th>Model_cuore</th>\n",
       "      <th>Model_cx_reihe</th>\n",
       "      <th>Model_defender</th>\n",
       "      <th>Model_delta</th>\n",
       "      <th>Model_discovery</th>\n",
       "      <th>Model_doblo</th>\n",
       "      <th>Model_ducato</th>\n",
       "      <th>Model_duster</th>\n",
       "      <th>Model_e_klasse</th>\n",
       "      <th>Model_elefantino</th>\n",
       "      <th>Model_eos</th>\n",
       "      <th>Model_escort</th>\n",
       "      <th>Model_espace</th>\n",
       "      <th>Model_exeo</th>\n",
       "      <th>Model_fabia</th>\n",
       "      <th>Model_fiesta</th>\n",
       "      <th>Model_focus</th>\n",
       "      <th>Model_forester</th>\n",
       "      <th>Model_forfour</th>\n",
       "      <th>Model_fortwo</th>\n",
       "      <th>Model_fox</th>\n",
       "      <th>Model_freelander</th>\n",
       "      <th>Model_fusion</th>\n",
       "      <th>Model_g_klasse</th>\n",
       "      <th>Model_galant</th>\n",
       "      <th>Model_galaxy</th>\n",
       "      <th>Model_getz</th>\n",
       "      <th>Model_gl</th>\n",
       "      <th>Model_glk</th>\n",
       "      <th>Model_golf</th>\n",
       "      <th>Model_grand</th>\n",
       "      <th>Model_i3</th>\n",
       "      <th>Model_i_reihe</th>\n",
       "      <th>Model_ibiza</th>\n",
       "      <th>Model_impreza</th>\n",
       "      <th>Model_insignia</th>\n",
       "      <th>Model_jazz</th>\n",
       "      <th>Model_jetta</th>\n",
       "      <th>Model_jimny</th>\n",
       "      <th>Model_juke</th>\n",
       "      <th>Model_justy</th>\n",
       "      <th>Model_ka</th>\n",
       "      <th>Model_kadett</th>\n",
       "      <th>Model_kaefer</th>\n",
       "      <th>Model_kalina</th>\n",
       "      <th>Model_kalos</th>\n",
       "      <th>Model_kangoo</th>\n",
       "      <th>Model_kappa</th>\n",
       "      <th>Model_kuga</th>\n",
       "      <th>Model_laguna</th>\n",
       "      <th>Model_lancer</th>\n",
       "      <th>Model_lanos</th>\n",
       "      <th>Model_legacy</th>\n",
       "      <th>Model_leon</th>\n",
       "      <th>Model_lodgy</th>\n",
       "      <th>Model_logan</th>\n",
       "      <th>Model_lupo</th>\n",
       "      <th>Model_lybra</th>\n",
       "      <th>Model_m_klasse</th>\n",
       "      <th>Model_m_reihe</th>\n",
       "      <th>Model_materia</th>\n",
       "      <th>Model_matiz</th>\n",
       "      <th>Model_megane</th>\n",
       "      <th>Model_meriva</th>\n",
       "      <th>Model_micra</th>\n",
       "      <th>Model_mii</th>\n",
       "      <th>Model_modus</th>\n",
       "      <th>Model_mondeo</th>\n",
       "      <th>Model_move</th>\n",
       "      <th>Model_musa</th>\n",
       "      <th>Model_mustang</th>\n",
       "      <th>Model_mx_reihe</th>\n",
       "      <th>Model_navara</th>\n",
       "      <th>Model_niva</th>\n",
       "      <th>Model_note</th>\n",
       "      <th>Model_nubira</th>\n",
       "      <th>Model_octavia</th>\n",
       "      <th>Model_omega</th>\n",
       "      <th>Model_one</th>\n",
       "      <th>Model_other</th>\n",
       "      <th>Model_outlander</th>\n",
       "      <th>Model_pajero</th>\n",
       "      <th>Model_panda</th>\n",
       "      <th>Model_passat</th>\n",
       "      <th>Model_phaeton</th>\n",
       "      <th>Model_picanto</th>\n",
       "      <th>Model_polo</th>\n",
       "      <th>Model_primera</th>\n",
       "      <th>Model_ptcruiser</th>\n",
       "      <th>Model_punto</th>\n",
       "      <th>Model_q3</th>\n",
       "      <th>Model_q5</th>\n",
       "      <th>Model_q7</th>\n",
       "      <th>Model_qashqai</th>\n",
       "      <th>Model_r19</th>\n",
       "      <th>Model_range_rover</th>\n",
       "      <th>Model_range_rover_evoque</th>\n",
       "      <th>Model_range_rover_sport</th>\n",
       "      <th>Model_rangerover</th>\n",
       "      <th>Model_rav</th>\n",
       "      <th>Model_rio</th>\n",
       "      <th>Model_roadster</th>\n",
       "      <th>Model_roomster</th>\n",
       "      <th>Model_rx_reihe</th>\n",
       "      <th>Model_s60</th>\n",
       "      <th>Model_s_klasse</th>\n",
       "      <th>Model_s_max</th>\n",
       "      <th>Model_s_type</th>\n",
       "      <th>Model_samara</th>\n",
       "      <th>Model_sandero</th>\n",
       "      <th>Model_santa</th>\n",
       "      <th>Model_scenic</th>\n",
       "      <th>Model_scirocco</th>\n",
       "      <th>Model_seicento</th>\n",
       "      <th>Model_serie_1</th>\n",
       "      <th>Model_serie_2</th>\n",
       "      <th>Model_serie_3</th>\n",
       "      <th>Model_sharan</th>\n",
       "      <th>Model_signum</th>\n",
       "      <th>Model_sirion</th>\n",
       "      <th>Model_sl</th>\n",
       "      <th>Model_slk</th>\n",
       "      <th>Model_sorento</th>\n",
       "      <th>Model_spark</th>\n",
       "      <th>Model_spider</th>\n",
       "      <th>Model_sportage</th>\n",
       "      <th>Model_sprinter</th>\n",
       "      <th>Model_stilo</th>\n",
       "      <th>Model_superb</th>\n",
       "      <th>Model_swift</th>\n",
       "      <th>Model_terios</th>\n",
       "      <th>Model_tigra</th>\n",
       "      <th>Model_tiguan</th>\n",
       "      <th>Model_toledo</th>\n",
       "      <th>Model_touareg</th>\n",
       "      <th>Model_touran</th>\n",
       "      <th>Model_transit</th>\n",
       "      <th>Model_transporter</th>\n",
       "      <th>Model_tt</th>\n",
       "      <th>Model_tucson</th>\n",
       "      <th>Model_twingo</th>\n",
       "      <th>Model_up</th>\n",
       "      <th>Model_v40</th>\n",
       "      <th>Model_v50</th>\n",
       "      <th>Model_v60</th>\n",
       "      <th>Model_v70</th>\n",
       "      <th>Model_v_klasse</th>\n",
       "      <th>Model_vectra</th>\n",
       "      <th>Model_verso</th>\n",
       "      <th>Model_viano</th>\n",
       "      <th>Model_vito</th>\n",
       "      <th>Model_vivaro</th>\n",
       "      <th>Model_voyager</th>\n",
       "      <th>Model_wrangler</th>\n",
       "      <th>Model_x_reihe</th>\n",
       "      <th>Model_x_trail</th>\n",
       "      <th>Model_x_type</th>\n",
       "      <th>Model_xc_reihe</th>\n",
       "      <th>Model_yaris</th>\n",
       "      <th>Model_yeti</th>\n",
       "      <th>Model_ypsilon</th>\n",
       "      <th>Model_z_reihe</th>\n",
       "      <th>Model_zafira</th>\n",
       "      <th>FuelType_electric</th>\n",
       "      <th>FuelType_gasoline</th>\n",
       "      <th>FuelType_hybrid</th>\n",
       "      <th>FuelType_lpg</th>\n",
       "      <th>FuelType_other</th>\n",
       "      <th>FuelType_petrol</th>\n",
       "      <th>FuelType_unknown</th>\n",
       "      <th>Brand_audi</th>\n",
       "      <th>Brand_bmw</th>\n",
       "      <th>Brand_chevrolet</th>\n",
       "      <th>Brand_chrysler</th>\n",
       "      <th>Brand_citroen</th>\n",
       "      <th>Brand_dacia</th>\n",
       "      <th>Brand_daewoo</th>\n",
       "      <th>Brand_daihatsu</th>\n",
       "      <th>Brand_fiat</th>\n",
       "      <th>Brand_ford</th>\n",
       "      <th>Brand_honda</th>\n",
       "      <th>Brand_hyundai</th>\n",
       "      <th>Brand_jaguar</th>\n",
       "      <th>Brand_jeep</th>\n",
       "      <th>Brand_kia</th>\n",
       "      <th>Brand_lada</th>\n",
       "      <th>Brand_lancia</th>\n",
       "      <th>Brand_land_rover</th>\n",
       "      <th>Brand_mazda</th>\n",
       "      <th>Brand_mercedes_benz</th>\n",
       "      <th>Brand_mini</th>\n",
       "      <th>Brand_mitsubishi</th>\n",
       "      <th>Brand_nissan</th>\n",
       "      <th>Brand_opel</th>\n",
       "      <th>Brand_peugeot</th>\n",
       "      <th>Brand_porsche</th>\n",
       "      <th>Brand_renault</th>\n",
       "      <th>Brand_rover</th>\n",
       "      <th>Brand_saab</th>\n",
       "      <th>Brand_seat</th>\n",
       "      <th>Brand_skoda</th>\n",
       "      <th>Brand_smart</th>\n",
       "      <th>Brand_subaru</th>\n",
       "      <th>Brand_suzuki</th>\n",
       "      <th>Brand_toyota</th>\n",
       "      <th>Brand_trabant</th>\n",
       "      <th>Brand_volkswagen</th>\n",
       "      <th>Brand_volvo</th>\n",
       "      <th>NotRepaired_unknown</th>\n",
       "      <th>NotRepaired_yes</th>\n",
       "    </tr>\n",
       "  </thead>\n",
       "  <tbody>\n",
       "    <tr>\n",
       "      <th>160544</th>\n",
       "      <td>1.998701</td>\n",
       "      <td>-0.847348</td>\n",
       "      <td>0.582094</td>\n",
       "      <td>1.400382</td>\n",
       "      <td>1</td>\n",
       "      <td>0</td>\n",
       "      <td>1</td>\n",
       "      <td>0</td>\n",
       "      <td>0</td>\n",
       "      <td>0</td>\n",
       "      <td>0</td>\n",
       "      <td>0</td>\n",
       "      <td>0</td>\n",
       "      <td>0</td>\n",
       "      <td>0</td>\n",
       "      <td>0</td>\n",
       "      <td>0</td>\n",
       "      <td>0</td>\n",
       "      <td>0</td>\n",
       "      <td>0</td>\n",
       "      <td>0</td>\n",
       "      <td>0</td>\n",
       "      <td>0</td>\n",
       "      <td>0</td>\n",
       "      <td>0</td>\n",
       "      <td>0</td>\n",
       "      <td>0</td>\n",
       "      <td>0</td>\n",
       "      <td>0</td>\n",
       "      <td>0</td>\n",
       "      <td>0</td>\n",
       "      <td>0</td>\n",
       "      <td>0</td>\n",
       "      <td>0</td>\n",
       "      <td>0</td>\n",
       "      <td>0</td>\n",
       "      <td>0</td>\n",
       "      <td>0</td>\n",
       "      <td>0</td>\n",
       "      <td>0</td>\n",
       "      <td>0</td>\n",
       "      <td>0</td>\n",
       "      <td>0</td>\n",
       "      <td>0</td>\n",
       "      <td>0</td>\n",
       "      <td>0</td>\n",
       "      <td>0</td>\n",
       "      <td>0</td>\n",
       "      <td>0</td>\n",
       "      <td>0</td>\n",
       "      <td>0</td>\n",
       "      <td>0</td>\n",
       "      <td>0</td>\n",
       "      <td>0</td>\n",
       "      <td>0</td>\n",
       "      <td>0</td>\n",
       "      <td>0</td>\n",
       "      <td>0</td>\n",
       "      <td>0</td>\n",
       "      <td>0</td>\n",
       "      <td>0</td>\n",
       "      <td>0</td>\n",
       "      <td>0</td>\n",
       "      <td>0</td>\n",
       "      <td>0</td>\n",
       "      <td>0</td>\n",
       "      <td>0</td>\n",
       "      <td>0</td>\n",
       "      <td>0</td>\n",
       "      <td>0</td>\n",
       "      <td>0</td>\n",
       "      <td>0</td>\n",
       "      <td>0</td>\n",
       "      <td>0</td>\n",
       "      <td>0</td>\n",
       "      <td>0</td>\n",
       "      <td>0</td>\n",
       "      <td>0</td>\n",
       "      <td>0</td>\n",
       "      <td>0</td>\n",
       "      <td>0</td>\n",
       "      <td>0</td>\n",
       "      <td>0</td>\n",
       "      <td>0</td>\n",
       "      <td>0</td>\n",
       "      <td>0</td>\n",
       "      <td>0</td>\n",
       "      <td>0</td>\n",
       "      <td>0</td>\n",
       "      <td>0</td>\n",
       "      <td>0</td>\n",
       "      <td>0</td>\n",
       "      <td>0</td>\n",
       "      <td>0</td>\n",
       "      <td>0</td>\n",
       "      <td>0</td>\n",
       "      <td>0</td>\n",
       "      <td>0</td>\n",
       "      <td>0</td>\n",
       "      <td>0</td>\n",
       "      <td>0</td>\n",
       "      <td>0</td>\n",
       "      <td>0</td>\n",
       "      <td>0</td>\n",
       "      <td>0</td>\n",
       "      <td>0</td>\n",
       "      <td>0</td>\n",
       "      <td>0</td>\n",
       "      <td>0</td>\n",
       "      <td>0</td>\n",
       "      <td>0</td>\n",
       "      <td>0</td>\n",
       "      <td>0</td>\n",
       "      <td>0</td>\n",
       "      <td>0</td>\n",
       "      <td>0</td>\n",
       "      <td>0</td>\n",
       "      <td>0</td>\n",
       "      <td>0</td>\n",
       "      <td>0</td>\n",
       "      <td>0</td>\n",
       "      <td>0</td>\n",
       "      <td>0</td>\n",
       "      <td>0</td>\n",
       "      <td>0</td>\n",
       "      <td>0</td>\n",
       "      <td>0</td>\n",
       "      <td>0</td>\n",
       "      <td>0</td>\n",
       "      <td>0</td>\n",
       "      <td>0</td>\n",
       "      <td>0</td>\n",
       "      <td>0</td>\n",
       "      <td>0</td>\n",
       "      <td>0</td>\n",
       "      <td>0</td>\n",
       "      <td>0</td>\n",
       "      <td>0</td>\n",
       "      <td>0</td>\n",
       "      <td>0</td>\n",
       "      <td>0</td>\n",
       "      <td>0</td>\n",
       "      <td>0</td>\n",
       "      <td>0</td>\n",
       "      <td>0</td>\n",
       "      <td>0</td>\n",
       "      <td>0</td>\n",
       "      <td>0</td>\n",
       "      <td>0</td>\n",
       "      <td>0</td>\n",
       "      <td>0</td>\n",
       "      <td>0</td>\n",
       "      <td>0</td>\n",
       "      <td>0</td>\n",
       "      <td>0</td>\n",
       "      <td>0</td>\n",
       "      <td>0</td>\n",
       "      <td>0</td>\n",
       "      <td>0</td>\n",
       "      <td>0</td>\n",
       "      <td>0</td>\n",
       "      <td>0</td>\n",
       "      <td>0</td>\n",
       "      <td>0</td>\n",
       "      <td>0</td>\n",
       "      <td>0</td>\n",
       "      <td>0</td>\n",
       "      <td>0</td>\n",
       "      <td>0</td>\n",
       "      <td>0</td>\n",
       "      <td>0</td>\n",
       "      <td>0</td>\n",
       "      <td>0</td>\n",
       "      <td>0</td>\n",
       "      <td>0</td>\n",
       "      <td>0</td>\n",
       "      <td>0</td>\n",
       "      <td>0</td>\n",
       "      <td>0</td>\n",
       "      <td>0</td>\n",
       "      <td>0</td>\n",
       "      <td>0</td>\n",
       "      <td>0</td>\n",
       "      <td>0</td>\n",
       "      <td>0</td>\n",
       "      <td>0</td>\n",
       "      <td>0</td>\n",
       "      <td>0</td>\n",
       "      <td>0</td>\n",
       "      <td>0</td>\n",
       "      <td>0</td>\n",
       "      <td>0</td>\n",
       "      <td>0</td>\n",
       "      <td>0</td>\n",
       "      <td>0</td>\n",
       "      <td>0</td>\n",
       "      <td>0</td>\n",
       "      <td>0</td>\n",
       "      <td>0</td>\n",
       "      <td>0</td>\n",
       "      <td>0</td>\n",
       "      <td>0</td>\n",
       "      <td>0</td>\n",
       "      <td>0</td>\n",
       "      <td>0</td>\n",
       "      <td>0</td>\n",
       "      <td>0</td>\n",
       "      <td>0</td>\n",
       "      <td>0</td>\n",
       "      <td>0</td>\n",
       "      <td>0</td>\n",
       "      <td>0</td>\n",
       "      <td>0</td>\n",
       "      <td>0</td>\n",
       "      <td>0</td>\n",
       "      <td>0</td>\n",
       "      <td>0</td>\n",
       "      <td>0</td>\n",
       "      <td>0</td>\n",
       "      <td>0</td>\n",
       "      <td>0</td>\n",
       "      <td>0</td>\n",
       "      <td>0</td>\n",
       "      <td>0</td>\n",
       "      <td>0</td>\n",
       "      <td>0</td>\n",
       "      <td>0</td>\n",
       "      <td>0</td>\n",
       "      <td>0</td>\n",
       "      <td>0</td>\n",
       "      <td>0</td>\n",
       "      <td>1</td>\n",
       "      <td>0</td>\n",
       "      <td>0</td>\n",
       "      <td>0</td>\n",
       "      <td>0</td>\n",
       "      <td>0</td>\n",
       "      <td>0</td>\n",
       "      <td>0</td>\n",
       "      <td>0</td>\n",
       "      <td>0</td>\n",
       "      <td>0</td>\n",
       "      <td>0</td>\n",
       "      <td>0</td>\n",
       "      <td>0</td>\n",
       "      <td>0</td>\n",
       "      <td>0</td>\n",
       "      <td>0</td>\n",
       "      <td>0</td>\n",
       "      <td>0</td>\n",
       "      <td>0</td>\n",
       "      <td>0</td>\n",
       "      <td>0</td>\n",
       "      <td>0</td>\n",
       "      <td>0</td>\n",
       "      <td>0</td>\n",
       "      <td>0</td>\n",
       "      <td>0</td>\n",
       "      <td>0</td>\n",
       "      <td>0</td>\n",
       "      <td>0</td>\n",
       "      <td>0</td>\n",
       "      <td>0</td>\n",
       "      <td>1</td>\n",
       "      <td>0</td>\n",
       "      <td>0</td>\n",
       "      <td>0</td>\n",
       "      <td>0</td>\n",
       "      <td>0</td>\n",
       "      <td>0</td>\n",
       "      <td>0</td>\n",
       "      <td>0</td>\n",
       "      <td>0</td>\n",
       "      <td>0</td>\n",
       "      <td>0</td>\n",
       "      <td>0</td>\n",
       "      <td>0</td>\n",
       "      <td>0</td>\n",
       "      <td>0</td>\n",
       "      <td>0</td>\n",
       "      <td>0</td>\n",
       "      <td>0</td>\n",
       "      <td>0</td>\n",
       "      <td>0</td>\n",
       "      <td>0</td>\n",
       "      <td>0</td>\n",
       "      <td>0</td>\n",
       "      <td>0</td>\n",
       "      <td>0</td>\n",
       "      <td>0</td>\n",
       "      <td>0</td>\n",
       "      <td>0</td>\n",
       "      <td>0</td>\n",
       "      <td>0</td>\n",
       "      <td>0</td>\n",
       "      <td>0</td>\n",
       "      <td>0</td>\n",
       "      <td>0</td>\n",
       "      <td>0</td>\n",
       "      <td>0</td>\n",
       "      <td>1</td>\n",
       "      <td>0</td>\n",
       "      <td>0</td>\n",
       "      <td>1</td>\n",
       "    </tr>\n",
       "    <tr>\n",
       "      <th>351828</th>\n",
       "      <td>-0.261735</td>\n",
       "      <td>-0.799204</td>\n",
       "      <td>0.582094</td>\n",
       "      <td>-0.792900</td>\n",
       "      <td>1</td>\n",
       "      <td>0</td>\n",
       "      <td>1</td>\n",
       "      <td>0</td>\n",
       "      <td>0</td>\n",
       "      <td>0</td>\n",
       "      <td>0</td>\n",
       "      <td>0</td>\n",
       "      <td>0</td>\n",
       "      <td>0</td>\n",
       "      <td>0</td>\n",
       "      <td>0</td>\n",
       "      <td>0</td>\n",
       "      <td>0</td>\n",
       "      <td>0</td>\n",
       "      <td>0</td>\n",
       "      <td>0</td>\n",
       "      <td>0</td>\n",
       "      <td>0</td>\n",
       "      <td>0</td>\n",
       "      <td>0</td>\n",
       "      <td>0</td>\n",
       "      <td>0</td>\n",
       "      <td>0</td>\n",
       "      <td>0</td>\n",
       "      <td>0</td>\n",
       "      <td>0</td>\n",
       "      <td>0</td>\n",
       "      <td>0</td>\n",
       "      <td>0</td>\n",
       "      <td>0</td>\n",
       "      <td>0</td>\n",
       "      <td>0</td>\n",
       "      <td>0</td>\n",
       "      <td>0</td>\n",
       "      <td>0</td>\n",
       "      <td>0</td>\n",
       "      <td>0</td>\n",
       "      <td>0</td>\n",
       "      <td>0</td>\n",
       "      <td>0</td>\n",
       "      <td>0</td>\n",
       "      <td>0</td>\n",
       "      <td>0</td>\n",
       "      <td>0</td>\n",
       "      <td>0</td>\n",
       "      <td>0</td>\n",
       "      <td>0</td>\n",
       "      <td>0</td>\n",
       "      <td>0</td>\n",
       "      <td>0</td>\n",
       "      <td>0</td>\n",
       "      <td>0</td>\n",
       "      <td>0</td>\n",
       "      <td>0</td>\n",
       "      <td>0</td>\n",
       "      <td>0</td>\n",
       "      <td>0</td>\n",
       "      <td>0</td>\n",
       "      <td>0</td>\n",
       "      <td>0</td>\n",
       "      <td>0</td>\n",
       "      <td>0</td>\n",
       "      <td>0</td>\n",
       "      <td>0</td>\n",
       "      <td>0</td>\n",
       "      <td>0</td>\n",
       "      <td>0</td>\n",
       "      <td>0</td>\n",
       "      <td>0</td>\n",
       "      <td>0</td>\n",
       "      <td>0</td>\n",
       "      <td>0</td>\n",
       "      <td>0</td>\n",
       "      <td>0</td>\n",
       "      <td>0</td>\n",
       "      <td>0</td>\n",
       "      <td>0</td>\n",
       "      <td>0</td>\n",
       "      <td>0</td>\n",
       "      <td>0</td>\n",
       "      <td>0</td>\n",
       "      <td>0</td>\n",
       "      <td>0</td>\n",
       "      <td>0</td>\n",
       "      <td>0</td>\n",
       "      <td>0</td>\n",
       "      <td>0</td>\n",
       "      <td>0</td>\n",
       "      <td>0</td>\n",
       "      <td>0</td>\n",
       "      <td>0</td>\n",
       "      <td>0</td>\n",
       "      <td>0</td>\n",
       "      <td>0</td>\n",
       "      <td>0</td>\n",
       "      <td>0</td>\n",
       "      <td>0</td>\n",
       "      <td>0</td>\n",
       "      <td>0</td>\n",
       "      <td>0</td>\n",
       "      <td>0</td>\n",
       "      <td>0</td>\n",
       "      <td>0</td>\n",
       "      <td>0</td>\n",
       "      <td>0</td>\n",
       "      <td>0</td>\n",
       "      <td>0</td>\n",
       "      <td>0</td>\n",
       "      <td>0</td>\n",
       "      <td>0</td>\n",
       "      <td>0</td>\n",
       "      <td>0</td>\n",
       "      <td>0</td>\n",
       "      <td>0</td>\n",
       "      <td>0</td>\n",
       "      <td>0</td>\n",
       "      <td>0</td>\n",
       "      <td>0</td>\n",
       "      <td>0</td>\n",
       "      <td>0</td>\n",
       "      <td>0</td>\n",
       "      <td>0</td>\n",
       "      <td>0</td>\n",
       "      <td>0</td>\n",
       "      <td>0</td>\n",
       "      <td>0</td>\n",
       "      <td>0</td>\n",
       "      <td>0</td>\n",
       "      <td>0</td>\n",
       "      <td>0</td>\n",
       "      <td>0</td>\n",
       "      <td>0</td>\n",
       "      <td>0</td>\n",
       "      <td>0</td>\n",
       "      <td>0</td>\n",
       "      <td>0</td>\n",
       "      <td>0</td>\n",
       "      <td>0</td>\n",
       "      <td>0</td>\n",
       "      <td>0</td>\n",
       "      <td>0</td>\n",
       "      <td>0</td>\n",
       "      <td>0</td>\n",
       "      <td>0</td>\n",
       "      <td>0</td>\n",
       "      <td>0</td>\n",
       "      <td>0</td>\n",
       "      <td>0</td>\n",
       "      <td>0</td>\n",
       "      <td>0</td>\n",
       "      <td>0</td>\n",
       "      <td>0</td>\n",
       "      <td>0</td>\n",
       "      <td>0</td>\n",
       "      <td>0</td>\n",
       "      <td>0</td>\n",
       "      <td>0</td>\n",
       "      <td>0</td>\n",
       "      <td>0</td>\n",
       "      <td>0</td>\n",
       "      <td>0</td>\n",
       "      <td>0</td>\n",
       "      <td>0</td>\n",
       "      <td>0</td>\n",
       "      <td>0</td>\n",
       "      <td>0</td>\n",
       "      <td>0</td>\n",
       "      <td>0</td>\n",
       "      <td>0</td>\n",
       "      <td>0</td>\n",
       "      <td>0</td>\n",
       "      <td>0</td>\n",
       "      <td>0</td>\n",
       "      <td>0</td>\n",
       "      <td>0</td>\n",
       "      <td>0</td>\n",
       "      <td>0</td>\n",
       "      <td>0</td>\n",
       "      <td>1</td>\n",
       "      <td>0</td>\n",
       "      <td>0</td>\n",
       "      <td>0</td>\n",
       "      <td>0</td>\n",
       "      <td>0</td>\n",
       "      <td>0</td>\n",
       "      <td>0</td>\n",
       "      <td>0</td>\n",
       "      <td>0</td>\n",
       "      <td>0</td>\n",
       "      <td>0</td>\n",
       "      <td>0</td>\n",
       "      <td>0</td>\n",
       "      <td>0</td>\n",
       "      <td>0</td>\n",
       "      <td>0</td>\n",
       "      <td>0</td>\n",
       "      <td>0</td>\n",
       "      <td>0</td>\n",
       "      <td>0</td>\n",
       "      <td>0</td>\n",
       "      <td>0</td>\n",
       "      <td>0</td>\n",
       "      <td>0</td>\n",
       "      <td>0</td>\n",
       "      <td>0</td>\n",
       "      <td>0</td>\n",
       "      <td>0</td>\n",
       "      <td>0</td>\n",
       "      <td>0</td>\n",
       "      <td>0</td>\n",
       "      <td>0</td>\n",
       "      <td>0</td>\n",
       "      <td>0</td>\n",
       "      <td>0</td>\n",
       "      <td>0</td>\n",
       "      <td>0</td>\n",
       "      <td>0</td>\n",
       "      <td>0</td>\n",
       "      <td>0</td>\n",
       "      <td>0</td>\n",
       "      <td>0</td>\n",
       "      <td>0</td>\n",
       "      <td>0</td>\n",
       "      <td>0</td>\n",
       "      <td>0</td>\n",
       "      <td>0</td>\n",
       "      <td>0</td>\n",
       "      <td>0</td>\n",
       "      <td>0</td>\n",
       "      <td>0</td>\n",
       "      <td>0</td>\n",
       "      <td>0</td>\n",
       "      <td>0</td>\n",
       "      <td>0</td>\n",
       "      <td>0</td>\n",
       "      <td>0</td>\n",
       "      <td>0</td>\n",
       "      <td>0</td>\n",
       "      <td>0</td>\n",
       "      <td>0</td>\n",
       "      <td>0</td>\n",
       "      <td>0</td>\n",
       "      <td>0</td>\n",
       "      <td>0</td>\n",
       "      <td>0</td>\n",
       "      <td>0</td>\n",
       "      <td>0</td>\n",
       "      <td>0</td>\n",
       "      <td>0</td>\n",
       "      <td>0</td>\n",
       "      <td>0</td>\n",
       "      <td>0</td>\n",
       "      <td>0</td>\n",
       "      <td>0</td>\n",
       "      <td>0</td>\n",
       "      <td>0</td>\n",
       "      <td>0</td>\n",
       "      <td>1</td>\n",
       "      <td>0</td>\n",
       "      <td>0</td>\n",
       "      <td>0</td>\n",
       "      <td>0</td>\n",
       "      <td>0</td>\n",
       "      <td>0</td>\n",
       "      <td>0</td>\n",
       "      <td>0</td>\n",
       "      <td>0</td>\n",
       "      <td>1</td>\n",
       "      <td>0</td>\n",
       "      <td>0</td>\n",
       "      <td>0</td>\n",
       "      <td>0</td>\n",
       "      <td>0</td>\n",
       "      <td>0</td>\n",
       "      <td>0</td>\n",
       "      <td>0</td>\n",
       "      <td>0</td>\n",
       "      <td>0</td>\n",
       "      <td>0</td>\n",
       "      <td>0</td>\n",
       "      <td>0</td>\n",
       "      <td>0</td>\n",
       "      <td>0</td>\n",
       "      <td>0</td>\n",
       "      <td>0</td>\n",
       "      <td>0</td>\n",
       "      <td>0</td>\n",
       "      <td>0</td>\n",
       "      <td>0</td>\n",
       "      <td>0</td>\n",
       "      <td>0</td>\n",
       "      <td>0</td>\n",
       "      <td>0</td>\n",
       "      <td>0</td>\n",
       "      <td>0</td>\n",
       "      <td>0</td>\n",
       "      <td>0</td>\n",
       "      <td>0</td>\n",
       "      <td>0</td>\n",
       "    </tr>\n",
       "    <tr>\n",
       "      <th>41863</th>\n",
       "      <td>-0.713823</td>\n",
       "      <td>-0.558482</td>\n",
       "      <td>0.582094</td>\n",
       "      <td>0.577901</td>\n",
       "      <td>1</td>\n",
       "      <td>0</td>\n",
       "      <td>1</td>\n",
       "      <td>0</td>\n",
       "      <td>0</td>\n",
       "      <td>0</td>\n",
       "      <td>0</td>\n",
       "      <td>0</td>\n",
       "      <td>0</td>\n",
       "      <td>0</td>\n",
       "      <td>0</td>\n",
       "      <td>0</td>\n",
       "      <td>0</td>\n",
       "      <td>0</td>\n",
       "      <td>0</td>\n",
       "      <td>0</td>\n",
       "      <td>0</td>\n",
       "      <td>0</td>\n",
       "      <td>0</td>\n",
       "      <td>0</td>\n",
       "      <td>0</td>\n",
       "      <td>0</td>\n",
       "      <td>0</td>\n",
       "      <td>0</td>\n",
       "      <td>0</td>\n",
       "      <td>0</td>\n",
       "      <td>0</td>\n",
       "      <td>0</td>\n",
       "      <td>0</td>\n",
       "      <td>0</td>\n",
       "      <td>0</td>\n",
       "      <td>0</td>\n",
       "      <td>0</td>\n",
       "      <td>0</td>\n",
       "      <td>0</td>\n",
       "      <td>0</td>\n",
       "      <td>0</td>\n",
       "      <td>0</td>\n",
       "      <td>0</td>\n",
       "      <td>0</td>\n",
       "      <td>0</td>\n",
       "      <td>0</td>\n",
       "      <td>0</td>\n",
       "      <td>0</td>\n",
       "      <td>0</td>\n",
       "      <td>0</td>\n",
       "      <td>0</td>\n",
       "      <td>0</td>\n",
       "      <td>0</td>\n",
       "      <td>0</td>\n",
       "      <td>0</td>\n",
       "      <td>0</td>\n",
       "      <td>0</td>\n",
       "      <td>0</td>\n",
       "      <td>0</td>\n",
       "      <td>0</td>\n",
       "      <td>0</td>\n",
       "      <td>0</td>\n",
       "      <td>0</td>\n",
       "      <td>0</td>\n",
       "      <td>0</td>\n",
       "      <td>0</td>\n",
       "      <td>0</td>\n",
       "      <td>0</td>\n",
       "      <td>0</td>\n",
       "      <td>0</td>\n",
       "      <td>0</td>\n",
       "      <td>0</td>\n",
       "      <td>0</td>\n",
       "      <td>0</td>\n",
       "      <td>0</td>\n",
       "      <td>0</td>\n",
       "      <td>0</td>\n",
       "      <td>0</td>\n",
       "      <td>0</td>\n",
       "      <td>0</td>\n",
       "      <td>0</td>\n",
       "      <td>0</td>\n",
       "      <td>0</td>\n",
       "      <td>0</td>\n",
       "      <td>0</td>\n",
       "      <td>0</td>\n",
       "      <td>0</td>\n",
       "      <td>0</td>\n",
       "      <td>0</td>\n",
       "      <td>0</td>\n",
       "      <td>0</td>\n",
       "      <td>0</td>\n",
       "      <td>0</td>\n",
       "      <td>0</td>\n",
       "      <td>0</td>\n",
       "      <td>0</td>\n",
       "      <td>0</td>\n",
       "      <td>0</td>\n",
       "      <td>0</td>\n",
       "      <td>0</td>\n",
       "      <td>0</td>\n",
       "      <td>0</td>\n",
       "      <td>0</td>\n",
       "      <td>0</td>\n",
       "      <td>0</td>\n",
       "      <td>0</td>\n",
       "      <td>0</td>\n",
       "      <td>0</td>\n",
       "      <td>0</td>\n",
       "      <td>0</td>\n",
       "      <td>0</td>\n",
       "      <td>0</td>\n",
       "      <td>0</td>\n",
       "      <td>0</td>\n",
       "      <td>0</td>\n",
       "      <td>0</td>\n",
       "      <td>0</td>\n",
       "      <td>0</td>\n",
       "      <td>0</td>\n",
       "      <td>0</td>\n",
       "      <td>0</td>\n",
       "      <td>0</td>\n",
       "      <td>0</td>\n",
       "      <td>1</td>\n",
       "      <td>0</td>\n",
       "      <td>0</td>\n",
       "      <td>0</td>\n",
       "      <td>0</td>\n",
       "      <td>0</td>\n",
       "      <td>0</td>\n",
       "      <td>0</td>\n",
       "      <td>0</td>\n",
       "      <td>0</td>\n",
       "      <td>0</td>\n",
       "      <td>0</td>\n",
       "      <td>0</td>\n",
       "      <td>0</td>\n",
       "      <td>0</td>\n",
       "      <td>0</td>\n",
       "      <td>0</td>\n",
       "      <td>0</td>\n",
       "      <td>0</td>\n",
       "      <td>0</td>\n",
       "      <td>0</td>\n",
       "      <td>0</td>\n",
       "      <td>0</td>\n",
       "      <td>0</td>\n",
       "      <td>0</td>\n",
       "      <td>0</td>\n",
       "      <td>0</td>\n",
       "      <td>0</td>\n",
       "      <td>0</td>\n",
       "      <td>0</td>\n",
       "      <td>0</td>\n",
       "      <td>0</td>\n",
       "      <td>0</td>\n",
       "      <td>0</td>\n",
       "      <td>0</td>\n",
       "      <td>0</td>\n",
       "      <td>0</td>\n",
       "      <td>0</td>\n",
       "      <td>0</td>\n",
       "      <td>0</td>\n",
       "      <td>0</td>\n",
       "      <td>0</td>\n",
       "      <td>0</td>\n",
       "      <td>0</td>\n",
       "      <td>0</td>\n",
       "      <td>0</td>\n",
       "      <td>0</td>\n",
       "      <td>0</td>\n",
       "      <td>0</td>\n",
       "      <td>0</td>\n",
       "      <td>0</td>\n",
       "      <td>0</td>\n",
       "      <td>0</td>\n",
       "      <td>0</td>\n",
       "      <td>0</td>\n",
       "      <td>0</td>\n",
       "      <td>0</td>\n",
       "      <td>0</td>\n",
       "      <td>0</td>\n",
       "      <td>0</td>\n",
       "      <td>0</td>\n",
       "      <td>0</td>\n",
       "      <td>0</td>\n",
       "      <td>0</td>\n",
       "      <td>0</td>\n",
       "      <td>0</td>\n",
       "      <td>0</td>\n",
       "      <td>0</td>\n",
       "      <td>0</td>\n",
       "      <td>0</td>\n",
       "      <td>0</td>\n",
       "      <td>0</td>\n",
       "      <td>0</td>\n",
       "      <td>0</td>\n",
       "      <td>0</td>\n",
       "      <td>0</td>\n",
       "      <td>0</td>\n",
       "      <td>0</td>\n",
       "      <td>0</td>\n",
       "      <td>0</td>\n",
       "      <td>0</td>\n",
       "      <td>0</td>\n",
       "      <td>0</td>\n",
       "      <td>0</td>\n",
       "      <td>0</td>\n",
       "      <td>0</td>\n",
       "      <td>0</td>\n",
       "      <td>0</td>\n",
       "      <td>0</td>\n",
       "      <td>0</td>\n",
       "      <td>0</td>\n",
       "      <td>0</td>\n",
       "      <td>0</td>\n",
       "      <td>0</td>\n",
       "      <td>0</td>\n",
       "      <td>0</td>\n",
       "      <td>0</td>\n",
       "      <td>0</td>\n",
       "      <td>0</td>\n",
       "      <td>0</td>\n",
       "      <td>0</td>\n",
       "      <td>0</td>\n",
       "      <td>0</td>\n",
       "      <td>0</td>\n",
       "      <td>0</td>\n",
       "      <td>0</td>\n",
       "      <td>0</td>\n",
       "      <td>0</td>\n",
       "      <td>0</td>\n",
       "      <td>0</td>\n",
       "      <td>0</td>\n",
       "      <td>0</td>\n",
       "      <td>0</td>\n",
       "      <td>0</td>\n",
       "      <td>0</td>\n",
       "      <td>0</td>\n",
       "      <td>0</td>\n",
       "      <td>0</td>\n",
       "      <td>0</td>\n",
       "      <td>0</td>\n",
       "      <td>0</td>\n",
       "      <td>0</td>\n",
       "      <td>0</td>\n",
       "      <td>0</td>\n",
       "      <td>0</td>\n",
       "      <td>0</td>\n",
       "      <td>0</td>\n",
       "      <td>0</td>\n",
       "      <td>0</td>\n",
       "      <td>0</td>\n",
       "      <td>0</td>\n",
       "      <td>0</td>\n",
       "      <td>0</td>\n",
       "      <td>0</td>\n",
       "      <td>0</td>\n",
       "      <td>0</td>\n",
       "      <td>0</td>\n",
       "      <td>0</td>\n",
       "      <td>0</td>\n",
       "      <td>1</td>\n",
       "      <td>0</td>\n",
       "      <td>0</td>\n",
       "      <td>0</td>\n",
       "      <td>0</td>\n",
       "      <td>0</td>\n",
       "      <td>0</td>\n",
       "      <td>0</td>\n",
       "      <td>0</td>\n",
       "      <td>0</td>\n",
       "      <td>0</td>\n",
       "      <td>0</td>\n",
       "      <td>0</td>\n",
       "      <td>0</td>\n",
       "      <td>0</td>\n",
       "      <td>0</td>\n",
       "      <td>0</td>\n",
       "      <td>0</td>\n",
       "      <td>0</td>\n",
       "      <td>0</td>\n",
       "      <td>0</td>\n",
       "      <td>0</td>\n",
       "      <td>0</td>\n",
       "      <td>0</td>\n",
       "      <td>0</td>\n",
       "      <td>0</td>\n",
       "      <td>0</td>\n",
       "      <td>0</td>\n",
       "      <td>0</td>\n",
       "      <td>0</td>\n",
       "      <td>0</td>\n",
       "      <td>0</td>\n",
       "      <td>0</td>\n",
       "      <td>0</td>\n",
       "      <td>0</td>\n",
       "      <td>0</td>\n",
       "      <td>0</td>\n",
       "      <td>0</td>\n",
       "      <td>1</td>\n",
       "      <td>0</td>\n",
       "      <td>0</td>\n",
       "      <td>0</td>\n",
       "    </tr>\n",
       "    <tr>\n",
       "      <th>107194</th>\n",
       "      <td>0.943831</td>\n",
       "      <td>1.993167</td>\n",
       "      <td>-0.768321</td>\n",
       "      <td>0.303741</td>\n",
       "      <td>0</td>\n",
       "      <td>0</td>\n",
       "      <td>0</td>\n",
       "      <td>0</td>\n",
       "      <td>0</td>\n",
       "      <td>0</td>\n",
       "      <td>0</td>\n",
       "      <td>0</td>\n",
       "      <td>0</td>\n",
       "      <td>0</td>\n",
       "      <td>0</td>\n",
       "      <td>0</td>\n",
       "      <td>0</td>\n",
       "      <td>0</td>\n",
       "      <td>1</td>\n",
       "      <td>0</td>\n",
       "      <td>0</td>\n",
       "      <td>0</td>\n",
       "      <td>0</td>\n",
       "      <td>0</td>\n",
       "      <td>0</td>\n",
       "      <td>0</td>\n",
       "      <td>0</td>\n",
       "      <td>0</td>\n",
       "      <td>0</td>\n",
       "      <td>0</td>\n",
       "      <td>0</td>\n",
       "      <td>0</td>\n",
       "      <td>0</td>\n",
       "      <td>0</td>\n",
       "      <td>0</td>\n",
       "      <td>0</td>\n",
       "      <td>0</td>\n",
       "      <td>0</td>\n",
       "      <td>0</td>\n",
       "      <td>0</td>\n",
       "      <td>0</td>\n",
       "      <td>0</td>\n",
       "      <td>0</td>\n",
       "      <td>0</td>\n",
       "      <td>0</td>\n",
       "      <td>0</td>\n",
       "      <td>0</td>\n",
       "      <td>0</td>\n",
       "      <td>0</td>\n",
       "      <td>0</td>\n",
       "      <td>0</td>\n",
       "      <td>0</td>\n",
       "      <td>0</td>\n",
       "      <td>0</td>\n",
       "      <td>0</td>\n",
       "      <td>0</td>\n",
       "      <td>0</td>\n",
       "      <td>0</td>\n",
       "      <td>0</td>\n",
       "      <td>0</td>\n",
       "      <td>0</td>\n",
       "      <td>0</td>\n",
       "      <td>0</td>\n",
       "      <td>0</td>\n",
       "      <td>0</td>\n",
       "      <td>0</td>\n",
       "      <td>0</td>\n",
       "      <td>0</td>\n",
       "      <td>0</td>\n",
       "      <td>0</td>\n",
       "      <td>0</td>\n",
       "      <td>0</td>\n",
       "      <td>0</td>\n",
       "      <td>0</td>\n",
       "      <td>0</td>\n",
       "      <td>0</td>\n",
       "      <td>0</td>\n",
       "      <td>0</td>\n",
       "      <td>0</td>\n",
       "      <td>0</td>\n",
       "      <td>0</td>\n",
       "      <td>0</td>\n",
       "      <td>0</td>\n",
       "      <td>0</td>\n",
       "      <td>0</td>\n",
       "      <td>0</td>\n",
       "      <td>0</td>\n",
       "      <td>0</td>\n",
       "      <td>0</td>\n",
       "      <td>0</td>\n",
       "      <td>0</td>\n",
       "      <td>0</td>\n",
       "      <td>0</td>\n",
       "      <td>0</td>\n",
       "      <td>0</td>\n",
       "      <td>0</td>\n",
       "      <td>0</td>\n",
       "      <td>0</td>\n",
       "      <td>0</td>\n",
       "      <td>0</td>\n",
       "      <td>0</td>\n",
       "      <td>0</td>\n",
       "      <td>0</td>\n",
       "      <td>0</td>\n",
       "      <td>0</td>\n",
       "      <td>0</td>\n",
       "      <td>0</td>\n",
       "      <td>0</td>\n",
       "      <td>0</td>\n",
       "      <td>0</td>\n",
       "      <td>0</td>\n",
       "      <td>0</td>\n",
       "      <td>0</td>\n",
       "      <td>0</td>\n",
       "      <td>0</td>\n",
       "      <td>0</td>\n",
       "      <td>0</td>\n",
       "      <td>0</td>\n",
       "      <td>0</td>\n",
       "      <td>0</td>\n",
       "      <td>0</td>\n",
       "      <td>0</td>\n",
       "      <td>0</td>\n",
       "      <td>0</td>\n",
       "      <td>0</td>\n",
       "      <td>0</td>\n",
       "      <td>0</td>\n",
       "      <td>0</td>\n",
       "      <td>0</td>\n",
       "      <td>0</td>\n",
       "      <td>0</td>\n",
       "      <td>0</td>\n",
       "      <td>0</td>\n",
       "      <td>0</td>\n",
       "      <td>0</td>\n",
       "      <td>0</td>\n",
       "      <td>0</td>\n",
       "      <td>0</td>\n",
       "      <td>0</td>\n",
       "      <td>0</td>\n",
       "      <td>0</td>\n",
       "      <td>0</td>\n",
       "      <td>0</td>\n",
       "      <td>0</td>\n",
       "      <td>0</td>\n",
       "      <td>0</td>\n",
       "      <td>0</td>\n",
       "      <td>0</td>\n",
       "      <td>0</td>\n",
       "      <td>0</td>\n",
       "      <td>0</td>\n",
       "      <td>0</td>\n",
       "      <td>0</td>\n",
       "      <td>0</td>\n",
       "      <td>0</td>\n",
       "      <td>0</td>\n",
       "      <td>0</td>\n",
       "      <td>0</td>\n",
       "      <td>0</td>\n",
       "      <td>0</td>\n",
       "      <td>0</td>\n",
       "      <td>0</td>\n",
       "      <td>0</td>\n",
       "      <td>0</td>\n",
       "      <td>0</td>\n",
       "      <td>0</td>\n",
       "      <td>0</td>\n",
       "      <td>0</td>\n",
       "      <td>0</td>\n",
       "      <td>0</td>\n",
       "      <td>0</td>\n",
       "      <td>0</td>\n",
       "      <td>0</td>\n",
       "      <td>0</td>\n",
       "      <td>0</td>\n",
       "      <td>0</td>\n",
       "      <td>0</td>\n",
       "      <td>0</td>\n",
       "      <td>0</td>\n",
       "      <td>0</td>\n",
       "      <td>0</td>\n",
       "      <td>0</td>\n",
       "      <td>0</td>\n",
       "      <td>0</td>\n",
       "      <td>0</td>\n",
       "      <td>0</td>\n",
       "      <td>0</td>\n",
       "      <td>0</td>\n",
       "      <td>0</td>\n",
       "      <td>0</td>\n",
       "      <td>0</td>\n",
       "      <td>0</td>\n",
       "      <td>0</td>\n",
       "      <td>0</td>\n",
       "      <td>0</td>\n",
       "      <td>0</td>\n",
       "      <td>0</td>\n",
       "      <td>0</td>\n",
       "      <td>0</td>\n",
       "      <td>0</td>\n",
       "      <td>0</td>\n",
       "      <td>0</td>\n",
       "      <td>0</td>\n",
       "      <td>0</td>\n",
       "      <td>0</td>\n",
       "      <td>0</td>\n",
       "      <td>0</td>\n",
       "      <td>0</td>\n",
       "      <td>0</td>\n",
       "      <td>0</td>\n",
       "      <td>0</td>\n",
       "      <td>0</td>\n",
       "      <td>0</td>\n",
       "      <td>0</td>\n",
       "      <td>0</td>\n",
       "      <td>0</td>\n",
       "      <td>0</td>\n",
       "      <td>0</td>\n",
       "      <td>0</td>\n",
       "      <td>0</td>\n",
       "      <td>0</td>\n",
       "      <td>0</td>\n",
       "      <td>0</td>\n",
       "      <td>0</td>\n",
       "      <td>0</td>\n",
       "      <td>0</td>\n",
       "      <td>0</td>\n",
       "      <td>0</td>\n",
       "      <td>0</td>\n",
       "      <td>0</td>\n",
       "      <td>0</td>\n",
       "      <td>0</td>\n",
       "      <td>0</td>\n",
       "      <td>0</td>\n",
       "      <td>0</td>\n",
       "      <td>0</td>\n",
       "      <td>0</td>\n",
       "      <td>0</td>\n",
       "      <td>0</td>\n",
       "      <td>0</td>\n",
       "      <td>0</td>\n",
       "      <td>0</td>\n",
       "      <td>0</td>\n",
       "      <td>0</td>\n",
       "      <td>0</td>\n",
       "      <td>0</td>\n",
       "      <td>0</td>\n",
       "      <td>0</td>\n",
       "      <td>0</td>\n",
       "      <td>0</td>\n",
       "      <td>0</td>\n",
       "      <td>0</td>\n",
       "      <td>0</td>\n",
       "      <td>0</td>\n",
       "      <td>0</td>\n",
       "      <td>0</td>\n",
       "      <td>0</td>\n",
       "      <td>0</td>\n",
       "      <td>0</td>\n",
       "      <td>0</td>\n",
       "      <td>0</td>\n",
       "      <td>0</td>\n",
       "      <td>1</td>\n",
       "      <td>0</td>\n",
       "      <td>0</td>\n",
       "      <td>1</td>\n",
       "      <td>0</td>\n",
       "      <td>0</td>\n",
       "      <td>0</td>\n",
       "      <td>0</td>\n",
       "      <td>0</td>\n",
       "      <td>0</td>\n",
       "      <td>0</td>\n",
       "      <td>0</td>\n",
       "      <td>0</td>\n",
       "      <td>0</td>\n",
       "      <td>0</td>\n",
       "      <td>0</td>\n",
       "      <td>0</td>\n",
       "      <td>0</td>\n",
       "      <td>0</td>\n",
       "      <td>0</td>\n",
       "      <td>0</td>\n",
       "      <td>0</td>\n",
       "      <td>0</td>\n",
       "      <td>0</td>\n",
       "      <td>0</td>\n",
       "      <td>0</td>\n",
       "      <td>0</td>\n",
       "      <td>0</td>\n",
       "      <td>0</td>\n",
       "      <td>0</td>\n",
       "      <td>0</td>\n",
       "      <td>0</td>\n",
       "      <td>0</td>\n",
       "      <td>0</td>\n",
       "      <td>0</td>\n",
       "      <td>0</td>\n",
       "      <td>0</td>\n",
       "      <td>0</td>\n",
       "      <td>0</td>\n",
       "      <td>0</td>\n",
       "      <td>0</td>\n",
       "      <td>0</td>\n",
       "    </tr>\n",
       "    <tr>\n",
       "      <th>103454</th>\n",
       "      <td>-0.713823</td>\n",
       "      <td>-0.077039</td>\n",
       "      <td>0.582094</td>\n",
       "      <td>0.029581</td>\n",
       "      <td>1</td>\n",
       "      <td>0</td>\n",
       "      <td>1</td>\n",
       "      <td>0</td>\n",
       "      <td>0</td>\n",
       "      <td>0</td>\n",
       "      <td>0</td>\n",
       "      <td>0</td>\n",
       "      <td>0</td>\n",
       "      <td>0</td>\n",
       "      <td>0</td>\n",
       "      <td>0</td>\n",
       "      <td>0</td>\n",
       "      <td>0</td>\n",
       "      <td>0</td>\n",
       "      <td>0</td>\n",
       "      <td>0</td>\n",
       "      <td>0</td>\n",
       "      <td>0</td>\n",
       "      <td>0</td>\n",
       "      <td>0</td>\n",
       "      <td>0</td>\n",
       "      <td>0</td>\n",
       "      <td>0</td>\n",
       "      <td>0</td>\n",
       "      <td>0</td>\n",
       "      <td>0</td>\n",
       "      <td>0</td>\n",
       "      <td>0</td>\n",
       "      <td>0</td>\n",
       "      <td>0</td>\n",
       "      <td>0</td>\n",
       "      <td>0</td>\n",
       "      <td>0</td>\n",
       "      <td>0</td>\n",
       "      <td>0</td>\n",
       "      <td>0</td>\n",
       "      <td>0</td>\n",
       "      <td>0</td>\n",
       "      <td>0</td>\n",
       "      <td>0</td>\n",
       "      <td>0</td>\n",
       "      <td>0</td>\n",
       "      <td>0</td>\n",
       "      <td>0</td>\n",
       "      <td>0</td>\n",
       "      <td>0</td>\n",
       "      <td>0</td>\n",
       "      <td>0</td>\n",
       "      <td>0</td>\n",
       "      <td>0</td>\n",
       "      <td>0</td>\n",
       "      <td>0</td>\n",
       "      <td>0</td>\n",
       "      <td>0</td>\n",
       "      <td>0</td>\n",
       "      <td>0</td>\n",
       "      <td>0</td>\n",
       "      <td>0</td>\n",
       "      <td>0</td>\n",
       "      <td>0</td>\n",
       "      <td>0</td>\n",
       "      <td>0</td>\n",
       "      <td>0</td>\n",
       "      <td>0</td>\n",
       "      <td>0</td>\n",
       "      <td>0</td>\n",
       "      <td>0</td>\n",
       "      <td>0</td>\n",
       "      <td>0</td>\n",
       "      <td>0</td>\n",
       "      <td>0</td>\n",
       "      <td>0</td>\n",
       "      <td>0</td>\n",
       "      <td>0</td>\n",
       "      <td>0</td>\n",
       "      <td>0</td>\n",
       "      <td>0</td>\n",
       "      <td>0</td>\n",
       "      <td>0</td>\n",
       "      <td>0</td>\n",
       "      <td>0</td>\n",
       "      <td>0</td>\n",
       "      <td>0</td>\n",
       "      <td>0</td>\n",
       "      <td>0</td>\n",
       "      <td>0</td>\n",
       "      <td>0</td>\n",
       "      <td>0</td>\n",
       "      <td>0</td>\n",
       "      <td>0</td>\n",
       "      <td>0</td>\n",
       "      <td>0</td>\n",
       "      <td>0</td>\n",
       "      <td>0</td>\n",
       "      <td>0</td>\n",
       "      <td>0</td>\n",
       "      <td>0</td>\n",
       "      <td>0</td>\n",
       "      <td>0</td>\n",
       "      <td>0</td>\n",
       "      <td>0</td>\n",
       "      <td>0</td>\n",
       "      <td>0</td>\n",
       "      <td>0</td>\n",
       "      <td>0</td>\n",
       "      <td>0</td>\n",
       "      <td>0</td>\n",
       "      <td>0</td>\n",
       "      <td>0</td>\n",
       "      <td>0</td>\n",
       "      <td>0</td>\n",
       "      <td>0</td>\n",
       "      <td>0</td>\n",
       "      <td>0</td>\n",
       "      <td>0</td>\n",
       "      <td>0</td>\n",
       "      <td>0</td>\n",
       "      <td>0</td>\n",
       "      <td>0</td>\n",
       "      <td>0</td>\n",
       "      <td>0</td>\n",
       "      <td>0</td>\n",
       "      <td>0</td>\n",
       "      <td>0</td>\n",
       "      <td>0</td>\n",
       "      <td>0</td>\n",
       "      <td>0</td>\n",
       "      <td>0</td>\n",
       "      <td>0</td>\n",
       "      <td>0</td>\n",
       "      <td>0</td>\n",
       "      <td>0</td>\n",
       "      <td>0</td>\n",
       "      <td>0</td>\n",
       "      <td>0</td>\n",
       "      <td>0</td>\n",
       "      <td>0</td>\n",
       "      <td>0</td>\n",
       "      <td>0</td>\n",
       "      <td>0</td>\n",
       "      <td>0</td>\n",
       "      <td>0</td>\n",
       "      <td>0</td>\n",
       "      <td>0</td>\n",
       "      <td>0</td>\n",
       "      <td>0</td>\n",
       "      <td>0</td>\n",
       "      <td>0</td>\n",
       "      <td>0</td>\n",
       "      <td>0</td>\n",
       "      <td>0</td>\n",
       "      <td>0</td>\n",
       "      <td>0</td>\n",
       "      <td>0</td>\n",
       "      <td>0</td>\n",
       "      <td>0</td>\n",
       "      <td>0</td>\n",
       "      <td>0</td>\n",
       "      <td>0</td>\n",
       "      <td>0</td>\n",
       "      <td>0</td>\n",
       "      <td>0</td>\n",
       "      <td>0</td>\n",
       "      <td>0</td>\n",
       "      <td>0</td>\n",
       "      <td>0</td>\n",
       "      <td>0</td>\n",
       "      <td>0</td>\n",
       "      <td>1</td>\n",
       "      <td>0</td>\n",
       "      <td>0</td>\n",
       "      <td>0</td>\n",
       "      <td>0</td>\n",
       "      <td>0</td>\n",
       "      <td>0</td>\n",
       "      <td>0</td>\n",
       "      <td>0</td>\n",
       "      <td>0</td>\n",
       "      <td>0</td>\n",
       "      <td>0</td>\n",
       "      <td>0</td>\n",
       "      <td>0</td>\n",
       "      <td>0</td>\n",
       "      <td>0</td>\n",
       "      <td>0</td>\n",
       "      <td>0</td>\n",
       "      <td>0</td>\n",
       "      <td>0</td>\n",
       "      <td>0</td>\n",
       "      <td>0</td>\n",
       "      <td>0</td>\n",
       "      <td>0</td>\n",
       "      <td>0</td>\n",
       "      <td>0</td>\n",
       "      <td>0</td>\n",
       "      <td>0</td>\n",
       "      <td>0</td>\n",
       "      <td>0</td>\n",
       "      <td>0</td>\n",
       "      <td>0</td>\n",
       "      <td>0</td>\n",
       "      <td>0</td>\n",
       "      <td>0</td>\n",
       "      <td>0</td>\n",
       "      <td>0</td>\n",
       "      <td>0</td>\n",
       "      <td>0</td>\n",
       "      <td>0</td>\n",
       "      <td>0</td>\n",
       "      <td>0</td>\n",
       "      <td>0</td>\n",
       "      <td>0</td>\n",
       "      <td>0</td>\n",
       "      <td>0</td>\n",
       "      <td>0</td>\n",
       "      <td>0</td>\n",
       "      <td>0</td>\n",
       "      <td>0</td>\n",
       "      <td>0</td>\n",
       "      <td>0</td>\n",
       "      <td>0</td>\n",
       "      <td>0</td>\n",
       "      <td>0</td>\n",
       "      <td>0</td>\n",
       "      <td>0</td>\n",
       "      <td>0</td>\n",
       "      <td>0</td>\n",
       "      <td>0</td>\n",
       "      <td>0</td>\n",
       "      <td>0</td>\n",
       "      <td>0</td>\n",
       "      <td>0</td>\n",
       "      <td>0</td>\n",
       "      <td>0</td>\n",
       "      <td>0</td>\n",
       "      <td>0</td>\n",
       "      <td>0</td>\n",
       "      <td>0</td>\n",
       "      <td>0</td>\n",
       "      <td>0</td>\n",
       "      <td>0</td>\n",
       "      <td>0</td>\n",
       "      <td>0</td>\n",
       "      <td>0</td>\n",
       "      <td>0</td>\n",
       "      <td>0</td>\n",
       "      <td>0</td>\n",
       "      <td>0</td>\n",
       "      <td>0</td>\n",
       "      <td>0</td>\n",
       "      <td>0</td>\n",
       "      <td>0</td>\n",
       "      <td>0</td>\n",
       "      <td>0</td>\n",
       "      <td>0</td>\n",
       "      <td>0</td>\n",
       "      <td>0</td>\n",
       "      <td>0</td>\n",
       "      <td>1</td>\n",
       "      <td>0</td>\n",
       "      <td>0</td>\n",
       "      <td>0</td>\n",
       "      <td>0</td>\n",
       "      <td>0</td>\n",
       "      <td>0</td>\n",
       "      <td>0</td>\n",
       "      <td>0</td>\n",
       "      <td>0</td>\n",
       "      <td>0</td>\n",
       "      <td>0</td>\n",
       "      <td>0</td>\n",
       "      <td>0</td>\n",
       "      <td>0</td>\n",
       "      <td>0</td>\n",
       "      <td>0</td>\n",
       "      <td>0</td>\n",
       "      <td>0</td>\n",
       "      <td>0</td>\n",
       "      <td>0</td>\n",
       "      <td>0</td>\n",
       "      <td>0</td>\n",
       "      <td>0</td>\n",
       "      <td>0</td>\n",
       "      <td>0</td>\n",
       "      <td>0</td>\n",
       "      <td>0</td>\n",
       "      <td>0</td>\n",
       "      <td>0</td>\n",
       "      <td>0</td>\n",
       "      <td>0</td>\n",
       "      <td>0</td>\n",
       "      <td>0</td>\n",
       "      <td>0</td>\n",
       "      <td>0</td>\n",
       "      <td>0</td>\n",
       "      <td>0</td>\n",
       "      <td>1</td>\n",
       "      <td>0</td>\n",
       "      <td>0</td>\n",
       "    </tr>\n",
       "  </tbody>\n",
       "</table>\n",
       "</div>"
      ],
      "text/plain": [
       "        RegistrationYear     Power  Kilometer  RegistrationMonth  \\\n",
       "160544          1.998701 -0.847348   0.582094           1.400382   \n",
       "351828         -0.261735 -0.799204   0.582094          -0.792900   \n",
       "41863          -0.713823 -0.558482   0.582094           0.577901   \n",
       "107194          0.943831  1.993167  -0.768321           0.303741   \n",
       "103454         -0.713823 -0.077039   0.582094           0.029581   \n",
       "\n",
       "        VehicleType_manual  VehicleType_unknown  Gearbox_manual  \\\n",
       "160544                   1                    0               1   \n",
       "351828                   1                    0               1   \n",
       "41863                    1                    0               1   \n",
       "107194                   0                    0               0   \n",
       "103454                   1                    0               1   \n",
       "\n",
       "        Gearbox_unknown  Model_145  Model_147  Model_156  Model_159  \\\n",
       "160544                0          0          0          0          0   \n",
       "351828                0          0          0          0          0   \n",
       "41863                 0          0          0          0          0   \n",
       "107194                0          0          0          0          0   \n",
       "103454                0          0          0          0          0   \n",
       "\n",
       "        Model_1_reihe  Model_1er  Model_200  Model_2_reihe  Model_300c  \\\n",
       "160544              0          0          0              0           0   \n",
       "351828              0          0          0              0           0   \n",
       "41863               0          0          0              0           0   \n",
       "107194              0          0          0              0           0   \n",
       "103454              0          0          0              0           0   \n",
       "\n",
       "        Model_3_reihe  Model_3er  Model_4_reihe  Model_500  Model_5_reihe  \\\n",
       "160544              0          0              0          0              0   \n",
       "351828              0          0              0          0              0   \n",
       "41863               0          0              0          0              0   \n",
       "107194              0          1              0          0              0   \n",
       "103454              0          0              0          0              0   \n",
       "\n",
       "        Model_5er  Model_601  Model_6_reihe  Model_6er  Model_7er  Model_80  \\\n",
       "160544          0          0              0          0          0         0   \n",
       "351828          0          0              0          0          0         0   \n",
       "41863           0          0              0          0          0         0   \n",
       "107194          0          0              0          0          0         0   \n",
       "103454          0          0              0          0          0         0   \n",
       "\n",
       "        Model_850  Model_90  Model_900  Model_9000  Model_911  Model_a1  \\\n",
       "160544          0         0          0           0          0         0   \n",
       "351828          0         0          0           0          0         0   \n",
       "41863           0         0          0           0          0         0   \n",
       "107194          0         0          0           0          0         0   \n",
       "103454          0         0          0           0          0         0   \n",
       "\n",
       "        Model_a2  Model_a3  Model_a4  Model_a5  Model_a6  Model_a8  \\\n",
       "160544         0         0         0         0         0         0   \n",
       "351828         0         0         0         0         0         0   \n",
       "41863          0         0         0         0         0         0   \n",
       "107194         0         0         0         0         0         0   \n",
       "103454         0         0         0         0         0         0   \n",
       "\n",
       "        Model_a_klasse  Model_accord  Model_agila  Model_alhambra  \\\n",
       "160544               0             0            0               0   \n",
       "351828               0             0            0               0   \n",
       "41863                0             0            0               0   \n",
       "107194               0             0            0               0   \n",
       "103454               0             0            0               0   \n",
       "\n",
       "        Model_almera  Model_altea  Model_amarok  Model_antara  Model_arosa  \\\n",
       "160544             0            0             0             0            0   \n",
       "351828             0            0             0             0            0   \n",
       "41863              0            0             0             0            0   \n",
       "107194             0            0             0             0            0   \n",
       "103454             0            0             0             0            0   \n",
       "\n",
       "        Model_astra  Model_auris  Model_avensis  Model_aveo  Model_aygo  \\\n",
       "160544            0            0              0           0           0   \n",
       "351828            0            0              0           0           0   \n",
       "41863             0            0              0           0           0   \n",
       "107194            0            0              0           0           0   \n",
       "103454            0            0              0           0           0   \n",
       "\n",
       "        Model_b_klasse  Model_b_max  Model_beetle  Model_berlingo  Model_bora  \\\n",
       "160544               0            0             0               0           0   \n",
       "351828               0            0             0               0           0   \n",
       "41863                0            0             0               0           0   \n",
       "107194               0            0             0               0           0   \n",
       "103454               0            0             0               0           0   \n",
       "\n",
       "        Model_boxster  Model_bravo  Model_c1  Model_c2  Model_c3  Model_c4  \\\n",
       "160544              0            0         0         0         0         0   \n",
       "351828              0            0         0         0         0         0   \n",
       "41863               0            0         0         0         0         0   \n",
       "107194              0            0         0         0         0         0   \n",
       "103454              0            0         0         0         0         0   \n",
       "\n",
       "        Model_c5  Model_c_klasse  Model_c_max  Model_c_reihe  Model_caddy  \\\n",
       "160544         0               0            0              0            0   \n",
       "351828         0               0            0              0            0   \n",
       "41863          0               0            0              0            0   \n",
       "107194         0               0            0              0            0   \n",
       "103454         0               0            0              0            0   \n",
       "\n",
       "        Model_calibra  Model_captiva  Model_carisma  Model_carnival  \\\n",
       "160544              0              0              0               0   \n",
       "351828              0              0              0               0   \n",
       "41863               0              0              0               0   \n",
       "107194              0              0              0               0   \n",
       "103454              0              0              0               0   \n",
       "\n",
       "        Model_cayenne  Model_cc  Model_ceed  Model_charade  Model_cherokee  \\\n",
       "160544              0         0           0              0               0   \n",
       "351828              0         0           0              0               0   \n",
       "41863               0         0           0              0               0   \n",
       "107194              0         0           0              0               0   \n",
       "103454              0         0           0              0               0   \n",
       "\n",
       "        Model_citigo  Model_civic  Model_cl  Model_clio  Model_clk  \\\n",
       "160544             0            0         0           0          0   \n",
       "351828             0            0         0           0          0   \n",
       "41863              0            0         0           0          0   \n",
       "107194             0            0         0           0          0   \n",
       "103454             0            0         0           0          0   \n",
       "\n",
       "        Model_clubman  Model_colt  Model_combo  Model_cooper  Model_cordoba  \\\n",
       "160544              0           0            0             0              0   \n",
       "351828              0           0            0             0              0   \n",
       "41863               0           0            0             0              0   \n",
       "107194              0           0            0             0              0   \n",
       "103454              0           0            0             0              0   \n",
       "\n",
       "        Model_corolla  Model_corsa  Model_cr_reihe  Model_croma  \\\n",
       "160544              0            0               0            0   \n",
       "351828              0            0               0            0   \n",
       "41863               0            0               0            0   \n",
       "107194              0            0               0            0   \n",
       "103454              0            0               0            0   \n",
       "\n",
       "        Model_crossfire  Model_cuore  Model_cx_reihe  Model_defender  \\\n",
       "160544                0            0               0               0   \n",
       "351828                0            0               0               0   \n",
       "41863                 0            0               0               0   \n",
       "107194                0            0               0               0   \n",
       "103454                0            0               0               0   \n",
       "\n",
       "        Model_delta  Model_discovery  Model_doblo  Model_ducato  Model_duster  \\\n",
       "160544            0                0            0             0             0   \n",
       "351828            0                0            0             0             0   \n",
       "41863             0                0            0             0             0   \n",
       "107194            0                0            0             0             0   \n",
       "103454            0                0            0             0             0   \n",
       "\n",
       "        Model_e_klasse  Model_elefantino  Model_eos  Model_escort  \\\n",
       "160544               0                 0          0             0   \n",
       "351828               0                 0          0             0   \n",
       "41863                0                 0          0             0   \n",
       "107194               0                 0          0             0   \n",
       "103454               0                 0          0             0   \n",
       "\n",
       "        Model_espace  Model_exeo  Model_fabia  Model_fiesta  Model_focus  \\\n",
       "160544             0           0            0             0            0   \n",
       "351828             0           0            0             0            0   \n",
       "41863              0           0            0             0            0   \n",
       "107194             0           0            0             0            0   \n",
       "103454             0           0            0             0            0   \n",
       "\n",
       "        Model_forester  Model_forfour  Model_fortwo  Model_fox  \\\n",
       "160544               0              0             0          0   \n",
       "351828               0              0             0          0   \n",
       "41863                0              0             0          0   \n",
       "107194               0              0             0          0   \n",
       "103454               0              0             0          0   \n",
       "\n",
       "        Model_freelander  Model_fusion  Model_g_klasse  Model_galant  \\\n",
       "160544                 0             0               0             0   \n",
       "351828                 0             0               0             0   \n",
       "41863                  0             0               0             0   \n",
       "107194                 0             0               0             0   \n",
       "103454                 0             0               0             0   \n",
       "\n",
       "        Model_galaxy  Model_getz  Model_gl  Model_glk  Model_golf  \\\n",
       "160544             0           0         0          0           0   \n",
       "351828             0           0         0          0           0   \n",
       "41863              0           0         0          0           1   \n",
       "107194             0           0         0          0           0   \n",
       "103454             0           0         0          0           0   \n",
       "\n",
       "        Model_grand  Model_i3  Model_i_reihe  Model_ibiza  Model_impreza  \\\n",
       "160544            0         0              0            0              0   \n",
       "351828            0         0              0            0              0   \n",
       "41863             0         0              0            0              0   \n",
       "107194            0         0              0            0              0   \n",
       "103454            0         0              0            0              0   \n",
       "\n",
       "        Model_insignia  Model_jazz  Model_jetta  Model_jimny  Model_juke  \\\n",
       "160544               0           0            0            0           0   \n",
       "351828               0           0            0            0           0   \n",
       "41863                0           0            0            0           0   \n",
       "107194               0           0            0            0           0   \n",
       "103454               0           0            0            0           0   \n",
       "\n",
       "        Model_justy  Model_ka  Model_kadett  Model_kaefer  Model_kalina  \\\n",
       "160544            0         0             0             0             0   \n",
       "351828            0         0             0             0             0   \n",
       "41863             0         0             0             0             0   \n",
       "107194            0         0             0             0             0   \n",
       "103454            0         0             0             0             0   \n",
       "\n",
       "        Model_kalos  Model_kangoo  Model_kappa  Model_kuga  Model_laguna  \\\n",
       "160544            0             0            0           0             0   \n",
       "351828            0             0            0           0             0   \n",
       "41863             0             0            0           0             0   \n",
       "107194            0             0            0           0             0   \n",
       "103454            0             0            0           0             0   \n",
       "\n",
       "        Model_lancer  Model_lanos  Model_legacy  Model_leon  Model_lodgy  \\\n",
       "160544             0            0             0           0            0   \n",
       "351828             0            0             0           0            0   \n",
       "41863              0            0             0           0            0   \n",
       "107194             0            0             0           0            0   \n",
       "103454             0            0             0           0            0   \n",
       "\n",
       "        Model_logan  Model_lupo  Model_lybra  Model_m_klasse  Model_m_reihe  \\\n",
       "160544            0           0            0               0              0   \n",
       "351828            0           0            0               0              0   \n",
       "41863             0           0            0               0              0   \n",
       "107194            0           0            0               0              0   \n",
       "103454            0           0            0               0              0   \n",
       "\n",
       "        Model_materia  Model_matiz  Model_megane  Model_meriva  Model_micra  \\\n",
       "160544              0            0             0             0            0   \n",
       "351828              0            0             0             0            0   \n",
       "41863               0            0             0             0            0   \n",
       "107194              0            0             0             0            0   \n",
       "103454              0            0             0             0            0   \n",
       "\n",
       "        Model_mii  Model_modus  Model_mondeo  Model_move  Model_musa  \\\n",
       "160544          0            0             0           0           0   \n",
       "351828          0            0             0           0           0   \n",
       "41863           0            0             0           0           0   \n",
       "107194          0            0             0           0           0   \n",
       "103454          0            0             0           0           0   \n",
       "\n",
       "        Model_mustang  Model_mx_reihe  Model_navara  Model_niva  Model_note  \\\n",
       "160544              0               0             0           0           0   \n",
       "351828              0               0             0           0           0   \n",
       "41863               0               0             0           0           0   \n",
       "107194              0               0             0           0           0   \n",
       "103454              0               0             0           0           0   \n",
       "\n",
       "        Model_nubira  Model_octavia  Model_omega  Model_one  Model_other  \\\n",
       "160544             0              0            0          0            0   \n",
       "351828             0              0            0          0            0   \n",
       "41863              0              0            0          0            0   \n",
       "107194             0              0            0          0            0   \n",
       "103454             0              0            0          0            1   \n",
       "\n",
       "        Model_outlander  Model_pajero  Model_panda  Model_passat  \\\n",
       "160544                0             0            0             0   \n",
       "351828                0             0            0             0   \n",
       "41863                 0             0            0             0   \n",
       "107194                0             0            0             0   \n",
       "103454                0             0            0             0   \n",
       "\n",
       "        Model_phaeton  Model_picanto  Model_polo  Model_primera  \\\n",
       "160544              0              0           0              0   \n",
       "351828              0              0           0              0   \n",
       "41863               0              0           0              0   \n",
       "107194              0              0           0              0   \n",
       "103454              0              0           0              0   \n",
       "\n",
       "        Model_ptcruiser  Model_punto  Model_q3  Model_q5  Model_q7  \\\n",
       "160544                0            0         0         0         0   \n",
       "351828                0            1         0         0         0   \n",
       "41863                 0            0         0         0         0   \n",
       "107194                0            0         0         0         0   \n",
       "103454                0            0         0         0         0   \n",
       "\n",
       "        Model_qashqai  Model_r19  Model_range_rover  Model_range_rover_evoque  \\\n",
       "160544              0          0                  0                         0   \n",
       "351828              0          0                  0                         0   \n",
       "41863               0          0                  0                         0   \n",
       "107194              0          0                  0                         0   \n",
       "103454              0          0                  0                         0   \n",
       "\n",
       "        Model_range_rover_sport  Model_rangerover  Model_rav  Model_rio  \\\n",
       "160544                        0                 0          0          0   \n",
       "351828                        0                 0          0          0   \n",
       "41863                         0                 0          0          0   \n",
       "107194                        0                 0          0          0   \n",
       "103454                        0                 0          0          0   \n",
       "\n",
       "        Model_roadster  Model_roomster  Model_rx_reihe  Model_s60  \\\n",
       "160544               0               0               0          0   \n",
       "351828               0               0               0          0   \n",
       "41863                0               0               0          0   \n",
       "107194               0               0               0          0   \n",
       "103454               0               0               0          0   \n",
       "\n",
       "        Model_s_klasse  Model_s_max  Model_s_type  Model_samara  \\\n",
       "160544               0            0             0             0   \n",
       "351828               0            0             0             0   \n",
       "41863                0            0             0             0   \n",
       "107194               0            0             0             0   \n",
       "103454               0            0             0             0   \n",
       "\n",
       "        Model_sandero  Model_santa  Model_scenic  Model_scirocco  \\\n",
       "160544              0            0             0               0   \n",
       "351828              0            0             0               0   \n",
       "41863               0            0             0               0   \n",
       "107194              0            0             0               0   \n",
       "103454              0            0             0               0   \n",
       "\n",
       "        Model_seicento  Model_serie_1  Model_serie_2  Model_serie_3  \\\n",
       "160544               0              0              0              0   \n",
       "351828               0              0              0              0   \n",
       "41863                0              0              0              0   \n",
       "107194               0              0              0              0   \n",
       "103454               0              0              0              0   \n",
       "\n",
       "        Model_sharan  Model_signum  Model_sirion  Model_sl  Model_slk  \\\n",
       "160544             0             0             0         0          0   \n",
       "351828             0             0             0         0          0   \n",
       "41863              0             0             0         0          0   \n",
       "107194             0             0             0         0          0   \n",
       "103454             0             0             0         0          0   \n",
       "\n",
       "        Model_sorento  Model_spark  Model_spider  Model_sportage  \\\n",
       "160544              0            0             0               0   \n",
       "351828              0            0             0               0   \n",
       "41863               0            0             0               0   \n",
       "107194              0            0             0               0   \n",
       "103454              0            0             0               0   \n",
       "\n",
       "        Model_sprinter  Model_stilo  Model_superb  Model_swift  Model_terios  \\\n",
       "160544               0            0             0            0             0   \n",
       "351828               0            0             0            0             0   \n",
       "41863                0            0             0            0             0   \n",
       "107194               0            0             0            0             0   \n",
       "103454               0            0             0            0             0   \n",
       "\n",
       "        Model_tigra  Model_tiguan  Model_toledo  Model_touareg  Model_touran  \\\n",
       "160544            0             0             0              0             0   \n",
       "351828            0             0             0              0             0   \n",
       "41863             0             0             0              0             0   \n",
       "107194            0             0             0              0             0   \n",
       "103454            0             0             0              0             0   \n",
       "\n",
       "        Model_transit  Model_transporter  Model_tt  Model_tucson  \\\n",
       "160544              0                  1         0             0   \n",
       "351828              0                  0         0             0   \n",
       "41863               0                  0         0             0   \n",
       "107194              0                  0         0             0   \n",
       "103454              0                  0         0             0   \n",
       "\n",
       "        Model_twingo  Model_up  Model_v40  Model_v50  Model_v60  Model_v70  \\\n",
       "160544             0         0          0          0          0          0   \n",
       "351828             0         0          0          0          0          0   \n",
       "41863              0         0          0          0          0          0   \n",
       "107194             0         0          0          0          0          0   \n",
       "103454             0         0          0          0          0          0   \n",
       "\n",
       "        Model_v_klasse  Model_vectra  Model_verso  Model_viano  Model_vito  \\\n",
       "160544               0             0            0            0           0   \n",
       "351828               0             0            0            0           0   \n",
       "41863                0             0            0            0           0   \n",
       "107194               0             0            0            0           0   \n",
       "103454               0             0            0            0           0   \n",
       "\n",
       "        Model_vivaro  Model_voyager  Model_wrangler  Model_x_reihe  \\\n",
       "160544             0              0               0              0   \n",
       "351828             0              0               0              0   \n",
       "41863              0              0               0              0   \n",
       "107194             0              0               0              0   \n",
       "103454             0              0               0              0   \n",
       "\n",
       "        Model_x_trail  Model_x_type  Model_xc_reihe  Model_yaris  Model_yeti  \\\n",
       "160544              0             0               0            0           0   \n",
       "351828              0             0               0            0           0   \n",
       "41863               0             0               0            0           0   \n",
       "107194              0             0               0            0           0   \n",
       "103454              0             0               0            0           0   \n",
       "\n",
       "        Model_ypsilon  Model_z_reihe  Model_zafira  FuelType_electric  \\\n",
       "160544              0              0             0                  0   \n",
       "351828              0              0             0                  0   \n",
       "41863               0              0             0                  0   \n",
       "107194              0              0             0                  0   \n",
       "103454              0              0             0                  0   \n",
       "\n",
       "        FuelType_gasoline  FuelType_hybrid  FuelType_lpg  FuelType_other  \\\n",
       "160544                  0                0             0               0   \n",
       "351828                  0                0             0               0   \n",
       "41863                   0                0             0               0   \n",
       "107194                  0                0             0               0   \n",
       "103454                  0                0             0               0   \n",
       "\n",
       "        FuelType_petrol  FuelType_unknown  Brand_audi  Brand_bmw  \\\n",
       "160544                0                 1           0          0   \n",
       "351828                1                 0           0          0   \n",
       "41863                 1                 0           0          0   \n",
       "107194                1                 0           0          1   \n",
       "103454                0                 1           0          0   \n",
       "\n",
       "        Brand_chevrolet  Brand_chrysler  Brand_citroen  Brand_dacia  \\\n",
       "160544                0               0              0            0   \n",
       "351828                0               0              0            0   \n",
       "41863                 0               0              0            0   \n",
       "107194                0               0              0            0   \n",
       "103454                0               0              0            0   \n",
       "\n",
       "        Brand_daewoo  Brand_daihatsu  Brand_fiat  Brand_ford  Brand_honda  \\\n",
       "160544             0               0           0           0            0   \n",
       "351828             0               0           1           0            0   \n",
       "41863              0               0           0           0            0   \n",
       "107194             0               0           0           0            0   \n",
       "103454             0               0           0           0            0   \n",
       "\n",
       "        Brand_hyundai  Brand_jaguar  Brand_jeep  Brand_kia  Brand_lada  \\\n",
       "160544              0             0           0          0           0   \n",
       "351828              0             0           0          0           0   \n",
       "41863               0             0           0          0           0   \n",
       "107194              0             0           0          0           0   \n",
       "103454              0             0           0          0           0   \n",
       "\n",
       "        Brand_lancia  Brand_land_rover  Brand_mazda  Brand_mercedes_benz  \\\n",
       "160544             0                 0            0                    0   \n",
       "351828             0                 0            0                    0   \n",
       "41863              0                 0            0                    0   \n",
       "107194             0                 0            0                    0   \n",
       "103454             0                 0            0                    0   \n",
       "\n",
       "        Brand_mini  Brand_mitsubishi  Brand_nissan  Brand_opel  Brand_peugeot  \\\n",
       "160544           0                 0             0           0              0   \n",
       "351828           0                 0             0           0              0   \n",
       "41863            0                 0             0           0              0   \n",
       "107194           0                 0             0           0              0   \n",
       "103454           0                 0             0           0              0   \n",
       "\n",
       "        Brand_porsche  Brand_renault  Brand_rover  Brand_saab  Brand_seat  \\\n",
       "160544              0              0            0           0           0   \n",
       "351828              0              0            0           0           0   \n",
       "41863               0              0            0           0           0   \n",
       "107194              0              0            0           0           0   \n",
       "103454              0              0            0           0           0   \n",
       "\n",
       "        Brand_skoda  Brand_smart  Brand_subaru  Brand_suzuki  Brand_toyota  \\\n",
       "160544            0            0             0             0             0   \n",
       "351828            0            0             0             0             0   \n",
       "41863             0            0             0             0             0   \n",
       "107194            0            0             0             0             0   \n",
       "103454            0            0             0             0             0   \n",
       "\n",
       "        Brand_trabant  Brand_volkswagen  Brand_volvo  NotRepaired_unknown  \\\n",
       "160544              0                 1            0                    0   \n",
       "351828              0                 0            0                    0   \n",
       "41863               0                 1            0                    0   \n",
       "107194              0                 0            0                    0   \n",
       "103454              0                 0            1                    0   \n",
       "\n",
       "        NotRepaired_yes  \n",
       "160544                1  \n",
       "351828                0  \n",
       "41863                 0  \n",
       "107194                0  \n",
       "103454                0  "
      ]
     },
     "execution_count": 23,
     "metadata": {},
     "output_type": "execute_result"
    }
   ],
   "source": [
    "features_train_lr.head()"
   ]
  },
  {
   "cell_type": "code",
   "execution_count": 24,
   "metadata": {
    "scrolled": true
   },
   "outputs": [
    {
     "data": {
      "text/html": [
       "<div>\n",
       "<style scoped>\n",
       "    .dataframe tbody tr th:only-of-type {\n",
       "        vertical-align: middle;\n",
       "    }\n",
       "\n",
       "    .dataframe tbody tr th {\n",
       "        vertical-align: top;\n",
       "    }\n",
       "\n",
       "    .dataframe thead th {\n",
       "        text-align: right;\n",
       "    }\n",
       "</style>\n",
       "<table border=\"1\" class=\"dataframe\">\n",
       "  <thead>\n",
       "    <tr style=\"text-align: right;\">\n",
       "      <th></th>\n",
       "      <th>VehicleType</th>\n",
       "      <th>RegistrationYear</th>\n",
       "      <th>Gearbox</th>\n",
       "      <th>Power</th>\n",
       "      <th>Model</th>\n",
       "      <th>Kilometer</th>\n",
       "      <th>RegistrationMonth</th>\n",
       "      <th>FuelType</th>\n",
       "      <th>Brand</th>\n",
       "      <th>NotRepaired</th>\n",
       "    </tr>\n",
       "  </thead>\n",
       "  <tbody>\n",
       "    <tr>\n",
       "      <th>160544</th>\n",
       "      <td>manual</td>\n",
       "      <td>2016</td>\n",
       "      <td>manual</td>\n",
       "      <td>57</td>\n",
       "      <td>transporter</td>\n",
       "      <td>150000</td>\n",
       "      <td>11</td>\n",
       "      <td>unknown</td>\n",
       "      <td>volkswagen</td>\n",
       "      <td>yes</td>\n",
       "    </tr>\n",
       "    <tr>\n",
       "      <th>351828</th>\n",
       "      <td>manual</td>\n",
       "      <td>2001</td>\n",
       "      <td>manual</td>\n",
       "      <td>60</td>\n",
       "      <td>punto</td>\n",
       "      <td>150000</td>\n",
       "      <td>3</td>\n",
       "      <td>petrol</td>\n",
       "      <td>fiat</td>\n",
       "      <td>no</td>\n",
       "    </tr>\n",
       "    <tr>\n",
       "      <th>41863</th>\n",
       "      <td>manual</td>\n",
       "      <td>1998</td>\n",
       "      <td>manual</td>\n",
       "      <td>75</td>\n",
       "      <td>golf</td>\n",
       "      <td>150000</td>\n",
       "      <td>8</td>\n",
       "      <td>petrol</td>\n",
       "      <td>volkswagen</td>\n",
       "      <td>no</td>\n",
       "    </tr>\n",
       "    <tr>\n",
       "      <th>107194</th>\n",
       "      <td>auto</td>\n",
       "      <td>2009</td>\n",
       "      <td>auto</td>\n",
       "      <td>234</td>\n",
       "      <td>3er</td>\n",
       "      <td>100000</td>\n",
       "      <td>7</td>\n",
       "      <td>petrol</td>\n",
       "      <td>bmw</td>\n",
       "      <td>no</td>\n",
       "    </tr>\n",
       "    <tr>\n",
       "      <th>103454</th>\n",
       "      <td>manual</td>\n",
       "      <td>1998</td>\n",
       "      <td>manual</td>\n",
       "      <td>105</td>\n",
       "      <td>other</td>\n",
       "      <td>150000</td>\n",
       "      <td>6</td>\n",
       "      <td>unknown</td>\n",
       "      <td>volvo</td>\n",
       "      <td>no</td>\n",
       "    </tr>\n",
       "  </tbody>\n",
       "</table>\n",
       "</div>"
      ],
      "text/plain": [
       "       VehicleType  RegistrationYear Gearbox  Power        Model  Kilometer  \\\n",
       "160544      manual              2016  manual     57  transporter     150000   \n",
       "351828      manual              2001  manual     60        punto     150000   \n",
       "41863       manual              1998  manual     75         golf     150000   \n",
       "107194        auto              2009    auto    234          3er     100000   \n",
       "103454      manual              1998  manual    105        other     150000   \n",
       "\n",
       "        RegistrationMonth FuelType       Brand NotRepaired  \n",
       "160544                 11  unknown  volkswagen         yes  \n",
       "351828                  3   petrol        fiat          no  \n",
       "41863                   8   petrol  volkswagen          no  \n",
       "107194                  7   petrol         bmw          no  \n",
       "103454                  6  unknown       volvo          no  "
      ]
     },
     "execution_count": 24,
     "metadata": {},
     "output_type": "execute_result"
    }
   ],
   "source": [
    "features_train.head()"
   ]
  },
  {
   "cell_type": "markdown",
   "metadata": {},
   "source": [
    "### Выводы"
   ]
  },
  {
   "cell_type": "markdown",
   "metadata": {},
   "source": [
    "На этапе подготовки данных\n",
    "- Данные из файла autos.csv загружены в dataframe с именем df.      \n",
    "- Набор данных состоит из 16 колонок и 354369 записей (объектов).      \n",
    "- Из исходных данных удалены дубликаты, заполнены (при наличии возможности) пропущенные значения, удалены некорректные записи и неинформативные признаки.  \n",
    "- После предобработки в датасете 11 колонок и 313890 записей (объектов). \n",
    "- Предобработанные данные разделены на обучающую и тестовую выборки, для модели Линейной регрессии дополнительно проведено прямое кодирование категориальных признаков и масштабирование числовых признаков."
   ]
  },
  {
   "cell_type": "markdown",
   "metadata": {},
   "source": [
    "## Обучение моделей"
   ]
  },
  {
   "cell_type": "markdown",
   "metadata": {},
   "source": [
    "### Подготовка метрики"
   ]
  },
  {
   "cell_type": "markdown",
   "metadata": {},
   "source": [
    "В качестве метрики будем использовать RMSE, подготовим соответствующий scorer"
   ]
  },
  {
   "cell_type": "code",
   "execution_count": 25,
   "metadata": {},
   "outputs": [],
   "source": [
    "def RMSE(target, predict):\n",
    "    RMSE = mean_squared_error(target, predict) ** 0.5\n",
    "    return RMSE\n",
    "\n",
    "RMSE_score = make_scorer(RMSE, greater_is_better=False)"
   ]
  },
  {
   "cell_type": "markdown",
   "metadata": {},
   "source": [
    "Определим вспомогательную функцию для вывода результатов обучения моделей"
   ]
  },
  {
   "cell_type": "markdown",
   "metadata": {},
   "source": [
    "### Линейная регрессия"
   ]
  },
  {
   "cell_type": "code",
   "execution_count": 26,
   "metadata": {},
   "outputs": [
    {
     "name": "stdout",
     "output_type": "stream",
     "text": [
      "Линейная регрессия\n",
      "RMSE на тестовой выборке:  2703.23\n",
      "Обучение модели: 6.42 сек.\n",
      "Предсказание модели на тестовой выборке: 0.18 сек.\n"
     ]
    }
   ],
   "source": [
    "model = LinearRegression()\n",
    "\n",
    "start = time.time()\n",
    "model.fit(features_train_lr, target_train_lr)\n",
    "fit_time = round(time.time() - start, 2)\n",
    "\n",
    "start = time.time()\n",
    "prediction_test_lr = model.predict(features_test_lr)\n",
    "predict_time = round(time.time() - start, 2)\n",
    "\n",
    "print('Линейная регрессия')\n",
    "print('RMSE на тестовой выборке: ', RMSE(target_test_lr, prediction_test_lr).round(2))\n",
    "print('Обучение модели:', fit_time, 'сек.')\n",
    "print('Предсказание модели на тестовой выборке:', predict_time, 'сек.')"
   ]
  },
  {
   "cell_type": "code",
   "execution_count": 27,
   "metadata": {},
   "outputs": [],
   "source": [
    "df_model_description = pd.DataFrame([RMSE(target_test_lr, prediction_test_lr).round(2),\n",
    "                                     fit_time,\n",
    "                                     predict_time],\n",
    "                                    columns=['Linear regression'], index=['RMSE','learning time','predict time'])"
   ]
  },
  {
   "cell_type": "markdown",
   "metadata": {},
   "source": [
    "### CatBoost"
   ]
  },
  {
   "cell_type": "code",
   "execution_count": 28,
   "metadata": {
    "scrolled": true
   },
   "outputs": [
    {
     "data": {
      "application/vnd.jupyter.widget-view+json": {
       "model_id": "ded72b2961d14613a1c13f160d8c0656",
       "version_major": 2,
       "version_minor": 0
      },
      "text/plain": [
       "MetricVisualizer(layout=Layout(align_self='stretch', height='500px'))"
      ]
     },
     "metadata": {},
     "output_type": "display_data"
    },
    {
     "name": "stdout",
     "output_type": "stream",
     "text": [
      "\n",
      "bestTest = 2120.271053\n",
      "bestIteration = 99\n",
      "\n",
      "0:\tloss: 2120.2710531\tbest: 2120.2710531 (0)\ttotal: 5.71s\tremaining: 5.71s\n",
      "\n",
      "bestTest = 1918.24803\n",
      "bestIteration = 199\n",
      "\n",
      "1:\tloss: 1918.2480296\tbest: 1918.2480296 (1)\ttotal: 28.4s\tremaining: 0us\n",
      "Estimating final quality...\n",
      "Training on fold [0/3]\n",
      "\n",
      "bestTest = 1909.406145\n",
      "bestIteration = 199\n",
      "\n",
      "Training on fold [1/3]\n",
      "\n",
      "bestTest = 1898.573329\n",
      "bestIteration = 199\n",
      "\n",
      "Training on fold [2/3]\n",
      "\n",
      "bestTest = 1904.478032\n",
      "bestIteration = 199\n",
      "\n",
      "Grid search time =  110.78\n",
      "CatBoost\n",
      "Параметры лучшей модели:  {'loss_function': 'RMSE', 'verbose': False, 'random_state': 42, 'cat_features': ['VehicleType', 'Gearbox', 'Model', 'FuelType', 'Brand', 'NotRepaired'], 'iterations': 200}\n",
      "RMSE на тестовой выборке:  1680.01\n",
      "Обучение модели: 26.95 сек.\n",
      "Предсказание модели на тестовой выборке: 0.05 сек.\n"
     ]
    }
   ],
   "source": [
    "CatBoost_model = CatBoostRegressor(random_state=rnd_state, loss_function='RMSE', cat_features=categorical_col, verbose=False)\n",
    "parameters_grid = {'iterations': [100, 200]}\n",
    "\n",
    "start = time.time()\n",
    "CatBoost_model.grid_search(parameters_grid, X=features_train, y=target_train, plot=True)\n",
    "print('Grid search time = ', round(time.time() - start, 2))\n",
    "\n",
    "start = time.time()\n",
    "CatBoost_model.fit(features_train, target_train)\n",
    "fit_time = round(time.time() - start, 2)\n",
    "\n",
    "start = time.time()\n",
    "prediction_test = CatBoost_model.predict(features_test)\n",
    "predict_time = round(time.time() - start, 2)\n",
    "\n",
    "print('CatBoost')\n",
    "print('Параметры лучшей модели: ', CatBoost_model.get_params())\n",
    "print('RMSE на тестовой выборке: ', RMSE(target_test, prediction_test).round(2))\n",
    "print('Обучение модели:', fit_time, 'сек.')\n",
    "print('Предсказание модели на тестовой выборке:', predict_time, 'сек.')"
   ]
  },
  {
   "cell_type": "code",
   "execution_count": 29,
   "metadata": {},
   "outputs": [],
   "source": [
    "df_model_description = df_model_description.join(pd.DataFrame([RMSE(target_test, prediction_test).round(2),\n",
    "                                     fit_time,\n",
    "                                     predict_time],\n",
    "                                    columns=['Catboost'], index=['RMSE','learning time','predict time']))"
   ]
  },
  {
   "cell_type": "code",
   "execution_count": 30,
   "metadata": {},
   "outputs": [
    {
     "data": {
      "image/png": "[encoded data removed]",
      "text/plain": [
       "<Figure size 864x576 with 1 Axes>"
      ]
     },
     "metadata": {
      "needs_background": "light"
     },
     "output_type": "display_data"
    }
   ],
   "source": [
    "feature_importances=pd.DataFrame({'feature_importance':CatBoost_model.feature_importances_}, index=features_train.columns)\n",
    "feature_importances.sort_values('feature_importance',ascending=True).plot(kind='barh', figsize=(12,8), title=\"Важность признаков для модели CatBoost\");"
   ]
  },
  {
   "cell_type": "markdown",
   "metadata": {},
   "source": [
    "### LightGBM"
   ]
  },
  {
   "cell_type": "code",
   "execution_count": 31,
   "metadata": {},
   "outputs": [
    {
     "name": "stdout",
     "output_type": "stream",
     "text": [
      "Grid search time =  12.12\n",
      "LightGBM\n",
      "Параметры лучшей модели:  {'learning_rate': 0.3}\n",
      "RMSE на тестовой выборке:  1633.22\n",
      "Обучение модели: 0.75 сек.\n",
      "Предсказание модели на тестовой выборке: 0.1 сек.\n"
     ]
    }
   ],
   "source": [
    "LightGBM_model = LGBMRegressor(random_state=rnd_state)\n",
    "\n",
    "parameters_grid = {'learning_rate': [0.1, 0.3, 0.5]}\n",
    "\n",
    "grid = GridSearchCV(LightGBM_model, parameters_grid, scoring=RMSE_score, cv=5)\n",
    "\n",
    "start = time.time()\n",
    "grid.fit(features_train, target_train)\n",
    "print('Grid search time = ', round(time.time() - start, 2))\n",
    "\n",
    "fit_time = round(grid.refit_time_,2)\n",
    "\n",
    "start = time.time()\n",
    "prediction_test = grid.best_estimator_.predict(features_test)\n",
    "predict_time = round(time.time() - start, 2)\n",
    "\n",
    "print('LightGBM')\n",
    "print('Параметры лучшей модели: ', grid.best_params_)\n",
    "print('RMSE на тестовой выборке: ', RMSE(target_test, prediction_test).round(2))\n",
    "print('Обучение модели:', fit_time, 'сек.')\n",
    "print('Предсказание модели на тестовой выборке:', predict_time, 'сек.')"
   ]
  },
  {
   "cell_type": "code",
   "execution_count": 32,
   "metadata": {},
   "outputs": [],
   "source": [
    "df_model_description = df_model_description.join(pd.DataFrame([RMSE(target_test, prediction_test).round(2),\n",
    "                                     fit_time,\n",
    "                                     predict_time],\n",
    "                                    columns=['LightGBM'], index=['RMSE','learning time','predict time']))"
   ]
  },
  {
   "cell_type": "code",
   "execution_count": 33,
   "metadata": {},
   "outputs": [
    {
     "data": {
      "image/png": "[encoded data removed]",
      "text/plain": [
       "<Figure size 864x576 with 1 Axes>"
      ]
     },
     "metadata": {
      "needs_background": "light"
     },
     "output_type": "display_data"
    }
   ],
   "source": [
    "feature_importances=pd.DataFrame({'feature_importance':grid.best_estimator_.feature_importances_}, index=features_train.columns)\n",
    "feature_importances.sort_values('feature_importance',ascending=True).plot(kind='barh', figsize=(12,8), title=\"Важность признаков для модели LightGBM\");"
   ]
  },
  {
   "cell_type": "markdown",
   "metadata": {},
   "source": [
    "Как мы видим - самыми важными и для CatBoost и для LightGBM являются признаки Год регистрации и мощность. А вот далее есть некоторые отличия."
   ]
  },
  {
   "cell_type": "markdown",
   "metadata": {},
   "source": [
    "### Выводы"
   ]
  },
  {
   "cell_type": "markdown",
   "metadata": {},
   "source": [
    "На этапе обучения моделей:  \n",
    "- Проведено обучение моделей линейной регрессии, CatBoost, LightGBM. Результаты обучения сведены в общую таблицу для анализа моделей."
   ]
  },
  {
   "cell_type": "markdown",
   "metadata": {},
   "source": [
    "## Анализ моделей"
   ]
  },
  {
   "cell_type": "code",
   "execution_count": 34,
   "metadata": {},
   "outputs": [
    {
     "data": {
      "text/html": [
       "<div>\n",
       "<style scoped>\n",
       "    .dataframe tbody tr th:only-of-type {\n",
       "        vertical-align: middle;\n",
       "    }\n",
       "\n",
       "    .dataframe tbody tr th {\n",
       "        vertical-align: top;\n",
       "    }\n",
       "\n",
       "    .dataframe thead th {\n",
       "        text-align: right;\n",
       "    }\n",
       "</style>\n",
       "<table border=\"1\" class=\"dataframe\">\n",
       "  <thead>\n",
       "    <tr style=\"text-align: right;\">\n",
       "      <th></th>\n",
       "      <th>Linear regression</th>\n",
       "      <th>Catboost</th>\n",
       "      <th>LightGBM</th>\n",
       "    </tr>\n",
       "  </thead>\n",
       "  <tbody>\n",
       "    <tr>\n",
       "      <th>RMSE</th>\n",
       "      <td>2703.23</td>\n",
       "      <td>1680.01</td>\n",
       "      <td>1633.22</td>\n",
       "    </tr>\n",
       "    <tr>\n",
       "      <th>learning time</th>\n",
       "      <td>6.42</td>\n",
       "      <td>26.95</td>\n",
       "      <td>0.75</td>\n",
       "    </tr>\n",
       "    <tr>\n",
       "      <th>predict time</th>\n",
       "      <td>0.18</td>\n",
       "      <td>0.05</td>\n",
       "      <td>0.10</td>\n",
       "    </tr>\n",
       "  </tbody>\n",
       "</table>\n",
       "</div>"
      ],
      "text/plain": [
       "               Linear regression  Catboost  LightGBM\n",
       "RMSE                     2703.23   1680.01   1633.22\n",
       "learning time               6.42     26.95      0.75\n",
       "predict time                0.18      0.05      0.10"
      ]
     },
     "execution_count": 34,
     "metadata": {},
     "output_type": "execute_result"
    }
   ],
   "source": [
    "df_model_description"
   ]
  },
  {
   "cell_type": "markdown",
   "metadata": {},
   "source": [
    "Добавим в таблицу колонки с лучшей и худшей моделью по каждому из параметров"
   ]
  },
  {
   "cell_type": "code",
   "execution_count": 35,
   "metadata": {},
   "outputs": [],
   "source": [
    "def best_worst_model(df):\n",
    "    col = df.columns\n",
    "    df['best_model'] = df.loc[:,col].apply(lambda x: x.sort_values(ascending = True).index[0], axis=1)\n",
    "    df['worst_model'] = df.loc[:,col].apply(lambda x: x.sort_values(ascending = False).index[0], axis=1)"
   ]
  },
  {
   "cell_type": "code",
   "execution_count": 36,
   "metadata": {},
   "outputs": [
    {
     "data": {
      "text/html": [
       "<div>\n",
       "<style scoped>\n",
       "    .dataframe tbody tr th:only-of-type {\n",
       "        vertical-align: middle;\n",
       "    }\n",
       "\n",
       "    .dataframe tbody tr th {\n",
       "        vertical-align: top;\n",
       "    }\n",
       "\n",
       "    .dataframe thead th {\n",
       "        text-align: right;\n",
       "    }\n",
       "</style>\n",
       "<table border=\"1\" class=\"dataframe\">\n",
       "  <thead>\n",
       "    <tr style=\"text-align: right;\">\n",
       "      <th></th>\n",
       "      <th>Linear regression</th>\n",
       "      <th>Catboost</th>\n",
       "      <th>LightGBM</th>\n",
       "      <th>best_model</th>\n",
       "      <th>worst_model</th>\n",
       "    </tr>\n",
       "  </thead>\n",
       "  <tbody>\n",
       "    <tr>\n",
       "      <th>RMSE</th>\n",
       "      <td>2703.23</td>\n",
       "      <td>1680.01</td>\n",
       "      <td>1633.22</td>\n",
       "      <td>LightGBM</td>\n",
       "      <td>Linear regression</td>\n",
       "    </tr>\n",
       "    <tr>\n",
       "      <th>learning time</th>\n",
       "      <td>6.42</td>\n",
       "      <td>26.95</td>\n",
       "      <td>0.75</td>\n",
       "      <td>LightGBM</td>\n",
       "      <td>Catboost</td>\n",
       "    </tr>\n",
       "    <tr>\n",
       "      <th>predict time</th>\n",
       "      <td>0.18</td>\n",
       "      <td>0.05</td>\n",
       "      <td>0.10</td>\n",
       "      <td>Catboost</td>\n",
       "      <td>Linear regression</td>\n",
       "    </tr>\n",
       "  </tbody>\n",
       "</table>\n",
       "</div>"
      ],
      "text/plain": [
       "               Linear regression  Catboost  LightGBM best_model  \\\n",
       "RMSE                     2703.23   1680.01   1633.22   LightGBM   \n",
       "learning time               6.42     26.95      0.75   LightGBM   \n",
       "predict time                0.18      0.05      0.10   Catboost   \n",
       "\n",
       "                     worst_model  \n",
       "RMSE           Linear regression  \n",
       "learning time           Catboost  \n",
       "predict time   Linear regression  "
      ]
     },
     "execution_count": 36,
     "metadata": {},
     "output_type": "execute_result"
    }
   ],
   "source": [
    "best_worst_model(df_model_description)\n",
    "df_model_description"
   ]
  },
  {
   "cell_type": "code",
   "execution_count": 37,
   "metadata": {},
   "outputs": [],
   "source": [
    "df_model_description = df_model_description.drop(['worst_model','best_model'], axis=1)"
   ]
  },
  {
   "cell_type": "markdown",
   "metadata": {},
   "source": [
    "### Выводы"
   ]
  },
  {
   "cell_type": "markdown",
   "metadata": {},
   "source": [
    "Анализ моделей показал:  \n",
    "- Лучшая модель по скорости обучения и точности: LightGBM\n",
    "- Лучшая модель по скорости предсказания CatBoost"
   ]
  },
  {
   "cell_type": "markdown",
   "metadata": {},
   "source": [
    "## Общий вывод по проекту"
   ]
  },
  {
   "cell_type": "markdown",
   "metadata": {},
   "source": [
    "**При выполнении проекта:**  \n",
    "\n",
    "На этапе подготовки данных:\n",
    "- Данные из файла autos.csv загружены в dataframe с именем df.      \n",
    "- Набор данных состоит из 16 колонок и 354369 записей (объектов).      \n",
    "- Из исходных данных удалены дубликаты, заполнены (при наличии возможности) пропущенные значения, удалены некорректные записи и неинформативные признаки.   \n",
    "- Предобработанные данные разделены на обучающую и тестовую выборки, для модели Линейной регрессии дополнительно проведено прямое кодирование категориальных признаков и масштабирование числовых признаков.\n",
    "\n",
    "На этапе обучения моделей:  \n",
    "- Проведено обучение моделей линейной регрессии, CatBoost, LightGBM. Результаты обучения сведены в общую таблицу для анализа моделей.\n",
    "\n",
    "Анализ моделей показал:  \n",
    "- Лучшая модель по скорости обучения и точности: LightGBM\n",
    "- Лучшая модель по скорости предсказания CatBoost\n",
    "- В качестве модели для использования по совокупной оценке можно рекомендовать LightGBM. \n",
    "- Если же для Заказчика более важна скорость предсказания, то лучше использовать CatBoost. Точность модели возможно получится повысить за счет более качественного подбора гиперпараметров.\n"
   ]
  }
 ],
 "metadata": {
  "ExecuteTimeLog": [
   {
    "duration": 20157,
    "start_time": "2022-04-25T05:14:16.118Z"
   },
   {
    "duration": 7850,
    "start_time": "2022-04-25T05:15:58.632Z"
   },
   {
    "duration": 4365,
    "start_time": "2022-04-25T05:16:11.413Z"
   },
   {
    "duration": 8288,
    "start_time": "2022-04-25T05:16:37.528Z"
   },
   {
    "duration": 7,
    "start_time": "2022-04-25T05:16:58.179Z"
   },
   {
    "duration": 2478,
    "start_time": "2022-04-25T05:17:00.421Z"
   },
   {
    "duration": 6,
    "start_time": "2022-04-25T05:17:19.133Z"
   },
   {
    "duration": 2378,
    "start_time": "2022-04-25T05:17:20.200Z"
   },
   {
    "duration": 6,
    "start_time": "2022-04-25T05:17:31.304Z"
   },
   {
    "duration": 1988,
    "start_time": "2022-04-25T05:17:32.192Z"
   },
   {
    "duration": 6,
    "start_time": "2022-04-25T05:17:47.306Z"
   },
   {
    "duration": 2221,
    "start_time": "2022-04-25T05:17:47.315Z"
   },
   {
    "duration": 66349,
    "start_time": "2022-04-25T05:19:53.633Z"
   },
   {
    "duration": 715,
    "start_time": "2022-04-25T06:17:02.817Z"
   },
   {
    "duration": 686,
    "start_time": "2022-04-25T06:18:19.791Z"
   },
   {
    "duration": 44,
    "start_time": "2022-04-25T06:19:02.892Z"
   },
   {
    "duration": 75,
    "start_time": "2022-04-25T06:19:26.517Z"
   },
   {
    "duration": 152,
    "start_time": "2022-04-25T06:19:57.632Z"
   },
   {
    "duration": 43,
    "start_time": "2022-04-25T06:21:22.208Z"
   },
   {
    "duration": 82,
    "start_time": "2022-04-25T06:21:31.240Z"
   },
   {
    "duration": 49,
    "start_time": "2022-04-25T06:21:35.704Z"
   },
   {
    "duration": 180142,
    "start_time": "2022-04-25T06:21:41.294Z"
   },
   {
    "duration": 546,
    "start_time": "2022-04-25T06:24:41.438Z"
   },
   {
    "duration": 227,
    "start_time": "2022-04-25T06:30:06.948Z"
   },
   {
    "duration": 202,
    "start_time": "2022-04-25T06:30:54.605Z"
   },
   {
    "duration": 277,
    "start_time": "2022-04-25T07:32:59.940Z"
   },
   {
    "duration": 337,
    "start_time": "2022-04-25T07:34:44.523Z"
   },
   {
    "duration": 223,
    "start_time": "2022-04-25T07:39:19.974Z"
   },
   {
    "duration": 19,
    "start_time": "2022-04-25T07:39:28.718Z"
   },
   {
    "duration": 38432,
    "start_time": "2022-04-25T07:39:37.478Z"
   },
   {
    "duration": 9317,
    "start_time": "2022-04-25T07:40:21.989Z"
   },
   {
    "duration": 7098,
    "start_time": "2022-04-25T07:42:05.373Z"
   },
   {
    "duration": 21,
    "start_time": "2022-04-25T07:44:28.194Z"
   },
   {
    "duration": 7,
    "start_time": "2022-04-25T07:44:35.730Z"
   },
   {
    "duration": 22,
    "start_time": "2022-04-25T07:44:50.996Z"
   },
   {
    "duration": 22,
    "start_time": "2022-04-25T07:44:55.576Z"
   },
   {
    "duration": 26,
    "start_time": "2022-04-25T07:45:29.978Z"
   },
   {
    "duration": 7840,
    "start_time": "2022-04-25T07:45:35.461Z"
   },
   {
    "duration": 18,
    "start_time": "2022-04-25T07:55:14.890Z"
   },
   {
    "duration": 27,
    "start_time": "2022-04-25T07:55:21.000Z"
   },
   {
    "duration": 7,
    "start_time": "2022-04-25T07:55:52.927Z"
   },
   {
    "duration": 15,
    "start_time": "2022-04-25T07:55:54.287Z"
   },
   {
    "duration": 2204,
    "start_time": "2022-04-25T07:56:02.978Z"
   },
   {
    "duration": 776,
    "start_time": "2022-04-25T07:56:11.220Z"
   },
   {
    "duration": 197,
    "start_time": "2022-04-25T07:56:14.082Z"
   },
   {
    "duration": 90,
    "start_time": "2022-04-25T07:56:17.038Z"
   },
   {
    "duration": 179,
    "start_time": "2022-04-25T07:56:17.711Z"
   },
   {
    "duration": 175,
    "start_time": "2022-04-25T09:11:01.488Z"
   },
   {
    "duration": 93,
    "start_time": "2022-04-25T09:11:39.994Z"
   },
   {
    "duration": 72,
    "start_time": "2022-04-25T09:12:58.817Z"
   },
   {
    "duration": 15,
    "start_time": "2022-04-25T09:17:11.677Z"
   },
   {
    "duration": 105,
    "start_time": "2022-04-25T09:17:16.776Z"
   },
   {
    "duration": 320,
    "start_time": "2022-04-25T09:17:44.181Z"
   },
   {
    "duration": 164,
    "start_time": "2022-04-25T09:17:58.249Z"
   },
   {
    "duration": 49,
    "start_time": "2022-04-25T09:18:35.398Z"
   },
   {
    "duration": 184,
    "start_time": "2022-04-25T09:18:36.626Z"
   },
   {
    "duration": 15,
    "start_time": "2022-04-25T09:22:52.832Z"
   },
   {
    "duration": 97,
    "start_time": "2022-04-25T09:23:03.487Z"
   },
   {
    "duration": 11,
    "start_time": "2022-04-25T09:23:22.865Z"
   },
   {
    "duration": 8,
    "start_time": "2022-04-25T09:23:30.715Z"
   },
   {
    "duration": 56,
    "start_time": "2022-04-25T09:24:25.528Z"
   },
   {
    "duration": 32,
    "start_time": "2022-04-25T09:24:27.149Z"
   },
   {
    "duration": 7005,
    "start_time": "2022-04-25T09:24:42.919Z"
   },
   {
    "duration": 5,
    "start_time": "2022-04-25T09:24:49.927Z"
   },
   {
    "duration": 2431,
    "start_time": "2022-04-25T09:24:49.935Z"
   },
   {
    "duration": 70170,
    "start_time": "2022-04-25T09:24:52.372Z"
   },
   {
    "duration": 986,
    "start_time": "2022-04-25T09:26:02.545Z"
   },
   {
    "duration": 266,
    "start_time": "2022-04-25T09:26:03.535Z"
   },
   {
    "duration": 116,
    "start_time": "2022-04-25T09:26:03.804Z"
   },
   {
    "duration": 88,
    "start_time": "2022-04-25T09:26:03.922Z"
   },
   {
    "duration": 113,
    "start_time": "2022-04-25T09:26:04.013Z"
   },
   {
    "duration": 8,
    "start_time": "2022-04-25T09:26:04.128Z"
   },
   {
    "duration": 87,
    "start_time": "2022-04-25T09:26:04.138Z"
   },
   {
    "duration": 67,
    "start_time": "2022-04-25T09:26:04.228Z"
   },
   {
    "duration": 129,
    "start_time": "2022-04-25T09:26:04.297Z"
   },
   {
    "duration": 25,
    "start_time": "2022-04-25T09:47:05.272Z"
   },
   {
    "duration": 68,
    "start_time": "2022-04-25T09:55:38.012Z"
   },
   {
    "duration": 96,
    "start_time": "2022-04-25T09:55:44.534Z"
   },
   {
    "duration": 4767,
    "start_time": "2022-04-25T09:57:39.547Z"
   },
   {
    "duration": 3115,
    "start_time": "2022-04-25T09:59:14.457Z"
   },
   {
    "duration": 334,
    "start_time": "2022-04-25T09:59:37.043Z"
   },
   {
    "duration": 78,
    "start_time": "2022-04-25T09:59:48.328Z"
   },
   {
    "duration": 84,
    "start_time": "2022-04-25T10:00:03.116Z"
   },
   {
    "duration": 71,
    "start_time": "2022-04-25T10:00:29.773Z"
   },
   {
    "duration": 150,
    "start_time": "2022-04-25T10:01:08.605Z"
   },
   {
    "duration": 179,
    "start_time": "2022-04-25T10:01:49.211Z"
   },
   {
    "duration": 137,
    "start_time": "2022-04-25T10:01:55.304Z"
   },
   {
    "duration": 122,
    "start_time": "2022-04-25T10:02:10.947Z"
   },
   {
    "duration": 72,
    "start_time": "2022-04-25T10:02:31.149Z"
   },
   {
    "duration": 72,
    "start_time": "2022-04-25T10:02:35.771Z"
   },
   {
    "duration": 5176,
    "start_time": "2022-04-25T10:02:43.926Z"
   },
   {
    "duration": 391,
    "start_time": "2022-04-25T10:04:01.925Z"
   },
   {
    "duration": 99,
    "start_time": "2022-04-25T10:04:07.679Z"
   },
   {
    "duration": 4218,
    "start_time": "2022-04-25T10:16:00.275Z"
   },
   {
    "duration": 3847,
    "start_time": "2022-04-25T10:31:48.134Z"
   },
   {
    "duration": 1310,
    "start_time": "2022-04-25T10:35:09.161Z"
   },
   {
    "duration": 3,
    "start_time": "2022-04-25T11:08:33.400Z"
   },
   {
    "duration": 1324,
    "start_time": "2022-04-25T11:08:34.843Z"
   },
   {
    "duration": 4,
    "start_time": "2022-04-25T11:12:54.365Z"
   },
   {
    "duration": 25,
    "start_time": "2022-04-25T11:12:54.865Z"
   },
   {
    "duration": 1472,
    "start_time": "2022-04-25T11:12:55.389Z"
   },
   {
    "duration": 4,
    "start_time": "2022-04-25T11:13:44.550Z"
   },
   {
    "duration": 1450,
    "start_time": "2022-04-25T11:17:13.738Z"
   },
   {
    "duration": 480,
    "start_time": "2022-04-25T11:17:16.773Z"
   },
   {
    "duration": 424,
    "start_time": "2022-04-25T11:17:37.139Z"
   },
   {
    "duration": 282,
    "start_time": "2022-04-25T11:17:40.625Z"
   },
   {
    "duration": 259,
    "start_time": "2022-04-25T11:18:07.445Z"
   },
   {
    "duration": 146,
    "start_time": "2022-04-25T11:18:32.753Z"
   },
   {
    "duration": 191,
    "start_time": "2022-04-25T11:19:14.803Z"
   },
   {
    "duration": 26,
    "start_time": "2022-04-25T11:19:25.818Z"
   },
   {
    "duration": 5,
    "start_time": "2022-04-25T11:22:07.200Z"
   },
   {
    "duration": 5,
    "start_time": "2022-04-25T11:22:17.880Z"
   },
   {
    "duration": 5,
    "start_time": "2022-04-25T11:22:24.619Z"
   },
   {
    "duration": 3872,
    "start_time": "2022-04-25T11:29:05.651Z"
   },
   {
    "duration": 5,
    "start_time": "2022-04-25T11:32:59.097Z"
   },
   {
    "duration": 7137,
    "start_time": "2022-04-25T11:40:36.191Z"
   },
   {
    "duration": 5,
    "start_time": "2022-04-25T11:40:43.331Z"
   },
   {
    "duration": 4374,
    "start_time": "2022-04-25T11:40:43.338Z"
   },
   {
    "duration": 64814,
    "start_time": "2022-04-25T11:40:47.716Z"
   },
   {
    "duration": 850,
    "start_time": "2022-04-25T11:41:52.532Z"
   },
   {
    "duration": 223,
    "start_time": "2022-04-25T11:41:53.384Z"
   },
   {
    "duration": 112,
    "start_time": "2022-04-25T11:41:53.609Z"
   },
   {
    "duration": 86,
    "start_time": "2022-04-25T11:41:53.723Z"
   },
   {
    "duration": 100,
    "start_time": "2022-04-25T11:41:53.811Z"
   },
   {
    "duration": 8,
    "start_time": "2022-04-25T11:41:53.915Z"
   },
   {
    "duration": 88,
    "start_time": "2022-04-25T11:41:53.926Z"
   },
   {
    "duration": 56,
    "start_time": "2022-04-25T11:41:54.017Z"
   },
   {
    "duration": 117,
    "start_time": "2022-04-25T11:41:54.076Z"
   },
   {
    "duration": 93,
    "start_time": "2022-04-25T11:41:54.196Z"
   },
   {
    "duration": 407,
    "start_time": "2022-04-25T11:41:54.291Z"
   },
   {
    "duration": 116,
    "start_time": "2022-04-25T11:41:54.700Z"
   },
   {
    "duration": 4,
    "start_time": "2022-04-25T11:41:54.818Z"
   },
   {
    "duration": 50,
    "start_time": "2022-04-25T11:41:54.825Z"
   },
   {
    "duration": 1395,
    "start_time": "2022-04-25T11:41:54.877Z"
   },
   {
    "duration": 439,
    "start_time": "2022-04-25T11:41:56.275Z"
   },
   {
    "duration": 252,
    "start_time": "2022-04-25T11:41:56.716Z"
   },
   {
    "duration": 151,
    "start_time": "2022-04-25T11:41:56.970Z"
   },
   {
    "duration": 177,
    "start_time": "2022-04-25T11:41:57.123Z"
   },
   {
    "duration": 16,
    "start_time": "2022-04-25T11:41:57.302Z"
   },
   {
    "duration": 7,
    "start_time": "2022-04-25T11:41:57.319Z"
   },
   {
    "duration": 183781,
    "start_time": "2022-04-25T11:41:57.328Z"
   },
   {
    "duration": 221695,
    "start_time": "2022-04-25T11:50:26.666Z"
   },
   {
    "duration": 212622,
    "start_time": "2022-04-25T12:02:12.943Z"
   },
   {
    "duration": 0,
    "start_time": "2022-04-25T12:08:31.766Z"
   },
   {
    "duration": 300,
    "start_time": "2022-04-25T12:14:20.165Z"
   },
   {
    "duration": 44900,
    "start_time": "2022-04-25T12:14:56.255Z"
   },
   {
    "duration": 41657,
    "start_time": "2022-04-25T12:16:16.703Z"
   },
   {
    "duration": 18,
    "start_time": "2022-04-25T12:23:22.601Z"
   },
   {
    "duration": 146,
    "start_time": "2022-04-25T12:24:09.247Z"
   },
   {
    "duration": 4567,
    "start_time": "2022-04-25T12:24:55.036Z"
   },
   {
    "duration": 6061,
    "start_time": "2022-04-25T12:27:31.640Z"
   },
   {
    "duration": 291,
    "start_time": "2022-04-25T12:27:52.666Z"
   },
   {
    "duration": 54,
    "start_time": "2022-04-25T12:27:58.167Z"
   },
   {
    "duration": 20,
    "start_time": "2022-04-25T12:28:03.127Z"
   },
   {
    "duration": 2362,
    "start_time": "2022-04-25T12:28:10.106Z"
   },
   {
    "duration": 644921,
    "start_time": "2022-04-25T12:28:48.788Z"
   },
   {
    "duration": 672649,
    "start_time": "2022-04-25T12:45:18.019Z"
   },
   {
    "duration": 20991,
    "start_time": "2022-04-25T15:36:50.066Z"
   },
   {
    "duration": 0,
    "start_time": "2022-04-25T15:37:11.062Z"
   },
   {
    "duration": 0,
    "start_time": "2022-04-25T15:37:11.063Z"
   },
   {
    "duration": 0,
    "start_time": "2022-04-25T15:37:11.065Z"
   },
   {
    "duration": 0,
    "start_time": "2022-04-25T15:37:11.067Z"
   },
   {
    "duration": 0,
    "start_time": "2022-04-25T15:37:11.068Z"
   },
   {
    "duration": 0,
    "start_time": "2022-04-25T15:37:11.069Z"
   },
   {
    "duration": 0,
    "start_time": "2022-04-25T15:37:11.071Z"
   },
   {
    "duration": 0,
    "start_time": "2022-04-25T15:37:11.073Z"
   },
   {
    "duration": 0,
    "start_time": "2022-04-25T15:37:11.074Z"
   },
   {
    "duration": 0,
    "start_time": "2022-04-25T15:37:11.093Z"
   },
   {
    "duration": 0,
    "start_time": "2022-04-25T15:37:11.095Z"
   },
   {
    "duration": 0,
    "start_time": "2022-04-25T15:37:11.096Z"
   },
   {
    "duration": 0,
    "start_time": "2022-04-25T15:37:11.098Z"
   },
   {
    "duration": 0,
    "start_time": "2022-04-25T15:37:11.100Z"
   },
   {
    "duration": 0,
    "start_time": "2022-04-25T15:37:11.102Z"
   },
   {
    "duration": 0,
    "start_time": "2022-04-25T15:37:11.104Z"
   },
   {
    "duration": 0,
    "start_time": "2022-04-25T15:37:11.105Z"
   },
   {
    "duration": 0,
    "start_time": "2022-04-25T15:37:11.107Z"
   },
   {
    "duration": 0,
    "start_time": "2022-04-25T15:37:11.108Z"
   },
   {
    "duration": 0,
    "start_time": "2022-04-25T15:37:11.110Z"
   },
   {
    "duration": 0,
    "start_time": "2022-04-25T15:37:11.111Z"
   },
   {
    "duration": 0,
    "start_time": "2022-04-25T15:37:11.113Z"
   },
   {
    "duration": 0,
    "start_time": "2022-04-25T15:37:11.115Z"
   },
   {
    "duration": 0,
    "start_time": "2022-04-25T15:37:11.116Z"
   },
   {
    "duration": 0,
    "start_time": "2022-04-25T15:37:11.118Z"
   },
   {
    "duration": 0,
    "start_time": "2022-04-25T15:37:11.120Z"
   },
   {
    "duration": 6772,
    "start_time": "2022-04-25T15:42:53.982Z"
   },
   {
    "duration": 7,
    "start_time": "2022-04-25T15:43:00.757Z"
   },
   {
    "duration": 2064,
    "start_time": "2022-04-25T15:43:00.766Z"
   },
   {
    "duration": 61822,
    "start_time": "2022-04-25T15:43:02.833Z"
   },
   {
    "duration": 827,
    "start_time": "2022-04-25T15:44:04.658Z"
   },
   {
    "duration": 296,
    "start_time": "2022-04-25T15:44:05.487Z"
   },
   {
    "duration": 89,
    "start_time": "2022-04-25T15:44:05.793Z"
   },
   {
    "duration": 81,
    "start_time": "2022-04-25T15:44:05.893Z"
   },
   {
    "duration": 96,
    "start_time": "2022-04-25T15:44:05.977Z"
   },
   {
    "duration": 20,
    "start_time": "2022-04-25T15:44:06.077Z"
   },
   {
    "duration": 73,
    "start_time": "2022-04-25T15:44:06.100Z"
   },
   {
    "duration": 53,
    "start_time": "2022-04-25T15:44:06.176Z"
   },
   {
    "duration": 111,
    "start_time": "2022-04-25T15:44:06.231Z"
   },
   {
    "duration": 83,
    "start_time": "2022-04-25T15:44:06.345Z"
   },
   {
    "duration": 395,
    "start_time": "2022-04-25T15:44:06.431Z"
   },
   {
    "duration": 101,
    "start_time": "2022-04-25T15:44:06.829Z"
   },
   {
    "duration": 5,
    "start_time": "2022-04-25T15:44:06.932Z"
   },
   {
    "duration": 300,
    "start_time": "2022-04-25T15:44:06.939Z"
   },
   {
    "duration": 1506,
    "start_time": "2022-04-25T15:44:07.241Z"
   },
   {
    "duration": 643,
    "start_time": "2022-04-25T15:44:08.750Z"
   },
   {
    "duration": 432,
    "start_time": "2022-04-25T15:44:09.395Z"
   },
   {
    "duration": 81,
    "start_time": "2022-04-25T15:44:09.829Z"
   },
   {
    "duration": 239,
    "start_time": "2022-04-25T15:44:09.913Z"
   },
   {
    "duration": 38,
    "start_time": "2022-04-25T15:44:10.155Z"
   },
   {
    "duration": 6,
    "start_time": "2022-04-25T15:44:10.195Z"
   },
   {
    "duration": 36896,
    "start_time": "2022-04-25T15:44:10.203Z"
   },
   {
    "duration": 21032,
    "start_time": "2022-04-25T15:44:47.102Z"
   },
   {
    "duration": 174,
    "start_time": "2022-04-25T15:45:14.306Z"
   },
   {
    "duration": 28,
    "start_time": "2022-04-25T15:45:32.685Z"
   },
   {
    "duration": 30,
    "start_time": "2022-04-25T15:45:56.552Z"
   },
   {
    "duration": 24,
    "start_time": "2022-04-25T15:51:03.230Z"
   },
   {
    "duration": 39256,
    "start_time": "2022-04-25T15:52:12.346Z"
   },
   {
    "duration": 19,
    "start_time": "2022-04-25T15:57:25.396Z"
   },
   {
    "duration": 28,
    "start_time": "2022-04-25T15:59:32.309Z"
   },
   {
    "duration": 25,
    "start_time": "2022-04-25T16:02:33.466Z"
   },
   {
    "duration": 14,
    "start_time": "2022-04-25T16:04:11.177Z"
   },
   {
    "duration": 13,
    "start_time": "2022-04-25T16:04:28.474Z"
   },
   {
    "duration": 8,
    "start_time": "2022-04-25T16:05:50.993Z"
   },
   {
    "duration": 26,
    "start_time": "2022-04-25T16:06:29.479Z"
   },
   {
    "duration": 16,
    "start_time": "2022-04-25T16:06:43.329Z"
   },
   {
    "duration": 15,
    "start_time": "2022-04-25T16:07:08.554Z"
   },
   {
    "duration": 16,
    "start_time": "2022-04-25T16:07:31.537Z"
   },
   {
    "duration": 14,
    "start_time": "2022-04-25T16:07:37.556Z"
   },
   {
    "duration": 9,
    "start_time": "2022-04-25T16:08:23.024Z"
   },
   {
    "duration": 8,
    "start_time": "2022-04-25T16:08:25.320Z"
   },
   {
    "duration": 25,
    "start_time": "2022-04-25T16:08:31.950Z"
   },
   {
    "duration": 8,
    "start_time": "2022-04-25T16:08:39.250Z"
   },
   {
    "duration": 8,
    "start_time": "2022-04-25T16:08:47.792Z"
   },
   {
    "duration": 9,
    "start_time": "2022-04-25T16:08:49.804Z"
   },
   {
    "duration": 11,
    "start_time": "2022-04-25T16:08:56.420Z"
   },
   {
    "duration": 688544,
    "start_time": "2022-04-25T16:11:37.580Z"
   },
   {
    "duration": 246605,
    "start_time": "2022-04-25T16:24:55.456Z"
   },
   {
    "duration": 17,
    "start_time": "2022-04-25T16:29:02.064Z"
   },
   {
    "duration": 21,
    "start_time": "2022-04-25T16:29:06.614Z"
   },
   {
    "duration": 126057,
    "start_time": "2022-04-25T16:29:37.646Z"
   },
   {
    "duration": 57329,
    "start_time": "2022-04-25T16:33:07.781Z"
   },
   {
    "duration": 6197,
    "start_time": "2022-04-25T16:44:44.867Z"
   },
   {
    "duration": 6,
    "start_time": "2022-04-25T16:44:51.067Z"
   },
   {
    "duration": 2188,
    "start_time": "2022-04-25T16:44:51.075Z"
   },
   {
    "duration": 64622,
    "start_time": "2022-04-25T16:44:53.266Z"
   },
   {
    "duration": 928,
    "start_time": "2022-04-25T16:45:57.894Z"
   },
   {
    "duration": 218,
    "start_time": "2022-04-25T16:45:58.825Z"
   },
   {
    "duration": 124,
    "start_time": "2022-04-25T16:45:59.046Z"
   },
   {
    "duration": 95,
    "start_time": "2022-04-25T16:45:59.172Z"
   },
   {
    "duration": 98,
    "start_time": "2022-04-25T16:45:59.269Z"
   },
   {
    "duration": 22,
    "start_time": "2022-04-25T16:45:59.373Z"
   },
   {
    "duration": 75,
    "start_time": "2022-04-25T16:45:59.397Z"
   },
   {
    "duration": 41,
    "start_time": "2022-04-25T16:45:59.493Z"
   },
   {
    "duration": 130,
    "start_time": "2022-04-25T16:45:59.538Z"
   },
   {
    "duration": 75,
    "start_time": "2022-04-25T16:45:59.670Z"
   },
   {
    "duration": 405,
    "start_time": "2022-04-25T16:45:59.747Z"
   },
   {
    "duration": 112,
    "start_time": "2022-04-25T16:46:00.154Z"
   },
   {
    "duration": 26,
    "start_time": "2022-04-25T16:46:00.269Z"
   },
   {
    "duration": 306,
    "start_time": "2022-04-25T16:46:00.298Z"
   },
   {
    "duration": 1586,
    "start_time": "2022-04-25T16:46:00.607Z"
   },
   {
    "duration": 415,
    "start_time": "2022-04-25T16:46:02.196Z"
   },
   {
    "duration": 259,
    "start_time": "2022-04-25T16:46:02.613Z"
   },
   {
    "duration": 65,
    "start_time": "2022-04-25T16:46:02.874Z"
   },
   {
    "duration": 168,
    "start_time": "2022-04-25T16:46:02.942Z"
   },
   {
    "duration": 21,
    "start_time": "2022-04-25T16:46:03.114Z"
   },
   {
    "duration": 10,
    "start_time": "2022-04-25T16:46:03.137Z"
   },
   {
    "duration": 32447,
    "start_time": "2022-04-25T16:46:03.149Z"
   },
   {
    "duration": 9,
    "start_time": "2022-04-25T16:46:35.599Z"
   },
   {
    "duration": 3136108,
    "start_time": "2022-04-25T16:46:35.614Z"
   },
   {
    "duration": 9,
    "start_time": "2022-04-25T17:38:51.724Z"
   },
   {
    "duration": 259,
    "start_time": "2022-04-25T17:38:51.735Z"
   },
   {
    "duration": 0,
    "start_time": "2022-04-25T17:38:51.996Z"
   },
   {
    "duration": 0,
    "start_time": "2022-04-25T17:38:51.998Z"
   },
   {
    "duration": 0,
    "start_time": "2022-04-25T17:38:51.999Z"
   },
   {
    "duration": 0,
    "start_time": "2022-04-25T17:38:52.001Z"
   },
   {
    "duration": 306,
    "start_time": "2022-04-25T17:39:29.022Z"
   },
   {
    "duration": 141813,
    "start_time": "2022-04-25T17:40:34.396Z"
   },
   {
    "duration": 10,
    "start_time": "2022-04-25T17:45:43.281Z"
   },
   {
    "duration": 308,
    "start_time": "2022-04-25T17:45:44.099Z"
   },
   {
    "duration": 11,
    "start_time": "2022-04-25T17:46:18.195Z"
   },
   {
    "duration": 6497,
    "start_time": "2022-04-25T17:47:13.352Z"
   },
   {
    "duration": 5,
    "start_time": "2022-04-25T17:47:19.852Z"
   },
   {
    "duration": 2182,
    "start_time": "2022-04-25T17:47:19.859Z"
   },
   {
    "duration": 58575,
    "start_time": "2022-04-25T17:47:22.044Z"
   },
   {
    "duration": 800,
    "start_time": "2022-04-25T17:48:20.622Z"
   },
   {
    "duration": 184,
    "start_time": "2022-04-25T17:48:21.424Z"
   },
   {
    "duration": 103,
    "start_time": "2022-04-25T17:48:21.610Z"
   },
   {
    "duration": 85,
    "start_time": "2022-04-25T17:48:21.716Z"
   },
   {
    "duration": 92,
    "start_time": "2022-04-25T17:48:21.803Z"
   },
   {
    "duration": 8,
    "start_time": "2022-04-25T17:48:21.897Z"
   },
   {
    "duration": 91,
    "start_time": "2022-04-25T17:48:21.907Z"
   },
   {
    "duration": 39,
    "start_time": "2022-04-25T17:48:22.000Z"
   },
   {
    "duration": 108,
    "start_time": "2022-04-25T17:48:22.042Z"
   },
   {
    "duration": 81,
    "start_time": "2022-04-25T17:48:22.155Z"
   },
   {
    "duration": 374,
    "start_time": "2022-04-25T17:48:22.238Z"
   },
   {
    "duration": 98,
    "start_time": "2022-04-25T17:48:22.614Z"
   },
   {
    "duration": 4,
    "start_time": "2022-04-25T17:48:22.714Z"
   },
   {
    "duration": 279,
    "start_time": "2022-04-25T17:48:22.720Z"
   },
   {
    "duration": 1296,
    "start_time": "2022-04-25T17:48:23.001Z"
   },
   {
    "duration": 408,
    "start_time": "2022-04-25T17:48:24.299Z"
   },
   {
    "duration": 253,
    "start_time": "2022-04-25T17:48:24.709Z"
   },
   {
    "duration": 64,
    "start_time": "2022-04-25T17:48:24.964Z"
   },
   {
    "duration": 159,
    "start_time": "2022-04-25T17:48:25.030Z"
   },
   {
    "duration": 19,
    "start_time": "2022-04-25T17:48:25.193Z"
   },
   {
    "duration": 6,
    "start_time": "2022-04-25T17:48:25.214Z"
   },
   {
    "duration": 33173,
    "start_time": "2022-04-25T17:48:25.222Z"
   },
   {
    "duration": 12,
    "start_time": "2022-04-25T17:48:58.398Z"
   },
   {
    "duration": 659201,
    "start_time": "2022-04-25T17:48:58.413Z"
   },
   {
    "duration": 9,
    "start_time": "2022-04-25T17:59:57.617Z"
   },
   {
    "duration": 340,
    "start_time": "2022-04-25T17:59:57.628Z"
   },
   {
    "duration": 161032,
    "start_time": "2022-04-25T17:59:57.971Z"
   },
   {
    "duration": 10,
    "start_time": "2022-04-25T18:02:39.005Z"
   },
   {
    "duration": 352,
    "start_time": "2022-04-25T18:02:39.017Z"
   },
   {
    "duration": 12,
    "start_time": "2022-04-25T18:02:39.371Z"
   },
   {
    "duration": 202,
    "start_time": "2022-04-25T18:02:39.394Z"
   },
   {
    "duration": 6,
    "start_time": "2022-04-25T18:09:08.831Z"
   },
   {
    "duration": 261,
    "start_time": "2022-04-25T18:09:39.113Z"
   },
   {
    "duration": 6,
    "start_time": "2022-04-25T18:09:58.874Z"
   },
   {
    "duration": 25,
    "start_time": "2022-04-25T18:09:59.480Z"
   },
   {
    "duration": 5,
    "start_time": "2022-04-25T18:10:20.521Z"
   },
   {
    "duration": 43,
    "start_time": "2022-04-25T18:10:22.070Z"
   },
   {
    "duration": 4,
    "start_time": "2022-04-25T18:12:08.858Z"
   },
   {
    "duration": 20,
    "start_time": "2022-04-25T18:12:15.875Z"
   },
   {
    "duration": 24236,
    "start_time": "2022-04-27T07:47:34.650Z"
   },
   {
    "duration": 0,
    "start_time": "2022-04-27T07:47:58.891Z"
   },
   {
    "duration": 0,
    "start_time": "2022-04-27T07:47:58.893Z"
   },
   {
    "duration": 0,
    "start_time": "2022-04-27T07:47:58.895Z"
   },
   {
    "duration": 0,
    "start_time": "2022-04-27T07:47:58.897Z"
   },
   {
    "duration": 0,
    "start_time": "2022-04-27T07:47:58.899Z"
   },
   {
    "duration": 0,
    "start_time": "2022-04-27T07:47:58.900Z"
   },
   {
    "duration": 0,
    "start_time": "2022-04-27T07:47:58.902Z"
   },
   {
    "duration": 0,
    "start_time": "2022-04-27T07:47:58.904Z"
   },
   {
    "duration": 0,
    "start_time": "2022-04-27T07:47:58.925Z"
   },
   {
    "duration": 0,
    "start_time": "2022-04-27T07:47:58.926Z"
   },
   {
    "duration": 0,
    "start_time": "2022-04-27T07:47:58.928Z"
   },
   {
    "duration": 0,
    "start_time": "2022-04-27T07:47:58.930Z"
   },
   {
    "duration": 0,
    "start_time": "2022-04-27T07:47:58.932Z"
   },
   {
    "duration": 0,
    "start_time": "2022-04-27T07:47:58.933Z"
   },
   {
    "duration": 0,
    "start_time": "2022-04-27T07:47:58.935Z"
   },
   {
    "duration": 0,
    "start_time": "2022-04-27T07:47:58.937Z"
   },
   {
    "duration": 0,
    "start_time": "2022-04-27T07:47:58.938Z"
   },
   {
    "duration": 0,
    "start_time": "2022-04-27T07:47:58.940Z"
   },
   {
    "duration": 0,
    "start_time": "2022-04-27T07:47:58.942Z"
   },
   {
    "duration": 0,
    "start_time": "2022-04-27T07:47:58.943Z"
   },
   {
    "duration": 0,
    "start_time": "2022-04-27T07:47:58.945Z"
   },
   {
    "duration": 0,
    "start_time": "2022-04-27T07:47:58.947Z"
   },
   {
    "duration": 0,
    "start_time": "2022-04-27T07:47:58.948Z"
   },
   {
    "duration": 0,
    "start_time": "2022-04-27T07:47:58.949Z"
   },
   {
    "duration": 0,
    "start_time": "2022-04-27T07:47:58.951Z"
   },
   {
    "duration": 0,
    "start_time": "2022-04-27T07:47:58.952Z"
   },
   {
    "duration": 0,
    "start_time": "2022-04-27T07:47:58.954Z"
   },
   {
    "duration": 0,
    "start_time": "2022-04-27T07:47:58.956Z"
   },
   {
    "duration": 0,
    "start_time": "2022-04-27T07:47:58.957Z"
   },
   {
    "duration": 0,
    "start_time": "2022-04-27T07:47:58.959Z"
   },
   {
    "duration": 0,
    "start_time": "2022-04-27T07:47:58.960Z"
   },
   {
    "duration": 0,
    "start_time": "2022-04-27T07:47:58.962Z"
   },
   {
    "duration": 0,
    "start_time": "2022-04-27T07:47:59.025Z"
   },
   {
    "duration": 0,
    "start_time": "2022-04-27T07:47:59.027Z"
   },
   {
    "duration": 0,
    "start_time": "2022-04-27T07:47:59.029Z"
   },
   {
    "duration": 0,
    "start_time": "2022-04-27T07:47:59.031Z"
   },
   {
    "duration": 10086,
    "start_time": "2022-04-27T07:48:51.408Z"
   },
   {
    "duration": 5,
    "start_time": "2022-04-27T07:49:01.497Z"
   },
   {
    "duration": 2510,
    "start_time": "2022-04-27T07:49:01.504Z"
   },
   {
    "duration": 66502,
    "start_time": "2022-04-27T07:49:04.017Z"
   },
   {
    "duration": 971,
    "start_time": "2022-04-27T07:50:10.522Z"
   },
   {
    "duration": 202,
    "start_time": "2022-04-27T07:50:11.495Z"
   },
   {
    "duration": 105,
    "start_time": "2022-04-27T07:50:11.699Z"
   },
   {
    "duration": 78,
    "start_time": "2022-04-27T07:50:11.806Z"
   },
   {
    "duration": 98,
    "start_time": "2022-04-27T07:50:11.886Z"
   },
   {
    "duration": 8,
    "start_time": "2022-04-27T07:50:11.988Z"
   },
   {
    "duration": 88,
    "start_time": "2022-04-27T07:50:11.998Z"
   },
   {
    "duration": 48,
    "start_time": "2022-04-27T07:50:12.089Z"
   },
   {
    "duration": 105,
    "start_time": "2022-04-27T07:50:12.139Z"
   },
   {
    "duration": 90,
    "start_time": "2022-04-27T07:50:12.246Z"
   },
   {
    "duration": 419,
    "start_time": "2022-04-27T07:50:12.339Z"
   },
   {
    "duration": 106,
    "start_time": "2022-04-27T07:50:12.760Z"
   },
   {
    "duration": 5,
    "start_time": "2022-04-27T07:50:12.868Z"
   },
   {
    "duration": 415,
    "start_time": "2022-04-27T07:50:12.875Z"
   },
   {
    "duration": 1643,
    "start_time": "2022-04-27T07:50:13.292Z"
   },
   {
    "duration": 531,
    "start_time": "2022-04-27T07:50:14.937Z"
   },
   {
    "duration": 280,
    "start_time": "2022-04-27T07:50:15.470Z"
   },
   {
    "duration": 75,
    "start_time": "2022-04-27T07:50:15.752Z"
   },
   {
    "duration": 170,
    "start_time": "2022-04-27T07:50:15.829Z"
   },
   {
    "duration": 30,
    "start_time": "2022-04-27T07:50:16.001Z"
   },
   {
    "duration": 5,
    "start_time": "2022-04-27T07:50:16.033Z"
   },
   {
    "duration": 29385,
    "start_time": "2022-04-27T07:50:16.040Z"
   },
   {
    "duration": 9,
    "start_time": "2022-04-27T07:50:45.428Z"
   },
   {
    "duration": 686553,
    "start_time": "2022-04-27T07:50:45.442Z"
   },
   {
    "duration": 11,
    "start_time": "2022-04-27T08:02:11.998Z"
   },
   {
    "duration": 356,
    "start_time": "2022-04-27T08:02:12.024Z"
   },
   {
    "duration": 171946,
    "start_time": "2022-04-27T08:02:12.383Z"
   },
   {
    "duration": 12,
    "start_time": "2022-04-27T08:05:04.331Z"
   },
   {
    "duration": 357,
    "start_time": "2022-04-27T08:05:04.345Z"
   },
   {
    "duration": 21,
    "start_time": "2022-04-27T08:05:04.704Z"
   },
   {
    "duration": 16,
    "start_time": "2022-04-27T08:05:04.727Z"
   },
   {
    "duration": 31,
    "start_time": "2022-04-27T08:05:04.745Z"
   },
   {
    "duration": 11,
    "start_time": "2022-04-27T08:05:04.779Z"
   },
   {
    "duration": 1330,
    "start_time": "2022-04-27T08:18:28.064Z"
   },
   {
    "duration": 2338,
    "start_time": "2022-04-27T08:18:40.852Z"
   },
   {
    "duration": 2348,
    "start_time": "2022-04-27T08:19:31.225Z"
   },
   {
    "duration": 8,
    "start_time": "2022-04-27T08:20:01.586Z"
   },
   {
    "duration": 4061,
    "start_time": "2022-04-27T08:20:04.692Z"
   },
   {
    "duration": 259,
    "start_time": "2022-04-27T08:26:10.407Z"
   },
   {
    "duration": 100,
    "start_time": "2022-04-27T08:26:28.906Z"
   },
   {
    "duration": 104,
    "start_time": "2022-04-27T08:26:38.176Z"
   },
   {
    "duration": 17,
    "start_time": "2022-04-27T08:44:57.173Z"
   },
   {
    "duration": 16,
    "start_time": "2022-04-27T08:45:04.433Z"
   },
   {
    "duration": 17,
    "start_time": "2022-04-27T08:46:55.904Z"
   },
   {
    "duration": 12,
    "start_time": "2022-04-27T08:58:07.466Z"
   },
   {
    "duration": 34,
    "start_time": "2022-04-27T08:59:50.787Z"
   },
   {
    "duration": 22,
    "start_time": "2022-04-27T09:00:34.724Z"
   },
   {
    "duration": 21,
    "start_time": "2022-04-27T09:00:55.436Z"
   },
   {
    "duration": 27,
    "start_time": "2022-04-27T09:01:30.976Z"
   },
   {
    "duration": 23,
    "start_time": "2022-04-27T09:01:45.932Z"
   },
   {
    "duration": 28,
    "start_time": "2022-04-27T09:02:04.249Z"
   },
   {
    "duration": 25,
    "start_time": "2022-04-27T09:02:31.130Z"
   },
   {
    "duration": 45,
    "start_time": "2022-04-27T09:02:40.458Z"
   },
   {
    "duration": 7038,
    "start_time": "2022-04-27T09:03:12.498Z"
   },
   {
    "duration": 453,
    "start_time": "2022-04-27T09:04:01.676Z"
   },
   {
    "duration": 603,
    "start_time": "2022-04-27T09:04:33.731Z"
   },
   {
    "duration": 742,
    "start_time": "2022-04-27T09:05:29.220Z"
   },
   {
    "duration": 2205,
    "start_time": "2022-04-27T09:05:48.889Z"
   },
   {
    "duration": 2194,
    "start_time": "2022-04-27T09:07:12.334Z"
   },
   {
    "duration": 335,
    "start_time": "2022-04-27T09:09:30.111Z"
   },
   {
    "duration": 1106,
    "start_time": "2022-04-27T09:12:15.876Z"
   },
   {
    "duration": 647,
    "start_time": "2022-04-27T09:12:43.192Z"
   },
   {
    "duration": 8,
    "start_time": "2022-04-27T09:13:12.788Z"
   },
   {
    "duration": 835,
    "start_time": "2022-04-27T09:13:24.622Z"
   },
   {
    "duration": 875,
    "start_time": "2022-04-27T09:13:35.540Z"
   },
   {
    "duration": 351,
    "start_time": "2022-04-27T09:16:10.015Z"
   },
   {
    "duration": 325,
    "start_time": "2022-04-27T09:16:17.574Z"
   },
   {
    "duration": 337,
    "start_time": "2022-04-27T09:17:05.035Z"
   },
   {
    "duration": 336,
    "start_time": "2022-04-27T09:17:26.472Z"
   },
   {
    "duration": 8588,
    "start_time": "2022-04-27T09:17:49.164Z"
   },
   {
    "duration": 7,
    "start_time": "2022-04-27T09:17:57.756Z"
   },
   {
    "duration": 3687,
    "start_time": "2022-04-27T09:17:57.766Z"
   },
   {
    "duration": 73644,
    "start_time": "2022-04-27T09:18:01.458Z"
   },
   {
    "duration": 1346,
    "start_time": "2022-04-27T09:19:15.106Z"
   },
   {
    "duration": 270,
    "start_time": "2022-04-27T09:19:16.455Z"
   },
   {
    "duration": 110,
    "start_time": "2022-04-27T09:19:16.727Z"
   },
   {
    "duration": 94,
    "start_time": "2022-04-27T09:19:16.840Z"
   },
   {
    "duration": 95,
    "start_time": "2022-04-27T09:19:16.937Z"
   },
   {
    "duration": 9,
    "start_time": "2022-04-27T09:19:17.036Z"
   },
   {
    "duration": 98,
    "start_time": "2022-04-27T09:19:17.047Z"
   },
   {
    "duration": 40,
    "start_time": "2022-04-27T09:19:17.148Z"
   },
   {
    "duration": 122,
    "start_time": "2022-04-27T09:19:17.190Z"
   },
   {
    "duration": 135,
    "start_time": "2022-04-27T09:19:17.315Z"
   },
   {
    "duration": 411,
    "start_time": "2022-04-27T09:19:17.453Z"
   },
   {
    "duration": 100,
    "start_time": "2022-04-27T09:19:17.866Z"
   },
   {
    "duration": 5,
    "start_time": "2022-04-27T09:19:17.968Z"
   },
   {
    "duration": 321,
    "start_time": "2022-04-27T09:19:17.976Z"
   },
   {
    "duration": 1612,
    "start_time": "2022-04-27T09:19:18.300Z"
   },
   {
    "duration": 444,
    "start_time": "2022-04-27T09:19:19.914Z"
   },
   {
    "duration": 346,
    "start_time": "2022-04-27T09:19:20.362Z"
   },
   {
    "duration": 63,
    "start_time": "2022-04-27T09:19:20.711Z"
   },
   {
    "duration": 185,
    "start_time": "2022-04-27T09:19:20.777Z"
   },
   {
    "duration": 20,
    "start_time": "2022-04-27T09:19:20.965Z"
   },
   {
    "duration": 26,
    "start_time": "2022-04-27T09:19:20.988Z"
   },
   {
    "duration": 42016,
    "start_time": "2022-04-27T09:19:21.016Z"
   },
   {
    "duration": 96,
    "start_time": "2022-04-27T09:20:03.035Z"
   },
   {
    "duration": 735436,
    "start_time": "2022-04-27T09:20:03.138Z"
   },
   {
    "duration": 9,
    "start_time": "2022-04-27T09:32:18.576Z"
   },
   {
    "duration": 363,
    "start_time": "2022-04-27T09:32:18.588Z"
   },
   {
    "duration": 7667,
    "start_time": "2022-04-27T09:51:51.999Z"
   },
   {
    "duration": 8,
    "start_time": "2022-04-27T09:51:59.670Z"
   },
   {
    "duration": 4316,
    "start_time": "2022-04-27T09:51:59.681Z"
   },
   {
    "duration": 75943,
    "start_time": "2022-04-27T09:52:04.000Z"
   },
   {
    "duration": 987,
    "start_time": "2022-04-27T09:53:19.947Z"
   },
   {
    "duration": 393,
    "start_time": "2022-04-27T09:53:20.937Z"
   },
   {
    "duration": 107,
    "start_time": "2022-04-27T09:53:21.333Z"
   },
   {
    "duration": 102,
    "start_time": "2022-04-27T09:53:21.443Z"
   },
   {
    "duration": 102,
    "start_time": "2022-04-27T09:53:21.548Z"
   },
   {
    "duration": 9,
    "start_time": "2022-04-27T09:53:21.653Z"
   },
   {
    "duration": 96,
    "start_time": "2022-04-27T09:53:21.664Z"
   },
   {
    "duration": 42,
    "start_time": "2022-04-27T09:53:21.763Z"
   },
   {
    "duration": 203,
    "start_time": "2022-04-27T09:53:21.834Z"
   },
   {
    "duration": 104,
    "start_time": "2022-04-27T09:53:22.045Z"
   },
   {
    "duration": 423,
    "start_time": "2022-04-27T09:53:22.151Z"
   },
   {
    "duration": 112,
    "start_time": "2022-04-27T09:53:22.576Z"
   },
   {
    "duration": 5,
    "start_time": "2022-04-27T09:53:22.690Z"
   },
   {
    "duration": 312,
    "start_time": "2022-04-27T09:53:22.697Z"
   },
   {
    "duration": 1879,
    "start_time": "2022-04-27T09:53:23.012Z"
   },
   {
    "duration": 799,
    "start_time": "2022-04-27T09:53:24.894Z"
   },
   {
    "duration": 596,
    "start_time": "2022-04-27T09:53:25.696Z"
   },
   {
    "duration": 84,
    "start_time": "2022-04-27T09:53:26.295Z"
   },
   {
    "duration": 191,
    "start_time": "2022-04-27T09:53:26.382Z"
   },
   {
    "duration": 27,
    "start_time": "2022-04-27T09:53:26.576Z"
   },
   {
    "duration": 23,
    "start_time": "2022-04-27T09:53:26.606Z"
   },
   {
    "duration": 75205,
    "start_time": "2022-04-27T09:53:26.635Z"
   },
   {
    "duration": 83,
    "start_time": "2022-04-27T09:54:41.846Z"
   },
   {
    "duration": 716192,
    "start_time": "2022-04-27T09:54:41.931Z"
   },
   {
    "duration": 23,
    "start_time": "2022-04-27T10:06:38.126Z"
   },
   {
    "duration": 364,
    "start_time": "2022-04-27T10:06:38.152Z"
   }
  ],
  "kernelspec": {
   "display_name": "Python 3 (ipykernel)",
   "language": "python",
   "name": "python3"
  },
  "language_info": {
   "codemirror_mode": {
    "name": "ipython",
    "version": 3
   },
   "file_extension": ".py",
   "mimetype": "text/x-python",
   "name": "python",
   "nbconvert_exporter": "python",
   "pygments_lexer": "ipython3",
   "version": "3.9.7"
  },
  "toc": {
   "base_numbering": 1,
   "nav_menu": {
    "height": "100px",
    "width": "318px"
   },
   "number_sections": true,
   "sideBar": true,
   "skip_h1_title": true,
   "title_cell": "Table of Contents",
   "title_sidebar": "Contents",
   "toc_cell": false,
   "toc_position": {},
   "toc_section_display": true,
   "toc_window_display": false
  }
 },
 "nbformat": 4,
 "nbformat_minor": 2
}
