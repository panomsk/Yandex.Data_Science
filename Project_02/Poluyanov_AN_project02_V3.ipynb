{
 "cells": [
  {
   "cell_type": "markdown",
   "metadata": {},
   "source": [
    "# Исследование надёжности заёмщиков\n",
    "\n",
    "Заказчик — кредитный отдел банка. Нужно разобраться, влияет ли семейное положение и количество детей клиента на факт погашения кредита в срок. Входные данные от банка — статистика о платёжеспособности клиентов.\n",
    "\n",
    "Результаты исследования будут учтены при построении модели **кредитного скоринга** — специальной системы, которая оценивает способность потенциального заёмщика вернуть кредит банку."
   ]
  },
  {
   "cell_type": "markdown",
   "metadata": {},
   "source": [
    "## Шаг 1. Откройте файл с данными и изучите общую информацию"
   ]
  },
  {
   "cell_type": "code",
   "execution_count": 7,
   "metadata": {},
   "outputs": [
    {
     "name": "stdout",
     "output_type": "stream",
     "text": [
      "<class 'pandas.core.frame.DataFrame'>\n",
      "RangeIndex: 21525 entries, 0 to 21524\n",
      "Data columns (total 12 columns):\n",
      "children            21525 non-null int64\n",
      "days_employed       19351 non-null float64\n",
      "dob_years           21525 non-null int64\n",
      "education           21525 non-null object\n",
      "education_id        21525 non-null int64\n",
      "family_status       21525 non-null object\n",
      "family_status_id    21525 non-null int64\n",
      "gender              21525 non-null object\n",
      "income_type         21525 non-null object\n",
      "debt                21525 non-null int64\n",
      "total_income        19351 non-null float64\n",
      "purpose             21525 non-null object\n",
      "dtypes: float64(2), int64(5), object(5)\n",
      "memory usage: 2.0+ MB\n",
      "Дубликатов в исходных данных:  54\n"
     ]
    }
   ],
   "source": [
    "import pandas as pd\n",
    "import numpy as np\n",
    "from pymystem3 import Mystem\n",
    "df = pd.read_csv('/datasets/data.csv')\n",
    "df.info()\n",
    "df.head()\n",
    "print('Дубликатов в исходных данных: ',df.duplicated().sum())\n",
    "\n"
   ]
  },
  {
   "cell_type": "markdown",
   "metadata": {},
   "source": [
    "**Вывод**"
   ]
  },
  {
   "cell_type": "markdown",
   "metadata": {},
   "source": [
    "Данные из файла data.csv загружены в dataframe с именем df\n",
    "Набор данных состоит из 12 колонок и 21525 записей. В колонках days_employed и total_income есть пропущенные значения. которые будут обработаны далее.\n",
    "Сразу приведем строки к нижнему регистру, для исключения проблем на этапе предобработки данных"
   ]
  },
  {
   "cell_type": "code",
   "execution_count": 8,
   "metadata": {},
   "outputs": [],
   "source": [
    "for col in ['education','family_status','income_type','purpose']:\n",
    "    df[col] = df[col].str.lower()"
   ]
  },
  {
   "cell_type": "markdown",
   "metadata": {},
   "source": [
    "## Шаг 2. Предобработка данных"
   ]
  },
  {
   "cell_type": "markdown",
   "metadata": {},
   "source": [
    "### Обработка пропусков"
   ]
  },
  {
   "cell_type": "markdown",
   "metadata": {},
   "source": [
    "Начнем с анализа данных в колонке days_employed, построим гистограмму для понимания распределения значений"
   ]
  },
  {
   "cell_type": "code",
   "execution_count": 9,
   "metadata": {},
   "outputs": [
    {
     "data": {
      "text/plain": [
       "821.917808219178"
      ]
     },
     "execution_count": 9,
     "metadata": {},
     "output_type": "execute_result"
    },
    {
     "data": {
      "image/png": "[encoded data removed]",
      "text/plain": [
       "<Figure size 432x288 with 1 Axes>"
      ]
     },
     "metadata": {
      "needs_background": "light"
     },
     "output_type": "display_data"
    }
   ],
   "source": [
    "df['days_employed'].hist(bins=30)\n",
    "300000/365"
   ]
  },
  {
   "cell_type": "markdown",
   "metadata": {},
   "source": [
    "На гистограмме явно видны аномалии со значениями <0 и больше 300000. С учетом того, что значению 300000 соответствует 821 рабочий год, данные явно некорректные.\n",
    "Посчитаем общее количество пропущенных и некорректно заполненных значений."
   ]
  },
  {
   "cell_type": "code",
   "execution_count": 10,
   "metadata": {},
   "outputs": [
    {
     "name": "stdout",
     "output_type": "stream",
     "text": [
      "days_employed количество незаполненных строк - 2174\n",
      "days_employed количество некорректно заполненных строк - 19351\n",
      "days_employed общее количество строк с некорректными или незаполненными значениями - 21525\n"
     ]
    }
   ],
   "source": [
    "df_days_employed_na = df['days_employed'].isna().sum()\n",
    "df_days_employed_incor = df[(df['days_employed']<0) | (df['days_employed']>300000)]['days_employed'].count()\n",
    "print('days_employed количество незаполненных строк -', df_days_employed_na)\n",
    "print('days_employed количество некорректно заполненных строк -', df_days_employed_incor)\n",
    "print('days_employed общее количество строк с некорректными или незаполненными значениями -', df_days_employed_na+df_days_employed_incor)"
   ]
  },
  {
   "cell_type": "markdown",
   "metadata": {},
   "source": [
    "Таким образом, в столбце days_employed отсутствуют корректные данные. В данном случае необходимо было бы уточнить у ответственного за подготовку набора, в чем причина (возможно произошел сбой при выгрузке значений из СУБД). Но у нас такой возможности нет. Кроме того, данные из столбца не будут использоваться в дальнейшем при проверке гипотез, поэтому заменим пропущенные данные 0 и не будем делать необоснованных предположений о причинах появления мусорных данных в столбце."
   ]
  },
  {
   "cell_type": "code",
   "execution_count": 11,
   "metadata": {},
   "outputs": [
    {
     "data": {
      "text/plain": [
       "0"
      ]
     },
     "execution_count": 11,
     "metadata": {},
     "output_type": "execute_result"
    }
   ],
   "source": [
    "df['days_employed'] = df['days_employed'].fillna(0)\n",
    "df['days_employed'].isna().sum()"
   ]
  },
  {
   "cell_type": "markdown",
   "metadata": {},
   "source": [
    "Проведем анализ данных в колонке income_type, построим гистограмму для понимания распределения значений"
   ]
  },
  {
   "cell_type": "code",
   "execution_count": 12,
   "metadata": {},
   "outputs": [
    {
     "data": {
      "text/plain": [
       "2174"
      ]
     },
     "execution_count": 12,
     "metadata": {},
     "output_type": "execute_result"
    }
   ],
   "source": [
    "df['total_income'].isna().sum()"
   ]
  },
  {
   "cell_type": "markdown",
   "metadata": {},
   "source": [
    "У нас 2174 пропущенных значения. Возможно данные по зарплате заемщик не указал целенаправленно, а возможно произошла ошибка при выгрузке данных в датасет.\n",
    "Удалять строки с пропущенными данными некорректно, т.к. объем таких строк составляет 10% от общей выборки.\n",
    "Пропущенные данные можно заполнить средней или медианой, осталось определиться по каким группам будем производить заполнение.\n",
    "Можно предположить что на зарплату может влиять образование, пол и категория заемщика (колонки education, gender, income_type).\n",
    "Проверим данные предположения. "
   ]
  },
  {
   "cell_type": "code",
   "execution_count": 13,
   "metadata": {},
   "outputs": [
    {
     "data": {
      "text/html": [
       "<div>\n",
       "<style scoped>\n",
       "    .dataframe tbody tr th:only-of-type {\n",
       "        vertical-align: middle;\n",
       "    }\n",
       "\n",
       "    .dataframe tbody tr th {\n",
       "        vertical-align: top;\n",
       "    }\n",
       "\n",
       "    .dataframe thead tr th {\n",
       "        text-align: left;\n",
       "    }\n",
       "\n",
       "    .dataframe thead tr:last-of-type th {\n",
       "        text-align: right;\n",
       "    }\n",
       "</style>\n",
       "<table border=\"1\" class=\"dataframe\">\n",
       "  <thead>\n",
       "    <tr>\n",
       "      <th></th>\n",
       "      <th></th>\n",
       "      <th colspan=\"5\" halign=\"left\">total_income</th>\n",
       "    </tr>\n",
       "    <tr>\n",
       "      <th></th>\n",
       "      <th></th>\n",
       "      <th>count</th>\n",
       "      <th>min</th>\n",
       "      <th>max</th>\n",
       "      <th>mean</th>\n",
       "      <th>median</th>\n",
       "    </tr>\n",
       "    <tr>\n",
       "      <th>education_id</th>\n",
       "      <th>education</th>\n",
       "      <th></th>\n",
       "      <th></th>\n",
       "      <th></th>\n",
       "      <th></th>\n",
       "      <th></th>\n",
       "    </tr>\n",
       "  </thead>\n",
       "  <tbody>\n",
       "    <tr>\n",
       "      <td>0</td>\n",
       "      <td>высшее</td>\n",
       "      <td>4716</td>\n",
       "      <td>32178.213678</td>\n",
       "      <td>2.265604e+06</td>\n",
       "      <td>207142.515219</td>\n",
       "      <td>175340.818855</td>\n",
       "    </tr>\n",
       "    <tr>\n",
       "      <td>1</td>\n",
       "      <td>среднее</td>\n",
       "      <td>13693</td>\n",
       "      <td>20667.263793</td>\n",
       "      <td>1.726276e+06</td>\n",
       "      <td>153715.643971</td>\n",
       "      <td>136478.643244</td>\n",
       "    </tr>\n",
       "    <tr>\n",
       "      <td>2</td>\n",
       "      <td>неоконченное высшее</td>\n",
       "      <td>675</td>\n",
       "      <td>34466.133539</td>\n",
       "      <td>9.584346e+05</td>\n",
       "      <td>181534.022774</td>\n",
       "      <td>160115.398644</td>\n",
       "    </tr>\n",
       "    <tr>\n",
       "      <td>3</td>\n",
       "      <td>начальное</td>\n",
       "      <td>261</td>\n",
       "      <td>25308.586849</td>\n",
       "      <td>4.900673e+05</td>\n",
       "      <td>132155.513626</td>\n",
       "      <td>117137.352825</td>\n",
       "    </tr>\n",
       "    <tr>\n",
       "      <td>4</td>\n",
       "      <td>ученая степень</td>\n",
       "      <td>6</td>\n",
       "      <td>98752.495442</td>\n",
       "      <td>2.684112e+05</td>\n",
       "      <td>174750.155792</td>\n",
       "      <td>157259.898555</td>\n",
       "    </tr>\n",
       "  </tbody>\n",
       "</table>\n",
       "</div>"
      ],
      "text/plain": [
       "                                 total_income                              \\\n",
       "                                        count           min           max   \n",
       "education_id education                                                      \n",
       "0            высшее                      4716  32178.213678  2.265604e+06   \n",
       "1            среднее                    13693  20667.263793  1.726276e+06   \n",
       "2            неоконченное высшее          675  34466.133539  9.584346e+05   \n",
       "3            начальное                    261  25308.586849  4.900673e+05   \n",
       "4            ученая степень                 6  98752.495442  2.684112e+05   \n",
       "\n",
       "                                                                \n",
       "                                           mean         median  \n",
       "education_id education                                          \n",
       "0            высшее               207142.515219  175340.818855  \n",
       "1            среднее              153715.643971  136478.643244  \n",
       "2            неоконченное высшее  181534.022774  160115.398644  \n",
       "3            начальное            132155.513626  117137.352825  \n",
       "4            ученая степень       174750.155792  157259.898555  "
      ]
     },
     "metadata": {},
     "output_type": "display_data"
    },
    {
     "data": {
      "text/html": [
       "<div>\n",
       "<style scoped>\n",
       "    .dataframe tbody tr th:only-of-type {\n",
       "        vertical-align: middle;\n",
       "    }\n",
       "\n",
       "    .dataframe tbody tr th {\n",
       "        vertical-align: top;\n",
       "    }\n",
       "\n",
       "    .dataframe thead tr th {\n",
       "        text-align: left;\n",
       "    }\n",
       "\n",
       "    .dataframe thead tr:last-of-type th {\n",
       "        text-align: right;\n",
       "    }\n",
       "</style>\n",
       "<table border=\"1\" class=\"dataframe\">\n",
       "  <thead>\n",
       "    <tr>\n",
       "      <th></th>\n",
       "      <th colspan=\"5\" halign=\"left\">total_income</th>\n",
       "    </tr>\n",
       "    <tr>\n",
       "      <th></th>\n",
       "      <th>count</th>\n",
       "      <th>min</th>\n",
       "      <th>max</th>\n",
       "      <th>mean</th>\n",
       "      <th>median</th>\n",
       "    </tr>\n",
       "    <tr>\n",
       "      <th>gender</th>\n",
       "      <th></th>\n",
       "      <th></th>\n",
       "      <th></th>\n",
       "      <th></th>\n",
       "      <th></th>\n",
       "    </tr>\n",
       "  </thead>\n",
       "  <tbody>\n",
       "    <tr>\n",
       "      <td>F</td>\n",
       "      <td>12752</td>\n",
       "      <td>20667.263793</td>\n",
       "      <td>1.715018e+06</td>\n",
       "      <td>154097.529734</td>\n",
       "      <td>134155.283479</td>\n",
       "    </tr>\n",
       "    <tr>\n",
       "      <td>M</td>\n",
       "      <td>6598</td>\n",
       "      <td>21205.280566</td>\n",
       "      <td>2.265604e+06</td>\n",
       "      <td>193169.652274</td>\n",
       "      <td>167714.343716</td>\n",
       "    </tr>\n",
       "    <tr>\n",
       "      <td>XNA</td>\n",
       "      <td>1</td>\n",
       "      <td>203905.157261</td>\n",
       "      <td>2.039052e+05</td>\n",
       "      <td>203905.157261</td>\n",
       "      <td>203905.157261</td>\n",
       "    </tr>\n",
       "  </tbody>\n",
       "</table>\n",
       "</div>"
      ],
      "text/plain": [
       "       total_income                                                           \n",
       "              count            min           max           mean         median\n",
       "gender                                                                        \n",
       "F             12752   20667.263793  1.715018e+06  154097.529734  134155.283479\n",
       "M              6598   21205.280566  2.265604e+06  193169.652274  167714.343716\n",
       "XNA               1  203905.157261  2.039052e+05  203905.157261  203905.157261"
      ]
     },
     "metadata": {},
     "output_type": "display_data"
    },
    {
     "data": {
      "text/html": [
       "<div>\n",
       "<style scoped>\n",
       "    .dataframe tbody tr th:only-of-type {\n",
       "        vertical-align: middle;\n",
       "    }\n",
       "\n",
       "    .dataframe tbody tr th {\n",
       "        vertical-align: top;\n",
       "    }\n",
       "\n",
       "    .dataframe thead tr th {\n",
       "        text-align: left;\n",
       "    }\n",
       "\n",
       "    .dataframe thead tr:last-of-type th {\n",
       "        text-align: right;\n",
       "    }\n",
       "</style>\n",
       "<table border=\"1\" class=\"dataframe\">\n",
       "  <thead>\n",
       "    <tr>\n",
       "      <th></th>\n",
       "      <th colspan=\"5\" halign=\"left\">total_income</th>\n",
       "    </tr>\n",
       "    <tr>\n",
       "      <th></th>\n",
       "      <th>count</th>\n",
       "      <th>min</th>\n",
       "      <th>max</th>\n",
       "      <th>mean</th>\n",
       "      <th>median</th>\n",
       "    </tr>\n",
       "    <tr>\n",
       "      <th>income_type</th>\n",
       "      <th></th>\n",
       "      <th></th>\n",
       "      <th></th>\n",
       "      <th></th>\n",
       "      <th></th>\n",
       "    </tr>\n",
       "  </thead>\n",
       "  <tbody>\n",
       "    <tr>\n",
       "      <td>безработный</td>\n",
       "      <td>2</td>\n",
       "      <td>59956.991984</td>\n",
       "      <td>2.027225e+05</td>\n",
       "      <td>131339.751676</td>\n",
       "      <td>131339.751676</td>\n",
       "    </tr>\n",
       "    <tr>\n",
       "      <td>в декрете</td>\n",
       "      <td>1</td>\n",
       "      <td>53829.130729</td>\n",
       "      <td>5.382913e+04</td>\n",
       "      <td>53829.130729</td>\n",
       "      <td>53829.130729</td>\n",
       "    </tr>\n",
       "    <tr>\n",
       "      <td>госслужащий</td>\n",
       "      <td>1312</td>\n",
       "      <td>29200.077193</td>\n",
       "      <td>9.104515e+05</td>\n",
       "      <td>170898.309923</td>\n",
       "      <td>150447.935283</td>\n",
       "    </tr>\n",
       "    <tr>\n",
       "      <td>компаньон</td>\n",
       "      <td>4577</td>\n",
       "      <td>28702.812889</td>\n",
       "      <td>2.265604e+06</td>\n",
       "      <td>202417.461462</td>\n",
       "      <td>172357.950966</td>\n",
       "    </tr>\n",
       "    <tr>\n",
       "      <td>пенсионер</td>\n",
       "      <td>3443</td>\n",
       "      <td>20667.263793</td>\n",
       "      <td>7.351033e+05</td>\n",
       "      <td>137127.465690</td>\n",
       "      <td>118514.486412</td>\n",
       "    </tr>\n",
       "    <tr>\n",
       "      <td>предприниматель</td>\n",
       "      <td>1</td>\n",
       "      <td>499163.144947</td>\n",
       "      <td>4.991631e+05</td>\n",
       "      <td>499163.144947</td>\n",
       "      <td>499163.144947</td>\n",
       "    </tr>\n",
       "    <tr>\n",
       "      <td>сотрудник</td>\n",
       "      <td>10014</td>\n",
       "      <td>21367.648356</td>\n",
       "      <td>1.726276e+06</td>\n",
       "      <td>161380.260488</td>\n",
       "      <td>142594.396847</td>\n",
       "    </tr>\n",
       "    <tr>\n",
       "      <td>студент</td>\n",
       "      <td>1</td>\n",
       "      <td>98201.625314</td>\n",
       "      <td>9.820163e+04</td>\n",
       "      <td>98201.625314</td>\n",
       "      <td>98201.625314</td>\n",
       "    </tr>\n",
       "  </tbody>\n",
       "</table>\n",
       "</div>"
      ],
      "text/plain": [
       "                total_income                                              \\\n",
       "                       count            min           max           mean   \n",
       "income_type                                                                \n",
       "безработный                2   59956.991984  2.027225e+05  131339.751676   \n",
       "в декрете                  1   53829.130729  5.382913e+04   53829.130729   \n",
       "госслужащий             1312   29200.077193  9.104515e+05  170898.309923   \n",
       "компаньон               4577   28702.812889  2.265604e+06  202417.461462   \n",
       "пенсионер               3443   20667.263793  7.351033e+05  137127.465690   \n",
       "предприниматель            1  499163.144947  4.991631e+05  499163.144947   \n",
       "сотрудник              10014   21367.648356  1.726276e+06  161380.260488   \n",
       "студент                    1   98201.625314  9.820163e+04   98201.625314   \n",
       "\n",
       "                                \n",
       "                        median  \n",
       "income_type                     \n",
       "безработный      131339.751676  \n",
       "в декрете         53829.130729  \n",
       "госслужащий      150447.935283  \n",
       "компаньон        172357.950966  \n",
       "пенсионер        118514.486412  \n",
       "предприниматель  499163.144947  \n",
       "сотрудник        142594.396847  \n",
       "студент           98201.625314  "
      ]
     },
     "metadata": {},
     "output_type": "display_data"
    }
   ],
   "source": [
    "display(df.groupby(['education_id','education']).agg({'total_income':['count','min','max','mean','median']}))\n",
    "display(df.groupby(['gender']).agg({'total_income':['count','min','max','mean','median']}))\n",
    "display(df.groupby(['income_type']).agg({'total_income':['count','min','max','mean','median']}))\n",
    "#display(df[df['total_income'].isna()].groupby('education').count())\n",
    "#display(df[df['total_income'].isna()].groupby('gender').count())\n",
    "#display(df[df['total_income'].isna()].groupby('income_type').count())"
   ]
  },
  {
   "cell_type": "markdown",
   "metadata": {},
   "source": [
    "Как мы видим и образование и пол и тип заемщика влияют на размер дохода, поэтому заполним размер дохода по пропущенным значениям медианным значением по группам.\n",
    "Предварительно удалим одну строку из исходных данных с незаполненным полом заемщика"
   ]
  },
  {
   "cell_type": "code",
   "execution_count": 14,
   "metadata": {},
   "outputs": [
    {
     "data": {
      "text/plain": [
       "['F', 'M']"
      ]
     },
     "execution_count": 14,
     "metadata": {},
     "output_type": "execute_result"
    }
   ],
   "source": [
    "df = df[df['gender'] != 'XNA']\n",
    "sorted(df['gender'].unique())"
   ]
  },
  {
   "cell_type": "code",
   "execution_count": 15,
   "metadata": {},
   "outputs": [
    {
     "data": {
      "text/html": [
       "<div>\n",
       "<style scoped>\n",
       "    .dataframe tbody tr th:only-of-type {\n",
       "        vertical-align: middle;\n",
       "    }\n",
       "\n",
       "    .dataframe tbody tr th {\n",
       "        vertical-align: top;\n",
       "    }\n",
       "\n",
       "    .dataframe thead th {\n",
       "        text-align: right;\n",
       "    }\n",
       "</style>\n",
       "<table border=\"1\" class=\"dataframe\">\n",
       "  <thead>\n",
       "    <tr style=\"text-align: right;\">\n",
       "      <th></th>\n",
       "      <th>children</th>\n",
       "      <th>days_employed</th>\n",
       "      <th>dob_years</th>\n",
       "      <th>education</th>\n",
       "      <th>education_id</th>\n",
       "      <th>family_status</th>\n",
       "      <th>family_status_id</th>\n",
       "      <th>gender</th>\n",
       "      <th>income_type</th>\n",
       "      <th>debt</th>\n",
       "      <th>total_income</th>\n",
       "      <th>purpose</th>\n",
       "    </tr>\n",
       "  </thead>\n",
       "  <tbody>\n",
       "    <tr>\n",
       "      <td>5936</td>\n",
       "      <td>0</td>\n",
       "      <td>0.0</td>\n",
       "      <td>58</td>\n",
       "      <td>высшее</td>\n",
       "      <td>0</td>\n",
       "      <td>женат / замужем</td>\n",
       "      <td>0</td>\n",
       "      <td>M</td>\n",
       "      <td>предприниматель</td>\n",
       "      <td>0</td>\n",
       "      <td>NaN</td>\n",
       "      <td>покупка жилой недвижимости</td>\n",
       "    </tr>\n",
       "  </tbody>\n",
       "</table>\n",
       "</div>"
      ],
      "text/plain": [
       "      children  days_employed  dob_years education  education_id  \\\n",
       "5936         0            0.0         58    высшее             0   \n",
       "\n",
       "        family_status  family_status_id gender      income_type  debt  \\\n",
       "5936  женат / замужем                 0      M  предприниматель     0   \n",
       "\n",
       "      total_income                     purpose  \n",
       "5936           NaN  покупка жилой недвижимости  "
      ]
     },
     "metadata": {},
     "output_type": "display_data"
    }
   ],
   "source": [
    "data_transformed = df.groupby(['income_type','gender','education_id'])['total_income'].transform('median')\n",
    "df['total_income'] = df['total_income'].fillna(data_transformed)\n",
    "df['total_income'].isna().sum()\n",
    "display(df[df['total_income'].isna()])"
   ]
  },
  {
   "cell_type": "markdown",
   "metadata": {},
   "source": [
    "Как мы видим - у нас осталась одна строка с незаполненным значением total_income для предпринимателя мужского пола с высшим образованием. заемщиков с такими параметрами в выборке больше нет, поэтому считаю возможным удалить данную строку."
   ]
  },
  {
   "cell_type": "code",
   "execution_count": 16,
   "metadata": {},
   "outputs": [
    {
     "name": "stdout",
     "output_type": "stream",
     "text": [
      "<class 'pandas.core.frame.DataFrame'>\n",
      "Int64Index: 21523 entries, 0 to 21524\n",
      "Data columns (total 12 columns):\n",
      "children            21523 non-null int64\n",
      "days_employed       21523 non-null float64\n",
      "dob_years           21523 non-null int64\n",
      "education           21523 non-null object\n",
      "education_id        21523 non-null int64\n",
      "family_status       21523 non-null object\n",
      "family_status_id    21523 non-null int64\n",
      "gender              21523 non-null object\n",
      "income_type         21523 non-null object\n",
      "debt                21523 non-null int64\n",
      "total_income        21523 non-null float64\n",
      "purpose             21523 non-null object\n",
      "dtypes: float64(2), int64(5), object(5)\n",
      "memory usage: 2.1+ MB\n"
     ]
    }
   ],
   "source": [
    "df.dropna(inplace=True)\n",
    "df.info()"
   ]
  },
  {
   "cell_type": "markdown",
   "metadata": {},
   "source": [
    "**Вывод**"
   ]
  },
  {
   "cell_type": "markdown",
   "metadata": {},
   "source": [
    "Обработаны пропуски в столбцах days_employed, total_income, рассмотрены возможные причины появления появления пропусков и некорректных значений."
   ]
  },
  {
   "cell_type": "markdown",
   "metadata": {},
   "source": [
    "### Замена типа данных"
   ]
  },
  {
   "cell_type": "code",
   "execution_count": 17,
   "metadata": {},
   "outputs": [
    {
     "name": "stdout",
     "output_type": "stream",
     "text": [
      "<class 'pandas.core.frame.DataFrame'>\n",
      "Int64Index: 21523 entries, 0 to 21524\n",
      "Data columns (total 12 columns):\n",
      "children            21523 non-null int64\n",
      "days_employed       21523 non-null float64\n",
      "dob_years           21523 non-null int64\n",
      "education           21523 non-null object\n",
      "education_id        21523 non-null int64\n",
      "family_status       21523 non-null object\n",
      "family_status_id    21523 non-null int64\n",
      "gender              21523 non-null object\n",
      "income_type         21523 non-null object\n",
      "debt                21523 non-null int64\n",
      "total_income        21523 non-null float64\n",
      "purpose             21523 non-null object\n",
      "dtypes: float64(2), int64(5), object(5)\n",
      "memory usage: 2.1+ MB\n"
     ]
    }
   ],
   "source": [
    "df.info()"
   ]
  },
  {
   "cell_type": "markdown",
   "metadata": {},
   "source": [
    "Как видно из описания данных, столбцы \"days_employed\" и \"total_income\" типа float64. Для столбца \"days_employed\" возможны только целочисленные значения, а в стобце \"total_income\" нам не нужны значения после запятой, т.к. размер доходов измеряется десятками/сотнями тысяч рублей, поэтому копейки для анализа несущественны.\n",
    "Приведем оба столбца к типу int64. Для преобразования типа данных используем метод astype, которая вызовет исключение в случае ошибки преобразования типа (исключение вызовется если, не изменено значение параметра по умолчанию errors='raise')"
   ]
  },
  {
   "cell_type": "code",
   "execution_count": 18,
   "metadata": {},
   "outputs": [
    {
     "name": "stdout",
     "output_type": "stream",
     "text": [
      "<class 'pandas.core.frame.DataFrame'>\n",
      "Int64Index: 21523 entries, 0 to 21524\n",
      "Data columns (total 12 columns):\n",
      "children            21523 non-null int64\n",
      "days_employed       21523 non-null int64\n",
      "dob_years           21523 non-null int64\n",
      "education           21523 non-null object\n",
      "education_id        21523 non-null int64\n",
      "family_status       21523 non-null object\n",
      "family_status_id    21523 non-null int64\n",
      "gender              21523 non-null object\n",
      "income_type         21523 non-null object\n",
      "debt                21523 non-null int64\n",
      "total_income        21523 non-null int64\n",
      "purpose             21523 non-null object\n",
      "dtypes: int64(7), object(5)\n",
      "memory usage: 2.1+ MB\n"
     ]
    }
   ],
   "source": [
    "try:\n",
    "    df['days_employed'] = df['days_employed'].astype('int64')\n",
    "    df['total_income'] = df['total_income'].astype('int64')\n",
    "except:\n",
    "    print('Ошибка преобразования типов')\n",
    "    \n",
    "df.info()"
   ]
  },
  {
   "cell_type": "markdown",
   "metadata": {},
   "source": [
    "**Вывод**"
   ]
  },
  {
   "cell_type": "markdown",
   "metadata": {},
   "source": [
    "Преобразованы типы колонок \"days_employed\" и \"total_income\" к типу 'int64', ошибок в процессе преобразования типов не возникло."
   ]
  },
  {
   "cell_type": "markdown",
   "metadata": {},
   "source": [
    "### Обработка дубликатов"
   ]
  },
  {
   "cell_type": "markdown",
   "metadata": {},
   "source": [
    "Проверим наличие дубликатов в датасете"
   ]
  },
  {
   "cell_type": "code",
   "execution_count": 19,
   "metadata": {},
   "outputs": [
    {
     "data": {
      "text/plain": [
       "71"
      ]
     },
     "execution_count": 19,
     "metadata": {},
     "output_type": "execute_result"
    }
   ],
   "source": [
    "df.duplicated().sum()"
   ]
  },
  {
   "cell_type": "markdown",
   "metadata": {},
   "source": [
    "Как мы видим - присутствует 71 дубликат. Поскольку у нас в исходных данных нет уникального идентификатора заемщика, то мы не можем однозначно сказать - дубликат это или это другой заемщик с такими же параметрами по всем столбцам. Для учебного проекта предположим что это дубликат."
   ]
  },
  {
   "cell_type": "code",
   "execution_count": 20,
   "metadata": {},
   "outputs": [
    {
     "data": {
      "text/plain": [
       "0"
      ]
     },
     "execution_count": 20,
     "metadata": {},
     "output_type": "execute_result"
    }
   ],
   "source": [
    "df = df.drop_duplicates().reset_index(drop=True)\n",
    "df.duplicated().sum()"
   ]
  },
  {
   "cell_type": "markdown",
   "metadata": {},
   "source": [
    "**Вывод**"
   ]
  },
  {
   "cell_type": "markdown",
   "metadata": {},
   "source": [
    "Удалены дубликаты в исходных данных, для удаления дубликатов использован метод drop_duplicates() с последующим перестроением индекса reset_index(drop=True)"
   ]
  },
  {
   "cell_type": "markdown",
   "metadata": {},
   "source": [
    "### Лемматизация"
   ]
  },
  {
   "cell_type": "markdown",
   "metadata": {},
   "source": [
    "Проанализируем цели получения кредита"
   ]
  },
  {
   "cell_type": "code",
   "execution_count": 21,
   "metadata": {},
   "outputs": [
    {
     "data": {
      "text/plain": [
       "свадьба                                   791\n",
       "на проведение свадьбы                     768\n",
       "сыграть свадьбу                           765\n",
       "операции с недвижимостью                  675\n",
       "покупка коммерческой недвижимости         661\n",
       "операции с жильем                         652\n",
       "покупка жилья для сдачи                   651\n",
       "операции с коммерческой недвижимостью     650\n",
       "покупка жилья                             646\n",
       "жилье                                     646\n",
       "покупка жилья для семьи                   638\n",
       "строительство собственной недвижимости    635\n",
       "недвижимость                              633\n",
       "операции со своей недвижимостью           627\n",
       "строительство жилой недвижимости          624\n",
       "покупка недвижимости                      620\n",
       "покупка своего жилья                      620\n",
       "строительство недвижимости                619\n",
       "ремонт жилью                              607\n",
       "покупка жилой недвижимости                605\n",
       "на покупку своего автомобиля              505\n",
       "заняться высшим образованием              496\n",
       "автомобиль                                494\n",
       "сделка с подержанным автомобилем          486\n",
       "на покупку подержанного автомобиля        478\n",
       "свой автомобиль                           478\n",
       "автомобили                                478\n",
       "на покупку автомобиля                     471\n",
       "приобретение автомобиля                   461\n",
       "дополнительное образование                460\n",
       "сделка с автомобилем                      455\n",
       "высшее образование                        452\n",
       "образование                               447\n",
       "получение дополнительного образования     446\n",
       "получение образования                     442\n",
       "профильное образование                    436\n",
       "получение высшего образования             426\n",
       "заняться образованием                     408\n",
       "Name: purpose, dtype: int64"
      ]
     },
     "execution_count": 21,
     "metadata": {},
     "output_type": "execute_result"
    }
   ],
   "source": [
    "df['purpose'].value_counts()"
   ]
  },
  {
   "cell_type": "markdown",
   "metadata": {},
   "source": [
    "Проанализировав данные - можно выделить 6 основный категорий, которые в дальнейшем используем для построения справочника.\n",
    "1) свадьба\n",
    "2) недвижимость\n",
    "3) ремонт\n",
    "4) автомобиль\n",
    "5) образование\n",
    "6) другое (если не получится отнести цель кредита ни к одной из выделенныъ выше категорий)"
   ]
  },
  {
   "cell_type": "markdown",
   "metadata": {},
   "source": [
    "Для лемматизации целей кредита (приведения всех слов к словарной форме) будем использовать библиотеку pymysystem3. Оформим определение категории цели кредита в виде отдельной функции, которая в качестве параметра принимает цель кредита, а возвращает имя категории цели кредита. Проведем категоризацию цели кредита, заполним получившееся значение в столбец 'purpose_group'"
   ]
  },
  {
   "cell_type": "code",
   "execution_count": 22,
   "metadata": {},
   "outputs": [
    {
     "data": {
      "text/plain": [
       "недвижимость    10202\n",
       "автомобиль       4306\n",
       "образование      4013\n",
       "свадьба          2324\n",
       "ремонт            607\n",
       "Name: purpose_group, dtype: int64"
      ]
     },
     "execution_count": 22,
     "metadata": {},
     "output_type": "execute_result"
    }
   ],
   "source": [
    "m = Mystem()\n",
    "def purpose_group(purpose):\n",
    "    lemmas = m.lemmatize(purpose)\n",
    "    if 'свадьба' in lemmas:\n",
    "        return 'свадьба'\n",
    "    elif 'ремонт' in lemmas:\n",
    "        return 'ремонт'\n",
    "    elif ('недвижимость' in lemmas) or ('жилье' in lemmas):\n",
    "        return 'недвижимость'\n",
    "    elif 'автомобиль' in lemmas:\n",
    "        return 'автомобиль'\n",
    "    elif 'образование' in lemmas:\n",
    "        return 'образование'\n",
    "    else:\n",
    "        return 'другое'\n",
    "\n",
    "df['purpose_group'] = df['purpose'].apply(purpose_group)\n",
    "df['purpose_group'].value_counts()\n"
   ]
  },
  {
   "cell_type": "markdown",
   "metadata": {},
   "source": [
    "**Вывод**"
   ]
  },
  {
   "cell_type": "markdown",
   "metadata": {},
   "source": [
    "Проведена лемматизация целей получения кредита, выделены основные категории и занесены в отдельный столбец 'purpose_group'"
   ]
  },
  {
   "cell_type": "markdown",
   "metadata": {},
   "source": [
    "### Категоризация данных"
   ]
  },
  {
   "cell_type": "markdown",
   "metadata": {},
   "source": [
    "Часто объекты, имеющие определённое значение признака, присутствуют в наборе только единожды. Работать с такими отрывками и делать из них статистические выводы нельзя. Поэтому, с такими данными проводится категоризация - объединение данных в категории.\n",
    "Категоризация цели кредита была проведена в пункте 2.4.\n",
    "Для дальнейшего анализа в разделе 3 нам потребуется категоризировать 'Наличие детей', 'Семейное положение' и 'Уровень дохода'. "
   ]
  },
  {
   "cell_type": "markdown",
   "metadata": {},
   "source": [
    "Рассмотрим семейное положение."
   ]
  },
  {
   "cell_type": "code",
   "execution_count": 23,
   "metadata": {
    "scrolled": true
   },
   "outputs": [
    {
     "data": {
      "text/plain": [
       "женат / замужем          12338\n",
       "гражданский брак          4150\n",
       "не женат / не замужем     2810\n",
       "в разводе                 1195\n",
       "вдовец / вдова             959\n",
       "Name: family_status, dtype: int64"
      ]
     },
     "execution_count": 23,
     "metadata": {},
     "output_type": "execute_result"
    }
   ],
   "source": [
    "df['family_status'].value_counts()"
   ]
  },
  {
   "cell_type": "markdown",
   "metadata": {},
   "source": [
    "Ранее мы привели данную колонку к нижнему регистру, поэтому сейчас у нас получается 5 категорий семейного положения, дополнительных действий не требуется."
   ]
  },
  {
   "cell_type": "markdown",
   "metadata": {},
   "source": [
    "Перейдем к колонке 'Наличие детей'"
   ]
  },
  {
   "cell_type": "code",
   "execution_count": 24,
   "metadata": {
    "scrolled": true
   },
   "outputs": [
    {
     "data": {
      "text/plain": [
       " 0     14089\n",
       " 1      4808\n",
       " 2      2052\n",
       " 3       330\n",
       " 20       76\n",
       "-1        47\n",
       " 4        41\n",
       " 5         9\n",
       "Name: children, dtype: int64"
      ]
     },
     "execution_count": 24,
     "metadata": {},
     "output_type": "execute_result"
    }
   ],
   "source": [
    "df['children'].value_counts()"
   ]
  },
  {
   "cell_type": "markdown",
   "metadata": {},
   "source": [
    "Как мы можем видеть - в списке есть некорректные значения: -1 и 20. \n",
    "Выделим по данной колонке следующие категории:\n",
    "1) Нет детей\n",
    "2) Один ребенок\n",
    "3) Два ребенка\n",
    "4) Многодетная семья (3 и более детей)\n",
    "5) Неизвестно (<0, >19)"
   ]
  },
  {
   "cell_type": "code",
   "execution_count": 25,
   "metadata": {
    "scrolled": true
   },
   "outputs": [
    {
     "data": {
      "text/plain": [
       "нет детей            14089\n",
       "один ребенок          4808\n",
       "два ребенка           2052\n",
       "многодетная семья      380\n",
       "неизвестно             123\n",
       "Name: children_group, dtype: int64"
      ]
     },
     "execution_count": 25,
     "metadata": {},
     "output_type": "execute_result"
    }
   ],
   "source": [
    "def children_group(children):\n",
    "    if children == 0:\n",
    "        return 'нет детей'\n",
    "    elif children == 1:\n",
    "        return 'один ребенок'\n",
    "    elif children == 2:\n",
    "        return 'два ребенка'\n",
    "    elif (children >= 3) and (children < 20):\n",
    "        return 'многодетная семья'\n",
    "    else:\n",
    "        return 'неизвестно'\n",
    "\n",
    "df['children_group'] = df['children'].apply(children_group)\n",
    "df['children_group'].value_counts()"
   ]
  },
  {
   "cell_type": "markdown",
   "metadata": {},
   "source": [
    "Рассмотрим категоризацию 'total_income'. Обычно для дохода выделяют 3 категории низкий, средний, высокий. \n",
    "Для определения границ дохода для отнесения к одной из категорий рассмотрим перцентили 25 и 75 по столбцу total_income. "
   ]
  },
  {
   "cell_type": "code",
   "execution_count": 26,
   "metadata": {},
   "outputs": [
    {
     "name": "stdout",
     "output_type": "stream",
     "text": [
      "[107499.0, 196883.0]\n"
     ]
    }
   ],
   "source": [
    "cut_points = [np.percentile(df['total_income'], i) for i in [25, 75]]\n",
    "print(cut_points)\n"
   ]
  },
  {
   "cell_type": "markdown",
   "metadata": {},
   "source": [
    "Таким образом, немного округлив значения, можно считать низким доход менее 100 тысяч рублей, высоким более 200."
   ]
  },
  {
   "cell_type": "code",
   "execution_count": 27,
   "metadata": {},
   "outputs": [
    {
     "data": {
      "text/plain": [
       "средний доход    11845\n",
       "высокий доход     5142\n",
       "низкий доход      4465\n",
       "Name: total_income_group, dtype: int64"
      ]
     },
     "execution_count": 27,
     "metadata": {},
     "output_type": "execute_result"
    }
   ],
   "source": [
    "def total_income_group(total_income):\n",
    "    if (total_income >= 0) and (total_income<100000):\n",
    "        return 'низкий доход'\n",
    "    elif (total_income >= 100000) and (total_income<200000):\n",
    "        return 'средний доход'\n",
    "    elif (total_income >= 200000):\n",
    "        return 'высокий доход'\n",
    "    else:\n",
    "        return 'доход неизвестен'\n",
    "\n",
    "df['total_income_group'] = df['total_income'].apply(total_income_group)\n",
    "df['total_income_group'].value_counts()"
   ]
  },
  {
   "cell_type": "markdown",
   "metadata": {},
   "source": [
    "**Вывод**"
   ]
  },
  {
   "cell_type": "markdown",
   "metadata": {},
   "source": [
    "Проведена категоризация данных по колонкам \"Цель кредита\", \"Наличие детей\", \"Уровень дохода\", \"Семейное положение\".  "
   ]
  },
  {
   "cell_type": "markdown",
   "metadata": {},
   "source": [
    "## Шаг 3. Ответьте на вопросы"
   ]
  },
  {
   "cell_type": "markdown",
   "metadata": {},
   "source": [
    "- Есть ли зависимость между наличием детей и возвратом кредита в срок?\n",
    "\n",
    "Сформируем сводную таблицу по категориям наличия детей. Далее сформируем процент наличия задолженности по каждой группе."
   ]
  },
  {
   "cell_type": "code",
   "execution_count": 28,
   "metadata": {},
   "outputs": [
    {
     "data": {
      "text/html": [
       "<div>\n",
       "<style scoped>\n",
       "    .dataframe tbody tr th:only-of-type {\n",
       "        vertical-align: middle;\n",
       "    }\n",
       "\n",
       "    .dataframe tbody tr th {\n",
       "        vertical-align: top;\n",
       "    }\n",
       "\n",
       "    .dataframe thead th {\n",
       "        text-align: right;\n",
       "    }\n",
       "</style>\n",
       "<table border=\"1\" class=\"dataframe\">\n",
       "  <thead>\n",
       "    <tr style=\"text-align: right;\">\n",
       "      <th>debt</th>\n",
       "      <th>0</th>\n",
       "      <th>1</th>\n",
       "      <th>debt_percent</th>\n",
       "    </tr>\n",
       "    <tr>\n",
       "      <th>children_group</th>\n",
       "      <th></th>\n",
       "      <th></th>\n",
       "      <th></th>\n",
       "    </tr>\n",
       "  </thead>\n",
       "  <tbody>\n",
       "    <tr>\n",
       "      <td>два ребенка</td>\n",
       "      <td>1858</td>\n",
       "      <td>194</td>\n",
       "      <td>9.454191</td>\n",
       "    </tr>\n",
       "    <tr>\n",
       "      <td>один ребенок</td>\n",
       "      <td>4364</td>\n",
       "      <td>444</td>\n",
       "      <td>9.234609</td>\n",
       "    </tr>\n",
       "    <tr>\n",
       "      <td>многодетная семья</td>\n",
       "      <td>349</td>\n",
       "      <td>31</td>\n",
       "      <td>8.157895</td>\n",
       "    </tr>\n",
       "    <tr>\n",
       "      <td>нет детей</td>\n",
       "      <td>13026</td>\n",
       "      <td>1063</td>\n",
       "      <td>7.544893</td>\n",
       "    </tr>\n",
       "    <tr>\n",
       "      <td>неизвестно</td>\n",
       "      <td>114</td>\n",
       "      <td>9</td>\n",
       "      <td>7.317073</td>\n",
       "    </tr>\n",
       "  </tbody>\n",
       "</table>\n",
       "</div>"
      ],
      "text/plain": [
       "debt                   0     1  debt_percent\n",
       "children_group                              \n",
       "два ребенка         1858   194      9.454191\n",
       "один ребенок        4364   444      9.234609\n",
       "многодетная семья    349    31      8.157895\n",
       "нет детей          13026  1063      7.544893\n",
       "неизвестно           114     9      7.317073"
      ]
     },
     "execution_count": 28,
     "metadata": {},
     "output_type": "execute_result"
    }
   ],
   "source": [
    "pivot_table_children = df.pivot_table(index = 'children_group', columns = 'debt', values = 'total_income', aggfunc = 'count')\n",
    "pivot_table_children['debt_percent'] = 100*pivot_table_children[1]/(pivot_table_children[0]+pivot_table_children[1])\n",
    "pivot_table_children.sort_values(by='debt_percent', ascending=False)"
   ]
  },
  {
   "cell_type": "markdown",
   "metadata": {},
   "source": [
    "**Вывод**"
   ]
  },
  {
   "cell_type": "markdown",
   "metadata": {},
   "source": [
    "Как видно из сводной таблицы:\n",
    "1) Наибольший процент задолженности у семей с одним или двумя детьми.\n",
    "\n",
    "2) Немного меньше процент задолженности у многодетных семей.\n",
    "\n",
    "3) Наименьший процент задолженности у семей без детей, семьи с неизвестным статусом имеют примерно такой же процент задолженности, поэтому можно предположить что речь также идет о семьях без детей."
   ]
  },
  {
   "cell_type": "markdown",
   "metadata": {},
   "source": [
    "- Есть ли зависимость между семейным положением и возвратом кредита в срок?"
   ]
  },
  {
   "cell_type": "code",
   "execution_count": 29,
   "metadata": {},
   "outputs": [
    {
     "data": {
      "text/html": [
       "<div>\n",
       "<style scoped>\n",
       "    .dataframe tbody tr th:only-of-type {\n",
       "        vertical-align: middle;\n",
       "    }\n",
       "\n",
       "    .dataframe tbody tr th {\n",
       "        vertical-align: top;\n",
       "    }\n",
       "\n",
       "    .dataframe thead th {\n",
       "        text-align: right;\n",
       "    }\n",
       "</style>\n",
       "<table border=\"1\" class=\"dataframe\">\n",
       "  <thead>\n",
       "    <tr style=\"text-align: right;\">\n",
       "      <th>debt</th>\n",
       "      <th>0</th>\n",
       "      <th>1</th>\n",
       "      <th>debt_percent</th>\n",
       "    </tr>\n",
       "    <tr>\n",
       "      <th>family_status</th>\n",
       "      <th></th>\n",
       "      <th></th>\n",
       "      <th></th>\n",
       "    </tr>\n",
       "  </thead>\n",
       "  <tbody>\n",
       "    <tr>\n",
       "      <td>не женат / не замужем</td>\n",
       "      <td>2536</td>\n",
       "      <td>274</td>\n",
       "      <td>9.750890</td>\n",
       "    </tr>\n",
       "    <tr>\n",
       "      <td>гражданский брак</td>\n",
       "      <td>3762</td>\n",
       "      <td>388</td>\n",
       "      <td>9.349398</td>\n",
       "    </tr>\n",
       "    <tr>\n",
       "      <td>женат / замужем</td>\n",
       "      <td>11407</td>\n",
       "      <td>931</td>\n",
       "      <td>7.545793</td>\n",
       "    </tr>\n",
       "    <tr>\n",
       "      <td>в разводе</td>\n",
       "      <td>1110</td>\n",
       "      <td>85</td>\n",
       "      <td>7.112971</td>\n",
       "    </tr>\n",
       "    <tr>\n",
       "      <td>вдовец / вдова</td>\n",
       "      <td>896</td>\n",
       "      <td>63</td>\n",
       "      <td>6.569343</td>\n",
       "    </tr>\n",
       "  </tbody>\n",
       "</table>\n",
       "</div>"
      ],
      "text/plain": [
       "debt                       0    1  debt_percent\n",
       "family_status                                  \n",
       "не женат / не замужем   2536  274      9.750890\n",
       "гражданский брак        3762  388      9.349398\n",
       "женат / замужем        11407  931      7.545793\n",
       "в разводе               1110   85      7.112971\n",
       "вдовец / вдова           896   63      6.569343"
      ]
     },
     "execution_count": 29,
     "metadata": {},
     "output_type": "execute_result"
    }
   ],
   "source": [
    "pivot_table_family_status = df.pivot_table(index = 'family_status', columns = 'debt', values = 'total_income', aggfunc = 'count')\n",
    "pivot_table_family_status['debt_percent'] = 100*pivot_table_family_status[1]/(pivot_table_family_status[0]+pivot_table_family_status[1])\n",
    "pivot_table_family_status.sort_values(by='debt_percent', ascending=False)"
   ]
  },
  {
   "cell_type": "markdown",
   "metadata": {},
   "source": [
    "**Вывод**"
   ]
  },
  {
   "cell_type": "markdown",
   "metadata": {},
   "source": [
    "Как видно из сводной таблицы:\n",
    "1) Наибольший процент задолженности у незамужних/неженатых заемщиков и у заемщиков, состоящих в гражданском браке.\n",
    "\n",
    "2) Наименьший процент у заемщиков категории вдовец/вдова\n",
    "\n",
    "3) Среднее значение у заемщиков категорий женат/замужем и в разводе"
   ]
  },
  {
   "cell_type": "markdown",
   "metadata": {},
   "source": [
    "- Есть ли зависимость между уровнем дохода и возвратом кредита в срок?"
   ]
  },
  {
   "cell_type": "code",
   "execution_count": 30,
   "metadata": {},
   "outputs": [
    {
     "data": {
      "text/html": [
       "<div>\n",
       "<style scoped>\n",
       "    .dataframe tbody tr th:only-of-type {\n",
       "        vertical-align: middle;\n",
       "    }\n",
       "\n",
       "    .dataframe tbody tr th {\n",
       "        vertical-align: top;\n",
       "    }\n",
       "\n",
       "    .dataframe thead th {\n",
       "        text-align: right;\n",
       "    }\n",
       "</style>\n",
       "<table border=\"1\" class=\"dataframe\">\n",
       "  <thead>\n",
       "    <tr style=\"text-align: right;\">\n",
       "      <th>debt</th>\n",
       "      <th>0</th>\n",
       "      <th>1</th>\n",
       "      <th>debt_percent</th>\n",
       "    </tr>\n",
       "    <tr>\n",
       "      <th>total_income_group</th>\n",
       "      <th></th>\n",
       "      <th></th>\n",
       "      <th></th>\n",
       "    </tr>\n",
       "  </thead>\n",
       "  <tbody>\n",
       "    <tr>\n",
       "      <td>средний доход</td>\n",
       "      <td>10819</td>\n",
       "      <td>1026</td>\n",
       "      <td>8.661883</td>\n",
       "    </tr>\n",
       "    <tr>\n",
       "      <td>низкий доход</td>\n",
       "      <td>4111</td>\n",
       "      <td>354</td>\n",
       "      <td>7.928331</td>\n",
       "    </tr>\n",
       "    <tr>\n",
       "      <td>высокий доход</td>\n",
       "      <td>4781</td>\n",
       "      <td>361</td>\n",
       "      <td>7.020615</td>\n",
       "    </tr>\n",
       "  </tbody>\n",
       "</table>\n",
       "</div>"
      ],
      "text/plain": [
       "debt                    0     1  debt_percent\n",
       "total_income_group                           \n",
       "средний доход       10819  1026      8.661883\n",
       "низкий доход         4111   354      7.928331\n",
       "высокий доход        4781   361      7.020615"
      ]
     },
     "execution_count": 30,
     "metadata": {},
     "output_type": "execute_result"
    }
   ],
   "source": [
    "pivot_table_total_income = df.pivot_table(index = 'total_income_group', columns = 'debt', values = 'total_income', aggfunc = 'count')\n",
    "pivot_table_total_income['debt_percent'] = 100*pivot_table_total_income[1]/(pivot_table_total_income[0]+pivot_table_total_income[1])\n",
    "pivot_table_total_income.sort_values(by='debt_percent', ascending=False)"
   ]
  },
  {
   "cell_type": "markdown",
   "metadata": {},
   "source": [
    "**Вывод**"
   ]
  },
  {
   "cell_type": "markdown",
   "metadata": {},
   "source": [
    "Как видно из сводной таблицы:\n",
    "1) Наименьший процент задолженности наблюдается у группы заемщиков с высоким доходом, это можно объяснить тем, что с высоким доходом легче платить ежемесячные платежи по кредиты.\n",
    "\n",
    "2) Примерно на процент выше доля должников у группы заемщиков с низким доходом, но самый высокий процент задолженности у группы заемщиков со средним доходом. Это можно объяснить тем, что заемщики с низким доходом вынуждены планировать бюджет и поэтому при взятии кредита лучше представляют как его отдавать. А должники из группы со средним доходом не всегда планируют бюджет и поэтому могут просрочить оплату по кредиту.\n",
    "\n",
    "3) В целом по данному пукнту разброс не очень большой - в пределах 2%. Для анализа было бы полезно знать сумму кредита и сопоставить ее с доходом заемщика, без суммы кредита картина получается неполной."
   ]
  },
  {
   "cell_type": "markdown",
   "metadata": {},
   "source": [
    "- Как разные цели кредита влияют на его возврат в срок?"
   ]
  },
  {
   "cell_type": "code",
   "execution_count": 31,
   "metadata": {},
   "outputs": [
    {
     "data": {
      "text/html": [
       "<div>\n",
       "<style scoped>\n",
       "    .dataframe tbody tr th:only-of-type {\n",
       "        vertical-align: middle;\n",
       "    }\n",
       "\n",
       "    .dataframe tbody tr th {\n",
       "        vertical-align: top;\n",
       "    }\n",
       "\n",
       "    .dataframe thead th {\n",
       "        text-align: right;\n",
       "    }\n",
       "</style>\n",
       "<table border=\"1\" class=\"dataframe\">\n",
       "  <thead>\n",
       "    <tr style=\"text-align: right;\">\n",
       "      <th>debt</th>\n",
       "      <th>0</th>\n",
       "      <th>1</th>\n",
       "      <th>debt_percent</th>\n",
       "    </tr>\n",
       "    <tr>\n",
       "      <th>purpose_group</th>\n",
       "      <th></th>\n",
       "      <th></th>\n",
       "      <th></th>\n",
       "    </tr>\n",
       "  </thead>\n",
       "  <tbody>\n",
       "    <tr>\n",
       "      <td>автомобиль</td>\n",
       "      <td>3903</td>\n",
       "      <td>403</td>\n",
       "      <td>9.359034</td>\n",
       "    </tr>\n",
       "    <tr>\n",
       "      <td>образование</td>\n",
       "      <td>3643</td>\n",
       "      <td>370</td>\n",
       "      <td>9.220035</td>\n",
       "    </tr>\n",
       "    <tr>\n",
       "      <td>свадьба</td>\n",
       "      <td>2138</td>\n",
       "      <td>186</td>\n",
       "      <td>8.003442</td>\n",
       "    </tr>\n",
       "    <tr>\n",
       "      <td>недвижимость</td>\n",
       "      <td>9455</td>\n",
       "      <td>747</td>\n",
       "      <td>7.322094</td>\n",
       "    </tr>\n",
       "    <tr>\n",
       "      <td>ремонт</td>\n",
       "      <td>572</td>\n",
       "      <td>35</td>\n",
       "      <td>5.766063</td>\n",
       "    </tr>\n",
       "  </tbody>\n",
       "</table>\n",
       "</div>"
      ],
      "text/plain": [
       "debt              0    1  debt_percent\n",
       "purpose_group                         \n",
       "автомобиль     3903  403      9.359034\n",
       "образование    3643  370      9.220035\n",
       "свадьба        2138  186      8.003442\n",
       "недвижимость   9455  747      7.322094\n",
       "ремонт          572   35      5.766063"
      ]
     },
     "execution_count": 31,
     "metadata": {},
     "output_type": "execute_result"
    }
   ],
   "source": [
    "pivot_table_purpose = df.pivot_table(index = 'purpose_group', columns = 'debt', values = 'total_income', aggfunc = 'count')\n",
    "pivot_table_purpose['debt_percent'] = 100*pivot_table_purpose[1]/(pivot_table_purpose[0]+pivot_table_purpose[1])\n",
    "pivot_table_purpose.sort_values(by='debt_percent', ascending=False)"
   ]
  },
  {
   "cell_type": "markdown",
   "metadata": {},
   "source": [
    "**Вывод**"
   ]
  },
  {
   "cell_type": "markdown",
   "metadata": {},
   "source": [
    "Как видно из сводной таблицы:\n",
    "\n",
    "1) Наименьший процент задолженности наблюдается по кредитам на ремонт, возможно это связано с тем, что суммы кредита меньше, чем на другие цели. Но поскольку, суммма кредита неизвестна, данное предположение необосновано.\n",
    "\n",
    "2) Наибольший процент задолженности по кредитам на автомобили и образование.\n",
    "\n",
    "3) Задолженность по кредитам на свадьбу возникает примерно у 8% заемщиков."
   ]
  },
  {
   "cell_type": "markdown",
   "metadata": {},
   "source": [
    "## Шаг 4. Общий вывод"
   ]
  },
  {
   "cell_type": "markdown",
   "metadata": {},
   "source": [
    "В ходе проведения исследовани были проанализированы входные данные - статистика о платёжеспособности клиентов.\n",
    "Набор данных состоит из 12 колонок и 21525 записей. \n",
    "Обработаны пропуски в столбцах days_employed, total_income, рассмотрены возможные причины появления появления пропусков и некорректных значений.\n",
    "Проведена лемматизация целей кредита.\n",
    "Для дальнейшего анализа в проведена категоризация по колонкам 'Наличие детей', 'Уровень дохода', 'Цель кредита'.\n",
    "Далее с помощью сводных таблиц получены ответы на вопросы Заказчика:\n",
    "•\tЕсть ли зависимость между наличием детей и возвратом кредита в срок?\n",
    "•\tЕсть ли зависимость между семейным положением и возвратом кредита в срок?\n",
    "•\tЕсть ли зависимость между уровнем дохода и возвратом кредита в срок?\n",
    "•\tКак разные цели кредита влияют на его возврат в срок?\n",
    "По каждому из вопросов зависимость есть, но разброс процентов должников по категориям не столь существенный и составляет не более 4%. В целом процент задолженности по каждой из категорий не превышает 9.8%\n",
    "\n",
    "Рекомендую обратить особое внимание на следующие группы заемщиков:\n",
    "\n",
    "1) Заимщики с наименьшим процентов задолженности\n",
    "- многодетные семьи\n",
    "- вдовцы/вдовы\n",
    "- с высоким доходом\n",
    "- с целью кредита на ремонт\n",
    "\n",
    "2) Заемщики с наибольшим процентом задолженности\n",
    "- семьи с одним или двумя детьми\n",
    "- незамежние/неженатые, в гражданском браке\n",
    "- со средним доходом\n",
    "- с целью кредита на автомобиль или образование"
   ]
  },
  {
   "cell_type": "markdown",
   "metadata": {},
   "source": [
    "## Чек-лист готовности проекта\n",
    "\n",
    "Поставьте 'x' в выполненных пунктах. Далее нажмите Shift+Enter."
   ]
  },
  {
   "cell_type": "markdown",
   "metadata": {},
   "source": [
    "- [x]  открыт файл;\n",
    "- [x]  файл изучен;\n",
    "- [x]  определены пропущенные значения;\n",
    "- [x]  заполнены пропущенные значения;\n",
    "- [x]  есть пояснение, какие пропущенные значения обнаружены;\n",
    "- [x]  описаны возможные причины появления пропусков в данных;\n",
    "- [x]  объяснено, по какому принципу заполнены пропуски;\n",
    "- [x]  заменен вещественный тип данных на целочисленный;\n",
    "- [x]  есть пояснение, какой метод используется для изменения типа данных и почему;\n",
    "- [x]  удалены дубликаты;\n",
    "- [x]  есть пояснение, какой метод используется для поиска и удаления дубликатов;\n",
    "- [x]  описаны возможные причины появления дубликатов в данных;\n",
    "- [x]  выделены леммы в значениях столбца с целями получения кредита;\n",
    "- [x]  описан процесс лемматизации;\n",
    "- [x]  данные категоризированы;\n",
    "- [x]  есть объяснение принципа категоризации данных;\n",
    "- [x]  есть ответ на вопрос: \"Есть ли зависимость между наличием детей и возвратом кредита в срок?\";\n",
    "- [x]  есть ответ на вопрос: \"Есть ли зависимость между семейным положением и возвратом кредита в срок?\";\n",
    "- [x]  есть ответ на вопрос: \"Есть ли зависимость между уровнем дохода и возвратом кредита в срок?\";\n",
    "- [x]  есть ответ на вопрос: \"Как разные цели кредита влияют на его возврат в срок?\";\n",
    "- [x]  в каждом этапе есть выводы;\n",
    "- [x]  есть общий вывод."
   ]
  }
 ],
 "metadata": {
  "ExecuteTimeLog": [
   {
    "duration": 843,
    "start_time": "2021-11-29T07:08:04.512Z"
   },
   {
    "duration": 94,
    "start_time": "2021-11-29T07:10:33.241Z"
   },
   {
    "duration": 105,
    "start_time": "2021-11-29T07:12:39.373Z"
   },
   {
    "duration": 10895,
    "start_time": "2021-11-29T07:13:51.393Z"
   },
   {
    "duration": 89,
    "start_time": "2021-11-29T07:14:28.860Z"
   },
   {
    "duration": 76,
    "start_time": "2021-11-29T07:15:21.280Z"
   },
   {
    "duration": 92,
    "start_time": "2021-11-29T07:15:46.738Z"
   },
   {
    "duration": 93,
    "start_time": "2021-11-29T07:15:59.567Z"
   },
   {
    "duration": 1279,
    "start_time": "2021-11-29T07:16:50.744Z"
   },
   {
    "duration": 472,
    "start_time": "2021-11-29T07:17:10.527Z"
   },
   {
    "duration": 91,
    "start_time": "2021-11-29T07:18:30.235Z"
   },
   {
    "duration": 202,
    "start_time": "2021-11-29T07:18:45.589Z"
   },
   {
    "duration": 459,
    "start_time": "2021-11-29T07:19:07.927Z"
   },
   {
    "duration": 129,
    "start_time": "2021-11-29T07:19:17.135Z"
   },
   {
    "duration": 127,
    "start_time": "2021-11-29T07:20:18.058Z"
   },
   {
    "duration": 113,
    "start_time": "2021-11-29T07:22:36.629Z"
   },
   {
    "duration": 512,
    "start_time": "2021-11-29T07:22:48.708Z"
   },
   {
    "duration": 596,
    "start_time": "2021-11-29T07:23:29.786Z"
   },
   {
    "duration": 152,
    "start_time": "2021-11-29T07:23:41.007Z"
   },
   {
    "duration": 110,
    "start_time": "2021-11-29T07:24:08.193Z"
   },
   {
    "duration": 101,
    "start_time": "2021-11-29T07:24:21.053Z"
   },
   {
    "duration": 474,
    "start_time": "2021-11-29T07:25:22.834Z"
   },
   {
    "duration": 104,
    "start_time": "2021-11-29T07:29:08.192Z"
   },
   {
    "duration": 493,
    "start_time": "2021-11-29T07:30:04.122Z"
   },
   {
    "duration": 459,
    "start_time": "2021-11-29T07:31:54.588Z"
   },
   {
    "duration": 623,
    "start_time": "2021-11-29T07:32:19.377Z"
   },
   {
    "duration": 675,
    "start_time": "2021-11-29T07:32:59.896Z"
   },
   {
    "duration": 105,
    "start_time": "2021-11-29T07:35:16.424Z"
   },
   {
    "duration": 119,
    "start_time": "2021-11-29T07:35:43.646Z"
   },
   {
    "duration": 112,
    "start_time": "2021-11-29T07:36:22.535Z"
   },
   {
    "duration": 183,
    "start_time": "2021-11-29T07:37:04.678Z"
   },
   {
    "duration": 639,
    "start_time": "2021-11-30T06:22:17.787Z"
   },
   {
    "duration": 244,
    "start_time": "2021-11-30T07:21:17.465Z"
   },
   {
    "duration": 313,
    "start_time": "2021-11-30T07:39:17.217Z"
   },
   {
    "duration": 215,
    "start_time": "2021-11-30T07:39:54.962Z"
   },
   {
    "duration": 227,
    "start_time": "2021-11-30T07:41:25.986Z"
   },
   {
    "duration": 171,
    "start_time": "2021-11-30T07:42:06.856Z"
   },
   {
    "duration": 210,
    "start_time": "2021-11-30T07:42:49.496Z"
   },
   {
    "duration": 4,
    "start_time": "2021-11-30T07:47:36.401Z"
   },
   {
    "duration": 55,
    "start_time": "2021-11-30T07:51:23.056Z"
   },
   {
    "duration": 704,
    "start_time": "2021-11-30T07:51:30.261Z"
   },
   {
    "duration": 15,
    "start_time": "2021-11-30T07:55:53.295Z"
   },
   {
    "duration": 8,
    "start_time": "2021-11-30T07:57:03.392Z"
   },
   {
    "duration": 7,
    "start_time": "2021-11-30T07:57:18.241Z"
   },
   {
    "duration": 8,
    "start_time": "2021-11-30T07:58:56.225Z"
   },
   {
    "duration": 7,
    "start_time": "2021-11-30T08:00:49.078Z"
   },
   {
    "duration": 8,
    "start_time": "2021-11-30T08:00:57.872Z"
   },
   {
    "duration": 9,
    "start_time": "2021-11-30T08:02:42.934Z"
   },
   {
    "duration": 9,
    "start_time": "2021-11-30T08:15:52.337Z"
   },
   {
    "duration": 6,
    "start_time": "2021-11-30T08:43:38.777Z"
   },
   {
    "duration": 6,
    "start_time": "2021-11-30T09:10:47.678Z"
   },
   {
    "duration": 1851,
    "start_time": "2021-12-06T09:48:51.256Z"
   },
   {
    "duration": -645,
    "start_time": "2021-12-06T09:48:53.754Z"
   },
   {
    "duration": -646,
    "start_time": "2021-12-06T09:48:53.756Z"
   },
   {
    "duration": -647,
    "start_time": "2021-12-06T09:48:53.758Z"
   },
   {
    "duration": -647,
    "start_time": "2021-12-06T09:48:53.759Z"
   },
   {
    "duration": -648,
    "start_time": "2021-12-06T09:48:53.761Z"
   },
   {
    "duration": -649,
    "start_time": "2021-12-06T09:48:53.762Z"
   },
   {
    "duration": -649,
    "start_time": "2021-12-06T09:48:53.763Z"
   },
   {
    "duration": -693,
    "start_time": "2021-12-06T09:48:53.808Z"
   },
   {
    "duration": -700,
    "start_time": "2021-12-06T09:48:53.816Z"
   },
   {
    "duration": -702,
    "start_time": "2021-12-06T09:48:53.819Z"
   },
   {
    "duration": -718,
    "start_time": "2021-12-06T09:48:53.836Z"
   },
   {
    "duration": -718,
    "start_time": "2021-12-06T09:48:53.837Z"
   },
   {
    "duration": -718,
    "start_time": "2021-12-06T09:48:53.838Z"
   },
   {
    "duration": -719,
    "start_time": "2021-12-06T09:48:53.840Z"
   },
   {
    "duration": -719,
    "start_time": "2021-12-06T09:48:53.841Z"
   },
   {
    "duration": 71,
    "start_time": "2021-12-06T09:49:37.413Z"
   },
   {
    "duration": 39,
    "start_time": "2021-12-06T09:49:37.486Z"
   },
   {
    "duration": 299,
    "start_time": "2021-12-06T09:49:37.527Z"
   },
   {
    "duration": 12,
    "start_time": "2021-12-06T09:49:37.828Z"
   },
   {
    "duration": 6,
    "start_time": "2021-12-06T09:49:37.842Z"
   },
   {
    "duration": 6,
    "start_time": "2021-12-06T09:49:37.850Z"
   },
   {
    "duration": 73,
    "start_time": "2021-12-06T09:49:37.857Z"
   },
   {
    "duration": 9,
    "start_time": "2021-12-06T09:49:37.931Z"
   },
   {
    "duration": 17,
    "start_time": "2021-12-06T09:49:37.942Z"
   },
   {
    "duration": 41,
    "start_time": "2021-12-06T09:49:37.961Z"
   },
   {
    "duration": 12,
    "start_time": "2021-12-06T09:49:38.004Z"
   },
   {
    "duration": 20,
    "start_time": "2021-12-06T09:49:38.018Z"
   },
   {
    "duration": 19,
    "start_time": "2021-12-06T09:49:38.040Z"
   },
   {
    "duration": 55,
    "start_time": "2021-12-06T09:49:38.061Z"
   },
   {
    "duration": 9,
    "start_time": "2021-12-06T09:49:38.118Z"
   },
   {
    "duration": 3340,
    "start_time": "2021-12-06T09:49:38.129Z"
   },
   {
    "duration": 3332,
    "start_time": "2021-12-06T09:52:33.523Z"
   },
   {
    "duration": 13,
    "start_time": "2021-12-06T10:03:09.591Z"
   },
   {
    "duration": 6,
    "start_time": "2021-12-06T10:09:03.989Z"
   },
   {
    "duration": 17,
    "start_time": "2021-12-06T10:15:59.053Z"
   },
   {
    "duration": 767,
    "start_time": "2021-12-06T10:16:53.069Z"
   },
   {
    "duration": 56,
    "start_time": "2021-12-06T10:17:22.670Z"
   },
   {
    "duration": 756,
    "start_time": "2021-12-06T10:17:33.149Z"
   },
   {
    "duration": 830,
    "start_time": "2021-12-06T10:21:54.269Z"
   },
   {
    "duration": 14,
    "start_time": "2021-12-06T10:23:10.110Z"
   },
   {
    "duration": 21,
    "start_time": "2021-12-06T10:23:40.270Z"
   },
   {
    "duration": 4435,
    "start_time": "2021-12-06T10:31:45.755Z"
   },
   {
    "duration": 5,
    "start_time": "2021-12-06T10:32:44.149Z"
   },
   {
    "duration": 5,
    "start_time": "2021-12-06T10:32:56.030Z"
   },
   {
    "duration": 6,
    "start_time": "2021-12-06T10:33:21.190Z"
   },
   {
    "duration": 6,
    "start_time": "2021-12-06T10:33:26.782Z"
   },
   {
    "duration": 17,
    "start_time": "2021-12-06T10:37:03.270Z"
   },
   {
    "duration": 15,
    "start_time": "2021-12-06T10:37:51.302Z"
   },
   {
    "duration": 706,
    "start_time": "2021-12-07T08:22:31.312Z"
   },
   {
    "duration": 40,
    "start_time": "2021-12-07T08:22:32.020Z"
   },
   {
    "duration": 299,
    "start_time": "2021-12-07T08:22:32.063Z"
   },
   {
    "duration": 11,
    "start_time": "2021-12-07T08:22:32.364Z"
   },
   {
    "duration": 16,
    "start_time": "2021-12-07T08:22:32.377Z"
   },
   {
    "duration": 34,
    "start_time": "2021-12-07T08:22:32.394Z"
   },
   {
    "duration": 80,
    "start_time": "2021-12-07T08:22:32.429Z"
   },
   {
    "duration": 9,
    "start_time": "2021-12-07T08:22:32.510Z"
   },
   {
    "duration": 56,
    "start_time": "2021-12-07T08:22:32.522Z"
   },
   {
    "duration": 30,
    "start_time": "2021-12-07T08:22:32.580Z"
   },
   {
    "duration": 35,
    "start_time": "2021-12-07T08:22:32.612Z"
   },
   {
    "duration": 34,
    "start_time": "2021-12-07T08:22:32.649Z"
   },
   {
    "duration": 59,
    "start_time": "2021-12-07T08:22:32.685Z"
   },
   {
    "duration": 48,
    "start_time": "2021-12-07T08:22:32.745Z"
   },
   {
    "duration": 9,
    "start_time": "2021-12-07T08:22:32.794Z"
   },
   {
    "duration": 3615,
    "start_time": "2021-12-07T08:22:32.805Z"
   },
   {
    "duration": 26,
    "start_time": "2021-12-07T08:22:36.422Z"
   },
   {
    "duration": 34,
    "start_time": "2021-12-07T08:22:36.450Z"
   },
   {
    "duration": 45,
    "start_time": "2021-12-07T08:22:36.486Z"
   },
   {
    "duration": 32,
    "start_time": "2021-12-07T08:22:36.532Z"
   },
   {
    "duration": 41,
    "start_time": "2021-12-07T08:22:36.566Z"
   },
   {
    "duration": 6,
    "start_time": "2021-12-07T08:23:03.421Z"
   },
   {
    "duration": 5,
    "start_time": "2021-12-07T08:23:06.261Z"
   },
   {
    "duration": 337,
    "start_time": "2021-12-07T08:50:04.871Z"
   },
   {
    "duration": 15,
    "start_time": "2021-12-07T08:51:00.191Z"
   },
   {
    "duration": 69,
    "start_time": "2021-12-07T08:51:19.673Z"
   },
   {
    "duration": 42,
    "start_time": "2021-12-07T08:51:19.744Z"
   },
   {
    "duration": 234,
    "start_time": "2021-12-07T08:51:19.788Z"
   },
   {
    "duration": 25,
    "start_time": "2021-12-07T08:51:20.024Z"
   },
   {
    "duration": 6,
    "start_time": "2021-12-07T08:51:20.051Z"
   },
   {
    "duration": 16,
    "start_time": "2021-12-07T08:51:20.059Z"
   },
   {
    "duration": 55,
    "start_time": "2021-12-07T08:51:20.077Z"
   },
   {
    "duration": 17,
    "start_time": "2021-12-07T08:51:20.134Z"
   },
   {
    "duration": 26,
    "start_time": "2021-12-07T08:51:20.154Z"
   },
   {
    "duration": 21,
    "start_time": "2021-12-07T08:51:20.182Z"
   },
   {
    "duration": 21,
    "start_time": "2021-12-07T08:51:20.205Z"
   },
   {
    "duration": 26,
    "start_time": "2021-12-07T08:51:20.228Z"
   },
   {
    "duration": 26,
    "start_time": "2021-12-07T08:51:20.256Z"
   },
   {
    "duration": 36,
    "start_time": "2021-12-07T08:51:20.284Z"
   },
   {
    "duration": 27,
    "start_time": "2021-12-07T08:51:20.322Z"
   },
   {
    "duration": 3772,
    "start_time": "2021-12-07T08:51:20.351Z"
   },
   {
    "duration": 19,
    "start_time": "2021-12-07T08:51:24.125Z"
   },
   {
    "duration": 6,
    "start_time": "2021-12-07T08:51:24.146Z"
   },
   {
    "duration": 14,
    "start_time": "2021-12-07T08:51:24.154Z"
   },
   {
    "duration": 4,
    "start_time": "2021-12-07T08:51:24.170Z"
   },
   {
    "duration": 14,
    "start_time": "2021-12-07T08:51:24.176Z"
   },
   {
    "duration": 63,
    "start_time": "2021-12-07T08:51:24.192Z"
   },
   {
    "duration": 342,
    "start_time": "2021-12-07T08:57:08.271Z"
   },
   {
    "duration": 20,
    "start_time": "2021-12-07T08:57:23.553Z"
   },
   {
    "duration": 21,
    "start_time": "2021-12-07T08:57:35.751Z"
   },
   {
    "duration": 19,
    "start_time": "2021-12-07T08:58:06.630Z"
   },
   {
    "duration": 22,
    "start_time": "2021-12-07T09:01:12.870Z"
   },
   {
    "duration": 326,
    "start_time": "2021-12-07T09:05:30.511Z"
   },
   {
    "duration": 258,
    "start_time": "2021-12-07T09:05:49.159Z"
   },
   {
    "duration": 264,
    "start_time": "2021-12-07T09:06:03.552Z"
   },
   {
    "duration": 274,
    "start_time": "2021-12-07T09:06:59.351Z"
   },
   {
    "duration": 23,
    "start_time": "2021-12-07T09:07:15.791Z"
   },
   {
    "duration": 21,
    "start_time": "2021-12-07T09:07:44.831Z"
   },
   {
    "duration": 965,
    "start_time": "2021-12-07T12:32:18.209Z"
   },
   {
    "duration": 57,
    "start_time": "2021-12-07T12:32:19.176Z"
   },
   {
    "duration": 477,
    "start_time": "2021-12-07T12:32:19.236Z"
   },
   {
    "duration": 14,
    "start_time": "2021-12-07T12:32:19.715Z"
   },
   {
    "duration": 27,
    "start_time": "2021-12-07T12:32:19.732Z"
   },
   {
    "duration": 6,
    "start_time": "2021-12-07T12:32:19.761Z"
   },
   {
    "duration": 103,
    "start_time": "2021-12-07T12:32:19.769Z"
   },
   {
    "duration": 13,
    "start_time": "2021-12-07T12:32:19.875Z"
   },
   {
    "duration": 28,
    "start_time": "2021-12-07T12:32:19.892Z"
   },
   {
    "duration": 61,
    "start_time": "2021-12-07T12:32:19.922Z"
   },
   {
    "duration": 15,
    "start_time": "2021-12-07T12:32:19.985Z"
   },
   {
    "duration": 22,
    "start_time": "2021-12-07T12:32:20.003Z"
   },
   {
    "duration": 61,
    "start_time": "2021-12-07T12:32:20.028Z"
   },
   {
    "duration": 78,
    "start_time": "2021-12-07T12:32:20.092Z"
   },
   {
    "duration": 13,
    "start_time": "2021-12-07T12:32:20.173Z"
   },
   {
    "duration": 4896,
    "start_time": "2021-12-07T12:32:20.189Z"
   },
   {
    "duration": 12,
    "start_time": "2021-12-07T12:32:25.088Z"
   },
   {
    "duration": 10,
    "start_time": "2021-12-07T12:32:25.103Z"
   },
   {
    "duration": 48,
    "start_time": "2021-12-07T12:32:25.116Z"
   },
   {
    "duration": 6,
    "start_time": "2021-12-07T12:32:25.166Z"
   },
   {
    "duration": 22,
    "start_time": "2021-12-07T12:32:25.175Z"
   },
   {
    "duration": 77,
    "start_time": "2021-12-07T12:32:25.200Z"
   },
   {
    "duration": 32,
    "start_time": "2021-12-07T12:32:25.279Z"
   },
   {
    "duration": 32,
    "start_time": "2021-12-07T12:35:30.598Z"
   },
   {
    "duration": 32,
    "start_time": "2021-12-07T12:53:26.181Z"
   },
   {
    "duration": 88,
    "start_time": "2021-12-07T13:11:33.280Z"
   },
   {
    "duration": 60,
    "start_time": "2021-12-07T13:11:33.372Z"
   },
   {
    "duration": 402,
    "start_time": "2021-12-07T13:11:33.435Z"
   },
   {
    "duration": 26,
    "start_time": "2021-12-07T13:11:33.839Z"
   },
   {
    "duration": 18,
    "start_time": "2021-12-07T13:11:33.868Z"
   },
   {
    "duration": 12,
    "start_time": "2021-12-07T13:11:33.888Z"
   },
   {
    "duration": 94,
    "start_time": "2021-12-07T13:11:33.903Z"
   },
   {
    "duration": 12,
    "start_time": "2021-12-07T13:11:34.000Z"
   },
   {
    "duration": 57,
    "start_time": "2021-12-07T13:11:34.015Z"
   },
   {
    "duration": 25,
    "start_time": "2021-12-07T13:11:34.074Z"
   },
   {
    "duration": 14,
    "start_time": "2021-12-07T13:11:34.101Z"
   },
   {
    "duration": 52,
    "start_time": "2021-12-07T13:11:34.118Z"
   },
   {
    "duration": 28,
    "start_time": "2021-12-07T13:11:34.172Z"
   },
   {
    "duration": 90,
    "start_time": "2021-12-07T13:11:34.203Z"
   },
   {
    "duration": 18,
    "start_time": "2021-12-07T13:11:34.296Z"
   },
   {
    "duration": 5149,
    "start_time": "2021-12-07T13:11:34.317Z"
   },
   {
    "duration": 12,
    "start_time": "2021-12-07T13:11:39.469Z"
   },
   {
    "duration": 17,
    "start_time": "2021-12-07T13:11:39.483Z"
   },
   {
    "duration": 19,
    "start_time": "2021-12-07T13:11:39.502Z"
   },
   {
    "duration": 6,
    "start_time": "2021-12-07T13:11:39.523Z"
   },
   {
    "duration": 24,
    "start_time": "2021-12-07T13:11:39.561Z"
   },
   {
    "duration": 44,
    "start_time": "2021-12-07T13:11:39.587Z"
   },
   {
    "duration": 32,
    "start_time": "2021-12-07T13:11:39.660Z"
   },
   {
    "duration": 30,
    "start_time": "2021-12-07T13:11:39.694Z"
   },
   {
    "duration": 58,
    "start_time": "2021-12-07T13:11:39.726Z"
   },
   {
    "duration": 645,
    "start_time": "2021-12-09T10:17:02.376Z"
   },
   {
    "duration": 398,
    "start_time": "2021-12-09T10:18:06.127Z"
   },
   {
    "duration": 68,
    "start_time": "2021-12-09T10:18:10.462Z"
   },
   {
    "duration": 39,
    "start_time": "2021-12-09T10:22:47.428Z"
   },
   {
    "duration": 52,
    "start_time": "2021-12-09T10:22:54.429Z"
   },
   {
    "duration": 41,
    "start_time": "2021-12-09T10:23:03.523Z"
   },
   {
    "duration": 68,
    "start_time": "2021-12-09T10:26:37.250Z"
   },
   {
    "duration": 40,
    "start_time": "2021-12-09T10:26:37.320Z"
   },
   {
    "duration": 300,
    "start_time": "2021-12-09T10:26:37.362Z"
   },
   {
    "duration": 11,
    "start_time": "2021-12-09T10:26:37.663Z"
   },
   {
    "duration": 19,
    "start_time": "2021-12-09T10:26:37.676Z"
   },
   {
    "duration": 6,
    "start_time": "2021-12-09T10:26:37.696Z"
   },
   {
    "duration": 47,
    "start_time": "2021-12-09T10:26:37.704Z"
   },
   {
    "duration": 10,
    "start_time": "2021-12-09T10:26:37.754Z"
   },
   {
    "duration": 19,
    "start_time": "2021-12-09T10:26:37.793Z"
   },
   {
    "duration": 21,
    "start_time": "2021-12-09T10:26:37.814Z"
   },
   {
    "duration": 11,
    "start_time": "2021-12-09T10:26:37.837Z"
   },
   {
    "duration": 43,
    "start_time": "2021-12-09T10:26:37.850Z"
   },
   {
    "duration": 21,
    "start_time": "2021-12-09T10:26:37.894Z"
   },
   {
    "duration": 31,
    "start_time": "2021-12-09T10:26:37.917Z"
   },
   {
    "duration": 8,
    "start_time": "2021-12-09T10:26:37.950Z"
   },
   {
    "duration": 3311,
    "start_time": "2021-12-09T10:26:37.959Z"
   },
   {
    "duration": 20,
    "start_time": "2021-12-09T10:26:41.272Z"
   },
   {
    "duration": 7,
    "start_time": "2021-12-09T10:26:41.294Z"
   },
   {
    "duration": 13,
    "start_time": "2021-12-09T10:26:41.302Z"
   },
   {
    "duration": 9,
    "start_time": "2021-12-09T10:26:41.317Z"
   },
   {
    "duration": 17,
    "start_time": "2021-12-09T10:26:41.327Z"
   },
   {
    "duration": 47,
    "start_time": "2021-12-09T10:26:41.346Z"
   },
   {
    "duration": 22,
    "start_time": "2021-12-09T10:26:41.397Z"
   },
   {
    "duration": 18,
    "start_time": "2021-12-09T10:26:41.421Z"
   },
   {
    "duration": 25,
    "start_time": "2021-12-09T10:26:41.441Z"
   }
  ],
  "kernelspec": {
   "display_name": "Python 3 (ipykernel)",
   "language": "python",
   "name": "python3"
  },
  "language_info": {
   "codemirror_mode": {
    "name": "ipython",
    "version": 3
   },
   "file_extension": ".py",
   "mimetype": "text/x-python",
   "name": "python",
   "nbconvert_exporter": "python",
   "pygments_lexer": "ipython3",
   "version": "3.8.8"
  },
  "toc": {
   "base_numbering": 1,
   "nav_menu": {},
   "number_sections": true,
   "sideBar": true,
   "skip_h1_title": true,
   "title_cell": "Table of Contents",
   "title_sidebar": "Contents",
   "toc_cell": false,
   "toc_position": {},
   "toc_section_display": true,
   "toc_window_display": false
  }
 },
 "nbformat": 4,
 "nbformat_minor": 2
}
