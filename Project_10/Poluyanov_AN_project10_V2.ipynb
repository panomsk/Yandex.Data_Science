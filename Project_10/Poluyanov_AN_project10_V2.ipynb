{
 "cells": [
  {
   "cell_type": "markdown",
   "metadata": {
    "toc": true
   },
   "source": [
    "<h1>Содержание<span class=\"tocSkip\"></span></h1>\n",
    "<div class=\"toc\"><ul class=\"toc-item\"><li><span><a href=\"#Загрузка-данных\" data-toc-modified-id=\"Загрузка-данных-1\"><span class=\"toc-item-num\">1&nbsp;&nbsp;</span>Загрузка данных</a></span><ul class=\"toc-item\"><li><span><a href=\"#Выводы\" data-toc-modified-id=\"Выводы-1.1\"><span class=\"toc-item-num\">1.1&nbsp;&nbsp;</span>Выводы</a></span></li></ul></li><li><span><a href=\"#Умножение-матриц\" data-toc-modified-id=\"Умножение-матриц-2\"><span class=\"toc-item-num\">2&nbsp;&nbsp;</span>Умножение матриц</a></span><ul class=\"toc-item\"><li><span><a href=\"#Выводы\" data-toc-modified-id=\"Выводы-2.1\"><span class=\"toc-item-num\">2.1&nbsp;&nbsp;</span>Выводы</a></span></li></ul></li><li><span><a href=\"#Алгоритм-преобразования\" data-toc-modified-id=\"Алгоритм-преобразования-3\"><span class=\"toc-item-num\">3&nbsp;&nbsp;</span>Алгоритм преобразования</a></span><ul class=\"toc-item\"><li><span><a href=\"#Выводы\" data-toc-modified-id=\"Выводы-3.1\"><span class=\"toc-item-num\">3.1&nbsp;&nbsp;</span>Выводы</a></span></li></ul></li><li><span><a href=\"#Реализация-и-проверка-алгоритма\" data-toc-modified-id=\"Реализация-и-проверка-алгоритма-4\"><span class=\"toc-item-num\">4&nbsp;&nbsp;</span>Реализация и проверка алгоритма</a></span><ul class=\"toc-item\"><li><span><a href=\"#Подготовительные-операции\" data-toc-modified-id=\"Подготовительные-операции-4.1\"><span class=\"toc-item-num\">4.1&nbsp;&nbsp;</span>Подготовительные операции</a></span></li><li><span><a href=\"#Разработка-класса-модели-LinearRegression\" data-toc-modified-id=\"Разработка-класса-модели-LinearRegression-4.2\"><span class=\"toc-item-num\">4.2&nbsp;&nbsp;</span>Разработка класса модели LinearRegression</a></span></li><li><span><a href=\"#Тестирование-моделей\" data-toc-modified-id=\"Тестирование-моделей-4.3\"><span class=\"toc-item-num\">4.3&nbsp;&nbsp;</span>Тестирование моделей</a></span></li><li><span><a href=\"#Выводы\" data-toc-modified-id=\"Выводы-4.4\"><span class=\"toc-item-num\">4.4&nbsp;&nbsp;</span>Выводы</a></span></li></ul></li><li><span><a href=\"#Общий-вывод-по-проекту\" data-toc-modified-id=\"Общий-вывод-по-проекту-5\"><span class=\"toc-item-num\">5&nbsp;&nbsp;</span>Общий вывод по проекту</a></span></li><li><span><a href=\"#Чек-лист-проверки\" data-toc-modified-id=\"Чек-лист-проверки-6\"><span class=\"toc-item-num\">6&nbsp;&nbsp;</span>Чек-лист проверки</a></span></li></ul></div>"
   ]
  },
  {
   "cell_type": "markdown",
   "metadata": {},
   "source": [
    "# Защита персональных данных клиентов"
   ]
  },
  {
   "cell_type": "markdown",
   "metadata": {},
   "source": [
    "Вам нужно защитить данные клиентов страховой компании «Хоть потоп». Разработайте такой метод преобразования данных, чтобы по ним было сложно восстановить персональную информацию. Обоснуйте корректность его работы.\n",
    "\n",
    "Нужно защитить данные, чтобы при преобразовании качество моделей машинного обучения не ухудшилось. Подбирать наилучшую модель не требуется."
   ]
  },
  {
   "cell_type": "markdown",
   "metadata": {},
   "source": [
    "**Описание данных**\n",
    "Набор данных находится в файле `/datasets/insurance.csv`  \n",
    "•\t***Признаки:*** пол, возраст и зарплата застрахованного, количество членов его семьи.  \n",
    "•\t***Целевой признак:*** количество страховых выплат клиенту за последние 5 лет.  \n"
   ]
  },
  {
   "cell_type": "markdown",
   "metadata": {},
   "source": [
    "## Загрузка данных"
   ]
  },
  {
   "cell_type": "code",
   "execution_count": 1,
   "metadata": {},
   "outputs": [],
   "source": [
    "#подключение библиотек, используемых в проекте\n",
    "import pandas as pd\n",
    "import numpy as np\n",
    "import matplotlib.pyplot as plt\n",
    "import seaborn as sb\n",
    "from sklearn.linear_model import LinearRegression as sk_LinearRegression\n",
    "from sklearn.metrics import mean_squared_error, r2_score\n",
    "\n",
    "%matplotlib inline\n",
    "\n",
    "pd.set_option('display.max_columns', None)\n",
    "pd.set_option('display.max_rows', None)"
   ]
  },
  {
   "cell_type": "code",
   "execution_count": 2,
   "metadata": {},
   "outputs": [],
   "source": [
    "def df_read_csv(file_name):\n",
    "    try:\n",
    "        df = pd.read_csv('/datasets/' + file_name)\n",
    "    except:\n",
    "        df = pd.read_csv('datasets\\\\' + file_name)\n",
    "    return df\n",
    "\n",
    "def df_show_info(df):\n",
    "    df.info()\n",
    "    display(df.head())\n",
    "    print('Дубликатов в исходных данных: ',df.duplicated().sum())\n",
    "    sb.pairplot(df)\n",
    "    plt.subplots(figsize=(12,10))\n",
    "    sb.heatmap(df.corr(), cmap=\"YlGnBu\", annot=True)"
   ]
  },
  {
   "cell_type": "code",
   "execution_count": 3,
   "metadata": {
    "scrolled": true
   },
   "outputs": [
    {
     "name": "stdout",
     "output_type": "stream",
     "text": [
      "<class 'pandas.core.frame.DataFrame'>\n",
      "RangeIndex: 5000 entries, 0 to 4999\n",
      "Data columns (total 5 columns):\n",
      " #   Column             Non-Null Count  Dtype  \n",
      "---  ------             --------------  -----  \n",
      " 0   Пол                5000 non-null   int64  \n",
      " 1   Возраст            5000 non-null   float64\n",
      " 2   Зарплата           5000 non-null   float64\n",
      " 3   Члены семьи        5000 non-null   int64  \n",
      " 4   Страховые выплаты  5000 non-null   int64  \n",
      "dtypes: float64(2), int64(3)\n",
      "memory usage: 195.4 KB\n"
     ]
    },
    {
     "data": {
      "text/html": [
       "<div>\n",
       "<style scoped>\n",
       "    .dataframe tbody tr th:only-of-type {\n",
       "        vertical-align: middle;\n",
       "    }\n",
       "\n",
       "    .dataframe tbody tr th {\n",
       "        vertical-align: top;\n",
       "    }\n",
       "\n",
       "    .dataframe thead th {\n",
       "        text-align: right;\n",
       "    }\n",
       "</style>\n",
       "<table border=\"1\" class=\"dataframe\">\n",
       "  <thead>\n",
       "    <tr style=\"text-align: right;\">\n",
       "      <th></th>\n",
       "      <th>Пол</th>\n",
       "      <th>Возраст</th>\n",
       "      <th>Зарплата</th>\n",
       "      <th>Члены семьи</th>\n",
       "      <th>Страховые выплаты</th>\n",
       "    </tr>\n",
       "  </thead>\n",
       "  <tbody>\n",
       "    <tr>\n",
       "      <th>0</th>\n",
       "      <td>1</td>\n",
       "      <td>41.0</td>\n",
       "      <td>49600.0</td>\n",
       "      <td>1</td>\n",
       "      <td>0</td>\n",
       "    </tr>\n",
       "    <tr>\n",
       "      <th>1</th>\n",
       "      <td>0</td>\n",
       "      <td>46.0</td>\n",
       "      <td>38000.0</td>\n",
       "      <td>1</td>\n",
       "      <td>1</td>\n",
       "    </tr>\n",
       "    <tr>\n",
       "      <th>2</th>\n",
       "      <td>0</td>\n",
       "      <td>29.0</td>\n",
       "      <td>21000.0</td>\n",
       "      <td>0</td>\n",
       "      <td>0</td>\n",
       "    </tr>\n",
       "    <tr>\n",
       "      <th>3</th>\n",
       "      <td>0</td>\n",
       "      <td>21.0</td>\n",
       "      <td>41700.0</td>\n",
       "      <td>2</td>\n",
       "      <td>0</td>\n",
       "    </tr>\n",
       "    <tr>\n",
       "      <th>4</th>\n",
       "      <td>1</td>\n",
       "      <td>28.0</td>\n",
       "      <td>26100.0</td>\n",
       "      <td>0</td>\n",
       "      <td>0</td>\n",
       "    </tr>\n",
       "  </tbody>\n",
       "</table>\n",
       "</div>"
      ],
      "text/plain": [
       "   Пол  Возраст  Зарплата  Члены семьи  Страховые выплаты\n",
       "0    1     41.0   49600.0            1                  0\n",
       "1    0     46.0   38000.0            1                  1\n",
       "2    0     29.0   21000.0            0                  0\n",
       "3    0     21.0   41700.0            2                  0\n",
       "4    1     28.0   26100.0            0                  0"
      ]
     },
     "metadata": {},
     "output_type": "display_data"
    },
    {
     "name": "stdout",
     "output_type": "stream",
     "text": [
      "Дубликатов в исходных данных:  153\n"
     ]
    },
    {
     "data": {
      "image/png": "[encoded data removed]",
      "text/plain": [
       "<Figure size 900x900 with 30 Axes>"
      ]
     },
     "metadata": {
      "needs_background": "light"
     },
     "output_type": "display_data"
    },
    {
     "data": {
      "image/png": "[encoded data removed]",
      "text/plain": [
       "<Figure size 864x720 with 2 Axes>"
      ]
     },
     "metadata": {
      "needs_background": "light"
     },
     "output_type": "display_data"
    }
   ],
   "source": [
    "df = df_read_csv('insurance.csv')\n",
    "df_show_info(df)"
   ]
  },
  {
   "cell_type": "markdown",
   "metadata": {},
   "source": [
    "Возраст и зарплату преобразуем к типу int, тип float в данном случае не требуется"
   ]
  },
  {
   "cell_type": "code",
   "execution_count": 4,
   "metadata": {},
   "outputs": [
    {
     "data": {
      "text/html": [
       "<div>\n",
       "<style scoped>\n",
       "    .dataframe tbody tr th:only-of-type {\n",
       "        vertical-align: middle;\n",
       "    }\n",
       "\n",
       "    .dataframe tbody tr th {\n",
       "        vertical-align: top;\n",
       "    }\n",
       "\n",
       "    .dataframe thead th {\n",
       "        text-align: right;\n",
       "    }\n",
       "</style>\n",
       "<table border=\"1\" class=\"dataframe\">\n",
       "  <thead>\n",
       "    <tr style=\"text-align: right;\">\n",
       "      <th></th>\n",
       "      <th>Пол</th>\n",
       "      <th>Возраст</th>\n",
       "      <th>Зарплата</th>\n",
       "      <th>Члены семьи</th>\n",
       "      <th>Страховые выплаты</th>\n",
       "    </tr>\n",
       "  </thead>\n",
       "  <tbody>\n",
       "    <tr>\n",
       "      <th>0</th>\n",
       "      <td>1</td>\n",
       "      <td>41</td>\n",
       "      <td>49600</td>\n",
       "      <td>1</td>\n",
       "      <td>0</td>\n",
       "    </tr>\n",
       "    <tr>\n",
       "      <th>1</th>\n",
       "      <td>0</td>\n",
       "      <td>46</td>\n",
       "      <td>38000</td>\n",
       "      <td>1</td>\n",
       "      <td>1</td>\n",
       "    </tr>\n",
       "    <tr>\n",
       "      <th>2</th>\n",
       "      <td>0</td>\n",
       "      <td>29</td>\n",
       "      <td>21000</td>\n",
       "      <td>0</td>\n",
       "      <td>0</td>\n",
       "    </tr>\n",
       "    <tr>\n",
       "      <th>3</th>\n",
       "      <td>0</td>\n",
       "      <td>21</td>\n",
       "      <td>41700</td>\n",
       "      <td>2</td>\n",
       "      <td>0</td>\n",
       "    </tr>\n",
       "    <tr>\n",
       "      <th>4</th>\n",
       "      <td>1</td>\n",
       "      <td>28</td>\n",
       "      <td>26100</td>\n",
       "      <td>0</td>\n",
       "      <td>0</td>\n",
       "    </tr>\n",
       "  </tbody>\n",
       "</table>\n",
       "</div>"
      ],
      "text/plain": [
       "   Пол  Возраст  Зарплата  Члены семьи  Страховые выплаты\n",
       "0    1       41     49600            1                  0\n",
       "1    0       46     38000            1                  1\n",
       "2    0       29     21000            0                  0\n",
       "3    0       21     41700            2                  0\n",
       "4    1       28     26100            0                  0"
      ]
     },
     "execution_count": 4,
     "metadata": {},
     "output_type": "execute_result"
    }
   ],
   "source": [
    "df = df.astype({'Возраст': 'int', 'Зарплата': 'int'})\n",
    "df.head()"
   ]
  },
  {
   "cell_type": "markdown",
   "metadata": {},
   "source": [
    "### Выводы"
   ]
  },
  {
   "cell_type": "markdown",
   "metadata": {},
   "source": [
    "- Данные успешно загружены из файла: `/datasets/insurance.csv`.\n",
    "- Датасет содержит 5000 строк и 5 колонок. Пропусков в исходных данных нет.\n",
    "- Присутствует 153 дубликата, но поскольку признаков у нас не так много и отсутствует id клиента, то возможно это данные разных клиентов. Соответственно удалять их не будем.  \n",
    "- Целевой признак положительно коррелирует с возрастом клиентов, больше корреляций между признаками не наблюдается.  "
   ]
  },
  {
   "cell_type": "markdown",
   "metadata": {},
   "source": [
    "## Умножение матриц"
   ]
  },
  {
   "cell_type": "markdown",
   "metadata": {},
   "source": [
    "В данном разделе необходимо ответить на вопрос: **Признаки умножают на обратимую матрицу. Изменится ли качество линейной регрессии?**\n",
    "\n",
    "Введем вспомогательные обозначения:\n",
    "\n",
    "- $X$ — матрица признаков (нулевой столбец состоит из единиц)\n",
    "\n",
    "- $y$ — вектор целевого признака\n",
    "\n",
    "- $P$ — матрица, на которую умножаются признаки\n",
    "\n",
    "- $w$ — вектор весов линейной регрессии (нулевой элемент равен сдвигу)"
   ]
  },
  {
   "cell_type": "markdown",
   "metadata": {},
   "source": [
    "Предсказания:\n",
    "\n",
    "$$\n",
    "a = Xw\n",
    "$$\n",
    "\n",
    "Задача обучения:\n",
    "\n",
    "$$\n",
    "w = \\arg\\min_w MSE(Xw, y)\n",
    "$$\n",
    "\n",
    "Формула обучения:\n",
    "\n",
    "$$\n",
    "w = (X^T X)^{-1} X^T y\n",
    "$$"
   ]
  },
  {
   "cell_type": "markdown",
   "metadata": {},
   "source": [
    "**Ответ:** Качество линейной регрессии не изменится при условии что матрица $P$ невырождена (т.е. определитель не равен 0 и существует обратная матрица)\n",
    "\n",
    "**Обоснование:** Учебник по линейной алгебре)))  \n",
    "Применим некоторые свойства операций с матрицами. Пусть $A$ и $B$ - матрицы, $E$ - единичная матрица (единицы на главной диагонали), тогда выполнены следующие свойства:\n",
    "$$\n",
    "(AB)^T=B^T A^T\n",
    "\\\\\n",
    "AA^{-1}=A^{-1}A=E\n",
    "\\\\\n",
    "(A^T)^{-1}=(A^{-1})^T\n",
    "\\\\\n",
    "(AB)^{-1}=B^{-1} A^{-1}\n",
    "$$"
   ]
  },
  {
   "cell_type": "markdown",
   "metadata": {},
   "source": [
    "Введем вспомогательные обозначения для модифицированной модели:\n",
    "\n",
    "- $\\tilde a$ — предсказания модифицированной модели\n",
    "\n",
    "- $\\tilde X$ — матрица признаков (нулевой столбец состоит из единиц)\n",
    "\n",
    "- $P$ — матрица, на которую умножаются признаки\n",
    "\n",
    "- $\\tilde w$ — вектор весов линейной регрессии (нулевой элемент равен сдвигу)"
   ]
  },
  {
   "cell_type": "markdown",
   "metadata": {},
   "source": [
    "Для модифицированной модели получим:  \n",
    "Предсказания:\n",
    "\n",
    "$$\n",
    "\\tilde a = \\tilde X\\tilde w\n",
    "$$\n",
    "\n",
    "Задача обучения:\n",
    "\n",
    "$$\n",
    "\\tilde w = \\arg\\min_\\tilde w MSE(\\tilde X\\tilde w, y)\n",
    "$$\n",
    "\n",
    "Формула обучения:\n",
    "\n",
    "$$\n",
    "\\tilde w = (\\tilde X^T \\tilde X)^{-1} \\tilde X^T y\n",
    "$$\n",
    "\n",
    "Исходя из условий задачи:\n",
    "$$\n",
    "\\tilde X = XP\n",
    "$$\n",
    "Подставим данное выражение в формулу обучения и применим указанные выше свойства операций с матрицами для раскрытия скобок и упрощения выражения:\n",
    "$$\n",
    "\\tilde w = (\\tilde X^T \\tilde X)^{-1} \\tilde X^T y = ((XP)^T XP)^{-1} (XP)^T y = (P^T (X^T X) P)^{-1} (XP)^T y =\n",
    "\\\\\n",
    "= P^{-1}(X^T X)^{-1}(P^T)^{-1}P^TX^T y = P^{-1}(X^T X)^{-1}E X^T y = P^{-1}(X^T X)^{-1} X^T y = P^{-1} w \n",
    "$$\n",
    "\n",
    "Получили, что веса модифицированной модели связаны с весами исходной модели следующим выражением:\n",
    "$$\n",
    "\\tilde w = P^{-1} w\n",
    "$$\n",
    "домножим обе стороны полученного выражения слева на $P$ и получим выражение для нахождения весов исходной модели при известных весах модифицированной:\n",
    "$$\n",
    "w = P \\tilde w\n",
    "$$\n"
   ]
  },
  {
   "cell_type": "markdown",
   "metadata": {},
   "source": [
    "Формулы, связывающие веса моделей мы получили. Осталось установить как между собой соотносятся $a$ и $\\tilde a$  \n",
    "$$\n",
    "a = Xw = XEw = X(PP^{-1})w = (XP)(P^{-1}w) = \\tilde X \\tilde w = \\tilde a \n",
    "$$\n",
    "То есть $a = \\tilde a$  \n",
    "Причем, очевидно, что это верно не только для обучающей выборки, но и для тестовой."
   ]
  },
  {
   "cell_type": "markdown",
   "metadata": {},
   "source": [
    "При умножении матриц необходимо выполнение требования: **Число стобцов первой матрицы равно числу строк второй матрицы**. В нашем случае предъявляются дополнительные требования к матрице $P$ - обратимость (соответственно матрица должна быть квадратной). \n",
    "Получим что $P$ - обратимая квадратная матрица размера $[k,k]$, где $k$ - количество признаков в датасете"
   ]
  },
  {
   "attachments": {
    "image.png": {
     "image/png": "[encoded data removed]"
    }
   },
   "cell_type": "markdown",
   "metadata": {},
   "source": [
    "![image.png](attachment:image.png)"
   ]
  },
  {
   "cell_type": "markdown",
   "metadata": {},
   "source": [
    "### Выводы"
   ]
  },
  {
   "cell_type": "markdown",
   "metadata": {},
   "source": [
    "- Получено выражение связывающее веса исходной и модифицированной модели (полученной при умножении матрицы признаков исходной модели на обратимую матрицу).  \n",
    "- Доказано с помощью аппарата линейной алгебры, что вектор предсказаний исходной и модифицированной модели совпадают.  \n",
    "- Можно сделать вывод, что качество линейной регрессии не изменится (т.к. вектор предсказаний исходной и модифицированной модели идентичные, то и значения метрик качества также будут идентичными)."
   ]
  },
  {
   "cell_type": "markdown",
   "metadata": {},
   "source": [
    "## Алгоритм преобразования"
   ]
  },
  {
   "cell_type": "markdown",
   "metadata": {},
   "source": [
    "**Алгоритм:** На основании результатов предыдущего раздела, предлагается следующий алгоритм для защиты данных клиентов.  \n",
    "- Генерируется случайная обратимая матрица $P$ размера $[k,k]$, где $k$ - количество признаков в датасете. При случайной генерации вероятность получения необратимой матрицы крайне мала (это возможно только при линейной зависимости строк или столбцов) \n",
    "- Матрица признаков домножается на полученную матрицу $P$, таким образом осуществляется шифрование исходных данных. Восстановить данные, не зная матрицу $P$ не получится.  \n",
    "- На зашифрованных признаках обучается модель линейной регрессии, получается вектор весов.\n",
    "- Далее для использования модели необходимо выборку с признаками по новым клиентам (новые объекты для использования модели) умножать на матрицу P и использовать модифицированную модель.  \n",
    "\n"
   ]
  },
  {
   "cell_type": "markdown",
   "metadata": {},
   "source": [
    "**Обоснование**\n",
    "Корректность алгоритма доказана результатами, полученными в разделе 2"
   ]
  },
  {
   "cell_type": "markdown",
   "metadata": {},
   "source": [
    "### Выводы"
   ]
  },
  {
   "cell_type": "markdown",
   "metadata": {},
   "source": [
    "Описан алгоритм обучения и применения модели линейной регрессии для предсказания количества страховых выплат клиенту, работающий с зашифрованными данными"
   ]
  },
  {
   "cell_type": "markdown",
   "metadata": {},
   "source": [
    "## Реализация и проверка алгоритма"
   ]
  },
  {
   "cell_type": "markdown",
   "metadata": {},
   "source": [
    "### Подготовительные операции"
   ]
  },
  {
   "cell_type": "markdown",
   "metadata": {},
   "source": [
    "Полготовим обучающую выборку, сгенерируем матрицу P, зашифруем признаки, проверим корректность шифрования и возможность восстановления признаков"
   ]
  },
  {
   "cell_type": "code",
   "execution_count": 5,
   "metadata": {},
   "outputs": [],
   "source": [
    "features = df.drop('Страховые выплаты', axis=1)\n",
    "target = df['Страховые выплаты']"
   ]
  },
  {
   "cell_type": "code",
   "execution_count": 6,
   "metadata": {},
   "outputs": [
    {
     "data": {
      "text/plain": [
       "array([[0.37454012, 0.95071431, 0.73199394, 0.59865848],\n",
       "       [0.15601864, 0.15599452, 0.05808361, 0.86617615],\n",
       "       [0.60111501, 0.70807258, 0.02058449, 0.96990985],\n",
       "       [0.83244264, 0.21233911, 0.18182497, 0.18340451]])"
      ]
     },
     "execution_count": 6,
     "metadata": {},
     "output_type": "execute_result"
    }
   ],
   "source": [
    "np.random.seed(42)\n",
    "P = np.random.rand(features.shape[1], features.shape[1])\n",
    "P"
   ]
  },
  {
   "cell_type": "code",
   "execution_count": 7,
   "metadata": {},
   "outputs": [
    {
     "data": {
      "text/plain": [
       "array([[-0.32076901, -0.12766508,  0.06141427,  1.32518674],\n",
       "       [ 0.35151041, -1.88500014,  1.65560045, -1.0003883 ],\n",
       "       [ 1.14080312,  1.3467702 , -2.0407373 ,  0.70794071],\n",
       "       [-0.08202687,  1.42666425, -0.17238177, -0.10600441]])"
      ]
     },
     "execution_count": 7,
     "metadata": {},
     "output_type": "execute_result"
    }
   ],
   "source": [
    "P_inv = np.linalg.inv(P)\n",
    "P_inv"
   ]
  },
  {
   "cell_type": "code",
   "execution_count": null,
   "metadata": {},
   "outputs": [],
   "source": []
  },
  {
   "cell_type": "markdown",
   "metadata": {},
   "source": [
    "Проверим что $P*Pinv==E$"
   ]
  },
  {
   "cell_type": "code",
   "execution_count": 8,
   "metadata": {},
   "outputs": [
    {
     "name": "stdout",
     "output_type": "stream",
     "text": [
      "[[ 1.  0.  0.  0.]\n",
      " [ 0.  1.  0.  0.]\n",
      " [ 0. -0.  1.  0.]\n",
      " [ 0.  0.  0.  1.]]\n"
     ]
    }
   ],
   "source": [
    "print(np.round(P@P_inv,10))"
   ]
  },
  {
   "cell_type": "code",
   "execution_count": 8,
   "metadata": {},
   "outputs": [
    {
     "data": {
      "text/html": [
       "<div>\n",
       "<style scoped>\n",
       "    .dataframe tbody tr th:only-of-type {\n",
       "        vertical-align: middle;\n",
       "    }\n",
       "\n",
       "    .dataframe tbody tr th {\n",
       "        vertical-align: top;\n",
       "    }\n",
       "\n",
       "    .dataframe thead th {\n",
       "        text-align: right;\n",
       "    }\n",
       "</style>\n",
       "<table border=\"1\" class=\"dataframe\">\n",
       "  <thead>\n",
       "    <tr style=\"text-align: right;\">\n",
       "      <th></th>\n",
       "      <th>Пол</th>\n",
       "      <th>Возраст</th>\n",
       "      <th>Зарплата</th>\n",
       "      <th>Члены семьи</th>\n",
       "    </tr>\n",
       "  </thead>\n",
       "  <tbody>\n",
       "    <tr>\n",
       "      <th>0</th>\n",
       "      <td>1</td>\n",
       "      <td>41</td>\n",
       "      <td>49600</td>\n",
       "      <td>1</td>\n",
       "    </tr>\n",
       "    <tr>\n",
       "      <th>1</th>\n",
       "      <td>0</td>\n",
       "      <td>46</td>\n",
       "      <td>38000</td>\n",
       "      <td>1</td>\n",
       "    </tr>\n",
       "    <tr>\n",
       "      <th>2</th>\n",
       "      <td>0</td>\n",
       "      <td>29</td>\n",
       "      <td>21000</td>\n",
       "      <td>0</td>\n",
       "    </tr>\n",
       "    <tr>\n",
       "      <th>3</th>\n",
       "      <td>0</td>\n",
       "      <td>21</td>\n",
       "      <td>41700</td>\n",
       "      <td>2</td>\n",
       "    </tr>\n",
       "    <tr>\n",
       "      <th>4</th>\n",
       "      <td>1</td>\n",
       "      <td>28</td>\n",
       "      <td>26100</td>\n",
       "      <td>0</td>\n",
       "    </tr>\n",
       "  </tbody>\n",
       "</table>\n",
       "</div>"
      ],
      "text/plain": [
       "   Пол  Возраст  Зарплата  Члены семьи\n",
       "0    1       41     49600            1\n",
       "1    0       46     38000            1\n",
       "2    0       29     21000            0\n",
       "3    0       21     41700            2\n",
       "4    1       28     26100            0"
      ]
     },
     "execution_count": 8,
     "metadata": {},
     "output_type": "execute_result"
    }
   ],
   "source": [
    "features.head()"
   ]
  },
  {
   "cell_type": "code",
   "execution_count": 9,
   "metadata": {},
   "outputs": [
    {
     "data": {
      "text/html": [
       "<div>\n",
       "<style scoped>\n",
       "    .dataframe tbody tr th:only-of-type {\n",
       "        vertical-align: middle;\n",
       "    }\n",
       "\n",
       "    .dataframe tbody tr th {\n",
       "        vertical-align: top;\n",
       "    }\n",
       "\n",
       "    .dataframe thead th {\n",
       "        text-align: right;\n",
       "    }\n",
       "</style>\n",
       "<table border=\"1\" class=\"dataframe\">\n",
       "  <thead>\n",
       "    <tr style=\"text-align: right;\">\n",
       "      <th></th>\n",
       "      <th>0</th>\n",
       "      <th>1</th>\n",
       "      <th>2</th>\n",
       "      <th>3</th>\n",
       "    </tr>\n",
       "  </thead>\n",
       "  <tbody>\n",
       "    <tr>\n",
       "      <th>0</th>\n",
       "      <td>29822.908329</td>\n",
       "      <td>35127.958687</td>\n",
       "      <td>1024.286164</td>\n",
       "      <td>48143.823952</td>\n",
       "    </tr>\n",
       "    <tr>\n",
       "      <th>1</th>\n",
       "      <td>22850.379746</td>\n",
       "      <td>26914.146043</td>\n",
       "      <td>785.064454</td>\n",
       "      <td>36896.601889</td>\n",
       "    </tr>\n",
       "    <tr>\n",
       "      <th>2</th>\n",
       "      <td>12627.939787</td>\n",
       "      <td>14874.047975</td>\n",
       "      <td>433.958805</td>\n",
       "      <td>20393.226004</td>\n",
       "    </tr>\n",
       "    <tr>\n",
       "      <th>3</th>\n",
       "      <td>25071.437266</td>\n",
       "      <td>29530.327057</td>\n",
       "      <td>859.956818</td>\n",
       "      <td>40463.797343</td>\n",
       "    </tr>\n",
       "    <tr>\n",
       "      <th>4</th>\n",
       "      <td>15693.844869</td>\n",
       "      <td>18486.012841</td>\n",
       "      <td>539.613636</td>\n",
       "      <td>25339.498732</td>\n",
       "    </tr>\n",
       "  </tbody>\n",
       "</table>\n",
       "</div>"
      ],
      "text/plain": [
       "              0             1            2             3\n",
       "0  29822.908329  35127.958687  1024.286164  48143.823952\n",
       "1  22850.379746  26914.146043   785.064454  36896.601889\n",
       "2  12627.939787  14874.047975   433.958805  20393.226004\n",
       "3  25071.437266  29530.327057   859.956818  40463.797343\n",
       "4  15693.844869  18486.012841   539.613636  25339.498732"
      ]
     },
     "execution_count": 9,
     "metadata": {},
     "output_type": "execute_result"
    }
   ],
   "source": [
    "features_encrypted = features@P\n",
    "features_encrypted.head()"
   ]
  },
  {
   "cell_type": "code",
   "execution_count": 10,
   "metadata": {},
   "outputs": [
    {
     "data": {
      "text/plain": [
       "array([[    1,    41, 49600,     1],\n",
       "       [    0,    46, 38000,     1],\n",
       "       [    0,    29, 21000,     0],\n",
       "       ...,\n",
       "       [    0,    20, 33900,     2],\n",
       "       [    1,    22, 32700,     3],\n",
       "       [    1,    28, 40600,     1]])"
      ]
     },
     "execution_count": 10,
     "metadata": {},
     "output_type": "execute_result"
    }
   ],
   "source": [
    "features_restored = (np.array(np.round(features_encrypted@P_inv), dtype=int))\n",
    "features_restored"
   ]
  },
  {
   "cell_type": "markdown",
   "metadata": {},
   "source": [
    "**Проверим, что признаки восстановлены корректно:**"
   ]
  },
  {
   "cell_type": "code",
   "execution_count": 11,
   "metadata": {},
   "outputs": [
    {
     "name": "stdout",
     "output_type": "stream",
     "text": [
      "Восстановленные признаки идентичны исходным\n"
     ]
    }
   ],
   "source": [
    "if (np.array_equal(features, features_restored)==True):\n",
    "    print('Восстановленные признаки идентичны исходным')\n",
    "else:\n",
    "    print('Ошибка преобразования данных. Обратитесь к разрабочику.')"
   ]
  },
  {
   "cell_type": "markdown",
   "metadata": {},
   "source": [
    "### Разработка класса модели LinearRegression"
   ]
  },
  {
   "cell_type": "code",
   "execution_count": 12,
   "metadata": {},
   "outputs": [],
   "source": [
    "class LinearRegression:\n",
    "    def fit(self, train_features, train_target):\n",
    "        X = np.concatenate((np.ones((train_features.shape[0], 1)), train_features), axis=1)\n",
    "        y = train_target\n",
    "        w = (np.linalg.inv(X.T@(X))@X.T).dot(y)\n",
    "        self.w = w[1:]\n",
    "        self.w0 = w[0]\n",
    "\n",
    "    def predict(self, test_features):\n",
    "        return test_features.dot(self.w) + self.w0"
   ]
  },
  {
   "cell_type": "markdown",
   "metadata": {},
   "source": [
    "### Тестирование моделей"
   ]
  },
  {
   "cell_type": "markdown",
   "metadata": {},
   "source": [
    "Подготовим для тестирования 4 модели. Две из них будут работать с зашифрованными данными, две с исходными. Сравним качество обучения моделей с использованием метрики r2_score"
   ]
  },
  {
   "cell_type": "code",
   "execution_count": 13,
   "metadata": {},
   "outputs": [
    {
     "name": "stdout",
     "output_type": "stream",
     "text": [
      "R2_score линейная регрессиия, незашифрованные данные 0.42495\n"
     ]
    }
   ],
   "source": [
    "model = LinearRegression()\n",
    "model.fit(features, target)\n",
    "predictions = model.predict(features)\n",
    "print('R2_score линейная регрессиия, незашифрованные данные', round(r2_score(target, predictions),5))"
   ]
  },
  {
   "cell_type": "code",
   "execution_count": 14,
   "metadata": {},
   "outputs": [
    {
     "name": "stdout",
     "output_type": "stream",
     "text": [
      "R2_score линейная регрессиия, зашифрованные данные 0.42495\n"
     ]
    }
   ],
   "source": [
    "model_encrypted = LinearRegression()\n",
    "model_encrypted.fit(features_encrypted, target)\n",
    "predictions = model_encrypted.predict(features_encrypted)\n",
    "print('R2_score линейная регрессиия, зашифрованные данные', round(r2_score(target, predictions),5))"
   ]
  },
  {
   "cell_type": "code",
   "execution_count": 15,
   "metadata": {},
   "outputs": [
    {
     "name": "stdout",
     "output_type": "stream",
     "text": [
      "R2_score линейная регрессиия из библиотеки sklearn, незашифрованные данные 0.42495\n"
     ]
    }
   ],
   "source": [
    "model_sk = sk_LinearRegression()\n",
    "model_sk.fit(features, target)\n",
    "predictions = model_sk.predict(features)\n",
    "print('R2_score линейная регрессиия из библиотеки sklearn, незашифрованные данные', round(r2_score(target, predictions),5))"
   ]
  },
  {
   "cell_type": "code",
   "execution_count": 17,
   "metadata": {},
   "outputs": [
    {
     "name": "stdout",
     "output_type": "stream",
     "text": [
      "R2_score линейная регрессиия из библиотеки sklearn, зашифрованные данные 0.42495\n"
     ]
    }
   ],
   "source": [
    "model_sk_encrypted = sk_LinearRegression()\n",
    "model_sk_encrypted.fit(features, target)\n",
    "predictions = model_sk_encrypted.predict(features)\n",
    "print('R2_score линейная регрессиия из библиотеки sklearn, зашифрованные данные', round(r2_score(target, predictions),5))"
   ]
  },
  {
   "cell_type": "markdown",
   "metadata": {},
   "source": [
    "### Выводы"
   ]
  },
  {
   "cell_type": "markdown",
   "metadata": {},
   "source": [
    "Результаты обучения подтвердили полученные в разделах 2 и 3 выводы. Значение метрики r2_score для всех 4-х моделей совпало. "
   ]
  },
  {
   "cell_type": "markdown",
   "metadata": {},
   "source": [
    "## Общий вывод по проекту"
   ]
  },
  {
   "cell_type": "markdown",
   "metadata": {},
   "source": [
    "**При выполнении проекта:** \n",
    "\n",
    "**В разделе 1 проекта:**  \n",
    "- Данные успешно загружены из файла: `/datasets/insurance.csv`.\n",
    "- Датасет содержит 5000 строк и 5 колонок. Пропусков в исходных данных нет.\n",
    "- Присутствует 153 дубликата, но поскольку признаков у нас не так много и отсутствует id клиента, то возможно это данные разных клиентов. Соответственно удалять их не будем.  \n",
    "- Целевой признак положительно коррелирует с возрастом клиентов, больше корреляций между признаками не наблюдается.  \n",
    "\n",
    "**В разделе 2 проекта:**  \n",
    "- Получено выражение связывающее веса исходной и модифицированной модели (полученной при умножении матрицы признаков исходной модели на обратимую матрицу).  \n",
    "- Доказано с помощью аппарата линейной алгебры, что вектор предсказаний исходной и модифицированной модели совпадают.  \n",
    "- Можно сделать вывод, что качество линейной регрессии не изменится (т.к. вектор предсказаний исходной и модифицированной модели идентичные, то и значения метрик качества также будут идентичными).\n",
    "\n",
    "**В разделе 3 проекта:**  \n",
    "- Описан алгоритм обучения и применения модели линейной регрессии для предсказания количества страховых выплат клиенту, работающий с зашифрованными данными.\n",
    "\n",
    "**В разделе 4 проекта:**  \n",
    "- Разработана модель линейной регрессии\n",
    "- Проверена работа модели с зашифрованными данными, проведено сравнение 2 видов моделей (разработанной и из пакета sklearn) при работе с зашифрованными и исходными данными, показана идентичность метрики r2_score для всех вариантов обучения.\n",
    "\n",
    "**По итогу проекта Заказчику предлагается использовать следующий алгоритм, позволяющий защитить коннфиденциальные данные о клиентах:**  \n",
    "- Генерируется случайная обратимая матрица $P$ размера $[k,k]$, где $k$ - количество признаков в датасете. При случайной генерации вероятность получения необратимой матрицы крайне мала (это возможно тольео при линейной зависимости строк или столбцов) \n",
    "- Матрица признаков домножается на полученную матрицу $P$, таким образом осуществляется шифрование исходных данных. Восстановить данные, не зная матрицу P не получится.  \n",
    "- На зашифрованных признаках обучается модель линейной регрессии, получается ветор весов.\n",
    "- Далее для использования модели необходимо выборку с признаками по новым клинетам (новые объекты для использования модели) умножать на матрицу P и использовать модифицированную модель. \n"
   ]
  },
  {
   "cell_type": "markdown",
   "metadata": {},
   "source": [
    "## Чек-лист проверки"
   ]
  },
  {
   "cell_type": "markdown",
   "metadata": {},
   "source": [
    "Поставьте 'x' в выполненных пунктах. Далее нажмите Shift+Enter."
   ]
  },
  {
   "cell_type": "markdown",
   "metadata": {},
   "source": [
    "- [x]  Jupyter Notebook открыт\n",
    "- [x]  Весь код выполняется без ошибок\n",
    "- [x]  Ячейки с кодом расположены в порядке исполнения\n",
    "- [x]  Выполнен шаг 1: данные загружены\n",
    "- [x]  Выполнен шаг 2: получен ответ на вопрос об умножении матриц\n",
    "    - [x]  Указан правильный вариант ответа\n",
    "    - [x]  Вариант обоснован\n",
    "- [x]  Выполнен шаг 3: предложен алгоритм преобразования\n",
    "    - [x]  Алгоритм описан\n",
    "    - [x]  Алгоритм обоснован\n",
    "- [x]  Выполнен шаг 4: алгоритм проверен\n",
    "    - [x]  Алгоритм реализован\n",
    "    - [x]  Проведено сравнение качества моделей до и после преобразования"
   ]
  }
 ],
 "metadata": {
  "ExecuteTimeLog": [
   {
    "duration": 0,
    "start_time": "2022-03-22T13:23:19.149Z"
   },
   {
    "duration": 52053,
    "start_time": "2022-03-22T13:24:59.270Z"
   },
   {
    "duration": 0,
    "start_time": "2022-03-22T13:25:51.325Z"
   },
   {
    "duration": 0,
    "start_time": "2022-03-22T13:25:51.327Z"
   },
   {
    "duration": 10,
    "start_time": "2022-03-22T13:26:04.870Z"
   },
   {
    "duration": 404,
    "start_time": "2022-03-22T13:26:13.935Z"
   },
   {
    "duration": 6,
    "start_time": "2022-03-22T13:26:53.816Z"
   },
   {
    "duration": 3,
    "start_time": "2022-03-22T13:26:55.521Z"
   },
   {
    "duration": 3985,
    "start_time": "2022-03-22T13:26:56.349Z"
   },
   {
    "duration": 5,
    "start_time": "2022-03-22T13:31:33.167Z"
   },
   {
    "duration": 4036,
    "start_time": "2022-03-22T13:31:34.139Z"
   },
   {
    "duration": 2240,
    "start_time": "2022-03-23T03:40:10.288Z"
   },
   {
    "duration": 8,
    "start_time": "2022-03-23T03:40:12.531Z"
   },
   {
    "duration": 6641,
    "start_time": "2022-03-23T03:40:12.541Z"
   },
   {
    "duration": 6,
    "start_time": "2022-03-23T03:40:19.186Z"
   },
   {
    "duration": 130,
    "start_time": "2022-03-23T03:40:19.195Z"
   },
   {
    "duration": 4,
    "start_time": "2022-03-23T03:40:28.350Z"
   },
   {
    "duration": 4,
    "start_time": "2022-03-23T03:40:44.629Z"
   },
   {
    "duration": 5,
    "start_time": "2022-03-23T03:40:47.347Z"
   },
   {
    "duration": 4,
    "start_time": "2022-03-23T03:40:47.989Z"
   },
   {
    "duration": 5,
    "start_time": "2022-03-23T03:41:19.699Z"
   },
   {
    "duration": 7,
    "start_time": "2022-03-23T03:41:34.072Z"
   },
   {
    "duration": 8,
    "start_time": "2022-03-23T03:41:35.127Z"
   },
   {
    "duration": 909,
    "start_time": "2022-03-23T03:41:46.491Z"
   },
   {
    "duration": 1140,
    "start_time": "2022-03-23T03:41:50.266Z"
   },
   {
    "duration": 6,
    "start_time": "2022-03-23T03:43:35.936Z"
   },
   {
    "duration": 307,
    "start_time": "2022-03-23T03:43:39.683Z"
   },
   {
    "duration": 7,
    "start_time": "2022-03-23T03:44:23.971Z"
   },
   {
    "duration": 8,
    "start_time": "2022-03-23T03:44:48.293Z"
   },
   {
    "duration": 1129,
    "start_time": "2022-03-23T03:44:52.018Z"
   },
   {
    "duration": 808,
    "start_time": "2022-03-23T03:44:57.176Z"
   },
   {
    "duration": 5,
    "start_time": "2022-03-23T03:45:09.468Z"
   },
   {
    "duration": 819,
    "start_time": "2022-03-23T03:45:20.816Z"
   },
   {
    "duration": 833,
    "start_time": "2022-03-23T03:46:05.174Z"
   },
   {
    "duration": 602,
    "start_time": "2022-03-23T03:46:17.817Z"
   },
   {
    "duration": 906,
    "start_time": "2022-03-23T03:50:29.579Z"
   },
   {
    "duration": 162,
    "start_time": "2022-03-23T03:51:02.645Z"
   },
   {
    "duration": 5,
    "start_time": "2022-03-23T03:51:45.353Z"
   },
   {
    "duration": 7,
    "start_time": "2022-03-23T03:56:27.468Z"
   },
   {
    "duration": 14,
    "start_time": "2022-03-23T03:56:39.339Z"
   },
   {
    "duration": 5,
    "start_time": "2022-03-23T03:56:49.253Z"
   },
   {
    "duration": 6,
    "start_time": "2022-03-23T03:56:50.145Z"
   },
   {
    "duration": 7,
    "start_time": "2022-03-23T03:56:51.131Z"
   },
   {
    "duration": 515,
    "start_time": "2022-03-23T03:56:53.103Z"
   },
   {
    "duration": 816,
    "start_time": "2022-03-23T03:57:19.668Z"
   },
   {
    "duration": 5,
    "start_time": "2022-03-23T03:57:27.770Z"
   },
   {
    "duration": 8,
    "start_time": "2022-03-23T03:57:52.455Z"
   },
   {
    "duration": 7,
    "start_time": "2022-03-23T03:58:03.307Z"
   },
   {
    "duration": 840,
    "start_time": "2022-03-23T03:58:36.524Z"
   },
   {
    "duration": 8,
    "start_time": "2022-03-23T03:58:42.554Z"
   },
   {
    "duration": 8,
    "start_time": "2022-03-23T03:59:22.093Z"
   },
   {
    "duration": 7,
    "start_time": "2022-03-23T04:04:36.166Z"
   },
   {
    "duration": 7,
    "start_time": "2022-03-23T04:04:41.675Z"
   },
   {
    "duration": 136,
    "start_time": "2022-03-23T04:05:30.323Z"
   },
   {
    "duration": 10,
    "start_time": "2022-03-23T04:05:34.826Z"
   },
   {
    "duration": 9,
    "start_time": "2022-03-23T04:05:47.172Z"
   },
   {
    "duration": 8,
    "start_time": "2022-03-23T04:07:10.644Z"
   },
   {
    "duration": 11,
    "start_time": "2022-03-23T04:07:18.495Z"
   },
   {
    "duration": 6,
    "start_time": "2022-03-23T04:07:53.244Z"
   },
   {
    "duration": 6,
    "start_time": "2022-03-23T04:08:16.754Z"
   },
   {
    "duration": 17,
    "start_time": "2022-03-23T04:09:00.846Z"
   },
   {
    "duration": 12,
    "start_time": "2022-03-23T04:10:47.493Z"
   },
   {
    "duration": 6,
    "start_time": "2022-03-23T04:10:53.032Z"
   },
   {
    "duration": 6,
    "start_time": "2022-03-23T04:12:22.287Z"
   },
   {
    "duration": 6,
    "start_time": "2022-03-23T04:13:36.296Z"
   },
   {
    "duration": 9,
    "start_time": "2022-03-23T04:13:37.465Z"
   },
   {
    "duration": 622,
    "start_time": "2022-03-23T04:13:38.549Z"
   },
   {
    "duration": 899,
    "start_time": "2022-03-23T04:13:40.706Z"
   },
   {
    "duration": 10,
    "start_time": "2022-03-23T04:13:46.673Z"
   },
   {
    "duration": 3902,
    "start_time": "2022-03-23T04:13:49.413Z"
   },
   {
    "duration": 132,
    "start_time": "2022-03-23T04:53:18.974Z"
   },
   {
    "duration": 8,
    "start_time": "2022-03-23T05:22:00.890Z"
   },
   {
    "duration": 8,
    "start_time": "2022-03-23T05:22:03.928Z"
   },
   {
    "duration": 5,
    "start_time": "2022-03-23T05:22:33.120Z"
   },
   {
    "duration": 11,
    "start_time": "2022-03-23T05:22:53.575Z"
   },
   {
    "duration": 5,
    "start_time": "2022-03-23T05:23:00.382Z"
   },
   {
    "duration": 6,
    "start_time": "2022-03-23T05:23:11.918Z"
   },
   {
    "duration": 4,
    "start_time": "2022-03-23T05:23:18.232Z"
   },
   {
    "duration": 5,
    "start_time": "2022-03-23T05:23:22.713Z"
   },
   {
    "duration": 5,
    "start_time": "2022-03-23T05:23:26.726Z"
   },
   {
    "duration": 10,
    "start_time": "2022-03-23T05:25:05.059Z"
   },
   {
    "duration": 11,
    "start_time": "2022-03-23T05:25:09.511Z"
   },
   {
    "duration": 7,
    "start_time": "2022-03-23T05:30:30.888Z"
   },
   {
    "duration": 8,
    "start_time": "2022-03-23T05:34:21.670Z"
   },
   {
    "duration": 10,
    "start_time": "2022-03-23T05:34:22.619Z"
   },
   {
    "duration": 11,
    "start_time": "2022-03-23T05:35:12.207Z"
   },
   {
    "duration": 10,
    "start_time": "2022-03-23T05:35:13.225Z"
   },
   {
    "duration": 10,
    "start_time": "2022-03-23T05:36:23.564Z"
   },
   {
    "duration": 14,
    "start_time": "2022-03-23T05:36:24.205Z"
   },
   {
    "duration": 11,
    "start_time": "2022-03-23T05:37:18.526Z"
   },
   {
    "duration": 5,
    "start_time": "2022-03-23T05:37:47.311Z"
   },
   {
    "duration": 16,
    "start_time": "2022-03-23T05:37:50.246Z"
   },
   {
    "duration": 9,
    "start_time": "2022-03-23T05:37:52.416Z"
   },
   {
    "duration": 12,
    "start_time": "2022-03-23T05:38:18.505Z"
   },
   {
    "duration": 14,
    "start_time": "2022-03-23T05:38:19.213Z"
   },
   {
    "duration": 16,
    "start_time": "2022-03-23T05:38:31.282Z"
   },
   {
    "duration": 18,
    "start_time": "2022-03-23T05:38:31.937Z"
   },
   {
    "duration": 15,
    "start_time": "2022-03-23T05:39:18.412Z"
   },
   {
    "duration": 16,
    "start_time": "2022-03-23T05:39:18.895Z"
   },
   {
    "duration": 7,
    "start_time": "2022-03-23T05:39:30.334Z"
   },
   {
    "duration": 15,
    "start_time": "2022-03-23T05:39:42.253Z"
   },
   {
    "duration": 9,
    "start_time": "2022-03-23T05:39:42.660Z"
   },
   {
    "duration": 15,
    "start_time": "2022-03-23T05:39:43.087Z"
   },
   {
    "duration": 14,
    "start_time": "2022-03-23T05:39:43.478Z"
   },
   {
    "duration": 18,
    "start_time": "2022-03-23T05:43:59.792Z"
   },
   {
    "duration": 12,
    "start_time": "2022-03-23T05:53:26.610Z"
   },
   {
    "duration": 74,
    "start_time": "2022-03-23T05:54:02.716Z"
   },
   {
    "duration": 12,
    "start_time": "2022-03-23T05:54:03.266Z"
   },
   {
    "duration": 16,
    "start_time": "2022-03-23T05:54:03.767Z"
   },
   {
    "duration": 16,
    "start_time": "2022-03-23T05:54:04.277Z"
   },
   {
    "duration": 6,
    "start_time": "2022-03-23T05:54:06.298Z"
   },
   {
    "duration": 6,
    "start_time": "2022-03-23T05:54:23.504Z"
   },
   {
    "duration": 6,
    "start_time": "2022-03-23T05:55:00.162Z"
   },
   {
    "duration": 7,
    "start_time": "2022-03-23T05:56:43.200Z"
   },
   {
    "duration": 7,
    "start_time": "2022-03-23T05:57:23.864Z"
   },
   {
    "duration": 6,
    "start_time": "2022-03-23T05:58:18.811Z"
   },
   {
    "duration": 6,
    "start_time": "2022-03-23T05:58:19.405Z"
   },
   {
    "duration": 11,
    "start_time": "2022-03-23T05:59:08.856Z"
   },
   {
    "duration": 7,
    "start_time": "2022-03-23T06:06:07.327Z"
   },
   {
    "duration": 6,
    "start_time": "2022-03-23T06:06:07.906Z"
   },
   {
    "duration": 3,
    "start_time": "2022-03-23T06:06:08.950Z"
   },
   {
    "duration": 5,
    "start_time": "2022-03-23T06:06:26.862Z"
   },
   {
    "duration": 2088,
    "start_time": "2022-03-23T06:16:16.723Z"
   },
   {
    "duration": 9,
    "start_time": "2022-03-23T06:16:18.814Z"
   },
   {
    "duration": 6582,
    "start_time": "2022-03-23T06:16:18.826Z"
   },
   {
    "duration": 16,
    "start_time": "2022-03-23T06:16:25.411Z"
   },
   {
    "duration": 14,
    "start_time": "2022-03-23T06:16:25.429Z"
   },
   {
    "duration": 56,
    "start_time": "2022-03-23T06:16:25.445Z"
   },
   {
    "duration": 14,
    "start_time": "2022-03-23T06:16:25.504Z"
   },
   {
    "duration": 69,
    "start_time": "2022-03-23T06:16:25.521Z"
   },
   {
    "duration": 97,
    "start_time": "2022-03-23T06:16:25.593Z"
   },
   {
    "duration": 17,
    "start_time": "2022-03-23T06:16:25.694Z"
   },
   {
    "duration": 16,
    "start_time": "2022-03-23T06:16:25.714Z"
   },
   {
    "duration": 9,
    "start_time": "2022-03-23T06:16:25.732Z"
   },
   {
    "duration": 10,
    "start_time": "2022-03-23T06:16:25.743Z"
   },
   {
    "duration": 18,
    "start_time": "2022-03-23T06:16:25.785Z"
   },
   {
    "duration": 184,
    "start_time": "2022-03-23T06:16:25.806Z"
   },
   {
    "duration": 214,
    "start_time": "2022-03-23T06:16:25.993Z"
   },
   {
    "duration": 205,
    "start_time": "2022-03-23T06:16:26.211Z"
   },
   {
    "duration": 20,
    "start_time": "2022-03-23T06:21:03.113Z"
   },
   {
    "duration": 2071,
    "start_time": "2022-03-23T06:21:11.050Z"
   },
   {
    "duration": 6,
    "start_time": "2022-03-23T06:21:13.124Z"
   },
   {
    "duration": 6708,
    "start_time": "2022-03-23T06:21:13.133Z"
   },
   {
    "duration": 22,
    "start_time": "2022-03-23T06:21:19.844Z"
   },
   {
    "duration": 19,
    "start_time": "2022-03-23T06:21:19.869Z"
   },
   {
    "duration": 40,
    "start_time": "2022-03-23T06:21:19.890Z"
   },
   {
    "duration": 27,
    "start_time": "2022-03-23T06:21:19.932Z"
   },
   {
    "duration": 27,
    "start_time": "2022-03-23T06:21:19.962Z"
   },
   {
    "duration": 101,
    "start_time": "2022-03-23T06:21:19.992Z"
   },
   {
    "duration": 47,
    "start_time": "2022-03-23T06:21:20.095Z"
   },
   {
    "duration": 53,
    "start_time": "2022-03-23T06:21:20.146Z"
   },
   {
    "duration": 8,
    "start_time": "2022-03-23T06:21:20.202Z"
   },
   {
    "duration": 8,
    "start_time": "2022-03-23T06:21:20.212Z"
   },
   {
    "duration": 66,
    "start_time": "2022-03-23T06:21:20.224Z"
   },
   {
    "duration": 103,
    "start_time": "2022-03-23T06:21:20.295Z"
   },
   {
    "duration": 107,
    "start_time": "2022-03-23T06:21:20.487Z"
   },
   {
    "duration": 201,
    "start_time": "2022-03-23T06:21:20.598Z"
   },
   {
    "duration": 77404,
    "start_time": "2022-03-23T11:07:16.066Z"
   },
   {
    "duration": 10,
    "start_time": "2022-03-23T11:08:33.473Z"
   },
   {
    "duration": 8623,
    "start_time": "2022-03-23T11:08:33.486Z"
   },
   {
    "duration": 15,
    "start_time": "2022-03-23T11:08:42.112Z"
   },
   {
    "duration": 5,
    "start_time": "2022-03-23T11:10:15.343Z"
   },
   {
    "duration": 7,
    "start_time": "2022-03-23T11:10:15.945Z"
   },
   {
    "duration": 20,
    "start_time": "2022-03-23T11:10:18.827Z"
   },
   {
    "duration": 11,
    "start_time": "2022-03-23T11:10:57.665Z"
   },
   {
    "duration": 12,
    "start_time": "2022-03-23T11:10:58.225Z"
   },
   {
    "duration": 11,
    "start_time": "2022-03-23T11:10:58.849Z"
   },
   {
    "duration": 5,
    "start_time": "2022-03-23T11:11:01.705Z"
   },
   {
    "duration": 6,
    "start_time": "2022-03-23T11:11:18.193Z"
   },
   {
    "duration": 96,
    "start_time": "2022-03-23T11:11:19.586Z"
   },
   {
    "duration": 10,
    "start_time": "2022-03-23T11:11:20.202Z"
   },
   {
    "duration": 13,
    "start_time": "2022-03-23T11:11:21.094Z"
   },
   {
    "duration": 42964,
    "start_time": "2022-03-24T07:38:16.886Z"
   },
   {
    "duration": 2218,
    "start_time": "2022-03-24T07:39:21.030Z"
   }
  ],
  "kernelspec": {
   "display_name": "Python 3 (ipykernel)",
   "language": "python",
   "name": "python3"
  },
  "language_info": {
   "codemirror_mode": {
    "name": "ipython",
    "version": 3
   },
   "file_extension": ".py",
   "mimetype": "text/x-python",
   "name": "python",
   "nbconvert_exporter": "python",
   "pygments_lexer": "ipython3",
   "version": "3.8.8"
  },
  "toc": {
   "base_numbering": 1,
   "nav_menu": {},
   "number_sections": true,
   "sideBar": true,
   "skip_h1_title": true,
   "title_cell": "Содержание",
   "title_sidebar": "Contents",
   "toc_cell": true,
   "toc_position": {
    "height": "calc(100% - 180px)",
    "left": "10px",
    "top": "150px",
    "width": "366.391px"
   },
   "toc_section_display": true,
   "toc_window_display": true
  }
 },
 "nbformat": 4,
 "nbformat_minor": 2
}
