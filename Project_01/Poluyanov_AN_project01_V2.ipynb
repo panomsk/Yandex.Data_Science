{
 "cells": [
  {
   "cell_type": "markdown",
   "metadata": {
    "id": "E0vqbgi9ay0H"
   },
   "source": [
    "# Яндекс.Музыка"
   ]
  },
  {
   "cell_type": "markdown",
   "metadata": {
    "id": "VUC88oWjTJw2"
   },
   "source": [
    "Сравнение Москвы и Петербурга окружено мифами. Например:\n",
    " * Москва — мегаполис, подчинённый жёсткому ритму рабочей недели;\n",
    " * Петербург — культурная столица, со своими вкусами.\n",
    "\n",
    "На данных Яндекс.Музыки вы сравните поведение пользователей двух столиц.\n",
    "\n",
    "**Цель исследования** — проверьте три гипотезы:\n",
    "1. Активность пользователей зависит от дня недели. Причём в Москве и Петербурге это проявляется по-разному.\n",
    "2. В понедельник утром в Москве преобладают одни жанры, а в Петербурге — другие. Так же и вечером пятницы преобладают разные жанры — в зависимости от города. \n",
    "3. Москва и Петербург предпочитают разные жанры музыки. В Москве чаще слушают поп-музыку, в Петербурге — русский рэп.\n",
    "\n",
    "**Ход исследования**\n",
    "\n",
    "Данные о поведении пользователей вы получите из файла `yandex_music_project.csv`. О качестве данных ничего не известно. Поэтому перед проверкой гипотез понадобится обзор данных. \n",
    "\n",
    "Вы проверите данные на ошибки и оцените их влияние на исследование. Затем, на этапе предобработки вы поищете возможность исправить самые критичные ошибки данных.\n",
    " \n",
    "Таким образом, исследование пройдёт в три этапа:\n",
    " 1. Обзор данных.\n",
    " 2. Предобработка данных.\n",
    " 3. Проверка гипотез.\n",
    "\n"
   ]
  },
  {
   "cell_type": "markdown",
   "metadata": {
    "id": "Ml1hmfXC_Zcs"
   },
   "source": [
    "## Обзор данных\n",
    "\n",
    "Составьте первое представление о данных Яндекс.Музыки.\n",
    "\n",
    "\n"
   ]
  },
  {
   "cell_type": "markdown",
   "metadata": {
    "id": "57eAOGIz_Zcs"
   },
   "source": [
    "Основной инструмент аналитика — `pandas`. Импортируйте эту библиотеку."
   ]
  },
  {
   "cell_type": "code",
   "execution_count": 1,
   "metadata": {
    "id": "AXN7PHPN_Zcs"
   },
   "outputs": [],
   "source": [
    "# импорт библиотеки pandas\n",
    "import pandas as pd"
   ]
  },
  {
   "cell_type": "markdown",
   "metadata": {
    "id": "SG23P8tt_Zcs"
   },
   "source": [
    "Прочитайте файл `yandex_music_project.csv` из папки `/datasets` и сохраните его в переменной `df`:"
   ]
  },
  {
   "cell_type": "code",
   "execution_count": 2,
   "metadata": {
    "id": "fFVu7vqh_Zct"
   },
   "outputs": [],
   "source": [
    "# чтение файла с данными и сохранение в df\n",
    "df = pd.read_csv('yandex_music_project.csv') "
   ]
  },
  {
   "cell_type": "markdown",
   "metadata": {
    "id": "rDoOMd3uTqnZ"
   },
   "source": [
    "Выведите на экран первые десять строк таблицы:"
   ]
  },
  {
   "cell_type": "code",
   "execution_count": 3,
   "metadata": {
    "id": "oWTVX3gW_Zct"
   },
   "outputs": [
    {
     "data": {
      "text/html": [
       "<div>\n",
       "<style scoped>\n",
       "    .dataframe tbody tr th:only-of-type {\n",
       "        vertical-align: middle;\n",
       "    }\n",
       "\n",
       "    .dataframe tbody tr th {\n",
       "        vertical-align: top;\n",
       "    }\n",
       "\n",
       "    .dataframe thead th {\n",
       "        text-align: right;\n",
       "    }\n",
       "</style>\n",
       "<table border=\"1\" class=\"dataframe\">\n",
       "  <thead>\n",
       "    <tr style=\"text-align: right;\">\n",
       "      <th></th>\n",
       "      <th>userID</th>\n",
       "      <th>Track</th>\n",
       "      <th>artist</th>\n",
       "      <th>genre</th>\n",
       "      <th>City</th>\n",
       "      <th>time</th>\n",
       "      <th>Day</th>\n",
       "    </tr>\n",
       "  </thead>\n",
       "  <tbody>\n",
       "    <tr>\n",
       "      <th>0</th>\n",
       "      <td>FFB692EC</td>\n",
       "      <td>Kamigata To Boots</td>\n",
       "      <td>The Mass Missile</td>\n",
       "      <td>rock</td>\n",
       "      <td>Saint-Petersburg</td>\n",
       "      <td>20:28:33</td>\n",
       "      <td>Wednesday</td>\n",
       "    </tr>\n",
       "    <tr>\n",
       "      <th>1</th>\n",
       "      <td>55204538</td>\n",
       "      <td>Delayed Because of Accident</td>\n",
       "      <td>Andreas Rönnberg</td>\n",
       "      <td>rock</td>\n",
       "      <td>Moscow</td>\n",
       "      <td>14:07:09</td>\n",
       "      <td>Friday</td>\n",
       "    </tr>\n",
       "    <tr>\n",
       "      <th>2</th>\n",
       "      <td>20EC38</td>\n",
       "      <td>Funiculì funiculà</td>\n",
       "      <td>Mario Lanza</td>\n",
       "      <td>pop</td>\n",
       "      <td>Saint-Petersburg</td>\n",
       "      <td>20:58:07</td>\n",
       "      <td>Wednesday</td>\n",
       "    </tr>\n",
       "    <tr>\n",
       "      <th>3</th>\n",
       "      <td>A3DD03C9</td>\n",
       "      <td>Dragons in the Sunset</td>\n",
       "      <td>Fire + Ice</td>\n",
       "      <td>folk</td>\n",
       "      <td>Saint-Petersburg</td>\n",
       "      <td>08:37:09</td>\n",
       "      <td>Monday</td>\n",
       "    </tr>\n",
       "    <tr>\n",
       "      <th>4</th>\n",
       "      <td>E2DC1FAE</td>\n",
       "      <td>Soul People</td>\n",
       "      <td>Space Echo</td>\n",
       "      <td>dance</td>\n",
       "      <td>Moscow</td>\n",
       "      <td>08:34:34</td>\n",
       "      <td>Monday</td>\n",
       "    </tr>\n",
       "    <tr>\n",
       "      <th>5</th>\n",
       "      <td>842029A1</td>\n",
       "      <td>Преданная</td>\n",
       "      <td>IMPERVTOR</td>\n",
       "      <td>rusrap</td>\n",
       "      <td>Saint-Petersburg</td>\n",
       "      <td>13:09:41</td>\n",
       "      <td>Friday</td>\n",
       "    </tr>\n",
       "    <tr>\n",
       "      <th>6</th>\n",
       "      <td>4CB90AA5</td>\n",
       "      <td>True</td>\n",
       "      <td>Roman Messer</td>\n",
       "      <td>dance</td>\n",
       "      <td>Moscow</td>\n",
       "      <td>13:00:07</td>\n",
       "      <td>Wednesday</td>\n",
       "    </tr>\n",
       "    <tr>\n",
       "      <th>7</th>\n",
       "      <td>F03E1C1F</td>\n",
       "      <td>Feeling This Way</td>\n",
       "      <td>Polina Griffith</td>\n",
       "      <td>dance</td>\n",
       "      <td>Moscow</td>\n",
       "      <td>20:47:49</td>\n",
       "      <td>Wednesday</td>\n",
       "    </tr>\n",
       "    <tr>\n",
       "      <th>8</th>\n",
       "      <td>8FA1D3BE</td>\n",
       "      <td>И вновь продолжается бой</td>\n",
       "      <td>NaN</td>\n",
       "      <td>ruspop</td>\n",
       "      <td>Moscow</td>\n",
       "      <td>09:17:40</td>\n",
       "      <td>Friday</td>\n",
       "    </tr>\n",
       "    <tr>\n",
       "      <th>9</th>\n",
       "      <td>E772D5C0</td>\n",
       "      <td>Pessimist</td>\n",
       "      <td>NaN</td>\n",
       "      <td>dance</td>\n",
       "      <td>Saint-Petersburg</td>\n",
       "      <td>21:20:49</td>\n",
       "      <td>Wednesday</td>\n",
       "    </tr>\n",
       "  </tbody>\n",
       "</table>\n",
       "</div>"
      ],
      "text/plain": [
       "     userID                        Track            artist   genre  \\\n",
       "0  FFB692EC            Kamigata To Boots  The Mass Missile    rock   \n",
       "1  55204538  Delayed Because of Accident  Andreas Rönnberg    rock   \n",
       "2    20EC38            Funiculì funiculà       Mario Lanza     pop   \n",
       "3  A3DD03C9        Dragons in the Sunset        Fire + Ice    folk   \n",
       "4  E2DC1FAE                  Soul People        Space Echo   dance   \n",
       "5  842029A1                    Преданная         IMPERVTOR  rusrap   \n",
       "6  4CB90AA5                         True      Roman Messer   dance   \n",
       "7  F03E1C1F             Feeling This Way   Polina Griffith   dance   \n",
       "8  8FA1D3BE     И вновь продолжается бой               NaN  ruspop   \n",
       "9  E772D5C0                    Pessimist               NaN   dance   \n",
       "\n",
       "             City        time        Day  \n",
       "0  Saint-Petersburg  20:28:33  Wednesday  \n",
       "1            Moscow  14:07:09     Friday  \n",
       "2  Saint-Petersburg  20:58:07  Wednesday  \n",
       "3  Saint-Petersburg  08:37:09     Monday  \n",
       "4            Moscow  08:34:34     Monday  \n",
       "5  Saint-Petersburg  13:09:41     Friday  \n",
       "6            Moscow  13:00:07  Wednesday  \n",
       "7            Moscow  20:47:49  Wednesday  \n",
       "8            Moscow  09:17:40     Friday  \n",
       "9  Saint-Petersburg  21:20:49  Wednesday  "
      ]
     },
     "execution_count": 3,
     "metadata": {},
     "output_type": "execute_result"
    }
   ],
   "source": [
    "# получение первых 10 строк таблицы df\n",
    "df.head(10)"
   ]
  },
  {
   "cell_type": "markdown",
   "metadata": {
    "id": "EO73Kwic_Zct"
   },
   "source": [
    "Одной командой получить общую информацию о таблице:"
   ]
  },
  {
   "cell_type": "code",
   "execution_count": 4,
   "metadata": {
    "id": "DSf2kIb-_Zct"
   },
   "outputs": [
    {
     "name": "stdout",
     "output_type": "stream",
     "text": [
      "<class 'pandas.core.frame.DataFrame'>\n",
      "RangeIndex: 65079 entries, 0 to 65078\n",
      "Data columns (total 7 columns):\n",
      " #   Column    Non-Null Count  Dtype \n",
      "---  ------    --------------  ----- \n",
      " 0     userID  65079 non-null  object\n",
      " 1   Track     63848 non-null  object\n",
      " 2   artist    57876 non-null  object\n",
      " 3   genre     63881 non-null  object\n",
      " 4     City    65079 non-null  object\n",
      " 5   time      65079 non-null  object\n",
      " 6   Day       65079 non-null  object\n",
      "dtypes: object(7)\n",
      "memory usage: 3.5+ MB\n"
     ]
    }
   ],
   "source": [
    "# получение общей информации о данных в таблице df\n",
    "df.info()"
   ]
  },
  {
   "cell_type": "markdown",
   "metadata": {
    "id": "TaQ2Iwbr_Zct"
   },
   "source": [
    "Итак, в таблице семь столбцов. Тип данных во всех столбцах — `object`.\n",
    "\n",
    "Согласно документации к данным:\n",
    "* `userID` — идентификатор пользователя;\n",
    "* `Track` — название трека;  \n",
    "* `artist` — имя исполнителя;\n",
    "* `genre` — название жанра;\n",
    "* `City` — город пользователя;\n",
    "* `time` — время начала прослушивания;\n",
    "* `Day` — день недели.\n",
    "\n",
    "В названиях колонок видны три нарушения стиля:\n",
    "1. Строчные буквы сочетаются с прописными.\n",
    "2. Встречаются пробелы.\n",
    "3. Найдите ещё одну проблему в названии колонок и опишите её в этом пункте.\n",
    "\n",
    "\n",
    "\n",
    "Количество значений в столбцах различается. Значит, в данных есть пропущенные значения.\n"
   ]
  },
  {
   "cell_type": "markdown",
   "metadata": {
    "id": "MCB6-dXG_Zct"
   },
   "source": [
    "**Выводы**\n",
    "\n",
    "В каждой строке таблицы — данные о прослушанном треке. Часть колонок описывает саму композицию: название, исполнителя и жанр. Остальные данные рассказывают о пользователе: из какого он города, когда он слушал музыку. \n",
    "\n",
    "Предварительно можно утверждать, что, данных достаточно для проверки гипотез. Но встречаются пропуски в данных, а в названиях колонок — расхождения с хорошим стилем.\n",
    "\n",
    "Чтобы двигаться дальше, нужно устранить проблемы в данных."
   ]
  },
  {
   "cell_type": "markdown",
   "metadata": {
    "id": "SjYF6Ub9_Zct"
   },
   "source": [
    "## Предобработка данных\n",
    "Исправьте стиль в заголовках столбцов, исключите пропуски. Затем проверьте данные на дубликаты."
   ]
  },
  {
   "cell_type": "markdown",
   "metadata": {
    "id": "dIaKXr29_Zct"
   },
   "source": [
    "### Стиль заголовков\n",
    "Выведите на экран названия столбцов:"
   ]
  },
  {
   "cell_type": "code",
   "execution_count": 5,
   "metadata": {
    "id": "oKOTdF_Q_Zct"
   },
   "outputs": [
    {
     "data": {
      "text/plain": [
       "Index(['  userID', 'Track', 'artist', 'genre', '  City  ', 'time', 'Day'], dtype='object')"
      ]
     },
     "execution_count": 5,
     "metadata": {},
     "output_type": "execute_result"
    }
   ],
   "source": [
    "# перечень названий столбцов таблицы df\n",
    "df.columns"
   ]
  },
  {
   "cell_type": "markdown",
   "metadata": {
    "id": "zj5534cv_Zct"
   },
   "source": [
    "Приведите названия в соответствие с хорошим стилем:\n",
    "* несколько слов в названии запишите в «змеином_регистре»,\n",
    "* все символы сделайте строчными,\n",
    "* устраните пробелы.\n",
    "\n",
    "Для этого переименуйте колонки так:\n",
    "* `'  userID'` → `'user_id'`;\n",
    "* `'Track'` → `'track'`;\n",
    "* `'  City  '` → `'city'`;\n",
    "* `'Day'` → `'day'`."
   ]
  },
  {
   "cell_type": "code",
   "execution_count": 6,
   "metadata": {
    "id": "ISlFqs5y_Zct"
   },
   "outputs": [],
   "source": [
    "# переименование столбцов\n",
    "df = df.rename(columns={'  userID':'user_id', 'Track':'track', '  City  ':'city', 'Day':'day'})"
   ]
  },
  {
   "cell_type": "markdown",
   "metadata": {
    "id": "1dqbh00J_Zct"
   },
   "source": [
    "Проверьте результат. Для этого ещё раз выведите на экран названия столбцов:"
   ]
  },
  {
   "cell_type": "code",
   "execution_count": 7,
   "metadata": {
    "id": "d4NOAmTW_Zct"
   },
   "outputs": [
    {
     "data": {
      "text/html": [
       "<div>\n",
       "<style scoped>\n",
       "    .dataframe tbody tr th:only-of-type {\n",
       "        vertical-align: middle;\n",
       "    }\n",
       "\n",
       "    .dataframe tbody tr th {\n",
       "        vertical-align: top;\n",
       "    }\n",
       "\n",
       "    .dataframe thead th {\n",
       "        text-align: right;\n",
       "    }\n",
       "</style>\n",
       "<table border=\"1\" class=\"dataframe\">\n",
       "  <thead>\n",
       "    <tr style=\"text-align: right;\">\n",
       "      <th></th>\n",
       "      <th>user_id</th>\n",
       "      <th>track</th>\n",
       "      <th>artist</th>\n",
       "      <th>genre</th>\n",
       "      <th>city</th>\n",
       "      <th>time</th>\n",
       "      <th>day</th>\n",
       "    </tr>\n",
       "  </thead>\n",
       "  <tbody>\n",
       "    <tr>\n",
       "      <th>0</th>\n",
       "      <td>FFB692EC</td>\n",
       "      <td>Kamigata To Boots</td>\n",
       "      <td>The Mass Missile</td>\n",
       "      <td>rock</td>\n",
       "      <td>Saint-Petersburg</td>\n",
       "      <td>20:28:33</td>\n",
       "      <td>Wednesday</td>\n",
       "    </tr>\n",
       "    <tr>\n",
       "      <th>1</th>\n",
       "      <td>55204538</td>\n",
       "      <td>Delayed Because of Accident</td>\n",
       "      <td>Andreas Rönnberg</td>\n",
       "      <td>rock</td>\n",
       "      <td>Moscow</td>\n",
       "      <td>14:07:09</td>\n",
       "      <td>Friday</td>\n",
       "    </tr>\n",
       "    <tr>\n",
       "      <th>2</th>\n",
       "      <td>20EC38</td>\n",
       "      <td>Funiculì funiculà</td>\n",
       "      <td>Mario Lanza</td>\n",
       "      <td>pop</td>\n",
       "      <td>Saint-Petersburg</td>\n",
       "      <td>20:58:07</td>\n",
       "      <td>Wednesday</td>\n",
       "    </tr>\n",
       "    <tr>\n",
       "      <th>3</th>\n",
       "      <td>A3DD03C9</td>\n",
       "      <td>Dragons in the Sunset</td>\n",
       "      <td>Fire + Ice</td>\n",
       "      <td>folk</td>\n",
       "      <td>Saint-Petersburg</td>\n",
       "      <td>08:37:09</td>\n",
       "      <td>Monday</td>\n",
       "    </tr>\n",
       "    <tr>\n",
       "      <th>4</th>\n",
       "      <td>E2DC1FAE</td>\n",
       "      <td>Soul People</td>\n",
       "      <td>Space Echo</td>\n",
       "      <td>dance</td>\n",
       "      <td>Moscow</td>\n",
       "      <td>08:34:34</td>\n",
       "      <td>Monday</td>\n",
       "    </tr>\n",
       "  </tbody>\n",
       "</table>\n",
       "</div>"
      ],
      "text/plain": [
       "    user_id                        track            artist  genre  \\\n",
       "0  FFB692EC            Kamigata To Boots  The Mass Missile   rock   \n",
       "1  55204538  Delayed Because of Accident  Andreas Rönnberg   rock   \n",
       "2    20EC38            Funiculì funiculà       Mario Lanza    pop   \n",
       "3  A3DD03C9        Dragons in the Sunset        Fire + Ice   folk   \n",
       "4  E2DC1FAE                  Soul People        Space Echo  dance   \n",
       "\n",
       "               city      time        day  \n",
       "0  Saint-Petersburg  20:28:33  Wednesday  \n",
       "1            Moscow  14:07:09     Friday  \n",
       "2  Saint-Petersburg  20:58:07  Wednesday  \n",
       "3  Saint-Petersburg  08:37:09     Monday  \n",
       "4            Moscow  08:34:34     Monday  "
      ]
     },
     "execution_count": 7,
     "metadata": {},
     "output_type": "execute_result"
    }
   ],
   "source": [
    "# проверка результатов - перечень названий столбцов\n",
    "df.head()"
   ]
  },
  {
   "cell_type": "markdown",
   "metadata": {
    "id": "5ISfbcfY_Zct"
   },
   "source": [
    "### Пропуски значений\n",
    "Сначала посчитайте, сколько в таблице пропущенных значений. Для этого достаточно двух методов `pandas`:"
   ]
  },
  {
   "cell_type": "code",
   "execution_count": 8,
   "metadata": {
    "id": "RskX29qr_Zct"
   },
   "outputs": [
    {
     "data": {
      "text/plain": [
       "user_id       0\n",
       "track      1231\n",
       "artist     7203\n",
       "genre      1198\n",
       "city          0\n",
       "time          0\n",
       "day           0\n",
       "dtype: int64"
      ]
     },
     "execution_count": 8,
     "metadata": {},
     "output_type": "execute_result"
    }
   ],
   "source": [
    "# подсчёт пропусков\n",
    "df.isna().sum()"
   ]
  },
  {
   "cell_type": "markdown",
   "metadata": {
    "id": "qubhgnlO_Zct"
   },
   "source": [
    "Не все пропущенные значения влияют на исследование. Так в `track` и `artist` пропуски не важны для вашей работы. Достаточно заменить их явными обозначениями.\n",
    "\n",
    "Но пропуски в `genre` могут помешать сравнению музыкальных вкусов в Москве и Санкт-Петербурге. На практике было бы правильно установить причину пропусков и восстановить данные. Такой возможности нет в учебном проекте. Придётся:\n",
    "* заполнить и эти пропуски явными обозначениями,\n",
    "* оценить, насколько они повредят расчётам. "
   ]
  },
  {
   "cell_type": "markdown",
   "metadata": {
    "id": "fSv2laPA_Zct"
   },
   "source": [
    "Замените пропущенные значения в столбцах `track`, `artist` и `genre` на строку `'unknown'`. Для этого создайте список `columns_to_replace`, переберите его элементы циклом `for` и для каждого столбца выполните замену пропущенных значений:"
   ]
  },
  {
   "cell_type": "code",
   "execution_count": 9,
   "metadata": {
    "id": "KplB5qWs_Zct"
   },
   "outputs": [],
   "source": [
    "# перебор названий столбцов в цикле и замена пропущенных значений на 'unknown'\n",
    "columns_to_replace = ['track','artist','genre']\n",
    "for col in columns_to_replace:\n",
    "    df[col] = df[col].fillna('unknown')"
   ]
  },
  {
   "cell_type": "markdown",
   "metadata": {
    "id": "Ilsm-MZo_Zct"
   },
   "source": [
    "Убедитесь, что в таблице не осталось пропусков. Для этого ещё раз посчитайте пропущенные значения."
   ]
  },
  {
   "cell_type": "code",
   "execution_count": 10,
   "metadata": {
    "id": "Tq4nYRX4_Zct"
   },
   "outputs": [
    {
     "data": {
      "text/plain": [
       "user_id    0\n",
       "track      0\n",
       "artist     0\n",
       "genre      0\n",
       "city       0\n",
       "time       0\n",
       "day        0\n",
       "dtype: int64"
      ]
     },
     "execution_count": 10,
     "metadata": {},
     "output_type": "execute_result"
    }
   ],
   "source": [
    "# подсчёт пропусков\n",
    "df.isna().sum()"
   ]
  },
  {
   "cell_type": "markdown",
   "metadata": {
    "id": "BWKRtBJ3_Zct"
   },
   "source": [
    "### Дубликаты\n",
    "Посчитайте явные дубликаты в таблице одной командой:"
   ]
  },
  {
   "cell_type": "code",
   "execution_count": 11,
   "metadata": {
    "id": "36eES_S0_Zct"
   },
   "outputs": [
    {
     "data": {
      "text/plain": [
       "3826"
      ]
     },
     "execution_count": 11,
     "metadata": {},
     "output_type": "execute_result"
    }
   ],
   "source": [
    "# подсчёт явных дубликатов\n",
    "df.duplicated().sum()"
   ]
  },
  {
   "cell_type": "markdown",
   "metadata": {
    "id": "Ot25h6XR_Zct"
   },
   "source": [
    "Вызовите специальный метод `pandas`, чтобы удалить явные дубликаты:"
   ]
  },
  {
   "cell_type": "code",
   "execution_count": 12,
   "metadata": {
    "id": "exFHq6tt_Zct"
   },
   "outputs": [],
   "source": [
    "# удаление явных дубликатов (с удалением старых индексов и формированием новых)\n",
    "df = df.drop_duplicates().reset_index(drop = True)\n",
    "#df.tail()"
   ]
  },
  {
   "cell_type": "markdown",
   "metadata": {
    "id": "Im2YwBEG_Zct"
   },
   "source": [
    "Ещё раз посчитайте явные дубликаты в таблице — убедитесь, что полностью от них избавились:"
   ]
  },
  {
   "cell_type": "code",
   "execution_count": 13,
   "metadata": {
    "id": "-8PuNWQ0_Zct"
   },
   "outputs": [
    {
     "data": {
      "text/plain": [
       "0"
      ]
     },
     "execution_count": 13,
     "metadata": {},
     "output_type": "execute_result"
    }
   ],
   "source": [
    "# проверка на отсутствие дубликатов\n",
    "df.duplicated().sum()"
   ]
  },
  {
   "cell_type": "markdown",
   "metadata": {
    "id": "QlFBsxAr_Zct"
   },
   "source": [
    "Теперь избавьтесь от неявных дубликатов в колонке `genre`. Например, название одного и того же жанра может быть записано немного по-разному. Такие ошибки тоже повлияют на результат исследования."
   ]
  },
  {
   "cell_type": "markdown",
   "metadata": {
    "id": "eSjWwsOh_Zct"
   },
   "source": [
    "Выведите на экран список уникальных названий жанров, отсортированный в алфавитном порядке. Для этого:\n",
    "* извлеките нужный столбец датафрейма, \n",
    "* примените к нему метод сортировки,\n",
    "* для отсортированного столбца вызовите метод, который вернёт уникальные значения из столбца."
   ]
  },
  {
   "cell_type": "code",
   "execution_count": 14,
   "metadata": {
    "id": "JIUcqzZN_Zct"
   },
   "outputs": [
    {
     "data": {
      "text/plain": [
       "['acid',\n",
       " 'acoustic',\n",
       " 'action',\n",
       " 'adult',\n",
       " 'africa',\n",
       " 'afrikaans',\n",
       " 'alternative',\n",
       " 'alternativepunk',\n",
       " 'ambient',\n",
       " 'americana',\n",
       " 'animated',\n",
       " 'anime',\n",
       " 'arabesk',\n",
       " 'arabic',\n",
       " 'arena',\n",
       " 'argentinetango',\n",
       " 'art',\n",
       " 'audiobook',\n",
       " 'author',\n",
       " 'avantgarde',\n",
       " 'axé',\n",
       " 'baile',\n",
       " 'balkan',\n",
       " 'beats',\n",
       " 'bigroom',\n",
       " 'black',\n",
       " 'bluegrass',\n",
       " 'blues',\n",
       " 'bollywood',\n",
       " 'bossa',\n",
       " 'brazilian',\n",
       " 'breakbeat',\n",
       " 'breaks',\n",
       " 'broadway',\n",
       " 'cantautori',\n",
       " 'cantopop',\n",
       " 'canzone',\n",
       " 'caribbean',\n",
       " 'caucasian',\n",
       " 'celtic',\n",
       " 'chamber',\n",
       " 'chanson',\n",
       " 'children',\n",
       " 'chill',\n",
       " 'chinese',\n",
       " 'choral',\n",
       " 'christian',\n",
       " 'christmas',\n",
       " 'classical',\n",
       " 'classicmetal',\n",
       " 'club',\n",
       " 'colombian',\n",
       " 'comedy',\n",
       " 'conjazz',\n",
       " 'contemporary',\n",
       " 'country',\n",
       " 'cuban',\n",
       " 'dance',\n",
       " 'dancehall',\n",
       " 'dancepop',\n",
       " 'dark',\n",
       " 'death',\n",
       " 'deep',\n",
       " 'deutschrock',\n",
       " 'deutschspr',\n",
       " 'dirty',\n",
       " 'disco',\n",
       " 'dnb',\n",
       " 'documentary',\n",
       " 'downbeat',\n",
       " 'downtempo',\n",
       " 'drum',\n",
       " 'dub',\n",
       " 'dubstep',\n",
       " 'eastern',\n",
       " 'easy',\n",
       " 'electronic',\n",
       " 'electropop',\n",
       " 'emo',\n",
       " 'entehno',\n",
       " 'epicmetal',\n",
       " 'estrada',\n",
       " 'ethnic',\n",
       " 'eurofolk',\n",
       " 'european',\n",
       " 'experimental',\n",
       " 'extrememetal',\n",
       " 'fado',\n",
       " 'fairytail',\n",
       " 'film',\n",
       " 'fitness',\n",
       " 'flamenco',\n",
       " 'folk',\n",
       " 'folklore',\n",
       " 'folkmetal',\n",
       " 'folkrock',\n",
       " 'folktronica',\n",
       " 'forró',\n",
       " 'frankreich',\n",
       " 'französisch',\n",
       " 'french',\n",
       " 'funk',\n",
       " 'future',\n",
       " 'gangsta',\n",
       " 'garage',\n",
       " 'german',\n",
       " 'ghazal',\n",
       " 'gitarre',\n",
       " 'glitch',\n",
       " 'gospel',\n",
       " 'gothic',\n",
       " 'grime',\n",
       " 'grunge',\n",
       " 'gypsy',\n",
       " 'handsup',\n",
       " \"hard'n'heavy\",\n",
       " 'hardcore',\n",
       " 'hardstyle',\n",
       " 'hardtechno',\n",
       " 'hip',\n",
       " 'hip-hop',\n",
       " 'hiphop',\n",
       " 'historisch',\n",
       " 'holiday',\n",
       " 'hop',\n",
       " 'horror',\n",
       " 'house',\n",
       " 'hymn',\n",
       " 'idm',\n",
       " 'independent',\n",
       " 'indian',\n",
       " 'indie',\n",
       " 'indipop',\n",
       " 'industrial',\n",
       " 'inspirational',\n",
       " 'instrumental',\n",
       " 'international',\n",
       " 'irish',\n",
       " 'jam',\n",
       " 'japanese',\n",
       " 'jazz',\n",
       " 'jewish',\n",
       " 'jpop',\n",
       " 'jungle',\n",
       " 'k-pop',\n",
       " 'karadeniz',\n",
       " 'karaoke',\n",
       " 'kayokyoku',\n",
       " 'korean',\n",
       " 'laiko',\n",
       " 'latin',\n",
       " 'latino',\n",
       " 'leftfield',\n",
       " 'local',\n",
       " 'lounge',\n",
       " 'loungeelectronic',\n",
       " 'lovers',\n",
       " 'malaysian',\n",
       " 'mandopop',\n",
       " 'marschmusik',\n",
       " 'meditative',\n",
       " 'mediterranean',\n",
       " 'melodic',\n",
       " 'metal',\n",
       " 'metalcore',\n",
       " 'mexican',\n",
       " 'middle',\n",
       " 'minimal',\n",
       " 'miscellaneous',\n",
       " 'modern',\n",
       " 'mood',\n",
       " 'mpb',\n",
       " 'muslim',\n",
       " 'native',\n",
       " 'neoklassik',\n",
       " 'neue',\n",
       " 'new',\n",
       " 'newage',\n",
       " 'newwave',\n",
       " 'nu',\n",
       " 'nujazz',\n",
       " 'numetal',\n",
       " 'oceania',\n",
       " 'old',\n",
       " 'opera',\n",
       " 'orchestral',\n",
       " 'other',\n",
       " 'piano',\n",
       " 'podcasts',\n",
       " 'pop',\n",
       " 'popdance',\n",
       " 'popelectronic',\n",
       " 'popeurodance',\n",
       " 'poprussian',\n",
       " 'post',\n",
       " 'posthardcore',\n",
       " 'postrock',\n",
       " 'power',\n",
       " 'progmetal',\n",
       " 'progressive',\n",
       " 'psychedelic',\n",
       " 'punjabi',\n",
       " 'punk',\n",
       " 'quebecois',\n",
       " 'ragga',\n",
       " 'ram',\n",
       " 'rancheras',\n",
       " 'rap',\n",
       " 'rave',\n",
       " 'reggae',\n",
       " 'reggaeton',\n",
       " 'regional',\n",
       " 'relax',\n",
       " 'religious',\n",
       " 'retro',\n",
       " 'rhythm',\n",
       " 'rnb',\n",
       " 'rnr',\n",
       " 'rock',\n",
       " 'rockabilly',\n",
       " 'rockalternative',\n",
       " 'rockindie',\n",
       " 'rockother',\n",
       " 'romance',\n",
       " 'roots',\n",
       " 'ruspop',\n",
       " 'rusrap',\n",
       " 'rusrock',\n",
       " 'russian',\n",
       " 'salsa',\n",
       " 'samba',\n",
       " 'scenic',\n",
       " 'schlager',\n",
       " 'self',\n",
       " 'sertanejo',\n",
       " 'shanson',\n",
       " 'shoegazing',\n",
       " 'showtunes',\n",
       " 'singer',\n",
       " 'ska',\n",
       " 'skarock',\n",
       " 'slow',\n",
       " 'smooth',\n",
       " 'soft',\n",
       " 'soul',\n",
       " 'soulful',\n",
       " 'sound',\n",
       " 'soundtrack',\n",
       " 'southern',\n",
       " 'specialty',\n",
       " 'speech',\n",
       " 'spiritual',\n",
       " 'sport',\n",
       " 'stonerrock',\n",
       " 'surf',\n",
       " 'swing',\n",
       " 'synthpop',\n",
       " 'synthrock',\n",
       " 'sängerportrait',\n",
       " 'tango',\n",
       " 'tanzorchester',\n",
       " 'taraftar',\n",
       " 'tatar',\n",
       " 'tech',\n",
       " 'techno',\n",
       " 'teen',\n",
       " 'thrash',\n",
       " 'top',\n",
       " 'traditional',\n",
       " 'tradjazz',\n",
       " 'trance',\n",
       " 'tribal',\n",
       " 'trip',\n",
       " 'triphop',\n",
       " 'tropical',\n",
       " 'türk',\n",
       " 'türkçe',\n",
       " 'ukrrock',\n",
       " 'unknown',\n",
       " 'urban',\n",
       " 'uzbek',\n",
       " 'variété',\n",
       " 'vi',\n",
       " 'videogame',\n",
       " 'vocal',\n",
       " 'western',\n",
       " 'world',\n",
       " 'worldbeat',\n",
       " 'ïîï',\n",
       " 'электроника']"
      ]
     },
     "execution_count": 14,
     "metadata": {},
     "output_type": "execute_result"
    }
   ],
   "source": [
    "# Просмотр уникальных названий жанров\n",
    "sorted(df['genre'].unique())"
   ]
  },
  {
   "cell_type": "markdown",
   "metadata": {
    "id": "qej-Qmuo_Zct"
   },
   "source": [
    "Просмотрите список и найдите неявные дубликаты названия `hiphop`. Это могут быть названия с ошибками или альтернативные названия того же жанра.\n",
    "\n",
    "Вы увидите следующие неявные дубликаты:\n",
    "* *hip*,\n",
    "* *hop*,\n",
    "* *hip-hop*.\n",
    "\n",
    "Чтобы очистить от них таблицу, напишите функцию `replace_wrong_genres()` с двумя параметрами: \n",
    "* `wrong_genres` — список дубликатов,\n",
    "* `correct_genre` — строка с правильным значением.\n",
    "\n",
    "Функция должна исправить колонку `genre` в таблице `df`: заменить каждое значение из списка `wrong_genres` на значение из `correct_genre`."
   ]
  },
  {
   "cell_type": "code",
   "execution_count": 15,
   "metadata": {
    "id": "ErNDkmns_Zct"
   },
   "outputs": [],
   "source": [
    "# Функция для замены неявных дубликатов\n",
    "def replace_wrong_values(data, wrong_values, correct_value): # на вход функции подаются список неправильных значений и строка с правильным значением\n",
    "    for wrong_value in wrong_values: \n",
    "        data['genre'] = data['genre'].replace(wrong_value, correct_value)"
   ]
  },
  {
   "cell_type": "markdown",
   "metadata": {
    "id": "aDoBJxbA_Zct"
   },
   "source": [
    "Вызовите `replace_wrong_genres()` и передайте ей такие аргументы, чтобы она устранила неявные дубликаты: вместо `hip`, `hop` и `hip-hop` в таблице должно быть значение `hiphop`:"
   ]
  },
  {
   "cell_type": "code",
   "execution_count": 16,
   "metadata": {
    "id": "YN5i2hpmSo09"
   },
   "outputs": [],
   "source": [
    "# Устранение неявных дубликатов\n",
    "replace_wrong_values(df, ['hip', 'hop', 'hip-hop'], 'hiphop')\n",
    "replace_wrong_values(df, ['электроника'], 'electronic')\n",
    "replace_wrong_values(df, ['ïîï'], 'pop')"
   ]
  },
  {
   "cell_type": "markdown",
   "metadata": {
    "id": "zQKF16_RG15m"
   },
   "source": [
    "Проверьте, что заменили неправильные названия:\n",
    "\n",
    "*   hip\n",
    "*   hop\n",
    "*   hip-hop\n",
    "\n",
    "Выведите отсортированный список уникальных значений столбца `genre`:"
   ]
  },
  {
   "cell_type": "code",
   "execution_count": 17,
   "metadata": {
    "id": "wvixALnFG15m"
   },
   "outputs": [
    {
     "data": {
      "text/plain": [
       "['acid',\n",
       " 'acoustic',\n",
       " 'action',\n",
       " 'adult',\n",
       " 'africa',\n",
       " 'afrikaans',\n",
       " 'alternative',\n",
       " 'alternativepunk',\n",
       " 'ambient',\n",
       " 'americana',\n",
       " 'animated',\n",
       " 'anime',\n",
       " 'arabesk',\n",
       " 'arabic',\n",
       " 'arena',\n",
       " 'argentinetango',\n",
       " 'art',\n",
       " 'audiobook',\n",
       " 'author',\n",
       " 'avantgarde',\n",
       " 'axé',\n",
       " 'baile',\n",
       " 'balkan',\n",
       " 'beats',\n",
       " 'bigroom',\n",
       " 'black',\n",
       " 'bluegrass',\n",
       " 'blues',\n",
       " 'bollywood',\n",
       " 'bossa',\n",
       " 'brazilian',\n",
       " 'breakbeat',\n",
       " 'breaks',\n",
       " 'broadway',\n",
       " 'cantautori',\n",
       " 'cantopop',\n",
       " 'canzone',\n",
       " 'caribbean',\n",
       " 'caucasian',\n",
       " 'celtic',\n",
       " 'chamber',\n",
       " 'chanson',\n",
       " 'children',\n",
       " 'chill',\n",
       " 'chinese',\n",
       " 'choral',\n",
       " 'christian',\n",
       " 'christmas',\n",
       " 'classical',\n",
       " 'classicmetal',\n",
       " 'club',\n",
       " 'colombian',\n",
       " 'comedy',\n",
       " 'conjazz',\n",
       " 'contemporary',\n",
       " 'country',\n",
       " 'cuban',\n",
       " 'dance',\n",
       " 'dancehall',\n",
       " 'dancepop',\n",
       " 'dark',\n",
       " 'death',\n",
       " 'deep',\n",
       " 'deutschrock',\n",
       " 'deutschspr',\n",
       " 'dirty',\n",
       " 'disco',\n",
       " 'dnb',\n",
       " 'documentary',\n",
       " 'downbeat',\n",
       " 'downtempo',\n",
       " 'drum',\n",
       " 'dub',\n",
       " 'dubstep',\n",
       " 'eastern',\n",
       " 'easy',\n",
       " 'electronic',\n",
       " 'electropop',\n",
       " 'emo',\n",
       " 'entehno',\n",
       " 'epicmetal',\n",
       " 'estrada',\n",
       " 'ethnic',\n",
       " 'eurofolk',\n",
       " 'european',\n",
       " 'experimental',\n",
       " 'extrememetal',\n",
       " 'fado',\n",
       " 'fairytail',\n",
       " 'film',\n",
       " 'fitness',\n",
       " 'flamenco',\n",
       " 'folk',\n",
       " 'folklore',\n",
       " 'folkmetal',\n",
       " 'folkrock',\n",
       " 'folktronica',\n",
       " 'forró',\n",
       " 'frankreich',\n",
       " 'französisch',\n",
       " 'french',\n",
       " 'funk',\n",
       " 'future',\n",
       " 'gangsta',\n",
       " 'garage',\n",
       " 'german',\n",
       " 'ghazal',\n",
       " 'gitarre',\n",
       " 'glitch',\n",
       " 'gospel',\n",
       " 'gothic',\n",
       " 'grime',\n",
       " 'grunge',\n",
       " 'gypsy',\n",
       " 'handsup',\n",
       " \"hard'n'heavy\",\n",
       " 'hardcore',\n",
       " 'hardstyle',\n",
       " 'hardtechno',\n",
       " 'hiphop',\n",
       " 'historisch',\n",
       " 'holiday',\n",
       " 'horror',\n",
       " 'house',\n",
       " 'hymn',\n",
       " 'idm',\n",
       " 'independent',\n",
       " 'indian',\n",
       " 'indie',\n",
       " 'indipop',\n",
       " 'industrial',\n",
       " 'inspirational',\n",
       " 'instrumental',\n",
       " 'international',\n",
       " 'irish',\n",
       " 'jam',\n",
       " 'japanese',\n",
       " 'jazz',\n",
       " 'jewish',\n",
       " 'jpop',\n",
       " 'jungle',\n",
       " 'k-pop',\n",
       " 'karadeniz',\n",
       " 'karaoke',\n",
       " 'kayokyoku',\n",
       " 'korean',\n",
       " 'laiko',\n",
       " 'latin',\n",
       " 'latino',\n",
       " 'leftfield',\n",
       " 'local',\n",
       " 'lounge',\n",
       " 'loungeelectronic',\n",
       " 'lovers',\n",
       " 'malaysian',\n",
       " 'mandopop',\n",
       " 'marschmusik',\n",
       " 'meditative',\n",
       " 'mediterranean',\n",
       " 'melodic',\n",
       " 'metal',\n",
       " 'metalcore',\n",
       " 'mexican',\n",
       " 'middle',\n",
       " 'minimal',\n",
       " 'miscellaneous',\n",
       " 'modern',\n",
       " 'mood',\n",
       " 'mpb',\n",
       " 'muslim',\n",
       " 'native',\n",
       " 'neoklassik',\n",
       " 'neue',\n",
       " 'new',\n",
       " 'newage',\n",
       " 'newwave',\n",
       " 'nu',\n",
       " 'nujazz',\n",
       " 'numetal',\n",
       " 'oceania',\n",
       " 'old',\n",
       " 'opera',\n",
       " 'orchestral',\n",
       " 'other',\n",
       " 'piano',\n",
       " 'podcasts',\n",
       " 'pop',\n",
       " 'popdance',\n",
       " 'popelectronic',\n",
       " 'popeurodance',\n",
       " 'poprussian',\n",
       " 'post',\n",
       " 'posthardcore',\n",
       " 'postrock',\n",
       " 'power',\n",
       " 'progmetal',\n",
       " 'progressive',\n",
       " 'psychedelic',\n",
       " 'punjabi',\n",
       " 'punk',\n",
       " 'quebecois',\n",
       " 'ragga',\n",
       " 'ram',\n",
       " 'rancheras',\n",
       " 'rap',\n",
       " 'rave',\n",
       " 'reggae',\n",
       " 'reggaeton',\n",
       " 'regional',\n",
       " 'relax',\n",
       " 'religious',\n",
       " 'retro',\n",
       " 'rhythm',\n",
       " 'rnb',\n",
       " 'rnr',\n",
       " 'rock',\n",
       " 'rockabilly',\n",
       " 'rockalternative',\n",
       " 'rockindie',\n",
       " 'rockother',\n",
       " 'romance',\n",
       " 'roots',\n",
       " 'ruspop',\n",
       " 'rusrap',\n",
       " 'rusrock',\n",
       " 'russian',\n",
       " 'salsa',\n",
       " 'samba',\n",
       " 'scenic',\n",
       " 'schlager',\n",
       " 'self',\n",
       " 'sertanejo',\n",
       " 'shanson',\n",
       " 'shoegazing',\n",
       " 'showtunes',\n",
       " 'singer',\n",
       " 'ska',\n",
       " 'skarock',\n",
       " 'slow',\n",
       " 'smooth',\n",
       " 'soft',\n",
       " 'soul',\n",
       " 'soulful',\n",
       " 'sound',\n",
       " 'soundtrack',\n",
       " 'southern',\n",
       " 'specialty',\n",
       " 'speech',\n",
       " 'spiritual',\n",
       " 'sport',\n",
       " 'stonerrock',\n",
       " 'surf',\n",
       " 'swing',\n",
       " 'synthpop',\n",
       " 'synthrock',\n",
       " 'sängerportrait',\n",
       " 'tango',\n",
       " 'tanzorchester',\n",
       " 'taraftar',\n",
       " 'tatar',\n",
       " 'tech',\n",
       " 'techno',\n",
       " 'teen',\n",
       " 'thrash',\n",
       " 'top',\n",
       " 'traditional',\n",
       " 'tradjazz',\n",
       " 'trance',\n",
       " 'tribal',\n",
       " 'trip',\n",
       " 'triphop',\n",
       " 'tropical',\n",
       " 'türk',\n",
       " 'türkçe',\n",
       " 'ukrrock',\n",
       " 'unknown',\n",
       " 'urban',\n",
       " 'uzbek',\n",
       " 'variété',\n",
       " 'vi',\n",
       " 'videogame',\n",
       " 'vocal',\n",
       " 'western',\n",
       " 'world',\n",
       " 'worldbeat']"
      ]
     },
     "execution_count": 17,
     "metadata": {},
     "output_type": "execute_result"
    }
   ],
   "source": [
    "# Проверка на неявные дубликаты\n",
    "sorted(df['genre'].unique())"
   ]
  },
  {
   "cell_type": "markdown",
   "metadata": {
    "id": "jz6a9-7HQUDd"
   },
   "source": [
    "**Выводы**\n",
    "\n",
    "Предобработка обнаружила три проблемы в данных:\n",
    "\n",
    "- нарушения в стиле заголовков,\n",
    "- пропущенные значения,\n",
    "- дубликаты — явные и неявные.\n",
    "\n",
    "Вы исправили заголовки, чтобы упростить работу с таблицей. Без дубликатов исследование станет более точным.\n",
    "\n",
    "Пропущенные значения вы заменили на `'unknown'`. Ещё предстоит увидеть, не повредят ли исследованию пропуски в колонке `genre`.\n",
    "\n",
    "Теперь можно перейти к проверке гипотез. "
   ]
  },
  {
   "cell_type": "markdown",
   "metadata": {
    "id": "WttZHXH0SqKk"
   },
   "source": [
    "## Проверка гипотез"
   ]
  },
  {
   "cell_type": "markdown",
   "metadata": {
    "id": "Im936VVi_Zcu"
   },
   "source": [
    "### Сравнение поведения пользователей двух столиц"
   ]
  },
  {
   "cell_type": "markdown",
   "metadata": {
    "id": "nwt_MuaL_Zcu"
   },
   "source": [
    "Первая гипотеза утверждает, что пользователи по-разному слушают музыку в Москве и Санкт-Петербурге. Проверьте это предположение по данным о трёх днях недели — понедельнике, среде и пятнице. Для этого:\n",
    "\n",
    "* Разделите пользователей Москвы и Санкт-Петербурга\n",
    "* Сравните, сколько треков послушала каждая группа пользователей в понедельник, среду и пятницу.\n"
   ]
  },
  {
   "cell_type": "markdown",
   "metadata": {
    "id": "8Dw_YMmT_Zcu"
   },
   "source": [
    "Для тренировки сначала выполните каждый из расчётов по отдельности. \n",
    "\n",
    "Оцените активность пользователей в каждом городе. Сгруппируйте данные по городу и посчитайте прослушивания в каждой группе.\n",
    "\n"
   ]
  },
  {
   "cell_type": "code",
   "execution_count": 18,
   "metadata": {
    "id": "0_Qs96oh_Zcu"
   },
   "outputs": [
    {
     "data": {
      "text/plain": [
       "city\n",
       "Moscow              42741\n",
       "Saint-Petersburg    18512\n",
       "Name: track, dtype: int64"
      ]
     },
     "execution_count": 18,
     "metadata": {},
     "output_type": "execute_result"
    }
   ],
   "source": [
    "# Подсчёт прослушиваний в каждом городе\n",
    "df.groupby('city')['track'].count()"
   ]
  },
  {
   "cell_type": "markdown",
   "metadata": {
    "id": "dzli3w8o_Zcu"
   },
   "source": [
    "В Москве прослушиваний больше, чем в Петербурге. Из этого не следует, что московские пользователи чаще слушают музыку. Просто самих пользователей в Москве больше.\n",
    "\n",
    "Теперь сгруппируйте данные по дню недели и подсчитайте прослушивания в понедельник, среду и пятницу. Учтите, что в данных есть информация только о прослушиваниях только за эти дни.\n"
   ]
  },
  {
   "cell_type": "code",
   "execution_count": 19,
   "metadata": {
    "id": "uZMKjiJz_Zcu"
   },
   "outputs": [
    {
     "data": {
      "text/plain": [
       "day\n",
       "Wednesday    18059\n",
       "Monday       21354\n",
       "Friday       21840\n",
       "Name: track, dtype: int64"
      ]
     },
     "execution_count": 19,
     "metadata": {},
     "output_type": "execute_result"
    }
   ],
   "source": [
    "# Подсчёт прослушиваний в каждый из трёх дней\n",
    "df.groupby('day')['track'].count().sort_values()"
   ]
  },
  {
   "cell_type": "markdown",
   "metadata": {
    "id": "cC2tNrlL_Zcu"
   },
   "source": [
    "В среднем пользователи из двух городов менее активны по средам. Но картина может измениться, если рассмотреть каждый город в отдельности."
   ]
  },
  {
   "cell_type": "markdown",
   "metadata": {
    "id": "POzs8bGa_Zcu"
   },
   "source": [
    "Вы видели, как работает группировка по городу и по дням недели. Теперь напишите функцию, которая объединит два эти расчёта.\n",
    "\n",
    "Создайте функцию `number_tracks()`, которая посчитает прослушивания для заданного дня и города. Ей понадобятся два параметра:\n",
    "* день недели,\n",
    "* название города.\n",
    "\n",
    "В функции сохраните в переменную строки исходной таблицы, у которых значение:\n",
    "  * в колонке `day` равно параметру `day`,\n",
    "  * в колонке `city` равно параметру `city`.\n",
    "\n",
    "Для этого примените последовательную фильтрацию с логической индексацией.\n",
    "\n",
    "Затем посчитайте значения в столбце `user_id` получившейся таблицы. Результат сохраните в новую переменную. Верните эту переменную из функции."
   ]
  },
  {
   "cell_type": "code",
   "execution_count": 20,
   "metadata": {
    "id": "Nz3GdQB1_Zcu"
   },
   "outputs": [],
   "source": [
    "# Функция для подсчёта прослушиваний для конкретного города и дня.\n",
    "# С помощью последовательной фильтрации с логической индексацией она \n",
    "# сначала получит из исходной таблицы строки с нужным днём,\n",
    "# затем из результата отфильтрует строки с нужным городом,\n",
    "# методом count() посчитает количество значений в колонке user_id. \n",
    "# Это количество функция вернёт в качестве результата\n",
    "def number_tracks(data, day, city):\n",
    "    track_list = data[(data['city']==city) & (data['day']==day)]\n",
    "    track_list_count = track_list['user_id'].count()\n",
    "    return(track_list_count)"
   ]
  },
  {
   "cell_type": "markdown",
   "metadata": {
    "id": "ytf7xFrFJQ2r"
   },
   "source": [
    "Вызовите `number_tracks()` шесть раз, меняя значение параметров — так, чтобы получить данные для каждого города в каждый из трёх дней."
   ]
  },
  {
   "cell_type": "code",
   "execution_count": 21,
   "metadata": {
    "id": "rJcRATNQ_Zcu"
   },
   "outputs": [
    {
     "data": {
      "text/plain": [
       "15740"
      ]
     },
     "execution_count": 21,
     "metadata": {},
     "output_type": "execute_result"
    }
   ],
   "source": [
    "# количество прослушиваний в Москве по понедельникам\n",
    "number_tracks(df,'Monday','Moscow')"
   ]
  },
  {
   "cell_type": "code",
   "execution_count": 22,
   "metadata": {
    "id": "hq_ncZ5T_Zcu"
   },
   "outputs": [
    {
     "data": {
      "text/plain": [
       "5614"
      ]
     },
     "execution_count": 22,
     "metadata": {},
     "output_type": "execute_result"
    }
   ],
   "source": [
    "# количество прослушиваний в Санкт-Петербурге по понедельникам\n",
    "number_tracks(df,'Monday','Saint-Petersburg')"
   ]
  },
  {
   "cell_type": "code",
   "execution_count": 23,
   "metadata": {
    "id": "_NTy2VPU_Zcu"
   },
   "outputs": [
    {
     "data": {
      "text/plain": [
       "11056"
      ]
     },
     "execution_count": 23,
     "metadata": {},
     "output_type": "execute_result"
    }
   ],
   "source": [
    "# количество прослушиваний в Москве по средам\n",
    "number_tracks(df,'Wednesday','Moscow')"
   ]
  },
  {
   "cell_type": "code",
   "execution_count": 24,
   "metadata": {
    "id": "j2y3TAwo_Zcu"
   },
   "outputs": [
    {
     "data": {
      "text/plain": [
       "7003"
      ]
     },
     "execution_count": 24,
     "metadata": {},
     "output_type": "execute_result"
    }
   ],
   "source": [
    "# количество прослушиваний в Санкт-Петербурге по средам\n",
    "number_tracks(df,'Wednesday','Saint-Petersburg')"
   ]
  },
  {
   "cell_type": "code",
   "execution_count": 25,
   "metadata": {
    "id": "vYDw5u_K_Zcu"
   },
   "outputs": [
    {
     "data": {
      "text/plain": [
       "15945"
      ]
     },
     "execution_count": 25,
     "metadata": {},
     "output_type": "execute_result"
    }
   ],
   "source": [
    "# количество прослушиваний в Москве по пятницам\n",
    "number_tracks(df,'Friday','Moscow')"
   ]
  },
  {
   "cell_type": "code",
   "execution_count": 26,
   "metadata": {
    "id": "8_yzFtW3_Zcu"
   },
   "outputs": [
    {
     "data": {
      "text/plain": [
       "5895"
      ]
     },
     "execution_count": 26,
     "metadata": {},
     "output_type": "execute_result"
    }
   ],
   "source": [
    "# количество прослушиваний в Санкт-Петербурге по пятницам\n",
    "number_tracks(df,'Friday','Saint-Petersburg')"
   ]
  },
  {
   "cell_type": "markdown",
   "metadata": {
    "id": "7QXffbO-_Zcu"
   },
   "source": [
    "Создайте c помощью конструктора `pd.DataFrame` таблицу, где\n",
    "* названия колонок — `['city', 'monday', 'wednesday', 'friday']`;\n",
    "* данные — результаты, которые вы получили с помощью `number_tracks`."
   ]
  },
  {
   "cell_type": "code",
   "execution_count": 27,
   "metadata": {
    "id": "APAcLpOr_Zcu"
   },
   "outputs": [
    {
     "data": {
      "text/html": [
       "<div>\n",
       "<style scoped>\n",
       "    .dataframe tbody tr th:only-of-type {\n",
       "        vertical-align: middle;\n",
       "    }\n",
       "\n",
       "    .dataframe tbody tr th {\n",
       "        vertical-align: top;\n",
       "    }\n",
       "\n",
       "    .dataframe thead th {\n",
       "        text-align: right;\n",
       "    }\n",
       "</style>\n",
       "<table border=\"1\" class=\"dataframe\">\n",
       "  <thead>\n",
       "    <tr style=\"text-align: right;\">\n",
       "      <th></th>\n",
       "      <th>city</th>\n",
       "      <th>monday</th>\n",
       "      <th>wednesday</th>\n",
       "      <th>friday</th>\n",
       "    </tr>\n",
       "  </thead>\n",
       "  <tbody>\n",
       "    <tr>\n",
       "      <th>0</th>\n",
       "      <td>Moscow</td>\n",
       "      <td>15740</td>\n",
       "      <td>11056</td>\n",
       "      <td>15945</td>\n",
       "    </tr>\n",
       "    <tr>\n",
       "      <th>1</th>\n",
       "      <td>Saint-Petersburg</td>\n",
       "      <td>5614</td>\n",
       "      <td>7003</td>\n",
       "      <td>5895</td>\n",
       "    </tr>\n",
       "  </tbody>\n",
       "</table>\n",
       "</div>"
      ],
      "text/plain": [
       "               city  monday  wednesday  friday\n",
       "0            Moscow   15740      11056   15945\n",
       "1  Saint-Petersburg    5614       7003    5895"
      ]
     },
     "metadata": {},
     "output_type": "display_data"
    }
   ],
   "source": [
    "# Таблица с результатами\n",
    "data = [['Moscow',\n",
    "         number_tracks(df,'Monday','Moscow'),\n",
    "         number_tracks(df,'Wednesday','Moscow'),\n",
    "         number_tracks(df,'Friday','Moscow')],\n",
    "        ['Saint-Petersburg',\n",
    "         number_tracks(df,'Monday','Saint-Petersburg'),\n",
    "         number_tracks(df,'Wednesday','Saint-Petersburg'),\n",
    "         number_tracks(df,'Friday','Saint-Petersburg')]]\n",
    "col = ['city', 'monday', 'wednesday', 'friday']\n",
    "table_city_day_tracks = pd.DataFrame(data, columns = col)\n",
    "display(table_city_day_tracks)\n"
   ]
  },
  {
   "cell_type": "markdown",
   "metadata": {
    "id": "-EgPIHYu_Zcu"
   },
   "source": [
    "**Выводы**\n",
    "\n",
    "Данные показывают разницу поведения пользователей:\n",
    "\n",
    "- В Москве пик прослушиваний приходится на понедельник и пятницу, а в среду заметен спад.\n",
    "- В Петербурге, наоборот, больше слушают музыку по средам. Активность в понедельник и пятницу здесь почти в равной мере уступает среде.\n",
    "\n",
    "Значит, данные говорят в пользу первой гипотезы."
   ]
  },
  {
   "cell_type": "markdown",
   "metadata": {
    "id": "atZAxtq4_Zcu"
   },
   "source": [
    "### Музыка в начале и в конце недели"
   ]
  },
  {
   "cell_type": "markdown",
   "metadata": {
    "id": "eXrQqXFH_Zcu"
   },
   "source": [
    "Согласно второй гипотезе, утром в понедельник в Москве преобладают одни жанры, а в Петербурге — другие. Так же и вечером пятницы преобладают разные жанры — в зависимости от города."
   ]
  },
  {
   "cell_type": "markdown",
   "metadata": {
    "id": "S8UcW6Hw_Zcu"
   },
   "source": [
    "Сохраните таблицы с данными в две переменные:\n",
    "* по Москве — в `moscow_general`;\n",
    "* по Санкт-Петербургу — в `spb_general`."
   ]
  },
  {
   "cell_type": "code",
   "execution_count": 28,
   "metadata": {
    "id": "qeaFfM_P_Zcu"
   },
   "outputs": [],
   "source": [
    "# получение таблицы moscow_general из тех строк таблицы df, \n",
    "# для которых значение в столбце 'city' равно 'Moscow'\n",
    "moscow_general = df[df['city']=='Moscow']"
   ]
  },
  {
   "cell_type": "code",
   "execution_count": 29,
   "metadata": {
    "id": "ORaVRKto_Zcu"
   },
   "outputs": [],
   "source": [
    "# получение таблицы spb_general из тех строк таблицы df,\n",
    "# для которых значение в столбце 'city' равно 'Saint-Petersburg'\n",
    "spb_general = df[df['city']=='Saint-Petersburg']"
   ]
  },
  {
   "cell_type": "markdown",
   "metadata": {
    "id": "MEJV-CX2_Zcu"
   },
   "source": [
    "Создайте функцию `genre_weekday()` с четырьмя параметрами:\n",
    "* таблица (датафрейм) с данными,\n",
    "* день недели,\n",
    "* начальная временная метка в формате 'hh:mm', \n",
    "* последняя временная метка в формате 'hh:mm'.\n",
    "\n",
    "Функция должна вернуть информацию о топ-10 жанров тех треков, которые прослушивали в указанный день, в промежутке между двумя отметками времени."
   ]
  },
  {
   "cell_type": "code",
   "execution_count": 30,
   "metadata": {
    "id": "laJT9BYl_Zcu"
   },
   "outputs": [],
   "source": [
    "# Объявление функции genre_weekday() с параметрами table, day, time1, time2,\n",
    "# которая возвращает информацию о самых популярных жанрах в указанный день в\n",
    "# заданное время:\n",
    "# 1) в переменную genre_df сохраняются те строки переданного датафрейма table, для\n",
    "#    которых одновременно:\n",
    "#    - значение в столбце day равно значению аргумента day\n",
    "#    - значение в столбце time больше значения аргумента time1\n",
    "#    - значение в столбце time меньше значения аргумента time2\n",
    "#    Используйте последовательную фильтрацию с помощью логической индексации.\n",
    "# 2) сгруппировать датафрейм genre_df по столбцу genre, взять один из его\n",
    "#    столбцов и посчитать методом count() количество записей для каждого из\n",
    "#    присутствующих жанров, получившийся Series записать в переменную\n",
    "#    genre_df_count\n",
    "# 3) отсортировать genre_df_count по убыванию встречаемости и сохранить\n",
    "#    в переменную genre_df_sorted\n",
    "# 4) вернуть Series из 10 первых значений genre_df_sorted, это будут топ-10\n",
    "#    популярных жанров (в указанный день, в заданное время)\n",
    "def genre_weekday(table, day, time1, time2):\n",
    "    genre_df = table[(table['day']==day)&(table['time']>time1)&(table['time']<time2)]\n",
    "    return(genre_df.groupby('genre')['user_id'].count().sort_values(ascending=False)[0:10])"
   ]
  },
  {
   "cell_type": "markdown",
   "metadata": {
    "id": "la2s2_PF_Zcu"
   },
   "source": [
    "Cравните результаты функции `genre_weekday()` для Москвы и Санкт-Петербурга в понедельник утром (с 7:00 до 11:00) и в пятницу вечером (с 17:00 до 23:00):"
   ]
  },
  {
   "cell_type": "code",
   "execution_count": 31,
   "metadata": {
    "id": "yz7itPUQ_Zcu"
   },
   "outputs": [
    {
     "data": {
      "text/plain": [
       "genre\n",
       "pop            781\n",
       "dance          549\n",
       "electronic     480\n",
       "rock           474\n",
       "hiphop         286\n",
       "ruspop         186\n",
       "world          181\n",
       "rusrap         175\n",
       "alternative    164\n",
       "unknown        161\n",
       "Name: user_id, dtype: int64"
      ]
     },
     "execution_count": 31,
     "metadata": {},
     "output_type": "execute_result"
    }
   ],
   "source": [
    "# вызов функции для утра понедельника в Москве (вместо df — таблица moscow_general)\n",
    "# объекты, хранящие время, являются строками и сравниваются как строки\n",
    "# пример вызова: genre_weekday(moscow_general, 'Monday', '07:00', '11:00')\n",
    "genre_weekday(moscow_general, 'Monday', '07:00', '11:00')"
   ]
  },
  {
   "cell_type": "code",
   "execution_count": 32,
   "metadata": {
    "id": "kwUcHPdy_Zcu"
   },
   "outputs": [
    {
     "data": {
      "text/plain": [
       "genre\n",
       "pop            218\n",
       "dance          182\n",
       "rock           162\n",
       "electronic     147\n",
       "hiphop          80\n",
       "ruspop          64\n",
       "alternative     58\n",
       "rusrap          55\n",
       "jazz            44\n",
       "classical       40\n",
       "Name: user_id, dtype: int64"
      ]
     },
     "execution_count": 32,
     "metadata": {},
     "output_type": "execute_result"
    }
   ],
   "source": [
    "# вызов функции для утра понедельника в Петербурге (вместо df — таблица spb_general)\n",
    "genre_weekday(spb_general, 'Monday', '07:00', '11:00')"
   ]
  },
  {
   "cell_type": "code",
   "execution_count": 33,
   "metadata": {
    "id": "EzXVRE1o_Zcu"
   },
   "outputs": [
    {
     "data": {
      "text/plain": [
       "genre\n",
       "pop            710\n",
       "rock           508\n",
       "dance          489\n",
       "electronic     478\n",
       "hiphop         273\n",
       "world          206\n",
       "ruspop         169\n",
       "alternative    163\n",
       "classical      160\n",
       "rusrap         139\n",
       "Name: user_id, dtype: int64"
      ]
     },
     "execution_count": 33,
     "metadata": {},
     "output_type": "execute_result"
    }
   ],
   "source": [
    "# вызов функции для вечера пятницы в Москве\n",
    "# неплохо бы уточнить что такое вечер\n",
    "genre_weekday(moscow_general, 'Friday', '19:00', '22:00')"
   ]
  },
  {
   "cell_type": "code",
   "execution_count": 34,
   "metadata": {
    "id": "JZaEKu5v_Zcu"
   },
   "outputs": [
    {
     "data": {
      "text/plain": [
       "genre\n",
       "pop            254\n",
       "electronic     216\n",
       "rock           215\n",
       "dance          207\n",
       "hiphop          93\n",
       "alternative     63\n",
       "jazz            60\n",
       "rusrap          59\n",
       "classical       59\n",
       "world           54\n",
       "Name: user_id, dtype: int64"
      ]
     },
     "execution_count": 34,
     "metadata": {},
     "output_type": "execute_result"
    }
   ],
   "source": [
    "# вызов функции для вечера пятницы в Петербурге\n",
    "genre_weekday(spb_general, 'Friday', '19:00', '22:00')"
   ]
  },
  {
   "cell_type": "markdown",
   "metadata": {
    "id": "wrCe4MNX_Zcu"
   },
   "source": [
    "**Выводы**\n",
    "\n",
    "Если сравнить топ-10 жанров в понедельник утром, можно сделать такие выводы:\n",
    "\n",
    "1. В Москве и Петербурге слушают похожую музыку. Единственное отличие — в московский рейтинг вошёл жанр “world”, а в петербургский — джаз и классика.\n",
    "\n",
    "2. В Москве пропущенных значений оказалось так много, что значение `'unknown'` заняло десятое место среди самых популярных жанров. Значит, пропущенные значения занимают существенную долю в данных и угрожают достоверности исследования.\n",
    "\n",
    "Вечер пятницы не меняет эту картину. Некоторые жанры поднимаются немного выше, другие спускаются, но в целом топ-10 остаётся тем же самым.\n",
    "\n",
    "Таким образом, вторая гипотеза подтвердилась лишь частично:\n",
    "* Пользователи слушают похожую музыку в начале недели и в конце.\n",
    "* Разница между Москвой и Петербургом не слишком выражена. В Москве чаще слушают русскую популярную музыку, в Петербурге — джаз.\n",
    "\n",
    "Однако пропуски в данных ставят под сомнение этот результат. В Москве их так много, что рейтинг топ-10 мог бы выглядеть иначе, если бы не утерянные  данные о жанрах."
   ]
  },
  {
   "cell_type": "markdown",
   "metadata": {
    "id": "JolODAqr_Zcu"
   },
   "source": [
    "### Жанровые предпочтения в Москве и Петербурге\n",
    "\n",
    "Гипотеза: Петербург — столица рэпа, музыку этого жанра там слушают чаще, чем в Москве.  А Москва — город контрастов, в котором, тем не менее, преобладает поп-музыка."
   ]
  },
  {
   "cell_type": "markdown",
   "metadata": {
    "id": "DlegSvaT_Zcu"
   },
   "source": [
    "Сгруппируйте таблицу `moscow_general` по жанру и посчитайте прослушивания треков каждого жанра методом `count()`. Затем отсортируйте результат в порядке убывания и сохраните его в таблице `moscow_genres`."
   ]
  },
  {
   "cell_type": "code",
   "execution_count": 35,
   "metadata": {
    "id": "r19lIPke_Zcu"
   },
   "outputs": [],
   "source": [
    "# одной строкой: группировка таблицы moscow_general по столбцу 'genre', \n",
    "# подсчёт числа значений 'genre' в этой группировке методом count(), \n",
    "# сортировка получившегося Series в порядке убывания и сохранение в moscow_genres\n",
    "moscow_genres = moscow_general.groupby('genre')['user_id'].count().sort_values(ascending=False)"
   ]
  },
  {
   "cell_type": "markdown",
   "metadata": {
    "id": "6kMuomxTiIr8"
   },
   "source": [
    "Выведите на экран первые десять строк `moscow_genres`:"
   ]
  },
  {
   "cell_type": "code",
   "execution_count": 36,
   "metadata": {
    "id": "WhCSooF8_Zcv"
   },
   "outputs": [
    {
     "data": {
      "text/plain": [
       "genre\n",
       "pop            5893\n",
       "dance          4435\n",
       "rock           3965\n",
       "electronic     3786\n",
       "hiphop         2096\n",
       "classical      1616\n",
       "world          1432\n",
       "alternative    1379\n",
       "ruspop         1372\n",
       "rusrap         1161\n",
       "Name: user_id, dtype: int64"
      ]
     },
     "execution_count": 36,
     "metadata": {},
     "output_type": "execute_result"
    }
   ],
   "source": [
    "# просмотр первых 10 строк moscow_genres\n",
    "moscow_genres.head(10)"
   ]
  },
  {
   "cell_type": "markdown",
   "metadata": {
    "id": "cnPG2vnN_Zcv"
   },
   "source": [
    "Теперь повторите то же и для Петербурга.\n",
    "\n",
    "Сгруппируйте таблицу `spb_general` по жанру. Посчитайте прослушивания треков каждого жанра. Результат отсортируйте в порядке убывания и сохраните в таблице `spb_genres`:\n"
   ]
  },
  {
   "cell_type": "code",
   "execution_count": 37,
   "metadata": {
    "id": "gluLIpE7_Zcv"
   },
   "outputs": [],
   "source": [
    "# одной строкой: группировка таблицы spb_general по столбцу 'genre', \n",
    "# подсчёт числа значений 'genre' в этой группировке методом count(), \n",
    "# сортировка получившегося Series в порядке убывания и сохранение в spb_genres\n",
    "spb_genres = spb_general.groupby('genre')['user_id'].count().sort_values(ascending=False)"
   ]
  },
  {
   "cell_type": "markdown",
   "metadata": {
    "id": "5Doha_ODgyQ8"
   },
   "source": [
    "Выведите на экран первые десять строк `spb_genres`:"
   ]
  },
  {
   "cell_type": "code",
   "execution_count": 38,
   "metadata": {
    "id": "uaGJHjVU_Zcv"
   },
   "outputs": [
    {
     "data": {
      "text/plain": [
       "genre\n",
       "pop            2431\n",
       "dance          1932\n",
       "rock           1879\n",
       "electronic     1737\n",
       "hiphop          960\n",
       "alternative     649\n",
       "classical       646\n",
       "rusrap          564\n",
       "ruspop          538\n",
       "world           515\n",
       "Name: user_id, dtype: int64"
      ]
     },
     "execution_count": 38,
     "metadata": {},
     "output_type": "execute_result"
    }
   ],
   "source": [
    "# просмотр первых 10 строк spb_genres\n",
    "spb_genres.head(10)"
   ]
  },
  {
   "cell_type": "markdown",
   "metadata": {
    "id": "RY51YJYu_Zcv"
   },
   "source": [
    "**Выводы**"
   ]
  },
  {
   "cell_type": "markdown",
   "metadata": {
    "id": "nVhnJEm__Zcv"
   },
   "source": [
    "Гипотеза частично подтвердилась:\n",
    "* Поп-музыка — самый популярный жанр в Москве, как и предполагала гипотеза. Более того, в топ-10 жанров встречается близкий жанр — русская популярная музыка.\n",
    "* Вопреки ожиданиям, рэп одинаково популярен в Москве и Петербурге. \n"
   ]
  },
  {
   "cell_type": "markdown",
   "metadata": {
    "id": "ykKQ0N65_Zcv"
   },
   "source": [
    "## Итоги исследования"
   ]
  },
  {
   "cell_type": "markdown",
   "metadata": {
    "id": "tjUwbHb3_Zcv"
   },
   "source": [
    "Вы проверили три гипотезы и установили:\n",
    "\n",
    "1. День недели по-разному влияет на активность пользователей в Москве и Петербурге. \n",
    "\n",
    "Первая гипотеза полностью подтвердилась.\n",
    "\n",
    "2. Музыкальные предпочтения не сильно меняются в течение недели — будь то Москва или Петербург. Небольшие различия заметны в начале недели, по понедельникам:\n",
    "* в Москве слушают музыку жанра “world”,\n",
    "* в Петербурге — джаз и классику.\n",
    "\n",
    "Таким образом, вторая гипотеза подтвердилась лишь отчасти. Этот результат мог оказаться иным, если бы не пропуски в данных.\n",
    "\n",
    "3. Во вкусах пользователей Москвы и Петербурга больше общего чем различий. Вопреки ожиданиям, предпочтения жанров в Петербурге напоминают московские.\n",
    "\n",
    "Третья гипотеза не подтвердилась. Если различия в предпочтениях и существуют, на основной массе пользователей они незаметны."
   ]
  }
 ],
 "metadata": {
  "ExecuteTimeLog": [
   {
    "duration": 1905,
    "start_time": "2021-11-13T13:30:11.123Z"
   },
   {
    "duration": 3,
    "start_time": "2021-11-13T13:41:50.551Z"
   },
   {
    "duration": 197,
    "start_time": "2021-11-13T13:41:56.694Z"
   },
   {
    "duration": 475,
    "start_time": "2021-11-13T13:42:18.990Z"
   },
   {
    "duration": 188,
    "start_time": "2021-11-13T13:42:28.960Z"
   },
   {
    "duration": 15,
    "start_time": "2021-11-13T13:42:32.381Z"
   },
   {
    "duration": 15,
    "start_time": "2021-11-13T13:42:38.815Z"
   },
   {
    "duration": 5,
    "start_time": "2021-11-13T13:44:12.296Z"
   },
   {
    "duration": 5,
    "start_time": "2021-11-13T13:44:19.502Z"
   },
   {
    "duration": 6,
    "start_time": "2021-11-13T13:44:28.961Z"
   },
   {
    "duration": 4,
    "start_time": "2021-11-13T13:44:36.253Z"
   },
   {
    "duration": 83,
    "start_time": "2021-11-13T13:46:51.164Z"
   },
   {
    "duration": 65,
    "start_time": "2021-11-13T13:47:12.720Z"
   },
   {
    "duration": 16,
    "start_time": "2021-11-13T13:47:28.914Z"
   },
   {
    "duration": 21,
    "start_time": "2021-11-13T13:48:06.857Z"
   },
   {
    "duration": 15,
    "start_time": "2021-11-13T13:48:09.548Z"
   },
   {
    "duration": 377,
    "start_time": "2021-11-13T13:49:55.806Z"
   },
   {
    "duration": 33,
    "start_time": "2021-11-13T13:50:07.072Z"
   },
   {
    "duration": 34,
    "start_time": "2021-11-13T13:51:17.093Z"
   },
   {
    "duration": 34,
    "start_time": "2021-11-13T13:52:03.244Z"
   },
   {
    "duration": 385,
    "start_time": "2021-11-13T13:55:23.234Z"
   },
   {
    "duration": 24,
    "start_time": "2021-11-13T13:55:34.566Z"
   },
   {
    "duration": 32,
    "start_time": "2021-11-13T13:55:40.812Z"
   },
   {
    "duration": 375,
    "start_time": "2021-11-13T13:56:37.527Z"
   },
   {
    "duration": 89,
    "start_time": "2021-11-13T13:56:49.932Z"
   },
   {
    "duration": 80,
    "start_time": "2021-11-13T13:56:55.399Z"
   },
   {
    "duration": 110,
    "start_time": "2021-11-13T14:00:41.300Z"
   },
   {
    "duration": 113,
    "start_time": "2021-11-13T14:00:58.739Z"
   },
   {
    "duration": 176,
    "start_time": "2021-11-13T14:01:41.806Z"
   },
   {
    "duration": 117,
    "start_time": "2021-11-13T14:01:46.443Z"
   },
   {
    "duration": 4,
    "start_time": "2021-11-13T14:01:56.902Z"
   },
   {
    "duration": 195,
    "start_time": "2021-11-13T14:01:56.909Z"
   },
   {
    "duration": 16,
    "start_time": "2021-11-13T14:01:57.108Z"
   },
   {
    "duration": 4,
    "start_time": "2021-11-13T14:01:57.127Z"
   },
   {
    "duration": 9,
    "start_time": "2021-11-13T14:01:57.133Z"
   },
   {
    "duration": 22,
    "start_time": "2021-11-13T14:01:57.145Z"
   },
   {
    "duration": 43,
    "start_time": "2021-11-13T14:01:57.170Z"
   },
   {
    "duration": 35,
    "start_time": "2021-11-13T14:01:57.215Z"
   },
   {
    "duration": 51,
    "start_time": "2021-11-13T14:01:57.254Z"
   },
   {
    "duration": 31,
    "start_time": "2021-11-13T14:01:57.308Z"
   },
   {
    "duration": 111,
    "start_time": "2021-11-13T14:01:57.342Z"
   },
   {
    "duration": 113,
    "start_time": "2021-11-13T14:01:57.455Z"
   },
   {
    "duration": 81,
    "start_time": "2021-11-13T14:02:39.316Z"
   },
   {
    "duration": 12,
    "start_time": "2021-11-13T14:03:15.632Z"
   },
   {
    "duration": 386,
    "start_time": "2021-11-13T14:03:36.647Z"
   },
   {
    "duration": 390,
    "start_time": "2021-11-13T14:04:11.892Z"
   },
   {
    "duration": 7,
    "start_time": "2021-11-13T14:07:51.448Z"
   },
   {
    "duration": 8,
    "start_time": "2021-11-13T14:08:06.058Z"
   },
   {
    "duration": 8,
    "start_time": "2021-11-13T14:08:14.692Z"
   },
   {
    "duration": 9,
    "start_time": "2021-11-13T14:08:30.754Z"
   },
   {
    "duration": 14,
    "start_time": "2021-11-13T14:08:52.384Z"
   },
   {
    "duration": 3,
    "start_time": "2021-11-13T14:22:08.948Z"
   },
   {
    "duration": 4,
    "start_time": "2021-11-13T14:23:48.036Z"
   },
   {
    "duration": 17,
    "start_time": "2021-11-13T14:23:52.216Z"
   },
   {
    "duration": 14,
    "start_time": "2021-11-13T14:24:08.254Z"
   },
   {
    "duration": 3,
    "start_time": "2021-11-13T14:24:42.845Z"
   },
   {
    "duration": 202,
    "start_time": "2021-11-13T14:24:42.856Z"
   },
   {
    "duration": 15,
    "start_time": "2021-11-13T14:24:43.060Z"
   },
   {
    "duration": 26,
    "start_time": "2021-11-13T14:24:43.078Z"
   },
   {
    "duration": 6,
    "start_time": "2021-11-13T14:24:43.107Z"
   },
   {
    "duration": 29,
    "start_time": "2021-11-13T14:24:43.116Z"
   },
   {
    "duration": 13,
    "start_time": "2021-11-13T14:24:43.147Z"
   },
   {
    "duration": 65,
    "start_time": "2021-11-13T14:24:43.163Z"
   },
   {
    "duration": 23,
    "start_time": "2021-11-13T14:24:43.230Z"
   },
   {
    "duration": 53,
    "start_time": "2021-11-13T14:24:43.257Z"
   },
   {
    "duration": 110,
    "start_time": "2021-11-13T14:24:43.313Z"
   },
   {
    "duration": 104,
    "start_time": "2021-11-13T14:24:43.425Z"
   },
   {
    "duration": 88,
    "start_time": "2021-11-13T14:24:43.531Z"
   },
   {
    "duration": 14,
    "start_time": "2021-11-13T14:24:43.621Z"
   },
   {
    "duration": 4,
    "start_time": "2021-11-13T14:24:43.637Z"
   },
   {
    "duration": 13,
    "start_time": "2021-11-13T14:24:49.399Z"
   },
   {
    "duration": 17,
    "start_time": "2021-11-13T14:25:25.761Z"
   },
   {
    "duration": 14,
    "start_time": "2021-11-13T14:25:29.883Z"
   },
   {
    "duration": 14,
    "start_time": "2021-11-13T14:27:49.518Z"
   },
   {
    "duration": 726,
    "start_time": "2021-11-13T14:29:12.014Z"
   },
   {
    "duration": 368,
    "start_time": "2021-11-13T14:30:39.343Z"
   },
   {
    "duration": 44,
    "start_time": "2021-11-13T14:31:46.228Z"
   },
   {
    "duration": 16,
    "start_time": "2021-11-13T14:31:56.834Z"
   },
   {
    "duration": 16,
    "start_time": "2021-11-13T14:33:09.840Z"
   },
   {
    "duration": 17,
    "start_time": "2021-11-13T14:34:13.758Z"
   },
   {
    "duration": 4,
    "start_time": "2021-11-13T14:38:38.422Z"
   },
   {
    "duration": 539,
    "start_time": "2021-11-13T14:39:03.037Z"
   },
   {
    "duration": -161,
    "start_time": "2021-11-13T14:39:27.252Z"
   },
   {
    "duration": 10211,
    "start_time": "2021-11-13T14:39:43.602Z"
   },
   {
    "duration": 5,
    "start_time": "2021-11-13T14:40:20.605Z"
   },
   {
    "duration": 23,
    "start_time": "2021-11-13T14:40:32.668Z"
   },
   {
    "duration": 24,
    "start_time": "2021-11-13T14:41:01.506Z"
   },
   {
    "duration": 36,
    "start_time": "2021-11-13T14:41:26.779Z"
   },
   {
    "duration": 5,
    "start_time": "2021-11-13T14:42:48.922Z"
   },
   {
    "duration": 24,
    "start_time": "2021-11-13T14:42:51.967Z"
   },
   {
    "duration": 21,
    "start_time": "2021-11-13T14:43:07.094Z"
   },
   {
    "duration": 23,
    "start_time": "2021-11-13T14:45:29.105Z"
   },
   {
    "duration": 20,
    "start_time": "2021-11-13T14:45:30.091Z"
   },
   {
    "duration": 20,
    "start_time": "2021-11-13T14:45:30.917Z"
   },
   {
    "duration": 19,
    "start_time": "2021-11-13T14:45:31.519Z"
   },
   {
    "duration": 21,
    "start_time": "2021-11-13T14:45:32.105Z"
   },
   {
    "duration": 19,
    "start_time": "2021-11-13T14:45:32.959Z"
   },
   {
    "duration": 95,
    "start_time": "2021-11-13T14:55:39.200Z"
   },
   {
    "duration": 91,
    "start_time": "2021-11-13T14:57:49.080Z"
   },
   {
    "duration": 364,
    "start_time": "2021-11-14T13:17:01.145Z"
   },
   {
    "duration": 276,
    "start_time": "2021-11-14T13:17:33.298Z"
   },
   {
    "duration": 309,
    "start_time": "2021-11-14T13:17:43.065Z"
   },
   {
    "duration": 637,
    "start_time": "2021-11-14T13:18:08.971Z"
   },
   {
    "duration": 150,
    "start_time": "2021-11-14T13:18:09.610Z"
   },
   {
    "duration": 23,
    "start_time": "2021-11-14T13:18:09.762Z"
   },
   {
    "duration": 2,
    "start_time": "2021-11-14T13:18:09.787Z"
   },
   {
    "duration": 6,
    "start_time": "2021-11-14T13:18:09.791Z"
   },
   {
    "duration": 24,
    "start_time": "2021-11-14T13:18:09.799Z"
   },
   {
    "duration": 11,
    "start_time": "2021-11-14T13:18:09.825Z"
   },
   {
    "duration": 56,
    "start_time": "2021-11-14T13:18:09.839Z"
   },
   {
    "duration": 19,
    "start_time": "2021-11-14T13:18:09.898Z"
   },
   {
    "duration": 24,
    "start_time": "2021-11-14T13:18:09.919Z"
   },
   {
    "duration": 67,
    "start_time": "2021-11-14T13:18:09.964Z"
   },
   {
    "duration": 99,
    "start_time": "2021-11-14T13:18:10.032Z"
   },
   {
    "duration": 69,
    "start_time": "2021-11-14T13:18:10.132Z"
   },
   {
    "duration": 9,
    "start_time": "2021-11-14T13:18:10.203Z"
   },
   {
    "duration": 3,
    "start_time": "2021-11-14T13:18:10.214Z"
   },
   {
    "duration": 19,
    "start_time": "2021-11-14T13:18:10.218Z"
   },
   {
    "duration": 27,
    "start_time": "2021-11-14T13:18:10.239Z"
   },
   {
    "duration": 20,
    "start_time": "2021-11-14T13:18:10.268Z"
   },
   {
    "duration": 12,
    "start_time": "2021-11-14T13:18:10.289Z"
   },
   {
    "duration": 3,
    "start_time": "2021-11-14T13:18:10.303Z"
   },
   {
    "duration": 22,
    "start_time": "2021-11-14T13:18:10.308Z"
   },
   {
    "duration": 54,
    "start_time": "2021-11-14T13:18:10.331Z"
   },
   {
    "duration": 24,
    "start_time": "2021-11-14T13:18:10.390Z"
   },
   {
    "duration": 23,
    "start_time": "2021-11-14T13:18:10.417Z"
   },
   {
    "duration": 43,
    "start_time": "2021-11-14T13:18:10.442Z"
   },
   {
    "duration": 14,
    "start_time": "2021-11-14T13:18:10.487Z"
   },
   {
    "duration": 100,
    "start_time": "2021-11-14T13:18:10.503Z"
   },
   {
    "duration": 2,
    "start_time": "2021-11-14T13:18:10.605Z"
   },
   {
    "duration": 6,
    "start_time": "2021-11-14T13:18:10.608Z"
   },
   {
    "duration": 5,
    "start_time": "2021-11-14T13:18:10.615Z"
   },
   {
    "duration": 8,
    "start_time": "2021-11-14T13:18:10.621Z"
   },
   {
    "duration": 4,
    "start_time": "2021-11-14T13:18:10.631Z"
   },
   {
    "duration": 10,
    "start_time": "2021-11-14T13:18:10.637Z"
   },
   {
    "duration": 9,
    "start_time": "2021-11-14T13:18:10.648Z"
   },
   {
    "duration": 7,
    "start_time": "2021-11-14T13:18:10.668Z"
   },
   {
    "duration": 7,
    "start_time": "2021-11-14T13:18:10.677Z"
   },
   {
    "duration": 8,
    "start_time": "2021-11-14T13:18:10.686Z"
   },
   {
    "duration": 6,
    "start_time": "2021-11-14T13:18:10.696Z"
   },
   {
    "duration": 748,
    "start_time": "2021-11-14T13:20:45.685Z"
   },
   {
    "duration": 151,
    "start_time": "2021-11-14T13:20:46.435Z"
   },
   {
    "duration": 17,
    "start_time": "2021-11-14T13:20:46.588Z"
   },
   {
    "duration": 2,
    "start_time": "2021-11-14T13:20:46.608Z"
   },
   {
    "duration": 10,
    "start_time": "2021-11-14T13:20:46.612Z"
   },
   {
    "duration": 49,
    "start_time": "2021-11-14T13:20:46.623Z"
   },
   {
    "duration": 13,
    "start_time": "2021-11-14T13:20:46.674Z"
   },
   {
    "duration": 25,
    "start_time": "2021-11-14T13:20:46.690Z"
   },
   {
    "duration": 18,
    "start_time": "2021-11-14T13:20:46.717Z"
   },
   {
    "duration": 49,
    "start_time": "2021-11-14T13:20:46.737Z"
   },
   {
    "duration": 81,
    "start_time": "2021-11-14T13:20:46.788Z"
   },
   {
    "duration": 78,
    "start_time": "2021-11-14T13:20:46.871Z"
   },
   {
    "duration": 66,
    "start_time": "2021-11-14T13:20:46.950Z"
   },
   {
    "duration": 10,
    "start_time": "2021-11-14T13:20:47.017Z"
   },
   {
    "duration": 4,
    "start_time": "2021-11-14T13:20:47.029Z"
   },
   {
    "duration": 40,
    "start_time": "2021-11-14T13:20:47.035Z"
   },
   {
    "duration": 12,
    "start_time": "2021-11-14T13:20:47.077Z"
   },
   {
    "duration": 11,
    "start_time": "2021-11-14T13:20:47.091Z"
   },
   {
    "duration": 15,
    "start_time": "2021-11-14T13:20:47.105Z"
   },
   {
    "duration": 4,
    "start_time": "2021-11-14T13:20:47.121Z"
   },
   {
    "duration": 51,
    "start_time": "2021-11-14T13:20:47.127Z"
   },
   {
    "duration": 15,
    "start_time": "2021-11-14T13:20:47.180Z"
   },
   {
    "duration": 15,
    "start_time": "2021-11-14T13:20:47.198Z"
   },
   {
    "duration": 51,
    "start_time": "2021-11-14T13:20:47.216Z"
   },
   {
    "duration": 23,
    "start_time": "2021-11-14T13:20:47.269Z"
   },
   {
    "duration": 14,
    "start_time": "2021-11-14T13:20:47.294Z"
   },
   {
    "duration": 103,
    "start_time": "2021-11-14T13:20:47.310Z"
   },
   {
    "duration": 2,
    "start_time": "2021-11-14T13:20:47.415Z"
   },
   {
    "duration": 6,
    "start_time": "2021-11-14T13:20:47.419Z"
   },
   {
    "duration": 5,
    "start_time": "2021-11-14T13:20:47.427Z"
   },
   {
    "duration": 9,
    "start_time": "2021-11-14T13:20:47.434Z"
   },
   {
    "duration": 5,
    "start_time": "2021-11-14T13:20:47.445Z"
   },
   {
    "duration": 12,
    "start_time": "2021-11-14T13:20:47.452Z"
   },
   {
    "duration": 8,
    "start_time": "2021-11-14T13:20:47.466Z"
   },
   {
    "duration": 8,
    "start_time": "2021-11-14T13:20:47.476Z"
   },
   {
    "duration": 12,
    "start_time": "2021-11-14T13:20:47.485Z"
   },
   {
    "duration": 8,
    "start_time": "2021-11-14T13:20:47.499Z"
   },
   {
    "duration": 8,
    "start_time": "2021-11-14T13:20:47.510Z"
   },
   {
    "duration": 11,
    "start_time": "2021-11-14T13:23:04.207Z"
   },
   {
    "duration": 9,
    "start_time": "2021-11-14T13:23:05.092Z"
   },
   {
    "duration": 34,
    "start_time": "2021-11-14T13:23:24.708Z"
   },
   {
    "duration": 11,
    "start_time": "2021-11-14T13:24:40.305Z"
   },
   {
    "duration": 11,
    "start_time": "2021-11-14T13:29:49.498Z"
   },
   {
    "duration": 10,
    "start_time": "2021-11-14T13:32:39.539Z"
   },
   {
    "duration": 6,
    "start_time": "2021-11-14T13:33:30.024Z"
   },
   {
    "duration": 6,
    "start_time": "2021-11-14T13:33:47.068Z"
   },
   {
    "duration": 14,
    "start_time": "2021-11-14T13:34:09.088Z"
   },
   {
    "duration": 25,
    "start_time": "2021-11-14T13:37:48.997Z"
   },
   {
    "duration": 23,
    "start_time": "2021-11-14T13:42:22.475Z"
   },
   {
    "duration": 24,
    "start_time": "2021-11-14T13:43:00.807Z"
   },
   {
    "duration": 23,
    "start_time": "2021-11-14T13:43:54.958Z"
   },
   {
    "duration": 4,
    "start_time": "2021-11-14T13:44:03.109Z"
   },
   {
    "duration": 18,
    "start_time": "2021-11-14T13:44:42.625Z"
   },
   {
    "duration": 12,
    "start_time": "2021-11-14T13:44:43.734Z"
   },
   {
    "duration": 19,
    "start_time": "2021-11-14T13:44:54.462Z"
   },
   {
    "duration": 14,
    "start_time": "2021-11-14T13:45:10.263Z"
   },
   {
    "duration": 18,
    "start_time": "2021-11-14T13:47:56.966Z"
   },
   {
    "duration": 14,
    "start_time": "2021-11-14T13:47:57.879Z"
   },
   {
    "duration": 312,
    "start_time": "2021-11-14T13:50:11.336Z"
   },
   {
    "duration": 347,
    "start_time": "2021-11-14T13:50:23.034Z"
   },
   {
    "duration": 9,
    "start_time": "2021-11-14T13:50:59.300Z"
   },
   {
    "duration": 271,
    "start_time": "2021-11-14T13:51:11.795Z"
   },
   {
    "duration": 8,
    "start_time": "2021-11-14T13:51:42.685Z"
   },
   {
    "duration": 11,
    "start_time": "2021-11-14T13:52:12.396Z"
   },
   {
    "duration": 5,
    "start_time": "2021-11-14T13:52:21.569Z"
   },
   {
    "duration": 7,
    "start_time": "2021-11-14T13:53:01.529Z"
   },
   {
    "duration": 7,
    "start_time": "2021-11-14T13:53:02.928Z"
   },
   {
    "duration": 5,
    "start_time": "2021-11-14T13:53:04.917Z"
   },
   {
    "duration": 573,
    "start_time": "2021-11-14T13:53:58.496Z"
   },
   {
    "duration": 136,
    "start_time": "2021-11-14T13:53:59.071Z"
   },
   {
    "duration": 15,
    "start_time": "2021-11-14T13:53:59.209Z"
   },
   {
    "duration": 4,
    "start_time": "2021-11-14T13:53:59.226Z"
   },
   {
    "duration": 6,
    "start_time": "2021-11-14T13:53:59.231Z"
   },
   {
    "duration": 37,
    "start_time": "2021-11-14T13:53:59.239Z"
   },
   {
    "duration": 9,
    "start_time": "2021-11-14T13:53:59.277Z"
   },
   {
    "duration": 24,
    "start_time": "2021-11-14T13:53:59.288Z"
   },
   {
    "duration": 18,
    "start_time": "2021-11-14T13:53:59.314Z"
   },
   {
    "duration": 46,
    "start_time": "2021-11-14T13:53:59.334Z"
   },
   {
    "duration": 62,
    "start_time": "2021-11-14T13:53:59.382Z"
   },
   {
    "duration": 84,
    "start_time": "2021-11-14T13:53:59.445Z"
   },
   {
    "duration": 60,
    "start_time": "2021-11-14T13:53:59.530Z"
   },
   {
    "duration": 9,
    "start_time": "2021-11-14T13:53:59.591Z"
   },
   {
    "duration": 3,
    "start_time": "2021-11-14T13:53:59.602Z"
   },
   {
    "duration": 20,
    "start_time": "2021-11-14T13:53:59.606Z"
   },
   {
    "duration": 10,
    "start_time": "2021-11-14T13:53:59.627Z"
   },
   {
    "duration": 32,
    "start_time": "2021-11-14T13:53:59.638Z"
   },
   {
    "duration": 11,
    "start_time": "2021-11-14T13:53:59.671Z"
   },
   {
    "duration": 3,
    "start_time": "2021-11-14T13:53:59.684Z"
   },
   {
    "duration": 19,
    "start_time": "2021-11-14T13:53:59.688Z"
   },
   {
    "duration": 13,
    "start_time": "2021-11-14T13:53:59.709Z"
   },
   {
    "duration": 45,
    "start_time": "2021-11-14T13:53:59.725Z"
   },
   {
    "duration": 13,
    "start_time": "2021-11-14T13:53:59.772Z"
   },
   {
    "duration": 15,
    "start_time": "2021-11-14T13:53:59.787Z"
   },
   {
    "duration": 13,
    "start_time": "2021-11-14T13:53:59.803Z"
   },
   {
    "duration": 100,
    "start_time": "2021-11-14T13:53:59.817Z"
   },
   {
    "duration": 12,
    "start_time": "2021-11-14T13:53:59.919Z"
   },
   {
    "duration": 9,
    "start_time": "2021-11-14T13:53:59.933Z"
   },
   {
    "duration": 20,
    "start_time": "2021-11-14T13:53:59.944Z"
   },
   {
    "duration": 24,
    "start_time": "2021-11-14T13:53:59.966Z"
   },
   {
    "duration": 14,
    "start_time": "2021-11-14T13:53:59.992Z"
   },
   {
    "duration": 23,
    "start_time": "2021-11-14T13:54:00.008Z"
   },
   {
    "duration": 35,
    "start_time": "2021-11-14T13:54:00.033Z"
   },
   {
    "duration": 9,
    "start_time": "2021-11-14T13:54:00.070Z"
   },
   {
    "duration": 5,
    "start_time": "2021-11-14T13:54:00.081Z"
   },
   {
    "duration": 10,
    "start_time": "2021-11-14T13:54:00.088Z"
   },
   {
    "duration": 7,
    "start_time": "2021-11-14T13:54:00.100Z"
   },
   {
    "duration": 60,
    "start_time": "2021-11-14T18:29:21.770Z"
   },
   {
    "duration": 476,
    "start_time": "2021-11-15T03:49:20.022Z"
   },
   {
    "duration": 827,
    "start_time": "2021-11-15T03:49:46.556Z"
   },
   {
    "duration": 180,
    "start_time": "2021-11-15T03:49:47.387Z"
   },
   {
    "duration": 27,
    "start_time": "2021-11-15T03:49:51.724Z"
   },
   {
    "duration": 26,
    "start_time": "2021-11-15T03:50:01.225Z"
   },
   {
    "duration": 15,
    "start_time": "2021-11-15T03:52:16.495Z"
   },
   {
    "duration": 36,
    "start_time": "2021-11-15T03:53:19.257Z"
   },
   {
    "duration": 5,
    "start_time": "2021-11-15T04:07:42.289Z"
   },
   {
    "duration": 107,
    "start_time": "2021-11-15T04:17:24.249Z"
   },
   {
    "duration": 14,
    "start_time": "2021-11-15T04:20:18.287Z"
   },
   {
    "duration": 3,
    "start_time": "2021-11-15T04:33:46.313Z"
   },
   {
    "duration": 209,
    "start_time": "2021-11-15T04:33:46.319Z"
   },
   {
    "duration": 16,
    "start_time": "2021-11-15T04:33:46.531Z"
   },
   {
    "duration": 37,
    "start_time": "2021-11-15T04:33:46.561Z"
   },
   {
    "duration": 6,
    "start_time": "2021-11-15T04:33:46.601Z"
   },
   {
    "duration": 65,
    "start_time": "2021-11-15T04:33:46.610Z"
   },
   {
    "duration": 14,
    "start_time": "2021-11-15T04:33:46.679Z"
   },
   {
    "duration": 31,
    "start_time": "2021-11-15T04:33:46.696Z"
   },
   {
    "duration": 47,
    "start_time": "2021-11-15T04:33:46.731Z"
   },
   {
    "duration": 29,
    "start_time": "2021-11-15T04:33:46.781Z"
   },
   {
    "duration": 106,
    "start_time": "2021-11-15T04:33:46.813Z"
   },
   {
    "duration": 95,
    "start_time": "2021-11-15T04:33:46.921Z"
   },
   {
    "duration": 92,
    "start_time": "2021-11-15T04:33:47.018Z"
   },
   {
    "duration": 13,
    "start_time": "2021-11-15T04:33:47.112Z"
   },
   {
    "duration": 5,
    "start_time": "2021-11-15T04:33:47.127Z"
   },
   {
    "duration": 46,
    "start_time": "2021-11-15T04:33:47.134Z"
   },
   {
    "duration": 13,
    "start_time": "2021-11-15T04:33:47.183Z"
   },
   {
    "duration": 15,
    "start_time": "2021-11-15T04:33:47.199Z"
   },
   {
    "duration": 51,
    "start_time": "2021-11-15T04:33:47.216Z"
   },
   {
    "duration": 5,
    "start_time": "2021-11-15T04:33:47.270Z"
   },
   {
    "duration": 29,
    "start_time": "2021-11-15T04:33:47.277Z"
   },
   {
    "duration": 18,
    "start_time": "2021-11-15T04:33:47.308Z"
   },
   {
    "duration": 42,
    "start_time": "2021-11-15T04:33:47.328Z"
   },
   {
    "duration": 19,
    "start_time": "2021-11-15T04:33:47.374Z"
   },
   {
    "duration": 20,
    "start_time": "2021-11-15T04:33:47.395Z"
   },
   {
    "duration": 50,
    "start_time": "2021-11-15T04:33:47.417Z"
   },
   {
    "duration": 91,
    "start_time": "2021-11-15T04:33:47.473Z"
   },
   {
    "duration": 17,
    "start_time": "2021-11-15T04:33:47.567Z"
   },
   {
    "duration": 12,
    "start_time": "2021-11-15T04:33:47.587Z"
   },
   {
    "duration": 5,
    "start_time": "2021-11-15T04:33:47.602Z"
   },
   {
    "duration": 63,
    "start_time": "2021-11-15T04:33:47.609Z"
   },
   {
    "duration": 17,
    "start_time": "2021-11-15T04:33:47.675Z"
   },
   {
    "duration": 31,
    "start_time": "2021-11-15T04:33:47.694Z"
   },
   {
    "duration": 42,
    "start_time": "2021-11-15T04:33:47.727Z"
   },
   {
    "duration": 26,
    "start_time": "2021-11-15T04:33:47.772Z"
   },
   {
    "duration": 6,
    "start_time": "2021-11-15T04:33:47.800Z"
   },
   {
    "duration": 12,
    "start_time": "2021-11-15T04:33:47.808Z"
   },
   {
    "duration": 10,
    "start_time": "2021-11-15T04:33:47.822Z"
   },
   {
    "duration": 14,
    "start_time": "2021-11-15T04:38:32.998Z"
   },
   {
    "duration": 13,
    "start_time": "2021-11-15T04:39:04.614Z"
   },
   {
    "duration": 17,
    "start_time": "2021-11-15T04:39:29.292Z"
   },
   {
    "duration": 6,
    "start_time": "2021-11-15T04:41:17.104Z"
   },
   {
    "duration": 4,
    "start_time": "2021-11-15T04:41:47.194Z"
   },
   {
    "duration": 201,
    "start_time": "2021-11-15T04:41:47.200Z"
   },
   {
    "duration": 16,
    "start_time": "2021-11-15T04:41:47.404Z"
   },
   {
    "duration": 40,
    "start_time": "2021-11-15T04:41:47.422Z"
   },
   {
    "duration": 15,
    "start_time": "2021-11-15T04:41:47.465Z"
   },
   {
    "duration": 20,
    "start_time": "2021-11-15T04:41:47.483Z"
   },
   {
    "duration": 13,
    "start_time": "2021-11-15T04:41:47.505Z"
   },
   {
    "duration": 32,
    "start_time": "2021-11-15T04:41:47.521Z"
   },
   {
    "duration": 26,
    "start_time": "2021-11-15T04:41:47.558Z"
   },
   {
    "duration": 28,
    "start_time": "2021-11-15T04:41:47.587Z"
   },
   {
    "duration": 102,
    "start_time": "2021-11-15T04:41:47.618Z"
   },
   {
    "duration": 92,
    "start_time": "2021-11-15T04:41:47.723Z"
   },
   {
    "duration": 82,
    "start_time": "2021-11-15T04:41:47.818Z"
   },
   {
    "duration": 68,
    "start_time": "2021-11-15T04:41:47.903Z"
   },
   {
    "duration": 5,
    "start_time": "2021-11-15T04:41:47.974Z"
   },
   {
    "duration": 79,
    "start_time": "2021-11-15T04:41:47.982Z"
   },
   {
    "duration": 18,
    "start_time": "2021-11-15T04:41:48.063Z"
   },
   {
    "duration": 21,
    "start_time": "2021-11-15T04:41:48.084Z"
   },
   {
    "duration": 15,
    "start_time": "2021-11-15T04:41:48.108Z"
   },
   {
    "duration": 41,
    "start_time": "2021-11-15T04:41:48.125Z"
   },
   {
    "duration": 34,
    "start_time": "2021-11-15T04:41:48.168Z"
   },
   {
    "duration": 18,
    "start_time": "2021-11-15T04:41:48.205Z"
   },
   {
    "duration": 50,
    "start_time": "2021-11-15T04:41:48.226Z"
   },
   {
    "duration": 25,
    "start_time": "2021-11-15T04:41:48.279Z"
   },
   {
    "duration": 21,
    "start_time": "2021-11-15T04:41:48.307Z"
   },
   {
    "duration": 37,
    "start_time": "2021-11-15T04:41:48.331Z"
   },
   {
    "duration": 114,
    "start_time": "2021-11-15T04:41:48.374Z"
   },
   {
    "duration": 17,
    "start_time": "2021-11-15T04:41:48.491Z"
   },
   {
    "duration": 13,
    "start_time": "2021-11-15T04:41:48.511Z"
   },
   {
    "duration": 7,
    "start_time": "2021-11-15T04:41:48.526Z"
   },
   {
    "duration": 34,
    "start_time": "2021-11-15T04:41:48.561Z"
   },
   {
    "duration": 17,
    "start_time": "2021-11-15T04:41:48.597Z"
   },
   {
    "duration": 50,
    "start_time": "2021-11-15T04:41:48.616Z"
   },
   {
    "duration": 19,
    "start_time": "2021-11-15T04:41:48.671Z"
   },
   {
    "duration": 11,
    "start_time": "2021-11-15T04:41:48.692Z"
   },
   {
    "duration": 6,
    "start_time": "2021-11-15T04:41:48.706Z"
   },
   {
    "duration": 53,
    "start_time": "2021-11-15T04:41:48.714Z"
   },
   {
    "duration": 7,
    "start_time": "2021-11-15T04:41:48.770Z"
   },
   {
    "duration": 16,
    "start_time": "2021-11-15T04:44:26.335Z"
   },
   {
    "duration": 86,
    "start_time": "2021-11-15T04:44:46.937Z"
   },
   {
    "duration": 92,
    "start_time": "2021-11-15T04:44:50.494Z"
   },
   {
    "duration": 85,
    "start_time": "2021-11-15T04:44:55.684Z"
   },
   {
    "duration": 4,
    "start_time": "2021-11-15T04:45:27.573Z"
   },
   {
    "duration": 210,
    "start_time": "2021-11-15T04:45:27.579Z"
   },
   {
    "duration": 15,
    "start_time": "2021-11-15T04:45:27.792Z"
   },
   {
    "duration": 33,
    "start_time": "2021-11-15T04:45:27.810Z"
   },
   {
    "duration": 9,
    "start_time": "2021-11-15T04:45:27.861Z"
   },
   {
    "duration": 24,
    "start_time": "2021-11-15T04:45:27.873Z"
   },
   {
    "duration": 13,
    "start_time": "2021-11-15T04:45:27.899Z"
   },
   {
    "duration": 65,
    "start_time": "2021-11-15T04:45:27.915Z"
   },
   {
    "duration": 22,
    "start_time": "2021-11-15T04:45:27.984Z"
   },
   {
    "duration": 27,
    "start_time": "2021-11-15T04:45:28.009Z"
   },
   {
    "duration": 83,
    "start_time": "2021-11-15T04:45:28.060Z"
   },
   {
    "duration": 89,
    "start_time": "2021-11-15T04:45:28.159Z"
   },
   {
    "duration": 82,
    "start_time": "2021-11-15T04:45:28.258Z"
   },
   {
    "duration": 33,
    "start_time": "2021-11-15T04:45:28.342Z"
   },
   {
    "duration": 6,
    "start_time": "2021-11-15T04:45:28.378Z"
   },
   {
    "duration": 23,
    "start_time": "2021-11-15T04:45:28.387Z"
   },
   {
    "duration": 19,
    "start_time": "2021-11-15T04:45:28.412Z"
   },
   {
    "duration": 20,
    "start_time": "2021-11-15T04:45:28.460Z"
   },
   {
    "duration": 17,
    "start_time": "2021-11-15T04:45:28.483Z"
   },
   {
    "duration": 6,
    "start_time": "2021-11-15T04:45:28.503Z"
   },
   {
    "duration": 71,
    "start_time": "2021-11-15T04:45:28.512Z"
   },
   {
    "duration": 20,
    "start_time": "2021-11-15T04:45:28.586Z"
   },
   {
    "duration": 20,
    "start_time": "2021-11-15T04:45:28.609Z"
   },
   {
    "duration": 24,
    "start_time": "2021-11-15T04:45:28.661Z"
   },
   {
    "duration": 21,
    "start_time": "2021-11-15T04:45:28.687Z"
   },
   {
    "duration": 18,
    "start_time": "2021-11-15T04:45:28.710Z"
   },
   {
    "duration": 95,
    "start_time": "2021-11-15T04:45:28.771Z"
   },
   {
    "duration": 18,
    "start_time": "2021-11-15T04:45:28.870Z"
   },
   {
    "duration": 13,
    "start_time": "2021-11-15T04:45:28.891Z"
   },
   {
    "duration": 5,
    "start_time": "2021-11-15T04:45:28.907Z"
   },
   {
    "duration": 48,
    "start_time": "2021-11-15T04:45:28.915Z"
   },
   {
    "duration": 22,
    "start_time": "2021-11-15T04:45:28.971Z"
   },
   {
    "duration": 26,
    "start_time": "2021-11-15T04:45:28.995Z"
   },
   {
    "duration": 58,
    "start_time": "2021-11-15T04:45:29.024Z"
   },
   {
    "duration": 12,
    "start_time": "2021-11-15T04:45:29.085Z"
   },
   {
    "duration": 6,
    "start_time": "2021-11-15T04:45:29.099Z"
   },
   {
    "duration": 10,
    "start_time": "2021-11-15T04:45:29.107Z"
   },
   {
    "duration": 6,
    "start_time": "2021-11-15T04:45:29.119Z"
   },
   {
    "duration": 3,
    "start_time": "2021-11-15T04:50:25.015Z"
   },
   {
    "duration": 207,
    "start_time": "2021-11-15T04:50:25.021Z"
   },
   {
    "duration": 28,
    "start_time": "2021-11-15T04:50:25.231Z"
   },
   {
    "duration": 33,
    "start_time": "2021-11-15T04:50:25.262Z"
   },
   {
    "duration": 6,
    "start_time": "2021-11-15T04:50:25.298Z"
   },
   {
    "duration": 52,
    "start_time": "2021-11-15T04:50:25.307Z"
   },
   {
    "duration": 16,
    "start_time": "2021-11-15T04:50:25.369Z"
   },
   {
    "duration": 31,
    "start_time": "2021-11-15T04:50:25.390Z"
   },
   {
    "duration": 55,
    "start_time": "2021-11-15T04:50:25.424Z"
   },
   {
    "duration": 30,
    "start_time": "2021-11-15T04:50:25.482Z"
   },
   {
    "duration": 107,
    "start_time": "2021-11-15T04:50:25.515Z"
   },
   {
    "duration": 95,
    "start_time": "2021-11-15T04:50:25.624Z"
   },
   {
    "duration": 89,
    "start_time": "2021-11-15T04:50:25.722Z"
   },
   {
    "duration": 13,
    "start_time": "2021-11-15T04:50:25.813Z"
   },
   {
    "duration": 4,
    "start_time": "2021-11-15T04:50:25.829Z"
   },
   {
    "duration": 43,
    "start_time": "2021-11-15T04:50:25.835Z"
   },
   {
    "duration": 16,
    "start_time": "2021-11-15T04:50:25.880Z"
   },
   {
    "duration": 15,
    "start_time": "2021-11-15T04:50:25.898Z"
   },
   {
    "duration": 50,
    "start_time": "2021-11-15T04:50:25.915Z"
   },
   {
    "duration": 6,
    "start_time": "2021-11-15T04:50:25.967Z"
   },
   {
    "duration": 25,
    "start_time": "2021-11-15T04:50:25.975Z"
   },
   {
    "duration": 20,
    "start_time": "2021-11-15T04:50:26.003Z"
   },
   {
    "duration": 26,
    "start_time": "2021-11-15T04:50:26.069Z"
   },
   {
    "duration": 21,
    "start_time": "2021-11-15T04:50:26.098Z"
   },
   {
    "duration": 48,
    "start_time": "2021-11-15T04:50:26.122Z"
   },
   {
    "duration": 22,
    "start_time": "2021-11-15T04:50:26.174Z"
   },
   {
    "duration": 121,
    "start_time": "2021-11-15T04:50:26.198Z"
   },
   {
    "duration": 18,
    "start_time": "2021-11-15T04:50:26.322Z"
   },
   {
    "duration": 19,
    "start_time": "2021-11-15T04:50:26.360Z"
   },
   {
    "duration": 6,
    "start_time": "2021-11-15T04:50:26.382Z"
   },
   {
    "duration": 27,
    "start_time": "2021-11-15T04:50:26.391Z"
   },
   {
    "duration": 52,
    "start_time": "2021-11-15T04:50:26.421Z"
   },
   {
    "duration": 24,
    "start_time": "2021-11-15T04:50:26.476Z"
   },
   {
    "duration": 17,
    "start_time": "2021-11-15T04:50:26.502Z"
   },
   {
    "duration": 58,
    "start_time": "2021-11-15T04:50:26.521Z"
   },
   {
    "duration": 6,
    "start_time": "2021-11-15T04:50:26.582Z"
   },
   {
    "duration": 9,
    "start_time": "2021-11-15T04:50:26.590Z"
   },
   {
    "duration": 6,
    "start_time": "2021-11-15T04:50:26.602Z"
   },
   {
    "duration": 751,
    "start_time": "2021-11-15T04:50:39.373Z"
   },
   {
    "duration": 187,
    "start_time": "2021-11-15T04:50:40.127Z"
   },
   {
    "duration": 25,
    "start_time": "2021-11-15T04:50:40.317Z"
   },
   {
    "duration": 45,
    "start_time": "2021-11-15T04:50:40.345Z"
   },
   {
    "duration": 5,
    "start_time": "2021-11-15T04:50:40.393Z"
   },
   {
    "duration": 25,
    "start_time": "2021-11-15T04:50:40.400Z"
   },
   {
    "duration": 44,
    "start_time": "2021-11-15T04:50:40.427Z"
   },
   {
    "duration": 35,
    "start_time": "2021-11-15T04:50:40.474Z"
   },
   {
    "duration": 23,
    "start_time": "2021-11-15T04:50:40.513Z"
   },
   {
    "duration": 32,
    "start_time": "2021-11-15T04:50:40.568Z"
   },
   {
    "duration": 99,
    "start_time": "2021-11-15T04:50:40.602Z"
   },
   {
    "duration": 105,
    "start_time": "2021-11-15T04:50:40.703Z"
   },
   {
    "duration": 86,
    "start_time": "2021-11-15T04:50:40.811Z"
   },
   {
    "duration": 13,
    "start_time": "2021-11-15T04:50:40.900Z"
   },
   {
    "duration": 5,
    "start_time": "2021-11-15T04:50:40.915Z"
   },
   {
    "duration": 52,
    "start_time": "2021-11-15T04:50:40.923Z"
   },
   {
    "duration": 18,
    "start_time": "2021-11-15T04:50:40.978Z"
   },
   {
    "duration": 17,
    "start_time": "2021-11-15T04:50:40.999Z"
   },
   {
    "duration": 46,
    "start_time": "2021-11-15T04:50:41.019Z"
   },
   {
    "duration": 5,
    "start_time": "2021-11-15T04:50:41.067Z"
   },
   {
    "duration": 52,
    "start_time": "2021-11-15T04:50:41.075Z"
   },
   {
    "duration": 25,
    "start_time": "2021-11-15T04:50:41.130Z"
   },
   {
    "duration": 34,
    "start_time": "2021-11-15T04:50:41.158Z"
   },
   {
    "duration": 22,
    "start_time": "2021-11-15T04:50:41.195Z"
   },
   {
    "duration": 21,
    "start_time": "2021-11-15T04:50:41.219Z"
   },
   {
    "duration": 36,
    "start_time": "2021-11-15T04:50:41.242Z"
   },
   {
    "duration": 103,
    "start_time": "2021-11-15T04:50:41.283Z"
   },
   {
    "duration": 16,
    "start_time": "2021-11-15T04:50:41.388Z"
   },
   {
    "duration": 12,
    "start_time": "2021-11-15T04:50:41.406Z"
   },
   {
    "duration": 12,
    "start_time": "2021-11-15T04:50:41.420Z"
   },
   {
    "duration": 68,
    "start_time": "2021-11-15T04:50:41.434Z"
   },
   {
    "duration": 27,
    "start_time": "2021-11-15T04:50:41.504Z"
   },
   {
    "duration": 36,
    "start_time": "2021-11-15T04:50:41.533Z"
   },
   {
    "duration": 27,
    "start_time": "2021-11-15T04:50:41.571Z"
   },
   {
    "duration": 14,
    "start_time": "2021-11-15T04:50:41.601Z"
   },
   {
    "duration": 9,
    "start_time": "2021-11-15T04:50:41.617Z"
   },
   {
    "duration": 18,
    "start_time": "2021-11-15T04:50:41.629Z"
   },
   {
    "duration": 19,
    "start_time": "2021-11-15T04:50:41.650Z"
   }
  ],
  "colab": {
   "collapsed_sections": [
    "E0vqbgi9ay0H",
    "VUC88oWjTJw2"
   ],
   "name": "yandex_music_project_2021.2.ipynb",
   "provenance": []
  },
  "kernelspec": {
   "display_name": "Python 3 (ipykernel)",
   "language": "python",
   "name": "python3"
  },
  "language_info": {
   "codemirror_mode": {
    "name": "ipython",
    "version": 3
   },
   "file_extension": ".py",
   "mimetype": "text/x-python",
   "name": "python",
   "nbconvert_exporter": "python",
   "pygments_lexer": "ipython3",
   "version": "3.8.8"
  },
  "toc": {
   "base_numbering": 1,
   "nav_menu": {},
   "number_sections": true,
   "sideBar": true,
   "skip_h1_title": true,
   "title_cell": "Table of Contents",
   "title_sidebar": "Contents",
   "toc_cell": false,
   "toc_position": {},
   "toc_section_display": true,
   "toc_window_display": true
  }
 },
 "nbformat": 4,
 "nbformat_minor": 1
}
